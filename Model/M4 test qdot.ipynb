{
 "cells": [
  {
   "cell_type": "code",
   "execution_count": 65,
   "metadata": {},
   "outputs": [],
   "source": [
    "import numpy as np\n",
    "import matplotlib.pyplot as plt\n",
    "import plotly.graph_objects as go\n",
    "import plotly.express as px\n",
    "from scipy.special import expit\n",
    "\n"
   ]
  },
  {
   "cell_type": "code",
   "execution_count": 66,
   "metadata": {},
   "outputs": [],
   "source": [
    "## GENERAL FUNCTIONS\n",
    "\n",
    "##### definition of the logistic function\n",
    "def step(T1, T2):\n",
    "    m = 1 # miu in paper 4_1D.. is set to 1\n",
    "    # s = 1/(1 + np.exp(-m*(T1-T2))) # UNSTABLE\n",
    "    #s = expit(m * (T1 - T2))\n",
    "    #return s\n",
    "    T1 = np.asarray(T1)\n",
    "    T2 = np.asarray(T2)\n",
    "    \n",
    "    return np.where(T1 >= T2, 1, 0)\n",
    "\n",
    "def plot_results_time(results, dt, graph_title):\n",
    "    # Create traces for each layer\n",
    "    traces = []\n",
    "    for i, temp_array in enumerate(np.array(results).T):\n",
    "        time_passed = dt * np.arange(len(temp_array))  # Calculate the time passed for each time step\n",
    "        trace = go.Scatter(\n",
    "            x=time_passed,  # Use time_passed as x-axis values\n",
    "            y=temp_array,\n",
    "            mode='lines',\n",
    "            name=f'Layer {i}'\n",
    "        )\n",
    "        traces.append(trace)\n",
    "\n",
    "    # Create the plot layout\n",
    "    layout = go.Layout(\n",
    "        title=graph_title,\n",
    "        xaxis=dict(title='Time Passed (s)'),  # Update x-axis title\n",
    "        yaxis=dict(title='Temperature'),\n",
    "    )\n",
    "\n",
    "    # Create the figure and plot it\n",
    "    fig = go.Figure(data=traces, layout=layout)\n",
    "    fig.show()\n",
    "\n",
    "\n",
    "\n",
    "\n",
    "\n",
    "##### definition of plot: layer temperatures over the height for different times\n",
    "\n",
    "def plot_results_height(results, heights, dt, z, dz, graph_title):\n",
    "    # Create traces for each time step\n",
    "    traces = []\n",
    "    for i, temp_array in enumerate(results):\n",
    "        time_passed = dt * i\n",
    "        trace = go.Scatter(\n",
    "            x=heights,\n",
    "            y=temp_array,\n",
    "            mode='lines',\n",
    "            name=f'{time_passed} seconds'\n",
    "        )\n",
    "        traces.append(trace)\n",
    "        \n",
    "    # Create shapes for vertical dotted lines at intervals of dz\n",
    "    vertical_lines_x = list(np.arange(dz, z, dz))  # Adjusted range\n",
    "    shapes = [{\n",
    "        'type': 'line',\n",
    "        'x0': x,\n",
    "        'x1': x,\n",
    "        'y0': 0,\n",
    "        'y1': 1,\n",
    "        'xref': 'x',\n",
    "        'yref': 'paper',\n",
    "        'line': {\n",
    "            'color': 'grey',\n",
    "            'width': 1,\n",
    "            'dash': 'dot'\n",
    "        }\n",
    "    } for x in vertical_lines_x]\n",
    "    \n",
    "    # Create the plot layout\n",
    "    layout = go.Layout(\n",
    "        title=graph_title,\n",
    "        xaxis=dict(title='Height', range=[0, z]),  # Adjust x-axis range from 0 to z\n",
    "        yaxis=dict(title='Temperature'), #, range=[0, 100]),\n",
    "        legend=dict(title='Time Passed'),\n",
    "        shapes=shapes\n",
    "    )\n",
    "\n",
    "    # Create the figure and plot it\n",
    "    fig = go.Figure(data=traces, layout=layout)\n",
    "    fig.show()"
   ]
  },
  {
   "cell_type": "code",
   "execution_count": 67,
   "metadata": {},
   "outputs": [],
   "source": [
    "############### Definitons for the model 0 (heat diffusion)\n",
    "\n",
    "class HeatDistributionVector_model0:\n",
    "    def __init__(self, alpha, z, T_initial, dt):\n",
    "        self.alpha = alpha                           # heat diffusivity\n",
    "        self.z = z                                   # height of the tank\n",
    "        self.num_layers = len(T_initial)             # number of layers (steps in space)\n",
    "        self.dt = dt                                 # step size in time (time step)\n",
    "        self.T_initial = np.array(T_initial)         # initial state of the temperatures along the tank [list] !!! Same lenght as num_layers\n",
    "        \n",
    "        self.dz = z / self.num_layers                # step size in space (delta z, height of a layer) is total height/number of layers, num_layers = how big the initial temperature vector is\n",
    "        # Create a \n",
    "        self.heights = [i * self.dz + self.dz/2 for i in range(len(T_initial))]     # list representing the height of the tank for plotting the temperatures in the middle of each layer\n",
    "  \n",
    "\n",
    "\n",
    " # definition of the solver for the temperature vector in the next time step       \n",
    "    def vector_solve(self, num_steps):\n",
    "        T_old = np.copy(self.T_initial)\n",
    "        results = [T_old.copy()]                    # Store initial temperature array\n",
    "\n",
    "        for _ in range(num_steps):\n",
    "\n",
    "            T_new = np.copy(T_old)\n",
    "\n",
    "            T_old_next = np.roll(T_old, -1)         # roll every i by -1 so that the \"next\" i is selected\n",
    "            T_old_prev = np.roll(T_old, 1)          # roll every i by 1 so that the \"previous\" i is selected\n",
    "            \n",
    "            # Apply heat transfer equation for model 0\n",
    "            T_new = (T_old \n",
    "                     + ((self.alpha) * (T_old_next - (2*T_old) + T_old_prev) / (self.dz**2))\n",
    "                     * self.dt\n",
    "                     )\n",
    "            \n",
    "            # Boundary conditions\n",
    "            T_new[0] = (T_old[0]\n",
    "                         + ((self.alpha) * (T_old[1] - (2*T_old[0]) + T_old[0]) / (self.dz**2))                 # assuming no heat exchange in the boundary, the tmeperature \"outside\" of the tank (T_old_prev of first entry) would be the same as inside of the tank (T[0])\n",
    "                         * self.dt\n",
    "                         )     \n",
    "              \n",
    "            T_new[-1] = (T_old[-1]\n",
    "                          + ((self.alpha) * (T_old[-1] - (2*T_old[-1]) + T_old[-2]) / (self.dz**2))             # assuming no heat exchange in the boundary, the tmeperature \"outside\" of the tank (T_old_next of last entry) would be the same as inside of the tank T[-1]\n",
    "                          * self.dt\n",
    "                          )   \n",
    "\n",
    "            T_old = np.copy(T_new) # return the new temperature as old temperature for the next iteration\n",
    "\n",
    "            results.append(T_old.copy())            # Store the updated temperature array fo later plot\n",
    "\n",
    "        return T_old, results\n",
    "    \n",
    " # check the stability of the model with the selected dt\n",
    "    def stability_check(self):\n",
    "        # check if the time step dt is small enough with CFL condition: dt <= (dz^2) / (2 * alpha)\n",
    "        cfl_dt_max = (self.dz ** 2) / (2 * self.alpha)\n",
    "        if self.dt > cfl_dt_max:\n",
    "            print(f\"Warning: Time step size dt {self.dt} exceeds CFL stability limit ({cfl_dt_max}).\")\n",
    "            sc = 1\n",
    "        else:\n",
    "            sc = 0\n",
    "        return sc\n",
    "    "
   ]
  },
  {
   "cell_type": "code",
   "execution_count": 68,
   "metadata": {},
   "outputs": [],
   "source": [
    "############### Definitons for the model 2 (losses and charging/discharging)\n",
    "class HeatDistributionVector_model2:\n",
    "    def __init__(self, alpha, beta_i, beta_bottom, beta_top, lambda_i, phi_i, z, T_a, T_initial, dt, Qdot, mdot, Tm):\n",
    "        self.alpha = alpha                           # heat diffusivity\n",
    "        self.beta_i = beta_i                         # heat loss coefficient to the ambient in the inner layers\n",
    "        self.beta_bottom = beta_bottom               # heat loss coefficient to the ambient at the bottom layer (i=0)\n",
    "        self.beta_top = beta_top                     # heat loss coefficient to the ambient at the top layer (i=-1)\n",
    "        self.lambda_i = lambda_i                     # coefficient of the input heat\n",
    "        self.phi_i = phi_i                           # coefficient of the input flow/stream\n",
    "        \n",
    "        self.z = z                                   # height of the tank\n",
    "        self.num_layers = len(T_initial)             # number of layers (steps in space)\n",
    "        self.dt = dt                                 # step size in time (time step)\n",
    "\n",
    "        self.T_initial = np.array(T_initial)         # initial state of the temperatures along the tank [list] !!! Same lenght as num_layers\n",
    "        self.T_a = T_a                               # ambient temperature outside of the tank\n",
    "        self.Qdot= Qdot                              # vector conaining the Q_i of each layer\n",
    "        self.mdot = mdot                             # vector conaining the streams flowing into /out of the tank mdot_i of each layer\n",
    "        self.Tm = Tm                                 # vector containing the temperatures of the streams flowing in/out of the tank (each mdot_i has a Tm_i)\n",
    "\n",
    "        \n",
    "        self.dz = z / self.num_layers                # step size in space (delta z, height of a layer) is total height/number of layers, num_layers = how big the initial temperature vector is\n",
    "        # Create a \n",
    "        self.heights = [i * self.dz + self.dz/2 for i in range(len(T_initial))]     # list representing the height of the tank for plotting the temperatures in the middle of each layer\n",
    "  \n",
    "\n",
    "\n",
    " # definition of the solver for the temperature vector in the next time step       \n",
    "    def vector_solve(self, num_steps):\n",
    "        T_old = np.copy(self.T_initial)\n",
    "        results = [T_old.copy()]                    # Store initial temperature array\n",
    "\n",
    "        for _ in range(num_steps):\n",
    "\n",
    "            T_new = np.copy(T_old)\n",
    "\n",
    "            T_old_next = np.roll(T_old, -1)         # roll every i by -1 so that the \"next\" i is selected\n",
    "            T_old_prev = np.roll(T_old, 1)          # roll every i by 1 so that the \"previous\" i is selected\n",
    "            \n",
    "            # Apply heat transfer equation for model 0\n",
    "            T_new = (T_old\n",
    "                      + (((self.alpha) * (T_old_next - (2*T_old) + T_old_prev) / (self.dz**2))  # diffusion between layers\n",
    "                      + (self.beta_i * (self.T_a - T_old))                                      # losses to the ambient\n",
    "                      + ((self.lambda_i/self.dz) * self.Qdot)                                   # indirect heat input (heat exchanger)\n",
    "                      + ((self.phi_i/self.dz) * self.mdot * (self.Tm - T_old))                  # direct heat input (stream)\n",
    "                      )* self.dt)\n",
    "            \n",
    "            # Boundary conditions\n",
    "            T_new[0] = (T_old[0]\n",
    "                         + (((self.alpha) * (T_old[1] - (2*T_old[0]) + T_old[0]) / (self.dz**2))\n",
    "                         + ((self.beta_i + self.beta_bottom) * (self.T_a - T_old[0]))\n",
    "                         + ((self.lambda_i/self.dz) * self.Qdot[0])\n",
    "                         + ((self.phi_i/self.dz) * self.mdot[0] * (self.Tm[0] - T_old[0]))  \n",
    "                         )* self.dt)        # heat loss through sides of the tank (beta_i) and through the floor (beta_bottom)\n",
    "            \n",
    "            T_new[-1] = (T_old[-1]\n",
    "                          + (((self.alpha) * (T_old[-1] - (2*T_old[-1]) + T_old[-2]) / (self.dz**2))\n",
    "                          + ((self.beta_i + self.beta_top)* (self.T_a - T_old[-1])) \n",
    "                          + ((self.lambda_i/self.dz) * self.Qdot[-1])\n",
    "                          + ((self.phi_i/self.dz) * self.mdot[-1] * (self.Tm[-1] - T_old[-1]))\n",
    "                          )* self.dt)       # heat loss through sides of the tank (beta_i) and through ceiling (beta_top)\n",
    "\n",
    "            T_old = np.copy(T_new) # return the new temperature as old temperature for the next iteration\n",
    "\n",
    "            results.append(T_old.copy())            # Store the updated temperature array fo later plot\n",
    "\n",
    "        return T_old, results # final temperature vector, matrix with vectors for all time steps\n",
    "     \n",
    " # check the stability of the model with the selected dt\n",
    "    def stability_check(self):\n",
    "        # check if the time step dt is small enough with CFL condition: dt <= (dz^2) / (2 * alpha)\n",
    "        cfl_dt_max = (self.dz ** 2) / (2 * self.alpha)\n",
    "        if self.dt > cfl_dt_max:\n",
    "            print(f\"Warning: Time step size dt {self.dt} exceeds CFL stability limit ({cfl_dt_max}).\")\n",
    "            sc = 1\n",
    "        else:\n",
    "            sc = 0\n",
    "        return sc\n",
    "    \n"
   ]
  },
  {
   "cell_type": "code",
   "execution_count": 69,
   "metadata": {},
   "outputs": [],
   "source": [
    "############### Definitons for the model 3 (slow buoyancy)\n",
    "class HeatDistributionVector_model3:\n",
    "    def __init__(self, alpha, beta_i, beta_bottom, beta_top, lambda_i, phi_i, z, T_a, T_initial, dt, Qdot, mdot, Tm):\n",
    "        \n",
    "        self.alpha = alpha                           # heat diffusivity\n",
    "        \n",
    "        self.beta_i = beta_i                         # heat loss coefficient to the ambient in the inner layers\n",
    "        self.beta_bottom = beta_bottom               # heat loss coefficient to the ambient at the bottom layer (i=0)\n",
    "        self.beta_top = beta_top                     # heat loss coefficient to the ambient at the top layer (i=-1)\n",
    "        \n",
    "        self.lambda_i = lambda_i                     # coefficient of the input heat\n",
    "        self.Qdot= Qdot                              # vector conaining the Q_i of each layer    \n",
    "        \n",
    "        self.phi_i = phi_i                           # coefficient of the input flow/stream\n",
    "        self.mdot = mdot                             # vector conaining the streams flowing into /out of the tank mdot_i of each layer\n",
    "        self.Tm = Tm                                 # vector containing the temperatures of the streams flowing in/out of the tank (each mdot_i has a Tm_i)\n",
    "\n",
    "        self.z = z                                   # height of the tank\n",
    "        self.num_layers = len(T_initial)             # number of layers (steps in space)\n",
    "        self.dz = z / self.num_layers                # step size in space (delta z, height of a layer) is total height/number of layers, num_layers = how big the initial temperature vector is\n",
    "        self.heights = [i * self.dz + self.dz/2 for i in range(len(T_initial))]     # list representing the height of the tank for plotting the temperatures in the middle of each layer\n",
    "\n",
    "        self.dt = dt                                 # step size in time (time step)\n",
    "\n",
    "        self.T_initial = np.array(T_initial)         # initial state of the temperatures along the tank [list] !!! Same lenght as num_layers\n",
    "        self.T_a = T_a                               # ambient temperature outside of the tank\n",
    "\n",
    "     \n",
    "\n",
    "\n",
    " # definition of the solver for the temperature vector in the next time step       \n",
    "    def vector_solve(self, num_steps):\n",
    "        T_old = np.copy(self.T_initial)\n",
    "        results = [T_old.copy()]                    # Store initial temperature array\n",
    "\n",
    "        for _ in range(num_steps):\n",
    "\n",
    "            T_new = np.copy(T_old)\n",
    "\n",
    "            T_old_next = np.roll(T_old, -1)         # roll every i by -1 so that the \"next\" i is selected\n",
    "            T_old_prev = np.roll(T_old, 1)          # roll every i by 1 so that the \"previous\" i is selected\n",
    "            \n",
    "            # Apply heat transfer equation for model 0\n",
    "            T_new = (T_old\n",
    "                      + (((self.alpha) * (T_old_next - (2*T_old) + T_old_prev) / (self.dz**2))      # diffusion between layers\n",
    "                      + (self.beta_i * (self.T_a - T_old))                                          # losses to the ambient\n",
    "                      + ((self.lambda_i/self.dz) * self.Qdot)                                       # indirect heat input (heat exchanger)\n",
    "                      + ((self.phi_i/self.dz) * self.mdot * (self.Tm - T_old))                      # direct heat input (stream)\n",
    "                      )* self.dt\n",
    "                      + 0.5 * ((1/10) * np.logaddexp(0, 10 * (T_old_prev - T_old)))                 # slow buoyancy of the layer i-1 to i (temperature of i rises) [with np.log -> overflow encountered]\n",
    "                      - 0.5 * ((1/10) * np.logaddexp(0, 10 * (T_old - T_old_next)))                 # slow buoyancy of the layer i to i+1 (temperature of i decreases) [with np.log -> overflow encountered]\n",
    "                    )\n",
    "            \n",
    "            ### Boundary conditions\n",
    "            # bottom of the tank\n",
    "            T_new[0] = (T_old[0]                                              \n",
    "                         + (((self.alpha) * (T_old[1] - (2*T_old[0]) + T_old[0]) / (self.dz**2))\n",
    "                         + ((self.beta_i + self.beta_bottom) * (self.T_a - T_old[0]))               # heat loss through sides of the tank (beta_i) and through the floor (beta_bottom)\n",
    "                         + ((self.lambda_i/self.dz) * self.Qdot[0])\n",
    "                         + ((self.phi_i/self.dz) * self.mdot[0] * (self.Tm[0] - T_old[0]))  \n",
    "                         )* self.dt\n",
    "                         - 0.5 * ((1/10) * np.logaddexp(0, 10 * (T_old[0] - T_old[1])))  # slow buoyancy from the bottom layer to the above layer\n",
    "                         )        \n",
    "            \n",
    "            # top of the tank\n",
    "            T_new[-1] = (T_old[-1]                                                              \n",
    "                          + (((self.alpha) * (T_old[-1] - (2*T_old[-1]) + T_old[-2]) / (self.dz**2))\n",
    "                          + ((self.beta_i + self.beta_top)* (self.T_a - T_old[-1]))                 # heat loss through sides of the tank (beta_i) and through ceiling (beta_top)\n",
    "                          + ((self.lambda_i/self.dz) * self.Qdot[-1])\n",
    "                          + ((self.phi_i/self.dz) * self.mdot[-1] * (self.Tm[-1] - T_old[-1]))\n",
    "                          )* self.dt\n",
    "                          + 0.5 * ((1/10) * np.logaddexp(0, 10 * (T_old[-2] - T_old[-1])))  # slow buoyancy to the top layer from the below layer\n",
    "                          )       \n",
    "\n",
    "            T_old = np.copy(T_new) # return the new temperature as old temperature for the next iteration\n",
    "\n",
    "            results.append(T_old.copy())            # Store the updated temperature array fo later plot\n",
    "\n",
    "        return T_old, results\n",
    "     \n",
    " # check the stability of the model with the selected dt\n",
    "    def stability_check(self):\n",
    "        # check if the time step dt is small enough with CFL condition: dt <= (dz^2) / (2 * alpha)\n",
    "        cfl_dt_max = (self.dz ** 2) / (2 * self.alpha)\n",
    "        if self.dt > cfl_dt_max:\n",
    "            print(f\"Warning: Time step size dt {self.dt} exceeds CFL stability limit ({cfl_dt_max}).\")\n",
    "            sc = 1\n",
    "        else:\n",
    "            sc = 0\n",
    "        return sc\n",
    "    \n",
    "\n"
   ]
  },
  {
   "cell_type": "markdown",
   "metadata": {},
   "source": [
    "### Model 4: Buoyancy through Heat exchange"
   ]
  },
  {
   "cell_type": "code",
   "execution_count": 70,
   "metadata": {},
   "outputs": [],
   "source": [
    "############### Definitons for the model 4a (charging - fast buoyancy indirect)\n",
    "class HeatDistributionVector_model4a:\n",
    "    def __init__(self, alpha, beta_i, beta_bottom, beta_top, lambda_i, phi_i, z, T_a, T_initial, dt, Qdot_char, mdot, Tm):\n",
    "        \n",
    "        self.alpha = alpha                           # heat diffusivity\n",
    "        \n",
    "        self.beta_i = beta_i                         # heat loss coefficient to the ambient in the inner layers\n",
    "        self.beta_bottom = beta_bottom               # heat loss coefficient to the ambient at the bottom layer (i=0)\n",
    "        self.beta_top = beta_top                     # heat loss coefficient to the ambient at the top layer (i=-1)\n",
    "        \n",
    "        self.lambda_i = lambda_i                     # coefficient of the input heat\n",
    "        self.Qdot_char= Qdot_char                    # vector conaining the charging Q_i of each layer (>0)    \n",
    "        \n",
    "        self.phi_i = phi_i                           # coefficient of the input flow/stream\n",
    "        self.mdot = mdot                             # vector conaining the streams flowing into /out of the tank mdot_i of each layer\n",
    "        self.Tm = Tm                                 # vector containing the temperatures of the streams flowing in/out of the tank (each mdot_i has a Tm_i)\n",
    "\n",
    "        self.z = z                                   # height of the tank\n",
    "        self.num_layers = len(T_initial)             # number of layers (steps in space)\n",
    "        self.dz = z / self.num_layers                # step size in space (delta z, height of a layer) is total height/number of layers, num_layers = how big the initial temperature vector is\n",
    "        self.heights = [i * self.dz + self.dz/2 for i in range(len(T_initial))]     # list representing the height of the tank for plotting the temperatures in the middle of each layer\n",
    "\n",
    "        self.dt = dt                                 # step size in time (time step)\n",
    "\n",
    "        self.T_initial = np.array(T_initial)         # initial state of the temperatures along the tank [list] !!! Same lenght as num_layers\n",
    "        self.T_a = T_a                               # ambient temperature outside of the tank\n",
    "\n",
    "     \n",
    " # definition of the solver for the temperature vector in the next time step       \n",
    "    def vector_solve(self, num_steps):\n",
    "        T_old = np.copy(self.T_initial)\n",
    "        results = [T_old.copy()]                    # Store initial temperature array\n",
    "\n",
    "        for _ in range(num_steps):\n",
    "\n",
    "            T_new = np.copy(T_old)\n",
    "\n",
    "            T_old_next = np.roll(T_old, -1)         # roll every i by -1 so that the \"next\" i is selected\n",
    "            T_old_prev = np.roll(T_old, 1)          # roll every i by 1 so that the \"previous\" i is selected\n",
    "            \n",
    "            # INDIRECT CHARGING: Calculate Qdot_prime_char, the actual amount of heat transferred to layer i through heat exchange in and below layer i (due to buoyancy)\n",
    "            Qdot_prime_char = np.zeros(self.num_layers)  # initiate vector with length like number of layers\n",
    "\n",
    "            for i in range(self.num_layers):                    # iterate over all layers to calculate the actual heat of each layer Qdot_prime_char[0, 1, 2...]\n",
    "                Qdot_sum_char = 0                                    # initiale the sum factor for calculating Qdot_prime_charge i\n",
    "\n",
    "                for l in range(i+1):                            # iterate l from bottom layer (o) until current layer i (incl) to evaluate how heat inserted below in l affects layer i if buoyancy is present\n",
    "                    nom=0                                           # initialize nominator for inspection of heat in layer l in relationship to layer i\n",
    "                    den=0                                       # initialize denominator for inspection of heat in layer l in relationship to layer i\n",
    "\n",
    "                    nom= step(T_old[l], T_old[i])                # evaluate if heat transfer is available (1) or not (0) with Step ----- Tl>=Ti -> 1, layer below is hoter than i\n",
    "\n",
    "                    for j in range(l, self.num_layers):       # iterate over layers starting from l and above until top of tank to evaluate the share of heat in layer l (homogenous distribution)\n",
    "                        den += step(T_old[l], T_old[j])          # sum up to calculate the denominator and thus the share\n",
    "                    den = np.where(den == 0, 1, den)                  # prevent divisions by 0    \n",
    "                    Qdot_sum_char += self.Qdot_char[l] * nom / den    # amount of heat transfered to layer i is the sum of all heat below layer i and its share that have buoyancy effects    \n",
    "                    \n",
    "                Qdot_prime_char[i] = Qdot_sum_char\n",
    "\n",
    "            # Apply heat transfer equation for model 0\n",
    "            T_new = (T_old\n",
    "                      + (((self.alpha) * (T_old_next - (2*T_old) + T_old_prev) / (self.dz**2))      # diffusion between layers\n",
    "                      + (self.beta_i * (self.T_a - T_old))                                          # losses to the ambient\n",
    "                      + ((self.lambda_i/self.dz) * Qdot_prime_char)                                 # indirect heat charging including fast buoyancy of other layers\n",
    "                     # + ((self.lambda_i/self.dz) * Qdot_prime_dischar)                              # indirect heat discharging including fast buoyancy of other layers\n",
    "                      + ((self.phi_i/self.dz) * self.mdot * (self.Tm - T_old))                      # direct heat input (stream)\n",
    "                      )* self.dt\n",
    "                      + 0.5 * ((1/10) * np.logaddexp(0, 10 * (T_old_prev - T_old)))                 # slow buoyancy of the layer i-1 to i (temperature of i rises) [with np.log -> overflow encountered]\n",
    "                      - 0.5 * ((1/10) * np.logaddexp(0, 10 * (T_old - T_old_next)))                 # slow buoyancy of the layer i to i+1 (temperature of i decreases) [with np.log -> overflow encountered]\n",
    "                    )\n",
    "            \n",
    "            ### Boundary conditions\n",
    "            # bottom of the tank\n",
    "            T_new[0] = (T_old[0]                                              \n",
    "                         + (((self.alpha) * (T_old[1] - (2*T_old[0]) + T_old[0]) / (self.dz**2))\n",
    "                         + ((self.beta_i + self.beta_bottom) * (self.T_a - T_old[0]))               # heat loss through sides of the tank (beta_i) and through the floor (beta_bottom)\n",
    "                         + ((self.lambda_i/self.dz) * Qdot_prime_char[0])\n",
    "                         + ((self.phi_i/self.dz) * self.mdot[0] * (self.Tm[0] - T_old[0]))  \n",
    "                         )* self.dt\n",
    "                         - 0.5 * ((1/10) * np.logaddexp(0, 10 * (T_old[0] - T_old[1])))  # slow buoyancy from the bottom layer to the above layer\n",
    "                         )        \n",
    "            \n",
    "            # top of the tank\n",
    "            T_new[-1] = (T_old[-1]                                                              \n",
    "                          + (((self.alpha) * (T_old[-1] - (2*T_old[-1]) + T_old[-2]) / (self.dz**2))\n",
    "                          + ((self.beta_i + self.beta_top)* (self.T_a - T_old[-1]))                 # heat loss through sides of the tank (beta_i) and through ceiling (beta_top)\n",
    "                          + ((self.lambda_i/self.dz) * Qdot_prime_char[-1])\n",
    "                          + ((self.phi_i/self.dz) * self.mdot[-1] * (self.Tm[-1] - T_old[-1]))\n",
    "                          )* self.dt\n",
    "                          + 0.5 * ((1/10) * np.logaddexp(0, 10 * (T_old[-2] - T_old[-1])))  # slow buoyancy to the top layer from the below layer\n",
    "                          )       \n",
    "\n",
    "            T_old = np.copy(T_new) # return the new temperature as old temperature for the next iteration\n",
    "\n",
    "            results.append(T_old.copy())            # Store the updated temperature array fo later plot\n",
    "\n",
    "        return T_old, results\n",
    "     \n",
    " # check the stability of the model with the selected dt\n",
    "    def stability_check(self):\n",
    "        # check if the time step dt is small enough with CFL condition: dt <= (dz^2) / (2 * alpha)\n",
    "        cfl_dt_max = (self.dz ** 2) / (2 * self.alpha)\n",
    "        if self.dt > cfl_dt_max:\n",
    "            print(f\"Warning: Time step size dt {self.dt} exceeds CFL stability limit ({cfl_dt_max}).\")\n",
    "            sc = 1\n",
    "        else:\n",
    "            sc = 0\n",
    "        return sc\n",
    "    \n",
    "\n"
   ]
  },
  {
   "cell_type": "code",
   "execution_count": 71,
   "metadata": {},
   "outputs": [],
   "source": [
    "############### Definitons for the model 4b (discharging - fast buoyancy indirect)\n",
    "class HeatDistributionVector_model4b:\n",
    "    def __init__(self, alpha, beta_i, beta_bottom, beta_top, lambda_i, phi_i, z, T_a, T_initial, dt, Qdot_dischar, mdot, Tm):\n",
    "        \n",
    "        self.alpha = alpha                           # heat diffusivity\n",
    "        \n",
    "        self.beta_i = beta_i                         # heat loss coefficient to the ambient in the inner layers\n",
    "        self.beta_bottom = beta_bottom               # heat loss coefficient to the ambient at the bottom layer (i=0)\n",
    "        self.beta_top = beta_top                     # heat loss coefficient to the ambient at the top layer (i=-1)\n",
    "        \n",
    "        self.lambda_i = lambda_i                     # coefficient of the input heat\n",
    "        self.Qdot_dischar = Qdot_dischar            # vector conaining the discharging Q_i (<0) of each layer    \n",
    "        \n",
    "        self.phi_i = phi_i                           # coefficient of the input flow/stream\n",
    "        self.mdot = mdot                             # vector conaining the streams flowing into /out of the tank mdot_i of each layer\n",
    "        self.Tm = Tm                                 # vector containing the temperatures of the streams flowing in/out of the tank (each mdot_i has a Tm_i)\n",
    "\n",
    "        self.z = z                                   # height of the tank\n",
    "        self.num_layers = len(T_initial)             # number of layers (steps in space)\n",
    "        self.dz = z / self.num_layers                # step size in space (delta z, height of a layer) is total height/number of layers, num_layers = how big the initial temperature vector is\n",
    "        self.heights = [i * self.dz + self.dz/2 for i in range(len(T_initial))]     # list representing the height of the tank for plotting the temperatures in the middle of each layer\n",
    "\n",
    "        self.dt = dt                                 # step size in time (time step)\n",
    "\n",
    "        self.T_initial = np.array(T_initial)         # initial state of the temperatures along the tank [list] !!! Same lenght as num_layers\n",
    "        self.T_a = T_a                               # ambient temperature outside of the tank\n",
    "\n",
    "     \n",
    " # definition of the solver for the temperature vector in the next time step       \n",
    "    def vector_solve(self, num_steps):\n",
    "        T_old = np.copy(self.T_initial)\n",
    "        results = [T_old.copy()]                    # Store initial temperature array\n",
    "\n",
    "        for _ in range(num_steps):\n",
    "\n",
    "            T_new = np.copy(T_old)\n",
    "\n",
    "            T_old_next = np.roll(T_old, -1)         # roll every i by -1 so that the \"next\" i is selected\n",
    "            T_old_prev = np.roll(T_old, 1)          # roll every i by 1 so that the \"previous\" i is selected\n",
    "            \n",
    "\n",
    "            # INDIRECT DISCHARGING: Calculate Qdot_prime_char, the actual amount of heat transferred to the layer i thorugh heat exchange in layers in and above i (due to buoyancy)\n",
    "            Qdot_prime_dischar = np.zeros(self.num_layers)  # initiate vector with length like number of layers\n",
    "\n",
    "            for i in range(self.num_layers):                    # iterate over all layers to calculate the actual heat of each layer Qdot_prime_char[0, 1, 2...]\n",
    "                Qdot_sum_dischar = 0                                    # initiale the sum factor for calculating Qdot_prime_charge i\n",
    "\n",
    "                for l in range(i, self.num_layers):                            # iterate l from bottom layer (o) until current layer i (incl) to evaluate how heat inserted below in l affects layer i if buoyancy is present\n",
    "                    nom=0                                           # initialize nominator for inspection of heat in layer l in relationship to layer i\n",
    "                    den=0                                       # initialize denominator for inspection of heat in layer l in relationship to layer i\n",
    "\n",
    "                    nom= step(T_old[i], T_old[l])                # evaluate if heat transfer is available (1) or not (0) with Step ----- Tl>=Ti -> 1, layer below is hoter than i\n",
    "\n",
    "                    for j in range(l+1):       # iterate over layers starting from l and above until top of tank to evaluate the share of heat in layer l (homogenous distribution)\n",
    "                        den += step(T_old[j], T_old[l])          # sum up to calculate the denominator and thus the share\n",
    "                    den = np.where(den == 0, 1, den)                  # prevent divisions by 0    \n",
    "                    Qdot_sum_dischar += self.Qdot_dischar[l] * nom / den    # amount of heat transfered to layer i is the sum of all heat below layer i and its share that have buoyancy effects    \n",
    "                    \n",
    "                Qdot_prime_dischar[i] = Qdot_sum_dischar\n",
    "\n",
    "\n",
    "            # Apply heat transfer equation for model 0\n",
    "            T_new = (T_old\n",
    "                      + (((self.alpha) * (T_old_next - (2*T_old) + T_old_prev) / (self.dz**2))      # diffusion between layers\n",
    "                      + (self.beta_i * (self.T_a - T_old))                                          # losses to the ambient\n",
    "                      + ((self.lambda_i/self.dz) * Qdot_prime_dischar)                              # indirect heat discharging including fast buoyancy of other layers\n",
    "                      + ((self.phi_i/self.dz) * self.mdot * (self.Tm - T_old))                      # direct heat input (stream)\n",
    "                      )* self.dt\n",
    "                      + 0.5 * ((1/10) * np.logaddexp(0, 10 * (T_old_prev - T_old)))                 # slow buoyancy of the layer i-1 to i (temperature of i rises) [with np.log -> overflow encountered]\n",
    "                      - 0.5 * ((1/10) * np.logaddexp(0, 10 * (T_old - T_old_next)))                 # slow buoyancy of the layer i to i+1 (temperature of i decreases) [with np.log -> overflow encountered]\n",
    "                    )\n",
    "            \n",
    "            ### Boundary conditions\n",
    "            # bottom of the tank\n",
    "            T_new[0] = (T_old[0]                                              \n",
    "                         + (((self.alpha) * (T_old[1] - (2*T_old[0]) + T_old[0]) / (self.dz**2))\n",
    "                         + ((self.beta_i + self.beta_bottom) * (self.T_a - T_old[0]))               # heat loss through sides of the tank (beta_i) and through the floor (beta_bottom)\n",
    "                         + ((self.lambda_i/self.dz) * Qdot_prime_dischar[0])\n",
    "                         + ((self.phi_i/self.dz) * self.mdot[0] * (self.Tm[0] - T_old[0]))  \n",
    "                         )* self.dt\n",
    "                         - 0.5 * ((1/10) * np.logaddexp(0, 10 * (T_old[0] - T_old[1])))              # slow buoyancy from the bottom layer to the above layer\n",
    "                         )        \n",
    "            \n",
    "            # top of the tank\n",
    "            T_new[-1] = (T_old[-1]                                                              \n",
    "                          + (((self.alpha) * (T_old[-1] - (2*T_old[-1]) + T_old[-2]) / (self.dz**2))\n",
    "                          + ((self.beta_i + self.beta_top)* (self.T_a - T_old[-1]))                 # heat loss through sides of the tank (beta_i) and through ceiling (beta_top)\n",
    "                          + ((self.lambda_i/self.dz) * Qdot_prime_dischar[-1])\n",
    "                          + ((self.phi_i/self.dz) * self.mdot[-1] * (self.Tm[-1] - T_old[-1]))\n",
    "                          )* self.dt\n",
    "                          + 0.5 * ((1/10) * np.logaddexp(0, 10 * (T_old[-2] - T_old[-1])))  # slow buoyancy to the top layer from the below layer\n",
    "                          )       \n",
    "\n",
    "            T_old = np.copy(T_new) # return the new temperature as old temperature for the next iteration\n",
    "\n",
    "            results.append(T_old.copy())            # Store the updated temperature array fo later plot\n",
    "\n",
    "        return T_old, results\n",
    "     \n",
    " # check the stability of the model with the selected dt\n",
    "    def stability_check(self):\n",
    "        # check if the time step dt is small enough with CFL condition: dt <= (dz^2) / (2 * alpha)\n",
    "        cfl_dt_max = (self.dz ** 2) / (2 * self.alpha)\n",
    "        if self.dt > cfl_dt_max:\n",
    "            print(f\"Warning: Time step size dt {self.dt} exceeds CFL stability limit ({cfl_dt_max}).\")\n",
    "            sc = 1\n",
    "        else:\n",
    "            sc = 0\n",
    "        return sc\n",
    "    \n",
    "\n"
   ]
  },
  {
   "cell_type": "code",
   "execution_count": 72,
   "metadata": {},
   "outputs": [],
   "source": [
    "############### Definitons for the model 4c (separate (manual) - fast buoyancy indirect )\n",
    "class HeatDistributionVector_model4c:\n",
    "    def __init__(self, alpha, beta_i, beta_bottom, beta_top, lambda_i, phi_i, z, T_a, T_initial, dt, Qdot_char, Qdot_dischar, mdot, Tm):\n",
    "        \n",
    "        self.alpha = alpha                           # heat diffusivity\n",
    "        \n",
    "        self.beta_i = beta_i                         # heat loss coefficient to the ambient in the inner layers\n",
    "        self.beta_bottom = beta_bottom               # heat loss coefficient to the ambient at the bottom layer (i=0)\n",
    "        self.beta_top = beta_top                     # heat loss coefficient to the ambient at the top layer (i=-1)\n",
    "        \n",
    "        self.lambda_i = lambda_i                     # coefficient of the input heat\n",
    "        self.Qdot_char = Qdot_char\n",
    "        self.Qdot_dischar = Qdot_dischar                              # vector conaining the Q_i of each layer    \n",
    "        \n",
    "        self.phi_i = phi_i                           # coefficient of the input flow/stream\n",
    "        self.mdot = mdot                             # vector conaining the streams flowing into /out of the tank mdot_i of each layer\n",
    "        self.Tm = Tm                                 # vector containing the temperatures of the streams flowing in/out of the tank (each mdot_i has a Tm_i)\n",
    "\n",
    "        self.z = z                                   # height of the tank\n",
    "        self.num_layers = len(T_initial)             # number of layers (steps in space)\n",
    "        self.dz = z / self.num_layers                # step size in space (delta z, height of a layer) is total height/number of layers, num_layers = how big the initial temperature vector is\n",
    "        self.heights = [i * self.dz + self.dz/2 for i in range(len(T_initial))]     # list representing the height of the tank for plotting the temperatures in the middle of each layer\n",
    "\n",
    "        self.dt = dt                                 # step size in time (time step)\n",
    "\n",
    "        self.T_initial = np.array(T_initial)         # initial state of the temperatures along the tank [list] !!! Same lenght as num_layers\n",
    "        self.T_a = T_a                               # ambient temperature outside of the tank\n",
    "\n",
    "     \n",
    " # definition of the solver for the temperature vector in the next time step       \n",
    "    def vector_solve(self, num_steps):\n",
    "        T_old = np.copy(self.T_initial)\n",
    "        results = [T_old.copy()]                    # Store initial temperature array\n",
    "\n",
    "        for _ in range(num_steps):\n",
    "\n",
    "            T_new = np.copy(T_old)\n",
    "\n",
    "            T_old_next = np.roll(T_old, -1)         # roll every i by -1 so that the \"next\" i is selected\n",
    "            T_old_prev = np.roll(T_old, 1)          # roll every i by 1 so that the \"previous\" i is selected\n",
    "            \n",
    "\n",
    "            # INDIRECT CHARGING: Calculate Qdot_prime_char, the actual amount of heat transferred to layer i through heat exchange in and below layer i (due to buoyancy)\n",
    "            Qdot_prime_char = np.zeros(self.num_layers)  # initiate vector with length like number of layers\n",
    "\n",
    "            for i in range(self.num_layers):                    # iterate over all layers to calculate the actual heat of each layer Qdot_prime_char[0, 1, 2...]\n",
    "                Qdot_sum_char = 0                                    # initiale the sum factor for calculating Qdot_prime_charge i\n",
    "\n",
    "                for l in range(i+1):                            # iterate l from bottom layer (o) until current layer i (incl) to evaluate how heat inserted below in l affects layer i if buoyancy is present\n",
    "                    nom=0                                           # initialize nominator for inspection of heat in layer l in relationship to layer i\n",
    "                    den=0                                       # initialize denominator for inspection of heat in layer l in relationship to layer i\n",
    "\n",
    "                    nom= step(T_old[l], T_old[i])                # evaluate if heat transfer is available (1) or not (0) with Step ----- Tl>=Ti -> 1, layer below is hoter than i\n",
    "\n",
    "                    for j in range(l, self.num_layers):       # iterate over layers starting from l and above until top of tank to evaluate the share of heat in layer l (homogenous distribution)\n",
    "                        den += step(T_old[l], T_old[j])          # sum up to calculate the denominator and thus the share\n",
    "                    den = np.where(den == 0, 1, den)                  # prevent divisions by 0     \n",
    "                    Qdot_sum_char += self.Qdot_char[l] * nom / den    # amount of heat transfered to layer i is the sum of all heat below layer i and its share that have buoyancy effects    \n",
    "                    \n",
    "                Qdot_prime_char[i] = Qdot_sum_char\n",
    "\n",
    "            # INDIRECT DISCHARGING: Calculate Qdot_prime_char, the actual amount of heat transferred to the layer i thorugh heat exchange in layers in and above i (due to buoyancy)\n",
    "            Qdot_prime_dischar = np.zeros(self.num_layers)  # initiate vector with length like number of layers\n",
    "\n",
    "            for i in range(self.num_layers):                    # iterate over all layers to calculate the actual heat of each layer Qdot_prime_char[0, 1, 2...]\n",
    "                Qdot_sum_dischar = 0                                    # initiale the sum factor for calculating Qdot_prime_charge i\n",
    "\n",
    "                for l in range(i, self.num_layers):                            # iterate l from bottom layer (o) until current layer i (incl) to evaluate how heat inserted below in l affects layer i if buoyancy is present\n",
    "                    nom=0                                           # initialize nominator for inspection of heat in layer l in relationship to layer i\n",
    "                    den=0                                       # initialize denominator for inspection of heat in layer l in relationship to layer i\n",
    "\n",
    "                    nom= step(T_old[i], T_old[l])                # evaluate if heat transfer is available (1) or not (0) with Step ----- Tl>=Ti -> 1, layer below is hoter than i\n",
    "\n",
    "                    for j in range(l+1):       # iterate over layers starting from l and above until top of tank to evaluate the share of heat in layer l (homogenous distribution)\n",
    "                        den += step(T_old[j], T_old[l])          # sum up to calculate the denominator and thus the share\n",
    "                    den = np.where(den == 0, 1, den)                  # prevent divisions by 0  \n",
    "                    Qdot_sum_dischar += self.Qdot_dischar[l] * nom / den    # amount of heat transfered to layer i is the sum of all heat below layer i and its share that have buoyancy effects    \n",
    "                    \n",
    "                Qdot_prime_dischar[i] = Qdot_sum_dischar\n",
    "\n",
    "\n",
    "            # Apply heat transfer equation for model 0\n",
    "            T_new = (T_old\n",
    "                      + (((self.alpha) * (T_old_next - (2*T_old) + T_old_prev) / (self.dz**2))      # diffusion between layers\n",
    "                      + (self.beta_i * (self.T_a - T_old))                                          # losses to the ambient\n",
    "                      + ((self.lambda_i/self.dz) * Qdot_prime_char)                                 # indirect heat charging including fast buoyancy of other layers\n",
    "                      + ((self.lambda_i/self.dz) * Qdot_prime_dischar)                              # indirect heat discharging including fast buoyancy of other layers\n",
    "                      + ((self.phi_i/self.dz) * self.mdot * (self.Tm - T_old))                      # direct heat input (stream)\n",
    "                      )* self.dt\n",
    "                      + 0.5 * ((1/10) * np.logaddexp(0, 10 * (T_old_prev - T_old)))                 # slow buoyancy of the layer i-1 to i (temperature of i rises) [with np.log -> overflow encountered]\n",
    "                      - 0.5 * ((1/10) * np.logaddexp(0, 10 * (T_old - T_old_next)))                 # slow buoyancy of the layer i to i+1 (temperature of i decreases) [with np.log -> overflow encountered]\n",
    "                    )\n",
    "            \n",
    "            ### Boundary conditions\n",
    "            # bottom of the tank\n",
    "            T_new[0] = (T_old[0]                                              \n",
    "                         + (((self.alpha) * (T_old[1] - (2*T_old[0]) + T_old[0]) / (self.dz**2))\n",
    "                         + ((self.beta_i + self.beta_bottom) * (self.T_a - T_old[0]))               # heat loss through sides of the tank (beta_i) and through the floor (beta_bottom)\n",
    "                         + ((self.lambda_i/self.dz) * Qdot_prime_char[0])\n",
    "                         + ((self.lambda_i/self.dz) * Qdot_prime_dischar[0])\n",
    "                         + ((self.phi_i/self.dz) * self.mdot[0] * (self.Tm[0] - T_old[0]))  \n",
    "                         )* self.dt\n",
    "                         - 0.5 * ((1/10) * np.logaddexp(0, 10 * (T_old[0] - T_old[1])))  # slow buoyancy from the bottom layer to the above layer\n",
    "                         )        \n",
    "            \n",
    "            # top of the tank\n",
    "            T_new[-1] = (T_old[-1]                                                              \n",
    "                          + (((self.alpha) * (T_old[-1] - (2*T_old[-1]) + T_old[-2]) / (self.dz**2))\n",
    "                          + ((self.beta_i + self.beta_top)* (self.T_a - T_old[-1]))                 # heat loss through sides of the tank (beta_i) and through ceiling (beta_top)\n",
    "                          + ((self.lambda_i/self.dz) * Qdot_prime_char[-1])\n",
    "                          + ((self.lambda_i/self.dz) * Qdot_prime_dischar[-1])\n",
    "                          + ((self.phi_i/self.dz) * self.mdot[-1] * (self.Tm[-1] - T_old[-1]))\n",
    "                          )* self.dt\n",
    "                          + 0.5 * ((1/10) * np.logaddexp(0, 10 * (T_old[-2] - T_old[-1])))  # slow buoyancy to the top layer from the below layer\n",
    "                          )       \n",
    "\n",
    "            T_old = np.copy(T_new) # return the new temperature as old temperature for the next iteration\n",
    "\n",
    "            results.append(T_old.copy())            # Store the updated temperature array fo later plot\n",
    "\n",
    "        return T_old, results\n",
    "     \n",
    " # check the stability of the model with the selected dt\n",
    "    def stability_check(self):\n",
    "        # check if the time step dt is small enough with CFL condition: dt <= (dz^2) / (2 * alpha)\n",
    "        cfl_dt_max = (self.dz ** 2) / (2 * self.alpha)\n",
    "        if self.dt > cfl_dt_max:\n",
    "            print(f\"Warning: Time step size dt {self.dt} exceeds CFL stability limit ({cfl_dt_max}).\")\n",
    "            sc = 1\n",
    "        else:\n",
    "            sc = 0\n",
    "        return sc\n",
    "    \n",
    "\n"
   ]
  },
  {
   "cell_type": "code",
   "execution_count": 73,
   "metadata": {},
   "outputs": [],
   "source": [
    "############### Definitons for the model 4d (together (no distinction char/dischar) - fast buoyancy indirect )\n",
    "\n",
    "class HeatDistributionVector_model4d:\n",
    "    def __init__(self, alpha, beta_i, beta_bottom, beta_top, lambda_i, phi_i, z, T_a, T_initial, dt, Qdot, mdot, Tm):\n",
    "        \n",
    "        self.alpha = alpha                           # heat diffusivity\n",
    "        \n",
    "        self.beta_i = beta_i                         # heat loss coefficient to the ambient in the inner layers\n",
    "        self.beta_bottom = beta_bottom               # heat loss coefficient to the ambient at the bottom layer (i=0)\n",
    "        self.beta_top = beta_top                     # heat loss coefficient to the ambient at the top layer (i=-1)\n",
    "        \n",
    "        self.lambda_i = lambda_i                     # coefficient of the input heat\n",
    "        self.Qdot = Qdot                              # vector conaining the Q_i of each layer    \n",
    "        \n",
    "        self.phi_i = phi_i                           # coefficient of the input flow/stream\n",
    "        self.mdot = mdot                             # vector conaining the streams flowing into /out of the tank mdot_i of each layer\n",
    "        self.Tm = Tm                                 # vector containing the temperatures of the streams flowing in/out of the tank (each mdot_i has a Tm_i)\n",
    "\n",
    "        self.z = z                                   # height of the tank\n",
    "        self.num_layers = len(T_initial)             # number of layers (steps in space)\n",
    "        self.dz = z / self.num_layers                # step size in space (delta z, height of a layer) is total height/number of layers, num_layers = how big the initial temperature vector is\n",
    "        self.heights = [i * self.dz + self.dz/2 for i in range(len(T_initial))]     # list representing the height of the tank for plotting the temperatures in the middle of each layer\n",
    "\n",
    "        self.dt = dt                                 # step size in time (time step)\n",
    "\n",
    "        self.T_initial = np.array(T_initial)         # initial state of the temperatures along the tank [list] !!! Same lenght as num_layers\n",
    "        self.T_a = T_a                               # ambient temperature outside of the tank\n",
    "\n",
    "     \n",
    " # definition of the solver for the temperature vector in the next time step       \n",
    "    def vector_solve(self, num_steps):\n",
    "        T_old = np.copy(self.T_initial)\n",
    "        results = [T_old.copy()]                    # Store initial temperature array\n",
    "\n",
    "        for _ in range(num_steps):\n",
    "\n",
    "            T_new = np.copy(T_old)\n",
    "\n",
    "            T_old_next = np.roll(T_old, -1)         # roll every i by -1 so that the \"next\" i is selected\n",
    "            T_old_prev = np.roll(T_old, 1)          # roll every i by 1 so that the \"previous\" i is selected\n",
    "            \n",
    "\n",
    "            # INDIRECT CHARGING: Calculate Qdot_prime_char, the actual amount of heat transferred to layer i through heat exchange in and below layer i (due to buoyancy)\n",
    "            Qdot_prime_char = np.zeros(self.num_layers)  # initiate vector with length like number of layers\n",
    "\n",
    "            for i in range(self.num_layers):                    # iterate over all layers to calculate the actual heat of each layer Qdot_prime_char[0, 1, 2...]\n",
    "                Qdot_sum_char = 0                                    # initiale the sum factor for calculating Qdot_prime_charge i\n",
    "\n",
    "                for l in range(i+1):                            # iterate l from bottom layer (o) until current layer i (incl) to evaluate how heat inserted below in l affects layer i if buoyancy is present\n",
    "                    nom=0                                           # initialize nominator for inspection of heat in layer l in relationship to layer i\n",
    "                    den=0                                       # initialize denominator for inspection of heat in layer l in relationship to layer i\n",
    "\n",
    "                    nom= step(T_old[l], T_old[i])                # evaluate if heat transfer is available (1) or not (0) with Step ----- Tl>=Ti -> 1, layer below is hoter than i\n",
    "\n",
    "                    for j in range(l, self.num_layers):       # iterate over layers starting from l and above until top of tank to evaluate the share of heat in layer l (homogenous distribution)\n",
    "                        den += step(T_old[l], T_old[j])          # sum up to calculate the denominator and thus the share\n",
    "                    den = np.where(den == 0, 1, den)                  # prevent divisions by 0     \n",
    "                    Qdot_sum_char += self.Qdot[l] * nom / den    # amount of heat transfered to layer i is the sum of all heat below layer i and its share that have buoyancy effects    \n",
    "                    \n",
    "                Qdot_prime_char[i] = Qdot_sum_char\n",
    "\n",
    "            # INDIRECT DISCHARGING: Calculate Qdot_prime_char, the actual amount of heat transferred to the layer i thorugh heat exchange in layers in and above i (due to buoyancy)\n",
    "            Qdot_prime_dischar = np.zeros(self.num_layers)  # initiate vector with length like number of layers\n",
    "\n",
    "            for i in range(self.num_layers):                    # iterate over all layers to calculate the actual heat of each layer Qdot_prime_char[0, 1, 2...]\n",
    "                Qdot_sum_dischar = 0                                    # initiale the sum factor for calculating Qdot_prime_charge i\n",
    "\n",
    "                for l in range(i, self.num_layers):                            # iterate l from bottom layer (o) until current layer i (incl) to evaluate how heat inserted below in l affects layer i if buoyancy is present\n",
    "                    nom=0                                           # initialize nominator for inspection of heat in layer l in relationship to layer i\n",
    "                    den=0                                       # initialize denominator for inspection of heat in layer l in relationship to layer i\n",
    "\n",
    "                    nom= step(T_old[i], T_old[l])                # evaluate if heat transfer is available (1) or not (0) with Step ----- Tl>=Ti -> 1, layer below is hoter than i\n",
    "\n",
    "                    for j in range(l+1):       # iterate over layers starting from l and above until top of tank to evaluate the share of heat in layer l (homogenous distribution)\n",
    "                        den += step(T_old[j], T_old[l])          # sum up to calculate the denominator and thus the share\n",
    "                    den = np.where(den == 0, 1, den)                  # prevent divisions by 0     \n",
    "                    Qdot_sum_dischar += self.Qdot[l] * nom / den    # amount of heat transfered to layer i is the sum of all heat below layer i and its share that have buoyancy effects    \n",
    "                    \n",
    "                Qdot_prime_dischar[i] = Qdot_sum_dischar\n",
    "\n",
    "\n",
    "            # Apply heat transfer equation for model 0\n",
    "            T_new = (T_old\n",
    "                      + (((self.alpha) * (T_old_next - (2*T_old) + T_old_prev) / (self.dz**2))      # diffusion between layers\n",
    "                      + (self.beta_i * (self.T_a - T_old))                                          # losses to the ambient\n",
    "                      + ((self.lambda_i/self.dz) * Qdot_prime_char)                                 # indirect heat charging including fast buoyancy of other layers\n",
    "                      + ((self.lambda_i/self.dz) * Qdot_prime_dischar)                              # indirect heat discharging including fast buoyancy of other layers\n",
    "                      + ((self.phi_i/self.dz) * self.mdot * (self.Tm - T_old))                      # direct heat input (stream)\n",
    "                      )* self.dt\n",
    "                      + 0.5 * ((1/10) * np.logaddexp(0, 10 * (T_old_prev - T_old)))                 # slow buoyancy of the layer i-1 to i (temperature of i rises) [with np.log -> overflow encountered]\n",
    "                      - 0.5 * ((1/10) * np.logaddexp(0, 10 * (T_old - T_old_next)))                 # slow buoyancy of the layer i to i+1 (temperature of i decreases) [with np.log -> overflow encountered]\n",
    "                    )\n",
    "            \n",
    "            ### Boundary conditions\n",
    "            # bottom of the tank\n",
    "            T_new[0] = (T_old[0]                                              \n",
    "                         + (((self.alpha) * (T_old[1] - (2*T_old[0]) + T_old[0]) / (self.dz**2))\n",
    "                         + ((self.beta_i + self.beta_bottom) * (self.T_a - T_old[0]))               # heat loss through sides of the tank (beta_i) and through the floor (beta_bottom)\n",
    "                         + ((self.lambda_i/self.dz) * Qdot_prime_char[0])\n",
    "                         + ((self.lambda_i/self.dz) * Qdot_prime_dischar[0])\n",
    "                         + ((self.phi_i/self.dz) * self.mdot[0] * (self.Tm[0] - T_old[0]))  \n",
    "                         )* self.dt\n",
    "                         - 0.5 * ((1/10) * np.logaddexp(0, 10 * (T_old[0] - T_old[1])))  # slow buoyancy from the bottom layer to the above layer\n",
    "                         )        \n",
    "            \n",
    "            # top of the tank\n",
    "            T_new[-1] = (T_old[-1]                                                              \n",
    "                          + (((self.alpha) * (T_old[-1] - (2*T_old[-1]) + T_old[-2]) / (self.dz**2))\n",
    "                          + ((self.beta_i + self.beta_top)* (self.T_a - T_old[-1]))                 # heat loss through sides of the tank (beta_i) and through ceiling (beta_top)\n",
    "                          + ((self.lambda_i/self.dz) * Qdot_prime_char[-1])\n",
    "                          + ((self.lambda_i/self.dz) * Qdot_prime_dischar[-1])\n",
    "                          + ((self.phi_i/self.dz) * self.mdot[-1] * (self.Tm[-1] - T_old[-1]))\n",
    "                          )* self.dt\n",
    "                          + 0.5 * ((1/10) * np.logaddexp(0, 10 * (T_old[-2] - T_old[-1])))  # slow buoyancy to the top layer from the below layer\n",
    "                          )       \n",
    "\n",
    "            T_old = np.copy(T_new) # return the new temperature as old temperature for the next iteration\n",
    "\n",
    "            results.append(T_old.copy())            # Store the updated temperature array fo later plot\n",
    "\n",
    "        return T_old, results\n",
    "     \n",
    " # check the stability of the model with the selected dt\n",
    "    def stability_check(self):\n",
    "        # check if the time step dt is small enough with CFL condition: dt <= (dz^2) / (2 * alpha)\n",
    "        cfl_dt_max = (self.dz ** 2) / (2 * self.alpha)\n",
    "        if self.dt > cfl_dt_max:\n",
    "            print(f\"Warning: Time step size dt {self.dt} exceeds CFL stability limit ({cfl_dt_max}).\")\n",
    "            sc = 1\n",
    "        else:\n",
    "            sc = 0\n",
    "        return sc\n",
    "    \n",
    "\n"
   ]
  },
  {
   "cell_type": "code",
   "execution_count": 74,
   "metadata": {},
   "outputs": [],
   "source": [
    "############### Definitons for the model 4 (integtrated (coded char/dischar distinction) - fast buoyancy indirect )\n",
    "\n",
    "class HeatDistributionVector_model4:\n",
    "    def __init__(self, alpha, beta_i, beta_bottom, beta_top, lambda_i, phi_i, z, T_a, T_initial, dt, Qdot, mdot, Tm):\n",
    "        \n",
    "        self.alpha = alpha                           # heat diffusivity\n",
    "        \n",
    "        self.beta_i = beta_i                         # heat loss coefficient to the ambient in the inner layers\n",
    "        self.beta_bottom = beta_bottom               # heat loss coefficient to the ambient at the bottom layer (i=0)\n",
    "        self.beta_top = beta_top                     # heat loss coefficient to the ambient at the top layer (i=-1)\n",
    "        \n",
    "        self.lambda_i = lambda_i                     # coefficient of the input heat\n",
    "        self.Qdot = Qdot                              # vector conaining the Q_i of each layer    \n",
    "        \n",
    "        self.phi_i = phi_i                           # coefficient of the input flow/stream\n",
    "        self.mdot = mdot                             # vector conaining the streams flowing into /out of the tank mdot_i of each layer\n",
    "        self.Tm = Tm                                 # vector containing the temperatures of the streams flowing in/out of the tank (each mdot_i has a Tm_i)\n",
    "\n",
    "        self.z = z                                   # height of the tank\n",
    "        self.num_layers = len(T_initial)             # number of layers (steps in space)\n",
    "        self.dz = z / self.num_layers                # step size in space (delta z, height of a layer) is total height/number of layers, num_layers = how big the initial temperature vector is\n",
    "        self.heights = [i * self.dz + self.dz/2 for i in range(len(T_initial))]     # list representing the height of the tank for plotting the temperatures in the middle of each layer\n",
    "\n",
    "        self.dt = dt                                 # step size in time (time step)\n",
    "\n",
    "        self.T_initial = np.array(T_initial)         # initial state of the temperatures along the tank [list] !!! Same lenght as num_layers\n",
    "        self.T_a = T_a                               # ambient temperature outside of the tank\n",
    "\n",
    "     \n",
    " # definition of the solver for the temperature vector in the next time step       \n",
    "    def vector_solve(self, num_steps):\n",
    "        T_old = np.copy(self.T_initial)\n",
    "        results = [T_old.copy()]                    # Store initial temperature array\n",
    "\n",
    "        for _ in range(num_steps):\n",
    "\n",
    "            T_new = np.copy(T_old)\n",
    "\n",
    "            T_old_next = np.roll(T_old, -1)         # roll every i by -1 so that the \"next\" i is selected\n",
    "            T_old_prev = np.roll(T_old, 1)          # roll every i by 1 so that the \"previous\" i is selected\n",
    "            \n",
    "            # Separate Qdot into charging and discharging vectors\n",
    "            Qdot_charging = np.where(self.Qdot > 0, self.Qdot, 0)\n",
    "            Qdot_discharging = np.where(self.Qdot < 0, self.Qdot, 0)\n",
    "\n",
    "            # INDIRECT CHARGING: Calculate Qdot_prime_char, the actual amount of heat transferred to layer i through heat exchange in and below layer i (due to buoyancy)\n",
    "            Qdot_prime_char = np.zeros(self.num_layers)  # initiate vector with length like number of layers\n",
    "\n",
    "            for i in range(self.num_layers):                    # iterate over all layers to calculate the actual heat of each layer Qdot_prime_char[0, 1, 2...]\n",
    "                Qdot_sum_char = 0                                    # initiale the sum factor for calculating Qdot_prime_charge i\n",
    "\n",
    "                for l in range(i+1):                            # iterate l from bottom layer (o) until current layer i (incl) to evaluate how heat inserted below in l affects layer i if buoyancy is present\n",
    "                    nom=0                                           # initialize nominator for inspection of heat in layer l in relationship to layer i\n",
    "                    den=0                                       # initialize denominator for inspection of heat in layer l in relationship to layer i\n",
    "\n",
    "                    nom= step(T_old[l], T_old[i])                # evaluate if heat transfer is available (1) or not (0) with Step ----- Tl>=Ti -> 1, layer below is hoter than i\n",
    "\n",
    "                    for j in range(l, self.num_layers):       # iterate over layers starting from l and above until top of tank to evaluate the share of heat in layer l (homogenous distribution)\n",
    "                        den += step(T_old[l], T_old[j])          # sum up to calculate the denominator and thus the share\n",
    "                    den = np.where(den == 0, 1, den)                  # prevent divisions by 0     \n",
    "                    Qdot_sum_char += Qdot_charging[l] * nom / den    # amount of heat transfered to layer i is the sum of all heat below layer i and its share that have buoyancy effects    \n",
    "                    \n",
    "                Qdot_prime_char[i] = Qdot_sum_char\n",
    "\n",
    "            # INDIRECT DISCHARGING: Calculate Qdot_prime_char, the actual amount of heat transferred to the layer i thorugh heat exchange in layers in and above i (due to buoyancy)\n",
    "            Qdot_prime_dischar = np.zeros(self.num_layers)  # initiate vector with length like number of layers\n",
    "\n",
    "            for i in range(self.num_layers):                    # iterate over all layers to calculate the actual heat of each layer Qdot_prime_char[0, 1, 2...]\n",
    "                Qdot_sum_dischar = 0                                    # initiale the sum factor for calculating Qdot_prime_charge i\n",
    "\n",
    "                for l in range(i, self.num_layers):                            # iterate l from bottom layer (o) until current layer i (incl) to evaluate how heat inserted below in l affects layer i if buoyancy is present\n",
    "                    nom=0                                           # initialize nominator for inspection of heat in layer l in relationship to layer i\n",
    "                    den=0                                       # initialize denominator for inspection of heat in layer l in relationship to layer i\n",
    "\n",
    "                    nom= step(T_old[i], T_old[l])                # evaluate if heat transfer is available (1) or not (0) with Step ----- Tl>=Ti -> 1, layer below is hoter than i\n",
    "\n",
    "                    for j in range(l+1):       # iterate over layers starting from l and above until top of tank to evaluate the share of heat in layer l (homogenous distribution)\n",
    "                        den += step(T_old[j], T_old[l])          # sum up to calculate the denominator and thus the share\n",
    "                    den = np.where(den == 0, 1, den)                  # prevent divisions by 0     \n",
    "                    Qdot_sum_dischar += Qdot_discharging[l] * nom / den    # amount of heat transfered to layer i is the sum of all heat below layer i and its share that have buoyancy effects    \n",
    "                    \n",
    "                Qdot_prime_dischar[i] = Qdot_sum_dischar\n",
    "\n",
    "\n",
    "            # Apply heat transfer equation for model 0\n",
    "            T_new = (T_old\n",
    "                      + (((self.alpha) * (T_old_next - (2*T_old) + T_old_prev) / (self.dz**2))      # diffusion between layers\n",
    "                      + (self.beta_i * (self.T_a - T_old))                                          # losses to the ambient\n",
    "                      + ((self.lambda_i/self.dz) * Qdot_prime_char)                                 # indirect heat charging including fast buoyancy of other layers\n",
    "                      + ((self.lambda_i/self.dz) * Qdot_prime_dischar)                              # indirect heat discharging including fast buoyancy of other layers\n",
    "                      #+ ((self.phi_i/self.dz) * self.mdot * (self.Tm - T_old))                      # direct heat input (stream)\n",
    "                      )* self.dt\n",
    "                      + 0.5 * ((1/10) * np.logaddexp(0, 10 * (T_old_prev - T_old)))                 # slow buoyancy of the layer i-1 to i (temperature of i rises) [with np.log -> overflow encountered]\n",
    "                      - 0.5 * ((1/10) * np.logaddexp(0, 10 * (T_old - T_old_next)))                 # slow buoyancy of the layer i to i+1 (temperature of i decreases) [with np.log -> overflow encountered]\n",
    "                    )\n",
    "            \n",
    "            ### Boundary conditions\n",
    "            # bottom of the tank\n",
    "            T_new[0] = (T_old[0]                                              \n",
    "                         + (((self.alpha) * (T_old[1] - (2*T_old[0]) + T_old[0]) / (self.dz**2))\n",
    "                         + ((self.beta_i + self.beta_bottom) * (self.T_a - T_old[0]))               # heat loss through sides of the tank (beta_i) and through the floor (beta_bottom)\n",
    "                         + ((self.lambda_i/self.dz) * Qdot_prime_char[0])\n",
    "                         + ((self.lambda_i/self.dz) * Qdot_prime_dischar[0])\n",
    "                         #+ ((self.phi_i/self.dz) * self.mdot[0] * (self.Tm[0] - T_old[0]))  \n",
    "                         )* self.dt\n",
    "                         - 0.5 * ((1/10) * np.logaddexp(0, 10 * (T_old[0] - T_old[1])))  # slow buoyancy from the bottom layer to the above layer\n",
    "                         )        \n",
    "            \n",
    "            # top of the tank\n",
    "            T_new[-1] = (T_old[-1]                                                              \n",
    "                          + (((self.alpha) * (T_old[-1] - (2*T_old[-1]) + T_old[-2]) / (self.dz**2))\n",
    "                          + ((self.beta_i + self.beta_top)* (self.T_a - T_old[-1]))                 # heat loss through sides of the tank (beta_i) and through ceiling (beta_top)\n",
    "                          + ((self.lambda_i/self.dz) * Qdot_prime_char[-1])\n",
    "                          + ((self.lambda_i/self.dz) * Qdot_prime_dischar[-1])\n",
    "                          + ((self.phi_i/self.dz) * self.mdot[-1] * (self.Tm[-1] - T_old[-1]))\n",
    "                          )* self.dt\n",
    "                          + 0.5 * ((1/10) * np.logaddexp(0, 10 * (T_old[-2] - T_old[-1])))  # slow buoyancy to the top layer from the below layer\n",
    "                          )       \n",
    "\n",
    "            T_old = np.copy(T_new) # return the new temperature as old temperature for the next iteration\n",
    "\n",
    "            results.append(T_old.copy())            # Store the updated temperature array fo later plot\n",
    "\n",
    "        return T_old, results\n",
    "     \n",
    " # check the stability of the model with the selected dt\n",
    "    def stability_check(self):\n",
    "        # check if the time step dt is small enough with CFL condition: dt <= (dz^2) / (2 * alpha)\n",
    "        cfl_dt_max = (self.dz ** 2) / (2 * self.alpha)\n",
    "        if self.dt > cfl_dt_max:\n",
    "            print(f\"Warning: Time step size dt {self.dt} exceeds CFL stability limit ({cfl_dt_max}).\")\n",
    "            sc = 1\n",
    "        else:\n",
    "            sc = 0\n",
    "        return sc"
   ]
  },
  {
   "cell_type": "markdown",
   "metadata": {},
   "source": [
    "### Variables"
   ]
  },
  {
   "cell_type": "code",
   "execution_count": 75,
   "metadata": {},
   "outputs": [],
   "source": [
    "############### VARIABLES\n",
    "            \n",
    "# initial temperature in the tank for each layer\n",
    "# lenght of the selected T_zero defines the number of layers    \n",
    "T_1 = np.array([10, 10, 10, 10, 10, 90, 90, 90, 90, 90])\n",
    "T_1a = np.array([90, 90, 90, 90, 90,10, 10, 10, 10, 10]) \n",
    "T_1b = np.array([90, 90, 10, 10, 10,10, 10, 10, 10, 10]) \n",
    "T_2 = np.array([10, 20, 30, 60, 50, 90, 30, 0, 15, 20])\n",
    "T_3 = [100, 80, 50, 60, 20, 50, 10, 20, 50, 80]\n",
    "T_4 = np.array([100, 90, 80 ,70, 60, 50, 40, 30, 20, 10])\n",
    "T_4inv = T_4[::-1]\n",
    "T_5 = [100, 10, 80 ,200, 60, 70, -10, 30, -10, 10]\n",
    "T_6 = np.array([100, 100, 100, 100, 100, 100, 100, 100, 100, 100]) \n",
    "T_7 = np.array([65, 65, 65, 65, 65, 65, 65, 65, 65, 65]) # standard initial temperature\n",
    "T_8 = np.full(10, 40)\n",
    "T_a = 2                       # ambient temperature\n",
    "\n",
    "# tank description\n",
    "T_zero = T_4                        # initial temperature vector\n",
    "z = 2.099                               # height of the tank [m]\n",
    "dz = z / len(T_zero)                # height of the section (layer)\n",
    "d = 0.79                             # diameter of the cross section [m]\n",
    "P_i = np.pi * d                     # cross-sectional perimeter [m]\n",
    "A_i = np.pi * (d/2)**2              # cross-sectional area [m²]\n",
    "\n",
    "\n",
    "# material properties\n",
    "alpha = 0.000000146                 # heat diffusivity of the fluid [m²/s]\n",
    "rho = 998                           # density of the fluid [kg/m³]\n",
    "cp =  4186                          # heat capacity of the fluid [J/kgK]\n",
    "k_i = 0.5                           # thermal condunctance of the wall [W/m²K]\n",
    "\n",
    "# indirect heat \n",
    "\n",
    "lambda_i = (1/(A_i*rho*cp))         # coefficient of the input heat\n",
    "\n",
    "#CHARGING\n",
    "Qdot_char_aut = np.zeros(len(T_zero))\n",
    "Qdot_char_aut[2]=(10000)\n",
    "\n",
    "Qdot_char = np.copy(Qdot_char_aut)\n",
    "\n",
    "#DISCHARGING\n",
    "Qdot_dischar_aut = np.zeros(len(T_zero))\n",
    "#Qdot_dischar_aut[7]=(-5000)\n",
    "\n",
    "Qdot_dischar = np.copy(Qdot_dischar_aut)\n",
    "\n",
    "#General\n",
    "Qdot = Qdot_char + Qdot_dischar\n",
    "#Qdot = Qdot_char\n",
    "\n",
    "# direct heat\n",
    "phi_i = (1/(A_i*rho))\n",
    "\n",
    "mdot_0 = np.zeros(len(T_zero))\n",
    "Tm_0 = np.zeros(len(T_zero))\n",
    "\n",
    "mdot_aut= np.zeros(len(T_zero))\n",
    "Tm_aut = np.zeros(len(T_zero))\n",
    "\n",
    "#mdot_aut[2]=0.6\n",
    "#Tm_aut[2]=100\n",
    "\n",
    "\n",
    "mdot_char = mdot_aut\n",
    "Tm_char = Tm_aut\n",
    "\n",
    "mdot = mdot_aut\n",
    "Tm = Tm_aut\n",
    "\n",
    "\n",
    "dt = 60                             # length of the time steps [s]\n",
    "num_steps = 100                    # number of time steps to be made\n",
    "\n",
    "\n",
    "# losses: Beta calculations\n",
    "beta_i = (P_i*k_i)/(rho * cp * A_i) # coefficient of heat losses through the wall of the tank [1/s]\n",
    "beta_top = (k_i/(rho * cp * dz))    # coefficient of heat losses through the ceiling of the tank [1/s]\n",
    "beta_bottom = (k_i/(rho * cp * dz)) # coefficient of heat losses through the ground of the tank [1/s]"
   ]
  },
  {
   "cell_type": "markdown",
   "metadata": {},
   "source": [
    "### Plots"
   ]
  },
  {
   "cell_type": "markdown",
   "metadata": {},
   "source": [
    "#### Model 4: only indirect heating (heat exchanger)"
   ]
  },
  {
   "cell_type": "code",
   "execution_count": 76,
   "metadata": {},
   "outputs": [
    {
     "data": {
      "application/vnd.plotly.v1+json": {
       "config": {
        "plotlyServerURL": "https://plot.ly"
       },
       "data": [
        {
         "mode": "lines",
         "name": "0 seconds",
         "type": "scatter",
         "x": [
          0.10495000000000002,
          0.3148500000000001,
          0.52475,
          0.7346500000000001,
          0.9445500000000001,
          1.1544500000000002,
          1.3643500000000004,
          1.5742500000000004,
          1.7841500000000003,
          1.9940500000000003
         ],
         "y": [
          100,
          90,
          80,
          70,
          60,
          50,
          40,
          30,
          20,
          10
         ]
        },
        {
         "mode": "lines",
         "name": "60 seconds",
         "type": "scatter",
         "x": [
          0.10495000000000002,
          0.3148500000000001,
          0.52475,
          0.7346500000000001,
          0.9445500000000001,
          1.1544500000000002,
          1.3643500000000004,
          1.5742500000000004,
          1.7841500000000003,
          1.9940500000000003
         ],
         "y": [
          99.99801171228569,
          90,
          80,
          70,
          60,
          50,
          40,
          30,
          20,
          10.001988287714312
         ]
        },
        {
         "mode": "lines",
         "name": "120 seconds",
         "type": "scatter",
         "x": [
          0.10495000000000002,
          0.3148500000000001,
          0.52475,
          0.7346500000000001,
          0.9445500000000001,
          1.1544500000000002,
          1.3643500000000004,
          1.5742500000000004,
          1.7841500000000003,
          1.9940500000000003
         ],
         "y": [
          99.99602381990017,
          89.9999996046712,
          80,
          70,
          60,
          50,
          40,
          30,
          20.000000395328804,
          10.00397618009982
         ]
        },
        {
         "mode": "lines",
         "name": "180 seconds",
         "type": "scatter",
         "x": [
          0.10495000000000002,
          0.3148500000000001,
          0.52475,
          0.7346500000000001,
          0.9445500000000001,
          1.1544500000000002,
          1.3643500000000004,
          1.5742500000000004,
          1.7841500000000003,
          1.9940500000000003
         ],
         "y": [
          99.99403632268627,
          89.99999881424941,
          79.9999999999214,
          70,
          60,
          50,
          40,
          30.000000000078604,
          20.0000011857506,
          10.005963677313728
         ]
        },
        {
         "mode": "lines",
         "name": "240 seconds",
         "type": "scatter",
         "x": [
          0.10495000000000002,
          0.3148500000000001,
          0.52475,
          0.7346500000000001,
          0.9445500000000001,
          1.1544500000000002,
          1.3643500000000004,
          1.5742500000000004,
          1.7841500000000003,
          1.9940500000000003
         ],
         "y": [
          99.99204922048683,
          89.99999762897028,
          79.99999999968567,
          69.99999999999999,
          60,
          50,
          40.000000000000014,
          30.000000000314333,
          20.00000237102973,
          10.007950779513168
         ]
        },
        {
         "mode": "lines",
         "name": "300 seconds",
         "type": "scatter",
         "x": [
          0.10495000000000002,
          0.3148500000000001,
          0.52475,
          0.7346500000000001,
          0.9445500000000001,
          1.1544500000000002,
          1.3643500000000004,
          1.5742500000000004,
          1.7841500000000003,
          1.9940500000000003
         ],
         "y": [
          99.99006251314482,
          89.99999604906935,
          79.99999999921437,
          69.99999999999993,
          60,
          50,
          40.00000000000008,
          30.000000000785636,
          20.000003950930658,
          10.009937486855186
         ]
        },
        {
         "mode": "lines",
         "name": "360 seconds",
         "type": "scatter",
         "x": [
          0.10495000000000002,
          0.3148500000000001,
          0.52475,
          0.7346500000000001,
          0.9445500000000001,
          1.1544500000000002,
          1.3643500000000004,
          1.5742500000000004,
          1.7841500000000003,
          1.9940500000000003
         ],
         "y": [
          99.98807620050326,
          89.99999407478201,
          79.99999999842912,
          69.99999999999977,
          60,
          50,
          40.000000000000234,
          30.000000001570882,
          20.000005925217998,
          10.011923799496754
         ]
        },
        {
         "mode": "lines",
         "name": "420 seconds",
         "type": "scatter",
         "x": [
          0.10495000000000002,
          0.3148500000000001,
          0.52475,
          0.7346500000000001,
          0.9445500000000001,
          1.1544500000000002,
          1.3643500000000004,
          1.5742500000000004,
          1.7841500000000003,
          1.9940500000000003
         ],
         "y": [
          99.98609028240524,
          89.9999917063435,
          79.99999999725163,
          69.99999999999946,
          60,
          50,
          40.00000000000055,
          30.00000000274836,
          20.000008293656506,
          10.013909717594764
         ]
        },
        {
         "mode": "lines",
         "name": "480 seconds",
         "type": "scatter",
         "x": [
          0.10495000000000002,
          0.3148500000000001,
          0.52475,
          0.7346500000000001,
          0.9445500000000001,
          1.1544500000000002,
          1.3643500000000004,
          1.5742500000000004,
          1.7841500000000003,
          1.9940500000000003
         ],
         "y": [
          99.98410475869397,
          89.99998894398892,
          79.99999999560372,
          69.99999999999892,
          60,
          50,
          40.000000000001094,
          30.000000004396288,
          20.00001105601108,
          10.015895241306032
         ]
        },
        {
         "mode": "lines",
         "name": "540 seconds",
         "type": "scatter",
         "x": [
          0.10495000000000002,
          0.3148500000000001,
          0.52475,
          0.7346500000000001,
          0.9445500000000001,
          1.1544500000000002,
          1.3643500000000004,
          1.5742500000000004,
          1.7841500000000003,
          1.9940500000000003
         ],
         "y": [
          99.9821196292127,
          89.99998578795325,
          79.99999999340722,
          69.99999999999805,
          60,
          50,
          40.00000000000197,
          30.000000006592792,
          20.000014212046747,
          10.017880370787296
         ]
        },
        {
         "mode": "lines",
         "name": "600 seconds",
         "type": "scatter",
         "x": [
          0.10495000000000002,
          0.3148500000000001,
          0.52475,
          0.7346500000000001,
          0.9445500000000001,
          1.1544500000000002,
          1.3643500000000004,
          1.5742500000000004,
          1.7841500000000003,
          1.9940500000000003
         ],
         "y": [
          99.98013489380479,
          89.9999822384713,
          79.99999999058407,
          69.99999999999675,
          60,
          50,
          40.000000000003276,
          30.000000009415935,
          20.000017761528685,
          10.019865106195214
         ]
        },
        {
         "mode": "lines",
         "name": "660 seconds",
         "type": "scatter",
         "x": [
          0.10495000000000002,
          0.3148500000000001,
          0.52475,
          0.7346500000000001,
          0.9445500000000001,
          1.1544500000000002,
          1.3643500000000004,
          1.5742500000000004,
          1.7841500000000003,
          1.9940500000000003
         ],
         "y": [
          99.97815055231364,
          89.99997829577778,
          79.99999998705631,
          69.99999999999487,
          60,
          50,
          40.000000000005144,
          30.000000012943694,
          20.00002170422221,
          10.02184944768637
         ]
        },
        {
         "mode": "lines",
         "name": "720 seconds",
         "type": "scatter",
         "x": [
          0.10495000000000002,
          0.3148500000000001,
          0.52475,
          0.7346500000000001,
          0.9445500000000001,
          1.1544500000000002,
          1.3643500000000004,
          1.5742500000000004,
          1.7841500000000003,
          1.9940500000000003
         ],
         "y": [
          99.97616660458274,
          89.99997396010721,
          79.99999998274603,
          69.9999999999923,
          60,
          50,
          40.00000000000772,
          30.00000001725397,
          20.000026039892777,
          10.023833395417265
         ]
        },
        {
         "mode": "lines",
         "name": "780 seconds",
         "type": "scatter",
         "x": [
          0.10495000000000002,
          0.3148500000000001,
          0.52475,
          0.7346500000000001,
          0.9445500000000001,
          1.1544500000000002,
          1.3643500000000004,
          1.5742500000000004,
          1.7841500000000003,
          1.9940500000000003
         ],
         "y": [
          99.97418305045568,
          89.99996923169401,
          79.99999997757541,
          69.99999999998887,
          60,
          50,
          40.00000000001114,
          30.00000002242459,
          20.00003076830598,
          10.025816949544327
         ]
        },
        {
         "mode": "lines",
         "name": "840 seconds",
         "type": "scatter",
         "x": [
          0.10495000000000002,
          0.3148500000000001,
          0.52475,
          0.7346500000000001,
          0.9445500000000001,
          1.1544500000000002,
          1.3643500000000004,
          1.5742500000000004,
          1.7841500000000003,
          1.9940500000000003
         ],
         "y": [
          99.9721998897761,
          89.99996411077244,
          79.9999999714667,
          69.99999999998442,
          60,
          50,
          40.000000000015596,
          30.0000000285333,
          20.00003588922755,
          10.027800110223902
         ]
        },
        {
         "mode": "lines",
         "name": "900 seconds",
         "type": "scatter",
         "x": [
          0.10495000000000002,
          0.3148500000000001,
          0.52475,
          0.7346500000000001,
          0.9445500000000001,
          1.1544500000000002,
          1.3643500000000004,
          1.5742500000000004,
          1.7841500000000003,
          1.9940500000000003
         ],
         "y": [
          99.97021712238775,
          89.99995859757662,
          79.99999996434224,
          69.99999999997875,
          60,
          50,
          40.00000000002127,
          30.000000035657767,
          20.000041402423363,
          10.029782877612263
         ]
        },
        {
         "mode": "lines",
         "name": "960 seconds",
         "type": "scatter",
         "x": [
          0.10495000000000002,
          0.3148500000000001,
          0.52475,
          0.7346500000000001,
          0.9445500000000001,
          1.1544500000000002,
          1.3643500000000004,
          1.5742500000000004,
          1.7841500000000003,
          1.9940500000000003
         ],
         "y": [
          99.9682347481344,
          89.99995269234056,
          79.99999995612441,
          69.99999999997168,
          59.99999999999999,
          50.00000000000001,
          40.00000000002835,
          30.000000043875584,
          20.000047307659433,
          10.031765251865602
         ]
        },
        {
         "mode": "lines",
         "name": "1020 seconds",
         "type": "scatter",
         "x": [
          0.10495000000000002,
          0.3148500000000001,
          0.52475,
          0.7346500000000001,
          0.9445500000000001,
          1.1544500000000002,
          1.3643500000000004,
          1.5742500000000004,
          1.7841500000000003,
          1.9940500000000003
         ],
         "y": [
          99.96625276685998,
          89.99994639529808,
          79.99999994673573,
          69.99999999996297,
          59.999999999999986,
          50.000000000000014,
          40.00000000003706,
          30.000000053264266,
          20.00005360470191,
          10.033747233140035
         ]
        },
        {
         "mode": "lines",
         "name": "1080 seconds",
         "type": "scatter",
         "x": [
          0.10495000000000002,
          0.3148500000000001,
          0.52475,
          0.7346500000000001,
          0.9445500000000001,
          1.1544500000000002,
          1.3643500000000004,
          1.5742500000000004,
          1.7841500000000003,
          1.9940500000000003
         ],
         "y": [
          99.96427117840841,
          89.9999397066829,
          79.99999993609875,
          69.9999999999524,
          59.99999999999998,
          50.00000000000002,
          40.000000000047635,
          30.00000006390125,
          20.00006029331709,
          10.035728821591599
         ]
        },
        {
         "mode": "lines",
         "name": "1140 seconds",
         "type": "scatter",
         "x": [
          0.10495000000000002,
          0.3148500000000001,
          0.52475,
          0.7346500000000001,
          0.9445500000000001,
          1.1544500000000002,
          1.3643500000000004,
          1.5742500000000004,
          1.7841500000000003,
          1.9940500000000003
         ],
         "y": [
          99.96228998262376,
          89.99993262672858,
          79.9999999241361,
          69.9999999999397,
          59.99999999999997,
          50.00000000000003,
          40.00000000006032,
          30.000000075863895,
          20.000067373271406,
          10.037710017376254
         ]
        },
        {
         "mode": "lines",
         "name": "1200 seconds",
         "type": "scatter",
         "x": [
          0.10495000000000002,
          0.3148500000000001,
          0.52475,
          0.7346500000000001,
          0.9445500000000001,
          1.1544500000000002,
          1.3643500000000004,
          1.5742500000000004,
          1.7841500000000003,
          1.9940500000000003
         ],
         "y": [
          99.96030917935013,
          89.99992515566856,
          79.99999991077051,
          69.99999999992464,
          59.99999999999996,
          50.00000000000004,
          40.000000000075374,
          30.000000089229484,
          20.000074844331426,
          10.039690820649884
         ]
        },
        {
         "mode": "lines",
         "name": "1260 seconds",
         "type": "scatter",
         "x": [
          0.10495000000000002,
          0.3148500000000001,
          0.52475,
          0.7346500000000001,
          0.9445500000000001,
          1.1544500000000002,
          1.3643500000000004,
          1.5742500000000004,
          1.7841500000000003,
          1.9940500000000003
         ],
         "y": [
          99.95832876843173,
          89.99991729373613,
          79.99999989592477,
          69.99999999990693,
          59.99999999999994,
          50.00000000000006,
          40.00000000009309,
          30.000000104075223,
          20.00008270626386,
          10.041671231568294
         ]
        },
        {
         "mode": "lines",
         "name": "1320 seconds",
         "type": "scatter",
         "x": [
          0.10495000000000002,
          0.3148500000000001,
          0.52475,
          0.7346500000000001,
          0.9445500000000001,
          1.1544500000000002,
          1.3643500000000004,
          1.5742500000000004,
          1.7841500000000003,
          1.9940500000000003
         ],
         "y": [
          99.9563487497128,
          89.99990904116443,
          79.99999987952175,
          69.99999999988627,
          59.99999999999992,
          50.00000000000008,
          40.000000000113744,
          30.00000012047824,
          20.00009095883556,
          10.043651250287214
         ]
        },
        {
         "mode": "lines",
         "name": "1380 seconds",
         "type": "scatter",
         "x": [
          0.10495000000000002,
          0.3148500000000001,
          0.52475,
          0.7346500000000001,
          0.9445500000000001,
          1.1544500000000002,
          1.3643500000000004,
          1.5742500000000004,
          1.7841500000000003,
          1.9940500000000003
         ],
         "y": [
          99.95436912303772,
          89.99990039818647,
          79.99999986148441,
          69.99999999986237,
          59.9999999999999,
          50.0000000000001,
          40.00000000013765,
          30.00000013851559,
          20.000099601813513,
          10.045630876962292
         ]
        },
        {
         "mode": "lines",
         "name": "1440 seconds",
         "type": "scatter",
         "x": [
          0.10495000000000002,
          0.3148500000000001,
          0.52475,
          0.7346500000000001,
          0.9445500000000001,
          1.1544500000000002,
          1.3643500000000004,
          1.5742500000000004,
          1.7841500000000003,
          1.9940500000000003
         ],
         "y": [
          99.9523898882509,
          89.99989136503514,
          79.99999984173576,
          69.99999999983488,
          59.99999999999987,
          50.00000000000013,
          40.00000000016514,
          30.00000015826424,
          20.000108634964846,
          10.047610111749103
         ]
        },
        {
         "mode": "lines",
         "name": "1500 seconds",
         "type": "scatter",
         "x": [
          0.10495000000000002,
          0.3148500000000001,
          0.52475,
          0.7346500000000001,
          0.9445500000000001,
          1.1544500000000002,
          1.3643500000000004,
          1.5742500000000004,
          1.7841500000000003,
          1.9940500000000003
         ],
         "y": [
          99.95041104519686,
          89.99988194194316,
          79.99999982019891,
          69.99999999980348,
          59.99999999999984,
          50.00000000000016,
          40.000000000196536,
          30.000000179801095,
          20.000118058056827,
          10.049588954803143
         ]
        },
        {
         "mode": "lines",
         "name": "1560 seconds",
         "type": "scatter",
         "x": [
          0.10495000000000002,
          0.3148500000000001,
          0.52475,
          0.7346500000000001,
          0.9445500000000001,
          1.1544500000000002,
          1.3643500000000004,
          1.5742500000000004,
          1.7841500000000003,
          1.9940500000000003
         ],
         "y": [
          99.94843259372017,
          89.99987212914313,
          79.99999979679703,
          69.99999999976781,
          59.9999999999998,
          50.0000000000002,
          40.000000000232205,
          30.000000203202973,
          20.00012787085686,
          10.051567406279833
         ]
        },
        {
         "mode": "lines",
         "name": "1620 seconds",
         "type": "scatter",
         "x": [
          0.10495000000000002,
          0.3148500000000001,
          0.52475,
          0.7346500000000001,
          0.9445500000000001,
          1.1544500000000002,
          1.3643500000000004,
          1.5742500000000004,
          1.7841500000000003,
          1.9940500000000003
         ],
         "y": [
          99.94645453366549,
          89.9998619268675,
          79.99999977145337,
          69.99999999972749,
          59.99999999999976,
          50.00000000000024,
          40.000000000272514,
          30.000000228546618,
          20.00013807313249,
          10.053545466334514
         ]
        },
        {
         "mode": "lines",
         "name": "1680 seconds",
         "type": "scatter",
         "x": [
          0.10495000000000002,
          0.3148500000000001,
          0.52475,
          0.7346500000000001,
          0.9445500000000001,
          1.1544500000000002,
          1.3643500000000004,
          1.5742500000000004,
          1.7841500000000003,
          1.9940500000000003
         ],
         "y": [
          99.94447686487756,
          89.9998513353486,
          79.9999997440913,
          69.99999999968216,
          59.9999999999997,
          50.0000000000003,
          40.00000000031785,
          30.0000002559087,
          20.000148664651395,
          10.05552313512245
         ]
        },
        {
         "mode": "lines",
         "name": "1740 seconds",
         "type": "scatter",
         "x": [
          0.10495000000000002,
          0.3148500000000001,
          0.52475,
          0.7346500000000001,
          0.9445500000000001,
          1.1544500000000002,
          1.3643500000000004,
          1.5742500000000004,
          1.7841500000000003,
          1.9940500000000003
         ],
         "y": [
          99.94249958720118,
          89.99984035481859,
          79.99999971463419,
          69.9999999996314,
          59.99999999999964,
          50.00000000000036,
          40.0000000003686,
          30.000000285365807,
          20.000159645181398,
          10.057500412798827
         ]
        },
        {
         "mode": "lines",
         "name": "1800 seconds",
         "type": "scatter",
         "x": [
          0.10495000000000002,
          0.3148500000000001,
          0.52475,
          0.7346500000000001,
          0.9445500000000001,
          1.1544500000000002,
          1.3643500000000004,
          1.5742500000000004,
          1.7841500000000003,
          1.9940500000000003
         ],
         "y": [
          99.94052270048125,
          89.99982898550952,
          79.99999968300554,
          69.99999999957481,
          59.99999999999957,
          50.00000000000043,
          40.000000000425196,
          30.00000031699446,
          20.00017101449046,
          10.05947729951876
         ]
        },
        {
         "mode": "lines",
         "name": "1860 seconds",
         "type": "scatter",
         "x": [
          0.10495000000000002,
          0.3148500000000001,
          0.52475,
          0.7346500000000001,
          0.9445500000000001,
          1.1544500000000002,
          1.3643500000000004,
          1.5742500000000004,
          1.7841500000000003,
          1.9940500000000003
         ],
         "y": [
          99.93854620456273,
          89.99981722765331,
          79.99999964912891,
          69.99999999951196,
          59.99999999999948,
          50.00000000000052,
          40.00000000048806,
          30.00000035087109,
          20.000182772346676,
          10.06145379543728
         ]
        },
        {
         "mode": "lines",
         "name": "1920 seconds",
         "type": "scatter",
         "x": [
          0.10495000000000002,
          0.3148500000000001,
          0.52475,
          0.7346500000000001,
          0.9445500000000001,
          1.1544500000000002,
          1.3643500000000004,
          1.5742500000000004,
          1.7841500000000003,
          1.9940500000000003
         ],
         "y": [
          99.93657009929066,
          89.9998050814817,
          79.99999961292794,
          69.99999999944238,
          59.99999999999938,
          50.00000000000062,
          40.00000000055763,
          30.000000387072063,
          20.000194918518282,
          10.063429900709346
         ]
        },
        {
         "mode": "lines",
         "name": "1980 seconds",
         "type": "scatter",
         "x": [
          0.10495000000000002,
          0.3148500000000001,
          0.52475,
          0.7346500000000001,
          0.9445500000000001,
          1.1544500000000002,
          1.3643500000000004,
          1.5742500000000004,
          1.7841500000000003,
          1.9940500000000003
         ],
         "y": [
          99.93459438451018,
          89.99979254722632,
          79.99999957432634,
          69.99999999936564,
          59.99999999999927,
          50.00000000000073,
          40.000000000634365,
          30.00000042567366,
          20.000207452773655,
          10.065405615489837
         ]
        },
        {
         "mode": "lines",
         "name": "2040 seconds",
         "type": "scatter",
         "x": [
          0.10495000000000002,
          0.3148500000000001,
          0.52475,
          0.7346500000000001,
          0.9445500000000001,
          1.1544500000000002,
          1.3643500000000004,
          1.5742500000000004,
          1.7841500000000003,
          1.9940500000000003
         ],
         "y": [
          99.93261906006646,
          89.99977962511868,
          79.9999995332479,
          69.99999999928126,
          59.99999999999914,
          50.00000000000086,
          40.00000000071875,
          30.000000466752095,
          20.0002203748813,
          10.067380939933555
         ]
        },
        {
         "mode": "lines",
         "name": "2100 seconds",
         "type": "scatter",
         "x": [
          0.10495000000000002,
          0.3148500000000001,
          0.52475,
          0.7346500000000001,
          0.9445500000000001,
          1.1544500000000002,
          1.3643500000000004,
          1.5742500000000004,
          1.7841500000000003,
          1.9940500000000003
         ],
         "y": [
          99.93064412580479,
          89.9997663153901,
          79.9999994896165,
          69.99999999918874,
          59.999999999999,
          50.000000000001,
          40.00000000081127,
          30.000000510383497,
          20.000233684609878,
          10.069355874195228
         ]
        },
        {
         "mode": "lines",
         "name": "2160 seconds",
         "type": "scatter",
         "x": [
          0.10495000000000002,
          0.3148500000000001,
          0.52475,
          0.7346500000000001,
          0.9445500000000001,
          1.1544500000000002,
          1.3643500000000004,
          1.5742500000000004,
          1.7841500000000003,
          1.9940500000000003
         ],
         "y": [
          99.92866958157052,
          89.99975261827181,
          79.99999944335607,
          69.99999999908759,
          59.999999999998835,
          50.000000000001165,
          40.00000000091243,
          30.000000556643926,
          20.000247381728165,
          10.071330418429506
         ]
        },
        {
         "mode": "lines",
         "name": "2220 seconds",
         "type": "scatter",
         "x": [
          0.10495000000000002,
          0.3148500000000001,
          0.52475,
          0.7346500000000001,
          0.9445500000000001,
          1.1544500000000002,
          1.3643500000000004,
          1.5742500000000004,
          1.7841500000000003,
          1.9940500000000003
         ],
         "y": [
          99.92669542720907,
          89.99973853399489,
          79.99999939439064,
          69.99999999897727,
          59.99999999999866,
          50.00000000000134,
          40.00000000102274,
          30.000000605609358,
          20.000261466005092,
          10.07330457279096
         ]
        },
        {
         "mode": "lines",
         "name": "2280 seconds",
         "type": "scatter",
         "x": [
          0.10495000000000002,
          0.3148500000000001,
          0.52475,
          0.7346500000000001,
          0.9445500000000001,
          1.1544500000000002,
          1.3643500000000004,
          1.5742500000000004,
          1.7841500000000003,
          1.9940500000000003
         ],
         "y": [
          99.92472166256594,
          89.99972406279025,
          79.9999993426443,
          69.99999999885726,
          59.99999999999845,
          50.00000000000155,
          40.000000001142745,
          30.000000657355702,
          20.000275937209725,
          10.075278337434087
         ]
        },
        {
         "mode": "lines",
         "name": "2340 seconds",
         "type": "scatter",
         "x": [
          0.10495000000000002,
          0.3148500000000001,
          0.52475,
          0.7346500000000001,
          0.9445500000000001,
          1.1544500000000002,
          1.3643500000000004,
          1.5742500000000004,
          1.7841500000000003,
          1.9940500000000003
         ],
         "y": [
          99.92274828748673,
          89.99970920488872,
          79.99999928804122,
          69.99999999872702,
          59.999999999998224,
          50.000000000001776,
          40.000000001272994,
          30.000000711958783,
          20.000290795111262,
          10.077251712513307
         ]
        },
        {
         "mode": "lines",
         "name": "2400 seconds",
         "type": "scatter",
         "x": [
          0.10495000000000002,
          0.3148500000000001,
          0.52475,
          0.7346500000000001,
          0.9445500000000001,
          1.1544500000000002,
          1.3643500000000004,
          1.5742500000000004,
          1.7841500000000003,
          1.9940500000000003
         ],
         "y": [
          99.92077530181707,
          89.99969396052094,
          79.99999923050565,
          69.99999999858596,
          59.999999999997975,
          50.000000000002025,
          40.000000001414044,
          30.000000769494356,
          20.00030603947904,
          10.079224698182964
         ]
        },
        {
         "mode": "lines",
         "name": "2460 seconds",
         "type": "scatter",
         "x": [
          0.10495000000000002,
          0.3148500000000001,
          0.52475,
          0.7346500000000001,
          0.9445500000000001,
          1.1544500000000002,
          1.3643500000000004,
          1.5742500000000004,
          1.7841500000000003,
          1.9940500000000003
         ],
         "y": [
          99.91880270540271,
          89.99967832991744,
          79.99999916996191,
          69.99999999843352,
          59.9999999999977,
          50.0000000000023,
          40.00000000156648,
          30.000000830038097,
          20.000321670082535,
          10.081197294597322
         ]
        },
        {
         "mode": "lines",
         "name": "2520 seconds",
         "type": "scatter",
         "x": [
          0.10495000000000002,
          0.3148500000000001,
          0.52475,
          0.7346500000000001,
          0.9445500000000001,
          1.1544500000000002,
          1.3643500000000004,
          1.5742500000000004,
          1.7841500000000003,
          1.9940500000000003
         ],
         "y": [
          99.91683049808947,
          89.99966231330862,
          79.9999991063344,
          69.9999999982691,
          59.999999999997385,
          50.000000000002615,
          40.00000000173089,
          30.000000893665604,
          20.000337686691363,
          10.083169501910572
         ]
        },
        {
         "mode": "lines",
         "name": "2580 seconds",
         "type": "scatter",
         "x": [
          0.10495000000000002,
          0.3148500000000001,
          0.52475,
          0.7346500000000001,
          0.9445500000000001,
          1.1544500000000002,
          1.3643500000000004,
          1.5742500000000004,
          1.7841500000000003,
          1.9940500000000003
         ],
         "y": [
          99.91485867972321,
          89.99964591092471,
          79.9999990395476,
          69.99999999809211,
          59.999999999997044,
          50.000000000002956,
          40.000000001907885,
          30.000000960452404,
          20.000354089075277,
          10.085141320276827
         ]
        },
        {
         "mode": "lines",
         "name": "2640 seconds",
         "type": "scatter",
         "x": [
          0.10495000000000002,
          0.3148500000000001,
          0.52475,
          0.7346500000000001,
          0.9445500000000001,
          1.1544500000000002,
          1.3643500000000004,
          1.5742500000000004,
          1.7841500000000003,
          1.9940500000000003
         ],
         "y": [
          99.91288725014991,
          89.99962912299583,
          79.99999896952606,
          69.9999999979019,
          59.99999999999667,
          50.00000000000333,
          40.00000000209809,
          30.000001030473946,
          20.00037087700416,
          10.087112749850126
         ]
        },
        {
         "mode": "lines",
         "name": "2700 seconds",
         "type": "scatter",
         "x": [
          0.10495000000000002,
          0.3148500000000001,
          0.52475,
          0.7346500000000001,
          0.9445500000000001,
          1.1544500000000002,
          1.3643500000000004,
          1.5742500000000004,
          1.7841500000000003,
          1.9940500000000003
         ],
         "y": [
          99.9109162092156,
          89.99961194975195,
          79.9999988961944,
          69.99999999769784,
          59.999999999996255,
          50.000000000003745,
          40.000000002302144,
          30.000001103805605,
          20.000388050248038,
          10.089083790784429
         ]
        },
        {
         "mode": "lines",
         "name": "2760 seconds",
         "type": "scatter",
         "x": [
          0.10495000000000002,
          0.3148500000000001,
          0.52475,
          0.7346500000000001,
          0.9445500000000001,
          1.1544500000000002,
          1.3643500000000004,
          1.5742500000000004,
          1.7841500000000003,
          1.9940500000000003
         ],
         "y": [
          99.90894555676641,
          89.99959439142292,
          79.99999881947733,
          69.99999999747929,
          59.9999999999958,
          50.0000000000042,
          40.0000000025207,
          30.00000118052268,
          20.000405608577076,
          10.091054443233618
         ]
        },
        {
         "mode": "lines",
         "name": "2820 seconds",
         "type": "scatter",
         "x": [
          0.10495000000000002,
          0.3148500000000001,
          0.52475,
          0.7346500000000001,
          0.9445500000000001,
          1.1544500000000002,
          1.3643500000000004,
          1.5742500000000004,
          1.7841500000000003,
          1.9940500000000003
         ],
         "y": [
          99.90697529264853,
          89.99957644823843,
          79.99999873929961,
          69.99999999724557,
          59.9999999999953,
          50.0000000000047,
          40.00000000275442,
          30.000001260700394,
          20.000423551761568,
          10.093024707351503
         ]
        },
        {
         "mode": "lines",
         "name": "2880 seconds",
         "type": "scatter",
         "x": [
          0.10495000000000002,
          0.3148500000000001,
          0.52475,
          0.7346500000000001,
          0.9445500000000001,
          1.1544500000000002,
          1.3643500000000004,
          1.5742500000000004,
          1.7841500000000003,
          1.9940500000000003
         ],
         "y": [
          99.9050054167082,
          89.99955812042805,
          79.99999865558611,
          69.999999996996,
          59.999999999994756,
          50.000000000005244,
          40.00000000300399,
          30.000001344413892,
          20.000441879571955,
          10.094994583291815
         ]
        },
        {
         "mode": "lines",
         "name": "2940 seconds",
         "type": "scatter",
         "x": [
          0.10495000000000002,
          0.3148500000000001,
          0.52475,
          0.7346500000000001,
          0.9445500000000001,
          1.1544500000000002,
          1.3643500000000004,
          1.5742500000000004,
          1.7841500000000003,
          1.9940500000000003
         ],
         "y": [
          99.90303592879181,
          89.9995394082212,
          79.99999856826176,
          69.99999999672988,
          59.99999999999416,
          50.00000000000584,
          40.0000000032701,
          30.000001431738244,
          20.000460591778808,
          10.096964071208209
         ]
        },
        {
         "mode": "lines",
         "name": "3000 seconds",
         "type": "scatter",
         "x": [
          0.10495000000000002,
          0.3148500000000001,
          0.52475,
          0.7346500000000001,
          0.9445500000000001,
          1.1544500000000002,
          1.3643500000000004,
          1.5742500000000004,
          1.7841500000000003,
          1.9940500000000003
         ],
         "y": [
          99.90106682874575,
          89.99952031184716,
          79.99999847725155,
          69.99999999644652,
          59.99999999999351,
          50.00000000000649,
          40.000000003553474,
          30.000001522748452,
          20.000479688152836,
          10.098933171254266
         ]
        },
        {
         "mode": "lines",
         "name": "3060 seconds",
         "type": "scatter",
         "x": [
          0.10495000000000002,
          0.3148500000000001,
          0.52475,
          0.7346500000000001,
          0.9445500000000001,
          1.1544500000000002,
          1.3643500000000004,
          1.5742500000000004,
          1.7841500000000003,
          1.9940500000000003
         ],
         "y": [
          99.89909811641652,
          89.99950083153512,
          79.99999838248057,
          69.99999999614516,
          59.99999999999281,
          50.00000000000719,
          40.00000000385483,
          30.00000161751943,
          20.000499168464884,
          10.10090188358349
         ]
        },
        {
         "mode": "lines",
         "name": "3120 seconds",
         "type": "scatter",
         "x": [
          0.10495000000000002,
          0.3148500000000001,
          0.52475,
          0.7346500000000001,
          0.9445500000000001,
          1.1544500000000002,
          1.3643500000000004,
          1.5742500000000004,
          1.7841500000000003,
          1.9940500000000003
         ],
         "y": [
          99.89712979165071,
          89.99948096751406,
          79.99999828387396,
          69.99999999582509,
          59.99999999999205,
          50.00000000000795,
          40.00000000417491,
          30.000001716126032,
          20.000519032485936,
          10.102870208349305
         ]
        },
        {
         "mode": "lines",
         "name": "3180 seconds",
         "type": "scatter",
         "x": [
          0.10495000000000002,
          0.3148500000000001,
          0.52475,
          0.7346500000000001,
          0.9445500000000001,
          1.1544500000000002,
          1.3643500000000004,
          1.5742500000000004,
          1.7841500000000003,
          1.9940500000000003
         ],
         "y": [
          99.89516185429495,
          89.99946072001289,
          79.99999818135697,
          69.99999999548554,
          59.999999999991225,
          50.000000000008775,
          40.00000000451446,
          30.000001818643025,
          20.000539279987112,
          10.104838145705065
         ]
        },
        {
         "mode": "lines",
         "name": "3240 seconds",
         "type": "scatter",
         "x": [
          0.10495000000000002,
          0.3148500000000001,
          0.52475,
          0.7346500000000001,
          0.9445500000000001,
          1.1544500000000002,
          1.3643500000000004,
          1.5742500000000004,
          1.7841500000000003,
          1.9940500000000003
         ],
         "y": [
          99.89319430419597,
          89.99944008926033,
          79.9999980748549,
          69.99999999512573,
          59.99999999999033,
          50.00000000000967,
          40.000000004874266,
          30.000001925145103,
          20.000559910739668,
          10.106805695804043
         ]
        },
        {
         "mode": "lines",
         "name": "3300 seconds",
         "type": "scatter",
         "x": [
          0.10495000000000002,
          0.3148500000000001,
          0.52475,
          0.7346500000000001,
          0.9445500000000001,
          1.1544500000000002,
          1.3643500000000004,
          1.5742500000000004,
          1.7841500000000003,
          1.9940500000000003
         ],
         "y": [
          99.89122714120057,
          89.99941907548501,
          79.99999796429312,
          69.9999999947449,
          59.99999999998936,
          50.00000000001064,
          40.0000000052551,
          30.00000203570689,
          20.000580924514992,
          10.10877285879944
         ]
        },
        {
         "mode": "lines",
         "name": "3360 seconds",
         "type": "scatter",
         "x": [
          0.10495000000000002,
          0.3148500000000001,
          0.52475,
          0.7346500000000001,
          0.9445500000000001,
          1.1544500000000002,
          1.3643500000000004,
          1.5742500000000004,
          1.7841500000000003,
          1.9940500000000003
         ],
         "y": [
          99.88926036515564,
          89.99939767891539,
          79.99999784959708,
          69.99999999434223,
          59.999999999988326,
          50.000000000011674,
          40.000000005657775,
          30.000002150402928,
          20.000602321084614,
          10.110739634844379
         ]
        },
        {
         "mode": "lines",
         "name": "3420 seconds",
         "type": "scatter",
         "x": [
          0.10495000000000002,
          0.3148500000000001,
          0.52475,
          0.7346500000000001,
          0.9445500000000001,
          1.1544500000000002,
          1.3643500000000004,
          1.5742500000000004,
          1.7841500000000003,
          1.9940500000000003
         ],
         "y": [
          99.88729397590811,
          89.9993758997798,
          79.99999773069231,
          69.99999999391692,
          59.99999999998721,
          50.00000000001279,
          40.00000000608309,
          30.00000226930769,
          20.000624100220197,
          10.112706024091906
         ]
        },
        {
         "mode": "lines",
         "name": "3480 seconds",
         "type": "scatter",
         "x": [
          0.10495000000000002,
          0.3148500000000001,
          0.52475,
          0.7346500000000001,
          0.9445500000000001,
          1.1544500000000002,
          1.3643500000000004,
          1.5742500000000004,
          1.7841500000000003,
          1.9940500000000003
         ],
         "y": [
          99.88532797330502,
          89.99935373830645,
          79.99999760750443,
          69.99999999346812,
          59.99999999998601,
          50.00000000001399,
          40.00000000653188,
          30.00000239249557,
          20.000646261693543,
          10.114672026694995
         ]
        },
        {
         "mode": "lines",
         "name": "3540 seconds",
         "type": "scatter",
         "x": [
          0.10495000000000002,
          0.3148500000000001,
          0.52475,
          0.7346500000000001,
          0.9445500000000001,
          1.1544500000000002,
          1.3643500000000004,
          1.5742500000000004,
          1.7841500000000003,
          1.9940500000000003
         ],
         "y": [
          99.88336235719348,
          89.99933119472341,
          79.9999974799591,
          69.99999999299501,
          59.999999999984716,
          50.000000000015284,
          40.00000000700498,
          30.000002520040894,
          20.00066880527659,
          10.11663764280654
         ]
        },
        {
         "mode": "lines",
         "name": "3600 seconds",
         "type": "scatter",
         "x": [
          0.10495000000000002,
          0.3148500000000001,
          0.52475,
          0.7346500000000001,
          0.9445500000000001,
          1.1544500000000002,
          1.3643500000000004,
          1.5742500000000004,
          1.7841500000000003,
          1.9940500000000003
         ],
         "y": [
          99.88139712742066,
          89.99930826925859,
          79.99999734798209,
          69.99999999249674,
          59.99999999998333,
          50.00000000001667,
          40.00000000750325,
          30.000002652017905,
          20.000691730741405,
          10.11860287257936
         ]
        },
        {
         "mode": "lines",
         "name": "3660 seconds",
         "type": "scatter",
         "x": [
          0.10495000000000002,
          0.3148500000000001,
          0.52475,
          0.7346500000000001,
          0.9445500000000001,
          1.1544500000000002,
          1.3643500000000004,
          1.5742500000000004,
          1.7841500000000003,
          1.9940500000000003
         ],
         "y": [
          99.87943228383381,
          89.9992849621398,
          79.99999721149922,
          69.99999999197242,
          59.999999999981846,
          50.000000000018154,
          40.00000000802757,
          30.000002788500776,
          20.0007150378602,
          10.120567716166203
         ]
        },
        {
         "mode": "lines",
         "name": "3720 seconds",
         "type": "scatter",
         "x": [
          0.10495000000000002,
          0.3148500000000001,
          0.52475,
          0.7346500000000001,
          0.9445500000000001,
          1.1544500000000002,
          1.3643500000000004,
          1.5742500000000004,
          1.7841500000000003,
          1.9940500000000003
         ],
         "y": [
          99.87746782628028,
          89.99926127359468,
          79.9999970704364,
          69.99999999142118,
          59.99999999998026,
          50.00000000001974,
          40.000000008578816,
          30.000002929563603,
          20.000738726405316,
          10.122532173719733
         ]
        },
        {
         "mode": "lines",
         "name": "3780 seconds",
         "type": "scatter",
         "x": [
          0.10495000000000002,
          0.3148500000000001,
          0.52475,
          0.7346500000000001,
          0.9445500000000001,
          1.1544500000000002,
          1.3643500000000004,
          1.5742500000000004,
          1.7841500000000003,
          1.9940500000000003
         ],
         "y": [
          99.87550375460746,
          89.99923720385077,
          79.99999692471958,
          69.9999999908421,
          59.99999999997857,
          50.00000000002143,
          40.00000000915789,
          30.00000307528041,
          20.000762796149232,
          10.124496245392546
         ]
        },
        {
         "mode": "lines",
         "name": "3840 seconds",
         "type": "scatter",
         "x": [
          0.10495000000000002,
          0.3148500000000001,
          0.52475,
          0.7346500000000001,
          0.9445500000000001,
          1.1544500000000002,
          1.3643500000000004,
          1.5742500000000004,
          1.7841500000000003,
          1.9940500000000003
         ],
         "y": [
          99.87354006866285,
          89.99921275313544,
          79.99999677427485,
          69.99999999023429,
          59.999999999976765,
          50.000000000023235,
          40.00000000976571,
          30.000003225725145,
          20.00078724686456,
          10.126459931337159
         ]
        },
        {
         "mode": "lines",
         "name": "3900 seconds",
         "type": "scatter",
         "x": [
          0.10495000000000002,
          0.3148500000000001,
          0.52475,
          0.7346500000000001,
          0.9445500000000001,
          1.1544500000000002,
          1.3643500000000004,
          1.5742500000000004,
          1.7841500000000003,
          1.9940500000000003
         ],
         "y": [
          99.87157676829399,
          89.99918792167594,
          79.99999661902831,
          69.9999999895968,
          59.99999999997484,
          50.00000000002516,
          40.00000001040319,
          30.00000338097168,
          20.000812078324056,
          10.128423231706014
         ]
        },
        {
         "mode": "lines",
         "name": "3960 seconds",
         "type": "scatter",
         "x": [
          0.10495000000000002,
          0.3148500000000001,
          0.52475,
          0.7346500000000001,
          0.9445500000000001,
          1.1544500000000002,
          1.3643500000000004,
          1.5742500000000004,
          1.7841500000000003,
          1.9940500000000003
         ],
         "y": [
          99.86961385334853,
          89.99916270969939,
          79.99999645890617,
          69.99999998892869,
          59.999999999972786,
          50.000000000027214,
          40.00000001107129,
          30.000003541093815,
          20.000837290300602,
          10.130386146651478
         ]
        },
        {
         "mode": "lines",
         "name": "4020 seconds",
         "type": "scatter",
         "x": [
          0.10495000000000002,
          0.3148500000000001,
          0.52475,
          0.7346500000000001,
          0.9445500000000001,
          1.1544500000000002,
          1.3643500000000004,
          1.5742500000000004,
          1.7841500000000003,
          1.9940500000000003
         ],
         "y": [
          99.86765132367417,
          89.99913711743277,
          79.99999629383471,
          69.99999998822902,
          59.9999999999706,
          50.0000000000294,
          40.000000011770965,
          30.000003706165273,
          20.00086288256722,
          10.13234867632584
         ]
        },
        {
         "mode": "lines",
         "name": "4080 seconds",
         "type": "scatter",
         "x": [
          0.10495000000000002,
          0.3148500000000001,
          0.52475,
          0.7346500000000001,
          0.9445500000000001,
          1.1544500000000002,
          1.3643500000000004,
          1.5742500000000004,
          1.7841500000000003,
          1.9940500000000003
         ],
         "y": [
          99.86568917911869,
          89.99911114510292,
          79.99999612374027,
          69.9999999874968,
          59.999999999968274,
          50.000000000031726,
          40.00000001250318,
          30.00000387625971,
          20.000888854897063,
          10.134310820881318
         ]
        },
        {
         "mode": "lines",
         "name": "4140 seconds",
         "type": "scatter",
         "x": [
          0.10495000000000002,
          0.3148500000000001,
          0.52475,
          0.7346500000000001,
          0.9445500000000001,
          1.1544500000000002,
          1.3643500000000004,
          1.5742500000000004,
          1.7841500000000003,
          1.9940500000000003
         ],
         "y": [
          99.86372741952995,
          89.99908479293656,
          79.99999594854928,
          69.99999998673105,
          59.99999999996581,
          50.00000000003419,
          40.000000013268924,
          30.000004051450702,
          20.000915207063425,
          10.13627258047005
         ]
        },
        {
         "mode": "lines",
         "name": "4200 seconds",
         "type": "scatter",
         "x": [
          0.10495000000000002,
          0.3148500000000001,
          0.52475,
          0.7346500000000001,
          0.9445500000000001,
          1.1544500000000002,
          1.3643500000000004,
          1.5742500000000004,
          1.7841500000000003,
          1.9940500000000003
         ],
         "y": [
          99.8617660447559,
          89.99905806116026,
          79.99999576818824,
          69.99999998593078,
          59.999999999963194,
          50.000000000036806,
          40.0000000140692,
          30.000004231811747,
          20.000941938839734,
          10.138233955244104
         ]
        },
        {
         "mode": "lines",
         "name": "4260 seconds",
         "type": "scatter",
         "x": [
          0.10495000000000002,
          0.3148500000000001,
          0.52475,
          0.7346500000000001,
          0.9445500000000001,
          1.1544500000000002,
          1.3643500000000004,
          1.5742500000000004,
          1.7841500000000003,
          1.9940500000000003
         ],
         "y": [
          99.85980505464454,
          89.99903095000045,
          79.99999558258371,
          69.99999998509497,
          59.999999999960416,
          50.000000000039584,
          40.00000001490502,
          30.000004417416275,
          20.000969049999547,
          10.140194945355466
         ]
        },
        {
         "mode": "lines",
         "name": "4320 seconds",
         "type": "scatter",
         "x": [
          0.10495000000000002,
          0.3148500000000001,
          0.52475,
          0.7346500000000001,
          0.9445500000000001,
          1.1544500000000002,
          1.3643500000000004,
          1.5742500000000004,
          1.7841500000000003,
          1.9940500000000003
         ],
         "y": [
          99.85784444904395,
          89.99900345968344,
          79.99999539166234,
          69.99999998422258,
          59.999999999957474,
          50.000000000042526,
          40.00000001577741,
          30.00000460833764,
          20.00099654031656,
          10.142155550956053
         ]
        },
        {
         "mode": "lines",
         "name": "4380 seconds",
         "type": "scatter",
         "x": [
          0.10495000000000002,
          0.3148500000000001,
          0.52475,
          0.7346500000000001,
          0.9445500000000001,
          1.1544500000000002,
          1.3643500000000004,
          1.5742500000000004,
          1.7841500000000003,
          1.9940500000000003
         ],
         "y": [
          99.8558842278023,
          89.99897559043539,
          79.99999519535085,
          69.99999998331258,
          59.99999999995436,
          50.00000000004564,
          40.000000016687416,
          30.000004804649123,
          20.001024409564604,
          10.144115772197702
         ]
        },
        {
         "mode": "lines",
         "name": "4440 seconds",
         "type": "scatter",
         "x": [
          0.10495000000000002,
          0.3148500000000001,
          0.52475,
          0.7346500000000001,
          0.9445500000000001,
          1.1544500000000002,
          1.3643500000000004,
          1.5742500000000004,
          1.7841500000000003,
          1.9940500000000003
         ],
         "y": [
          99.85392439076783,
          89.99894734248235,
          79.99999499357604,
          69.9999999823639,
          59.99999999995107,
          50.00000000004893,
          40.00000001763609,
          30.00000500642393,
          20.001052657517647,
          10.146075609232179
         ]
        },
        {
         "mode": "lines",
         "name": "4500 seconds",
         "type": "scatter",
         "x": [
          0.10495000000000002,
          0.3148500000000001,
          0.52475,
          0.7346500000000001,
          0.9445500000000001,
          1.1544500000000002,
          1.3643500000000004,
          1.5742500000000004,
          1.7841500000000003,
          1.9940500000000003
         ],
         "y": [
          99.85196493778884,
          89.99891871605021,
          79.99999478626478,
          69.99999998137548,
          59.9999999999476,
          50.0000000000524,
          40.000000018624505,
          30.000005213735196,
          20.001081283949787,
          10.148035062211171
         ]
        },
        {
         "mode": "lines",
         "name": "4560 seconds",
         "type": "scatter",
         "x": [
          0.10495000000000002,
          0.3148500000000001,
          0.52475,
          0.7346500000000001,
          0.9445500000000001,
          1.1544500000000002,
          1.3643500000000004,
          1.5742500000000004,
          1.7841500000000003,
          1.9940500000000003
         ],
         "y": [
          99.85000586871371,
          89.99888971136474,
          79.999994573344,
          69.99999998034623,
          59.999999999943924,
          50.000000000056076,
          40.00000001965375,
          30.000005426655978,
          20.001110288635257,
          10.149994131286293
         ]
        },
        {
         "mode": "lines",
         "name": "4620 seconds",
         "type": "scatter",
         "x": [
          0.10495000000000002,
          0.3148500000000001,
          0.52475,
          0.7346500000000001,
          0.9445500000000001,
          1.1544500000000002,
          1.3643500000000004,
          1.5742500000000004,
          1.7841500000000003,
          1.9940500000000003
         ],
         "y": [
          99.84804718339092,
          89.99886032865157,
          79.99999435474072,
          69.99999997927506,
          59.99999999994005,
          50.00000000005995,
          40.00000002072492,
          30.00000564525926,
          20.001139671348426,
          10.151952816609084
         ]
        },
        {
         "mode": "lines",
         "name": "4680 seconds",
         "type": "scatter",
         "x": [
          0.10495000000000002,
          0.3148500000000001,
          0.52475,
          0.7346500000000001,
          0.9445500000000001,
          1.1544500000000002,
          1.3643500000000004,
          1.5742500000000004,
          1.7841500000000003,
          1.9940500000000003
         ],
         "y": [
          99.84608888166899,
          89.9988305681362,
          79.99999413038202,
          69.99999997816084,
          59.999999999935966,
          50.000000000064034,
          40.00000002183913,
          30.000005869617954,
          20.0011694318638,
          10.153911118331008
         ]
        },
        {
         "mode": "lines",
         "name": "4740 seconds",
         "type": "scatter",
         "x": [
          0.10495000000000002,
          0.3148500000000001,
          0.52475,
          0.7346500000000001,
          0.9445500000000001,
          1.1544500000000002,
          1.3643500000000004,
          1.5742500000000004,
          1.7841500000000003,
          1.9940500000000003
         ],
         "y": [
          99.84413096339655,
          89.99880043004399,
          79.99999390019508,
          69.99999997700246,
          59.99999999993166,
          50.00000000006834,
          40.000000022997504,
          30.0000060998049,
          20.001199569956015,
          10.155869036603452
         ]
        },
        {
         "mode": "lines",
         "name": "4800 seconds",
         "type": "scatter",
         "x": [
          0.10495000000000002,
          0.3148500000000001,
          0.52475,
          0.7346500000000001,
          0.9445500000000001,
          1.1544500000000002,
          1.3643500000000004,
          1.5742500000000004,
          1.7841500000000003,
          1.9940500000000003
         ],
         "y": [
          99.84217342842227,
          89.99876991460016,
          79.99999366410712,
          69.99999997579877,
          59.99999999992713,
          50.00000000007287,
          40.00000002420119,
          30.00000633589286,
          20.001230085399843,
          10.157826571577731
         ]
        },
        {
         "mode": "lines",
         "name": "4860 seconds",
         "type": "scatter",
         "x": [
          0.10495000000000002,
          0.3148500000000001,
          0.52475,
          0.7346500000000001,
          0.9445500000000001,
          1.1544500000000002,
          1.3643500000000004,
          1.5742500000000004,
          1.7841500000000003,
          1.9940500000000003
         ],
         "y": [
          99.84021627659492,
          89.99873902202981,
          79.99999342204546,
          69.99999997454863,
          59.99999999992236,
          50.00000000007764,
          40.00000002545134,
          30.000006577954526,
          20.00126097797019,
          10.159783723405084
         ]
        },
        {
         "mode": "lines",
         "name": "4920 seconds",
         "type": "scatter",
         "x": [
          0.10495000000000002,
          0.3148500000000001,
          0.52475,
          0.7346500000000001,
          0.9445500000000001,
          1.1544500000000002,
          1.3643500000000004,
          1.5742500000000004,
          1.7841500000000003,
          1.9940500000000003
         ],
         "y": [
          99.83825950776333,
          89.9987077525579,
          79.99999317393747,
          69.99999997325085,
          59.99999999991734,
          50.00000000008266,
          40.00000002674912,
          30.000006826062513,
          20.001292247442095,
          10.161740492236676
         ]
        },
        {
         "mode": "lines",
         "name": "4980 seconds",
         "type": "scatter",
         "x": [
          0.10495000000000002,
          0.3148500000000001,
          0.52475,
          0.7346500000000001,
          0.9445500000000001,
          1.1544500000000002,
          1.3643500000000004,
          1.5742500000000004,
          1.7841500000000003,
          1.9940500000000003
         ],
         "y": [
          99.83630312177641,
          89.99867610640926,
          79.99999291971062,
          69.99999997190426,
          59.99999999991207,
          50.00000000008793,
          40.00000002809572,
          30.000007080289368,
          20.001323893590733,
          10.163696878223597
         ]
        },
        {
         "mode": "lines",
         "name": "5040 seconds",
         "type": "scatter",
         "x": [
          0.10495000000000002,
          0.3148500000000001,
          0.52475,
          0.7346500000000001,
          0.9445500000000001,
          1.1544500000000002,
          1.3643500000000004,
          1.5742500000000004,
          1.7841500000000003,
          1.9940500000000003
         ],
         "y": [
          99.83434711848315,
          89.99864408380859,
          79.99999265929243,
          69.99999997050764,
          59.999999999906535,
          50.000000000093465,
          40.00000002949233,
          30.000007340707562,
          20.00135591619141,
          10.16565288151686
         ]
        },
        {
         "mode": "lines",
         "name": "5100 seconds",
         "type": "scatter",
         "x": [
          0.10495000000000002,
          0.3148500000000001,
          0.52475,
          0.7346500000000001,
          0.9445500000000001,
          1.1544500000000002,
          1.3643500000000004,
          1.5742500000000004,
          1.7841500000000003,
          1.9940500000000003
         ],
         "y": [
          99.8323914977326,
          89.99861168498043,
          79.99999239261051,
          69.99999996905981,
          59.99999999990073,
          50.00000000009927,
          40.000000030940164,
          30.000007607389488,
          20.001388315019568,
          10.167608502267404
         ]
        },
        {
         "mode": "lines",
         "name": "5160 seconds",
         "type": "scatter",
         "x": [
          0.10495000000000002,
          0.3148500000000001,
          0.52475,
          0.7346500000000001,
          0.9445500000000001,
          1.1544500000000002,
          1.3643500000000004,
          1.5742500000000004,
          1.7841500000000003,
          1.9940500000000003
         ],
         "y": [
          99.83043625937391,
          89.99857891014922,
          79.99999211959252,
          69.99999996755953,
          59.99999999989464,
          50.00000000010536,
          40.00000003244045,
          30.000007880407473,
          20.001421089850783,
          10.169563740626097
         ]
        },
        {
         "mode": "lines",
         "name": "5220 seconds",
         "type": "scatter",
         "x": [
          0.10495000000000002,
          0.3148500000000001,
          0.52475,
          0.7346500000000001,
          0.9445500000000001,
          1.1544500000000002,
          1.3643500000000004,
          1.5742500000000004,
          1.7841500000000003,
          1.9940500000000003
         ],
         "y": [
          99.82848140325628,
          89.99854575953924,
          79.99999184016622,
          69.99999996600556,
          59.99999999988825,
          50.00000000011175,
          40.00000003399442,
          30.00000815983377,
          20.001454240460763,
          10.17151859674373
         ]
        },
        {
         "mode": "lines",
         "name": "5280 seconds",
         "type": "scatter",
         "x": [
          0.10495000000000002,
          0.3148500000000001,
          0.52475,
          0.7346500000000001,
          0.9445500000000001,
          1.1544500000000002,
          1.3643500000000004,
          1.5742500000000004,
          1.7841500000000003,
          1.9940500000000003
         ],
         "y": [
          99.82652692922899,
          89.99851223337465,
          79.99999155425944,
          69.99999996439665,
          59.99999999988156,
          50.00000000011844,
          40.00000003560333,
          30.00000844574055,
          20.001487766625353,
          10.173473070771019
         ]
        },
        {
         "mode": "lines",
         "name": "5340 seconds",
         "type": "scatter",
         "x": [
          0.10495000000000002,
          0.3148500000000001,
          0.52475,
          0.7346500000000001,
          0.9445500000000001,
          1.1544500000000002,
          1.3643500000000004,
          1.5742500000000004,
          1.7841500000000003,
          1.9940500000000003
         ],
         "y": [
          99.8245728371414,
          89.99847833187948,
          79.99999126180006,
          69.99999996273152,
          59.999999999874554,
          50.000000000125446,
          40.00000003726845,
          30.000008738199927,
          20.001521668120525,
          10.175427162858602
         ]
        },
        {
         "mode": "lines",
         "name": "5400 seconds",
         "type": "scatter",
         "x": [
          0.10495000000000002,
          0.3148500000000001,
          0.52475,
          0.7346500000000001,
          0.9445500000000001,
          1.1544500000000002,
          1.3643500000000004,
          1.5742500000000004,
          1.7841500000000003,
          1.9940500000000003
         ],
         "y": [
          99.82261912684295,
          89.99844405527762,
          79.99999096271605,
          69.99999996100891,
          59.99999999986722,
          50.00000000013278,
          40.00000003899106,
          30.000009037283927,
          20.00155594472239,
          10.17738087315705
         ]
        },
        {
         "mode": "lines",
         "name": "5460 seconds",
         "type": "scatter",
         "x": [
          0.10495000000000002,
          0.3148500000000001,
          0.52475,
          0.7346500000000001,
          0.9445500000000001,
          1.1544500000000002,
          1.3643500000000004,
          1.5742500000000004,
          1.7841500000000003,
          1.9940500000000003
         ],
         "y": [
          99.82066579818314,
          89.99840940379282,
          79.99999065693547,
          69.99999995922752,
          59.99999999985955,
          50.00000000014045,
          40.000000040772456,
          30.000009343064512,
          20.001590596207194,
          10.179334201816854
         ]
        },
        {
         "mode": "lines",
         "name": "5520 seconds",
         "type": "scatter",
         "x": [
          0.10495000000000002,
          0.3148500000000001,
          0.52475,
          0.7346500000000001,
          0.9445500000000001,
          1.1544500000000002,
          1.3643500000000004,
          1.5742500000000004,
          1.7841500000000003,
          1.9940500000000003
         ],
         "y": [
          99.81871285101157,
          89.9983743776487,
          79.9999903443864,
          69.99999995738604,
          59.999999999851525,
          50.000000000148475,
          40.00000004261394,
          30.000009655613567,
          20.00162562235131,
          10.181287148988432
         ]
        },
        {
         "mode": "lines",
         "name": "5580 seconds",
         "type": "scatter",
         "x": [
          0.10495000000000002,
          0.3148500000000001,
          0.52475,
          0.7346500000000001,
          0.9445500000000001,
          1.1544500000000002,
          1.3643500000000004,
          1.5742500000000004,
          1.7841500000000003,
          1.9940500000000003
         ],
         "y": [
          99.81676028517788,
          89.99833897706877,
          79.99999002499706,
          69.99999995548313,
          59.99999999984314,
          50.00000000015686,
          40.00000004451684,
          30.000009975002907,
          20.00166102293124,
          10.183239714822127
         ]
        },
        {
         "mode": "lines",
         "name": "5640 seconds",
         "type": "scatter",
         "x": [
          0.10495000000000002,
          0.3148500000000001,
          0.52475,
          0.7346500000000001,
          0.9445500000000001,
          1.1544500000000002,
          1.3643500000000004,
          1.5742500000000004,
          1.7841500000000003,
          1.9940500000000003
         ],
         "y": [
          99.81480810053179,
          89.99830320227638,
          79.9999896986957,
          69.99999995351749,
          59.99999999983438,
          50.00000000016562,
          40.000000046482484,
          30.000010301304272,
          20.001696797723636,
          10.185191899468212
         ]
        },
        {
         "mode": "lines",
         "name": "5700 seconds",
         "type": "scatter",
         "x": [
          0.10495000000000002,
          0.3148500000000001,
          0.52475,
          0.7346500000000001,
          0.9445500000000001,
          1.1544500000000002,
          1.3643500000000004,
          1.5742500000000004,
          1.7841500000000003,
          1.9940500000000003
         ],
         "y": [
          99.81285629692313,
          89.99826705349474,
          79.99998936541064,
          69.99999995148774,
          59.999999999825235,
          50.000000000174765,
          40.00000004851223,
          30.00001063458933,
          20.001732946505268,
          10.18714370307688
         ]
        },
        {
         "mode": "lines",
         "name": "5760 seconds",
         "type": "scatter",
         "x": [
          0.10495000000000002,
          0.3148500000000001,
          0.52475,
          0.7346500000000001,
          0.9445500000000001,
          1.1544500000000002,
          1.3643500000000004,
          1.5742500000000004,
          1.7841500000000003,
          1.9940500000000003
         ],
         "y": [
          99.81090487420175,
          89.99823053094697,
          79.99998902507029,
          69.99999994939253,
          59.99999999981569,
          50.00000000018431,
          40.00000005060743,
          30.000010974929676,
          20.001769469053045,
          10.189095125798252
         ]
        },
        {
         "mode": "lines",
         "name": "5820 seconds",
         "type": "scatter",
         "x": [
          0.10495000000000002,
          0.3148500000000001,
          0.52475,
          0.7346500000000001,
          0.9445500000000001,
          1.1544500000000002,
          1.3643500000000004,
          1.5742500000000004,
          1.7841500000000003,
          1.9940500000000003
         ],
         "y": [
          99.80895383221763,
          89.99819363485601,
          79.99998867760314,
          69.99999994723049,
          59.99999999980574,
          50.00000000019426,
          40.00000005276948,
          30.000011322396833,
          20.001806365144006,
          10.191046167782375
         ]
        },
        {
         "mode": "lines",
         "name": "5880 seconds",
         "type": "scatter",
         "x": [
          0.10495000000000002,
          0.3148500000000001,
          0.52475,
          0.7346500000000001,
          0.9445500000000001,
          1.1544500000000002,
          1.3643500000000004,
          1.5742500000000004,
          1.7841500000000003,
          1.9940500000000003
         ],
         "y": [
          99.80700317082078,
          89.99815636544469,
          79.99998832293772,
          69.99999994500023,
          59.999999999795364,
          50.000000000204636,
          40.00000005499975,
          30.00001167706225,
          20.001843634555325,
          10.192996829179222
         ]
        },
        {
         "mode": "lines",
         "name": "5940 seconds",
         "type": "scatter",
         "x": [
          0.10495000000000002,
          0.3148500000000001,
          0.52475,
          0.7346500000000001,
          0.9445500000000001,
          1.1544500000000002,
          1.3643500000000004,
          1.5742500000000004,
          1.7841500000000003,
          1.9940500000000003
         ],
         "y": [
          99.80505288986132,
          89.9981187229357,
          79.99998796100267,
          69.99999994270033,
          59.99999999978455,
          50.00000000021545,
          40.00000005729966,
          30.00001203899731,
          20.00188127706431,
          10.194947110138692
         ]
        },
        {
         "mode": "lines",
         "name": "6000 seconds",
         "type": "scatter",
         "x": [
          0.10495000000000002,
          0.3148500000000001,
          0.52475,
          0.7346500000000001,
          0.9445500000000001,
          1.1544500000000002,
          1.3643500000000004,
          1.5742500000000004,
          1.7841500000000003,
          1.9940500000000003
         ],
         "y": [
          99.8031029891894,
          89.99808070755161,
          79.99998759172666,
          69.99999994032937,
          59.99999999977329,
          50.00000000022671,
          40.00000005967061,
          30.00001240827331,
          20.0019192924484,
          10.196897010810607
         ]
        }
       ],
       "layout": {
        "legend": {
         "title": {
          "text": "Time Passed"
         }
        },
        "shapes": [
         {
          "line": {
           "color": "grey",
           "dash": "dot",
           "width": 1
          },
          "type": "line",
          "x0": 0.20990000000000003,
          "x1": 0.20990000000000003,
          "xref": "x",
          "y0": 0,
          "y1": 1,
          "yref": "paper"
         },
         {
          "line": {
           "color": "grey",
           "dash": "dot",
           "width": 1
          },
          "type": "line",
          "x0": 0.41980000000000006,
          "x1": 0.41980000000000006,
          "xref": "x",
          "y0": 0,
          "y1": 1,
          "yref": "paper"
         },
         {
          "line": {
           "color": "grey",
           "dash": "dot",
           "width": 1
          },
          "type": "line",
          "x0": 0.6297000000000001,
          "x1": 0.6297000000000001,
          "xref": "x",
          "y0": 0,
          "y1": 1,
          "yref": "paper"
         },
         {
          "line": {
           "color": "grey",
           "dash": "dot",
           "width": 1
          },
          "type": "line",
          "x0": 0.8396000000000001,
          "x1": 0.8396000000000001,
          "xref": "x",
          "y0": 0,
          "y1": 1,
          "yref": "paper"
         },
         {
          "line": {
           "color": "grey",
           "dash": "dot",
           "width": 1
          },
          "type": "line",
          "x0": 1.0495,
          "x1": 1.0495,
          "xref": "x",
          "y0": 0,
          "y1": 1,
          "yref": "paper"
         },
         {
          "line": {
           "color": "grey",
           "dash": "dot",
           "width": 1
          },
          "type": "line",
          "x0": 1.2594,
          "x1": 1.2594,
          "xref": "x",
          "y0": 0,
          "y1": 1,
          "yref": "paper"
         },
         {
          "line": {
           "color": "grey",
           "dash": "dot",
           "width": 1
          },
          "type": "line",
          "x0": 1.4693000000000003,
          "x1": 1.4693000000000003,
          "xref": "x",
          "y0": 0,
          "y1": 1,
          "yref": "paper"
         },
         {
          "line": {
           "color": "grey",
           "dash": "dot",
           "width": 1
          },
          "type": "line",
          "x0": 1.6792000000000002,
          "x1": 1.6792000000000002,
          "xref": "x",
          "y0": 0,
          "y1": 1,
          "yref": "paper"
         },
         {
          "line": {
           "color": "grey",
           "dash": "dot",
           "width": 1
          },
          "type": "line",
          "x0": 1.8891000000000002,
          "x1": 1.8891000000000002,
          "xref": "x",
          "y0": 0,
          "y1": 1,
          "yref": "paper"
         }
        ],
        "template": {
         "data": {
          "bar": [
           {
            "error_x": {
             "color": "#2a3f5f"
            },
            "error_y": {
             "color": "#2a3f5f"
            },
            "marker": {
             "line": {
              "color": "#E5ECF6",
              "width": 0.5
             },
             "pattern": {
              "fillmode": "overlay",
              "size": 10,
              "solidity": 0.2
             }
            },
            "type": "bar"
           }
          ],
          "barpolar": [
           {
            "marker": {
             "line": {
              "color": "#E5ECF6",
              "width": 0.5
             },
             "pattern": {
              "fillmode": "overlay",
              "size": 10,
              "solidity": 0.2
             }
            },
            "type": "barpolar"
           }
          ],
          "carpet": [
           {
            "aaxis": {
             "endlinecolor": "#2a3f5f",
             "gridcolor": "white",
             "linecolor": "white",
             "minorgridcolor": "white",
             "startlinecolor": "#2a3f5f"
            },
            "baxis": {
             "endlinecolor": "#2a3f5f",
             "gridcolor": "white",
             "linecolor": "white",
             "minorgridcolor": "white",
             "startlinecolor": "#2a3f5f"
            },
            "type": "carpet"
           }
          ],
          "choropleth": [
           {
            "colorbar": {
             "outlinewidth": 0,
             "ticks": ""
            },
            "type": "choropleth"
           }
          ],
          "contour": [
           {
            "colorbar": {
             "outlinewidth": 0,
             "ticks": ""
            },
            "colorscale": [
             [
              0,
              "#0d0887"
             ],
             [
              0.1111111111111111,
              "#46039f"
             ],
             [
              0.2222222222222222,
              "#7201a8"
             ],
             [
              0.3333333333333333,
              "#9c179e"
             ],
             [
              0.4444444444444444,
              "#bd3786"
             ],
             [
              0.5555555555555556,
              "#d8576b"
             ],
             [
              0.6666666666666666,
              "#ed7953"
             ],
             [
              0.7777777777777778,
              "#fb9f3a"
             ],
             [
              0.8888888888888888,
              "#fdca26"
             ],
             [
              1,
              "#f0f921"
             ]
            ],
            "type": "contour"
           }
          ],
          "contourcarpet": [
           {
            "colorbar": {
             "outlinewidth": 0,
             "ticks": ""
            },
            "type": "contourcarpet"
           }
          ],
          "heatmap": [
           {
            "colorbar": {
             "outlinewidth": 0,
             "ticks": ""
            },
            "colorscale": [
             [
              0,
              "#0d0887"
             ],
             [
              0.1111111111111111,
              "#46039f"
             ],
             [
              0.2222222222222222,
              "#7201a8"
             ],
             [
              0.3333333333333333,
              "#9c179e"
             ],
             [
              0.4444444444444444,
              "#bd3786"
             ],
             [
              0.5555555555555556,
              "#d8576b"
             ],
             [
              0.6666666666666666,
              "#ed7953"
             ],
             [
              0.7777777777777778,
              "#fb9f3a"
             ],
             [
              0.8888888888888888,
              "#fdca26"
             ],
             [
              1,
              "#f0f921"
             ]
            ],
            "type": "heatmap"
           }
          ],
          "heatmapgl": [
           {
            "colorbar": {
             "outlinewidth": 0,
             "ticks": ""
            },
            "colorscale": [
             [
              0,
              "#0d0887"
             ],
             [
              0.1111111111111111,
              "#46039f"
             ],
             [
              0.2222222222222222,
              "#7201a8"
             ],
             [
              0.3333333333333333,
              "#9c179e"
             ],
             [
              0.4444444444444444,
              "#bd3786"
             ],
             [
              0.5555555555555556,
              "#d8576b"
             ],
             [
              0.6666666666666666,
              "#ed7953"
             ],
             [
              0.7777777777777778,
              "#fb9f3a"
             ],
             [
              0.8888888888888888,
              "#fdca26"
             ],
             [
              1,
              "#f0f921"
             ]
            ],
            "type": "heatmapgl"
           }
          ],
          "histogram": [
           {
            "marker": {
             "pattern": {
              "fillmode": "overlay",
              "size": 10,
              "solidity": 0.2
             }
            },
            "type": "histogram"
           }
          ],
          "histogram2d": [
           {
            "colorbar": {
             "outlinewidth": 0,
             "ticks": ""
            },
            "colorscale": [
             [
              0,
              "#0d0887"
             ],
             [
              0.1111111111111111,
              "#46039f"
             ],
             [
              0.2222222222222222,
              "#7201a8"
             ],
             [
              0.3333333333333333,
              "#9c179e"
             ],
             [
              0.4444444444444444,
              "#bd3786"
             ],
             [
              0.5555555555555556,
              "#d8576b"
             ],
             [
              0.6666666666666666,
              "#ed7953"
             ],
             [
              0.7777777777777778,
              "#fb9f3a"
             ],
             [
              0.8888888888888888,
              "#fdca26"
             ],
             [
              1,
              "#f0f921"
             ]
            ],
            "type": "histogram2d"
           }
          ],
          "histogram2dcontour": [
           {
            "colorbar": {
             "outlinewidth": 0,
             "ticks": ""
            },
            "colorscale": [
             [
              0,
              "#0d0887"
             ],
             [
              0.1111111111111111,
              "#46039f"
             ],
             [
              0.2222222222222222,
              "#7201a8"
             ],
             [
              0.3333333333333333,
              "#9c179e"
             ],
             [
              0.4444444444444444,
              "#bd3786"
             ],
             [
              0.5555555555555556,
              "#d8576b"
             ],
             [
              0.6666666666666666,
              "#ed7953"
             ],
             [
              0.7777777777777778,
              "#fb9f3a"
             ],
             [
              0.8888888888888888,
              "#fdca26"
             ],
             [
              1,
              "#f0f921"
             ]
            ],
            "type": "histogram2dcontour"
           }
          ],
          "mesh3d": [
           {
            "colorbar": {
             "outlinewidth": 0,
             "ticks": ""
            },
            "type": "mesh3d"
           }
          ],
          "parcoords": [
           {
            "line": {
             "colorbar": {
              "outlinewidth": 0,
              "ticks": ""
             }
            },
            "type": "parcoords"
           }
          ],
          "pie": [
           {
            "automargin": true,
            "type": "pie"
           }
          ],
          "scatter": [
           {
            "fillpattern": {
             "fillmode": "overlay",
             "size": 10,
             "solidity": 0.2
            },
            "type": "scatter"
           }
          ],
          "scatter3d": [
           {
            "line": {
             "colorbar": {
              "outlinewidth": 0,
              "ticks": ""
             }
            },
            "marker": {
             "colorbar": {
              "outlinewidth": 0,
              "ticks": ""
             }
            },
            "type": "scatter3d"
           }
          ],
          "scattercarpet": [
           {
            "marker": {
             "colorbar": {
              "outlinewidth": 0,
              "ticks": ""
             }
            },
            "type": "scattercarpet"
           }
          ],
          "scattergeo": [
           {
            "marker": {
             "colorbar": {
              "outlinewidth": 0,
              "ticks": ""
             }
            },
            "type": "scattergeo"
           }
          ],
          "scattergl": [
           {
            "marker": {
             "colorbar": {
              "outlinewidth": 0,
              "ticks": ""
             }
            },
            "type": "scattergl"
           }
          ],
          "scattermapbox": [
           {
            "marker": {
             "colorbar": {
              "outlinewidth": 0,
              "ticks": ""
             }
            },
            "type": "scattermapbox"
           }
          ],
          "scatterpolar": [
           {
            "marker": {
             "colorbar": {
              "outlinewidth": 0,
              "ticks": ""
             }
            },
            "type": "scatterpolar"
           }
          ],
          "scatterpolargl": [
           {
            "marker": {
             "colorbar": {
              "outlinewidth": 0,
              "ticks": ""
             }
            },
            "type": "scatterpolargl"
           }
          ],
          "scatterternary": [
           {
            "marker": {
             "colorbar": {
              "outlinewidth": 0,
              "ticks": ""
             }
            },
            "type": "scatterternary"
           }
          ],
          "surface": [
           {
            "colorbar": {
             "outlinewidth": 0,
             "ticks": ""
            },
            "colorscale": [
             [
              0,
              "#0d0887"
             ],
             [
              0.1111111111111111,
              "#46039f"
             ],
             [
              0.2222222222222222,
              "#7201a8"
             ],
             [
              0.3333333333333333,
              "#9c179e"
             ],
             [
              0.4444444444444444,
              "#bd3786"
             ],
             [
              0.5555555555555556,
              "#d8576b"
             ],
             [
              0.6666666666666666,
              "#ed7953"
             ],
             [
              0.7777777777777778,
              "#fb9f3a"
             ],
             [
              0.8888888888888888,
              "#fdca26"
             ],
             [
              1,
              "#f0f921"
             ]
            ],
            "type": "surface"
           }
          ],
          "table": [
           {
            "cells": {
             "fill": {
              "color": "#EBF0F8"
             },
             "line": {
              "color": "white"
             }
            },
            "header": {
             "fill": {
              "color": "#C8D4E3"
             },
             "line": {
              "color": "white"
             }
            },
            "type": "table"
           }
          ]
         },
         "layout": {
          "annotationdefaults": {
           "arrowcolor": "#2a3f5f",
           "arrowhead": 0,
           "arrowwidth": 1
          },
          "autotypenumbers": "strict",
          "coloraxis": {
           "colorbar": {
            "outlinewidth": 0,
            "ticks": ""
           }
          },
          "colorscale": {
           "diverging": [
            [
             0,
             "#8e0152"
            ],
            [
             0.1,
             "#c51b7d"
            ],
            [
             0.2,
             "#de77ae"
            ],
            [
             0.3,
             "#f1b6da"
            ],
            [
             0.4,
             "#fde0ef"
            ],
            [
             0.5,
             "#f7f7f7"
            ],
            [
             0.6,
             "#e6f5d0"
            ],
            [
             0.7,
             "#b8e186"
            ],
            [
             0.8,
             "#7fbc41"
            ],
            [
             0.9,
             "#4d9221"
            ],
            [
             1,
             "#276419"
            ]
           ],
           "sequential": [
            [
             0,
             "#0d0887"
            ],
            [
             0.1111111111111111,
             "#46039f"
            ],
            [
             0.2222222222222222,
             "#7201a8"
            ],
            [
             0.3333333333333333,
             "#9c179e"
            ],
            [
             0.4444444444444444,
             "#bd3786"
            ],
            [
             0.5555555555555556,
             "#d8576b"
            ],
            [
             0.6666666666666666,
             "#ed7953"
            ],
            [
             0.7777777777777778,
             "#fb9f3a"
            ],
            [
             0.8888888888888888,
             "#fdca26"
            ],
            [
             1,
             "#f0f921"
            ]
           ],
           "sequentialminus": [
            [
             0,
             "#0d0887"
            ],
            [
             0.1111111111111111,
             "#46039f"
            ],
            [
             0.2222222222222222,
             "#7201a8"
            ],
            [
             0.3333333333333333,
             "#9c179e"
            ],
            [
             0.4444444444444444,
             "#bd3786"
            ],
            [
             0.5555555555555556,
             "#d8576b"
            ],
            [
             0.6666666666666666,
             "#ed7953"
            ],
            [
             0.7777777777777778,
             "#fb9f3a"
            ],
            [
             0.8888888888888888,
             "#fdca26"
            ],
            [
             1,
             "#f0f921"
            ]
           ]
          },
          "colorway": [
           "#636efa",
           "#EF553B",
           "#00cc96",
           "#ab63fa",
           "#FFA15A",
           "#19d3f3",
           "#FF6692",
           "#B6E880",
           "#FF97FF",
           "#FECB52"
          ],
          "font": {
           "color": "#2a3f5f"
          },
          "geo": {
           "bgcolor": "white",
           "lakecolor": "white",
           "landcolor": "#E5ECF6",
           "showlakes": true,
           "showland": true,
           "subunitcolor": "white"
          },
          "hoverlabel": {
           "align": "left"
          },
          "hovermode": "closest",
          "mapbox": {
           "style": "light"
          },
          "paper_bgcolor": "white",
          "plot_bgcolor": "#E5ECF6",
          "polar": {
           "angularaxis": {
            "gridcolor": "white",
            "linecolor": "white",
            "ticks": ""
           },
           "bgcolor": "#E5ECF6",
           "radialaxis": {
            "gridcolor": "white",
            "linecolor": "white",
            "ticks": ""
           }
          },
          "scene": {
           "xaxis": {
            "backgroundcolor": "#E5ECF6",
            "gridcolor": "white",
            "gridwidth": 2,
            "linecolor": "white",
            "showbackground": true,
            "ticks": "",
            "zerolinecolor": "white"
           },
           "yaxis": {
            "backgroundcolor": "#E5ECF6",
            "gridcolor": "white",
            "gridwidth": 2,
            "linecolor": "white",
            "showbackground": true,
            "ticks": "",
            "zerolinecolor": "white"
           },
           "zaxis": {
            "backgroundcolor": "#E5ECF6",
            "gridcolor": "white",
            "gridwidth": 2,
            "linecolor": "white",
            "showbackground": true,
            "ticks": "",
            "zerolinecolor": "white"
           }
          },
          "shapedefaults": {
           "line": {
            "color": "#2a3f5f"
           }
          },
          "ternary": {
           "aaxis": {
            "gridcolor": "white",
            "linecolor": "white",
            "ticks": ""
           },
           "baxis": {
            "gridcolor": "white",
            "linecolor": "white",
            "ticks": ""
           },
           "bgcolor": "#E5ECF6",
           "caxis": {
            "gridcolor": "white",
            "linecolor": "white",
            "ticks": ""
           }
          },
          "title": {
           "x": 0.05
          },
          "xaxis": {
           "automargin": true,
           "gridcolor": "white",
           "linecolor": "white",
           "ticks": "",
           "title": {
            "standoff": 15
           },
           "zerolinecolor": "white",
           "zerolinewidth": 2
          },
          "yaxis": {
           "automargin": true,
           "gridcolor": "white",
           "linecolor": "white",
           "ticks": "",
           "title": {
            "standoff": 15
           },
           "zerolinecolor": "white",
           "zerolinewidth": 2
          }
         }
        },
        "title": {
         "text": "M0: only heat diffusion (no input)"
        },
        "xaxis": {
         "range": [
          0,
          2.099
         ],
         "title": {
          "text": "Height"
         }
        },
        "yaxis": {
         "title": {
          "text": "Temperature"
         }
        }
       }
      }
     },
     "metadata": {},
     "output_type": "display_data"
    },
    {
     "data": {
      "application/vnd.plotly.v1+json": {
       "config": {
        "plotlyServerURL": "https://plot.ly"
       },
       "data": [
        {
         "mode": "lines",
         "name": "0 seconds",
         "type": "scatter",
         "x": [
          0.10495000000000002,
          0.3148500000000001,
          0.52475,
          0.7346500000000001,
          0.9445500000000001,
          1.1544500000000002,
          1.3643500000000004,
          1.5742500000000004,
          1.7841500000000003,
          1.9940500000000003
         ],
         "y": [
          100,
          90,
          80,
          70,
          60,
          50,
          40,
          30,
          20,
          10
         ]
        },
        {
         "mode": "lines",
         "name": "60 seconds",
         "type": "scatter",
         "x": [
          0.10495000000000002,
          0.3148500000000001,
          0.52475,
          0.7346500000000001,
          0.9445500000000001,
          1.1544500000000002,
          1.3643500000000004,
          1.5742500000000004,
          1.7841500000000003,
          1.9940500000000003
         ],
         "y": [
          99.99109564752546,
          89.99680031620633,
          81.39309822941529,
          69.99752751706852,
          59.99789111749963,
          49.99825471793072,
          39.99861831836182,
          29.99898191879292,
          19.999345519224022,
          10.001423710999191
         ]
        },
        {
         "mode": "lines",
         "name": "120 seconds",
         "type": "scatter",
         "x": [
          0.10495000000000002,
          0.3148500000000001,
          0.52475,
          0.7346500000000001,
          0.9445500000000001,
          1.1544500000000002,
          1.3643500000000004,
          1.5742500000000004,
          1.7841500000000003,
          1.9940500000000003
         ],
         "y": [
          99.98219305770193,
          89.99387723869967,
          82.78559070191007,
          69.99533267594104,
          59.99578231167831,
          49.99650949931998,
          39.99723668696165,
          29.99796387460332,
          19.99869140315508,
          10.002846908319803
         ]
        },
        {
         "mode": "lines",
         "name": "180 seconds",
         "type": "scatter",
         "x": [
          0.10495000000000002,
          0.3148500000000001,
          0.52475,
          0.7346500000000001,
          0.9445500000000001,
          1.1544500000000002,
          1.3643500000000004,
          1.5742500000000004,
          1.7841500000000003,
          1.9940500000000003
         ],
         "y": [
          99.97329228505187,
          89.99123052733658,
          84.17747779059398,
          69.99341523568947,
          59.99367363771857,
          49.99476434416545,
          39.99585510579765,
          29.996945867497633,
          19.99803765154012,
          10.004269592172738
         ]
        },
        {
         "mode": "lines",
         "name": "240 seconds",
         "type": "scatter",
         "x": [
          0.10495000000000002,
          0.3148500000000001,
          0.52475,
          0.7346500000000001,
          0.9445500000000001,
          1.1544500000000002,
          1.3643500000000004,
          1.5742500000000004,
          1.7841500000000003,
          1.9940500000000003
         ],
         "y": [
          99.96439338403525,
          89.9888599421629,
          85.56875986831906,
          69.99177495557545,
          59.99156515073107,
          49.99301925247582,
          39.99447357486802,
          29.995927897542217,
          19.997384264126236,
          10.00569176276879
         ]
        },
        {
         "mode": "lines",
         "name": "300 seconds",
         "type": "scatter",
         "x": [
          0.10495000000000002,
          0.3148500000000001,
          0.52475,
          0.7346500000000001,
          0.9445500000000001,
          1.1544500000000002,
          1.3643500000000004,
          1.5742500000000004,
          1.7841500000000003,
          1.9940500000000003
         ],
         "y": [
          99.95549640904969,
          89.98676524341354,
          86.95943730767995,
          69.9904115950502,
          59.98945690575468,
          49.9912742242707,
          39.993092094170954,
          29.994909964803348,
          19.996731240660697,
          10.00711342031864
         ]
        },
        {
         "mode": "lines",
         "name": "360 seconds",
         "type": "scatter",
         "x": [
          0.10495000000000002,
          0.3148500000000001,
          0.52475,
          0.7346500000000001,
          0.9445500000000001,
          1.1544500000000002,
          1.3643500000000004,
          1.5742500000000004,
          1.7841500000000003,
          1.9940500000000003
         ],
         "y": [
          99.94660141443046,
          89.9849461915124,
          88.34951048101405,
          69.98932491375436,
          59.98734895775657,
          49.989529259580635,
          39.99171066370468,
          29.993892069347226,
          19.996078580890934,
          10.008534565032871
         ]
        },
        {
         "mode": "lines",
         "name": "420 seconds",
         "type": "scatter",
         "x": [
          0.10495000000000002,
          0.3148500000000001,
          0.52475,
          0.7346500000000001,
          0.9445500000000001,
          1.1544500000000002,
          1.3643500000000004,
          1.5742500000000004,
          1.7841500000000003,
          1.9940500000000003
         ],
         "y": [
          99.93770845445059,
          89.98340254707217,
          89.73897976040178,
          69.98851467151785,
          59.985241361632276,
          49.9877843584471,
          39.99032928346743,
          29.992874211239968,
          19.995426284564545,
          10.00995519712195
         ]
        },
        {
         "mode": "lines",
         "name": "480 seconds",
         "type": "scatter",
         "x": [
          0.10495000000000002,
          0.3148500000000001,
          0.52475,
          0.7346500000000001,
          0.9445500000000001,
          1.1544500000000002,
          1.3643500000000004,
          1.5742500000000004,
          1.7841500000000003,
          1.9940500000000003
         ],
         "y": [
          99.92881758332086,
          89.98213407089423,
          91.12784551766669,
          69.98798062835974,
          59.983134172205745,
          49.98603952092246,
          39.98894795345747,
          29.991856390547618,
          19.994774351429285,
          10.011375316796245
         ]
        },
        {
         "mode": "lines",
         "name": "540 seconds",
         "type": "scatter",
         "x": [
          0.10495000000000002,
          0.3148500000000001,
          0.52475,
          0.7346500000000001,
          0.9445500000000001,
          1.1544500000000002,
          1.3643500000000004,
          1.5742500000000004,
          1.7841500000000003,
          1.9940500000000003
         ],
         "y": [
          99.91992885518992,
          89.98114052396848,
          92.51610812437569,
          69.98772254448807,
          59.98102744422943,
          49.98429474706996,
          39.987566673673086,
          29.990838607336133,
          19.994122781233084,
          10.012794924266014
         ]
        },
        {
         "mode": "lines",
         "name": "600 seconds",
         "type": "scatter",
         "x": [
          0.10495000000000002,
          0.3148500000000001,
          0.52475,
          0.7346500000000001,
          0.9445500000000001,
          1.1544500000000002,
          1.3643500000000004,
          1.5742500000000004,
          1.7841500000000003,
          1.9940500000000003
         ],
         "y": [
          99.91104232414428,
          89.98042166747318,
          93.90376795183921,
          69.98774018029971,
          59.97892123238437,
          49.982550036963694,
          39.98618544411259,
          29.989820861671397,
          19.993471573724033,
          10.014214019741406
         ]
        },
        {
         "mode": "lines",
         "name": "660 seconds",
         "type": "scatter",
         "x": [
          0.10495000000000002,
          0.3148500000000001,
          0.52475,
          0.7346500000000001,
          0.9445500000000001,
          1.1544500000000002,
          1.3643500000000004,
          1.5742500000000004,
          1.7841500000000003,
          1.9940500000000003
         ],
         "y": [
          99.90215804420838,
          89.97997726277485,
          95.29082537111142,
          69.98803329638025,
          59.976815591280236,
          49.98080539068861,
          39.98480426477433,
          29.988803153619212,
          19.992820728650383,
          10.015632603432467
         ]
        },
        {
         "mode": "lines",
         "name": "720 seconds",
         "type": "scatter",
         "x": [
          0.10495000000000002,
          0.3148500000000001,
          0.52475,
          0.7346500000000001,
          0.9445500000000001,
          1.1544500000000002,
          1.3643500000000004,
          1.5742500000000004,
          1.7841500000000003,
          1.9940500000000003
         ],
         "y": [
          99.89327606934471,
          89.9798070714281,
          96.6772807529904,
          69.98860165350379,
          59.9747105754554,
          49.97906080834046,
          39.98342313565668,
          29.987785483245304,
          19.992170245760548,
          10.017050675549134
         ]
        },
        {
         "mode": "lines",
         "name": "780 seconds",
         "type": "scatter",
         "x": [
          0.10495000000000002,
          0.3148500000000001,
          0.52475,
          0.7346500000000001,
          0.9445500000000001,
          1.1544500000000002,
          1.3643500000000004,
          1.5742500000000004,
          1.7841500000000003,
          1.9940500000000003
         ],
         "y": [
          99.88439645345377,
          89.97991085517545,
          98.06313446801828,
          69.98944501263287,
          59.97260623937703,
          49.97731629002582,
          39.98204205675803,
          29.986767850615315,
          19.991520124803113,
          10.018468236301239
         ]
        },
        {
         "mode": "lines",
         "name": "840 seconds",
         "type": "scatter",
         "x": [
          0.10495000000000002,
          0.3148500000000001,
          0.52475,
          0.7346500000000001,
          0.9445500000000001,
          1.1544500000000002,
          1.3643500000000004,
          1.5742500000000004,
          1.7841500000000003,
          1.9940500000000003
         ],
         "y": [
          99.8755192503742,
          89.98028837594725,
          99.4483868864815,
          69.99056313491823,
          59.97050263744115,
          49.97557183586203,
          39.98066102807684,
          29.985750255794812,
          19.990870365526824,
          10.019885285898503
         ]
        },
        {
         "mode": "lines",
         "name": "900 seconds",
         "type": "scatter",
         "x": [
          0.10495000000000002,
          0.3148500000000001,
          0.52475,
          0.7346500000000001,
          0.9445500000000001,
          1.1544500000000002,
          1.3643500000000004,
          1.5742500000000004,
          1.7841500000000003,
          1.9940500000000003
         ],
         "y": [
          99.86664451388276,
          89.98093939586151,
          100.83303837841098,
          69.99195578169876,
          59.96839982397271,
          49.97382744597719,
          39.979280049611575,
          29.98473269884928,
          19.990220967680592,
          10.02130182455055
         ]
        },
        {
         "mode": "lines",
         "name": "960 seconds",
         "type": "scatter",
         "x": [
          0.10495000000000002,
          0.3148500000000001,
          0.52475,
          0.7346500000000001,
          0.9445500000000001,
          1.1544500000000002,
          1.3643500000000004,
          1.5742500000000004,
          1.7841500000000003,
          1.9940500000000003
         ],
         "y": [
          99.85777229769447,
          89.98186367722373,
          102.21708931358225,
          69.99362271450127,
          59.96629785322565,
          49.97208312051018,
          39.97789912136076,
          29.983715179844133,
          19.989571931013487,
          10.022717852466888
         ]
        },
        {
         "mode": "lines",
         "name": "1020 seconds",
         "type": "scatter",
         "x": [
          0.10495000000000002,
          0.3148500000000001,
          0.52475,
          0.7346500000000001,
          0.9445500000000001,
          1.1544500000000002,
          1.3643500000000004,
          1.5742500000000004,
          1.7841500000000003,
          1.9940500000000003
         ],
         "y": [
          99.84890265546258,
          89.98306098252677,
          103.6005400615157,
          69.99556369504042,
          59.964196779382966,
          49.97033885961056,
          39.976518243322936,
          29.982697698844696,
          19.988923255274745,
          10.024133369856923
         ]
        },
        {
         "mode": "lines",
         "name": "1080 seconds",
         "type": "scatter",
         "x": [
          0.10495000000000002,
          0.3148500000000001,
          0.52475,
          0.7346500000000001,
          0.9445500000000001,
          1.1544500000000002,
          1.3643500000000004,
          1.5742500000000004,
          1.7841500000000003,
          1.9940500000000003
         ],
         "y": [
          99.8400356407787,
          89.98453107445073,
          104.98339099147675,
          69.99777848521849,
          59.9620966565568,
          49.96859466343863,
          39.97513741549672,
          29.98168025591622,
          19.98827494021377,
          10.025548376929954
         ]
        },
        {
         "mode": "lines",
         "name": "1140 seconds",
         "type": "scatter",
         "x": [
          0.10495000000000002,
          0.3148500000000001,
          0.52475,
          0.7346500000000001,
          0.9445500000000001,
          1.1544500000000002,
          1.3643500000000004,
          1.5742500000000004,
          1.7841500000000003,
          1.9940500000000003
         ],
         "y": [
          99.83117130717277,
          89.98627371586278,
          106.365642472476,
          70.0002668471253,
          59.95999753878851,
          49.966850532165374,
          39.973756637880754,
          29.98066285112388,
          19.987626985580125,
          10.026962873895176
         ]
        },
        {
         "mode": "lines",
         "name": "1200 seconds",
         "type": "scatter",
         "x": [
          0.10495000000000002,
          0.3148500000000001,
          0.52475,
          0.7346500000000001,
          0.9445500000000001,
          1.1544500000000002,
          1.3643500000000004,
          1.5742500000000004,
          1.7841500000000003,
          1.9940500000000003
         ],
         "y": [
          99.8223097081132,
          89.98828866981702,
          107.74729487326944,
          70.00302854303806,
          59.9578994800487,
          49.96510646597244,
          39.97237591047374,
          29.979645484532774,
          19.986979391123533,
          10.028376860961673
         ]
        },
        {
         "mode": "lines",
         "name": "1260 seconds",
         "type": "scatter",
         "x": [
          0.10495000000000002,
          0.3148500000000001,
          0.52475,
          0.7346500000000001,
          0.9445500000000001,
          1.1544500000000002,
          1.3643500000000004,
          1.5742500000000004,
          1.7841500000000003,
          1.9940500000000003
         ],
         "y": [
          99.81345089700686,
          89.99057569955437,
          109.12834856235867,
          70.00606333542117,
          59.95580253423736,
          49.96336246505213,
          39.97099523327441,
          29.978628156207915,
          19.986332156593885,
          10.029790338338428
         ]
        },
        {
         "mode": "lines",
         "name": "1320 seconds",
         "type": "scatter",
         "x": [
          0.10495000000000002,
          0.3148500000000001,
          0.52475,
          0.7346500000000001,
          0.9445500000000001,
          1.1544500000000002,
          1.3643500000000004,
          1.5742500000000004,
          1.7841500000000003,
          1.9940500000000003
         ],
         "y": [
          99.80459492719918,
          89.99313456850234,
          110.50880390799101,
          70.00937098692616,
          59.95370675518385,
          49.96161852960738,
          39.96961460628156,
          29.977610866214242,
          19.985685281741237,
          10.031203306234312
         ]
        },
        {
         "mode": "lines",
         "name": "1380 seconds",
         "type": "scatter",
         "x": [
          0.10495000000000002,
          0.3148500000000001,
          0.52475,
          0.7346500000000001,
          0.9445500000000001,
          1.1544500000000002,
          1.3643500000000004,
          1.5742500000000004,
          1.7841500000000003,
          1.9940500000000003
         ],
         "y": [
          99.79574185197414,
          89.99596504027498,
          111.88866127815976,
          70.01295126039143,
          59.951612196647055,
          49.959874659851735,
          39.96823402949405,
          29.976593614616615,
          19.9850387663158,
          10.032615764858098
         ]
        },
        {
         "mode": "lines",
         "name": "1440 seconds",
         "type": "scatter",
         "x": [
          0.10495000000000002,
          0.3148500000000001,
          0.52475,
          0.7346500000000001,
          0.9445500000000001,
          1.1544500000000002,
          1.3643500000000004,
          1.5742500000000004,
          1.7841500000000003,
          1.9940500000000003
         ],
         "y": [
          99.78689172455442,
          89.99906687867268,
          113.26792104060432,
          70.01680391884221,
          59.94951891231539,
          49.95813085600935,
          39.96685350291077,
          29.975576401479817,
          19.984392610067953,
          10.034027714418448
         ]
        },
        {
         "mode": "lines",
         "name": "1500 seconds",
         "type": "scatter",
         "x": [
          0.10495000000000002,
          0.3148500000000001,
          0.52475,
          0.7346500000000001,
          0.9445500000000001,
          1.1544500000000002,
          1.3643500000000004,
          1.5742500000000004,
          1.7841500000000003,
          1.9940500000000003
         ],
         "y": [
          99.77804459810137,
          90.00243984768206,
          114.64658356281042,
          70.02092872549038,
          59.947426955806904,
          49.956387118314936,
          39.965473026530695,
          29.97455922686855,
          19.98374681274824,
          10.035439155123917
         ]
        },
        {
         "mode": "lines",
         "name": "1560 seconds",
         "type": "scatter",
         "x": [
          0.10495000000000002,
          0.3148500000000001,
          0.52475,
          0.7346500000000001,
          0.9445500000000001,
          1.1544500000000002,
          1.3643500000000004,
          1.5742500000000004,
          1.7841500000000003,
          1.9940500000000003
         ],
         "y": [
          99.76920052571509,
          90.00608371147578,
          116.02464921201029,
          70.02532544373427,
          59.945336380669346,
          49.95464344701378,
          39.96409260035284,
          29.97354209084744,
          19.983101374107363,
          10.036850087182957
         ]
        },
        {
         "mode": "lines",
         "name": "1620 seconds",
         "type": "scatter",
         "x": [
          0.10495000000000002,
          0.3148500000000001,
          0.52475,
          0.7346500000000001,
          0.9445500000000001,
          1.1544500000000002,
          1.3643500000000004,
          1.5742500000000004,
          1.7841500000000003,
          1.9940500000000003
         ],
         "y": [
          99.76035956043448,
          90.00999823441248,
          117.40211835518282,
          70.02999383715863,
          59.94324724038023,
          49.95289984236171,
          39.9627122243763,
          29.97252499348104,
          19.982456293896192,
          10.038260510803914
         ]
        },
        {
         "mode": "lines",
         "name": "1680 seconds",
         "type": "scatter",
         "x": [
          0.10495000000000002,
          0.3148500000000001,
          0.52475,
          0.7346500000000001,
          0.9445500000000001,
          1.1544500000000002,
          1.3643500000000004,
          1.5742500000000004,
          1.7841500000000003,
          1.9940500000000003
         ],
         "y": [
          99.7515217552373,
          90.01418318103654,
          118.7789913590538,
          70.03493366953437,
          59.9411595883469,
          49.951156304625066,
          39.961331898600214,
          29.97150793483382,
          19.98181157186575,
          10.039670426195027
         ]
        },
        {
         "mode": "lines",
         "name": "1740 seconds",
         "type": "scatter",
         "x": [
          0.10495000000000002,
          0.3148500000000001,
          0.52475,
          0.7346500000000001,
          0.9445500000000001,
          1.1544500000000002,
          1.3643500000000004,
          1.5742500000000004,
          1.7841500000000003,
          1.9940500000000003
         ],
         "y": [
          99.74268716304026,
          90.018638316078,
          120.15526859009606,
          70.04014470481847,
          59.9390734779066,
          49.94941283408069,
          39.959951623023805,
          29.97049091497017,
          19.981167207767236,
          10.041079833564432
         ]
        },
        {
         "mode": "lines",
         "name": "1800 seconds",
         "type": "scatter",
         "x": [
          0.10495000000000002,
          0.3148500000000001,
          0.52475,
          0.7346500000000001,
          0.9445500000000001,
          1.1544500000000002,
          1.3643500000000004,
          1.5742500000000004,
          1.7841500000000003,
          1.9940500000000003
         ],
         "y": [
          99.73385583669898,
          90.02336340445238,
          121.53095041452963,
          70.04562670715384,
          59.93698896232655,
          49.94766943101592,
          39.95857139764635,
          29.969473933954408,
          19.980523201351996,
          10.042488733120155
         ]
        },
        {
         "mode": "lines",
         "name": "1860 seconds",
         "type": "scatter",
         "x": [
          0.10495000000000002,
          0.3148500000000001,
          0.52475,
          0.7346500000000001,
          0.9445500000000001,
          1.1544500000000002,
          1.3643500000000004,
          1.5742500000000004,
          1.7841500000000003,
          1.9940500000000003
         ],
         "y": [
          99.72502782900814,
          90.02835821126058,
          122.906037198322,
          70.05137944086916,
          59.93490609480403,
          49.94592609572855,
          39.95719122246721,
          29.96845699185077,
          19.979879552371546,
          10.04389712507012
         ]
        },
        {
         "mode": "lines",
         "name": "1920 seconds",
         "type": "scatter",
         "x": [
          0.10495000000000002,
          0.3148500000000001,
          0.52475,
          0.7346500000000001,
          0.9445500000000001,
          1.1544500000000002,
          1.3643500000000004,
          1.5742500000000004,
          1.7841500000000003,
          1.9940500000000003
         ],
         "y": [
          99.71620319270147,
          90.0336225017887,
          124.28052930718825,
          70.05740267047871,
          59.932824928466395,
          49.944182828526834,
          39.95581109748581,
          29.967440088723414,
          19.979236260577565,
          10.045305009622147
         ]
        },
        {
         "mode": "lines",
         "name": "1980 seconds",
         "type": "scatter",
         "x": [
          0.10495000000000002,
          0.3148500000000001,
          0.52475,
          0.7346500000000001,
          0.9445500000000001,
          1.1544500000000002,
          1.3643500000000004,
          1.5742500000000004,
          1.7841500000000003,
          1.9940500000000003
         ],
         "y": [
          99.70738198045184,
          90.03915604150791,
          125.65442710659123,
          70.06369616068228,
          59.930745516371225,
          49.942439629729435,
          39.95443102270164,
          29.96642322463643,
          19.978593325721892,
          10.046712386983947
         ]
        },
        {
         "mode": "lines",
         "name": "2040 seconds",
         "type": "scatter",
         "x": [
          0.10495000000000002,
          0.3148500000000001,
          0.52475,
          0.7346500000000001,
          0.9445500000000001,
          1.1544500000000002,
          1.3643500000000004,
          1.5742500000000004,
          1.7841500000000003,
          1.9940500000000003
         ],
         "y": [
          99.69856424487129,
          90.0449585960743,
          127.02773096174177,
          70.07025967636501,
          59.928667911506324,
          49.94069649966544,
          39.953050998114286,
          29.96540639965382,
          19.977950747556527,
          10.048119257363126
         ]
        },
        {
         "mode": "lines",
         "name": "2100 seconds",
         "type": "scatter",
         "x": [
          0.10495000000000002,
          0.3148500000000001,
          0.52475,
          0.7346500000000001,
          0.9445500000000001,
          1.1544500000000002,
          1.3643500000000004,
          1.5742500000000004,
          1.7841500000000003,
          1.9940500000000003
         ],
         "y": [
          99.6897500385111,
          90.05102993132874,
          128.40044123759884,
          70.07709298259721,
          59.92659216678982,
          49.93895343867434,
          39.9516710237234,
          29.964389613839515,
          19.977308525833635,
          10.049525620967186
         ]
        },
        {
         "mode": "lines",
         "name": "2160 seconds",
         "type": "scatter",
         "x": [
          0.10495000000000002,
          0.3148500000000001,
          0.52475,
          0.7346500000000001,
          0.9445500000000001,
          1.1544500000000002,
          1.3643500000000004,
          1.5742500000000004,
          1.7841500000000003,
          1.9940500000000003
         ],
         "y": [
          99.6809394138618,
          90.05736981329677,
          129.77255829886977,
          70.08419584463424,
          59.92451833507023,
          49.937210447105976,
          39.95029109952872,
          29.963372867257366,
          19.976666660305536,
          10.050931478003525
         ]
        },
        {
         "mode": "lines",
         "name": "2220 seconds",
         "type": "scatter",
         "x": [
          0.10495000000000002,
          0.3148500000000001,
          0.52475,
          0.7346500000000001,
          0.9445500000000001,
          1.1544500000000002,
          1.3643500000000004,
          1.5742500000000004,
          1.7841500000000003,
          1.9940500000000003
         ],
         "y": [
          99.6721324233533,
          90.06397800818841,
          131.14408251001035,
          70.09156802791637,
          59.92244646912654,
          49.935467525320554,
          39.94891122553006,
          29.962356159971147,
          19.97602515072472,
          10.052336828679433
         ]
        },
        {
         "mode": "lines",
         "name": "2280 seconds",
         "type": "scatter",
         "x": [
          0.10495000000000002,
          0.3148500000000001,
          0.52475,
          0.7346500000000001,
          0.9445500000000001,
          1.1544500000000002,
          1.3643500000000004,
          1.5742500000000004,
          1.7841500000000003,
          1.9940500000000003
         ],
         "y": [
          99.66332911935491,
          90.07085428239805,
          132.51501423522512,
          70.09920929806864,
          59.920376621668254,
          49.93372467368863,
          39.947531401727325,
          29.96133949204456,
          19.97538399684383,
          10.053741673202097
         ]
        },
        {
         "mode": "lines",
         "name": "2340 seconds",
         "type": "scatter",
         "x": [
          0.10495000000000002,
          0.3148500000000001,
          0.52475,
          0.7346500000000001,
          0.9445500000000001,
          1.1544500000000002,
          1.3643500000000004,
          1.5742500000000004,
          1.7841500000000003,
          1.9940500000000003
         ],
         "y": [
          99.65452955417535,
          90.07799840250428,
          133.8853538384675,
          70.1071194209007,
          59.918308845335474,
          49.93198189259107,
          39.946151628120504,
          29.96032286354122,
          19.974743198415677,
          10.0551460117786
         ]
        },
        {
         "mode": "lines",
         "name": "2400 seconds",
         "type": "scatter",
         "x": [
          0.10495000000000002,
          0.3148500000000001,
          0.52475,
          0.7346500000000001,
          0.9445500000000001,
          1.1544500000000002,
          1.3643500000000004,
          1.5742500000000004,
          1.7841500000000003,
          1.9940500000000003
         ],
         "y": [
          99.64573378006286,
          90.08541013526977,
          135.25510168343996,
          70.11529816240667,
          59.916243192698964,
          49.93023918241903,
          39.94477190470967,
          29.95930627452467,
          19.974102755193226,
          10.056549844615917
         ]
        },
        {
         "mode": "lines",
         "name": "2460 seconds",
         "type": "scatter",
         "x": [
          0.10495000000000002,
          0.3148500000000001,
          0.52475,
          0.7346500000000001,
          0.9445500000000001,
          1.1544500000000002,
          1.3643500000000004,
          1.5742500000000004,
          1.7841500000000003,
          1.9940500000000003
         ],
         "y": [
          99.63694184920519,
          90.09308924764112,
          136.6242581335942,
          70.12374528876501,
          59.91417971626023,
          49.928496543573964,
          39.94339223149499,
          29.958289725058385,
          19.97346266692961,
          10.05795317192092
         ]
        },
        {
         "mode": "lines",
         "name": "2520 seconds",
         "type": "scatter",
         "x": [
          0.10495000000000002,
          0.3148500000000001,
          0.52475,
          0.7346500000000001,
          0.9445500000000001,
          1.1544500000000002,
          1.3643500000000004,
          1.5742500000000004,
          1.7841500000000003,
          1.9940500000000003
         ],
         "y": [
          99.62815381372974,
          90.10103550674873,
          137.99282355213134,
          70.13246056633835,
          59.912118468451574,
          49.92675397646759,
          39.94201260847673,
          29.957273215205753,
          19.97282293337812,
          10.059355993900375
         ]
        },
        {
         "mode": "lines",
         "name": "2580 seconds",
         "type": "scatter",
         "x": [
          0.10495000000000002,
          0.3148500000000001,
          0.52475,
          0.7346500000000001,
          0.9445500000000001,
          1.1544500000000002,
          1.3643500000000004,
          1.5742500000000004,
          1.7841500000000003,
          1.9940500000000003
         ],
         "y": [
          99.61936972570355,
          90.10924867990663,
          139.36079830200217,
          70.14144376167339,
          59.91005950163617,
          49.925011481521864,
          39.94063303565524,
          29.956256745030085,
          19.972183554292204,
          10.060758310760946
         ]
        },
        {
         "mode": "lines",
         "name": "2640 seconds",
         "type": "scatter",
         "x": [
          0.10495000000000002,
          0.3148500000000001,
          0.52475,
          0.7346500000000001,
          0.9445500000000001,
          1.1544500000000002,
          1.3643500000000004,
          1.5742500000000004,
          1.7841500000000003,
          1.9940500000000003
         ],
         "y": [
          99.61058963713336,
          90.11772853461238,
          140.7281827459072,
          70.15069464150069,
          59.908002868108134,
          49.92326905916898,
          39.93925351303097,
          29.955240314594622,
          19.971544529425483,
          10.062160122709189
         ]
        },
        {
         "mode": "lines",
         "name": "2700 seconds",
         "type": "scatter",
         "x": [
          0.10495000000000002,
          0.3148500000000001,
          0.52475,
          0.7346500000000001,
          0.9445500000000001,
          1.1544500000000002,
          1.3643500000000004,
          1.5742500000000004,
          1.7841500000000003,
          1.9940500000000003
         ],
         "y": [
          99.60181359996568,
          90.1264748385469,
          142.09497724629693,
          70.1602129727346,
          59.905948620092595,
          49.92152670985133,
          39.93787404060447,
          29.954223923962527,
          19.970905858531722,
          10.063561429951559
         ]
        },
        {
         "mode": "lines",
         "name": "2760 seconds",
         "type": "scatter",
         "x": [
          0.10495000000000002,
          0.3148500000000001,
          0.52475,
          0.7346500000000001,
          0.9445500000000001,
          1.1544500000000002,
          1.3643500000000004,
          1.5742500000000004,
          1.7841500000000003,
          1.9940500000000003
         ],
         "y": [
          99.59304166608685,
          90.13548735957431,
          143.4611821653721,
          70.16999852247307,
          59.90389680974575,
          49.91978443402151,
          39.936494618376386,
          29.95320757319688,
          19.97026754136486,
          10.064962232694402
         ]
        },
        {
         "mode": "lines",
         "name": "2820 seconds",
         "type": "scatter",
         "x": [
          0.10495000000000002,
          0.3148500000000001,
          0.52475,
          0.7346500000000001,
          0.9445500000000001,
          1.1544500000000002,
          1.3643500000000004,
          1.5742500000000004,
          1.7841500000000003,
          1.9940500000000003
         ],
         "y": [
          99.58427388732304,
          90.14476586574186,
          144.82679786508365,
          70.1800510579975,
          59.90184748915495,
          49.91804223214228,
          39.93511524634747,
          29.952191262360696,
          19.969629577678983,
          10.066362531143962
         ]
        },
        {
         "mode": "lines",
         "name": "2880 seconds",
         "type": "scatter",
         "x": [
          0.10495000000000002,
          0.3148500000000001,
          0.52475,
          0.7346500000000001,
          0.9445500000000001,
          1.1544500000000002,
          1.3643500000000004,
          1.5742500000000004,
          1.7841500000000003,
          1.9940500000000003
         ],
         "y": [
          99.57551031544034,
          90.1543101252797,
          146.1918247071331,
          70.19037034677267,
          59.89980071033876,
          49.91630010468656,
          39.93373592451858,
          29.951174991516904,
          19.96899196722835,
          10.06776232550638
         ]
        },
        {
         "mode": "lines",
         "name": "2940 seconds",
         "type": "scatter",
         "x": [
          0.10495000000000002,
          0.3148500000000001,
          0.52475,
          0.7346500000000001,
          0.9445500000000001,
          1.1544500000000002,
          1.3643500000000004,
          1.5742500000000004,
          1.7841500000000003,
          1.9940500000000003
         ],
         "y": [
          99.56675100214485,
          90.16411990660079,
          147.5562630529727,
          70.20095615644648,
          59.89775652524701,
          49.914558052137416,
          39.932356652890675,
          29.950158760728364,
          19.96835470976738,
          10.069161615987687
         ]
        },
        {
         "mode": "lines",
         "name": "3000 seconds",
         "type": "scatter",
         "x": [
          0.10495000000000002,
          0.3148500000000001,
          0.52475,
          0.7346500000000001,
          0.9445500000000001,
          1.1544500000000002,
          1.3643500000000004,
          1.5742500000000004,
          1.7841500000000003,
          1.9940500000000003
         ],
         "y": [
          99.55799599908268,
          90.17419497830078,
          148.92011326380552,
          70.21180825484993,
          59.895714985760904,
          49.912816074988015,
          39.930977431464825,
          29.949142570057855,
          19.96771780505064,
          10.070560402793816
         ]
        },
        {
         "mode": "lines",
         "name": "3060 seconds",
         "type": "scatter",
         "x": [
          0.10495000000000002,
          0.3148500000000001,
          0.52475,
          0.7346500000000001,
          0.9445500000000001,
          1.1544500000000002,
          1.3643500000000004,
          1.5742500000000004,
          1.7841500000000003,
          1.9940500000000003
         ],
         "y": [
          99.54924535784,
          90.18453510915779,
          150.28337570058574,
          70.22292640999687,
          59.89367614369306,
          49.911074173741646,
          39.92959826024221,
          29.948126419568087,
          19.96708125283287,
          10.071958686130593
         ]
        },
        {
         "mode": "lines",
         "name": "3120 seconds",
         "type": "scatter",
         "x": [
          0.10495000000000002,
          0.3148500000000001,
          0.52475,
          0.7346500000000001,
          0.9445500000000001,
          1.1544500000000002,
          1.3643500000000004,
          1.5742500000000004,
          1.7841500000000003,
          1.9940500000000003
         ],
         "y": [
          99.54049912994311,
          90.19514006813237,
          151.64605072401872,
          70.23431039008393,
          59.891640050787565,
          49.90933234891167,
          39.92821913922412,
          29.947110309321687,
          19.96644505286896,
          10.07335646620374
         ]
        },
        {
         "mode": "lines",
         "name": "3180 seconds",
         "type": "scatter",
         "x": [
          0.10495000000000002,
          0.3148500000000001,
          0.52475,
          0.7346500000000001,
          0.9445500000000001,
          1.1544500000000002,
          1.3643500000000004,
          1.5742500000000004,
          1.7841500000000003,
          1.9940500000000003
         ],
         "y": [
          99.53175736685851,
          90.20600962436728,
          153.00813869456132,
          70.24595996349036,
          59.889606758720085,
          49.90759060102151,
          39.92684006841196,
          29.946094239381207,
          19.965809204913963,
          10.074753743218874
         ]
        },
        {
         "mode": "lines",
         "name": "3240 seconds",
         "type": "scatter",
         "x": [
          0.10495000000000002,
          0.3148500000000001,
          0.52475,
          0.7346500000000001,
          0.9445500000000001,
          1.1544500000000002,
          1.3643500000000004,
          1.5742500000000004,
          1.7841500000000003,
          1.9940500000000003
         ],
         "y": [
          99.52302011999294,
          90.21714354718739,
          154.36963997242194,
          70.25787489877787,
          59.88757631909789,
          49.90584893060465,
          39.92546104780726,
          29.945078209809125,
          19.965173708723096,
          10.07615051738151
         ]
        },
        {
         "mode": "lines",
         "name": "3300 seconds",
         "type": "scatter",
         "x": [
          0.10495000000000002,
          0.3148500000000001,
          0.52475,
          0.7346500000000001,
          0.9445500000000001,
          1.1544500000000002,
          1.3643500000000004,
          1.5742500000000004,
          1.7841500000000003,
          1.9940500000000003
         ],
         "y": [
          99.51428744069338,
          90.22854160609951,
          155.7305549175608,
          70.27005496469049,
          59.88554878345995,
          49.90410733820458,
          39.92408207741165,
          29.944062220667846,
          19.964538564051733,
          10.077546788897058
         ]
        },
        {
         "mode": "lines",
         "name": "3360 seconds",
         "type": "scatter",
         "x": [
          0.10495000000000002,
          0.3148500000000001,
          0.52475,
          0.7346500000000001,
          0.9445500000000001,
          1.1544500000000002,
          1.3643500000000004,
          1.5742500000000004,
          1.7841500000000003,
          1.9940500000000003
         ],
         "y": [
          99.50555938024719,
          90.24020357079229,
          157.09088388969005,
          70.28249993015444,
          59.883524203277005,
          49.90236582437484,
          39.92270315722689,
          29.943046272019696,
          19.963903770655403,
          10.078942557970823
         ]
        },
        {
         "mode": "lines",
         "name": "3420 seconds",
         "type": "scatter",
         "x": [
          0.10495000000000002,
          0.3148500000000001,
          0.52475,
          0.7346500000000001,
          0.9445500000000001,
          1.1544500000000002,
          1.3643500000000004,
          1.5742500000000004,
          1.7841500000000003,
          1.9940500000000003
         ],
         "y": [
          99.49683598988211,
          90.25212921113604,
          158.45062724827397,
          70.29520956427801,
          59.8815026299516,
          49.90062438967893,
          39.92132428725487,
          29.942030363926932,
          19.963269328289797,
          10.080337824808007
         ]
        },
        {
         "mode": "lines",
         "name": "3480 seconds",
         "type": "scatter",
         "x": [
          0.10495000000000002,
          0.3148500000000001,
          0.52475,
          0.7346500000000001,
          0.9445500000000001,
          1.1544500000000002,
          1.3643500000000004,
          1.5742500000000004,
          1.7841500000000003,
          1.9940500000000003
         ],
         "y": [
          99.48811732076632,
          90.26431829718261,
          159.80978535252922,
          70.30818363635136,
          59.87948411481818,
          49.89888303469034,
          39.919945467497584,
          29.941014496451725,
          19.96263523671077,
          10.081732589613708
         ]
        },
        {
         "mode": "lines",
         "name": "3540 seconds",
         "type": "scatter",
         "x": [
          0.10495000000000002,
          0.3148500000000001,
          0.52475,
          0.7346500000000001,
          0.9445500000000001,
          1.1544500000000002,
          1.3643500000000004,
          1.5742500000000004,
          1.7841500000000003,
          1.9940500000000003
         ],
         "y": [
          99.4794034240085,
          90.27677059916526,
          161.16835856142492,
          70.32142191584643,
          59.87746870914317,
          49.897141759992515,
          39.91856669795716,
          29.93999866965618,
          19.962001495674333,
          10.083126852592919
         ]
        },
        {
         "mode": "lines",
         "name": "3600 seconds",
         "type": "scatter",
         "x": [
          0.10495000000000002,
          0.3148500000000001,
          0.52475,
          0.7346500000000001,
          0.9445500000000001,
          1.1544500000000002,
          1.3643500000000004,
          1.5742500000000004,
          1.7841500000000003,
          1.9940500000000003
         ],
         "y": [
          99.47069435065787,
          90.2894858874985,
          162.52634723368288,
          70.33492417241679,
          59.87545646412501,
          49.89540056617884,
          39.917187978635866,
          29.938982883602325,
          19.96136810493665,
          10.084520613950533
         ]
        },
        {
         "mode": "lines",
         "name": "3660 seconds",
         "type": "scatter",
         "x": [
          0.10495000000000002,
          0.3148500000000001,
          0.52475,
          0.7346500000000001,
          0.9445500000000001,
          1.1544500000000002,
          1.3643500000000004,
          1.5742500000000004,
          1.7841500000000003,
          1.9940500000000003
         ],
         "y": [
          99.46199015170426,
          90.30246393277797,
          163.8837517277778,
          70.34869017589746,
          59.873447430894224,
          49.893659453852635,
          39.91580930953608,
          29.937967138352107,
          19.960735064254052,
          10.085913873891334
         ]
        },
        {
         "mode": "lines",
         "name": "3720 seconds",
         "type": "scatter",
         "x": [
          0.10495000000000002,
          0.3148500000000001,
          0.52475,
          0.7346500000000001,
          0.9445500000000001,
          1.1544500000000002,
          1.3643500000000004,
          1.5742500000000004,
          1.7841500000000003,
          1.9940500000000003
         ],
         "y": [
          99.45329087807814,
          90.31570450578026,
          165.24057240193733,
          70.36271969630482,
          59.87144166051353,
          49.891918423627104,
          39.914430690660325,
          29.93695143396741,
          19.960102373383023,
          10.087306632620008
         ]
        },
        {
         "mode": "lines",
         "name": "3780 seconds",
         "type": "scatter",
         "x": [
          0.10495000000000002,
          0.3148500000000001,
          0.52475,
          0.7346500000000001,
          0.9445500000000001,
          1.1544500000000002,
          1.3643500000000004,
          1.5742500000000004,
          1.7841500000000003,
          1.9940500000000003
         ],
         "y": [
          99.44459658065068,
          90.32920737746282,
          166.59680961414244,
          70.37701250383644,
          59.86943920397786,
          49.890177476125345,
          39.91305212201125,
          29.935935770510028,
          19.959470032080212,
          10.088698890341131
         ]
        },
        {
         "mode": "lines",
         "name": "3840 seconds",
         "type": "scatter",
         "x": [
          0.10495000000000002,
          0.3148500000000001,
          0.52475,
          0.7346500000000001,
          0.9445500000000001,
          1.1544500000000002,
          1.3643500000000004,
          1.5742500000000004,
          1.7841500000000003,
          1.9940500000000003
         ],
         "y": [
          99.43590731023383,
          90.34297231896382,
          167.95246372212748,
          70.39156836887094,
          59.86744011221445,
          49.88843661198034,
          39.911673603591645,
          29.934920148041694,
          19.95883804010242,
          10.090090647259183
         ]
        },
        {
         "mode": "lines",
         "name": "3900 seconds",
         "type": "scatter",
         "x": [
          0.10495000000000002,
          0.3148500000000001,
          0.52475,
          0.7346500000000001,
          0.9445500000000001,
          1.1544500000000002,
          1.3643500000000004,
          1.5742500000000004,
          1.7841500000000003,
          1.9940500000000003
         ],
         "y": [
          99.42722311758031,
          90.35699910160194,
          169.30753508338032,
          70.40638706196785,
          59.86544443608291,
          49.8866958318349,
          39.910295135404425,
          29.93390456662406,
          19.958206397206613,
          10.091481903578535
         ]
        },
        {
         "mode": "lines",
         "name": "3960 seconds",
         "type": "scatter",
         "x": [
          0.10495000000000002,
          0.3148500000000001,
          0.52475,
          0.7346500000000001,
          0.9445500000000001,
          1.1544500000000002,
          1.3643500000000004,
          1.5742500000000004,
          1.7841500000000003,
          1.9940500000000003
         ],
         "y": [
          99.41854405338373,
          90.37128749687633,
          170.6620240551426,
          70.42146835386748,
          59.863452226375266,
          49.88495513634169,
          39.90891671745266,
          29.932889026318705,
          19.95757510314991,
          10.092872659503454
         ]
        },
        {
         "mode": "lines",
         "name": "4020 seconds",
         "type": "scatter",
         "x": [
          0.10495000000000002,
          0.3148500000000001,
          0.52475,
          0.7346500000000001,
          0.9445500000000001,
          1.1544500000000002,
          1.3643500000000004,
          1.5742500000000004,
          1.7841500000000003,
          1.9940500000000003
         ],
         "y": [
          99.40987016827859,
          90.3858372764664,
          172.01593099440998,
          70.43681201549077,
          59.861463533816064,
          49.88321452616318,
          39.90753834973955,
          29.931873527187133,
          19.95694415768959,
          10.09426291523811
         ]
        },
        {
         "mode": "lines",
         "name": "4080 seconds",
         "type": "scatter",
         "x": [
          0.10495000000000002,
          0.3148500000000001,
          0.52475,
          0.7346500000000001,
          0.9445500000000001,
          1.1544500000000002,
          1.3643500000000004,
          1.5742500000000004,
          1.7841500000000003,
          1.9940500000000003
         ],
         "y": [
          99.40120151284036,
          90.4006482122317,
          173.36925625793214,
          70.45241781793915,
          59.85947840906241,
          49.88147400197164,
          39.906160032268446,
          29.93085806929077,
          19.95631356058309,
          10.095652670986562
         ]
        },
        {
         "mode": "lines",
         "name": "4140 seconds",
         "type": "scatter",
         "x": [
          0.10495000000000002,
          0.3148500000000001,
          0.52475,
          0.7346500000000001,
          0.9445500000000001,
          1.1544500000000002,
          1.3643500000000004,
          1.5742500000000004,
          1.7841500000000003,
          1.9940500000000003
         ],
         "y": [
          99.39253813758553,
          90.4157200762118,
          174.72200020221305,
          70.4682855324944,
          59.85749690270406,
          49.87973356444912,
          39.90478176504282,
          29.929842652690976,
          19.955683311588007,
          10.097041926952771
         ]
        },
        {
         "mode": "lines",
         "name": "4200 seconds",
         "type": "scatter",
         "x": [
          0.10495000000000002,
          0.3148500000000001,
          0.52475,
          0.7346500000000001,
          0.9445500000000001,
          1.1544500000000002,
          1.3643500000000004,
          1.5742500000000004,
          1.7841500000000003,
          1.9940500000000003
         ],
         "y": [
          99.38388009297165,
          90.43105264062612,
          176.07416318351125,
          70.48441493061851,
          59.855519065263444,
          49.877993214287436,
          39.90340354806632,
          29.92882727744903,
          19.955053410462092,
          10.098430683340593
         ]
        },
        {
         "mode": "lines",
         "name": "4260 seconds",
         "type": "scatter",
         "x": [
          0.10495000000000002,
          0.3148500000000001,
          0.52475,
          0.7346500000000001,
          0.9445500000000001,
          1.1544500000000002,
          1.3643500000000004,
          1.5742500000000004,
          1.7841500000000003,
          1.9940500000000003
         ],
         "y": [
          99.37522742939738,
          90.44664567787382,
          177.4257455578398,
          70.50080578395354,
          59.85354494719579,
          49.87625295218815,
          39.90202538134273,
          29.927811943626143,
          19.95442385696326,
          10.099818940353783
         ]
        },
        {
         "mode": "lines",
         "name": "4320 seconds",
         "type": "scatter",
         "x": [
          0.10495000000000002,
          0.3148500000000001,
          0.52475,
          0.7346500000000001,
          0.9445500000000001,
          1.1544500000000002,
          1.3643500000000004,
          1.5742500000000004,
          1.7841500000000003,
          1.9940500000000003
         ],
         "y": [
          99.36658019720258,
          90.46249896053364,
          178.77674768096668,
          70.51745786432147,
          59.85157459888915,
          49.87451277886256,
          39.900647264875985,
          29.926796651283443,
          19.953794650849574,
          10.10120669819599
         ]
        },
        {
         "mode": "lines",
         "name": "4380 seconds",
         "type": "scatter",
         "x": [
          0.10495000000000002,
          0.3148500000000001,
          0.52475,
          0.7346500000000001,
          0.9445500000000001,
          1.1544500000000002,
          1.3643500000000004,
          1.5742500000000004,
          1.7841500000000003,
          1.9940500000000003
         ],
         "y": [
          99.35793844666829,
          90.47861226136378,
          180.12716990841483,
          70.5343709437241,
          59.84960807066449,
          49.87277269503166,
          39.89926919867017,
          29.92578140048199,
          19.953165791879265,
          10.10259395707076
         ]
        },
        {
         "mode": "lines",
         "name": "4440 seconds",
         "type": "scatter",
         "x": [
          0.10495000000000002,
          0.3148500000000001,
          0.52475,
          0.7346500000000001,
          0.9445500000000001,
          1.1544500000000002,
          1.3643500000000004,
          1.5742500000000004,
          1.7841500000000003,
          1.9940500000000003
         ],
         "y": [
          99.34930222801682,
          90.49498535330174,
          181.47701259546238,
          70.55154479434283,
          59.84764541277572,
          49.87103270142614,
          39.897891182729516,
          29.924766191282774,
          19.952537279810716,
          10.103980717181539
         ]
        },
        {
         "mode": "lines",
         "name": "4500 seconds",
         "type": "scatter",
         "x": [
          0.10495000000000002,
          0.3148500000000001,
          0.52475,
          0.7346500000000001,
          0.9445500000000001,
          1.1544500000000002,
          1.3643500000000004,
          1.5742500000000004,
          1.7841500000000003,
          1.9940500000000003
         ],
         "y": [
          99.34067159141186,
          90.51161800946421,
          182.82627609714282,
          70.56897918853862,
          59.84568667540982,
          49.86929279878637,
          39.89651321705843,
          29.923751023746707,
          19.951909114402472,
          10.105366978731668
         ]
        },
        {
         "mode": "lines",
         "name": "4560 seconds",
         "type": "scatter",
         "x": [
          0.10495000000000002,
          0.3148500000000001,
          0.52475,
          0.7346500000000001,
          0.9445500000000001,
          1.1544500000000002,
          1.3643500000000004,
          1.5742500000000004,
          1.7841500000000003,
          1.9940500000000003
         ],
         "y": [
          99.33204658695843,
          90.52851000314692,
          184.1749607682452,
          70.58667389885176,
          59.84373190868686,
          49.867552987862375,
          39.895135301661455,
          29.922735897934622,
          19.951281295413228,
          10.106752741924385
         ]
        },
        {
         "mode": "lines",
         "name": "4620 seconds",
         "type": "scatter",
         "x": [
          0.10495000000000002,
          0.3148500000000001,
          0.52475,
          0.7346500000000001,
          0.9445500000000001,
          1.1544500000000002,
          1.3643500000000004,
          1.5742500000000004,
          1.7841500000000003,
          1.9940500000000003
         ],
         "y": [
          99.32342726470296,
          90.54566110782447,
          185.52306696331425,
          70.60462869800178,
          59.84178116266008,
          49.86581326941383,
          39.89375743654331,
          29.92172081390729,
          19.95065382260184,
          10.108138006962827
         ]
        },
        {
         "mode": "lines",
         "name": "4680 seconds",
         "type": "scatter",
         "x": [
          0.10495000000000002,
          0.3148500000000001,
          0.52475,
          0.7346500000000001,
          0.9445500000000001,
          1.1544500000000002,
          1.3643500000000004,
          1.5742500000000004,
          1.7841500000000003,
          1.9940500000000003
         ],
         "y": [
          99.3148136746334,
          90.56307109715024,
          186.87059503665063,
          70.6228433588873,
          59.83983448731595,
          49.864073644210016,
          39.89237962170887,
          29.920705771725398,
          19.950026695727324,
          10.109522774050028
         ]
        },
        {
         "mode": "lines",
         "name": "4740 seconds",
         "type": "scatter",
         "x": [
          0.10495000000000002,
          0.3148500000000001,
          0.52475,
          0.7346500000000001,
          0.9445500000000001,
          1.1544500000000002,
          1.3643500000000004,
          1.5742500000000004,
          1.7841500000000003,
          1.9940500000000003
         ],
         "y": [
          99.3062058666792,
          90.58073974495623,
          188.217545342311,
          70.64131765458589,
          59.83789193257426,
          49.86233411302984,
          39.89100185716316,
          29.919690771449567,
          19.94939991454885,
          10.110907043388917
         ]
        },
        {
         "mode": "lines",
         "name": "4800 seconds",
         "type": "scatter",
         "x": [
          0.10495000000000002,
          0.3148500000000001,
          0.52475,
          0.7346500000000001,
          0.9445500000000001,
          1.1544500000000002,
          1.3643500000000004,
          1.5742500000000004,
          1.7841500000000003,
          1.9940500000000003
         ],
         "y": [
          99.29760389071143,
          90.59866682525292,
          189.56391823410837,
          70.66005135835395,
          59.83595354828816,
          49.86059467666178,
          39.889624142911394,
          29.918675813140343,
          19.94877347882574,
          10.112290815182321
         ]
        },
        {
         "mode": "lines",
         "name": "4860 seconds",
         "type": "scatter",
         "x": [
          0.10495000000000002,
          0.3148500000000001,
          0.52475,
          0.7346500000000001,
          0.9445500000000001,
          1.1544500000000002,
          1.3643500000000004,
          1.5742500000000004,
          1.7841500000000003,
          1.9940500000000003
         ],
         "y": [
          99.28900779654273,
          90.61685211222915,
          190.90971406561206,
          70.67904424362652,
          59.834019384244236,
          49.858855335903904,
          39.888246478958926,
          29.917660896858198,
          19.948147388317484,
          10.113674089632969
         ]
        },
        {
         "mode": "lines",
         "name": "4920 seconds",
         "type": "scatter",
         "x": [
          0.10495000000000002,
          0.3148500000000001,
          0.52475,
          0.7346500000000001,
          0.9445500000000001,
          1.1544500000000002,
          1.3643500000000004,
          1.5742500000000004,
          1.7841500000000003,
          1.9940500000000003
         ],
         "y": [
          99.28041763392747,
          90.63529538025196,
          192.25493319014805,
          70.69829608401719,
          59.83208949016258,
          49.85711609156381,
          39.8868688653113,
          29.916646022663528,
          19.94752164278372,
          10.115056866943483
         ]
        },
        {
         "mode": "lines",
         "name": "4980 seconds",
         "type": "scatter",
         "x": [
          0.10495000000000002,
          0.3148500000000001,
          0.52475,
          0.7346500000000001,
          0.9445500000000001,
          1.1544500000000002,
          1.3643500000000004,
          1.5742500000000004,
          1.7841500000000003,
          1.9940500000000003
         ],
         "y": [
          99.27183345256174,
          90.65399640386646,
          193.59957596079911,
          70.71780665331794,
          59.83016391569685,
          49.85537694445865,
          39.88549130197422,
          29.91563119061666,
          19.94689624198425,
          10.116439147316383
         ]
        },
        {
         "mode": "lines",
         "name": "5040 seconds",
         "type": "scatter",
         "x": [
          0.10495000000000002,
          0.3148500000000001,
          0.52475,
          0.7346500000000001,
          0.9445500000000001,
          1.1544500000000002,
          1.3643500000000004,
          1.5742500000000004,
          1.7841500000000003,
          1.9940500000000003
         ],
         "y": [
          99.2632553020834,
          90.6729549577957,
          194.94364273040495,
          70.73757572549898,
          59.828242710434345,
          49.85363789541508,
          39.88411378895356,
          29.914616400777852,
          19.94627118567902,
          10.117820930954089
         ]
        },
        {
         "mode": "lines",
         "name": "5100 seconds",
         "type": "scatter",
         "x": [
          0.10495000000000002,
          0.3148500000000001,
          0.52475,
          0.7346500000000001,
          0.9445500000000001,
          1.1544500000000002,
          1.3643500000000004,
          1.5742500000000004,
          1.7841500000000003,
          1.9940500000000003
         ],
         "y": [
          99.25468323207217,
          90.69217081694053,
          196.28713385156234,
          70.7576030747087,
          59.82632592389606,
          49.851898945269284,
          39.882736326255376,
          29.91360165320728,
          19.94564647362815,
          10.119202218058916
         ]
        },
        {
         "mode": "lines",
         "name": "5160 seconds",
         "type": "scatter",
         "x": [
          0.10495000000000002,
          0.3148500000000001,
          0.52475,
          0.7346500000000001,
          0.9445500000000001,
          1.1544500000000002,
          1.3643500000000004,
          1.5742500000000004,
          1.7841500000000003,
          1.9940500000000003
         ],
         "y": [
          99.24611729204965,
          90.71164375637947,
          197.63004967662548,
          70.77788847527339,
          59.824413605536755,
          49.850160094866894,
          39.88135891388589,
          29.912586947965053,
          19.945022105591896,
          10.120583008833078
         ]
        },
        {
         "mode": "lines",
         "name": "5220 seconds",
         "type": "scatter",
         "x": [
          0.10495000000000002,
          0.3148500000000001,
          0.52475,
          0.7346500000000001,
          0.9445500000000001,
          1.1544500000000002,
          1.3643500000000004,
          1.5742500000000004,
          1.7841500000000003,
          1.9940500000000003
         ],
         "y": [
          99.23755753147937,
          90.73137355136855,
          198.97239055770595,
          70.79843170169721,
          59.822505804745035,
          49.84842134506304,
          39.879981551851515,
          29.91157228511121,
          19.94439808133069,
          10.121963303478687
         ]
        },
        {
         "mode": "lines",
         "name": "5280 seconds",
         "type": "scatter",
         "x": [
          0.10495000000000002,
          0.3148500000000001,
          0.52475,
          0.7346500000000001,
          0.9445500000000001,
          1.1544500000000002,
          1.3643500000000004,
          1.5742500000000004,
          1.7841500000000003,
          1.9940500000000003
         ],
         "y": [
          99.22900399976685,
          90.75135997734118,
          200.31415684667303,
          70.81923252866204,
          59.82060257084339,
          49.84668269672229,
          39.87860424015883,
          29.910557664705706,
          19.943774400605104,
          10.123343102197753
         ]
        },
        {
         "mode": "lines",
         "name": "5340 seconds",
         "type": "scatter",
         "x": [
          0.10495000000000002,
          0.3148500000000001,
          0.52475,
          0.7346500000000001,
          0.9445500000000001,
          1.1544500000000002,
          1.3643500000000004,
          1.5742500000000004,
          1.7841500000000003,
          1.9940500000000003
         ],
         "y": [
          99.22045674625966,
          90.77160280990803,
          201.65534889515382,
          70.84029073102728,
          59.81870395308829,
          49.844944150718646,
          39.8772269788146,
          29.90954308680844,
          19.94315106317588,
          10.124722405192184
         ]
        },
        {
         "mode": "lines",
         "name": "5400 seconds",
         "type": "scatter",
         "x": [
          0.10495000000000002,
          0.3148500000000001,
          0.52475,
          0.7346500000000001,
          0.9445500000000001,
          1.1544500000000002,
          1.3643500000000004,
          1.5742500000000004,
          1.7841500000000003,
          1.9940500000000003
         ],
         "y": [
          99.21191582024744,
          90.7921018248569,
          202.99596705453345,
          70.86160608382978,
          59.816810000670216,
          49.843205707935525,
          39.87584976782576,
          29.90852855147923,
          19.942528068803902,
          10.126101212663785
         ]
        },
        {
         "mode": "lines",
         "name": "5460 seconds",
         "type": "scatter",
         "x": [
          0.10495000000000002,
          0.3148500000000001,
          0.52475,
          0.7346500000000001,
          0.9445500000000001,
          1.1544500000000002,
          1.3643500000000004,
          1.5742500000000004,
          1.7841500000000003,
          1.9940500000000003
         ],
         "y": [
          99.20338127096201,
          90.81285679815255,
          204.3360116759552,
          70.88317836228367,
          59.81492076271377,
          49.84146736926574,
          39.874472607199465,
          29.907514058777817,
          19.941905417250222,
          10.127479524814262
         ]
        },
        {
         "mode": "lines",
         "name": "5520 seconds",
         "type": "scatter",
         "x": [
          0.10495000000000002,
          0.3148500000000001,
          0.52475,
          0.7346500000000001,
          0.9445500000000001,
          1.1544500000000002,
          1.3643500000000004,
          1.5742500000000004,
          1.7841500000000003,
          1.9940500000000003
         ],
         "y": [
          99.19485314757735,
          90.83386750593658,
          205.67548311032073,
          70.90500734178022,
          59.8130362882777,
          49.8397291356115,
          39.873095496943016,
          29.90649960876388,
          19.94128310827604,
          10.128857341845215
         ]
        },
        {
         "mode": "lines",
         "name": "5580 seconds",
         "type": "scatter",
         "x": [
          0.10495000000000002,
          0.3148500000000001,
          0.52475,
          0.7346500000000001,
          0.9445500000000001,
          1.1544500000000002,
          1.3643500000000004,
          1.5742500000000004,
          1.7841500000000003,
          1.9940500000000003
         ],
         "y": [
          99.18633149920967,
          90.8551337245273,
          207.01438170829022,
          70.92709279788771,
          59.81115662635499,
          49.83799100788435,
          39.871718437063926,
          29.90548520149702,
          19.940661141642714,
          10.130234663958145
         ]
        },
        {
         "mode": "lines",
         "name": "5640 seconds",
         "type": "scatter",
         "x": [
          0.10495000000000002,
          0.3148500000000001,
          0.52475,
          0.7346500000000001,
          0.9445500000000001,
          1.1544500000000002,
          1.3643500000000004,
          1.5742500000000004,
          1.7841500000000003,
          1.9940500000000003
         ],
         "y": [
          99.17781637491753,
          90.87665523041962,
          208.35270782028257,
          70.9494345063513,
          59.809281825872915,
          49.8362529870052,
          39.87034142756989,
          29.904470837036765,
          19.940039517111757,
          10.131611491354452
         ]
        },
        {
         "mode": "lines",
         "name": "5700 seconds",
         "type": "scatter",
         "x": [
          0.10495000000000002,
          0.3148500000000001,
          0.52475,
          0.7346500000000001,
          0.9445500000000001,
          1.1544500000000002,
          1.3643500000000004,
          1.5742500000000004,
          1.7841500000000003,
          1.9940500000000003
         ],
         "y": [
          99.16930782370177,
          90.8984318002848,
          209.6904617964756,
          70.97203224309285,
          59.80741193569311,
          49.834515073904306,
          39.868964468468796,
          29.903456515442578,
          19.93941823444484,
          10.13298782423543
         ]
        },
        {
         "mode": "lines",
         "name": "5760 seconds",
         "type": "scatter",
         "x": [
          0.10495000000000002,
          0.3148500000000001,
          0.52475,
          0.7346500000000001,
          0.9445500000000001,
          1.1544500000000002,
          1.3643500000000004,
          1.5742500000000004,
          1.7841500000000003,
          1.9940500000000003
         ],
         "y": [
          99.16080589450567,
          90.92046321097048,
          211.0276439868061,
          70.99488578421085,
          59.80554700461163,
          49.8327772695212,
          39.86758755976872,
          29.902442236773844,
          19.938797293403784,
          10.134363662802276
         ]
        },
        {
         "mode": "lines",
         "name": "5820 seconds",
         "type": "scatter",
         "x": [
          0.10495000000000002,
          0.3148500000000001,
          0.52475,
          0.7346500000000001,
          0.9445500000000001,
          1.1544500000000002,
          1.3643500000000004,
          1.5742500000000004,
          1.7841500000000003,
          1.9940500000000003
         ],
         "y": [
          99.15231063621493,
          90.94274923950043,
          212.36425474097018,
          71.01799490598023,
          59.80368708135903,
          49.83103957480474,
          39.86621070147795,
          29.90142800108988,
          19.93817669375057,
          10.135739007256083
         ]
        },
        {
         "mode": "lines",
         "name": "5880 seconds",
         "type": "scatter",
         "x": [
          0.10495000000000002,
          0.3148500000000001,
          0.52475,
          0.7346500000000001,
          0.9445500000000001,
          1.1544500000000002,
          1.3643500000000004,
          1.5742500000000004,
          1.7841500000000003,
          1.9940500000000003
         ],
         "y": [
          99.14382209765776,
          90.96528966307444,
          213.70029440842333,
          71.04135938485224,
          59.80183221460042,
          49.82930199071305,
          39.86483389360494,
          29.90041380844993,
          19.937556435247334,
          10.137113857797845
         ]
        },
        {
         "mode": "lines",
         "name": "5940 seconds",
         "type": "scatter",
         "x": [
          0.10495000000000002,
          0.3148500000000001,
          0.52475,
          0.7346500000000001,
          0.9445500000000001,
          1.1544500000000002,
          1.3643500000000004,
          1.5742500000000004,
          1.7841500000000003,
          1.9940500000000003
         ],
         "y": [
          99.13534032760491,
          90.9880842590682,
          215.0357633383806,
          71.06497899745432,
          59.79998245293552,
          49.827564518213514,
          39.863457136158374,
          29.89939965891317,
          19.936936517656363,
          10.13848821462845
         ]
        },
        {
         "mode": "lines",
         "name": "6000 seconds",
         "type": "scatter",
         "x": [
          0.10495000000000002,
          0.3148500000000001,
          0.52475,
          0.7346500000000001,
          0.9445500000000001,
          1.1544500000000002,
          1.3643500000000004,
          1.5742500000000004,
          1.7841500000000003,
          1.9940500000000003
         ],
         "y": [
          99.12686537476972,
          91.01113280503314,
          216.37066187981682,
          71.08885352058995,
          59.79813784489874,
          49.82582715828276,
          39.86208042914713,
          29.898385552538695,
          19.936316940740102,
          10.13986207794869
         ]
        }
       ],
       "layout": {
        "legend": {
         "title": {
          "text": "Time Passed"
         }
        },
        "shapes": [
         {
          "line": {
           "color": "grey",
           "dash": "dot",
           "width": 1
          },
          "type": "line",
          "x0": 0.20990000000000003,
          "x1": 0.20990000000000003,
          "xref": "x",
          "y0": 0,
          "y1": 1,
          "yref": "paper"
         },
         {
          "line": {
           "color": "grey",
           "dash": "dot",
           "width": 1
          },
          "type": "line",
          "x0": 0.41980000000000006,
          "x1": 0.41980000000000006,
          "xref": "x",
          "y0": 0,
          "y1": 1,
          "yref": "paper"
         },
         {
          "line": {
           "color": "grey",
           "dash": "dot",
           "width": 1
          },
          "type": "line",
          "x0": 0.6297000000000001,
          "x1": 0.6297000000000001,
          "xref": "x",
          "y0": 0,
          "y1": 1,
          "yref": "paper"
         },
         {
          "line": {
           "color": "grey",
           "dash": "dot",
           "width": 1
          },
          "type": "line",
          "x0": 0.8396000000000001,
          "x1": 0.8396000000000001,
          "xref": "x",
          "y0": 0,
          "y1": 1,
          "yref": "paper"
         },
         {
          "line": {
           "color": "grey",
           "dash": "dot",
           "width": 1
          },
          "type": "line",
          "x0": 1.0495,
          "x1": 1.0495,
          "xref": "x",
          "y0": 0,
          "y1": 1,
          "yref": "paper"
         },
         {
          "line": {
           "color": "grey",
           "dash": "dot",
           "width": 1
          },
          "type": "line",
          "x0": 1.2594,
          "x1": 1.2594,
          "xref": "x",
          "y0": 0,
          "y1": 1,
          "yref": "paper"
         },
         {
          "line": {
           "color": "grey",
           "dash": "dot",
           "width": 1
          },
          "type": "line",
          "x0": 1.4693000000000003,
          "x1": 1.4693000000000003,
          "xref": "x",
          "y0": 0,
          "y1": 1,
          "yref": "paper"
         },
         {
          "line": {
           "color": "grey",
           "dash": "dot",
           "width": 1
          },
          "type": "line",
          "x0": 1.6792000000000002,
          "x1": 1.6792000000000002,
          "xref": "x",
          "y0": 0,
          "y1": 1,
          "yref": "paper"
         },
         {
          "line": {
           "color": "grey",
           "dash": "dot",
           "width": 1
          },
          "type": "line",
          "x0": 1.8891000000000002,
          "x1": 1.8891000000000002,
          "xref": "x",
          "y0": 0,
          "y1": 1,
          "yref": "paper"
         }
        ],
        "template": {
         "data": {
          "bar": [
           {
            "error_x": {
             "color": "#2a3f5f"
            },
            "error_y": {
             "color": "#2a3f5f"
            },
            "marker": {
             "line": {
              "color": "#E5ECF6",
              "width": 0.5
             },
             "pattern": {
              "fillmode": "overlay",
              "size": 10,
              "solidity": 0.2
             }
            },
            "type": "bar"
           }
          ],
          "barpolar": [
           {
            "marker": {
             "line": {
              "color": "#E5ECF6",
              "width": 0.5
             },
             "pattern": {
              "fillmode": "overlay",
              "size": 10,
              "solidity": 0.2
             }
            },
            "type": "barpolar"
           }
          ],
          "carpet": [
           {
            "aaxis": {
             "endlinecolor": "#2a3f5f",
             "gridcolor": "white",
             "linecolor": "white",
             "minorgridcolor": "white",
             "startlinecolor": "#2a3f5f"
            },
            "baxis": {
             "endlinecolor": "#2a3f5f",
             "gridcolor": "white",
             "linecolor": "white",
             "minorgridcolor": "white",
             "startlinecolor": "#2a3f5f"
            },
            "type": "carpet"
           }
          ],
          "choropleth": [
           {
            "colorbar": {
             "outlinewidth": 0,
             "ticks": ""
            },
            "type": "choropleth"
           }
          ],
          "contour": [
           {
            "colorbar": {
             "outlinewidth": 0,
             "ticks": ""
            },
            "colorscale": [
             [
              0,
              "#0d0887"
             ],
             [
              0.1111111111111111,
              "#46039f"
             ],
             [
              0.2222222222222222,
              "#7201a8"
             ],
             [
              0.3333333333333333,
              "#9c179e"
             ],
             [
              0.4444444444444444,
              "#bd3786"
             ],
             [
              0.5555555555555556,
              "#d8576b"
             ],
             [
              0.6666666666666666,
              "#ed7953"
             ],
             [
              0.7777777777777778,
              "#fb9f3a"
             ],
             [
              0.8888888888888888,
              "#fdca26"
             ],
             [
              1,
              "#f0f921"
             ]
            ],
            "type": "contour"
           }
          ],
          "contourcarpet": [
           {
            "colorbar": {
             "outlinewidth": 0,
             "ticks": ""
            },
            "type": "contourcarpet"
           }
          ],
          "heatmap": [
           {
            "colorbar": {
             "outlinewidth": 0,
             "ticks": ""
            },
            "colorscale": [
             [
              0,
              "#0d0887"
             ],
             [
              0.1111111111111111,
              "#46039f"
             ],
             [
              0.2222222222222222,
              "#7201a8"
             ],
             [
              0.3333333333333333,
              "#9c179e"
             ],
             [
              0.4444444444444444,
              "#bd3786"
             ],
             [
              0.5555555555555556,
              "#d8576b"
             ],
             [
              0.6666666666666666,
              "#ed7953"
             ],
             [
              0.7777777777777778,
              "#fb9f3a"
             ],
             [
              0.8888888888888888,
              "#fdca26"
             ],
             [
              1,
              "#f0f921"
             ]
            ],
            "type": "heatmap"
           }
          ],
          "heatmapgl": [
           {
            "colorbar": {
             "outlinewidth": 0,
             "ticks": ""
            },
            "colorscale": [
             [
              0,
              "#0d0887"
             ],
             [
              0.1111111111111111,
              "#46039f"
             ],
             [
              0.2222222222222222,
              "#7201a8"
             ],
             [
              0.3333333333333333,
              "#9c179e"
             ],
             [
              0.4444444444444444,
              "#bd3786"
             ],
             [
              0.5555555555555556,
              "#d8576b"
             ],
             [
              0.6666666666666666,
              "#ed7953"
             ],
             [
              0.7777777777777778,
              "#fb9f3a"
             ],
             [
              0.8888888888888888,
              "#fdca26"
             ],
             [
              1,
              "#f0f921"
             ]
            ],
            "type": "heatmapgl"
           }
          ],
          "histogram": [
           {
            "marker": {
             "pattern": {
              "fillmode": "overlay",
              "size": 10,
              "solidity": 0.2
             }
            },
            "type": "histogram"
           }
          ],
          "histogram2d": [
           {
            "colorbar": {
             "outlinewidth": 0,
             "ticks": ""
            },
            "colorscale": [
             [
              0,
              "#0d0887"
             ],
             [
              0.1111111111111111,
              "#46039f"
             ],
             [
              0.2222222222222222,
              "#7201a8"
             ],
             [
              0.3333333333333333,
              "#9c179e"
             ],
             [
              0.4444444444444444,
              "#bd3786"
             ],
             [
              0.5555555555555556,
              "#d8576b"
             ],
             [
              0.6666666666666666,
              "#ed7953"
             ],
             [
              0.7777777777777778,
              "#fb9f3a"
             ],
             [
              0.8888888888888888,
              "#fdca26"
             ],
             [
              1,
              "#f0f921"
             ]
            ],
            "type": "histogram2d"
           }
          ],
          "histogram2dcontour": [
           {
            "colorbar": {
             "outlinewidth": 0,
             "ticks": ""
            },
            "colorscale": [
             [
              0,
              "#0d0887"
             ],
             [
              0.1111111111111111,
              "#46039f"
             ],
             [
              0.2222222222222222,
              "#7201a8"
             ],
             [
              0.3333333333333333,
              "#9c179e"
             ],
             [
              0.4444444444444444,
              "#bd3786"
             ],
             [
              0.5555555555555556,
              "#d8576b"
             ],
             [
              0.6666666666666666,
              "#ed7953"
             ],
             [
              0.7777777777777778,
              "#fb9f3a"
             ],
             [
              0.8888888888888888,
              "#fdca26"
             ],
             [
              1,
              "#f0f921"
             ]
            ],
            "type": "histogram2dcontour"
           }
          ],
          "mesh3d": [
           {
            "colorbar": {
             "outlinewidth": 0,
             "ticks": ""
            },
            "type": "mesh3d"
           }
          ],
          "parcoords": [
           {
            "line": {
             "colorbar": {
              "outlinewidth": 0,
              "ticks": ""
             }
            },
            "type": "parcoords"
           }
          ],
          "pie": [
           {
            "automargin": true,
            "type": "pie"
           }
          ],
          "scatter": [
           {
            "fillpattern": {
             "fillmode": "overlay",
             "size": 10,
             "solidity": 0.2
            },
            "type": "scatter"
           }
          ],
          "scatter3d": [
           {
            "line": {
             "colorbar": {
              "outlinewidth": 0,
              "ticks": ""
             }
            },
            "marker": {
             "colorbar": {
              "outlinewidth": 0,
              "ticks": ""
             }
            },
            "type": "scatter3d"
           }
          ],
          "scattercarpet": [
           {
            "marker": {
             "colorbar": {
              "outlinewidth": 0,
              "ticks": ""
             }
            },
            "type": "scattercarpet"
           }
          ],
          "scattergeo": [
           {
            "marker": {
             "colorbar": {
              "outlinewidth": 0,
              "ticks": ""
             }
            },
            "type": "scattergeo"
           }
          ],
          "scattergl": [
           {
            "marker": {
             "colorbar": {
              "outlinewidth": 0,
              "ticks": ""
             }
            },
            "type": "scattergl"
           }
          ],
          "scattermapbox": [
           {
            "marker": {
             "colorbar": {
              "outlinewidth": 0,
              "ticks": ""
             }
            },
            "type": "scattermapbox"
           }
          ],
          "scatterpolar": [
           {
            "marker": {
             "colorbar": {
              "outlinewidth": 0,
              "ticks": ""
             }
            },
            "type": "scatterpolar"
           }
          ],
          "scatterpolargl": [
           {
            "marker": {
             "colorbar": {
              "outlinewidth": 0,
              "ticks": ""
             }
            },
            "type": "scatterpolargl"
           }
          ],
          "scatterternary": [
           {
            "marker": {
             "colorbar": {
              "outlinewidth": 0,
              "ticks": ""
             }
            },
            "type": "scatterternary"
           }
          ],
          "surface": [
           {
            "colorbar": {
             "outlinewidth": 0,
             "ticks": ""
            },
            "colorscale": [
             [
              0,
              "#0d0887"
             ],
             [
              0.1111111111111111,
              "#46039f"
             ],
             [
              0.2222222222222222,
              "#7201a8"
             ],
             [
              0.3333333333333333,
              "#9c179e"
             ],
             [
              0.4444444444444444,
              "#bd3786"
             ],
             [
              0.5555555555555556,
              "#d8576b"
             ],
             [
              0.6666666666666666,
              "#ed7953"
             ],
             [
              0.7777777777777778,
              "#fb9f3a"
             ],
             [
              0.8888888888888888,
              "#fdca26"
             ],
             [
              1,
              "#f0f921"
             ]
            ],
            "type": "surface"
           }
          ],
          "table": [
           {
            "cells": {
             "fill": {
              "color": "#EBF0F8"
             },
             "line": {
              "color": "white"
             }
            },
            "header": {
             "fill": {
              "color": "#C8D4E3"
             },
             "line": {
              "color": "white"
             }
            },
            "type": "table"
           }
          ]
         },
         "layout": {
          "annotationdefaults": {
           "arrowcolor": "#2a3f5f",
           "arrowhead": 0,
           "arrowwidth": 1
          },
          "autotypenumbers": "strict",
          "coloraxis": {
           "colorbar": {
            "outlinewidth": 0,
            "ticks": ""
           }
          },
          "colorscale": {
           "diverging": [
            [
             0,
             "#8e0152"
            ],
            [
             0.1,
             "#c51b7d"
            ],
            [
             0.2,
             "#de77ae"
            ],
            [
             0.3,
             "#f1b6da"
            ],
            [
             0.4,
             "#fde0ef"
            ],
            [
             0.5,
             "#f7f7f7"
            ],
            [
             0.6,
             "#e6f5d0"
            ],
            [
             0.7,
             "#b8e186"
            ],
            [
             0.8,
             "#7fbc41"
            ],
            [
             0.9,
             "#4d9221"
            ],
            [
             1,
             "#276419"
            ]
           ],
           "sequential": [
            [
             0,
             "#0d0887"
            ],
            [
             0.1111111111111111,
             "#46039f"
            ],
            [
             0.2222222222222222,
             "#7201a8"
            ],
            [
             0.3333333333333333,
             "#9c179e"
            ],
            [
             0.4444444444444444,
             "#bd3786"
            ],
            [
             0.5555555555555556,
             "#d8576b"
            ],
            [
             0.6666666666666666,
             "#ed7953"
            ],
            [
             0.7777777777777778,
             "#fb9f3a"
            ],
            [
             0.8888888888888888,
             "#fdca26"
            ],
            [
             1,
             "#f0f921"
            ]
           ],
           "sequentialminus": [
            [
             0,
             "#0d0887"
            ],
            [
             0.1111111111111111,
             "#46039f"
            ],
            [
             0.2222222222222222,
             "#7201a8"
            ],
            [
             0.3333333333333333,
             "#9c179e"
            ],
            [
             0.4444444444444444,
             "#bd3786"
            ],
            [
             0.5555555555555556,
             "#d8576b"
            ],
            [
             0.6666666666666666,
             "#ed7953"
            ],
            [
             0.7777777777777778,
             "#fb9f3a"
            ],
            [
             0.8888888888888888,
             "#fdca26"
            ],
            [
             1,
             "#f0f921"
            ]
           ]
          },
          "colorway": [
           "#636efa",
           "#EF553B",
           "#00cc96",
           "#ab63fa",
           "#FFA15A",
           "#19d3f3",
           "#FF6692",
           "#B6E880",
           "#FF97FF",
           "#FECB52"
          ],
          "font": {
           "color": "#2a3f5f"
          },
          "geo": {
           "bgcolor": "white",
           "lakecolor": "white",
           "landcolor": "#E5ECF6",
           "showlakes": true,
           "showland": true,
           "subunitcolor": "white"
          },
          "hoverlabel": {
           "align": "left"
          },
          "hovermode": "closest",
          "mapbox": {
           "style": "light"
          },
          "paper_bgcolor": "white",
          "plot_bgcolor": "#E5ECF6",
          "polar": {
           "angularaxis": {
            "gridcolor": "white",
            "linecolor": "white",
            "ticks": ""
           },
           "bgcolor": "#E5ECF6",
           "radialaxis": {
            "gridcolor": "white",
            "linecolor": "white",
            "ticks": ""
           }
          },
          "scene": {
           "xaxis": {
            "backgroundcolor": "#E5ECF6",
            "gridcolor": "white",
            "gridwidth": 2,
            "linecolor": "white",
            "showbackground": true,
            "ticks": "",
            "zerolinecolor": "white"
           },
           "yaxis": {
            "backgroundcolor": "#E5ECF6",
            "gridcolor": "white",
            "gridwidth": 2,
            "linecolor": "white",
            "showbackground": true,
            "ticks": "",
            "zerolinecolor": "white"
           },
           "zaxis": {
            "backgroundcolor": "#E5ECF6",
            "gridcolor": "white",
            "gridwidth": 2,
            "linecolor": "white",
            "showbackground": true,
            "ticks": "",
            "zerolinecolor": "white"
           }
          },
          "shapedefaults": {
           "line": {
            "color": "#2a3f5f"
           }
          },
          "ternary": {
           "aaxis": {
            "gridcolor": "white",
            "linecolor": "white",
            "ticks": ""
           },
           "baxis": {
            "gridcolor": "white",
            "linecolor": "white",
            "ticks": ""
           },
           "bgcolor": "#E5ECF6",
           "caxis": {
            "gridcolor": "white",
            "linecolor": "white",
            "ticks": ""
           }
          },
          "title": {
           "x": 0.05
          },
          "xaxis": {
           "automargin": true,
           "gridcolor": "white",
           "linecolor": "white",
           "ticks": "",
           "title": {
            "standoff": 15
           },
           "zerolinecolor": "white",
           "zerolinewidth": 2
          },
          "yaxis": {
           "automargin": true,
           "gridcolor": "white",
           "linecolor": "white",
           "ticks": "",
           "title": {
            "standoff": 15
           },
           "zerolinecolor": "white",
           "zerolinewidth": 2
          }
         }
        },
        "title": {
         "text": "M2: heat losses (with input)"
        },
        "xaxis": {
         "range": [
          0,
          2.099
         ],
         "title": {
          "text": "Height"
         }
        },
        "yaxis": {
         "title": {
          "text": "Temperature"
         }
        }
       }
      }
     },
     "metadata": {},
     "output_type": "display_data"
    },
    {
     "data": {
      "application/vnd.plotly.v1+json": {
       "config": {
        "plotlyServerURL": "https://plot.ly"
       },
       "data": [
        {
         "mode": "lines",
         "name": "0 seconds",
         "type": "scatter",
         "x": [
          0.10495000000000002,
          0.3148500000000001,
          0.52475,
          0.7346500000000001,
          0.9445500000000001,
          1.1544500000000002,
          1.3643500000000004,
          1.5742500000000004,
          1.7841500000000003,
          1.9940500000000003
         ],
         "y": [
          100,
          90,
          80,
          70,
          60,
          50,
          40,
          30,
          20,
          10
         ]
        },
        {
         "mode": "lines",
         "name": "60 seconds",
         "type": "scatter",
         "x": [
          0.10495000000000002,
          0.3148500000000001,
          0.52475,
          0.7346500000000001,
          0.9445500000000001,
          1.1544500000000002,
          1.3643500000000004,
          1.5742500000000004,
          1.7841500000000003,
          1.9940500000000003
         ],
         "y": [
          94.99109564752546,
          89.99680031620633,
          81.39309822941529,
          69.99752751706852,
          59.99789111749962,
          49.99825471793072,
          39.99861831836182,
          29.99898191879292,
          19.999345519224022,
          15.001423710999191
         ]
        },
        {
         "mode": "lines",
         "name": "120 seconds",
         "type": "scatter",
         "x": [
          0.10495000000000002,
          0.3148500000000001,
          0.52475,
          0.7346500000000001,
          0.9445500000000001,
          1.1544500000000002,
          1.3643500000000004,
          1.5742500000000004,
          1.7841500000000003,
          1.9940500000000003
         ],
         "y": [
          92.48639239634647,
          88.18817971710655,
          81.38965638913221,
          70.69329983232998,
          59.995782311678305,
          49.99650949931998,
          39.99723668696165,
          29.99796387460332,
          22.500542842684272,
          17.500460808128114
         ]
        },
        {
         "mode": "lines",
         "name": "180 seconds",
         "type": "scatter",
         "x": [
          0.10495000000000002,
          0.3148500000000001,
          0.52475,
          0.7346500000000001,
          0.9445500000000001,
          1.1544500000000002,
          1.3643500000000004,
          1.5742500000000004,
          1.7841500000000003,
          1.9940500000000003
         ],
         "y": [
          90.33004563460737,
          86.93439345311478,
          80.83301247477519,
          70.69022142822897,
          60.34293476781744,
          49.99476434416545,
          39.99585510579765,
          31.2483691977653,
          23.748963483588874,
          20.00040208566844
         ]
        },
        {
         "mode": "lines",
         "name": "240 seconds",
         "type": "scatter",
         "x": [
          0.10495000000000002,
          0.3148500000000001,
          0.52475,
          0.7346500000000001,
          0.9445500000000001,
          1.1544500000000002,
          1.3643500000000004,
          1.5742500000000004,
          1.7841500000000003,
          1.9940500000000003
         ],
         "y": [
          88.62531075463326,
          85.5779028597513,
          80.20457183311895,
          70.58543538227228,
          60.34037135885633,
          50.16771928827932,
          40.62043405899904,
          31.871593976979934,
          25.62434062423424,
          21.874157780500994
         ]
        },
        {
         "mode": "lines",
         "name": "300 seconds",
         "type": "scatter",
         "x": [
          0.10495000000000002,
          0.3148500000000001,
          0.52475,
          0.7346500000000001,
          0.9445500000000001,
          1.1544500000000002,
          1.3643500000000004,
          1.5742500000000004,
          1.7841500000000003,
          1.9940500000000003
         ],
         "y": [
          87.09488756565047,
          84.41143993728636,
          79.47391572391018,
          70.26985337419016,
          60.37447047443776,
          50.4787756694986,
          41.01841114585,
          33.12179859658788,
          26.87251338615841,
          23.748592285775636
         ]
        },
        {
         "mode": "lines",
         "name": "360 seconds",
         "type": "scatter",
         "x": [
          0.10495000000000002,
          0.3148500000000001,
          0.52475,
          0.7346500000000001,
          0.9445500000000001,
          1.1544500000000002,
          1.3643500000000004,
          1.5742500000000004,
          1.7841500000000003,
          1.9940500000000003
         ],
         "y": [
          85.74662488086123,
          83.28095698599346,
          78.73291570306458,
          69.92157334994656,
          60.37219196156569,
          50.69476467595561,
          41.79917934081578,
          33.9446582121365,
          28.43491248782906,
          25.309639117762558
         ]
        },
        {
         "mode": "lines",
         "name": "420 seconds",
         "type": "scatter",
         "x": [
          0.10495000000000002,
          0.3148500000000001,
          0.52475,
          0.7346500000000001,
          0.9445500000000001,
          1.1544500000000002,
          1.3643500000000004,
          1.5742500000000004,
          1.7841500000000003,
          1.9940500000000003
         ],
         "y": [
          84.50739051341085,
          82.23640087712144,
          77.99356180171092,
          69.5499374575854,
          60.30602113832651,
          51.084070560122356,
          42.31847133768664,
          35.11635061398563,
          29.62666159210057,
          26.871252187124895
         ]
        },
        {
         "mode": "lines",
         "name": "480 seconds",
         "type": "scatter",
         "x": [
          0.10495000000000002,
          0.3148500000000001,
          0.52475,
          0.7346500000000001,
          0.9445500000000001,
          1.1544500000000002,
          1.3643500000000004,
          1.5742500000000004,
          1.7841500000000003,
          1.9940500000000003
         ],
         "y": [
          83.3656214382413,
          81.24716669817144,
          77.28550511397407,
          69.14717623031048,
          60.31488836683303,
          51.310552274864406,
          43.09905547020709,
          35.971702833649076,
          30.99334054740571,
          28.247749528046977
         ]
        },
        {
         "mode": "lines",
         "name": "540 seconds",
         "type": "scatter",
         "x": [
          0.10495000000000002,
          0.3148500000000001,
          0.52475,
          0.7346500000000001,
          0.9445500000000001,
          1.1544500000000002,
          1.3643500000000004,
          1.5742500000000004,
          1.7841500000000003,
          1.9940500000000003
         ],
         "y": [
          82.30023071651213,
          80.3223153631894,
          76.5895379511795,
          68.79761728716971,
          60.22670971259458,
          51.705336623975015,
          43.63984874988107,
          37.04539007733802,
          32.10911592090364,
          29.619238581689654
         ]
        },
        {
         "mode": "lines",
         "name": "600 seconds",
         "type": "scatter",
         "x": [
          0.10495000000000002,
          0.3148500000000001,
          0.52475,
          0.7346500000000001,
          0.9445500000000001,
          1.1544500000000002,
          1.3643500000000004,
          1.5742500000000004,
          1.7841500000000003,
          1.9940500000000003
         ],
         "y": [
          81.30521281818237,
          79.44168761414412,
          75.9523814846761,
          68.40554018263245,
          60.24936967877805,
          51.931562586152495,
          44.37414180688977,
          37.87353777828849,
          33.33170597483378,
          30.862723163175712
         ]
        },
        {
         "mode": "lines",
         "name": "660 seconds",
         "type": "scatter",
         "x": [
          0.10495000000000002,
          0.3148500000000001,
          0.52475,
          0.7346500000000001,
          0.9445500000000001,
          1.1544500000000002,
          1.3643500000000004,
          1.5742500000000004,
          1.7841500000000003,
          1.9940500000000003
         ],
         "y": [
          80.36748295876485,
          78.6256581167085,
          75.31605254465387,
          68.09833992124669,
          60.16640129679546,
          52.31009141574223,
          44.90121958217381,
          38.85200898775669,
          34.36740339056959,
          32.09566857114571
         ]
        },
        {
         "mode": "lines",
         "name": "720 seconds",
         "type": "scatter",
         "x": [
          0.10495000000000002,
          0.3148500000000001,
          0.52475,
          0.7346500000000001,
          0.9445500000000001,
          1.1544500000000002,
          1.3643500000000004,
          1.5742500000000004,
          1.7841500000000003,
          1.9940500000000003
         ],
         "y": [
          79.49069365446819,
          77.83866992092294,
          74.75449051280064,
          67.73868157355733,
          60.20211577280589,
          52.532070125949176,
          45.57976065132973,
          39.633282634225594,
          35.473101881639835,
          33.229863752894964
         ]
        },
        {
         "mode": "lines",
         "name": "780 seconds",
         "type": "scatter",
         "x": [
          0.10495000000000002,
          0.3148500000000001,
          0.52475,
          0.7346500000000001,
          0.9445500000000001,
          1.1544500000000002,
          1.3643500000000004,
          1.5742500000000004,
          1.7841500000000003,
          1.9940500000000003
         ],
         "y": [
          78.65888463434233,
          77.11954983591784,
          74.18118298253711,
          67.47580934006028,
          60.133233078680846,
          52.88924357042093,
          46.08129180634434,
          40.52541808599634,
          36.430737253470596,
          34.349724880821206
         ]
        },
        {
         "mode": "lines",
         "name": "840 seconds",
         "type": "scatter",
         "x": [
          0.10495000000000002,
          0.3148500000000001,
          0.52475,
          0.7346500000000001,
          0.9445500000000001,
          1.1544500000000002,
          1.3643500000000004,
          1.5742500000000004,
          1.7841500000000003,
          1.9940500000000003
         ],
         "y": [
          77.88350118310328,
          76.41702430086565,
          73.6902404005101,
          67.15470063314486,
          60.18043233026275,
          53.10549880427151,
          46.70597697967739,
          41.25490427123175,
          37.436719955498035,
          35.3883618446491
         ]
        },
        {
         "mode": "lines",
         "name": "900 seconds",
         "type": "scatter",
         "x": [
          0.10495000000000002,
          0.3148500000000001,
          0.52475,
          0.7346500000000001,
          0.9445500000000001,
          1.1544500000000002,
          1.3643500000000004,
          1.5742500000000004,
          1.7841500000000003,
          1.9940500000000003
         ],
         "y": [
          77.1446158855723,
          75.7839144216855,
          73.17843282930193,
          66.93288010580689,
          60.127964260537865,
          53.441480748109186,
          47.17876460547391,
          42.07024582276914,
          38.32069646958159,
          36.41059188620705
         ]
        },
        {
         "mode": "lines",
         "name": "960 seconds",
         "type": "scatter",
         "x": [
          0.10495000000000002,
          0.3148500000000001,
          0.52475,
          0.7346500000000001,
          0.9445500000000001,
          1.1544500000000002,
          1.3643500000000004,
          1.5742500000000004,
          1.7841500000000003,
          1.9940500000000003
         ],
         "y": [
          76.45869143288793,
          75.15859413461519,
          72.7510197747672,
          66.65072636511772,
          60.185090439426865,
          53.65157827569375,
          47.754450071253515,
          42.74854378388429,
          39.23946396668916,
          37.3635955345286
         ]
        },
        {
         "mode": "lines",
         "name": "1020 seconds",
         "type": "scatter",
         "x": [
          0.10495000000000002,
          0.3148500000000001,
          0.52475,
          0.7346500000000001,
          0.9445500000000001,
          1.1544500000000002,
          1.3643500000000004,
          1.5742500000000004,
          1.7841500000000003,
          1.9940500000000003
         ],
         "y": [
          75.8031294686689,
          74.6019754687921,
          72.29728783372506,
          66.46563176329569,
          60.149023212259976,
          53.96801873316818,
          48.1985745965708,
          43.4957730123308,
          40.05504035974781,
          38.29940704475599
         ]
        },
        {
         "mode": "lines",
         "name": "1080 seconds",
         "type": "scatter",
         "x": [
          0.10495000000000002,
          0.3148500000000001,
          0.52475,
          0.7346500000000001,
          0.9445500000000001,
          1.1544500000000002,
          1.3643500000000004,
          1.5742500000000004,
          1.7841500000000003,
          1.9940500000000003
         ],
         "y": [
          75.19710490002142,
          74.04734972968211,
          71.92648065360963,
          66.22071512733658,
          60.21473790923216,
          54.171991175051176,
          48.73042816981378,
          44.12554962567884,
          40.896541390679666,
          39.17501104885496
         ]
        },
        {
         "mode": "lines",
         "name": "1140 seconds",
         "type": "scatter",
         "x": [
          0.10495000000000002,
          0.3148500000000001,
          0.52475,
          0.7346500000000001,
          0.9445500000000001,
          1.1544500000000002,
          1.3643500000000004,
          1.5742500000000004,
          1.7841500000000003,
          1.9940500000000003
         ],
         "y": [
          74.61683253007,
          73.55898055440153,
          71.52671143090998,
          66.06821452272845,
          60.19422914997615,
          54.47080559629695,
          49.14723763692569,
          44.81222665604951,
          41.649165785653565,
          40.03349499299635
         ]
        },
        {
         "mode": "lines",
         "name": "1200 seconds",
         "type": "scatter",
         "x": [
          0.10495000000000002,
          0.3148500000000001,
          0.52475,
          0.7346500000000001,
          0.9445500000000001,
          1.1544500000000002,
          1.3643500000000004,
          1.5742500000000004,
          1.7841500000000003,
          1.9940500000000003
         ],
         "y": [
          74.08257021639669,
          73.06897762346699,
          71.2063226245315,
          65.85805815634009,
          60.26742405085356,
          54.66890505549399,
          49.63999840414976,
          45.39687807428342,
          42.42172684000316,
          40.83896753276585
         ]
        },
        {
         "mode": "lines",
         "name": "1260 seconds",
         "type": "scatter",
         "x": [
          0.10495000000000002,
          0.3148500000000001,
          0.52475,
          0.7346500000000001,
          0.9445500000000001,
          1.1544500000000002,
          1.3643500000000004,
          1.5742500000000004,
          1.7841500000000003,
          1.9940500000000003
         ],
         "y": [
          73.57048338951587,
          72.64169551238912,
          70.85624281876579,
          65.73450326588784,
          60.26136143212368,
          54.95190943916584,
          50.03131560942188,
          46.02953681845632,
          43.11672990868487,
          41.62792094406999
         ]
        },
        {
         "mode": "lines",
         "name": "1320 seconds",
         "type": "scatter",
         "x": [
          0.10495000000000002,
          0.3148500000000001,
          0.52475,
          0.7346500000000001,
          0.9445500000000001,
          1.1544500000000002,
          1.3643500000000004,
          1.5742500000000004,
          1.7841500000000003,
          1.9940500000000003
         ],
         "y": [
          73.10084927590513,
          72.21062886529629,
          70.58086673702243,
          65.55641486727461,
          60.34112051316346,
          55.14449050325368,
          50.48915939497022,
          46.572638362137795,
          43.827516989846856,
          42.36982483636179
         ]
        },
        {
         "mode": "lines",
         "name": "1380 seconds",
         "type": "scatter",
         "x": [
          0.10495000000000002,
          0.3148500000000001,
          0.52475,
          0.7346500000000001,
          0.9445500000000001,
          1.1544500000000002,
          1.3643500000000004,
          1.5742500000000004,
          1.7841500000000003,
          1.9940500000000003
         ],
         "y": [
          72.65053752971022,
          71.83816490259112,
          70.27628761797988,
          65.45864476613175,
          60.348335110615835,
          55.413315243896676,
          50.856948261469384,
          47.15695043731147,
          44.46996670354845,
          43.09611178470766
         ]
        },
        {
         "mode": "lines",
         "name": "1440 seconds",
         "type": "scatter",
         "x": [
          0.10495000000000002,
          0.3148500000000001,
          0.52475,
          0.7346500000000001,
          0.9445500000000001,
          1.1544500000000002,
          1.3643500000000004,
          1.5742500000000004,
          1.7841500000000003,
          1.9940500000000003
         ],
         "y": [
          72.23918891814294,
          71.46073904273655,
          70.04120928674834,
          65.30994581465745,
          60.433893309687555,
          55.60077486268548,
          51.2835266706867,
          47.66201699019123,
          45.12524793497847,
          43.78041222153923
         ]
        },
        {
         "mode": "lines",
         "name": "1500 seconds",
         "type": "scatter",
         "x": [
          0.10495000000000002,
          0.3148500000000001,
          0.52475,
          0.7346500000000001,
          0.9445500000000001,
          1.1544500000000002,
          1.3643500000000004,
          1.5742500000000004,
          1.7841500000000003,
          1.9940500000000003
         ],
         "y": [
          71.84483147342318,
          71.13756681011941,
          69.7781443264262,
          65.23522055763333,
          60.45324421631764,
          55.85686363355142,
          51.629742308117486,
          48.2029427075717,
          45.71988348845272,
          44.450149011486396
         ]
        },
        {
         "mode": "lines",
         "name": "1560 seconds",
         "type": "scatter",
         "x": [
          0.10495000000000002,
          0.3148500000000001,
          0.52475,
          0.7346500000000001,
          0.9445500000000001,
          1.1544500000000002,
          1.3643500000000004,
          1.5742500000000004,
          1.7841500000000003,
          1.9940500000000003
         ],
         "y": [
          71.48608704019242,
          70.80888670621742,
          69.57923067113919,
          65.11334750549707,
          60.543953634889405,
          56.039608443698555,
          52.028257757977,
          48.67332060003621,
          46.32519729358764,
          45.08227306696666
         ]
        },
        {
         "mode": "lines",
         "name": "1620 seconds",
         "type": "scatter",
         "x": [
          0.10495000000000002,
          0.3148500000000001,
          0.52475,
          0.7346500000000001,
          0.9445500000000001,
          1.1544500000000002,
          1.3643500000000004,
          1.5742500000000004,
          1.7841500000000003,
          1.9940500000000003
         ],
         "y": [
          71.1423912108354,
          70.53010412623276,
          69.353951008201,
          65.0592767680719,
          60.574362247468834,
          56.28423883543239,
          52.35477600615387,
          49.17523066539121,
          46.87640471280099,
          45.70094210334249
         ]
        },
        {
         "mode": "lines",
         "name": "1680 seconds",
         "type": "scatter",
         "x": [
          0.10495000000000002,
          0.3148500000000001,
          0.52475,
          0.7346500000000001,
          0.9445500000000001,
          1.1544500000000002,
          1.3643500000000004,
          1.5742500000000004,
          1.7841500000000003,
          1.9940500000000003
         ],
         "y": [
          70.83113691751598,
          70.24567633696111,
          69.1875561055867,
          64.9618259645719,
          60.669666765492494,
          56.46266705924768,
          52.72805295375834,
          49.61405017840545,
          47.43667764067138,
          46.285823449709774
         ]
        },
        {
         "mode": "lines",
         "name": "1740 seconds",
         "type": "scatter",
         "x": [
          0.10495000000000002,
          0.3148500000000001,
          0.52475,
          0.7346500000000001,
          0.9445500000000001,
          1.1544500000000002,
          1.3643500000000004,
          1.5742500000000004,
          1.7841500000000003,
          1.9940500000000003
         ],
         "y": [
          70.53328953546561,
          70.00691297627357,
          68.99661397854523,
          64.92630893282524,
          60.71013021245429,
          56.6969735185519,
          53.03663754002258,
          50.08082027731968,
          47.94848833370499,
          46.85835452721832
         ]
        },
        {
         "mode": "lines",
         "name": "1800 seconds",
         "type": "scatter",
         "x": [
          0.10495000000000002,
          0.3148500000000001,
          0.52475,
          0.7346500000000001,
          0.9445500000000001,
          1.1544500000000002,
          1.3643500000000004,
          1.5742500000000004,
          1.7841500000000003,
          1.9940500000000003
         ],
         "y": [
          70.26490193813932,
          69.76263887870067,
          68.85950289811532,
          64.8510550883107,
          60.80954688944315,
          56.87146524283269,
          53.38718128218536,
          50.490978448712596,
          48.46812301058586,
          47.40047335429062
         ]
        },
        {
         "mode": "lines",
         "name": "1860 seconds",
         "type": "scatter",
         "x": [
          0.10495000000000002,
          0.3148500000000001,
          0.52475,
          0.7346500000000001,
          0.9445500000000001,
          1.1544500000000002,
          1.3643500000000004,
          1.5742500000000004,
          1.7841500000000003,
          1.9940500000000003
         ],
         "y": [
          70.00852466855744,
          69.55998115970982,
          68.69973883616987,
          64.83223305335018,
          60.85914241208584,
          57.0964591850089,
          53.67947033309393,
          50.92606265882643,
          48.94422508697821,
          47.93130760968537
         ]
        },
        {
         "mode": "lines",
         "name": "1920 seconds",
         "type": "scatter",
         "x": [
          0.10495000000000002,
          0.3148500000000001,
          0.52475,
          0.7346500000000001,
          0.9445500000000001,
          1.1544500000000002,
          1.3643500000000004,
          1.5742500000000004,
          1.7841500000000003,
          1.9940500000000003
         ],
         "y": [
          69.7788037807591,
          69.35214467513725,
          68.5890274655963,
          64.77713504811764,
          60.96224783327169,
          57.26737179694662,
          54.0095137931787,
          51.3102221665006,
          49.42716889464424,
          48.43472827200225
         ]
        },
        {
         "mode": "lines",
         "name": "1980 seconds",
         "type": "scatter",
         "x": [
          0.10495000000000002,
          0.3148500000000001,
          0.52475,
          0.7346500000000001,
          0.9445500000000001,
          1.1544500000000002,
          1.3643500000000004,
          1.5742500000000004,
          1.7841500000000003,
          1.9940500000000003
         ],
         "y": [
          69.55990950280997,
          69.18207215125898,
          68.45757105898363,
          64.77335447464546,
          61.02013341433424,
          57.48395818096259,
          54.28701697262639,
          51.71671071344524,
          49.87092539691,
          48.92787136146512
         ]
        },
        {
         "mode": "lines",
         "name": "2040 seconds",
         "type": "scatter",
         "x": [
          0.10495000000000002,
          0.3148500000000001,
          0.52475,
          0.7346500000000001,
          0.9445500000000001,
          1.1544500000000002,
          1.3643500000000004,
          1.5742500000000004,
          1.7841500000000003,
          1.9940500000000003
         ],
         "y": [
          69.36501773456968,
          69.0073230610985,
          68.37067842257508,
          64.73655607470891,
          61.12655350816384,
          57.651625243853374,
          54.598557882069436,
          52.07730753815086,
          50.32072592634666,
          49.396278099160895
         ]
        },
        {
         "mode": "lines",
         "name": "2100 seconds",
         "type": "scatter",
         "x": [
          0.10495000000000002,
          0.3148500000000001,
          0.52475,
          0.7346500000000001,
          0.9445500000000001,
          1.1544500000000002,
          1.3643500000000004,
          1.5742500000000004,
          1.7841500000000003,
          1.9940500000000003
         ],
         "y": [
          69.17996632926727,
          68.86664924566472,
          68.2649504941372,
          64.7463396571925,
          61.19196767190421,
          57.86061607770859,
          54.86265964569373,
          52.45797312811673,
          50.73519649633405,
          49.85534579716237
         ]
        },
        {
         "mode": "lines",
         "name": "2160 seconds",
         "type": "scatter",
         "x": [
          0.10495000000000002,
          0.3148500000000001,
          0.52475,
          0.7346500000000001,
          0.9445500000000001,
          1.1544500000000002,
          1.3643500000000004,
          1.5742500000000004,
          1.7841500000000003,
          1.9940500000000003
         ],
         "y": [
          69.0163716339379,
          68.72198092360338,
          68.19956110346872,
          64.7261705130606,
          61.3013699878246,
          58.02534885294073,
          55.157490473455454,
          52.797228998593994,
          51.15504750102511,
          50.29207638198517
         ]
        },
        {
         "mode": "lines",
         "name": "2220 seconds",
         "type": "scatter",
         "x": [
          0.10495000000000002,
          0.3148500000000001,
          0.52475,
          0.7346500000000001,
          0.9445500000000001,
          1.1544500000000002,
          1.3643500000000004,
          1.5742500000000004,
          1.7841500000000003,
          1.9940500000000003
         ],
         "y": [
          68.86182226531292,
          68.60779249909159,
          68.1172847858276,
          64.74819448048567,
          61.373633064254825,
          58.22747430103967,
          55.40945704198827,
          53.15456476907617,
          51.54301140876172,
          50.7203343872755
         ]
        },
        {
         "mode": "lines",
         "name": "2280 seconds",
         "type": "scatter",
         "x": [
          0.10495000000000002,
          0.3148500000000001,
          0.52475,
          0.7346500000000001,
          0.9445500000000001,
          1.1544500000000002,
          1.3643500000000004,
          1.5742500000000004,
          1.7841500000000003,
          1.9940500000000003
         ],
         "y": [
          68.72624384009775,
          68.49051002188844,
          68.07132050823702,
          64.74317631017057,
          61.48572097592375,
          58.3895658637041,
          55.689189530338524,
          53.47450215247556,
          51.935791680329686,
          51.1284115422282
         ]
        },
        {
         "mode": "lines",
         "name": "2340 seconds",
         "type": "scatter",
         "x": [
          0.10495000000000002,
          0.3148500000000001,
          0.52475,
          0.7346500000000001,
          0.9445500000000001,
          1.1544500000000002,
          1.3643500000000004,
          1.5742500000000004,
          1.7841500000000003,
          1.9940500000000003
         ],
         "y": [
          68.5990983162735,
          68.40010060991959,
          68.01054696263495,
          64.77625345246484,
          61.564240254683206,
          58.585483618293644,
          55.930178435770344,
          53.81075338350081,
          52.29977102231149,
          51.52881062442861
         ]
        },
        {
         "mode": "lines",
         "name": "2400 seconds",
         "type": "scatter",
         "x": [
          0.10495000000000002,
          0.3148500000000001,
          0.52475,
          0.7346500000000001,
          0.9445500000000001,
          1.1544500000000002,
          1.3643500000000004,
          1.5742500000000004,
          1.7841500000000003,
          1.9940500000000003
         ],
         "y": [
          68.48845345602838,
          68.30777041805895,
          67.98215200745479,
          64.78511549134441,
          61.6787491551513,
          58.74521620605807,
          56.19626414564124,
          54.11321185005401,
          52.66807783355844,
          51.910971180753585
         ]
        },
        {
         "mode": "lines",
         "name": "2460 seconds",
         "type": "scatter",
         "x": [
          0.10495000000000002,
          0.3148500000000001,
          0.52475,
          0.7346500000000001,
          0.9445500000000001,
          1.1544500000000002,
          1.3643500000000004,
          1.5742500000000004,
          1.7841500000000003,
          1.9940500000000003
         ],
         "y": [
          68.38578320553398,
          68.23857297726828,
          67.9412977942567,
          64.8281857396376,
          61.76303029105923,
          58.93551985763393,
          56.42733608378866,
          54.4304029610482,
          53.01036029751466,
          52.28617847072696
         ]
        },
        {
         "mode": "lines",
         "name": "2520 seconds",
         "type": "scatter",
         "x": [
          0.10495000000000002,
          0.3148500000000001,
          0.52475,
          0.7346500000000001,
          0.9445500000000001,
          1.1544500000000002,
          1.3643500000000004,
          1.5742500000000004,
          1.7841500000000003,
          1.9940500000000003
         ],
         "y": [
          68.2971357925499,
          68.16893544461888,
          67.9288509998872,
          64.84988914226902,
          61.879727062944376,
          59.09317650079423,
          56.681084080287924,
          54.71705648744187,
          53.356538580545326,
          52.644900359245014
         ]
        },
        {
         "mode": "lines",
         "name": "2580 seconds",
         "type": "scatter",
         "x": [
          0.10495000000000002,
          0.3148500000000001,
          0.52475,
          0.7346500000000001,
          0.9445500000000001,
          1.1544500000000002,
          1.3643500000000004,
          1.5742500000000004,
          1.7841500000000003,
          1.9940500000000003
         ],
         "y": [
          68.21608689996118,
          68.11847144918903,
          67.90672327706778,
          64.90202543926337,
          61.96939209932655,
          59.27840411430792,
          56.9032173755768,
          55.017014469502875,
          53.679199606604314,
          52.99732741605048
         ]
        },
        {
         "mode": "lines",
         "name": "2640 seconds",
         "type": "scatter",
         "x": [
          0.10495000000000002,
          0.3148500000000001,
          0.52475,
          0.7346500000000001,
          0.9445500000000001,
          1.1544500000000002,
          1.3643500000000004,
          1.5742500000000004,
          1.7841500000000003,
          1.9940500000000003
         ],
         "y": [
          68.14660021668867,
          68.0692835113296,
          67.90891242232014,
          64.93578489633606,
          62.088082333152585,
          59.434284882580315,
          57.14581023229028,
          55.289389748370596,
          54.00536775655157,
          53.33485472519422
         ]
        },
        {
         "mode": "lines",
         "name": "2700 seconds",
         "type": "scatter",
         "x": [
          0.10495000000000002,
          0.3148500000000001,
          0.52475,
          0.7346500000000001,
          0.9445500000000001,
          1.1544500000000002,
          1.3643500000000004,
          1.5742500000000004,
          1.7841500000000003,
          1.9940500000000003
         ],
         "y": [
          68.08428354580519,
          68.03514844848617,
          67.90467672586249,
          64.99623396797561,
          62.18288863810935,
          59.61493060632506,
          57.359918115809776,
          55.57376506703776,
          54.31029224200428,
          53.66668294339279
         ]
        },
        {
         "mode": "lines",
         "name": "2760 seconds",
         "type": "scatter",
         "x": [
          0.10495000000000002,
          0.3148500000000001,
          0.52475,
          0.7346500000000001,
          0.9445500000000001,
          1.1544500000000002,
          1.3643500000000004,
          1.5742500000000004,
          1.7841500000000003,
          1.9940500000000003
         ],
         "y": [
          68.03117496473224,
          68.00393047691398,
          67.92067688654478,
          65.04151104430782,
          62.30344282477965,
          59.769370718168744,
          57.59242816955239,
          55.83326099639517,
          54.618365341624404,
          53.98504940363655
         ]
        },
        {
         "mode": "lines",
         "name": "2820 seconds",
         "type": "scatter",
         "x": [
          0.10495000000000002,
          0.3148500000000001,
          0.52475,
          0.7346500000000001,
          0.9445500000000001,
          1.1544500000000002,
          1.3643500000000004,
          1.5742500000000004,
          1.7841500000000003,
          1.9940500000000003
         ],
         "y": [
          67.98457862267016,
          67.98376728399327,
          67.93375860978662,
          65.10979571786986,
          62.403288805753576,
          59.945906007970464,
          57.799377578833806,
          56.10354732918669,
          54.907269151629365,
          54.298253342335755
         ]
        },
        {
         "mode": "lines",
         "name": "2880 seconds",
         "type": "scatter",
         "x": [
          0.10495000000000002,
          0.3148500000000001,
          0.52475,
          0.7346500000000001,
          0.9445500000000001,
          1.1544500000000002,
          1.3643500000000004,
          1.5742500000000004,
          1.7841500000000003,
          1.9940500000000003
         ],
         "y": [
          67.94506118665664,
          67.96751238571596,
          67.96346912931516,
          65.16625238650523,
          62.52570412977581,
          60.09928808342267,
          58.02278741043532,
          56.35145516654229,
          55.19898058421623,
          54.599304664309756
         ]
        },
        {
         "mode": "lines",
         "name": "2940 seconds",
         "type": "scatter",
         "x": [
          0.10495000000000002,
          0.3148500000000001,
          0.52475,
          0.7346500000000001,
          0.9445500000000001,
          1.1544500000000002,
          1.3643500000000004,
          1.5742500000000004,
          1.7841500000000003,
          1.9940500000000003
         ],
         "y": [
          67.91105283480589,
          67.95878908142016,
          67.99351966273787,
          65.24232105208809,
          62.63061209339558,
          60.272202850683485,
          58.22341519044884,
          56.609010448539244,
          55.47343181903046,
          54.89567399982796
         ]
        },
        {
         "mode": "lines",
         "name": "3000 seconds",
         "type": "scatter",
         "x": [
          0.10495000000000002,
          0.3148500000000001,
          0.52475,
          0.7346500000000001,
          0.9445500000000001,
          1.1544500000000002,
          1.3643500000000004,
          1.5742500000000004,
          1.7841500000000003,
          1.9940500000000003
         ],
         "y": [
          67.88227665049091,
          67.95379758779062,
          68.03762605834875,
          65.30979411910285,
          62.75510778298499,
          60.42495642373289,
          58.438648726824596,
          56.846532542969314,
          55.750354852730716,
          55.18108939714163
         ]
        },
        {
         "mode": "lines",
         "name": "3060 seconds",
         "type": "scatter",
         "x": [
          0.10495000000000002,
          0.3148500000000001,
          0.52475,
          0.7346500000000001,
          0.9445500000000001,
          1.1544500000000002,
          1.3643500000000004,
          1.5742500000000004,
          1.7841500000000003,
          1.9940500000000003
         ],
         "y": [
          67.85773317134793,
          67.95334083008,
          68.08465360311311,
          65.39409940015064,
          62.86521085708992,
          60.594822286869096,
          58.633770742294445,
          57.09260531280474,
          56.011793989478285,
          55.462250458977294
         ]
        },
        {
         "mode": "lines",
         "name": "3120 seconds",
         "type": "scatter",
         "x": [
          0.10495000000000002,
          0.3148500000000001,
          0.52475,
          0.7346500000000001,
          0.9445500000000001,
          1.1544500000000002,
          1.3643500000000004,
          1.5742500000000004,
          1.7841500000000003,
          1.9940500000000003
         ],
         "y": [
          67.83684119064392,
          67.95530256444275,
          68.1442574761621,
          65.47265936169855,
          62.99229917904485,
          60.74742179438334,
          58.841738068949965,
          57.32086972643422,
          56.27536580455365,
          55.73356339979955
         ]
        },
        {
         "mode": "lines",
         "name": "3180 seconds",
         "type": "scatter",
         "x": [
          0.10495000000000002,
          0.3148500000000001,
          0.52475,
          0.7346500000000001,
          0.9445500000000001,
          1.1544500000000002,
          1.3643500000000004,
          1.5742500000000004,
          1.7841500000000003,
          1.9940500000000003
         ],
         "y": [
          67.81887524469455,
          67.95922406380507,
          68.2084565985847,
          65.5660084825751,
          63.10786971616078,
          60.914950006411146,
          59.03215549258231,
          57.55663355596429,
          56.52512339427227,
          56.001001542919006
         ]
        },
        {
         "mode": "lines",
         "name": "3240 seconds",
         "type": "scatter",
         "x": [
          0.10495000000000002,
          0.3148500000000001,
          0.52475,
          0.7346500000000001,
          0.9445500000000001,
          1.1544500000000002,
          1.3643500000000004,
          1.5742500000000004,
          1.7841500000000003,
          1.9940500000000003
         ],
         "y": [
          67.80327175681865,
          67.96386015107731,
          68.28415826113483,
          65.65588854056465,
          63.238310092881164,
          61.067932115743425,
          59.23379904785718,
          57.77670604726653,
          56.776673561450295,
          56.25961970756234
         ]
        },
        {
         "mode": "lines",
         "name": "3300 seconds",
         "type": "scatter",
         "x": [
          0.10495000000000002,
          0.3148500000000001,
          0.52475,
          0.7346500000000001,
          0.9445500000000001,
          1.1544500000000002,
          1.3643500000000004,
          1.5742500000000004,
          1.7841500000000003,
          1.9940500000000003
         ],
         "y": [
          67.78951407388885,
          67.96864735814812,
          68.36495319581961,
          65.75896153764202,
          63.35973285110776,
          61.2339737124507,
          59.42031300156824,
          58.003296892280936,
          57.01598622298868,
          56.51470349642591
         ]
        },
        {
         "mode": "lines",
         "name": "3360 seconds",
         "type": "scatter",
         "x": [
          0.10495000000000002,
          0.3148500000000001,
          0.52475,
          0.7346500000000001,
          0.9445500000000001,
          1.1544500000000002,
          1.3643500000000004,
          1.5742500000000004,
          1.7841500000000003,
          1.9940500000000003
         ],
         "y": [
          67.77719620538981,
          67.97306116911928,
          68.45582303202737,
          65.8600658552995,
          63.49429095610151,
          61.38793123001224,
          59.616626327261876,
          58.216196225813526,
          57.25676752200541,
          56.76192881471493
         ]
        },
        {
         "mode": "lines",
         "name": "3420 seconds",
         "type": "scatter",
         "x": [
          0.10495000000000002,
          0.3148500000000001,
          0.52475,
          0.7346500000000001,
          0.9445500000000001,
          1.1544500000000002,
          1.3643500000000004,
          1.5742500000000004,
          1.7841500000000003,
          1.9940500000000003
         ],
         "y": [
          67.76599572461686,
          67.9769181349075,
          68.55124900610637,
          65.97278076640823,
          63.621814186752935,
          61.553365911501835,
          59.80004248509348,
          58.43473722075669,
          57.486795671736814,
          57.00593538245612
         ]
        },
        {
         "mode": "lines",
         "name": "3480 seconds",
         "type": "scatter",
         "x": [
          0.10495000000000002,
          0.3148500000000001,
          0.52475,
          0.7346500000000001,
          0.9445500000000001,
          1.1544500000000002,
          1.3643500000000004,
          1.5742500000000004,
          1.7841500000000003,
          1.9940500000000003
         ],
         "y": [
          67.75567055194107,
          67.98015738242988,
          68.65506247691637,
          66.08425077723592,
          63.760888939853174,
          61.70882562769538,
          59.992027045661764,
          58.64144633138823,
          57.71800918158213,
          57.2429855593862
         ]
        },
        {
         "mode": "lines",
         "name": "3540 seconds",
         "type": "scatter",
         "x": [
          0.10495000000000002,
          0.3148500000000001,
          0.52475,
          0.7346500000000001,
          0.9445500000000001,
          1.1544500000000002,
          1.3643500000000004,
          1.5742500000000004,
          1.7841500000000003,
          1.9940500000000003
         ],
         "y": [
          67.74603982128946,
          67.98282418194874,
          68.7625805822825,
          66.20569480241224,
          63.89434651577658,
          61.87435363586935,
          60.173100135186004,
          58.85303874373432,
          57.939853451830075,
          57.47712382882274
         ]
        },
        {
         "mode": "lines",
         "name": "3600 seconds",
         "type": "scatter",
         "x": [
          0.10495000000000002,
          0.3148500000000001,
          0.52475,
          0.7346500000000001,
          0.9445500000000001,
          1.1544500000000002,
          1.3643500000000004,
          1.5742500000000004,
          1.7841500000000003,
          1.9940500000000003
         ],
         "y": [
          67.73696954216575,
          67.98498999284945,
          68.87700162685036,
          66.32617784711255,
          64.037831667791,
          62.031609664001294,
          60.361656714902836,
          59.05448519776012,
          58.16265560012755,
          57.70515218991849
         ]
        },
        {
         "mode": "lines",
         "name": "3660 seconds",
         "type": "scatter",
         "x": [
          0.10495000000000002,
          0.3148500000000001,
          0.52475,
          0.7346500000000001,
          0.9445500000000001,
          1.1544500000000002,
          1.3643500000000004,
          1.5742500000000004,
          1.7841500000000003,
          1.9940500000000003
         ],
         "y": [
          67.72835940062673,
          67.9867323964063,
          68.99441454754907,
          66.45512993281453,
          64.17669415163516,
          62.197628296695946,
          60.54099742751332,
          59.26015764572849,
          58.37735700899107,
          57.93057629105991
         ]
        },
        {
         "mode": "lines",
         "name": "3720 seconds",
         "type": "scatter",
         "x": [
          0.10495000000000002,
          0.3148500000000001,
          0.52475,
          0.7346500000000001,
          0.9445500000000001,
          1.1544500000000002,
          1.3643500000000004,
          1.5742500000000004,
          1.7841500000000003,
          1.9940500000000003
         ],
         "y": [
          67.72013327819748,
          67.98811890485226,
          69.11756749621145,
          66.58326262253631,
          64.32417789070938,
          62.35672110749955,
          60.72683900241205,
          59.45716718699922,
          58.59284074974673,
          58.15067870204881
         ]
        },
        {
         "mode": "lines",
         "name": "3780 seconds",
         "type": "scatter",
         "x": [
          0.10495000000000002,
          0.3148500000000001,
          0.52475,
          0.7346500000000001,
          0.9445500000000001,
          1.1544500000000002,
          1.3643500000000004,
          1.5742500000000004,
          1.7841500000000003,
          1.9940500000000003
         ],
         "y": [
          67.71223234820104,
          67.98920644169291,
          69.24318113696641,
          66.71857916492272,
          64.46778373911481,
          62.52338098910717,
          60.9048803081367,
          59.657822663640665,
          58.801360822426695,
          58.36848212685658
         ]
        },
        {
         "mode": "lines",
         "name": "3840 seconds",
         "type": "scatter",
         "x": [
          0.10495000000000002,
          0.3148500000000001,
          0.52475,
          0.7346500000000001,
          0.9445500000000001,
          1.1544500000000002,
          1.3643500000000004,
          1.5742500000000004,
          1.7841500000000003,
          1.9940500000000003
         ],
         "y": [
          67.70461035091442,
          67.99004076622985,
          69.3736183880718,
          66.85318370832351,
          64.61876966521321,
          62.684196185095125,
          61.08853370872921,
          59.851092442035565,
          59.01052598256607,
          58.58168437100068
         ]
        },
        {
         "mode": "lines",
         "name": "3900 seconds",
         "type": "scatter",
         "x": [
          0.10495000000000002,
          0.3148500000000001,
          0.52475,
          0.7346500000000001,
          0.9445500000000001,
          1.1544500000000002,
          1.3643500000000004,
          1.5742500000000004,
          1.7841500000000003,
          1.9940500000000003
         ],
         "y": [
          67.69723027609258,
          67.99065957473142,
          69.50610947233321,
          66.99389283120952,
          64.76647274228719,
          62.85151258656239,
          61.26556687122544,
          60.04749432022156,
          59.213726878068265,
          58.79287901976738
         ]
        },
        {
         "mode": "lines",
         "name": "3960 seconds",
         "type": "scatter",
         "x": [
          0.10495000000000002,
          0.3148500000000001,
          0.52475,
          0.7346500000000001,
          0.9445500000000001,
          1.1544500000000002,
          1.3643500000000004,
          1.5742500000000004,
          1.7841500000000003,
          1.9940500000000003
         ],
         "y": [
          67.69006207515501,
          67.99109326357005,
          69.6426801366139,
          67.13398455230357,
          64.92048264302522,
          63.01387265443772,
          61.447421448653614,
          60.23760096759879,
          59.41746246601588,
          59.00011660912386
         ]
        },
        {
         "mode": "lines",
         "name": "4020 seconds",
         "type": "scatter",
         "x": [
          0.10495000000000002,
          0.3148500000000001,
          0.52475,
          0.7346500000000001,
          0.9445500000000001,
          1.1544500000000002,
          1.3643500000000004,
          1.5742500000000004,
          1.7841500000000003,
          1.9940500000000003
         ],
         "y": [
          67.68308100908679,
          67.99136738533933,
          69.7809799859794,
          67.2792718083175,
          65.07170183060276,
          63.18180120454479,
          61.62364593805581,
          60.43038848232514,
          59.616100808019134,
          59.205613978099
         ]
        },
        {
         "mode": "lines",
         "name": "4080 seconds",
         "type": "scatter",
         "x": [
          0.10495000000000002,
          0.3148500000000001,
          0.52475,
          0.7346500000000001,
          0.9445500000000001,
          1.1544500000000002,
          1.3643500000000004,
          1.5742500000000004,
          1.7841500000000003,
          1.9940500000000003
         ],
         "y": [
          67.67626647541282,
          67.99150290341578,
          69.92274245337798,
          67.42402583427862,
          65.2283063781435,
          63.345515263681705,
          61.80399915719449,
          60.61780998246877,
          59.81518324780948,
          59.40771977352529
         ]
        },
        {
         "mode": "lines",
         "name": "4140 seconds",
         "type": "scatter",
         "x": [
          0.10495000000000002,
          0.3148500000000001,
          0.52475,
          0.7346500000000001,
          0.9445500000000001,
          1.1544500000000002,
          1.3643500000000004,
          1.5742500000000004,
          1.7841500000000003,
          1.9940500000000003
         ],
         "y": [
          67.66960112473635,
          67.99151787463536,
          70.06596798022409,
          67.5732058399008,
          65.38253378387402,
          63.51399008761436,
          61.97955845369617,
          60.80752013674685,
          60.00991484259162,
          59.608323921686626
         ]
        },
        {
         "mode": "lines",
         "name": "4200 seconds",
         "type": "scatter",
         "x": [
          0.10495000000000002,
          0.3148500000000001,
          0.52475,
          0.7346500000000001,
          0.9445500000000001,
          1.1544500000000002,
          1.3643500000000004,
          1.5742500000000004,
          1.7841500000000003,
          1.9940500000000003
         ],
         "y": [
          67.6630702152629,
          67.99142734903015,
          70.2121382481587,
          67.72192670164362,
          65.54135742011441,
          63.678875888088506,
          62.15864591158507,
          60.99265608186077,
          60.205015401689394,
          59.80602699045311
         ]
        },
        {
         "mode": "lines",
         "name": "4260 seconds",
         "type": "scatter",
         "x": [
          0.10495000000000002,
          0.3148500000000001,
          0.52475,
          0.7346500000000001,
          0.9445500000000001,
          1.1544500000000002,
          1.3643500000000004,
          1.5742500000000004,
          1.7841500000000003,
          1.9940500000000003
         ],
         "y": [
          67.65666110708982,
          67.99124456720752,
          70.35954992448009,
          67.87441974782337,
          65.69815417297671,
          63.84782705663364,
          62.333648627986,
          61.179742363345355,
          60.39640481161466,
          60.00243767339603
         ]
        },
        {
         "mode": "lines",
         "name": "4320 seconds",
         "type": "scatter",
         "x": [
          0.10495000000000002,
          0.3148500000000001,
          0.52475,
          0.7346500000000001,
          0.9445500000000001,
          1.1544500000000002,
          1.3643500000000004,
          1.5742500000000004,
          1.7841500000000003,
          1.9940500000000003
         ],
         "y": [
          67.6503628843379,
          67.99098070494738,
          70.5094685901247,
          68.02651826313897,
          65.85887214009735,
          64.01371943404105,
          62.51166213457104,
          61.36292929828448,
          60.588100561712636,
          60.19636961054623
         ]
        },
        {
         "mode": "lines",
         "name": "4380 seconds",
         "type": "scatter",
         "x": [
          0.10495000000000002,
          0.3148500000000001,
          0.52475,
          0.7346500000000001,
          0.9445500000000001,
          1.1544500000000002,
          1.3643500000000004,
          1.5742500000000004,
          1.7841500000000003,
          1.9940500000000003
         ],
         "y": [
          67.64416604879784,
          67.99064577015766,
          70.66044230236295,
          68.18183232958962,
          66.0178610577504,
          64.1830805185615,
          62.686193912610364,
          61.54777619593653,
          60.7766319668822,
          60.38919089603866
         ]
        },
        {
         "mode": "lines",
         "name": "4440 seconds",
         "type": "scatter",
         "x": [
          0.10495000000000002,
          0.3148500000000001,
          0.52475,
          0.7346500000000001,
          0.9445500000000001,
          1.1544500000000002,
          1.3643500000000004,
          1.5742500000000004,
          1.7841500000000003,
          1.9940500000000003
         ],
         "y": [
          67.63806228714363,
          67.99024829549681,
          70.81355148077114,
          68.33680786498728,
          66.18019418395885,
          64.34983367348663,
          62.86329252563116,
          61.72929899451385,
          60.965417400798565,
          60.57989551299545
         ]
        },
        {
         "mode": "lines",
         "name": "4500 seconds",
         "type": "scatter",
         "x": [
          0.10495000000000002,
          0.3148500000000001,
          0.52475,
          0.7346500000000001,
          0.9445500000000001,
          1.1544500000000002,
          1.3643500000000004,
          1.5742500000000004,
          1.7841500000000003,
          1.9940500000000003
         ],
         "y": [
          67.63204427653699,
          67.98979603653515,
          70.96755812016384,
          68.49452447419222,
          66.34105204258613,
          64.51954465639967,
          63.03742286174465,
          61.9122333225397,
          61.15150516057089,
          60.76964640509254
         ]
        },
        {
         "mode": "lines",
         "name": "4560 seconds",
         "type": "scatter",
         "x": [
          0.10495000000000002,
          0.3148500000000001,
          0.52475,
          0.7346500000000001,
          0.9445500000000001,
          1.1544500000000002,
          1.3643500000000004,
          1.5742500000000004,
          1.7841500000000003,
          1.9940500000000003
         ],
         "y": [
          67.62610553503578,
          67.98929566048884,
          71.1233841715503,
          68.65195087554089,
          66.50476112548014,
          64.68703170077153,
          63.2137400037051,
          62.0923338794485,
          61.33780321890852,
          60.95759026922783
         ]
        },
        {
         "mode": "lines",
         "name": "4620 seconds",
         "type": "scatter",
         "x": [
          0.10495000000000002,
          0.3148500000000001,
          0.52475,
          0.7346500000000001,
          0.9445500000000001,
          1.1544500000000002,
          1.3643500000000004,
          1.5742500000000004,
          1.7841500000000003,
          1.9940500000000003
         ],
         "y": [
          67.62024029341401,
          67.98875330405765,
          71.27997396808001,
          68.81171364963119,
          66.6672113978385,
          64.85703972620786,
          63.38752636667966,
          62.27363384873676,
          61.521801513219074,
          61.14471546445378
         ]
        },
        {
         "mode": "lines",
         "name": "4680 seconds",
         "type": "scatter",
         "x": [
          0.10495000000000002,
          0.3148500000000001,
          0.52475,
          0.7346500000000001,
          0.9445500000000001,
          1.1544500000000002,
          1.3643500000000004,
          1.5742500000000004,
          1.7841500000000003,
          1.9940500000000003
         ],
         "y": [
          67.61444339556206,
          67.98817427989205,
          71.43811394826454,
          68.971227778566,
          66.83209185920025,
          65.02515111019945,
          63.56317473600569,
          62.452517958024096,
          61.70597354653885,
          61.33029804812163
         ]
        },
        {
         "mode": "lines",
         "name": "4740 seconds",
         "type": "scatter",
         "x": [
          0.10495000000000002,
          0.3148500000000001,
          0.52475,
          0.7346500000000001,
          0.9445500000000001,
          1.1544500000000002,
          1.3643500000000004,
          1.5742500000000004,
          1.7841500000000003,
          1.9940500000000003
         ],
         "y": [
          67.60871021119982,
          67.98756353029391,
          71.59690396816337,
          69.13273299315819,
          66.9958981960006,
          65.19541026757378,
          63.73666521857508,
          62.63242061344604,
          61.88818491087266,
          61.515177967514894
         ]
        },
        {
         "mode": "lines",
         "name": "4800 seconds",
         "type": "scatter",
         "x": [
          0.10495000000000002,
          0.3148500000000001,
          0.52475,
          0.7346500000000001,
          0.9445500000000001,
          1.1544500000000002,
          1.3643500000000004,
          1.5742500000000004,
          1.7841500000000003,
          1.9940500000000003
         ],
         "y": [
          67.60303656752558,
          67.98692536027662,
          71.75701465819655,
          69.29402521684112,
          67.16177525140873,
          65.36405184541502,
          63.911740400320305,
          62.81026356124824,
          62.070539455827834,
          61.698740888422456
         ]
        },
        {
         "mode": "lines",
         "name": "4860 seconds",
         "type": "scatter",
         "x": [
          0.10495000000000002,
          0.3148500000000001,
          0.52475,
          0.7346500000000001,
          0.9445500000000001,
          1.1544500000000002,
          1.3643500000000004,
          1.5742500000000004,
          1.7841500000000003,
          1.9940500000000003
         ],
         "y": [
          67.59741868812563,
          67.98626381108815,
          71.91767856684753,
          69.45701390164193,
          67.32673575892406,
          65.53452256018149,
          64.08497554760051,
          62.98897097627053,
          62.251222214712584,
          61.88170066608683
         ]
        },
        {
         "mode": "lines",
         "name": "4920 seconds",
         "type": "scatter",
         "x": [
          0.10495000000000002,
          0.3148500000000001,
          0.52475,
          0.7346500000000001,
          0.9445500000000001,
          1.1544500000000002,
          1.3643500000000004,
          1.5742500000000004,
          1.7841500000000003,
          1.9940500000000003
         ],
         "y": [
          67.59185314482612,
          67.98558242246128,
          72.07946740791657,
          69.61982011327164,
          67.4934601642256,
          65.70361364267113,
          64.2595588064615,
          63.16592217151116,
          62.43202261942314,
          62.06353586277794
         ]
        },
        {
         "mode": "lines",
         "name": "4980 seconds",
         "type": "scatter",
         "x": [
          0.10495000000000002,
          0.3148500000000001,
          0.52475,
          0.7346500000000001,
          0.9445500000000001,
          1.1544500000000002,
          1.3643500000000004,
          1.5742500000000004,
          1.7841500000000003,
          1.9940500000000003
         ],
         "y": [
          67.58633681391827,
          67.98488454274626,
          72.24172695014306,
          69.78407139358204,
          67.65940244067401,
          65.87426194662203,
          64.43257295688764,
          63.34360665880929,
          62.61139730260367,
          62.2448532304101
         ]
        },
        {
         "mode": "lines",
         "name": "5040 seconds",
         "type": "scatter",
         "x": [
          0.10495000000000002,
          0.3148500000000001,
          0.52475,
          0.7346500000000001,
          0.9445500000000001,
          1.1544500000000002,
          1.3643500000000004,
          1.5742500000000004,
          1.7841500000000003,
          1.9940500000000003
         ],
         "y": [
          67.5808668414594,
          67.98417311988018,
          72.40494445703837,
          69.94816627093924,
          67.8268467985712,
          66.04373348938424,
          64.60673347800103,
          63.519793511641794,
          62.79086830062348,
          62.4252100845518
         ]
        },
        {
         "mode": "lines",
         "name": "5100 seconds",
         "type": "scatter",
         "x": [
          0.10495000000000002,
          0.3148500000000001,
          0.52475,
          0.7346500000000001,
          0.9445500000000001,
          1.1544500000000002,
          1.3643500000000004,
          1.5742500000000004,
          1.7841500000000003,
          1.9940500000000003
         ],
         "y": [
          67.57544061125795,
          67.98345096043916,
          72.5685622952278,
          70.11349172836428,
          67.99362365741932,
          66.21453029484063,
          64.77955579613113,
          63.69660203190652,
          62.96912315320478,
          62.60512220714031
         ]
        },
        {
         "mode": "lines",
         "name": "5160 seconds",
         "type": "scatter",
         "x": [
          0.10495000000000002,
          0.3148500000000001,
          0.52475,
          0.7346500000000001,
          0.9445500000000001,
          1.1544500000000002,
          1.3643500000000004,
          1.5742500000000004,
          1.7841500000000003,
          1.9940500000000003
         ],
         "y": [
          67.5700557193596,
          67.982720547413,
          72.73299565788739,
          70.27868301469842,
          68.1616792355104,
          66.38432327604905,
          64.95335252689614,
          63.872133225143166,
          63.147456505587094,
          62.784213695120684
         ]
        },
        {
         "mode": "lines",
         "name": "5220 seconds",
         "type": "scatter",
         "x": [
          0.10495000000000002,
          0.3148500000000001,
          0.52475,
          0.7346500000000001,
          0.9445500000000001,
          1.1544500000000002,
          1.3643500000000004,
          1.5742500000000004,
          1.7841500000000003,
          1.9940500000000003
         ],
         "y": [
          67.56470995020999,
          67.98198425752962,
          72.89776931496651,
          70.44492189751713,
          68.32916503470018,
          66.55524370623115,
          65.12600782753397,
          64.0481911303243,
          63.32475220659497,
          62.96292305836916
         ]
        },
        {
         "mode": "lines",
         "name": "5280 seconds",
         "type": "scatter",
         "x": [
          0.10495000000000002,
          0.3148500000000001,
          0.52475,
          0.7346500000000001,
          0.9445500000000001,
          1.1544500000000002,
          1.3643500000000004,
          1.5742500000000004,
          1.7841500000000003,
          1.9940500000000003
         ],
         "y": [
          67.55940125755728,
          67.98124420332238,
          73.06323697692777,
          70.61104553779207,
          68.49773903635736,
          66.72530770300901,
          65.29949101471436,
          64.22315939075114,
          63.502111531488794,
          63.14093103870751
         ]
        },
        {
         "mode": "lines",
         "name": "5340 seconds",
         "type": "scatter",
         "x": [
          0.10495000000000002,
          0.3148500000000001,
          0.52475,
          0.7346500000000001,
          0.9445500000000001,
          1.1544500000000002,
          1.3643500000000004,
          1.5742500000000004,
          1.7841500000000003,
          1.9940500000000003
         ],
         "y": [
          67.5541277464209,
          67.98050241602877,
          73.22899369518588,
          70.77806068611275,
          68.66582653456331,
          66.89633049640835,
          65.47200043638504,
          64.39857360851819,
          63.678585228091485,
          63.31861050065389
         ]
        },
        {
         "mode": "lines",
         "name": "5400 seconds",
         "type": "scatter",
         "x": [
          0.10495000000000002,
          0.3148500000000001,
          0.52475,
          0.7346500000000001,
          0.9445500000000001,
          1.1544500000000002,
          1.3643500000000004,
          1.5742500000000004,
          1.7841500000000003,
          1.9940500000000003
         ],
         "y": [
          67.54888765856768,
          67.97976070927942,
          73.39534074707265,
          70.94497668466833,
          68.83483976413224,
          67.06662244946273,
          65.64521292078649,
          64.57305806070762,
          63.855110128558785,
          63.495690246022804
         ]
        },
        {
         "mode": "lines",
         "name": "5460 seconds",
         "type": "scatter",
         "x": [
          0.10495000000000002,
          0.3148500000000001,
          0.52475,
          0.7346500000000001,
          0.9445500000000001,
          1.1544500000000002,
          1.3643500000000004,
          1.5742500000000004,
          1.7841500000000003,
          1.9940500000000003
         ],
         "y": [
          67.54367935867927,
          67.9790208333903,
          73.5619331149782,
          71.11265106018949,
          69.00343743185348,
          67.23772944011105,
          65.81759448463579,
          64.74791980660103,
          64.03087888213874,
          63.672487362117856
         ]
        },
        {
         "mode": "lines",
         "name": "5520 seconds",
         "type": "scatter",
         "x": [
          0.10495000000000002,
          0.3148500000000001,
          0.52475,
          0.7346500000000001,
          0.9445500000000001,
          1.1544500000000002,
          1.3643500000000004,
          1.5742500000000004,
          1.7841500000000003,
          1.9940500000000003
         ],
         "y": [
          67.53850132314781,
          67.9782843580712,
          73.72902737405566,
          71.28023994979786,
          69.17282230004203,
          67.40821258853104,
          65.99057279754254,
          64.92198797534031,
          64.20668847104682,
          63.84877143770665
         ]
        },
        {
         "mode": "lines",
         "name": "5580 seconds",
         "type": "scatter",
         "x": [
          0.10495000000000002,
          0.3148500000000001,
          0.52475,
          0.7346500000000001,
          0.9445500000000001,
          1.1544500000000002,
          1.3643500000000004,
          1.5742500000000004,
          1.7841500000000003,
          1.9940500000000003
         ],
         "y": [
          67.53335212932966,
          67.9775528028206,
          73.89632960161215,
          71.44847367863643,
          69.34185202148136,
          67.57938825719782,
          66.16284187567382,
          65.09637506414036,
          64.38185219945933,
          64.02481215920591
         ]
        },
        {
         "mode": "lines",
         "name": "5640 seconds",
         "type": "scatter",
         "x": [
          0.10495000000000002,
          0.3148500000000001,
          0.52475,
          0.7346500000000001,
          0.9445500000000001,
          1.1544500000000002,
          1.3643500000000004,
          1.5742500000000004,
          1.7841500000000003,
          1.9940500000000003
         ],
         "y": [
          67.52823044678995,
          67.97682753623089,
          74.06405827195213,
          71.6166335092054,
          69.51155084269264,
          67.750031223394,
          66.33561717032632,
          65.27008457964982,
          64.55704810799521,
          64.20041373864542
         ]
        },
        {
         "mode": "lines",
         "name": "5700 seconds",
         "type": "scatter",
         "x": [
          0.10495000000000002,
          0.3148500000000001,
          0.52475,
          0.7346500000000001,
          0.9445500000000001,
          1.1544500000000002,
          1.3643500000000004,
          1.5742500000000004,
          1.7841500000000003,
          1.9940500000000003
         ],
         "y": [
          67.5231350288586,
          67.9761098863407,
          74.23196301602266,
          71.78534136095037,
          69.68094595253638,
          67.92126231223645,
          66.50778688064254,
          65.4440633959,
          64.73169209705128,
          64.37580557281952
         ]
        },
        {
         "mode": "lines",
         "name": "5760 seconds",
         "type": "scatter",
         "x": [
          0.10495000000000002,
          0.3148500000000001,
          0.52475,
          0.7346500000000001,
          0.9445500000000001,
          1.1544500000000002,
          1.3643500000000004,
          1.5742500000000004,
          1.7841500000000003,
          1.9940500000000003
         ],
         "y": [
          67.51806470570826,
          67.975401054341,
          74.40022984160414,
          71.95398513064826,
          69.85090949199487,
          68.09203831760745,
          66.68038572498924,
          65.61746344689612,
          64.90636104178874,
          64.55082127170688
         ]
        },
        {
         "mode": "lines",
         "name": "5820 seconds",
         "type": "scatter",
         "x": [
          0.10495000000000002,
          0.3148500000000001,
          0.52475,
          0.7346500000000001,
          0.9445500000000001,
          1.1544500000000002,
          1.3643500000000004,
          1.5742500000000004,
          1.7841500000000003,
          1.9940500000000003
         ],
         "y": [
          67.51301837765047,
          67.97470220806761,
          74.56864549877973,
          72.12309436873392,
          70.02061309877227,
          68.26331350031924,
          66.85246726535489,
          65.79109062519134,
          65.0805580887817,
          64.72565598103976
         ]
        },
        {
         "mode": "lines",
         "name": "5880 seconds",
         "type": "scatter",
         "x": [
          0.10495000000000002,
          0.3148500000000001,
          0.52475,
          0.7346500000000001,
          0.9445500000000001,
          1.1544500000000002,
          1.3643500000000004,
          1.5742500000000004,
          1.7841500000000003,
          1.9940500000000003
         ],
         "y": [
          67.50799500960481,
          67.97401440815104,
          74.73736833588468,
          72.29214783216477,
          70.19079933301948,
          68.43419969388896,
          67.02491231741011,
          65.96422319761747,
          65.2547740617587,
          64.90016827746689
         ]
        },
        {
         "mode": "lines",
         "name": "5940 seconds",
         "type": "scatter",
         "x": [
          0.10495000000000002,
          0.3148500000000001,
          0.52475,
          0.7346500000000001,
          0.9445500000000001,
          1.1544500000000002,
          1.3643500000000004,
          1.5742500000000004,
          1.7841500000000003,
          1.9940500000000003
         ],
         "y": [
          67.50299362572626,
          67.9733386872942,
          74.90621673341215,
          72.46159638053861,
          70.3607628874778,
          68.60550929380682,
          67.19691524916054,
          66.13754705558095,
          65.42858630486086,
          65.0745241845187
         ]
        },
        {
         "mode": "lines",
         "name": "6000 seconds",
         "type": "scatter",
         "x": [
          0.10495000000000002,
          0.3148500000000001,
          0.52475,
          0.7346500000000001,
          0.9445500000000001,
          1.1544500000000002,
          1.3643500000000004,
          1.5742500000000004,
          1.7841500000000003,
          1.9940500000000003
         ],
         "y": [
          67.49801330494273,
          67.97267598714188,
          75.07532548008284,
          72.63099617844557,
          70.53113594696028,
          68.77648617806082,
          67.36922583266353,
          66.31044798893805,
          65.60241244190821,
          65.24860348639385
         ]
        }
       ],
       "layout": {
        "legend": {
         "title": {
          "text": "Time Passed"
         }
        },
        "shapes": [
         {
          "line": {
           "color": "grey",
           "dash": "dot",
           "width": 1
          },
          "type": "line",
          "x0": 0.20990000000000003,
          "x1": 0.20990000000000003,
          "xref": "x",
          "y0": 0,
          "y1": 1,
          "yref": "paper"
         },
         {
          "line": {
           "color": "grey",
           "dash": "dot",
           "width": 1
          },
          "type": "line",
          "x0": 0.41980000000000006,
          "x1": 0.41980000000000006,
          "xref": "x",
          "y0": 0,
          "y1": 1,
          "yref": "paper"
         },
         {
          "line": {
           "color": "grey",
           "dash": "dot",
           "width": 1
          },
          "type": "line",
          "x0": 0.6297000000000001,
          "x1": 0.6297000000000001,
          "xref": "x",
          "y0": 0,
          "y1": 1,
          "yref": "paper"
         },
         {
          "line": {
           "color": "grey",
           "dash": "dot",
           "width": 1
          },
          "type": "line",
          "x0": 0.8396000000000001,
          "x1": 0.8396000000000001,
          "xref": "x",
          "y0": 0,
          "y1": 1,
          "yref": "paper"
         },
         {
          "line": {
           "color": "grey",
           "dash": "dot",
           "width": 1
          },
          "type": "line",
          "x0": 1.0495,
          "x1": 1.0495,
          "xref": "x",
          "y0": 0,
          "y1": 1,
          "yref": "paper"
         },
         {
          "line": {
           "color": "grey",
           "dash": "dot",
           "width": 1
          },
          "type": "line",
          "x0": 1.2594,
          "x1": 1.2594,
          "xref": "x",
          "y0": 0,
          "y1": 1,
          "yref": "paper"
         },
         {
          "line": {
           "color": "grey",
           "dash": "dot",
           "width": 1
          },
          "type": "line",
          "x0": 1.4693000000000003,
          "x1": 1.4693000000000003,
          "xref": "x",
          "y0": 0,
          "y1": 1,
          "yref": "paper"
         },
         {
          "line": {
           "color": "grey",
           "dash": "dot",
           "width": 1
          },
          "type": "line",
          "x0": 1.6792000000000002,
          "x1": 1.6792000000000002,
          "xref": "x",
          "y0": 0,
          "y1": 1,
          "yref": "paper"
         },
         {
          "line": {
           "color": "grey",
           "dash": "dot",
           "width": 1
          },
          "type": "line",
          "x0": 1.8891000000000002,
          "x1": 1.8891000000000002,
          "xref": "x",
          "y0": 0,
          "y1": 1,
          "yref": "paper"
         }
        ],
        "template": {
         "data": {
          "bar": [
           {
            "error_x": {
             "color": "#2a3f5f"
            },
            "error_y": {
             "color": "#2a3f5f"
            },
            "marker": {
             "line": {
              "color": "#E5ECF6",
              "width": 0.5
             },
             "pattern": {
              "fillmode": "overlay",
              "size": 10,
              "solidity": 0.2
             }
            },
            "type": "bar"
           }
          ],
          "barpolar": [
           {
            "marker": {
             "line": {
              "color": "#E5ECF6",
              "width": 0.5
             },
             "pattern": {
              "fillmode": "overlay",
              "size": 10,
              "solidity": 0.2
             }
            },
            "type": "barpolar"
           }
          ],
          "carpet": [
           {
            "aaxis": {
             "endlinecolor": "#2a3f5f",
             "gridcolor": "white",
             "linecolor": "white",
             "minorgridcolor": "white",
             "startlinecolor": "#2a3f5f"
            },
            "baxis": {
             "endlinecolor": "#2a3f5f",
             "gridcolor": "white",
             "linecolor": "white",
             "minorgridcolor": "white",
             "startlinecolor": "#2a3f5f"
            },
            "type": "carpet"
           }
          ],
          "choropleth": [
           {
            "colorbar": {
             "outlinewidth": 0,
             "ticks": ""
            },
            "type": "choropleth"
           }
          ],
          "contour": [
           {
            "colorbar": {
             "outlinewidth": 0,
             "ticks": ""
            },
            "colorscale": [
             [
              0,
              "#0d0887"
             ],
             [
              0.1111111111111111,
              "#46039f"
             ],
             [
              0.2222222222222222,
              "#7201a8"
             ],
             [
              0.3333333333333333,
              "#9c179e"
             ],
             [
              0.4444444444444444,
              "#bd3786"
             ],
             [
              0.5555555555555556,
              "#d8576b"
             ],
             [
              0.6666666666666666,
              "#ed7953"
             ],
             [
              0.7777777777777778,
              "#fb9f3a"
             ],
             [
              0.8888888888888888,
              "#fdca26"
             ],
             [
              1,
              "#f0f921"
             ]
            ],
            "type": "contour"
           }
          ],
          "contourcarpet": [
           {
            "colorbar": {
             "outlinewidth": 0,
             "ticks": ""
            },
            "type": "contourcarpet"
           }
          ],
          "heatmap": [
           {
            "colorbar": {
             "outlinewidth": 0,
             "ticks": ""
            },
            "colorscale": [
             [
              0,
              "#0d0887"
             ],
             [
              0.1111111111111111,
              "#46039f"
             ],
             [
              0.2222222222222222,
              "#7201a8"
             ],
             [
              0.3333333333333333,
              "#9c179e"
             ],
             [
              0.4444444444444444,
              "#bd3786"
             ],
             [
              0.5555555555555556,
              "#d8576b"
             ],
             [
              0.6666666666666666,
              "#ed7953"
             ],
             [
              0.7777777777777778,
              "#fb9f3a"
             ],
             [
              0.8888888888888888,
              "#fdca26"
             ],
             [
              1,
              "#f0f921"
             ]
            ],
            "type": "heatmap"
           }
          ],
          "heatmapgl": [
           {
            "colorbar": {
             "outlinewidth": 0,
             "ticks": ""
            },
            "colorscale": [
             [
              0,
              "#0d0887"
             ],
             [
              0.1111111111111111,
              "#46039f"
             ],
             [
              0.2222222222222222,
              "#7201a8"
             ],
             [
              0.3333333333333333,
              "#9c179e"
             ],
             [
              0.4444444444444444,
              "#bd3786"
             ],
             [
              0.5555555555555556,
              "#d8576b"
             ],
             [
              0.6666666666666666,
              "#ed7953"
             ],
             [
              0.7777777777777778,
              "#fb9f3a"
             ],
             [
              0.8888888888888888,
              "#fdca26"
             ],
             [
              1,
              "#f0f921"
             ]
            ],
            "type": "heatmapgl"
           }
          ],
          "histogram": [
           {
            "marker": {
             "pattern": {
              "fillmode": "overlay",
              "size": 10,
              "solidity": 0.2
             }
            },
            "type": "histogram"
           }
          ],
          "histogram2d": [
           {
            "colorbar": {
             "outlinewidth": 0,
             "ticks": ""
            },
            "colorscale": [
             [
              0,
              "#0d0887"
             ],
             [
              0.1111111111111111,
              "#46039f"
             ],
             [
              0.2222222222222222,
              "#7201a8"
             ],
             [
              0.3333333333333333,
              "#9c179e"
             ],
             [
              0.4444444444444444,
              "#bd3786"
             ],
             [
              0.5555555555555556,
              "#d8576b"
             ],
             [
              0.6666666666666666,
              "#ed7953"
             ],
             [
              0.7777777777777778,
              "#fb9f3a"
             ],
             [
              0.8888888888888888,
              "#fdca26"
             ],
             [
              1,
              "#f0f921"
             ]
            ],
            "type": "histogram2d"
           }
          ],
          "histogram2dcontour": [
           {
            "colorbar": {
             "outlinewidth": 0,
             "ticks": ""
            },
            "colorscale": [
             [
              0,
              "#0d0887"
             ],
             [
              0.1111111111111111,
              "#46039f"
             ],
             [
              0.2222222222222222,
              "#7201a8"
             ],
             [
              0.3333333333333333,
              "#9c179e"
             ],
             [
              0.4444444444444444,
              "#bd3786"
             ],
             [
              0.5555555555555556,
              "#d8576b"
             ],
             [
              0.6666666666666666,
              "#ed7953"
             ],
             [
              0.7777777777777778,
              "#fb9f3a"
             ],
             [
              0.8888888888888888,
              "#fdca26"
             ],
             [
              1,
              "#f0f921"
             ]
            ],
            "type": "histogram2dcontour"
           }
          ],
          "mesh3d": [
           {
            "colorbar": {
             "outlinewidth": 0,
             "ticks": ""
            },
            "type": "mesh3d"
           }
          ],
          "parcoords": [
           {
            "line": {
             "colorbar": {
              "outlinewidth": 0,
              "ticks": ""
             }
            },
            "type": "parcoords"
           }
          ],
          "pie": [
           {
            "automargin": true,
            "type": "pie"
           }
          ],
          "scatter": [
           {
            "fillpattern": {
             "fillmode": "overlay",
             "size": 10,
             "solidity": 0.2
            },
            "type": "scatter"
           }
          ],
          "scatter3d": [
           {
            "line": {
             "colorbar": {
              "outlinewidth": 0,
              "ticks": ""
             }
            },
            "marker": {
             "colorbar": {
              "outlinewidth": 0,
              "ticks": ""
             }
            },
            "type": "scatter3d"
           }
          ],
          "scattercarpet": [
           {
            "marker": {
             "colorbar": {
              "outlinewidth": 0,
              "ticks": ""
             }
            },
            "type": "scattercarpet"
           }
          ],
          "scattergeo": [
           {
            "marker": {
             "colorbar": {
              "outlinewidth": 0,
              "ticks": ""
             }
            },
            "type": "scattergeo"
           }
          ],
          "scattergl": [
           {
            "marker": {
             "colorbar": {
              "outlinewidth": 0,
              "ticks": ""
             }
            },
            "type": "scattergl"
           }
          ],
          "scattermapbox": [
           {
            "marker": {
             "colorbar": {
              "outlinewidth": 0,
              "ticks": ""
             }
            },
            "type": "scattermapbox"
           }
          ],
          "scatterpolar": [
           {
            "marker": {
             "colorbar": {
              "outlinewidth": 0,
              "ticks": ""
             }
            },
            "type": "scatterpolar"
           }
          ],
          "scatterpolargl": [
           {
            "marker": {
             "colorbar": {
              "outlinewidth": 0,
              "ticks": ""
             }
            },
            "type": "scatterpolargl"
           }
          ],
          "scatterternary": [
           {
            "marker": {
             "colorbar": {
              "outlinewidth": 0,
              "ticks": ""
             }
            },
            "type": "scatterternary"
           }
          ],
          "surface": [
           {
            "colorbar": {
             "outlinewidth": 0,
             "ticks": ""
            },
            "colorscale": [
             [
              0,
              "#0d0887"
             ],
             [
              0.1111111111111111,
              "#46039f"
             ],
             [
              0.2222222222222222,
              "#7201a8"
             ],
             [
              0.3333333333333333,
              "#9c179e"
             ],
             [
              0.4444444444444444,
              "#bd3786"
             ],
             [
              0.5555555555555556,
              "#d8576b"
             ],
             [
              0.6666666666666666,
              "#ed7953"
             ],
             [
              0.7777777777777778,
              "#fb9f3a"
             ],
             [
              0.8888888888888888,
              "#fdca26"
             ],
             [
              1,
              "#f0f921"
             ]
            ],
            "type": "surface"
           }
          ],
          "table": [
           {
            "cells": {
             "fill": {
              "color": "#EBF0F8"
             },
             "line": {
              "color": "white"
             }
            },
            "header": {
             "fill": {
              "color": "#C8D4E3"
             },
             "line": {
              "color": "white"
             }
            },
            "type": "table"
           }
          ]
         },
         "layout": {
          "annotationdefaults": {
           "arrowcolor": "#2a3f5f",
           "arrowhead": 0,
           "arrowwidth": 1
          },
          "autotypenumbers": "strict",
          "coloraxis": {
           "colorbar": {
            "outlinewidth": 0,
            "ticks": ""
           }
          },
          "colorscale": {
           "diverging": [
            [
             0,
             "#8e0152"
            ],
            [
             0.1,
             "#c51b7d"
            ],
            [
             0.2,
             "#de77ae"
            ],
            [
             0.3,
             "#f1b6da"
            ],
            [
             0.4,
             "#fde0ef"
            ],
            [
             0.5,
             "#f7f7f7"
            ],
            [
             0.6,
             "#e6f5d0"
            ],
            [
             0.7,
             "#b8e186"
            ],
            [
             0.8,
             "#7fbc41"
            ],
            [
             0.9,
             "#4d9221"
            ],
            [
             1,
             "#276419"
            ]
           ],
           "sequential": [
            [
             0,
             "#0d0887"
            ],
            [
             0.1111111111111111,
             "#46039f"
            ],
            [
             0.2222222222222222,
             "#7201a8"
            ],
            [
             0.3333333333333333,
             "#9c179e"
            ],
            [
             0.4444444444444444,
             "#bd3786"
            ],
            [
             0.5555555555555556,
             "#d8576b"
            ],
            [
             0.6666666666666666,
             "#ed7953"
            ],
            [
             0.7777777777777778,
             "#fb9f3a"
            ],
            [
             0.8888888888888888,
             "#fdca26"
            ],
            [
             1,
             "#f0f921"
            ]
           ],
           "sequentialminus": [
            [
             0,
             "#0d0887"
            ],
            [
             0.1111111111111111,
             "#46039f"
            ],
            [
             0.2222222222222222,
             "#7201a8"
            ],
            [
             0.3333333333333333,
             "#9c179e"
            ],
            [
             0.4444444444444444,
             "#bd3786"
            ],
            [
             0.5555555555555556,
             "#d8576b"
            ],
            [
             0.6666666666666666,
             "#ed7953"
            ],
            [
             0.7777777777777778,
             "#fb9f3a"
            ],
            [
             0.8888888888888888,
             "#fdca26"
            ],
            [
             1,
             "#f0f921"
            ]
           ]
          },
          "colorway": [
           "#636efa",
           "#EF553B",
           "#00cc96",
           "#ab63fa",
           "#FFA15A",
           "#19d3f3",
           "#FF6692",
           "#B6E880",
           "#FF97FF",
           "#FECB52"
          ],
          "font": {
           "color": "#2a3f5f"
          },
          "geo": {
           "bgcolor": "white",
           "lakecolor": "white",
           "landcolor": "#E5ECF6",
           "showlakes": true,
           "showland": true,
           "subunitcolor": "white"
          },
          "hoverlabel": {
           "align": "left"
          },
          "hovermode": "closest",
          "mapbox": {
           "style": "light"
          },
          "paper_bgcolor": "white",
          "plot_bgcolor": "#E5ECF6",
          "polar": {
           "angularaxis": {
            "gridcolor": "white",
            "linecolor": "white",
            "ticks": ""
           },
           "bgcolor": "#E5ECF6",
           "radialaxis": {
            "gridcolor": "white",
            "linecolor": "white",
            "ticks": ""
           }
          },
          "scene": {
           "xaxis": {
            "backgroundcolor": "#E5ECF6",
            "gridcolor": "white",
            "gridwidth": 2,
            "linecolor": "white",
            "showbackground": true,
            "ticks": "",
            "zerolinecolor": "white"
           },
           "yaxis": {
            "backgroundcolor": "#E5ECF6",
            "gridcolor": "white",
            "gridwidth": 2,
            "linecolor": "white",
            "showbackground": true,
            "ticks": "",
            "zerolinecolor": "white"
           },
           "zaxis": {
            "backgroundcolor": "#E5ECF6",
            "gridcolor": "white",
            "gridwidth": 2,
            "linecolor": "white",
            "showbackground": true,
            "ticks": "",
            "zerolinecolor": "white"
           }
          },
          "shapedefaults": {
           "line": {
            "color": "#2a3f5f"
           }
          },
          "ternary": {
           "aaxis": {
            "gridcolor": "white",
            "linecolor": "white",
            "ticks": ""
           },
           "baxis": {
            "gridcolor": "white",
            "linecolor": "white",
            "ticks": ""
           },
           "bgcolor": "#E5ECF6",
           "caxis": {
            "gridcolor": "white",
            "linecolor": "white",
            "ticks": ""
           }
          },
          "title": {
           "x": 0.05
          },
          "xaxis": {
           "automargin": true,
           "gridcolor": "white",
           "linecolor": "white",
           "ticks": "",
           "title": {
            "standoff": 15
           },
           "zerolinecolor": "white",
           "zerolinewidth": 2
          },
          "yaxis": {
           "automargin": true,
           "gridcolor": "white",
           "linecolor": "white",
           "ticks": "",
           "title": {
            "standoff": 15
           },
           "zerolinecolor": "white",
           "zerolinewidth": 2
          }
         }
        },
        "title": {
         "text": "M3: slow buoyancy"
        },
        "xaxis": {
         "range": [
          0,
          2.099
         ],
         "title": {
          "text": "Height"
         }
        },
        "yaxis": {
         "title": {
          "text": "Temperature"
         }
        }
       }
      }
     },
     "metadata": {},
     "output_type": "display_data"
    },
    {
     "data": {
      "application/vnd.plotly.v1+json": {
       "config": {
        "plotlyServerURL": "https://plot.ly"
       },
       "data": [
        {
         "mode": "lines",
         "name": "0 seconds",
         "type": "scatter",
         "x": [
          0.10495000000000002,
          0.3148500000000001,
          0.52475,
          0.7346500000000001,
          0.9445500000000001,
          1.1544500000000002,
          1.3643500000000004,
          1.5742500000000004,
          1.7841500000000003,
          1.9940500000000003
         ],
         "y": [
          100,
          90,
          80,
          70,
          60,
          50,
          40,
          30,
          20,
          10
         ]
        },
        {
         "mode": "lines",
         "name": "60 seconds",
         "type": "scatter",
         "x": [
          0.10495000000000002,
          0.3148500000000001,
          0.52475,
          0.7346500000000001,
          0.9445500000000001,
          1.1544500000000002,
          1.3643500000000004,
          1.5742500000000004,
          1.7841500000000003,
          1.9940500000000003
         ],
         "y": [
          94.99109564752546,
          89.99680031620633,
          80.17165570573466,
          70.17201930616575,
          60.17238290659685,
          50.17274650702795,
          40.17311010745905,
          30.173473707890153,
          20.173837308321254,
          15.175915500096423
         ]
        },
        {
         "mode": "lines",
         "name": "120 seconds",
         "type": "scatter",
         "x": [
          0.10495000000000002,
          0.3148500000000001,
          0.52475,
          0.7346500000000001,
          0.9445500000000001,
          1.1544500000000002,
          1.3643500000000004,
          1.5742500000000004,
          1.7841500000000003,
          1.9940500000000003
         ],
         "y": [
          92.48639239634647,
          87.57721559734989,
          80.25602458152379,
          70.34403235770213,
          60.3447595453438,
          50.345486732985464,
          40.346213920627136,
          30.34694110826881,
          22.849520076349762,
          17.84943207207244
         ]
        },
        {
         "mode": "lines",
         "name": "180 seconds",
         "type": "scatter",
         "x": [
          0.10495000000000002,
          0.3148500000000001,
          0.52475,
          0.7346500000000001,
          0.9445500000000001,
          1.1544500000000002,
          1.3643500000000004,
          1.5742500000000004,
          1.7841500000000003,
          1.9940500000000003
         ],
         "y": [
          90.02444209748371,
          86.36761731986337,
          79.13175524837465,
          70.472381506676,
          60.51712991646873,
          50.51822067810092,
          40.51931143973311,
          31.771825531700756,
          24.2724168314768,
          20.523843497126297
         ]
        },
        {
         "mode": "lines",
         "name": "240 seconds",
         "type": "scatter",
         "x": [
          0.10495000000000002,
          0.3148500000000001,
          0.52475,
          0.7346500000000001,
          0.9445500000000001,
          1.1544500000000002,
          1.3643500000000004,
          1.5742500000000004,
          1.7841500000000003,
          1.9940500000000003
         ],
         "y": [
          88.18909055789945,
          84.5743194471383,
          78.59140365334443,
          69.99618705497495,
          60.66765651572271,
          50.69094834260268,
          41.31836314913686,
          32.569521573500275,
          26.322262251462238,
          22.57206001129034
         ]
        },
        {
         "mode": "lines",
         "name": "300 seconds",
         "type": "scatter",
         "x": [
          0.10495000000000002,
          0.3148500000000001,
          0.52475,
          0.7346500000000001,
          0.9445500000000001,
          1.1544500000000002,
          1.3643500000000004,
          1.5742500000000004,
          1.7841500000000003,
          1.9940500000000003
         ],
         "y": [
          86.37490373781661,
          83.38677384450916,
          77.45644077285559,
          69.80140372542823,
          60.515797453003366,
          51.16585133357606,
          41.80342114794682,
          33.99419036680063,
          27.744894709780326,
          24.620946755319494
         ]
        },
        {
         "mode": "lines",
         "name": "360 seconds",
         "type": "scatter",
         "x": [
          0.10495000000000002,
          0.3148500000000001,
          0.52475,
          0.7346500000000001,
          0.9445500000000001,
          1.1544500000000002,
          1.3643500000000004,
          1.5742500000000004,
          1.7841500000000003,
          1.9940500000000003
         ],
         "y": [
          84.87429015171845,
          81.91212803408729,
          76.76549405385393,
          69.1578214359886,
          60.65597888906865,
          51.33231093490675,
          42.7533742059061,
          34.94779656780405,
          29.481745673719782,
          26.356437244904438
         ]
        },
        {
         "mode": "lines",
         "name": "420 seconds",
         "type": "scatter",
         "x": [
          0.10495000000000002,
          0.3148500000000001,
          0.52475,
          0.7346500000000001,
          0.9445500000000001,
          1.1544500000000002,
          1.3643500000000004,
          1.5742500000000004,
          1.7841500000000003,
          1.9940500000000003
         ],
         "y": [
          83.3867715180355,
          80.81655215850921,
          75.70625872225946,
          68.88260861256751,
          60.417261838087796,
          51.87752268562684,
          43.313217512047544,
          36.29131891083483,
          30.826074864942647,
          28.092485764978115
         ]
        },
        {
         "mode": "lines",
         "name": "480 seconds",
         "type": "scatter",
         "x": [
          0.10495000000000002,
          0.3148500000000001,
          0.52475,
          0.7346500000000001,
          0.9445500000000001,
          1.1544500000000002,
          1.3643500000000004,
          1.5742500000000004,
          1.7841500000000003,
          1.9940500000000003
         ],
         "y": [
          82.0954071701997,
          79.54314430710555,
          75.02105154728858,
          68.23349379820748,
          60.5524185926905,
          52.037913030858036,
          44.257717111762155,
          37.24320065147121,
          32.36588914127573,
          29.632474218982207
         ]
        },
        {
         "mode": "lines",
         "name": "540 seconds",
         "type": "scatter",
         "x": [
          0.10495000000000002,
          0.3148500000000001,
          0.52475,
          0.7346500000000001,
          0.9445500000000001,
          1.1544500000000002,
          1.3643500000000004,
          1.5742500000000004,
          1.7841500000000003,
          1.9940500000000003
         ],
         "y": [
          80.81311577512824,
          78.55501822781636,
          74.05970535355104,
          67.95864094941884,
          60.30790052523194,
          52.57788626253274,
          44.81366437695205,
          38.48543840915568,
          33.61165138761027,
          31.172266869316424
         ]
        },
        {
         "mode": "lines",
         "name": "600 seconds",
         "type": "scatter",
         "x": [
          0.10495000000000002,
          0.3148500000000001,
          0.52475,
          0.7346500000000001,
          0.9445500000000001,
          1.1544500000000002,
          1.3643500000000004,
          1.5742500000000004,
          1.7841500000000003,
          1.9940500000000003
         ],
         "y": [
          79.6780560204518,
          77.43318219780951,
          73.42838201411777,
          67.35558834928113,
          60.44061955537636,
          52.73342842460468,
          45.70488293556311,
          39.38611224357375,
          35.002679056583666,
          32.56487718956346
         ]
        },
        {
         "mode": "lines",
         "name": "660 seconds",
         "type": "scatter",
         "x": [
          0.10495000000000002,
          0.3148500000000001,
          0.52475,
          0.7346500000000001,
          0.9445500000000001,
          1.1544500000000002,
          1.3643500000000004,
          1.5742500000000004,
          1.7841500000000003,
          1.9940500000000003
         ],
         "y": [
          78.54969086090445,
          76.5501263395409,
          72.56586874699006,
          67.1064487931882,
          60.2167177559998,
          53.24553329920151,
          46.2328141354097,
          40.52729822529615,
          36.14917337431631,
          33.95659759007709
         ]
        },
        {
         "mode": "lines",
         "name": "720 seconds",
         "type": "scatter",
         "x": [
          0.10495000000000002,
          0.3148500000000001,
          0.52475,
          0.7346500000000001,
          0.9445500000000001,
          1.1544500000000002,
          1.3643500000000004,
          1.5742500000000004,
          1.7841500000000003,
          1.9940500000000003
         ],
         "y": [
          77.54410875753577,
          75.55467454415819,
          71.9999202727121,
          66.56313338031184,
          60.348349877641425,
          53.397386186707266,
          47.05955915393417,
          41.36434861326936,
          37.415632581388614,
          35.225557974596676
         ]
        },
        {
         "mode": "lines",
         "name": "780 seconds",
         "type": "scatter",
         "x": [
          0.10495000000000002,
          0.3148500000000001,
          0.52475,
          0.7346500000000001,
          0.9445500000000001,
          1.1544500000000002,
          1.3643500000000004,
          1.5742500000000004,
          1.7841500000000003,
          1.9940500000000003
         ],
         "y": [
          76.5436647883758,
          74.76902883343708,
          71.23047634897964,
          66.3461246578508,
          60.15248365028746,
          53.876699402916,
          47.55384859221982,
          42.41100362070354,
          38.468507037601356,
          36.493177719901276
         ]
        },
        {
         "mode": "lines",
         "name": "840 seconds",
         "type": "scatter",
         "x": [
          0.10495000000000002,
          0.3148500000000001,
          0.52475,
          0.7346500000000001,
          0.9445500000000001,
          1.1544500000000002,
          1.3643500000000004,
          1.5742500000000004,
          1.7841500000000003,
          1.9940500000000003
         ],
         "y": [
          75.65073325906353,
          73.88407396727715,
          70.72928372803374,
          65.86337183647802,
          60.2837730602287,
          54.025762313137214,
          48.316921580119654,
          43.18443892196942,
          39.62564759223028,
          37.653292664660455
         ]
        },
        {
         "mode": "lines",
         "name": "900 seconds",
         "type": "scatter",
         "x": [
          0.10495000000000002,
          0.3148500000000001,
          0.52475,
          0.7346500000000001,
          0.9445500000000001,
          1.1544500000000002,
          1.3643500000000004,
          1.5742500000000004,
          1.7841500000000003,
          1.9940500000000003
         ],
         "y": [
          74.76185466327978,
          73.18711878621222,
          70.04537547103965,
          65.67855620678887,
          60.11680477558508,
          54.47305664111009,
          48.7780229179531,
          44.14459180241098,
          40.5923049413086,
          38.81183795122857
         ]
        },
        {
         "mode": "lines",
         "name": "960 seconds",
         "type": "scatter",
         "x": [
          0.10495000000000002,
          0.3148500000000001,
          0.52475,
          0.7346500000000001,
          0.9445500000000001,
          1.1544500000000002,
          1.3643500000000004,
          1.5742500000000004,
          1.7841500000000003,
          1.9940500000000003
         ],
         "y": [
          73.96903865859073,
          72.40071514153203,
          69.60461157246637,
          65.25302897046605,
          60.248168780215885,
          54.61998751621415,
          49.481826237070095,
          44.85833830213714,
          41.65165573588802,
          39.87431935603728
         ]
        },
        {
         "mode": "lines",
         "name": "1020 seconds",
         "type": "scatter",
         "x": [
          0.10495000000000002,
          0.3148500000000001,
          0.52475,
          0.7346500000000001,
          0.9445500000000001,
          1.1544500000000002,
          1.3643500000000004,
          1.5742500000000004,
          1.7841500000000003,
          1.9940500000000003
         ],
         "y": [
          73.17948605907,
          71.78402123221541,
          68.99859646451999,
          65.09845219219788,
          60.1087581923461,
          55.03767346279725,
          49.91203058889268,
          45.739956146218816,
          42.5396630764635,
          40.93515985177273
         ]
        },
        {
         "mode": "lines",
         "name": "1080 seconds",
         "type": "scatter",
         "x": [
          0.10495000000000002,
          0.3148500000000001,
          0.52475,
          0.7346500000000001,
          0.9445500000000001,
          1.1544500000000002,
          1.3643500000000004,
          1.5742500000000004,
          1.7841500000000003,
          1.9940500000000003
         ],
         "y": [
          72.47645285852731,
          71.08622759125258,
          68.61307079113857,
          64.72565822125466,
          60.24042559682307,
          55.182946879894246,
          50.56175410694723,
          46.39894145318069,
          43.510893047751246,
          41.90947454441779
         ]
        },
        {
         "mode": "lines",
         "name": "1140 seconds",
         "type": "scatter",
         "x": [
          0.10495000000000002,
          0.3148500000000001,
          0.52475,
          0.7346500000000001,
          0.9445500000000001,
          1.1544500000000002,
          1.3643500000000004,
          1.5742500000000004,
          1.7841500000000003,
          1.9940500000000003
         ],
         "y": [
          71.77609009173136,
          70.54203457451796,
          68.07773144648891,
          64.59884041161405,
          60.12656293629872,
          55.57373465293935,
          50.96376138731782,
          47.209454478830544,
          44.32744626353095,
          42.88217750379776
         ]
        },
        {
         "mode": "lines",
         "name": "1200 seconds",
         "type": "scatter",
         "x": [
          0.10495000000000002,
          0.3148500000000001,
          0.52475,
          0.7346500000000001,
          0.9445500000000001,
          1.1544500000000002,
          1.3643500000000004,
          1.5742500000000004,
          1.7841500000000003,
          1.9940500000000003
         ],
         "y": [
          71.15389250437349,
          69.92417418769773,
          67.7423249637332,
          64.27416537014953,
          60.25864982122154,
          55.717694645537335,
          51.56447616159785,
          47.81862523488527,
          45.2190543913422,
          43.77670591952736
         ]
        },
        {
         "mode": "lines",
         "name": "1260 seconds",
         "type": "scatter",
         "x": [
          0.10495000000000002,
          0.3148500000000001,
          0.52475,
          0.7346500000000001,
          0.9445500000000001,
          1.1544500000000002,
          1.3643500000000004,
          1.5742500000000004,
          1.7841500000000003,
          1.9940500000000003
         ],
         "y": [
          70.53390827974133,
          69.4454499253451,
          67.27101541875729,
          64.17260606012496,
          60.16819903740619,
          56.08417869602391,
          51.940930559209505,
          48.56481901183887,
          45.97081598150278,
          44.66971048270469
         ]
        },
        {
         "mode": "lines",
         "name": "1320 seconds",
         "type": "scatter",
         "x": [
          0.10495000000000002,
          0.3148500000000001,
          0.52475,
          0.7346500000000001,
          0.9445500000000001,
          1.1544500000000002,
          1.3643500000000004,
          1.5742500000000004,
          1.7841500000000003,
          1.9940500000000003
         ],
         "y": [
          69.9846251673633,
          68.89979454370147,
          66.98096281213115,
          63.89165828013991,
          60.3007533395287,
          56.22707830814633,
          52.497327317466144,
          49.128827466302,
          46.790414709058574,
          45.49200253956019
         ]
        },
        {
         "mode": "lines",
         "name": "1380 seconds",
         "type": "scatter",
         "x": [
          0.10495000000000002,
          0.3148500000000001,
          0.52475,
          0.7346500000000001,
          0.9445500000000001,
          1.1544500000000002,
          1.3643500000000004,
          1.5742500000000004,
          1.7841500000000003,
          1.9940500000000003
         ],
         "y": [
          69.43719537108213,
          68.48019665855155,
          66.5676227669719,
          63.81299974897095,
          60.23164427675155,
          56.571628800684124,
          52.850680418443446,
          49.81685400710906,
          47.48348487783606,
          46.31288936843728
         ]
        },
        {
         "mode": "lines",
         "name": "1440 seconds",
         "type": "scatter",
         "x": [
          0.10495000000000002,
          0.3148500000000001,
          0.52475,
          0.7346500000000001,
          0.9445500000000001,
          1.1544500000000002,
          1.3643500000000004,
          1.5742500000000004,
          1.7841500000000003,
          1.9940500000000003
         ],
         "y": [
          68.95374306266628,
          67.99980533961698,
          66.31857488796487,
          63.571713409425215,
          60.36467311895658,
          56.71365779470408,
          53.36702087967893,
          50.33997508542107,
          48.237940476026345,
          47.06978481933831
         ]
        },
        {
         "mode": "lines",
         "name": "1500 seconds",
         "type": "scatter",
         "x": [
          0.10495000000000002,
          0.3148500000000001,
          0.52475,
          0.7346500000000001,
          0.9445500000000001,
          1.1544500000000002,
          1.3643500000000004,
          1.5742500000000004,
          1.7841500000000003,
          1.9940500000000003
         ],
         "y": [
          68.47185586738271,
          67.63361820828413,
          65.95770066185204,
          63.51378554561628,
          60.31496697412067,
          57.03840991664403,
          53.699504065976086,
          50.97539874217213,
          48.87787578760141,
          47.82540645325902
         ]
        },
        {
         "mode": "lines",
         "name": "1560 seconds",
         "type": "scatter",
         "x": [
          0.10495000000000002,
          0.3148500000000001,
          0.52475,
          0.7346500000000001,
          0.9445500000000001,
          1.1544500000000002,
          1.3643500000000004,
          1.5742500000000004,
          1.7841500000000003,
          1.9940500000000003
         ],
         "y": [
          68.04786787235562,
          67.21223670789307,
          65.74571546391329,
          63.308438866663955,
          60.44845372886659,
          57.17971371345439,
          54.17963856234207,
          51.46152555084027,
          49.57339634877212,
          48.523109519254014
         ]
        },
        {
         "mode": "lines",
         "name": "1620 seconds",
         "type": "scatter",
         "x": [
          0.10495000000000002,
          0.3148500000000001,
          0.52475,
          0.7346500000000001,
          0.9445500000000001,
          1.1544500000000002,
          1.3643500000000004,
          1.5742500000000004,
          1.7841500000000003,
          1.9940500000000003
         ],
         "y": [
          67.62521326249205,
          66.89430683199892,
          65.43231878669496,
          63.26926316138846,
          60.416361618629,
          57.48658501623704,
          54.49327022952271,
          52.049375845798785,
          50.16524476802714,
          49.219671690166706
         ]
        },
        {
         "mode": "lines",
         "name": "1680 seconds",
         "type": "scatter",
         "x": [
          0.10495000000000002,
          0.3148500000000001,
          0.52475,
          0.7346500000000001,
          0.9445500000000001,
          1.1544500000000002,
          1.3643500000000004,
          1.5742500000000004,
          1.7841500000000003,
          1.9940500000000003
         ],
         "y": [
          67.25494995264243,
          66.52629454333058,
          65.25383101388795,
          63.09646707751327,
          60.550276571509556,
          57.627277585330745,
          54.94067280312913,
          52.502040787132096,
          50.80744696752407,
          49.86380954627813
         ]
        },
        {
         "mode": "lines",
         "name": "1740 seconds",
         "type": "scatter",
         "x": [
          0.10495000000000002,
          0.3148500000000001,
          0.52475,
          0.7346500000000001,
          0.9445500000000001,
          1.1544500000000002,
          1.3643500000000004,
          1.5742500000000004,
          1.7841500000000003,
          1.9940500000000003
         ],
         "y": [
          66.88583796971254,
          66.25197025332268,
          64.9833968926582,
          63.074246801730965,
          60.53416030957226,
          57.917990868174535,
          55.23727535430254,
          53.046863352060484,
          51.355787640553096,
          50.50693380751809
         ]
        },
        {
         "mode": "lines",
         "name": "1800 seconds",
         "type": "scatter",
         "x": [
          0.10495000000000002,
          0.3148500000000001,
          0.52475,
          0.7346500000000001,
          0.9445500000000001,
          1.1544500000000002,
          1.3643500000000004,
          1.5742500000000004,
          1.7841500000000003,
          1.9940500000000003
         ],
         "y": [
          66.5641106972712,
          65.93224312823529,
          64.83518302700597,
          62.930924279911515,
          60.66846719197864,
          58.05816360685985,
          55.65508067601742,
          53.46926650054631,
          51.949752960889974,
          51.10260834366364
         ]
        },
        {
         "mode": "lines",
         "name": "1860 seconds",
         "type": "scatter",
         "x": [
          0.10495000000000002,
          0.3148500000000001,
          0.52475,
          0.7346500000000001,
          0.9445500000000001,
          1.1544500000000002,
          1.3643500000000004,
          1.5742500000000004,
          1.7841500000000003,
          1.9940500000000003
         ],
         "y": [
          66.24340481978315,
          65.69731896469605,
          64.60363116861618,
          62.924030227680944,
          60.66683338260218,
          58.33426864727636,
          55.936299141019326,
          53.975169649971384,
          52.45873626790177,
          51.69738607143208
         ]
        },
        {
         "mode": "lines",
         "name": "1920 seconds",
         "type": "scatter",
         "x": [
          0.10495000000000002,
          0.3148500000000001,
          0.52475,
          0.7346500000000001,
          0.9445500000000001,
          1.1544500000000002,
          1.3643500000000004,
          1.5742500000000004,
          1.7841500000000003,
          1.9940500000000003
         ],
         "y": [
          65.96550747834848,
          65.42130423343012,
          64.48277450511708,
          62.8073940241874,
          60.80149311268412,
          58.47399673012293,
          56.32733666777259,
          54.37020807970442,
          53.00906043231644,
          52.249221769612
         ]
        },
        {
         "mode": "lines",
         "name": "1980 seconds",
         "type": "scatter",
         "x": [
          0.10495000000000002,
          0.3148500000000001,
          0.52475,
          0.7346500000000001,
          0.9445500000000001,
          1.1544500000000002,
          1.3643500000000004,
          1.5742500000000004,
          1.7841500000000003,
          1.9940500000000003
         ],
         "y": [
          65.68856740701145,
          65.22196845574035,
          64.28642672904348,
          62.81434892410922,
          60.81298519908873,
          58.73688923781339,
          56.594656533883345,
          54.84090459311779,
          53.482446584267194,
          52.8002628319743
         ]
        },
        {
         "mode": "lines",
         "name": "2040 seconds",
         "type": "scatter",
         "x": [
          0.10495000000000002,
          0.3148500000000001,
          0.52475,
          0.7346500000000001,
          0.9445500000000001,
          1.1544500000000002,
          1.3643500000000004,
          1.5742500000000004,
          1.7841500000000003,
          1.9940500000000003
         ],
         "y": [
          65.45021222607008,
          64.98556904735855,
          64.1902833674219,
          62.72188132366555,
          60.94795756851607,
          58.87623654998067,
          56.961480880466134,
          55.21120058463109,
          53.993283667264606,
          53.31245151045531
         ]
        },
        {
         "mode": "lines",
         "name": "2100 seconds",
         "type": "scatter",
         "x": [
          0.10495000000000002,
          0.3148500000000001,
          0.52475,
          0.7346500000000001,
          0.9445500000000001,
          1.1544500000000002,
          1.3643500000000004,
          1.5742500000000004,
          1.7841500000000003,
          1.9940500000000003
         ],
         "y": [
          65.2128429365519,
          64.81835181946379,
          64.02583945706161,
          62.741343680327496,
          60.97134816591595,
          59.12717420021155,
          57.21624465601511,
          55.6500448950074,
          54.434479206540075,
          53.823928716848044
         ]
        },
        {
         "mode": "lines",
         "name": "2160 seconds",
         "type": "scatter",
         "x": [
          0.10495000000000002,
          0.3148500000000001,
          0.52475,
          0.7346500000000001,
          0.9445500000000001,
          1.1544500000000002,
          1.3643500000000004,
          1.5742500000000004,
          1.7841500000000003,
          1.9940500000000003
         ],
         "y": [
          65.01009947697474,
          64.61791830920744,
          63.95200439835895,
          62.67078064233688,
          61.10659178033324,
          59.266197780854874,
          57.56116220623152,
          55.9979724635346,
          54.90958122891105,
          54.300271226409656
         ]
        },
        {
         "mode": "lines",
         "name": "2220 seconds",
         "type": "scatter",
         "x": [
          0.10495000000000002,
          0.3148500000000001,
          0.52475,
          0.7346500000000001,
          0.9445500000000001,
          1.1544500000000002,
          1.3643500000000004,
          1.5742500000000004,
          1.7841500000000003,
          1.9940500000000003
         ],
         "y": [
          64.80850358128659,
          64.47963723062497,
          63.81653028107833,
          62.701527752948984,
          61.140776972481085,
          59.506313492649,
          57.80458490190911,
          56.40799361192608,
          55.32167323988725,
          54.775961018231655
         ]
        },
        {
         "mode": "lines",
         "name": "2280 seconds",
         "type": "scatter",
         "x": [
          0.10495000000000002,
          0.3148500000000001,
          0.52475,
          0.7346500000000001,
          0.9445500000000001,
          1.1544500000000002,
          1.3643500000000004,
          1.5742500000000004,
          1.7841500000000003,
          1.9940500000000003
         ],
         "y": [
          64.63774125435374,
          64.31194405425485,
          63.762801954751694,
          62.65085038854329,
          61.2762473988354,
          59.645068421967224,
          58.12967691336306,
          56.73570335931087,
          55.76442593471782,
          55.21990574867837
         ]
        },
        {
         "mode": "lines",
         "name": "2340 seconds",
         "type": "scatter",
         "x": [
          0.10495000000000002,
          0.3148500000000001,
          0.52475,
          0.7346500000000001,
          0.9445500000000001,
          1.1544500000000002,
          1.3643500000000004,
          1.5742500000000004,
          1.7841500000000003,
          1.9940500000000003
         ],
         "y": [
          64.46847015313517,
          64.19964310369598,
          63.653736344162326,
          62.69175966310593,
          61.32024494223135,
          59.87538098091,
          58.362860912600844,
          57.119634083725366,
          56.15021395919833,
          55.66322544098496
         ]
        },
        {
         "mode": "lines",
         "name": "2400 seconds",
         "type": "scatter",
         "x": [
          0.10495000000000002,
          0.3148500000000001,
          0.52475,
          0.7346500000000001,
          0.9445500000000001,
          1.1544500000000002,
          1.3643500000000004,
          1.5742500000000004,
          1.7841500000000003,
          1.9940500000000003
         ],
         "y": [
          64.32630533334438,
          64.06186346528432,
          63.61807781757164,
          62.65919751411719,
          61.45589066923465,
          60.01392692623644,
          58.67000332271135,
          57.4290766308663,
          56.56366940306464,
          56.07790343803203
         ]
        },
        {
         "mode": "lines",
         "name": "2460 seconds",
         "type": "scatter",
         "x": [
          0.10495000000000002,
          0.3148500000000001,
          0.52475,
          0.7346500000000001,
          0.9445500000000001,
          1.1544500000000002,
          1.3643500000000004,
          1.5742500000000004,
          1.7841500000000003,
          1.9940500000000003
         ],
         "y": [
          64.18620150602304,
          63.972743565505475,
          63.53326359901048,
          62.70922498966837,
          61.50884500855765,
          60.23534884387197,
          58.893953391446956,
          57.78937889647634,
          56.925695158604746,
          56.491945334432145
         ]
        },
        {
         "mode": "lines",
         "name": "2520 seconds",
         "type": "scatter",
         "x": [
          0.10495000000000002,
          0.3148500000000001,
          0.52475,
          0.7346500000000001,
          0.9445500000000001,
          1.1544500000000002,
          1.3643500000000004,
          1.5742500000000004,
          1.7841500000000003,
          1.9940500000000003
         ],
         "y": [
          64.06945125359616,
          63.86241122068305,
          63.51376235680527,
          62.6932767566864,
          61.64460058282647,
          60.373760121580354,
          59.184833356462406,
          58.08232738207933,
          57.312601932794635,
          56.88020189304165
         ]
        },
        {
         "mode": "lines",
         "name": "2580 seconds",
         "type": "scatter",
         "x": [
          0.10495000000000002,
          0.3148500000000001,
          0.52475,
          0.7346500000000001,
          0.9445500000000001,
          1.1544500000000002,
          1.3643500000000004,
          1.5742500000000004,
          1.7841500000000003,
          1.9940500000000003
         ],
         "y": [
          63.955570117711005,
          63.7937614586728,
          63.4514991094554,
          62.75143334703835,
          61.705798619201495,
          60.58710238120344,
          59.40047300963175,
          58.421214560185234,
          57.65317703583913,
          57.26776465574844
         ]
        },
        {
         "mode": "lines",
         "name": "2640 seconds",
         "type": "scatter",
         "x": [
          0.10495000000000002,
          0.3148500000000001,
          0.52475,
          0.7346500000000001,
          0.9445500000000001,
          1.1544500000000002,
          1.3643500000000004,
          1.5742500000000004,
          1.7841500000000003,
          1.9940500000000003
         ],
         "y": [
          63.86121701719695,
          63.70869088631527,
          63.44634341660425,
          62.75090712477848,
          61.841574966633736,
          60.725484208403394,
          59.67660196544365,
          58.69928703922541,
          58.01600847014582,
          57.63218744097177
         ]
        },
        {
         "mode": "lines",
         "name": "2700 seconds",
         "type": "scatter",
         "x": [
          0.10495000000000002,
          0.3148500000000001,
          0.52475,
          0.7346500000000001,
          0.9445500000000001,
          1.1544500000000002,
          1.3643500000000004,
          1.5742500000000004,
          1.7841500000000003,
          1.9940500000000003
         ],
         "y": [
          63.770715334638645,
          63.657855300689555,
          63.405424757205104,
          62.81624162640544,
          61.91047541330912,
          60.93145767566796,
          59.884793063145196,
          59.018742865666404,
          58.337240510925206,
          57.995805157722515
         ]
        },
        {
         "mode": "lines",
         "name": "2760 seconds",
         "type": "scatter",
         "x": [
          0.10495000000000002,
          0.3148500000000001,
          0.52475,
          0.7346500000000001,
          0.9445500000000001,
          1.1544500000000002,
          1.3643500000000004,
          1.5742500000000004,
          1.7841500000000003,
          1.9940500000000003
         ],
         "y": [
          63.69589014212751,
          63.59596053360505,
          63.41295601397412,
          62.83029972830408,
          62.04615155269594,
          61.06997120320853,
          60.14751603692048,
          59.28342590142299,
          58.67822141362515,
          58.33874917569843
         ]
        },
        {
         "mode": "lines",
         "name": "2820 seconds",
         "type": "scatter",
         "x": [
          0.10495000000000002,
          0.3148500000000001,
          0.52475,
          0.7346500000000001,
          0.9445500000000001,
          1.1544500000000002,
          1.3643500000000004,
          1.5742500000000004,
          1.7841500000000003,
          1.9940500000000003
         ],
         "y": [
          63.62587890870718,
          63.56040097010237,
          63.392600798165766,
          62.901921260058614,
          62.12242256267051,
          61.26918643056351,
          60.34908379347752,
          59.585220481980315,
          58.98203888688665,
          58.68071860484397
         ]
        },
        {
         "mode": "lines",
         "name": "2880 seconds",
         "type": "scatter",
         "x": [
          0.10495000000000002,
          0.3148500000000001,
          0.52475,
          0.7346500000000001,
          0.9445500000000001,
          1.1544500000000002,
          1.3643500000000004,
          1.5742500000000004,
          1.7841500000000003,
          1.9940500000000003
         ],
         "y": [
          63.56785692203359,
          63.51934131335242,
          63.411548810201865,
          62.930079508746566,
          62.25785565638442,
          61.408081443972904,
          60.59958571305995,
          59.83789543226254,
          59.303171138506066,
          59.00432862526974
         ]
        },
        {
         "mode": "lines",
         "name": "2940 seconds",
         "type": "scatter",
         "x": [
          0.10495000000000002,
          0.3148500000000001,
          0.52475,
          0.7346500000000001,
          0.9445500000000001,
          1.1544500000000002,
          1.3643500000000004,
          1.5742500000000004,
          1.7841500000000003,
          1.9940500000000003
         ],
         "y": [
          63.51525914474996,
          63.49679488128588,
          63.41113583299217,
          63.00728436897603,
          62.34139594554922,
          61.601055391530295,
          60.79534965751079,
          60.12359945294738,
          59.59134770339317,
          59.326735141734595
         ]
        },
        {
         "mode": "lines",
         "name": "3000 seconds",
         "type": "scatter",
         "x": [
          0.10495000000000002,
          0.3148500000000001,
          0.52475,
          0.7346500000000001,
          0.9445500000000001,
          1.1544500000000002,
          1.3643500000000004,
          1.5742500000000004,
          1.7841500000000003,
          1.9940500000000003
         ],
         "y": [
          63.47142800962398,
          63.473507363652935,
          63.44105654077086,
          63.049296769402545,
          62.476486488649066,
          61.74069910628205,
          61.03466344323697,
          60.36557184147389,
          59.894435545794686,
          59.63296631695069
         ]
        },
        {
         "mode": "lines",
         "name": "3060 seconds",
         "type": "scatter",
         "x": [
          0.10495000000000002,
          0.3148500000000001,
          0.52475,
          0.7346500000000001,
          0.9445500000000001,
          1.1544500000000002,
          1.3643500000000004,
          1.5742500000000004,
          1.7841500000000003,
          1.9940500000000003
         ],
         "y": [
          63.432950033154135,
          63.46198018450271,
          63.4598036798619,
          63.1318298334145,
          62.56738892542907,
          61.927889458433754,
          61.22546894210992,
          60.63657292074783,
          60.16861333765922,
          59.937709219595426
         ]
        },
        {
         "mode": "lines",
         "name": "3120 seconds",
         "type": "scatter",
         "x": [
          0.10495000000000002,
          0.3148500000000001,
          0.52475,
          0.7346500000000001,
          0.9445500000000001,
          1.1544500000000002,
          1.3643500000000004,
          1.5742500000000004,
          1.7841500000000003,
          1.9940500000000003
         ],
         "y": [
          63.40069565302099,
          63.45245947413119,
          63.50136617900411,
          63.18748912308178,
          62.7022274030807,
          62.06876817286856,
          61.45449829264711,
          60.869101250376815,
          60.455290727566506,
          60.22834644201628
         ]
        },
        {
         "mode": "lines",
         "name": "3180 seconds",
         "type": "scatter",
         "x": [
          0.10495000000000002,
          0.3148500000000001,
          0.52475,
          0.7346500000000001,
          0.9445500000000001,
          1.1544500000000002,
          1.3643500000000004,
          1.5742500000000004,
          1.7841500000000003,
          1.9940500000000003
         ],
         "y": [
          63.3730000525393,
          63.449686275448876,
          63.53840088402044,
          63.27576201031222,
          62.80068410025967,
          62.25065562374299,
          61.64123459477727,
          61.1266317946526,
          60.71700026409407,
          60.517164646451754
         ]
        },
        {
         "mode": "lines",
         "name": "3240 seconds",
         "type": "scatter",
         "x": [
          0.10495000000000002,
          0.3148500000000001,
          0.52475,
          0.7346500000000001,
          0.9445500000000001,
          1.1544500000000002,
          1.3643500000000004,
          1.5742500000000004,
          1.7841500000000003,
          1.9940500000000003
         ],
         "y": [
          63.3496094711818,
          63.44928464611594,
          63.59301803100437,
          63.34482578550351,
          62.93570151426167,
          62.39333980793985,
          61.86080818050758,
          61.35094567169189,
          60.98876541667441,
          60.79384050394272
         ]
        },
        {
         "mode": "lines",
         "name": "3300 seconds",
         "type": "scatter",
         "x": [
          0.10495000000000002,
          0.3148500000000001,
          0.52475,
          0.7346500000000001,
          0.9445500000000001,
          1.1544500000000002,
          1.3643500000000004,
          1.5742500000000004,
          1.7841500000000003,
          1.9940500000000003
         ],
         "y": [
          63.329592903629454,
          63.452108826697255,
          63.64773971413197,
          63.439773680700945,
          63.04194140804702,
          62.57053000928357,
          62.04440091626462,
          61.59613511083007,
          61.23943673265414,
          61.06834003339567
         ]
        },
        {
         "mode": "lines",
         "name": "3360 seconds",
         "type": "scatter",
         "x": [
          0.10495000000000002,
          0.3148500000000001,
          0.52475,
          0.7346500000000001,
          0.9445500000000001,
          1.1544500000000002,
          1.3643500000000004,
          1.5742500000000004,
          1.7841500000000003,
          1.9940500000000003
         ],
         "y": [
          63.31241336692619,
          63.45615282910283,
          63.71665066148164,
          63.52202138293972,
          63.17789032495667,
          62.71563735713316,
          62.25535337684985,
          61.8134314237059,
          61.49769979766926,
          61.33255060711781
         ]
        },
        {
         "mode": "lines",
         "name": "3420 seconds",
         "type": "scatter",
         "x": [
          0.10495000000000002,
          0.3148500000000001,
          0.52475,
          0.7346500000000001,
          0.9445500000000001,
          1.1544500000000002,
          1.3643500000000004,
          1.5742500000000004,
          1.7841500000000003,
          1.9940500000000003
         ],
         "y": [
          63.29745848808851,
          63.461032944176175,
          63.788384185055904,
          63.624593759626315,
          63.29216027883837,
          62.888896732941504,
          62.43673903065452,
          62.047384241376314,
          61.738660684625756,
          61.594234317258454
         ]
        },
        {
         "mode": "lines",
         "name": "3480 seconds",
         "type": "scatter",
         "x": [
          0.10495000000000002,
          0.3148500000000001,
          0.52475,
          0.7346500000000001,
          0.9445500000000001,
          1.1544500000000002,
          1.3643500000000004,
          1.5742500000000004,
          1.7841500000000003,
          1.9940500000000003
         ],
         "y": [
          63.284265877015535,
          63.46587134718596,
          63.87161350520009,
          63.719603285161895,
          63.42988394046212,
          63.037055752204466,
          62.63997953116867,
          62.258801883246946,
          61.98480174366028,
          61.8473530870625
         ]
        },
        {
         "mode": "lines",
         "name": "3540 seconds",
         "type": "scatter",
         "x": [
          0.10495000000000002,
          0.3148500000000001,
          0.52475,
          0.7346500000000001,
          0.9445500000000001,
          1.1544500000000002,
          1.3643500000000004,
          1.5742500000000004,
          1.7841500000000003,
          1.9940500000000003
         ],
         "y": [
          63.27244123361712,
          63.470359517368934,
          63.95870811201589,
          63.83017234333219,
          63.55227836301468,
          63.207243516685075,
          62.8200596664042,
          62.48267756423596,
          62.21726812025518,
          62.09764879498484
         ]
        },
        {
         "mode": "lines",
         "name": "3600 seconds",
         "type": "scatter",
         "x": [
          0.10495000000000002,
          0.3148500000000001,
          0.52475,
          0.7346500000000001,
          0.9445500000000001,
          1.1544500000000002,
          1.3643500000000004,
          1.5742500000000004,
          1.7841500000000003,
          1.9940500000000003
         ],
         "y": [
          63.26168484387258,
          63.47427671252545,
          64.05472552349165,
          63.93690269584412,
          63.69239886122603,
          63.3589586833125,
          63.01659688915419,
          62.68925520630844,
          62.45268607735516,
          62.34094106007953
         ]
        },
        {
         "mode": "lines",
         "name": "3660 seconds",
         "type": "scatter",
         "x": [
          0.10495000000000002,
          0.3148500000000001,
          0.52475,
          0.7346500000000001,
          0.9445500000000001,
          1.1544500000000002,
          1.3643500000000004,
          1.5742500000000004,
          1.7841500000000003,
          1.9940500000000003
         ],
         "y": [
          63.25176753296517,
          63.47760038769588,
          64.15464300260582,
          64.05503665703651,
          63.822569204198984,
          63.52690393911252,
          63.19612801899342,
          62.904316759903,
          62.677753140856886,
          62.58121947792936
         ]
        },
        {
         "mode": "lines",
         "name": "3720 seconds",
         "type": "scatter",
         "x": [
          0.10495000000000002,
          0.3148500000000001,
          0.52475,
          0.7346500000000001,
          0.9445500000000001,
          1.1544500000000002,
          1.3643500000000004,
          1.5742500000000004,
          1.7841500000000003,
          1.9940500000000003
         ],
         "y": [
          63.24251899875545,
          63.48036821663647,
          64.26125848508465,
          64.17186514310337,
          63.96533344787043,
          63.682333391588074,
          63.38705069604621,
          63.10692586096434,
          62.9038806812435,
          62.81585709150843
         ]
        },
        {
         "mode": "lines",
         "name": "3780 seconds",
         "type": "scatter",
         "x": [
          0.10495000000000002,
          0.3148500000000001,
          0.52475,
          0.7346500000000001,
          0.9445500000000001,
          1.1544500000000002,
          1.3643500000000004,
          1.5742500000000004,
          1.7841500000000003,
          1.9940500000000003
         ],
         "y": [
          63.2338121395639,
          63.48265259686722,
          64.37149148440052,
          64.2966813376462,
          64.10242404763376,
          63.848761727129904,
          63.566488106116836,
          63.314531699631445,
          63.122513638601774,
          63.047431622288556
         ]
        },
        {
         "mode": "lines",
         "name": "3840 seconds",
         "type": "scatter",
         "x": [
          0.10495000000000002,
          0.3148500000000001,
          0.52475,
          0.7346500000000001,
          0.9445500000000001,
          1.1544500000000002,
          1.3643500000000004,
          1.5742500000000004,
          1.7841500000000003,
          1.9940500000000003
         ],
         "y": [
          63.22555151461121,
          63.48452613998766,
          64.48675164303364,
          64.42183726207824,
          64.24783301643522,
          64.00761409002261,
          63.75292218942132,
          63.51380692790849,
          63.34078308650471,
          63.274501500885485
         ]
        },
        {
         "mode": "lines",
         "name": "3900 seconds",
         "type": "scatter",
         "x": [
          0.10495000000000002,
          0.3148500000000001,
          0.52475,
          0.7346500000000001,
          0.9445500000000001,
          1.1544500000000002,
          1.3643500000000004,
          1.5742500000000004,
          1.7841500000000003,
          1.9940500000000003
         ],
         "y": [
          63.21766434047027,
          63.48605397029221,
          64.60528680841033,
          64.55242499184214,
          64.39069348370842,
          64.1731742926855,
          63.932351640556064,
          63.71534094649278,
          63.55381169479912,
          63.4986068975039
         ]
        },
        {
         "mode": "lines",
         "name": "3960 seconds",
         "type": "scatter",
         "x": [
          0.10495000000000002,
          0.3148500000000001,
          0.52475,
          0.7346500000000001,
          0.9445500000000001,
          1.1544500000000002,
          1.3643500000000004,
          1.5742500000000004,
          1.7841500000000003,
          1.9940500000000003
         ],
         "y": [
          63.21009417791357,
          63.48729008551557,
          64.72767057766617,
          64.68430365348127,
          64.53868317290662,
          64.33482066109546,
          64.11540472489173,
          63.91167838784701,
          63.76557897616359,
          63.71910916074257
         ]
        },
        {
         "mode": "lines",
         "name": "4020 seconds",
         "type": "scatter",
         "x": [
          0.10495000000000002,
          0.3148500000000001,
          0.52475,
          0.7346500000000001,
          0.9445500000000001,
          1.1544500000000002,
          1.3643500000000004,
          1.5742500000000004,
          1.7841500000000003,
          1.9940500000000003
         ],
         "y": [
          63.20279648465713,
          63.48827879219829,
          64.85296112085025,
          64.81987374165978,
          64.68612574002425,
          64.50010284272997,
          64.29464137149316,
          64.10843973480355,
          63.97371415498741,
          63.936867036377414
         ]
        },
        {
         "mode": "lines",
         "name": "4080 seconds",
         "type": "scatter",
         "x": [
          0.10495000000000002,
          0.3148500000000001,
          0.52475,
          0.7346500000000001,
          0.9445500000000001,
          1.1544500000000002,
          1.3643500000000004,
          1.5742500000000004,
          1.7841500000000003,
          1.9940500000000003
         ],
         "y": [
          63.19573553522294,
          63.48905609486374,
          64.98127937651971,
          64.95714277630627,
          64.83661277789165,
          64.6638029480357,
          64.47530992354842,
          64.30208837307967,
          64.18017558491348,
          64.15170808769659
         ]
        },
        {
         "mode": "lines",
         "name": "4140 seconds",
         "type": "scatter",
         "x": [
          0.10495000000000002,
          0.3148500000000001,
          0.52475,
          0.7346500000000001,
          0.9445500000000001,
          1.1544500000000002,
          1.3643500000000004,
          1.5742500000000004,
          1.7841500000000003,
          1.9940500000000003
         ],
         "y": [
          63.18888224633926,
          63.48965160848829,
          65.11212494581477,
          65.09701310689334,
          64.9875975698673,
          64.82927839708992,
          64.65409304286864,
          64.49517893117566,
          64.3840468060483,
          64.36409839229191
         ]
        },
        {
         "mode": "lines",
         "name": "4200 seconds",
         "type": "scatter",
         "x": [
          0.10495000000000002,
          0.3148500000000001,
          0.52475,
          0.7346500000000001,
          0.9445500000000001,
          1.1544500000000002,
          1.3643500000000004,
          1.5742500000000004,
          1.7841500000000003,
          1.9940500000000003
         ],
         "y": [
          63.18221263023435,
          63.490089820828416,
          65.24541846782373,
          65.23862217173757,
          65.14044029225987,
          64.99438897084909,
          64.83315642598266,
          64.68635954416827,
          64.58618773494219,
          64.5740857461618
         ]
        },
        {
         "mode": "lines",
         "name": "4260 seconds",
         "type": "scatter",
         "x": [
          0.10495000000000002,
          0.3148500000000001,
          0.52475,
          0.7346500000000001,
          0.9445500000000001,
          1.1544500000000002,
          1.3643500000000004,
          1.5742500000000004,
          1.7841500000000003,
          1.9940500000000003
         ],
         "y": [
          63.17570666813793,
          63.49039125267729,
          65.38087499481115,
          65.38218159034555,
          65.29416455488608,
          65.1603413032962,
          65.01130966379871,
          64.8766205463837,
          64.78637296180403,
          64.78193829426083
         ]
        },
        {
         "mode": "lines",
         "name": "4320 seconds",
         "type": "scatter",
         "x": [
          0.10495000000000002,
          0.3148500000000001,
          0.52475,
          0.7346500000000001,
          0.9445500000000001,
          1.1544500000000002,
          1.3643500000000004,
          1.5742500000000004,
          1.7841500000000003,
          1.9940500000000003
         ],
         "y": [
          63.169347479364234,
          63.490573232986456,
          65.54328225140898,
          65.35283620284251,
          65.47406933149787,
          65.35134454384679,
          65.21421374239605,
          65.09051866581896,
          65.00989371514811,
          65.012706027308
         ]
        },
        {
         "mode": "lines",
         "name": "4380 seconds",
         "type": "scatter",
         "x": [
          0.10495000000000002,
          0.3148500000000001,
          0.52475,
          0.7346500000000001,
          0.9445500000000001,
          1.1544500000000002,
          1.3643500000000004,
          1.5742500000000004,
          1.7841500000000003,
          1.9940500000000003
         ],
         "y": [
          63.16312069591235,
          63.49065550543789,
          65.61285419923702,
          65.61422777317334,
          65.58501233102956,
          65.51787111077876,
          65.39169303981315,
          65.27854423688017,
          65.20692266951205,
          65.21670954292662
         ]
        },
        {
         "mode": "lines",
         "name": "4440 seconds",
         "type": "scatter",
         "x": [
          0.10495000000000002,
          0.3148500000000001,
          0.52475,
          0.7346500000000001,
          0.9445500000000001,
          1.1544500000000002,
          1.3643500000000004,
          1.5742500000000004,
          1.7841500000000003,
          1.9940500000000003
         ],
         "y": [
          63.15701407700759,
          63.49063186636514,
          65.77522359490756,
          65.60373102300468,
          65.77039607493289,
          65.69362288295935,
          65.59381220698869,
          65.49052095446396,
          65.42749186885555,
          65.44393593038255
         ]
        },
        {
         "mode": "lines",
         "name": "4500 seconds",
         "type": "scatter",
         "x": [
          0.10495000000000002,
          0.3148500000000001,
          0.52475,
          0.7346500000000001,
          0.9445500000000001,
          1.1544500000000002,
          1.3643500000000004,
          1.5742500000000004,
          1.7841500000000003,
          1.9940500000000003
         ],
         "y": [
          63.151016703104325,
          63.49053170253924,
          65.85288713684292,
          65.86134792251828,
          65.89372387832184,
          65.85764770668885,
          65.76471349790125,
          65.67672615767664,
          65.62183557911217,
          65.64466223685623
         ]
        },
        {
         "mode": "lines",
         "name": "4560 seconds",
         "type": "scatter",
         "x": [
          0.10495000000000002,
          0.3148500000000001,
          0.52475,
          0.7346500000000001,
          0.9445500000000001,
          1.1544500000000002,
          1.3643500000000004,
          1.5742500000000004,
          1.7841500000000003,
          1.9940500000000003
         ],
         "y": [
          63.14511937985065,
          63.49034737661823,
          66.09669739386155,
          65.86440191079508,
          65.87411728467941,
          65.83669485917048,
          66.043343661056,
          65.96470870628607,
          65.91968888821329,
          65.9486286742207
         ]
        },
        {
         "mode": "lines",
         "name": "4620 seconds",
         "type": "scatter",
         "x": [
          0.10495000000000002,
          0.3148500000000001,
          0.52475,
          0.7346500000000001,
          0.9445500000000001,
          1.1544500000000002,
          1.3643500000000004,
          1.5742500000000004,
          1.7841500000000003,
          1.9940500000000003
         ],
         "y": [
          63.13931377799083,
          63.49012026533756,
          66.1474727065365,
          66.12515373437516,
          66.03368154201023,
          66.04783571910929,
          66.16332653199646,
          66.14779802939316,
          66.11109571780219,
          66.14654576145837
         ]
        },
        {
         "mode": "lines",
         "name": "4680 seconds",
         "type": "scatter",
         "x": [
          0.10495000000000002,
          0.3148500000000001,
          0.52475,
          0.7346500000000001,
          0.9445500000000001,
          1.1544500000000002,
          1.3643500000000004,
          1.5742500000000004,
          1.7841500000000003,
          1.9940500000000003
         ],
         "y": [
          63.13359305220521,
          63.48981883670331,
          66.33671543135272,
          66.33342977138038,
          66.29536820373923,
          66.29573160630564,
          66.13597257926948,
          66.13948127943671,
          66.35952865568795,
          66.40124368646347
         ]
        },
        {
         "mode": "lines",
         "name": "4740 seconds",
         "type": "scatter",
         "x": [
          0.10495000000000002,
          0.3148500000000001,
          0.52475,
          0.7346500000000001,
          0.9445500000000001,
          1.1544500000000002,
          1.3643500000000004,
          1.5742500000000004,
          1.7841500000000003,
          1.9940500000000003
         ],
         "y": [
          63.12795057565455,
          63.489477260348906,
          66.53097964522287,
          66.55415216572746,
          66.53619995390261,
          66.47148947313111,
          66.42163570608406,
          66.39838401240952,
          66.33709649062409,
          66.42199885780528
         ]
        },
        {
         "mode": "lines",
         "name": "4800 seconds",
         "type": "scatter",
         "x": [
          0.10495000000000002,
          0.3148500000000001,
          0.52475,
          0.7346500000000001,
          0.9445500000000001,
          1.1544500000000002,
          1.3643500000000004,
          1.5742500000000004,
          1.7841500000000003,
          1.9940500000000003
         ],
         "y": [
          63.12238082819787,
          63.489102058751826,
          66.73148979971823,
          66.5416493131983,
          66.51978298083418,
          66.70655331543284,
          66.65980526564122,
          66.61720707259572,
          66.60192509367602,
          66.66789917616485
         ]
        },
        {
         "mode": "lines",
         "name": "4860 seconds",
         "type": "scatter",
         "x": [
          0.10495000000000002,
          0.3148500000000001,
          0.52475,
          0.7346500000000001,
          0.9445500000000001,
          1.1544500000000002,
          1.3643500000000004,
          1.5742500000000004,
          1.7841500000000003,
          1.9940500000000003
         ],
         "y": [
          63.11687887361915,
          63.48869941277639,
          66.80104555792978,
          66.77530554467654,
          66.72521007847484,
          66.83813038247489,
          66.83321225825003,
          66.79716369817199,
          66.7918715330479,
          66.85865034968798
         ]
        },
        {
         "mode": "lines",
         "name": "4920 seconds",
         "type": "scatter",
         "x": [
          0.10495000000000002,
          0.3148500000000001,
          0.52475,
          0.7346500000000001,
          0.9445500000000001,
          1.1544500000000002,
          1.3643500000000004,
          1.5742500000000004,
          1.7841500000000003,
          1.9940500000000003
         ],
         "y": [
          63.111440282229196,
          63.488247716280405,
          67.03570722721535,
          67.04490408217835,
          67.03680342494442,
          66.81385351292165,
          66.82227341045486,
          67.08248007147255,
          67.08401530448708,
          66.87475934997576
         ]
        },
        {
         "mode": "lines",
         "name": "4980 seconds",
         "type": "scatter",
         "x": [
          0.10495000000000002,
          0.3148500000000001,
          0.52475,
          0.7346500000000001,
          0.9445500000000001,
          1.1544500000000002,
          1.3643500000000004,
          1.5742500000000004,
          1.7841500000000003,
          1.9940500000000003
         ],
         "y": [
          63.106060749887995,
          63.48778410827379,
          67.34921160536902,
          67.03822307289175,
          66.95453555808115,
          67.24451371155558,
          67.1979716938224,
          67.04936231187936,
          67.00543728468672,
          67.3296508616515
         ]
        },
        {
         "mode": "lines",
         "name": "5040 seconds",
         "type": "scatter",
         "x": [
          0.10495000000000002,
          0.3148500000000001,
          0.52475,
          0.7346500000000001,
          0.9445500000000001,
          1.1544500000000002,
          1.3643500000000004,
          1.5742500000000004,
          1.7841500000000003,
          1.9940500000000003
         ],
         "y": [
          63.10073675086399,
          63.48732778932059,
          67.36282143931903,
          67.30823710561877,
          67.18389560079467,
          67.371610338673,
          67.33320433507892,
          67.25917771336265,
          67.22255679260965,
          67.50138453944135
         ]
        },
        {
         "mode": "lines",
         "name": "5100 seconds",
         "type": "scatter",
         "x": [
          0.10495000000000002,
          0.3148500000000001,
          0.52475,
          0.7346500000000001,
          0.9445500000000001,
          1.1544500000000002,
          1.3643500000000004,
          1.5742500000000004,
          1.7841500000000003,
          1.9940500000000003
         ],
         "y": [
          63.09546523265776,
          63.48682217862302,
          67.54217622060504,
          67.51380655644998,
          67.48196450400594,
          67.33113281735976,
          67.55213907258714,
          67.50133543169713,
          67.49456443927646,
          67.4996919577245
         ]
        },
        {
         "mode": "lines",
         "name": "5160 seconds",
         "type": "scatter",
         "x": [
          0.10495000000000002,
          0.3148500000000001,
          0.52475,
          0.7346500000000001,
          0.9445500000000001,
          1.1544500000000002,
          1.3643500000000004,
          1.5742500000000004,
          1.7841500000000003,
          1.9940500000000003
         ],
         "y": [
          63.090242794662814,
          63.48630363954102,
          67.69614920919415,
          67.70984517894351,
          67.63681711232095,
          67.60845719294802,
          67.50595141054752,
          67.71095733247242,
          67.69459145324903,
          67.72787958541971
         ]
        },
        {
         "mode": "lines",
         "name": "5220 seconds",
         "type": "scatter",
         "x": [
          0.10495000000000002,
          0.3148500000000001,
          0.52475,
          0.7346500000000001,
          0.9445500000000001,
          1.1544500000000002,
          1.3643500000000004,
          1.5742500000000004,
          1.7841500000000003,
          1.9940500000000003
         ],
         "y": [
          63.08506666131634,
          63.485769900583655,
          67.9407625293459,
          67.68261320929895,
          67.92755398319183,
          67.86091003267906,
          67.84334517677951,
          67.67566255541493,
          67.983290859738,
          67.7502591271204
         ]
        },
        {
         "mode": "lines",
         "name": "5280 seconds",
         "type": "scatter",
         "x": [
          0.10495000000000002,
          0.3148500000000001,
          0.52475,
          0.7346500000000001,
          0.9445500000000001,
          1.1544500000000002,
          1.3643500000000004,
          1.5742500000000004,
          1.7841500000000003,
          1.9940500000000003
         ],
         "y": [
          63.079934237984695,
          63.48524157859735,
          68.00412557451828,
          68.00832469896979,
          68.07461068615726,
          68.07274745284018,
          67.98717025070607,
          67.96294472945229,
          67.86188221024963,
          68.06624141163705
         ]
        },
        {
         "mode": "lines",
         "name": "5340 seconds",
         "type": "scatter",
         "x": [
          0.10495000000000002,
          0.3148500000000001,
          0.52475,
          0.7346500000000001,
          0.9445500000000001,
          1.1544500000000002,
          1.3643500000000004,
          1.5742500000000004,
          1.7841500000000003,
          1.9940500000000003
         ],
         "y": [
          63.074843296393965,
          63.48468485972783,
          68.31619299310563,
          68.01877241847157,
          68.05785248046917,
          68.04495812481572,
          68.35318270013335,
          68.28454223778438,
          68.26849227569676,
          68.06762986521684
         ]
        },
        {
         "mode": "lines",
         "name": "5400 seconds",
         "type": "scatter",
         "x": [
          0.10495000000000002,
          0.3148500000000001,
          0.52475,
          0.7346500000000001,
          0.9445500000000001,
          1.1544500000000002,
          1.3643500000000004,
          1.5742500000000004,
          1.7841500000000003,
          1.9940500000000003
         ],
         "y": [
          63.069791470561505,
          63.484151563293906,
          68.360979564441,
          68.34122378209725,
          68.24271053883407,
          68.27778276174061,
          68.2982308407098,
          68.4974372104628,
          68.39756947014453,
          68.36915285896568
         ]
        },
        {
         "mode": "lines",
         "name": "5460 seconds",
         "type": "scatter",
         "x": [
          0.10495000000000002,
          0.3148500000000001,
          0.52475,
          0.7346500000000001,
          0.9445500000000001,
          1.1544500000000002,
          1.3643500000000004,
          1.5742500000000004,
          1.7841500000000003,
          1.9940500000000003
         ],
         "y": [
          63.06477698077449,
          63.48359031761675,
          68.5969401163878,
          68.59270193621292,
          68.5579819113469,
          68.55140482392129,
          68.59845498402116,
          68.43573901578596,
          68.41851969368614,
          68.40673921191589
         ]
        },
        {
         "mode": "lines",
         "name": "5520 seconds",
         "type": "scatter",
         "x": [
          0.10495000000000002,
          0.3148500000000001,
          0.52475,
          0.7346500000000001,
          0.9445500000000001,
          1.1544500000000002,
          1.3643500000000004,
          1.5742500000000004,
          1.7841500000000003,
          1.9940500000000003
         ],
         "y": [
          63.0597977539432,
          63.48304121061225,
          68.75719218299473,
          68.78133484302825,
          68.76274501724059,
          68.76047770858793,
          68.52993010292016,
          68.68395171593498,
          68.6169830923961,
          68.63916344612389
         ]
        },
        {
         "mode": "lines",
         "name": "5580 seconds",
         "type": "scatter",
         "x": [
          0.10495000000000002,
          0.3148500000000001,
          0.52475,
          0.7346500000000001,
          0.9445500000000001,
          1.1544500000000002,
          1.3643500000000004,
          1.5742500000000004,
          1.7841500000000003,
          1.9940500000000003
         ],
         "y": [
          63.05485215731589,
          63.482490816663564,
          69.00392279322556,
          68.76836278590619,
          68.76461386098389,
          68.67320611676769,
          68.91709076539516,
          68.91622817990968,
          68.91849801025478,
          68.94306215600692
         ]
        },
        {
         "mode": "lines",
         "name": "5640 seconds",
         "type": "scatter",
         "x": [
          0.10495000000000002,
          0.3148500000000001,
          0.52475,
          0.7346500000000001,
          0.9445500000000001,
          1.1544500000000002,
          1.3643500000000004,
          1.5742500000000004,
          1.7841500000000003,
          1.9940500000000003
         ],
         "y": [
          63.04993855811214,
          63.48195796090301,
          69.05252340196655,
          69.02717985059049,
          68.90970490315095,
          68.9037163531429,
          69.0584104181765,
          69.08906786385771,
          69.09576169255908,
          69.14171725080419
         ]
        },
        {
         "mode": "lines",
         "name": "5700 seconds",
         "type": "scatter",
         "x": [
          0.10495000000000002,
          0.3148500000000001,
          0.52475,
          0.7346500000000001,
          0.9445500000000001,
          1.1544500000000002,
          1.3643500000000004,
          1.5742500000000004,
          1.7841500000000003,
          1.9940500000000003
         ],
         "y": [
          63.0450555507726,
          63.48140464856224,
          69.35656270794418,
          69.34290492210269,
          69.29229758993198,
          69.27682552543897,
          69.03802001320662,
          69.081189972417,
          69.10186483413824,
          69.16144674345504
         ]
        },
        {
         "mode": "lines",
         "name": "5760 seconds",
         "type": "scatter",
         "x": [
          0.10495000000000002,
          0.3148500000000001,
          0.52475,
          0.7346500000000001,
          0.9445500000000001,
          1.1544500000000002,
          1.3643500000000004,
          1.5742500000000004,
          1.7841500000000003,
          1.9940500000000003
         ],
         "y": [
          63.040201559282046,
          63.48088324687107,
          69.48924624406361,
          69.50423598748134,
          69.47456785803955,
          69.36370705177453,
          69.30890415918606,
          69.24850360222857,
          69.28173128626088,
          69.35313553377325
         ]
        },
        {
         "mode": "lines",
         "name": "5820 seconds",
         "type": "scatter",
         "x": [
          0.10495000000000002,
          0.3148500000000001,
          0.52475,
          0.7346500000000001,
          0.9445500000000001,
          1.1544500000000002,
          1.3643500000000004,
          1.5742500000000004,
          1.7841500000000003,
          1.9940500000000003
         ],
         "y": [
          63.03537543570272,
          63.48036082375732,
          69.65396964001036,
          69.49020036666447,
          69.644450006055,
          69.58016591490215,
          69.50408322897123,
          69.47046271148272,
          69.48582161338854,
          69.5677146930574
         ]
        },
        {
         "mode": "lines",
         "name": "5880 seconds",
         "type": "scatter",
         "x": [
          0.10495000000000002,
          0.3148500000000001,
          0.52475,
          0.7346500000000001,
          0.9445500000000001,
          1.1544500000000002,
          1.3643500000000004,
          1.5742500000000004,
          1.7841500000000003,
          1.9940500000000003
         ],
         "y": [
          63.03057588834299,
          63.47984503963212,
          69.73397346246203,
          69.74337973693893,
          69.77286062913086,
          69.74825415965879,
          69.68957521802768,
          69.65531173438268,
          69.67057427411353,
          69.75568529833357
         ]
        },
        {
         "mode": "lines",
         "name": "5940 seconds",
         "type": "scatter",
         "x": [
          0.10495000000000002,
          0.3148500000000001,
          0.52475,
          0.7346500000000001,
          0.9445500000000001,
          1.1544500000000002,
          1.3643500000000004,
          1.5742500000000004,
          1.7841500000000003,
          1.9940500000000003
         ],
         "y": [
          63.025801744035554,
          63.47932021953709,
          70.04689153124455,
          69.74545326286795,
          69.7570275834356,
          69.7355215829768,
          70.04359796694324,
          70.01481144607177,
          70.03032177116543,
          69.7686633532694
         ]
        },
        {
         "mode": "lines",
         "name": "6000 seconds",
         "type": "scatter",
         "x": [
          0.10495000000000002,
          0.3148500000000001,
          0.52475,
          0.7346500000000001,
          0.9445500000000001,
          1.1544500000000002,
          1.3643500000000004,
          1.5742500000000004,
          1.7841500000000003,
          1.9940500000000003
         ],
         "y": [
          63.02105180714737,
          63.478833869491126,
          70.0644287468743,
          70.03881122884246,
          69.9205742356993,
          69.94569336424283,
          70.17542362728739,
          70.19827916322193,
          70.09886029558982,
          70.0727791451878
         ]
        }
       ],
       "layout": {
        "legend": {
         "title": {
          "text": "Time Passed"
         }
        },
        "shapes": [
         {
          "line": {
           "color": "grey",
           "dash": "dot",
           "width": 1
          },
          "type": "line",
          "x0": 0.20990000000000003,
          "x1": 0.20990000000000003,
          "xref": "x",
          "y0": 0,
          "y1": 1,
          "yref": "paper"
         },
         {
          "line": {
           "color": "grey",
           "dash": "dot",
           "width": 1
          },
          "type": "line",
          "x0": 0.41980000000000006,
          "x1": 0.41980000000000006,
          "xref": "x",
          "y0": 0,
          "y1": 1,
          "yref": "paper"
         },
         {
          "line": {
           "color": "grey",
           "dash": "dot",
           "width": 1
          },
          "type": "line",
          "x0": 0.6297000000000001,
          "x1": 0.6297000000000001,
          "xref": "x",
          "y0": 0,
          "y1": 1,
          "yref": "paper"
         },
         {
          "line": {
           "color": "grey",
           "dash": "dot",
           "width": 1
          },
          "type": "line",
          "x0": 0.8396000000000001,
          "x1": 0.8396000000000001,
          "xref": "x",
          "y0": 0,
          "y1": 1,
          "yref": "paper"
         },
         {
          "line": {
           "color": "grey",
           "dash": "dot",
           "width": 1
          },
          "type": "line",
          "x0": 1.0495,
          "x1": 1.0495,
          "xref": "x",
          "y0": 0,
          "y1": 1,
          "yref": "paper"
         },
         {
          "line": {
           "color": "grey",
           "dash": "dot",
           "width": 1
          },
          "type": "line",
          "x0": 1.2594,
          "x1": 1.2594,
          "xref": "x",
          "y0": 0,
          "y1": 1,
          "yref": "paper"
         },
         {
          "line": {
           "color": "grey",
           "dash": "dot",
           "width": 1
          },
          "type": "line",
          "x0": 1.4693000000000003,
          "x1": 1.4693000000000003,
          "xref": "x",
          "y0": 0,
          "y1": 1,
          "yref": "paper"
         },
         {
          "line": {
           "color": "grey",
           "dash": "dot",
           "width": 1
          },
          "type": "line",
          "x0": 1.6792000000000002,
          "x1": 1.6792000000000002,
          "xref": "x",
          "y0": 0,
          "y1": 1,
          "yref": "paper"
         },
         {
          "line": {
           "color": "grey",
           "dash": "dot",
           "width": 1
          },
          "type": "line",
          "x0": 1.8891000000000002,
          "x1": 1.8891000000000002,
          "xref": "x",
          "y0": 0,
          "y1": 1,
          "yref": "paper"
         }
        ],
        "template": {
         "data": {
          "bar": [
           {
            "error_x": {
             "color": "#2a3f5f"
            },
            "error_y": {
             "color": "#2a3f5f"
            },
            "marker": {
             "line": {
              "color": "#E5ECF6",
              "width": 0.5
             },
             "pattern": {
              "fillmode": "overlay",
              "size": 10,
              "solidity": 0.2
             }
            },
            "type": "bar"
           }
          ],
          "barpolar": [
           {
            "marker": {
             "line": {
              "color": "#E5ECF6",
              "width": 0.5
             },
             "pattern": {
              "fillmode": "overlay",
              "size": 10,
              "solidity": 0.2
             }
            },
            "type": "barpolar"
           }
          ],
          "carpet": [
           {
            "aaxis": {
             "endlinecolor": "#2a3f5f",
             "gridcolor": "white",
             "linecolor": "white",
             "minorgridcolor": "white",
             "startlinecolor": "#2a3f5f"
            },
            "baxis": {
             "endlinecolor": "#2a3f5f",
             "gridcolor": "white",
             "linecolor": "white",
             "minorgridcolor": "white",
             "startlinecolor": "#2a3f5f"
            },
            "type": "carpet"
           }
          ],
          "choropleth": [
           {
            "colorbar": {
             "outlinewidth": 0,
             "ticks": ""
            },
            "type": "choropleth"
           }
          ],
          "contour": [
           {
            "colorbar": {
             "outlinewidth": 0,
             "ticks": ""
            },
            "colorscale": [
             [
              0,
              "#0d0887"
             ],
             [
              0.1111111111111111,
              "#46039f"
             ],
             [
              0.2222222222222222,
              "#7201a8"
             ],
             [
              0.3333333333333333,
              "#9c179e"
             ],
             [
              0.4444444444444444,
              "#bd3786"
             ],
             [
              0.5555555555555556,
              "#d8576b"
             ],
             [
              0.6666666666666666,
              "#ed7953"
             ],
             [
              0.7777777777777778,
              "#fb9f3a"
             ],
             [
              0.8888888888888888,
              "#fdca26"
             ],
             [
              1,
              "#f0f921"
             ]
            ],
            "type": "contour"
           }
          ],
          "contourcarpet": [
           {
            "colorbar": {
             "outlinewidth": 0,
             "ticks": ""
            },
            "type": "contourcarpet"
           }
          ],
          "heatmap": [
           {
            "colorbar": {
             "outlinewidth": 0,
             "ticks": ""
            },
            "colorscale": [
             [
              0,
              "#0d0887"
             ],
             [
              0.1111111111111111,
              "#46039f"
             ],
             [
              0.2222222222222222,
              "#7201a8"
             ],
             [
              0.3333333333333333,
              "#9c179e"
             ],
             [
              0.4444444444444444,
              "#bd3786"
             ],
             [
              0.5555555555555556,
              "#d8576b"
             ],
             [
              0.6666666666666666,
              "#ed7953"
             ],
             [
              0.7777777777777778,
              "#fb9f3a"
             ],
             [
              0.8888888888888888,
              "#fdca26"
             ],
             [
              1,
              "#f0f921"
             ]
            ],
            "type": "heatmap"
           }
          ],
          "heatmapgl": [
           {
            "colorbar": {
             "outlinewidth": 0,
             "ticks": ""
            },
            "colorscale": [
             [
              0,
              "#0d0887"
             ],
             [
              0.1111111111111111,
              "#46039f"
             ],
             [
              0.2222222222222222,
              "#7201a8"
             ],
             [
              0.3333333333333333,
              "#9c179e"
             ],
             [
              0.4444444444444444,
              "#bd3786"
             ],
             [
              0.5555555555555556,
              "#d8576b"
             ],
             [
              0.6666666666666666,
              "#ed7953"
             ],
             [
              0.7777777777777778,
              "#fb9f3a"
             ],
             [
              0.8888888888888888,
              "#fdca26"
             ],
             [
              1,
              "#f0f921"
             ]
            ],
            "type": "heatmapgl"
           }
          ],
          "histogram": [
           {
            "marker": {
             "pattern": {
              "fillmode": "overlay",
              "size": 10,
              "solidity": 0.2
             }
            },
            "type": "histogram"
           }
          ],
          "histogram2d": [
           {
            "colorbar": {
             "outlinewidth": 0,
             "ticks": ""
            },
            "colorscale": [
             [
              0,
              "#0d0887"
             ],
             [
              0.1111111111111111,
              "#46039f"
             ],
             [
              0.2222222222222222,
              "#7201a8"
             ],
             [
              0.3333333333333333,
              "#9c179e"
             ],
             [
              0.4444444444444444,
              "#bd3786"
             ],
             [
              0.5555555555555556,
              "#d8576b"
             ],
             [
              0.6666666666666666,
              "#ed7953"
             ],
             [
              0.7777777777777778,
              "#fb9f3a"
             ],
             [
              0.8888888888888888,
              "#fdca26"
             ],
             [
              1,
              "#f0f921"
             ]
            ],
            "type": "histogram2d"
           }
          ],
          "histogram2dcontour": [
           {
            "colorbar": {
             "outlinewidth": 0,
             "ticks": ""
            },
            "colorscale": [
             [
              0,
              "#0d0887"
             ],
             [
              0.1111111111111111,
              "#46039f"
             ],
             [
              0.2222222222222222,
              "#7201a8"
             ],
             [
              0.3333333333333333,
              "#9c179e"
             ],
             [
              0.4444444444444444,
              "#bd3786"
             ],
             [
              0.5555555555555556,
              "#d8576b"
             ],
             [
              0.6666666666666666,
              "#ed7953"
             ],
             [
              0.7777777777777778,
              "#fb9f3a"
             ],
             [
              0.8888888888888888,
              "#fdca26"
             ],
             [
              1,
              "#f0f921"
             ]
            ],
            "type": "histogram2dcontour"
           }
          ],
          "mesh3d": [
           {
            "colorbar": {
             "outlinewidth": 0,
             "ticks": ""
            },
            "type": "mesh3d"
           }
          ],
          "parcoords": [
           {
            "line": {
             "colorbar": {
              "outlinewidth": 0,
              "ticks": ""
             }
            },
            "type": "parcoords"
           }
          ],
          "pie": [
           {
            "automargin": true,
            "type": "pie"
           }
          ],
          "scatter": [
           {
            "fillpattern": {
             "fillmode": "overlay",
             "size": 10,
             "solidity": 0.2
            },
            "type": "scatter"
           }
          ],
          "scatter3d": [
           {
            "line": {
             "colorbar": {
              "outlinewidth": 0,
              "ticks": ""
             }
            },
            "marker": {
             "colorbar": {
              "outlinewidth": 0,
              "ticks": ""
             }
            },
            "type": "scatter3d"
           }
          ],
          "scattercarpet": [
           {
            "marker": {
             "colorbar": {
              "outlinewidth": 0,
              "ticks": ""
             }
            },
            "type": "scattercarpet"
           }
          ],
          "scattergeo": [
           {
            "marker": {
             "colorbar": {
              "outlinewidth": 0,
              "ticks": ""
             }
            },
            "type": "scattergeo"
           }
          ],
          "scattergl": [
           {
            "marker": {
             "colorbar": {
              "outlinewidth": 0,
              "ticks": ""
             }
            },
            "type": "scattergl"
           }
          ],
          "scattermapbox": [
           {
            "marker": {
             "colorbar": {
              "outlinewidth": 0,
              "ticks": ""
             }
            },
            "type": "scattermapbox"
           }
          ],
          "scatterpolar": [
           {
            "marker": {
             "colorbar": {
              "outlinewidth": 0,
              "ticks": ""
             }
            },
            "type": "scatterpolar"
           }
          ],
          "scatterpolargl": [
           {
            "marker": {
             "colorbar": {
              "outlinewidth": 0,
              "ticks": ""
             }
            },
            "type": "scatterpolargl"
           }
          ],
          "scatterternary": [
           {
            "marker": {
             "colorbar": {
              "outlinewidth": 0,
              "ticks": ""
             }
            },
            "type": "scatterternary"
           }
          ],
          "surface": [
           {
            "colorbar": {
             "outlinewidth": 0,
             "ticks": ""
            },
            "colorscale": [
             [
              0,
              "#0d0887"
             ],
             [
              0.1111111111111111,
              "#46039f"
             ],
             [
              0.2222222222222222,
              "#7201a8"
             ],
             [
              0.3333333333333333,
              "#9c179e"
             ],
             [
              0.4444444444444444,
              "#bd3786"
             ],
             [
              0.5555555555555556,
              "#d8576b"
             ],
             [
              0.6666666666666666,
              "#ed7953"
             ],
             [
              0.7777777777777778,
              "#fb9f3a"
             ],
             [
              0.8888888888888888,
              "#fdca26"
             ],
             [
              1,
              "#f0f921"
             ]
            ],
            "type": "surface"
           }
          ],
          "table": [
           {
            "cells": {
             "fill": {
              "color": "#EBF0F8"
             },
             "line": {
              "color": "white"
             }
            },
            "header": {
             "fill": {
              "color": "#C8D4E3"
             },
             "line": {
              "color": "white"
             }
            },
            "type": "table"
           }
          ]
         },
         "layout": {
          "annotationdefaults": {
           "arrowcolor": "#2a3f5f",
           "arrowhead": 0,
           "arrowwidth": 1
          },
          "autotypenumbers": "strict",
          "coloraxis": {
           "colorbar": {
            "outlinewidth": 0,
            "ticks": ""
           }
          },
          "colorscale": {
           "diverging": [
            [
             0,
             "#8e0152"
            ],
            [
             0.1,
             "#c51b7d"
            ],
            [
             0.2,
             "#de77ae"
            ],
            [
             0.3,
             "#f1b6da"
            ],
            [
             0.4,
             "#fde0ef"
            ],
            [
             0.5,
             "#f7f7f7"
            ],
            [
             0.6,
             "#e6f5d0"
            ],
            [
             0.7,
             "#b8e186"
            ],
            [
             0.8,
             "#7fbc41"
            ],
            [
             0.9,
             "#4d9221"
            ],
            [
             1,
             "#276419"
            ]
           ],
           "sequential": [
            [
             0,
             "#0d0887"
            ],
            [
             0.1111111111111111,
             "#46039f"
            ],
            [
             0.2222222222222222,
             "#7201a8"
            ],
            [
             0.3333333333333333,
             "#9c179e"
            ],
            [
             0.4444444444444444,
             "#bd3786"
            ],
            [
             0.5555555555555556,
             "#d8576b"
            ],
            [
             0.6666666666666666,
             "#ed7953"
            ],
            [
             0.7777777777777778,
             "#fb9f3a"
            ],
            [
             0.8888888888888888,
             "#fdca26"
            ],
            [
             1,
             "#f0f921"
            ]
           ],
           "sequentialminus": [
            [
             0,
             "#0d0887"
            ],
            [
             0.1111111111111111,
             "#46039f"
            ],
            [
             0.2222222222222222,
             "#7201a8"
            ],
            [
             0.3333333333333333,
             "#9c179e"
            ],
            [
             0.4444444444444444,
             "#bd3786"
            ],
            [
             0.5555555555555556,
             "#d8576b"
            ],
            [
             0.6666666666666666,
             "#ed7953"
            ],
            [
             0.7777777777777778,
             "#fb9f3a"
            ],
            [
             0.8888888888888888,
             "#fdca26"
            ],
            [
             1,
             "#f0f921"
            ]
           ]
          },
          "colorway": [
           "#636efa",
           "#EF553B",
           "#00cc96",
           "#ab63fa",
           "#FFA15A",
           "#19d3f3",
           "#FF6692",
           "#B6E880",
           "#FF97FF",
           "#FECB52"
          ],
          "font": {
           "color": "#2a3f5f"
          },
          "geo": {
           "bgcolor": "white",
           "lakecolor": "white",
           "landcolor": "#E5ECF6",
           "showlakes": true,
           "showland": true,
           "subunitcolor": "white"
          },
          "hoverlabel": {
           "align": "left"
          },
          "hovermode": "closest",
          "mapbox": {
           "style": "light"
          },
          "paper_bgcolor": "white",
          "plot_bgcolor": "#E5ECF6",
          "polar": {
           "angularaxis": {
            "gridcolor": "white",
            "linecolor": "white",
            "ticks": ""
           },
           "bgcolor": "#E5ECF6",
           "radialaxis": {
            "gridcolor": "white",
            "linecolor": "white",
            "ticks": ""
           }
          },
          "scene": {
           "xaxis": {
            "backgroundcolor": "#E5ECF6",
            "gridcolor": "white",
            "gridwidth": 2,
            "linecolor": "white",
            "showbackground": true,
            "ticks": "",
            "zerolinecolor": "white"
           },
           "yaxis": {
            "backgroundcolor": "#E5ECF6",
            "gridcolor": "white",
            "gridwidth": 2,
            "linecolor": "white",
            "showbackground": true,
            "ticks": "",
            "zerolinecolor": "white"
           },
           "zaxis": {
            "backgroundcolor": "#E5ECF6",
            "gridcolor": "white",
            "gridwidth": 2,
            "linecolor": "white",
            "showbackground": true,
            "ticks": "",
            "zerolinecolor": "white"
           }
          },
          "shapedefaults": {
           "line": {
            "color": "#2a3f5f"
           }
          },
          "ternary": {
           "aaxis": {
            "gridcolor": "white",
            "linecolor": "white",
            "ticks": ""
           },
           "baxis": {
            "gridcolor": "white",
            "linecolor": "white",
            "ticks": ""
           },
           "bgcolor": "#E5ECF6",
           "caxis": {
            "gridcolor": "white",
            "linecolor": "white",
            "ticks": ""
           }
          },
          "title": {
           "x": 0.05
          },
          "xaxis": {
           "automargin": true,
           "gridcolor": "white",
           "linecolor": "white",
           "ticks": "",
           "title": {
            "standoff": 15
           },
           "zerolinecolor": "white",
           "zerolinewidth": 2
          },
          "yaxis": {
           "automargin": true,
           "gridcolor": "white",
           "linecolor": "white",
           "ticks": "",
           "title": {
            "standoff": 15
           },
           "zerolinecolor": "white",
           "zerolinewidth": 2
          }
         }
        },
        "title": {
         "text": "M4a: fast buoyancy indirect - qdot only charging"
        },
        "xaxis": {
         "range": [
          0,
          2.099
         ],
         "title": {
          "text": "Height"
         }
        },
        "yaxis": {
         "title": {
          "text": "Temperature"
         }
        }
       }
      }
     },
     "metadata": {},
     "output_type": "display_data"
    },
    {
     "data": {
      "application/vnd.plotly.v1+json": {
       "config": {
        "plotlyServerURL": "https://plot.ly"
       },
       "data": [
        {
         "mode": "lines",
         "name": "0 seconds",
         "type": "scatter",
         "x": [
          0.10495000000000002,
          0.3148500000000001,
          0.52475,
          0.7346500000000001,
          0.9445500000000001,
          1.1544500000000002,
          1.3643500000000004,
          1.5742500000000004,
          1.7841500000000003,
          1.9940500000000003
         ],
         "y": [
          100,
          90,
          80,
          70,
          60,
          50,
          40,
          30,
          20,
          10
         ]
        },
        {
         "mode": "lines",
         "name": "60 seconds",
         "type": "scatter",
         "x": [
          0.10495000000000002,
          0.3148500000000001,
          0.52475,
          0.7346500000000001,
          0.9445500000000001,
          1.1544500000000002,
          1.3643500000000004,
          1.5742500000000004,
          1.7841500000000003,
          1.9940500000000003
         ],
         "y": [
          94.99109564752546,
          89.99680031620633,
          79.99716391663743,
          69.99752751706852,
          59.99789111749962,
          49.99825471793072,
          39.99861831836182,
          29.99898191879292,
          19.999345519224022,
          15.001423710999191
         ]
        },
        {
         "mode": "lines",
         "name": "120 seconds",
         "type": "scatter",
         "x": [
          0.10495000000000002,
          0.3148500000000001,
          0.52475,
          0.7346500000000001,
          0.9445500000000001,
          1.1544500000000002,
          1.3643500000000004,
          1.5742500000000004,
          1.7841500000000003,
          1.9940500000000003
         ],
         "y": [
          92.48639239634647,
          87.48993500881323,
          79.99432793639495,
          69.99505512403664,
          59.995782311678305,
          49.99650949931998,
          39.99723668696165,
          29.99796387460332,
          22.500542842684272,
          17.500460808128114
         ]
        },
        {
         "mode": "lines",
         "name": "180 seconds",
         "type": "scatter",
         "x": [
          0.10495000000000002,
          0.3148500000000001,
          0.52475,
          0.7346500000000001,
          0.9445500000000001,
          1.1544500000000002,
          1.3643500000000004,
          1.5742500000000004,
          1.7841500000000003,
          1.9940500000000003
         ],
         "y": [
          89.9807844493232,
          86.23675484578686,
          78.7391613885157,
          69.99258282090106,
          59.99367358253326,
          49.99476434416545,
          39.99585510579765,
          31.2483691977653,
          23.748963483588874,
          20.00040208566844
         ]
        },
        {
         "mode": "lines",
         "name": "240 seconds",
         "type": "scatter",
         "x": [
          0.10495000000000002,
          0.3148500000000001,
          0.52475,
          0.7346500000000001,
          0.9445500000000001,
          1.1544500000000002,
          1.3643500000000004,
          1.5742500000000004,
          1.7841500000000003,
          1.9940500000000003
         ],
         "y": [
          88.10181623896398,
          84.3561637503923,
          78.11163025995262,
          69.36369627291327,
          59.9915649300617,
          49.993019252464855,
          40.62043405899904,
          31.871593976979934,
          25.62434062423424,
          21.874157780500994
         ]
        },
        {
         "mode": "lines",
         "name": "300 seconds",
         "type": "scatter",
         "x": [
          0.10495000000000002,
          0.3148500000000001,
          0.52475,
          0.7346500000000001,
          0.9445500000000001,
          1.1544500000000002,
          1.3643500000000004,
          1.5742500000000004,
          1.7841500000000003,
          1.9940500000000003
         ],
         "y": [
          86.22216886612335,
          83.10323192635443,
          76.85666484145023,
          69.04902413971325,
          59.67612463769561,
          50.3043789252354,
          40.93102639254928,
          33.12179859658788,
          26.87251338615841,
          23.748592285775636
         ]
        },
        {
         "mode": "lines",
         "name": "360 seconds",
         "type": "scatter",
         "x": [
          0.10495000000000002,
          0.3148500000000001,
          0.52475,
          0.7346500000000001,
          0.9445500000000001,
          1.1544500000000002,
          1.3643500000000004,
          1.5742500000000004,
          1.7841500000000003,
          1.9940500000000003
         ],
         "y": [
          84.65613652740913,
          81.53584607391835,
          76.0730958551238,
          68.26364561568049,
          59.67460465550265,
          50.301818846340225,
          41.711984220113465,
          33.900948460883,
          28.43491248782906,
          25.309639117762558
         ]
        },
        {
         "mode": "lines",
         "name": "420 seconds",
         "type": "scatter",
         "x": [
          0.10495000000000002,
          0.3148500000000001,
          0.52475,
          0.7346500000000001,
          0.9445500000000001,
          1.1544500000000002,
          1.3643500000000004,
          1.5742500000000004,
          1.7841500000000003,
          1.9940500000000003
         ],
         "y": [
          83.08953768089071,
          80.36125851607717,
          74.8965859523588,
          67.8712859012368,
          59.28047934887329,
          50.69169385481431,
          42.10009457177531,
          35.072754687536474,
          29.604798025717677,
          26.871252187124895
         ]
        },
        {
         "mode": "lines",
         "name": "480 seconds",
         "type": "scatter",
         "x": [
          0.10495000000000002,
          0.3148500000000001,
          0.52475,
          0.7346500000000001,
          0.9445500000000001,
          1.1544500000000002,
          1.3643500000000004,
          1.5742500000000004,
          1.7841500000000003,
          1.9940500000000003
         ],
         "y": [
          81.71913297998759,
          78.98966852414938,
          74.1133113880032,
          67.08582630008667,
          59.27940755917162,
          50.68851596877444,
          42.88107724978251,
          35.851553822210604,
          30.971543405228935,
          28.236813397749497
         ]
        },
        {
         "mode": "lines",
         "name": "540 seconds",
         "type": "scatter",
         "x": [
          0.10495000000000002,
          0.3148500000000001,
          0.52475,
          0.7346500000000001,
          0.9445500000000001,
          1.1544500000000002,
          1.3643500000000004,
          1.5742500000000004,
          1.7841500000000003,
          1.9940500000000003
         ],
         "y": [
          80.34823211022523,
          77.91299597229488,
          73.0346976628793,
          66.69383807571606,
          58.88493247692951,
          51.07862786090937,
          43.26870312970301,
          36.925506868580484,
          32.043556746881,
          29.602870557756447
         ]
        },
        {
         "mode": "lines",
         "name": "600 seconds",
         "type": "scatter",
         "x": [
          0.10495000000000002,
          0.3148500000000001,
          0.52475,
          0.7346500000000001,
          0.9445500000000001,
          1.1544500000000002,
          1.3643500000000004,
          1.5742500000000004,
          1.7841500000000003,
          1.9940500000000003
         ],
         "y": [
          79.12460064780923,
          76.68821893569735,
          72.30054340007415,
          65.95717090937814,
          58.884165146865755,
          51.0750325825084,
          44.00085846073978,
          37.65515058313129,
          33.263581721657175,
          30.82175093870799
         ]
        },
        {
         "mode": "lines",
         "name": "660 seconds",
         "type": "scatter",
         "x": [
          0.10495000000000002,
          0.3148500000000001,
          0.52475,
          0.7346500000000001,
          0.9445500000000001,
          1.1544500000000002,
          1.3643500000000004,
          1.5742500000000004,
          1.7841500000000003,
          1.9940500000000003
         ],
         "y": [
          77.90048252475833,
          75.70946838372906,
          71.3197499429262,
          65.58988371589146,
          58.51388707205863,
          51.440873564386635,
          44.363709269843916,
          38.631312207445966,
          34.23770167976599,
          32.04111782521482
         ]
        },
        {
         "mode": "lines",
         "name": "720 seconds",
         "type": "scatter",
         "x": [
          0.10495000000000002,
          0.3148500000000001,
          0.52475,
          0.7346500000000001,
          0.9445500000000001,
          1.1544500000000002,
          1.3643500000000004,
          1.5742500000000004,
          1.7841500000000003,
          1.9940500000000003
         ],
         "y": [
          76.7991833619411,
          74.6069989887348,
          70.64688912077608,
          64.91423872712218,
          58.513324385902095,
          51.43699967336123,
          45.034819918037584,
          39.299639747995826,
          35.33547968420734,
          33.13772643212145
         ]
        },
        {
         "mode": "lines",
         "name": "780 seconds",
         "type": "scatter",
         "x": [
          0.10495000000000002,
          0.3148500000000001,
          0.52475,
          0.7346500000000001,
          0.9445500000000001,
          1.1544500000000002,
          1.3643500000000004,
          1.5742500000000004,
          1.7841500000000003,
          1.9940500000000003
         ],
         "y": [
          75.69737657134267,
          73.72004473330627,
          69.75777042202566,
          64.57768631880705,
          58.17343008231641,
          51.7724086599441,
          45.36688758147917,
          40.18414571436515,
          36.217822223062186,
          34.234842580344505
         ]
        },
        {
         "mode": "lines",
         "name": "840 seconds",
         "type": "scatter",
         "x": [
          0.10495000000000002,
          0.3148500000000001,
          0.52475,
          0.7346500000000001,
          0.9445500000000001,
          1.1544500000000002,
          1.3643500000000004,
          1.5742500000000004,
          1.7841500000000003,
          1.9940500000000003
         ],
         "y": [
          74.70311652388791,
          72.72457108922177,
          69.14615971497831,
          63.963081524157474,
          58.173005664210265,
          51.76834821031213,
          45.97694348894095,
          40.7912083840576,
          37.20864433156223,
          35.2244517950396
         ]
        },
        {
         "mode": "lines",
         "name": "900 seconds",
         "type": "scatter",
         "x": [
          0.10495000000000002,
          0.3148500000000001,
          0.52475,
          0.7346500000000001,
          0.9445500000000001,
          1.1544500000000002,
          1.3643500000000004,
          1.5742500000000004,
          1.7841500000000003,
          1.9940500000000003
         ],
         "y": [
          73.70831960383086,
          71.92174847172788,
          68.34106581549602,
          63.65720902067803,
          57.86355021782397,
          52.073286929576554,
          46.27829971816951,
          41.5917022167732,
          38.00686770384697,
          36.21459785900392
         ]
        },
        {
         "mode": "lines",
         "name": "960 seconds",
         "type": "scatter",
         "x": [
          0.10495000000000002,
          0.3148500000000001,
          0.52475,
          0.7346500000000001,
          0.9445500000000001,
          1.1544500000000002,
          1.3643500000000004,
          1.5742500000000004,
          1.7841500000000003,
          1.9940500000000003
         ],
         "y": [
          72.80961820922407,
          71.02179363175547,
          67.7868472394313,
          63.09984549731219,
          57.863217449159094,
          52.06910336187349,
          46.8311049920526,
          42.141363217190246,
          38.90219723923456,
          37.10867454140092
         ]
        },
        {
         "mode": "lines",
         "name": "1020 seconds",
         "type": "scatter",
         "x": [
          0.10495000000000002,
          0.3148500000000001,
          0.52475,
          0.7346500000000001,
          0.9445500000000001,
          1.1544500000000002,
          1.3643500000000004,
          1.5742500000000004,
          1.7841500000000003,
          1.9940500000000003
         ],
         "y": [
          71.91035326595946,
          70.29543536034323,
          67.05813884155089,
          62.822701469755735,
          57.582332396333875,
          52.345451277654014,
          47.103712237806896,
          42.86547999015008,
          39.62396454847798,
          38.00331480252664
         ]
        },
        {
         "mode": "lines",
         "name": "1080 seconds",
         "type": "scatter",
         "x": [
          0.10495000000000002,
          0.3148500000000001,
          0.52475,
          0.7346500000000001,
          0.9445500000000001,
          1.1544500000000002,
          1.3643500000000004,
          1.5742500000000004,
          1.7841500000000003,
          1.9940500000000003
         ],
         "y": [
          71.09763949646126,
          69.48144025808178,
          66.55650443919704,
          62.317824293559276,
          57.58205609120855,
          52.34119078839704,
          47.60402518700327,
          43.36255069850628,
          40.43335165752338,
          38.8114210827266
         ]
        },
        {
         "mode": "lines",
         "name": "1140 seconds",
         "type": "scatter",
         "x": [
          0.10495000000000002,
          0.3148500000000001,
          0.52475,
          0.7346500000000001,
          0.9445500000000001,
          1.1544500000000002,
          1.3643500000000004,
          1.5742500000000004,
          1.7841500000000003,
          1.9940500000000003
         ],
         "y": [
          70.28434216078611,
          68.82435813005105,
          65.89702378836564,
          62.06698827110358,
          57.3273861471866,
          52.59131038123144,
          47.85031113678487,
          44.017445396251794,
          41.085848370357674,
          39.62011100220802
         ]
        },
        {
         "mode": "lines",
         "name": "1200 seconds",
         "type": "scatter",
         "x": [
          0.10495000000000002,
          0.3148500000000001,
          0.52475,
          0.7346500000000001,
          0.9445500000000001,
          1.1544500000000002,
          1.3643500000000004,
          1.5742500000000004,
          1.7841500000000003,
          1.9940500000000003
         ],
         "y": [
          69.54924086706725,
          68.08796150939516,
          65.44317041907206,
          61.60984008148217,
          57.32713832116346,
          52.58700816083011,
          48.30289133252096,
          44.466731195596545,
          41.81764846962768,
          40.35061620875182
         ]
        },
        {
         "mode": "lines",
         "name": "1260 seconds",
         "type": "scatter",
         "x": [
          0.10495000000000002,
          0.3148500000000001,
          0.52475,
          0.7346500000000001,
          0.9445500000000001,
          1.1544500000000002,
          1.3643500000000004,
          1.5742500000000004,
          1.7841500000000003,
          1.9940500000000003
         ],
         "y": [
          68.81354353025954,
          67.49356738828375,
          64.84635768322903,
          61.382897605794724,
          57.09632147409484,
          52.81326614961524,
          48.52527516976697,
          45.05896183404036,
          42.407460935133045,
          41.08171756556473
         ]
        },
        {
         "mode": "lines",
         "name": "1320 seconds",
         "type": "scatter",
         "x": [
          0.10495000000000002,
          0.3148500000000001,
          0.52475,
          0.7346500000000001,
          0.9445500000000001,
          1.1544500000000002,
          1.3643500000000004,
          1.5742500000000004,
          1.7841500000000003,
          1.9940500000000003
         ],
         "y": [
          68.14857774611848,
          66.82730545814377,
          64.43578510670602,
          60.969016754791184,
          57.096079273118754,
          52.80894976803286,
          48.93458570397342,
          45.464964434897055,
          43.06913399415653,
          41.74209485517411
         ]
        },
        {
         "mode": "lines",
         "name": "1380 seconds",
         "type": "scatter",
         "x": [
          0.10495000000000002,
          0.3148500000000001,
          0.52475,
          0.7346500000000001,
          0.9445500000000001,
          1.1544500000000002,
          1.3643500000000004,
          1.5742500000000004,
          1.7841500000000003,
          1.9940500000000003
         ],
         "y": [
          67.48301056048346,
          66.28961159804163,
          63.895677148392544,
          60.76370731581197,
          56.886897612303315,
          53.013567142587675,
          49.135331032418094,
          46.00049296159356,
          43.60224878977586,
          42.40307368179692
         ]
        },
        {
         "mode": "lines",
         "name": "1440 seconds",
         "type": "scatter",
         "x": [
          0.10495000000000002,
          0.3148500000000001,
          0.52475,
          0.7346500000000001,
          0.9445500000000001,
          1.1544500000000002,
          1.3643500000000004,
          1.5742500000000004,
          1.7841500000000003,
          1.9940500000000003
         ],
         "y": [
          66.88145219616528,
          65.68676790856371,
          63.524262184770905,
          60.38900263382018,
          56.88664223100825,
          53.009258491477745,
          49.50546401834112,
          46.3673365073341,
          44.20050876181222,
          43.000048646726626
         ]
        },
        {
         "mode": "lines",
         "name": "1500 seconds",
         "type": "scatter",
         "x": [
          0.10495000000000002,
          0.3148500000000001,
          0.52475,
          0.7346500000000001,
          0.9445500000000001,
          1.1544500000000002,
          1.3643500000000004,
          1.5742500000000004,
          1.7841500000000003,
          1.9940500000000003
         ],
         "y": [
          66.27929337112936,
          65.20034943005582,
          63.03545483493853,
          60.203256191025304,
          56.69706031654199,
          53.194272706131784,
          49.68664290379909,
          46.85156631412822,
          44.68235000062126,
          43.59762423698057
         ]
        },
        {
         "mode": "lines",
         "name": "1560 seconds",
         "type": "scatter",
         "x": [
          0.10495000000000002,
          0.3148500000000001,
          0.52475,
          0.7346500000000001,
          0.9445500000000001,
          1.1544500000000002,
          1.3643500000000004,
          1.5742500000000004,
          1.7841500000000003,
          1.9940500000000003
         ],
         "y": [
          65.73506952066346,
          64.65486124814308,
          62.69945087954713,
          59.86400729279474,
          56.69677633876841,
          53.1899892214409,
          50.021319344667226,
          47.18299803948715,
          45.223257998525675,
          44.137268135121076
         ]
        },
        {
         "mode": "lines",
         "name": "1620 seconds",
         "type": "scatter",
         "x": [
          0.10495000000000002,
          0.3148500000000001,
          0.52475,
          0.7346500000000001,
          0.9445500000000001,
          1.1544500000000002,
          1.3643500000000004,
          1.5742500000000004,
          1.7841500000000003,
          1.9940500000000003
         ],
         "y": [
          65.19025167305335,
          64.21480906897348,
          62.25705226005554,
          59.6959437024835,
          56.52494196643738,
          53.357253798938466,
          50.18481325602308,
          47.620820502919145,
          45.658734253943834,
          44.67750623846481
         ]
        },
        {
         "mode": "lines",
         "name": "1680 seconds",
         "type": "scatter",
         "x": [
          0.10495000000000002,
          0.3148500000000001,
          0.52475,
          0.7346500000000001,
          0.9445500000000001,
          1.1544500000000002,
          1.3643500000000004,
          1.5742500000000004,
          1.7841500000000003,
          1.9940500000000003
         ],
         "y": [
          64.69787405509243,
          63.72119742270764,
          61.953065473180565,
          59.38877802193516,
          56.52461688030328,
          53.35300931435913,
          50.48740612596774,
          47.92023465616379,
          46.147768221555005,
          45.16530624044539
         ]
        },
        {
         "mode": "lines",
         "name": "1740 seconds",
         "type": "scatter",
         "x": [
          0.10495000000000002,
          0.3148500000000001,
          0.52475,
          0.7346500000000001,
          0.9445500000000001,
          1.1544500000000002,
          1.3643500000000004,
          1.5742500000000004,
          1.7841500000000003,
          1.9940500000000003
         ],
         "y": [
          64.20491396132368,
          63.32307107979083,
          61.55264952870289,
          59.23669489478191,
          56.36885002153201,
          53.50420514797744,
          50.634918317896066,
          48.31607552127293,
          46.54131960508681,
          45.653689011938155
         ]
        },
        {
         "mode": "lines",
         "name": "1800 seconds",
         "type": "scatter",
         "x": [
          0.10495000000000002,
          0.3148500000000001,
          0.52475,
          0.7346500000000001,
          0.9445500000000001,
          1.1544500000000002,
          1.3643500000000004,
          1.5742500000000004,
          1.7841500000000003,
          1.9940500000000003
         ],
         "y": [
          63.759419855585215,
          62.87638275796314,
          61.27760918372878,
          58.95855891476971,
          56.36847380390106,
          53.50001055164,
          50.90848141100518,
          48.58654308613887,
          46.98343214685415,
          46.09460704543829
         ]
        },
        {
         "mode": "lines",
         "name": "1860 seconds",
         "type": "scatter",
         "x": [
          0.10495000000000002,
          0.3148500000000001,
          0.52475,
          0.7346500000000001,
          0.9445500000000001,
          1.1544500000000002,
          1.3643500000000004,
          1.5742500000000004,
          1.7841500000000003,
          1.9940500000000003
         ],
         "y": [
          63.3133599316295,
          62.51616604771974,
          60.9151722939027,
          58.82091658863663,
          56.22725254356994,
          53.636660127318216,
          51.041552106803735,
          48.944405808330366,
          47.33907459272213,
          46.53609137116348
         ]
        },
        {
         "mode": "lines",
         "name": "1920 seconds",
         "type": "scatter",
         "x": [
          0.10495000000000002,
          0.3148500000000001,
          0.52475,
          0.7346500000000001,
          0.9445500000000001,
          1.1544500000000002,
          1.3643500000000004,
          1.5742500000000004,
          1.7841500000000003,
          1.9940500000000003
         ],
         "y": [
          62.91026022518032,
          62.11192316574389,
          60.66630109083692,
          58.56904711105285,
          56.22681726346538,
          53.63252391616653,
          51.288848823954176,
          49.18870423083704,
          47.7387433167488,
          46.93461591058081
         ]
        },
        {
         "mode": "lines",
         "name": "1980 seconds",
         "type": "scatter",
         "x": [
          0.10495000000000002,
          0.3148500000000001,
          0.52475,
          0.7346500000000001,
          0.9445500000000001,
          1.1544500000000002,
          1.3643500000000004,
          1.5742500000000004,
          1.7841500000000003,
          1.9940500000000003
         ],
         "y": [
          62.50661734727316,
          61.78598331214344,
          60.33822249229746,
          58.44445361594428,
          56.098763706723396,
          53.75600551303102,
          51.40887034966911,
          49.51220953706408,
          48.0601093512017,
          47.3336844599369
         ]
        },
        {
         "mode": "lines",
         "name": "2040 seconds",
         "type": "scatter",
         "x": [
          0.10495000000000002,
          0.3148500000000001,
          0.52475,
          0.7346500000000001,
          0.9445500000000001,
          1.1544500000000002,
          1.3643500000000004,
          1.5742500000000004,
          1.7841500000000003,
          1.9940500000000003
         ],
         "y": [
          62.14184988891436,
          61.42013857894699,
          60.11300863001542,
          58.21635092213479,
          56.09826311401638,
          53.751934307337244,
          51.6324005833669,
          49.732850671487995,
          48.421381566661694,
          47.69387704100358
         ]
        },
        {
         "mode": "lines",
         "name": "2100 seconds",
         "type": "scatter",
         "x": [
          0.10495000000000002,
          0.3148500000000001,
          0.52475,
          0.7346500000000001,
          0.9445500000000001,
          1.1544500000000002,
          1.3643500000000004,
          1.5742500000000004,
          1.7841500000000003,
          1.9940500000000003
         ],
         "y": [
          61.77656971850485,
          61.12518891980319,
          59.81601464891106,
          58.103547816656125,
          55.9821302187081,
          53.86349523948891,
          51.74063159204863,
          50.025272333401816,
          48.71175756408911,
          48.05458385874017
         ]
        },
        {
         "mode": "lines",
         "name": "2160 seconds",
         "type": "scatter",
         "x": [
          0.10495000000000002,
          0.3148500000000001,
          0.52475,
          0.7346500000000001,
          0.9445500000000001,
          1.1544500000000002,
          1.3643500000000004,
          1.5742500000000004,
          1.7841500000000003,
          1.9940500000000003
         ],
         "y": [
          61.44645716228375,
          60.79408558411742,
          59.612186090562055,
          57.89695119701077,
          55.981559288754404,
          53.85949430567602,
          51.94265623678825,
          50.224528178388226,
          49.038290333452686,
          48.380121127562724
         ]
        },
        {
         "mode": "lines",
         "name": "2220 seconds",
         "type": "scatter",
         "x": [
          0.10495000000000002,
          0.3148500000000001,
          0.52475,
          0.7346500000000001,
          0.9445500000000001,
          1.1544500000000002,
          1.3643500000000004,
          1.5742500000000004,
          1.7841500000000003,
          1.9940500000000003
         ],
         "y": [
          61.115873045938706,
          60.52715157371892,
          59.34331793296076,
          57.79480047866695,
          55.876218887176734,
          53.960262954131615,
          52.040234832675544,
          50.488825243465804,
          49.30065045928375,
          48.70613267862987
         ]
        },
        {
         "mode": "lines",
         "name": "2280 seconds",
         "type": "scatter",
         "x": [
          0.10495000000000002,
          0.3148500000000001,
          0.52475,
          0.7346500000000001,
          0.9445500000000001,
          1.1544500000000002,
          1.3643500000000004,
          1.5742500000000004,
          1.7841500000000003,
          1.9940500000000003
         ],
         "y": [
          60.81708478179079,
          60.227487295754145,
          59.158818862744646,
          57.60766613850317,
          55.8755732968082,
          53.956336772866436,
          52.22279791675504,
          50.668751475107655,
          49.59574673849366,
          49.00034437755621
         ]
        },
        {
         "mode": "lines",
         "name": "2340 seconds",
         "type": "scatter",
         "x": [
          0.10495000000000002,
          0.3148500000000001,
          0.52475,
          0.7346500000000001,
          0.9445500000000001,
          1.1544500000000002,
          1.3643500000000004,
          1.5742500000000004,
          1.7841500000000003,
          1.9940500000000003
         ],
         "y": [
          60.517880629363674,
          59.985875608787495,
          58.91540362142547,
          57.51513821420605,
          55.78000532923933,
          54.047333392926845,
          52.31075370171703,
          50.907597289694955,
          49.83278379716393,
          49.29497662936636
         ]
        },
        {
         "mode": "lines",
         "name": "2400 seconds",
         "type": "scatter",
         "x": [
          0.10495000000000002,
          0.3148500000000001,
          0.52475,
          0.7346500000000001,
          0.9445500000000001,
          1.1544500000000002,
          1.3643500000000004,
          1.5742500000000004,
          1.7841500000000003,
          1.9940500000000003
         ],
         "y": [
          60.24739858313509,
          59.71466960073899,
          58.74837297300715,
          57.345619401233954,
          55.77928084952533,
          54.04348629527537,
          52.475702295429606,
          51.0700547171379,
          50.09942529944206,
          49.56087974406127
         ]
        },
        {
         "mode": "lines",
         "name": "2460 seconds",
         "type": "scatter",
         "x": [
          0.10495000000000002,
          0.3148500000000001,
          0.52475,
          0.7346500000000001,
          0.9445500000000001,
          1.1544500000000002,
          1.3643500000000004,
          1.5742500000000004,
          1.7841500000000003,
          1.9940500000000003
         ],
         "y": [
          59.97657525657411,
          59.49594015768953,
          58.527997486732474,
          57.2617820493269,
          55.692563744987204,
          54.12563266808592,
          52.554967413352756,
          51.28586309669462,
          50.313578674815794,
          49.827131743612014
         ]
        },
        {
         "mode": "lines",
         "name": "2520 seconds",
         "type": "scatter",
         "x": [
          0.10495000000000002,
          0.3148500000000001,
          0.52475,
          0.7346500000000001,
          0.9445500000000001,
          1.1544500000000002,
          1.3643500000000004,
          1.5742500000000004,
          1.7841500000000003,
          1.9940500000000003
         ],
         "y": [
          59.731663395500284,
          59.25050301774841,
          58.37674940720474,
          57.108211200179746,
          55.69175554936348,
          54.121869546744115,
          52.703969514202896,
          51.43253718336113,
          50.55445601438265,
          50.06746098356142
         ]
        },
        {
         "mode": "lines",
         "name": "2580 seconds",
         "type": "scatter",
         "x": [
          0.10495000000000002,
          0.3148500000000001,
          0.52475,
          0.7346500000000001,
          0.9445500000000001,
          1.1544500000000002,
          1.3643500000000004,
          1.5742500000000004,
          1.7841500000000003,
          1.9940500000000003
         ],
         "y": [
          59.486508199304765,
          59.05244378465462,
          58.17723662037944,
          57.032219450639985,
          55.6130576602112,
          54.19599757038492,
          52.775388772904186,
          51.627486072948905,
          50.7479368599408,
          50.30804532910102
         ]
        },
        {
         "mode": "lines",
         "name": "2640 seconds",
         "type": "scatter",
         "x": [
          0.10495000000000002,
          0.3148500000000001,
          0.52475,
          0.7346500000000001,
          0.9445500000000001,
          1.1544500000000002,
          1.3643500000000004,
          1.5742500000000004,
          1.7841500000000003,
          1.9940500000000003
         ],
         "y": [
          59.264685544624406,
          58.830349562476876,
          58.040242738575,
          56.89309215663859,
          55.61215955457415,
          54.19232466347289,
          52.90994936475673,
          51.75990466238907,
          50.96547742330411,
          50.52528014528382
         ]
        },
        {
         "mode": "lines",
         "name": "2700 seconds",
         "type": "scatter",
         "x": [
          0.10495000000000002,
          0.3148500000000001,
          0.52475,
          0.7346500000000001,
          0.9445500000000001,
          1.1544500000000002,
          1.3643500000000004,
          1.5742500000000004,
          1.7841500000000003,
          1.9940500000000003
         ],
         "y": [
          59.04274445060787,
          58.650953992148814,
          57.85963023615949,
          56.82417901604753,
          55.54073155451257,
          54.25918397471044,
          52.974289514629746,
          51.935957603761594,
          51.14029124526507,
          50.742650711828404
         ]
        },
        {
         "mode": "lines",
         "name": "2760 seconds",
         "type": "scatter",
         "x": [
          0.10495000000000002,
          0.3148500000000001,
          0.52475,
          0.7346500000000001,
          0.9445500000000001,
          1.1544500000000002,
          1.3643500000000004,
          1.5742500000000004,
          1.7841500000000003,
          1.9940500000000003
         ],
         "y": [
          58.841761314798106,
          58.45001416518254,
          57.7355036036198,
          56.69813963608732,
          55.53973512726476,
          54.2556097274066,
          53.09576496985025,
          52.05550698953324,
          51.33668510357961,
          50.93903913324714
         ]
        },
        {
         "mode": "lines",
         "name": "2820 seconds",
         "type": "scatter",
         "x": [
          0.10495000000000002,
          0.3148500000000001,
          0.52475,
          0.7346500000000001,
          0.9445500000000001,
          1.1544500000000002,
          1.3643500000000004,
          1.5742500000000004,
          1.7841500000000003,
          1.9940500000000003
         ],
         "y": [
          58.64081360357623,
          58.28746114335413,
          57.57202402073408,
          56.635607568955486,
          55.474903310952726,
          54.31587441634786,
          53.153723232878505,
          52.21443268733434,
          51.49465188083293,
          51.13541636461444
         ]
        },
        {
         "mode": "lines",
         "name": "2880 seconds",
         "type": "scatter",
         "x": [
          0.10495000000000002,
          0.3148500000000001,
          0.52475,
          0.7346500000000001,
          0.9445500000000001,
          1.1544500000000002,
          1.3643500000000004,
          1.5742500000000004,
          1.7841500000000003,
          1.9940500000000003
         ],
         "y": [
          58.45863067828927,
          58.10570032599323,
          57.45950458776625,
          56.52143634977205,
          55.47379696828389,
          54.312410457891495,
          53.26333419443607,
          52.322372171034246,
          51.671875923236,
          51.31299601913806
         ]
        },
        {
         "mode": "lines",
         "name": "2940 seconds",
         "type": "scatter",
         "x": [
          0.10495000000000002,
          0.3148500000000001,
          0.52475,
          0.7346500000000001,
          0.9445500000000001,
          1.1544500000000002,
          1.3643500000000004,
          1.5742500000000004,
          1.7841500000000003,
          1.9940500000000003
         ],
         "y": [
          58.27666574733723,
          57.95833647043532,
          57.311567604428696,
          56.46464939736617,
          55.414957435765885,
          54.36668489278043,
          53.31554616678841,
          52.46576244065273,
          51.814647917472065,
          51.49039003740791
         ]
        },
        {
         "mode": "lines",
         "name": "3000 seconds",
         "type": "scatter",
         "x": [
          0.10495000000000002,
          0.3148500000000001,
          0.52475,
          0.7346500000000001,
          0.9445500000000001,
          1.1544500000000002,
          1.3643500000000004,
          1.5742500000000004,
          1.7841500000000003,
          1.9940500000000003
         ],
         "y": [
          58.111435605826536,
          57.793969792956666,
          57.20950909706288,
          56.36125097551226,
          55.41372523739708,
          54.36334721605613,
          53.41438903322224,
          52.563237516796875,
          51.97448827969691,
          51.65100677769302
         ]
        },
        {
         "mode": "lines",
         "name": "3060 seconds",
         "type": "scatter",
         "x": [
          0.10495000000000002,
          0.3148500000000001,
          0.52475,
          0.7346500000000001,
          0.9445500000000001,
          1.1544500000000002,
          1.3643500000000004,
          1.5742500000000004,
          1.7841500000000003,
          1.9940500000000003
         ],
         "y": [
          57.946631774594266,
          57.66029393180749,
          57.07568472691379,
          56.309627367449686,
          55.360338985030936,
          54.41217095689494,
          53.46143610951687,
          52.692523899830604,
          52.10356570263899,
          51.81123848793794
         ]
        },
        {
         "mode": "lines",
         "name": "3120 seconds",
         "type": "scatter",
         "x": [
          0.10495000000000002,
          0.3148500000000001,
          0.52475,
          0.7346500000000001,
          0.9445500000000001,
          1.1544500000000002,
          1.3643500000000004,
          1.5742500000000004,
          1.7841500000000003,
          1.9940500000000003
         ],
         "y": [
          57.79668233853036,
          57.5117060966954,
          56.9830428221453,
          56.21602050111576,
          55.35895915824117,
          54.40898142471028,
          53.55049327119431,
          52.7805781720461,
          52.247638503084715,
          51.956563052408015
         ]
        },
        {
         "mode": "lines",
         "name": "3180 seconds",
         "type": "scatter",
         "x": [
          0.10495000000000002,
          0.3148500000000001,
          0.52475,
          0.7346500000000001,
          0.9445500000000001,
          1.1544500000000002,
          1.3643500000000004,
          1.5742500000000004,
          1.7841500000000003,
          1.9940500000000003
         ],
         "y": [
          57.647387559152406,
          57.390355728188524,
          56.86204570087695,
          56.1690256323304,
          55.310548090038075,
          54.4528332112958,
          53.59290972027914,
          52.897047511892254,
          52.364383222719255,
          52.10128334988426
         ]
        },
        {
         "mode": "lines",
         "name": "3240 seconds",
         "type": "scatter",
         "x": [
          0.10495000000000002,
          0.3148500000000001,
          0.52475,
          0.7346500000000001,
          0.9445500000000001,
          1.1544500000000002,
          1.3643500000000004,
          1.5742500000000004,
          1.7841500000000003,
          1.9940500000000003
         ],
         "y": [
          57.51120711443529,
          57.25608177666056,
          56.777867469697966,
          56.08433393035284,
          55.30899112808428,
          54.44982148443609,
          53.67305877506727,
          52.976633369494714,
          52.49415359937097,
          52.232826452712615
         ]
        },
        {
         "mode": "lines",
         "name": "3300 seconds",
         "type": "scatter",
         "x": [
          0.10495000000000002,
          0.3148500000000001,
          0.52475,
          0.7346500000000001,
          0.9445500000000001,
          1.1544500000000002,
          1.3643500000000004,
          1.5742500000000004,
          1.7841500000000003,
          1.9940500000000003
         ],
         "y": [
          57.37592155234077,
          57.145821290916025,
          56.668541856239884,
          56.04147368151862,
          55.26513490062606,
          54.48912238351824,
          53.711338490960784,
          53.081442638076226,
          52.599801080680024,
          52.36353358837605
         ]
        },
        {
         "mode": "lines",
         "name": "3360 seconds",
         "type": "scatter",
         "x": [
          0.10495000000000002,
          0.3148500000000001,
          0.52475,
          0.7346500000000001,
          0.9445500000000001,
          1.1544500000000002,
          1.3643500000000004,
          1.5742500000000004,
          1.7841500000000003,
          1.9940500000000003
         ],
         "y": [
          57.25214496933855,
          57.024529102850295,
          56.5919565536171,
          55.964916960301345,
          55.26336130537076,
          54.48632821101705,
          53.78336080359815,
          53.15343060817166,
          52.71660053507691,
          52.4826597640839
         ]
        },
        {
         "mode": "lines",
         "name": "3420 seconds",
         "type": "scatter",
         "x": [
          0.10495000000000002,
          0.3148500000000001,
          0.52475,
          0.7346500000000001,
          0.9445500000000001,
          1.1544500000000002,
          1.3643500000000004,
          1.5742500000000004,
          1.7841500000000003,
          1.9940500000000003
         ],
         "y": [
          57.12950543775355,
          56.92423953440872,
          56.49326177936899,
          55.92573156133624,
          55.223694691394385,
          54.52144423350955,
          53.817963532658375,
          53.24762126082555,
          52.812270218102746,
          52.60071490390035
         ]
        },
        {
         "mode": "lines",
         "name": "3480 seconds",
         "type": "scatter",
         "x": [
          0.10495000000000002,
          0.3148500000000001,
          0.52475,
          0.7346500000000001,
          0.9445500000000001,
          1.1544500000000002,
          1.3643500000000004,
          1.5742500000000004,
          1.7841500000000003,
          1.9940500000000003
         ],
         "y": [
          57.016901341973856,
          56.81471405636367,
          56.42347318515707,
          55.85661728304526,
          55.221652734355175,
          54.518919730035755,
          53.88255268128115,
          53.312807820286075,
          52.91731230019966,
          52.70865534775869
         ]
        },
        {
         "mode": "lines",
         "name": "3540 seconds",
         "type": "scatter",
         "x": [
          0.10495000000000002,
          0.3148500000000001,
          0.52475,
          0.7346500000000001,
          0.9445500000000001,
          1.1544500000000002,
          1.3643500000000004,
          1.5742500000000004,
          1.7841500000000003,
          1.9940500000000003
         ],
         "y": [
          56.90566755687943,
          56.72338413957489,
          56.33446932135483,
          55.82067624128046,
          55.18586283750246,
          54.550164580905985,
          53.91390920214761,
          53.39731993087027,
          53.00401661485329,
          52.81529637232597
         ]
        },
        {
         "mode": "lines",
         "name": "3600 seconds",
         "type": "scatter",
         "x": [
          0.10495000000000002,
          0.3148500000000001,
          0.52475,
          0.7346500000000001,
          0.9445500000000001,
          1.1544500000000002,
          1.3643500000000004,
          1.5742500000000004,
          1.7841500000000003,
          1.9940500000000003
         ],
         "y": [
          56.80312629131417,
          56.624513305305854,
          56.27074993523802,
          55.75839030412987,
          55.18348716438775,
          54.54797566381805,
          53.971680043656605,
          53.45643345544523,
          53.09841100781697,
          52.91316093140107
         ]
        },
        {
         "mode": "lines",
         "name": "3660 seconds",
         "type": "scatter",
         "x": [
          0.10495000000000002,
          0.3148500000000001,
          0.52475,
          0.7346500000000001,
          0.9445500000000001,
          1.1544500000000002,
          1.3643500000000004,
          1.5742500000000004,
          1.7841500000000003,
          1.9940500000000003
         ],
         "y": [
          56.70216887114874,
          56.54123162113913,
          56.19058349901326,
          55.7252892624972,
          55.15130940310134,
          54.57561470329129,
          54.00019542704488,
          53.53211984305974,
          53.17706321334754,
          53.009514554104534
         ]
        },
        {
         "mode": "lines",
         "name": "3720 seconds",
         "type": "scatter",
         "x": [
          0.10495000000000002,
          0.3148500000000001,
          0.52475,
          0.7346500000000001,
          0.9445500000000001,
          1.1544500000000002,
          1.3643500000000004,
          1.5742500000000004,
          1.7841500000000003,
          1.9940500000000003
         ],
         "y": [
          56.608691177879464,
          56.45199391474532,
          56.132270909078805,
          55.66928529214529,
          55.148521782804885,
          54.57384038372129,
          54.05169464534187,
          53.58582434496534,
          53.261828282867626,
          53.09830294731707
         ]
        },
        {
         "mode": "lines",
         "name": "3780 seconds",
         "type": "scatter",
         "x": [
          0.10495000000000002,
          0.3148500000000001,
          0.52475,
          0.7346500000000001,
          0.9445500000000001,
          1.1544500000000002,
          1.3643500000000004,
          1.5742500000000004,
          1.7841500000000003,
          1.9940500000000003
         ],
         "y": [
          56.51698126507107,
          56.37594193008236,
          56.060160521327774,
          55.63864590070951,
          55.11973322613241,
          54.59809721863229,
          54.07774849279055,
          53.65346481898514,
          53.33324931648721,
          53.18539526454252
         ]
        },
        {
         "mode": "lines",
         "name": "3840 seconds",
         "type": "scatter",
         "x": [
          0.10495000000000002,
          0.3148500000000001,
          0.52475,
          0.7346500000000001,
          0.9445500000000001,
          1.1544500000000002,
          1.3643500000000004,
          1.5742500000000004,
          1.7841500000000003,
          1.9940500000000003
         ],
         "y": [
          56.43166767809264,
          56.29539556246193,
          56.00665613046887,
          55.58843224292051,
          55.11644703278495,
          54.5968251497778,
          54.12346745762267,
          53.70236125105643,
          53.40932315725058,
          53.26600755450373
         ]
        },
        {
         "mode": "lines",
         "name": "3900 seconds",
         "type": "scatter",
         "x": [
          0.10495000000000002,
          0.3148500000000001,
          0.52475,
          0.7346500000000001,
          0.9445500000000001,
          1.1544500000000002,
          1.3643500000000004,
          1.5742500000000004,
          1.7841500000000003,
          1.9940500000000003
         ],
         "y": [
          56.34826802606167,
          56.22584134186236,
          55.94187823223818,
          55.55990601398459,
          55.09085564812238,
          54.6178923051307,
          54.14741011772832,
          53.76267691101832,
          53.474247709500645,
          53.34477316458525
         ]
        },
        {
         "mode": "lines",
         "name": "3960 seconds",
         "type": "scatter",
         "x": [
          0.10495000000000002,
          0.3148500000000001,
          0.52475,
          0.7346500000000001,
          0.9445500000000001,
          1.1544500000000002,
          1.3643500000000004,
          1.5742500000000004,
          1.7841500000000003,
          1.9940500000000003
         ],
         "y": [
          56.27030899886899,
          56.15311508192168,
          55.89264816908228,
          55.51503001829026,
          55.086985456159546,
          54.61720919473753,
          54.18780050834685,
          53.80730216926617,
          53.54249763721556,
          53.4180194784119
         ]
        },
        {
         "mode": "lines",
         "name": "4020 seconds",
         "type": "scatter",
         "x": [
          0.10495000000000002,
          0.3148500000000001,
          0.52475,
          0.7346500000000001,
          0.9445500000000001,
          1.1544500000000002,
          1.3643500000000004,
          1.5742500000000004,
          1.7841500000000003,
          1.9940500000000003
         ],
         "y": [
          56.194366357594475,
          56.089407370943604,
          55.83452327124283,
          55.48830647101101,
          55.06441442855868,
          54.63526372611078,
          54.20994492018813,
          53.86096932329879,
          53.601579767182905,
          53.48930930966958
         ]
        },
        {
         "mode": "lines",
         "name": "4080 seconds",
         "type": "scatter",
         "x": [
          0.10495000000000002,
          0.3148500000000001,
          0.52475,
          0.7346500000000001,
          0.9445500000000001,
          1.1544500000000002,
          1.3643500000000004,
          1.5742500000000004,
          1.7841500000000003,
          1.9940500000000003
         ],
         "y": [
          56.12303314510241,
          56.02369319173077,
          55.78910069832776,
          55.44833656040005,
          55.059891059953735,
          54.635240256365975,
          54.245436673094595,
          53.90179370123553,
          53.66281006964694,
          53.55591881278917
         ]
        },
        {
         "mode": "lines",
         "name": "4140 seconds",
         "type": "scatter",
         "x": [
          0.10495000000000002,
          0.3148500000000001,
          0.52475,
          0.7346500000000001,
          0.9445500000000001,
          1.1544500000000002,
          1.3643500000000004,
          1.5742500000000004,
          1.7841500000000003,
          1.9940500000000003
         ],
         "y": [
          56.05377178556918,
          55.9652554364599,
          55.73698120714698,
          55.42315461752826,
          55.04015884454195,
          54.65046366938791,
          54.26604682625328,
          53.94945638005658,
          53.71662882565038,
          53.62050679063449
         ]
        },
        {
         "mode": "lines",
         "name": "4200 seconds",
         "type": "scatter",
         "x": [
          0.10495000000000002,
          0.3148500000000001,
          0.52475,
          0.7346500000000001,
          0.9445500000000001,
          1.1544500000000002,
          1.3643500000000004,
          1.5742500000000004,
          1.7841500000000003,
          1.9940500000000003
         ],
         "y": [
          55.98840807181956,
          55.905803259983536,
          55.694968445177174,
          55.387662108057135,
          55.034948162976235,
          54.65113561151763,
          54.29706649118003,
          53.986881048315105,
          53.77158644281813,
          53.68113594594426
         ]
        },
        {
         "mode": "lines",
         "name": "4260 seconds",
         "type": "scatter",
         "x": [
          0.10495000000000002,
          0.3148500000000001,
          0.52475,
          0.7346500000000001,
          0.9445500000000001,
          1.1544500000000002,
          1.3643500000000004,
          1.5742500000000004,
          1.7841500000000003,
          1.9940500000000003
         ],
         "y": [
          55.9251242962616,
          55.85212700870877,
          55.64822974763501,
          55.36382184454424,
          55.01784732054175,
          54.66373506452049,
          54.31634537299326,
          54.02916041163147,
          53.820652094988255,
          53.73972462255878
         ]
        },
        {
         "mode": "lines",
         "name": "4320 seconds",
         "type": "scatter",
         "x": [
          0.10495000000000002,
          0.3148500000000001,
          0.52475,
          0.7346500000000001,
          0.9445500000000001,
          1.1544500000000002,
          1.3643500000000004,
          1.5742500000000004,
          1.7841500000000003,
          1.9940500000000003
         ],
         "y": [
          55.86513853305155,
          55.79824186077132,
          55.609297939867204,
          55.3323661884991,
          55.01196835268127,
          54.6650849998945,
          54.34333121693189,
          54.06351724032893,
          53.87002984787814,
          53.7949647917234
         ]
        },
        {
         "mode": "lines",
         "name": "4380 seconds",
         "type": "scatter",
         "x": [
          0.10495000000000002,
          0.3148500000000001,
          0.52475,
          0.7346500000000001,
          0.9445500000000001,
          1.1544500000000002,
          1.3643500000000004,
          1.5742500000000004,
          1.7841500000000003,
          1.9940500000000003
         ],
         "y": [
          55.80719600054493,
          55.74887902684073,
          55.567334783353886,
          55.30973631318331,
          54.997248804821815,
          54.67531016274987,
          54.361412885742745,
          54.10101576269645,
          53.91479132835824,
          53.84819008291939
         ]
        },
        {
         "mode": "lines",
         "name": "4440 seconds",
         "type": "scatter",
         "x": [
          0.10495000000000002,
          0.3148500000000001,
          0.52475,
          0.7346500000000001,
          0.9445500000000001,
          1.1544500000000002,
          1.3643500000000004,
          1.5742500000000004,
          1.7841500000000003,
          1.9940500000000003
         ],
         "y": [
          55.75205442719697,
          55.69992070714279,
          55.53121872696296,
          55.281858507365456,
          54.990784539423984,
          54.677256475772595,
          54.38482195094912,
          54.132571965653945,
          53.95922850527586,
          53.898574516386034
         ]
        },
        {
         "mode": "lines",
         "name": "4500 seconds",
         "type": "scatter",
         "x": [
          0.10495000000000002,
          0.3148500000000001,
          0.52475,
          0.7346500000000001,
          0.9445500000000001,
          1.1544500000000002,
          1.3643500000000004,
          1.5742500000000004,
          1.7841500000000003,
          1.9940500000000003
         ],
         "y": [
          55.69888007044686,
          55.65447450204045,
          55.49344845051809,
          55.26037455822782,
          54.97814812938487,
          54.68540513618501,
          54.40177284914724,
          54.16587070367111,
          54.00008233276326,
          53.947009753326604
         ]
        },
        {
         "mode": "lines",
         "name": "4560 seconds",
         "type": "scatter",
         "x": [
          0.10495000000000002,
          0.3148500000000001,
          0.52475,
          0.7346500000000001,
          0.9445500000000001,
          1.1544500000000002,
          1.3643500000000004,
          1.5742500000000004,
          1.7841500000000003,
          1.9940500000000003
         ],
         "y": [
          55.648100433382865,
          55.60985935039527,
          55.45993524382622,
          55.2356026371971,
          54.97124242831083,
          54.68780489399321,
          54.42207591475075,
          54.194839813960726,
          54.0401629693064,
          53.99301995618023
         ]
        },
        {
         "mode": "lines",
         "name": "4620 seconds",
         "type": "scatter",
         "x": [
          0.10495000000000002,
          0.3148500000000001,
          0.52475,
          0.7346500000000001,
          0.9445500000000001,
          1.1544500000000002,
          1.3643500000000004,
          1.5742500000000004,
          1.7841500000000003,
          1.9940500000000003
         ],
         "y": [
          55.599180669331766,
          55.567974348102865,
          55.42580774022143,
          55.21525294412878,
          54.96035376759294,
          54.69421227324533,
          54.43790852740188,
          54.224488705438226,
          54.07746326426812,
          54.03717955017625
         ]
        },
        {
         "mode": "lines",
         "name": "4680 seconds",
         "type": "scatter",
         "x": [
          0.10495000000000002,
          0.3148500000000001,
          0.52475,
          0.7346500000000001,
          0.9445500000000001,
          1.1544500000000002,
          1.3643500000000004,
          1.5742500000000004,
          1.7841500000000003,
          1.9940500000000003
         ],
         "y": [
          55.55232672631445,
          55.52717795070063,
          55.394720125947686,
          55.19312000149308,
          54.95319165606846,
          54.69688079756938,
          54.455572357297775,
          54.25104715761115,
          54.113713231894266,
          54.079250926273346
         ]
        },
        {
         "mode": "lines",
         "name": "4740 seconds",
         "type": "scatter",
         "x": [
          0.10495000000000002,
          0.3148500000000001,
          0.52475,
          0.7346500000000001,
          0.9445500000000001,
          1.1544500000000002,
          1.3643500000000004,
          1.5742500000000004,
          1.7841500000000003,
          1.9940500000000003
         ],
         "y": [
          55.507203622735474,
          55.48853049295824,
          55.36373185658881,
          55.17392107781539,
          54.94370457190705,
          54.70189318760939,
          54.47026971819904,
          54.27755090777404,
          54.147781620802746,
          54.119594009431474
         ]
        },
        {
         "mode": "lines",
         "name": "4800 seconds",
         "type": "scatter",
         "x": [
          0.10495000000000002,
          0.3148500000000001,
          0.52475,
          0.7346500000000001,
          0.9445500000000001,
          1.1544500000000002,
          1.3643500000000004,
          1.5742500000000004,
          1.7841500000000003,
          1.9940500000000003
         ],
         "y": [
          55.46388054062597,
          55.45108958941641,
          55.33490978729459,
          55.15399101345669,
          54.936480109422725,
          54.704636179848634,
          54.485731265302306,
          54.30185676659178,
          54.180666301564024,
          54.158120640215536
         ]
        },
        {
         "mode": "lines",
         "name": "4860 seconds",
         "type": "scatter",
         "x": [
          0.10495000000000002,
          0.3148500000000001,
          0.52475,
          0.7346500000000001,
          0.9445500000000001,
          1.1544500000000002,
          1.3643500000000004,
          1.5742500000000004,
          1.7841500000000003,
          1.9940500000000003
         ],
         "y": [
          55.422147657190955,
          55.41538013152313,
          55.30661699621615,
          55.13595925327171,
          54.92807172306032,
          54.70857682503439,
          54.499275502520085,
          54.325661184283014,
          54.21180003139686,
          54.19505501095066
         ]
        },
        {
         "mode": "lines",
         "name": "4920 seconds",
         "type": "scatter",
         "x": [
          0.10495000000000002,
          0.3148500000000001,
          0.52475,
          0.7346500000000001,
          0.9445500000000001,
          1.1544500000000002,
          1.3643500000000004,
          1.5742500000000004,
          1.7841500000000003,
          1.9940500000000003
         ],
         "y": [
          55.38199833942082,
          55.38089202672054,
          55.279902443356285,
          55.11785127646105,
          54.920954147228144,
          54.71122436213173,
          54.51291704297681,
          54.34786990969259,
          54.24172439964343,
          54.230393483350454
         ]
        },
        {
         "mode": "lines",
         "name": "4980 seconds",
         "type": "scatter",
         "x": [
          0.10495000000000002,
          0.3148500000000001,
          0.52475,
          0.7346500000000001,
          0.9445500000000001,
          1.1544500000000002,
          1.3643500000000004,
          1.5742500000000004,
          1.7841500000000003,
          1.9940500000000003
         ],
         "y": [
          55.34329613814136,
          55.34784065098292,
          55.253928524967364,
          55.10098033752081,
          54.913354209223506,
          54.71436397543146,
          54.52531249334485,
          54.36935390737984,
          54.27020128672013,
          54.26428001701596
         ]
        },
        {
         "mode": "lines",
         "name": "5040 seconds",
         "type": "scatter",
         "x": [
          0.10495000000000002,
          0.3148500000000001,
          0.52475,
          0.7346500000000001,
          0.9445500000000001,
          1.1544500000000002,
          1.3643500000000004,
          1.5742500000000004,
          1.7841500000000003,
          1.9940500000000003
         ],
         "y": [
          55.30599835627773,
          55.315959307676714,
          55.22915758087021,
          55.08438331825883,
          54.906464484895814,
          54.71679418507729,
          54.53744676002453,
          54.38962688400556,
          54.297513386184704,
          54.29675238154377
         ]
        },
        {
         "mode": "lines",
         "name": "5100 seconds",
         "type": "scatter",
         "x": [
          0.10495000000000002,
          0.3148500000000001,
          0.52475,
          0.7346500000000001,
          0.9445500000000001,
          1.1544500000000002,
          1.3643500000000004,
          1.5742500000000004,
          1.7841500000000003,
          1.9940500000000003
         ],
         "y": [
          55.27000931271704,
          55.28530453926611,
          55.20519196244552,
          55.06863409235748,
          54.89946972976124,
          54.719336412574535,
          54.548730534421,
          54.40910303151255,
          54.323593314572726,
          54.3279098139119
         ]
        },
        {
         "mode": "lines",
         "name": "5160 seconds",
         "type": "scatter",
         "x": [
          0.10495000000000002,
          0.3148500000000001,
          0.52475,
          0.7346500000000001,
          0.9445500000000001,
          1.1544500000000002,
          1.3643500000000004,
          1.5742500000000004,
          1.7841500000000003,
          1.9940500000000003
         ],
         "y": [
          55.23527335292996,
          55.255733860898175,
          55.1821950811837,
          55.053306774621085,
          54.89287428256807,
          54.72148195181952,
          54.55960006637939,
          54.42760777938728,
          54.34859074315959,
          54.357805944132004
         ]
        },
        {
         "mode": "lines",
         "name": "5220 seconds",
         "type": "scatter",
         "x": [
          0.10495000000000002,
          0.3148500000000001,
          0.52475,
          0.7346500000000001,
          0.9445500000000001,
          1.1544500000000002,
          1.3643500000000004,
          1.5742500000000004,
          1.7841500000000003,
          1.9940500000000003
         ],
         "y": [
          55.20171707443898,
          55.22723371192773,
          55.159984729806474,
          55.038610599179904,
          54.886345374833745,
          54.72356630086598,
          54.569839200150575,
          54.44533049241004,
          54.372514714967764,
          54.38651572709501
         ]
        },
        {
         "mode": "lines",
         "name": "5280 seconds",
         "type": "scatter",
         "x": [
          0.10495000000000002,
          0.3148500000000001,
          0.52475,
          0.7346500000000001,
          0.9445500000000001,
          1.1544500000000002,
          1.3643500000000004,
          1.5742500000000004,
          1.7841500000000003,
          1.9940500000000003
         ],
         "y": [
          55.16928355436377,
          55.199719548220635,
          55.13859249294985,
          55.024370395959075,
          54.88006505801472,
          54.72540551499482,
          54.5796273439618,
          54.46223505670315,
          54.395452603167136,
          54.414095441189275
         ]
        },
        {
         "mode": "lines",
         "name": "5340 seconds",
         "type": "scatter",
         "x": [
          0.10495000000000002,
          0.3148500000000001,
          0.52475,
          0.7346500000000001,
          0.9445500000000001,
          1.1544500000000002,
          1.3643500000000004,
          1.5742500000000004,
          1.7841500000000003,
          1.9940500000000003
         ],
         "y": [
          55.13791223033614,
          55.17315313847012,
          55.11792989010469,
          55.01064034251816,
          54.87391183308745,
          54.727122084688816,
          54.58890761406303,
          54.47841260743934,
          54.41744102809047,
          54.44060632003859
         ]
        },
        {
         "mode": "lines",
         "name": "5400 seconds",
         "type": "scatter",
         "x": [
          0.10495000000000002,
          0.3148500000000001,
          0.52475,
          0.7346500000000001,
          0.9445500000000001,
          1.1544500000000002,
          1.3643500000000004,
          1.5742500000000004,
          1.7841500000000003,
          1.9940500000000003
         ],
         "y": [
          55.1075498343941,
          55.147475684966686,
          55.09798015450773,
          54.997347495122895,
          54.86793808794869,
          54.72866287372207,
          54.597754396104314,
          54.49387831948572,
          54.43853976359364,
          54.466101553959
         ]
        },
        {
         "mode": "lines",
         "name": "5460 seconds",
         "type": "scatter",
         "x": [
          0.10495000000000002,
          0.3148500000000001,
          0.52475,
          0.7346500000000001,
          0.9445500000000001,
          1.1544500000000002,
          1.3643500000000004,
          1.5742500000000004,
          1.7841500000000003,
          1.9940500000000003
         ],
         "y": [
          55.07814421758498,
          55.12264411248016,
          55.07869179856851,
          54.98449080873463,
          54.86210198773181,
          54.73006996818666,
          54.60616779601444,
          54.508684499141076,
          54.45879141581325,
          54.49063363036644
         ]
        },
        {
         "mode": "lines",
         "name": "5520 seconds",
         "type": "scatter",
         "x": [
          0.10495000000000002,
          0.3148500000000001,
          0.52475,
          0.7346500000000001,
          0.9445500000000001,
          1.1544500000000002,
          1.3643500000000004,
          1.5742500000000004,
          1.7841500000000003,
          1.9940500000000003
         ],
         "y": [
          55.04964727323625,
          55.09861171955156,
          55.06003503276999,
          54.97203415388159,
          54.856412017239016,
          54.73133458031438,
          54.6141843113518,
          54.522860444086085,
          54.47824299322592,
          54.51425077581354
         ]
        },
        {
         "mode": "lines",
         "name": "5580 seconds",
         "type": "scatter",
         "x": [
          0.10495000000000002,
          0.3148500000000001,
          0.52475,
          0.7346500000000001,
          0.9445500000000001,
          1.1544500000000002,
          1.3643500000000004,
          1.5742500000000004,
          1.7841500000000003,
          1.9940500000000003
         ],
         "y": [
          55.022013222744626,
          55.07533768709421,
          55.04197274558017,
          54.95996124664822,
          54.85085218881382,
          54.73247268638471,
          54.62181990751481,
          54.536443456497985,
          54.49693522389464,
          54.53699899935411
         ]
        },
        {
         "mode": "lines",
         "name": "5640 seconds",
         "type": "scatter",
         "x": [
          0.10495000000000002,
          0.3148500000000001,
          0.52475,
          0.7346500000000001,
          0.9445500000000001,
          1.1544500000000002,
          1.3643500000000004,
          1.5742500000000004,
          1.7841500000000003,
          1.9940500000000003
         ],
         "y": [
          54.995199186640264,
          55.05278224046437,
          55.02447448483445,
          54.94824844594362,
          54.845419007407266,
          54.73348762344722,
          54.62909825183981,
          54.5494638409923,
          54.514907986537466,
          54.55892135585668
         ]
        },
        {
         "mode": "lines",
         "name": "5700 seconds",
         "type": "scatter",
         "x": [
          0.10495000000000002,
          0.3148500000000001,
          0.52475,
          0.7346500000000001,
          0.9445500000000001,
          1.1544500000000002,
          1.3643500000000004,
          1.5742500000000004,
          1.7841500000000003,
          1.9940500000000003
         ],
         "y": [
          54.96916469256965,
          55.030908657506224,
          55.0075097326851,
          54.936877428625195,
          54.84010395272912,
          54.73438782519192,
          54.636037530408956,
          54.56195212874856,
          54.53219801567346,
          54.5800585158044
         ]
        },
        {
         "mode": "lines",
         "name": "5760 seconds",
         "type": "scatter",
         "x": [
          0.10495000000000002,
          0.3148500000000001,
          0.52475,
          0.7346500000000001,
          0.9445500000000001,
          1.1544500000000002,
          1.3643500000000004,
          1.5742500000000004,
          1.7841500000000003,
          1.9940500000000003
         ],
         "y": [
          54.9438716717786,
          55.009682169187464,
          54.991050719156924,
          54.92582937896232,
          54.83490132938203,
          54.73517886975817,
          54.64265649766534,
          54.57393603162766,
          54.54884013266331,
          54.600448732440114
         ]
        },
        {
         "mode": "lines",
         "name": "5820 seconds",
         "type": "scatter",
         "x": [
          0.10495000000000002,
          0.3148500000000001,
          0.52475,
          0.7346500000000001,
          0.9445500000000001,
          1.1544500000000002,
          1.3643500000000004,
          1.5742500000000004,
          1.7841500000000003,
          1.9940500000000003
         ],
         "y": [
          54.91928425666916,
          54.98907022056585,
          54.97507105835639,
          54.91508735424855,
          54.829804862226055,
          54.73586693072103,
          54.64897200452851,
          54.585441908884356,
          54.56486692684036,
          54.62012805911214
         ]
        },
        {
         "mode": "lines",
         "name": "5880 seconds",
         "type": "scatter",
         "x": [
          0.10495000000000002,
          0.3148500000000001,
          0.52475,
          0.7346500000000001,
          0.9445500000000001,
          1.1544500000000002,
          1.3643500000000004,
          1.5742500000000004,
          1.7841500000000003,
          1.9940500000000003
         ],
         "y": [
          54.895368669926626,
          54.96904217950334,
          54.9595461375678,
          54.904635218596304,
          54.82480904337184,
          54.73645741091873,
          54.65500010988351,
          54.59649433492541,
          54.58030907064364,
          54.639130453341316
         ]
        },
        {
         "mode": "lines",
         "name": "5940 seconds",
         "type": "scatter",
         "x": [
          0.10495000000000002,
          0.3148500000000001,
          0.52475,
          0.7346500000000001,
          0.9445500000000001,
          1.1544500000000002,
          1.3643500000000004,
          1.5742500000000004,
          1.7841500000000003,
          1.9940500000000003
         ],
         "y": [
          54.87209308813471,
          54.94956927225906,
          54.94445282005865,
          54.89445795173063,
          54.819908578219554,
          54.73695550451428,
          54.660755753926836,
          54.60711641370036,
          54.59519537448923,
          54.65748791530534
         ]
        },
        {
         "mode": "lines",
         "name": "6000 seconds",
         "type": "scatter",
         "x": [
          0.10495000000000002,
          0.3148500000000001,
          0.52475,
          0.7346500000000001,
          0.9445500000000001,
          1.1544500000000002,
          1.3643500000000004,
          1.5742500000000004,
          1.7841500000000003,
          1.9940500000000003
         ],
         "y": [
          54.84942752442987,
          54.93062444436921,
          54.92976941385116,
          54.88454144388741,
          54.815098554109674,
          54.73736602558201,
          54.66625297020993,
          54.61732980352832,
          54.60955292931454,
          54.675230603983
         ]
        }
       ],
       "layout": {
        "legend": {
         "title": {
          "text": "Time Passed"
         }
        },
        "shapes": [
         {
          "line": {
           "color": "grey",
           "dash": "dot",
           "width": 1
          },
          "type": "line",
          "x0": 0.20990000000000003,
          "x1": 0.20990000000000003,
          "xref": "x",
          "y0": 0,
          "y1": 1,
          "yref": "paper"
         },
         {
          "line": {
           "color": "grey",
           "dash": "dot",
           "width": 1
          },
          "type": "line",
          "x0": 0.41980000000000006,
          "x1": 0.41980000000000006,
          "xref": "x",
          "y0": 0,
          "y1": 1,
          "yref": "paper"
         },
         {
          "line": {
           "color": "grey",
           "dash": "dot",
           "width": 1
          },
          "type": "line",
          "x0": 0.6297000000000001,
          "x1": 0.6297000000000001,
          "xref": "x",
          "y0": 0,
          "y1": 1,
          "yref": "paper"
         },
         {
          "line": {
           "color": "grey",
           "dash": "dot",
           "width": 1
          },
          "type": "line",
          "x0": 0.8396000000000001,
          "x1": 0.8396000000000001,
          "xref": "x",
          "y0": 0,
          "y1": 1,
          "yref": "paper"
         },
         {
          "line": {
           "color": "grey",
           "dash": "dot",
           "width": 1
          },
          "type": "line",
          "x0": 1.0495,
          "x1": 1.0495,
          "xref": "x",
          "y0": 0,
          "y1": 1,
          "yref": "paper"
         },
         {
          "line": {
           "color": "grey",
           "dash": "dot",
           "width": 1
          },
          "type": "line",
          "x0": 1.2594,
          "x1": 1.2594,
          "xref": "x",
          "y0": 0,
          "y1": 1,
          "yref": "paper"
         },
         {
          "line": {
           "color": "grey",
           "dash": "dot",
           "width": 1
          },
          "type": "line",
          "x0": 1.4693000000000003,
          "x1": 1.4693000000000003,
          "xref": "x",
          "y0": 0,
          "y1": 1,
          "yref": "paper"
         },
         {
          "line": {
           "color": "grey",
           "dash": "dot",
           "width": 1
          },
          "type": "line",
          "x0": 1.6792000000000002,
          "x1": 1.6792000000000002,
          "xref": "x",
          "y0": 0,
          "y1": 1,
          "yref": "paper"
         },
         {
          "line": {
           "color": "grey",
           "dash": "dot",
           "width": 1
          },
          "type": "line",
          "x0": 1.8891000000000002,
          "x1": 1.8891000000000002,
          "xref": "x",
          "y0": 0,
          "y1": 1,
          "yref": "paper"
         }
        ],
        "template": {
         "data": {
          "bar": [
           {
            "error_x": {
             "color": "#2a3f5f"
            },
            "error_y": {
             "color": "#2a3f5f"
            },
            "marker": {
             "line": {
              "color": "#E5ECF6",
              "width": 0.5
             },
             "pattern": {
              "fillmode": "overlay",
              "size": 10,
              "solidity": 0.2
             }
            },
            "type": "bar"
           }
          ],
          "barpolar": [
           {
            "marker": {
             "line": {
              "color": "#E5ECF6",
              "width": 0.5
             },
             "pattern": {
              "fillmode": "overlay",
              "size": 10,
              "solidity": 0.2
             }
            },
            "type": "barpolar"
           }
          ],
          "carpet": [
           {
            "aaxis": {
             "endlinecolor": "#2a3f5f",
             "gridcolor": "white",
             "linecolor": "white",
             "minorgridcolor": "white",
             "startlinecolor": "#2a3f5f"
            },
            "baxis": {
             "endlinecolor": "#2a3f5f",
             "gridcolor": "white",
             "linecolor": "white",
             "minorgridcolor": "white",
             "startlinecolor": "#2a3f5f"
            },
            "type": "carpet"
           }
          ],
          "choropleth": [
           {
            "colorbar": {
             "outlinewidth": 0,
             "ticks": ""
            },
            "type": "choropleth"
           }
          ],
          "contour": [
           {
            "colorbar": {
             "outlinewidth": 0,
             "ticks": ""
            },
            "colorscale": [
             [
              0,
              "#0d0887"
             ],
             [
              0.1111111111111111,
              "#46039f"
             ],
             [
              0.2222222222222222,
              "#7201a8"
             ],
             [
              0.3333333333333333,
              "#9c179e"
             ],
             [
              0.4444444444444444,
              "#bd3786"
             ],
             [
              0.5555555555555556,
              "#d8576b"
             ],
             [
              0.6666666666666666,
              "#ed7953"
             ],
             [
              0.7777777777777778,
              "#fb9f3a"
             ],
             [
              0.8888888888888888,
              "#fdca26"
             ],
             [
              1,
              "#f0f921"
             ]
            ],
            "type": "contour"
           }
          ],
          "contourcarpet": [
           {
            "colorbar": {
             "outlinewidth": 0,
             "ticks": ""
            },
            "type": "contourcarpet"
           }
          ],
          "heatmap": [
           {
            "colorbar": {
             "outlinewidth": 0,
             "ticks": ""
            },
            "colorscale": [
             [
              0,
              "#0d0887"
             ],
             [
              0.1111111111111111,
              "#46039f"
             ],
             [
              0.2222222222222222,
              "#7201a8"
             ],
             [
              0.3333333333333333,
              "#9c179e"
             ],
             [
              0.4444444444444444,
              "#bd3786"
             ],
             [
              0.5555555555555556,
              "#d8576b"
             ],
             [
              0.6666666666666666,
              "#ed7953"
             ],
             [
              0.7777777777777778,
              "#fb9f3a"
             ],
             [
              0.8888888888888888,
              "#fdca26"
             ],
             [
              1,
              "#f0f921"
             ]
            ],
            "type": "heatmap"
           }
          ],
          "heatmapgl": [
           {
            "colorbar": {
             "outlinewidth": 0,
             "ticks": ""
            },
            "colorscale": [
             [
              0,
              "#0d0887"
             ],
             [
              0.1111111111111111,
              "#46039f"
             ],
             [
              0.2222222222222222,
              "#7201a8"
             ],
             [
              0.3333333333333333,
              "#9c179e"
             ],
             [
              0.4444444444444444,
              "#bd3786"
             ],
             [
              0.5555555555555556,
              "#d8576b"
             ],
             [
              0.6666666666666666,
              "#ed7953"
             ],
             [
              0.7777777777777778,
              "#fb9f3a"
             ],
             [
              0.8888888888888888,
              "#fdca26"
             ],
             [
              1,
              "#f0f921"
             ]
            ],
            "type": "heatmapgl"
           }
          ],
          "histogram": [
           {
            "marker": {
             "pattern": {
              "fillmode": "overlay",
              "size": 10,
              "solidity": 0.2
             }
            },
            "type": "histogram"
           }
          ],
          "histogram2d": [
           {
            "colorbar": {
             "outlinewidth": 0,
             "ticks": ""
            },
            "colorscale": [
             [
              0,
              "#0d0887"
             ],
             [
              0.1111111111111111,
              "#46039f"
             ],
             [
              0.2222222222222222,
              "#7201a8"
             ],
             [
              0.3333333333333333,
              "#9c179e"
             ],
             [
              0.4444444444444444,
              "#bd3786"
             ],
             [
              0.5555555555555556,
              "#d8576b"
             ],
             [
              0.6666666666666666,
              "#ed7953"
             ],
             [
              0.7777777777777778,
              "#fb9f3a"
             ],
             [
              0.8888888888888888,
              "#fdca26"
             ],
             [
              1,
              "#f0f921"
             ]
            ],
            "type": "histogram2d"
           }
          ],
          "histogram2dcontour": [
           {
            "colorbar": {
             "outlinewidth": 0,
             "ticks": ""
            },
            "colorscale": [
             [
              0,
              "#0d0887"
             ],
             [
              0.1111111111111111,
              "#46039f"
             ],
             [
              0.2222222222222222,
              "#7201a8"
             ],
             [
              0.3333333333333333,
              "#9c179e"
             ],
             [
              0.4444444444444444,
              "#bd3786"
             ],
             [
              0.5555555555555556,
              "#d8576b"
             ],
             [
              0.6666666666666666,
              "#ed7953"
             ],
             [
              0.7777777777777778,
              "#fb9f3a"
             ],
             [
              0.8888888888888888,
              "#fdca26"
             ],
             [
              1,
              "#f0f921"
             ]
            ],
            "type": "histogram2dcontour"
           }
          ],
          "mesh3d": [
           {
            "colorbar": {
             "outlinewidth": 0,
             "ticks": ""
            },
            "type": "mesh3d"
           }
          ],
          "parcoords": [
           {
            "line": {
             "colorbar": {
              "outlinewidth": 0,
              "ticks": ""
             }
            },
            "type": "parcoords"
           }
          ],
          "pie": [
           {
            "automargin": true,
            "type": "pie"
           }
          ],
          "scatter": [
           {
            "fillpattern": {
             "fillmode": "overlay",
             "size": 10,
             "solidity": 0.2
            },
            "type": "scatter"
           }
          ],
          "scatter3d": [
           {
            "line": {
             "colorbar": {
              "outlinewidth": 0,
              "ticks": ""
             }
            },
            "marker": {
             "colorbar": {
              "outlinewidth": 0,
              "ticks": ""
             }
            },
            "type": "scatter3d"
           }
          ],
          "scattercarpet": [
           {
            "marker": {
             "colorbar": {
              "outlinewidth": 0,
              "ticks": ""
             }
            },
            "type": "scattercarpet"
           }
          ],
          "scattergeo": [
           {
            "marker": {
             "colorbar": {
              "outlinewidth": 0,
              "ticks": ""
             }
            },
            "type": "scattergeo"
           }
          ],
          "scattergl": [
           {
            "marker": {
             "colorbar": {
              "outlinewidth": 0,
              "ticks": ""
             }
            },
            "type": "scattergl"
           }
          ],
          "scattermapbox": [
           {
            "marker": {
             "colorbar": {
              "outlinewidth": 0,
              "ticks": ""
             }
            },
            "type": "scattermapbox"
           }
          ],
          "scatterpolar": [
           {
            "marker": {
             "colorbar": {
              "outlinewidth": 0,
              "ticks": ""
             }
            },
            "type": "scatterpolar"
           }
          ],
          "scatterpolargl": [
           {
            "marker": {
             "colorbar": {
              "outlinewidth": 0,
              "ticks": ""
             }
            },
            "type": "scatterpolargl"
           }
          ],
          "scatterternary": [
           {
            "marker": {
             "colorbar": {
              "outlinewidth": 0,
              "ticks": ""
             }
            },
            "type": "scatterternary"
           }
          ],
          "surface": [
           {
            "colorbar": {
             "outlinewidth": 0,
             "ticks": ""
            },
            "colorscale": [
             [
              0,
              "#0d0887"
             ],
             [
              0.1111111111111111,
              "#46039f"
             ],
             [
              0.2222222222222222,
              "#7201a8"
             ],
             [
              0.3333333333333333,
              "#9c179e"
             ],
             [
              0.4444444444444444,
              "#bd3786"
             ],
             [
              0.5555555555555556,
              "#d8576b"
             ],
             [
              0.6666666666666666,
              "#ed7953"
             ],
             [
              0.7777777777777778,
              "#fb9f3a"
             ],
             [
              0.8888888888888888,
              "#fdca26"
             ],
             [
              1,
              "#f0f921"
             ]
            ],
            "type": "surface"
           }
          ],
          "table": [
           {
            "cells": {
             "fill": {
              "color": "#EBF0F8"
             },
             "line": {
              "color": "white"
             }
            },
            "header": {
             "fill": {
              "color": "#C8D4E3"
             },
             "line": {
              "color": "white"
             }
            },
            "type": "table"
           }
          ]
         },
         "layout": {
          "annotationdefaults": {
           "arrowcolor": "#2a3f5f",
           "arrowhead": 0,
           "arrowwidth": 1
          },
          "autotypenumbers": "strict",
          "coloraxis": {
           "colorbar": {
            "outlinewidth": 0,
            "ticks": ""
           }
          },
          "colorscale": {
           "diverging": [
            [
             0,
             "#8e0152"
            ],
            [
             0.1,
             "#c51b7d"
            ],
            [
             0.2,
             "#de77ae"
            ],
            [
             0.3,
             "#f1b6da"
            ],
            [
             0.4,
             "#fde0ef"
            ],
            [
             0.5,
             "#f7f7f7"
            ],
            [
             0.6,
             "#e6f5d0"
            ],
            [
             0.7,
             "#b8e186"
            ],
            [
             0.8,
             "#7fbc41"
            ],
            [
             0.9,
             "#4d9221"
            ],
            [
             1,
             "#276419"
            ]
           ],
           "sequential": [
            [
             0,
             "#0d0887"
            ],
            [
             0.1111111111111111,
             "#46039f"
            ],
            [
             0.2222222222222222,
             "#7201a8"
            ],
            [
             0.3333333333333333,
             "#9c179e"
            ],
            [
             0.4444444444444444,
             "#bd3786"
            ],
            [
             0.5555555555555556,
             "#d8576b"
            ],
            [
             0.6666666666666666,
             "#ed7953"
            ],
            [
             0.7777777777777778,
             "#fb9f3a"
            ],
            [
             0.8888888888888888,
             "#fdca26"
            ],
            [
             1,
             "#f0f921"
            ]
           ],
           "sequentialminus": [
            [
             0,
             "#0d0887"
            ],
            [
             0.1111111111111111,
             "#46039f"
            ],
            [
             0.2222222222222222,
             "#7201a8"
            ],
            [
             0.3333333333333333,
             "#9c179e"
            ],
            [
             0.4444444444444444,
             "#bd3786"
            ],
            [
             0.5555555555555556,
             "#d8576b"
            ],
            [
             0.6666666666666666,
             "#ed7953"
            ],
            [
             0.7777777777777778,
             "#fb9f3a"
            ],
            [
             0.8888888888888888,
             "#fdca26"
            ],
            [
             1,
             "#f0f921"
            ]
           ]
          },
          "colorway": [
           "#636efa",
           "#EF553B",
           "#00cc96",
           "#ab63fa",
           "#FFA15A",
           "#19d3f3",
           "#FF6692",
           "#B6E880",
           "#FF97FF",
           "#FECB52"
          ],
          "font": {
           "color": "#2a3f5f"
          },
          "geo": {
           "bgcolor": "white",
           "lakecolor": "white",
           "landcolor": "#E5ECF6",
           "showlakes": true,
           "showland": true,
           "subunitcolor": "white"
          },
          "hoverlabel": {
           "align": "left"
          },
          "hovermode": "closest",
          "mapbox": {
           "style": "light"
          },
          "paper_bgcolor": "white",
          "plot_bgcolor": "#E5ECF6",
          "polar": {
           "angularaxis": {
            "gridcolor": "white",
            "linecolor": "white",
            "ticks": ""
           },
           "bgcolor": "#E5ECF6",
           "radialaxis": {
            "gridcolor": "white",
            "linecolor": "white",
            "ticks": ""
           }
          },
          "scene": {
           "xaxis": {
            "backgroundcolor": "#E5ECF6",
            "gridcolor": "white",
            "gridwidth": 2,
            "linecolor": "white",
            "showbackground": true,
            "ticks": "",
            "zerolinecolor": "white"
           },
           "yaxis": {
            "backgroundcolor": "#E5ECF6",
            "gridcolor": "white",
            "gridwidth": 2,
            "linecolor": "white",
            "showbackground": true,
            "ticks": "",
            "zerolinecolor": "white"
           },
           "zaxis": {
            "backgroundcolor": "#E5ECF6",
            "gridcolor": "white",
            "gridwidth": 2,
            "linecolor": "white",
            "showbackground": true,
            "ticks": "",
            "zerolinecolor": "white"
           }
          },
          "shapedefaults": {
           "line": {
            "color": "#2a3f5f"
           }
          },
          "ternary": {
           "aaxis": {
            "gridcolor": "white",
            "linecolor": "white",
            "ticks": ""
           },
           "baxis": {
            "gridcolor": "white",
            "linecolor": "white",
            "ticks": ""
           },
           "bgcolor": "#E5ECF6",
           "caxis": {
            "gridcolor": "white",
            "linecolor": "white",
            "ticks": ""
           }
          },
          "title": {
           "x": 0.05
          },
          "xaxis": {
           "automargin": true,
           "gridcolor": "white",
           "linecolor": "white",
           "ticks": "",
           "title": {
            "standoff": 15
           },
           "zerolinecolor": "white",
           "zerolinewidth": 2
          },
          "yaxis": {
           "automargin": true,
           "gridcolor": "white",
           "linecolor": "white",
           "ticks": "",
           "title": {
            "standoff": 15
           },
           "zerolinecolor": "white",
           "zerolinewidth": 2
          }
         }
        },
        "title": {
         "text": "M4b: fast buoyancy indirect - qdot only discharging"
        },
        "xaxis": {
         "range": [
          0,
          2.099
         ],
         "title": {
          "text": "Height"
         }
        },
        "yaxis": {
         "title": {
          "text": "Temperature"
         }
        }
       }
      }
     },
     "metadata": {},
     "output_type": "display_data"
    },
    {
     "data": {
      "application/vnd.plotly.v1+json": {
       "config": {
        "plotlyServerURL": "https://plot.ly"
       },
       "data": [
        {
         "mode": "lines",
         "name": "0 seconds",
         "type": "scatter",
         "x": [
          0.10495000000000002,
          0.3148500000000001,
          0.52475,
          0.7346500000000001,
          0.9445500000000001,
          1.1544500000000002,
          1.3643500000000004,
          1.5742500000000004,
          1.7841500000000003,
          1.9940500000000003
         ],
         "y": [
          100,
          90,
          80,
          70,
          60,
          50,
          40,
          30,
          20,
          10
         ]
        },
        {
         "mode": "lines",
         "name": "60 seconds",
         "type": "scatter",
         "x": [
          0.10495000000000002,
          0.3148500000000001,
          0.52475,
          0.7346500000000001,
          0.9445500000000001,
          1.1544500000000002,
          1.3643500000000004,
          1.5742500000000004,
          1.7841500000000003,
          1.9940500000000003
         ],
         "y": [
          94.99109564752546,
          89.99680031620633,
          80.17165570573466,
          70.17201930616575,
          60.17238290659685,
          50.17274650702795,
          40.17311010745905,
          30.173473707890153,
          20.173837308321254,
          15.175915500096423
         ]
        },
        {
         "mode": "lines",
         "name": "120 seconds",
         "type": "scatter",
         "x": [
          0.10495000000000002,
          0.3148500000000001,
          0.52475,
          0.7346500000000001,
          0.9445500000000001,
          1.1544500000000002,
          1.3643500000000004,
          1.5742500000000004,
          1.7841500000000003,
          1.9940500000000003
         ],
         "y": [
          92.48639239634647,
          87.57721559734989,
          80.25602458152379,
          70.34403235770213,
          60.3447595453438,
          50.345486732985464,
          40.346213920627136,
          30.34694110826881,
          22.849520076349762,
          17.84943207207244
         ]
        },
        {
         "mode": "lines",
         "name": "180 seconds",
         "type": "scatter",
         "x": [
          0.10495000000000002,
          0.3148500000000001,
          0.52475,
          0.7346500000000001,
          0.9445500000000001,
          1.1544500000000002,
          1.3643500000000004,
          1.5742500000000004,
          1.7841500000000003,
          1.9940500000000003
         ],
         "y": [
          90.02444209748371,
          86.36761731986337,
          79.13175524837465,
          70.472381506676,
          60.51712991646873,
          50.51822067810092,
          40.51931143973311,
          31.771825531700756,
          24.2724168314768,
          20.523843497126297
         ]
        },
        {
         "mode": "lines",
         "name": "240 seconds",
         "type": "scatter",
         "x": [
          0.10495000000000002,
          0.3148500000000001,
          0.52475,
          0.7346500000000001,
          0.9445500000000001,
          1.1544500000000002,
          1.3643500000000004,
          1.5742500000000004,
          1.7841500000000003,
          1.9940500000000003
         ],
         "y": [
          88.18909055789945,
          84.5743194471383,
          78.59140365334443,
          69.99618705497495,
          60.66765651572271,
          50.69094834260268,
          41.31836314913686,
          32.569521573500275,
          26.322262251462238,
          22.57206001129034
         ]
        },
        {
         "mode": "lines",
         "name": "300 seconds",
         "type": "scatter",
         "x": [
          0.10495000000000002,
          0.3148500000000001,
          0.52475,
          0.7346500000000001,
          0.9445500000000001,
          1.1544500000000002,
          1.3643500000000004,
          1.5742500000000004,
          1.7841500000000003,
          1.9940500000000003
         ],
         "y": [
          86.37490373781661,
          83.38677384450916,
          77.45644077285559,
          69.80140372542823,
          60.515797453003366,
          51.16585133357606,
          41.80342114794682,
          33.99419036680063,
          27.744894709780326,
          24.620946755319494
         ]
        },
        {
         "mode": "lines",
         "name": "360 seconds",
         "type": "scatter",
         "x": [
          0.10495000000000002,
          0.3148500000000001,
          0.52475,
          0.7346500000000001,
          0.9445500000000001,
          1.1544500000000002,
          1.3643500000000004,
          1.5742500000000004,
          1.7841500000000003,
          1.9940500000000003
         ],
         "y": [
          84.87429015171845,
          81.91212803408729,
          76.76549405385393,
          69.1578214359886,
          60.65597888906865,
          51.33231093490675,
          42.7533742059061,
          34.94779656780405,
          29.481745673719782,
          26.356437244904438
         ]
        },
        {
         "mode": "lines",
         "name": "420 seconds",
         "type": "scatter",
         "x": [
          0.10495000000000002,
          0.3148500000000001,
          0.52475,
          0.7346500000000001,
          0.9445500000000001,
          1.1544500000000002,
          1.3643500000000004,
          1.5742500000000004,
          1.7841500000000003,
          1.9940500000000003
         ],
         "y": [
          83.3867715180355,
          80.81655215850921,
          75.70625872225946,
          68.88260861256751,
          60.417261838087796,
          51.87752268562684,
          43.313217512047544,
          36.29131891083483,
          30.826074864942647,
          28.092485764978115
         ]
        },
        {
         "mode": "lines",
         "name": "480 seconds",
         "type": "scatter",
         "x": [
          0.10495000000000002,
          0.3148500000000001,
          0.52475,
          0.7346500000000001,
          0.9445500000000001,
          1.1544500000000002,
          1.3643500000000004,
          1.5742500000000004,
          1.7841500000000003,
          1.9940500000000003
         ],
         "y": [
          82.0954071701997,
          79.54314430710555,
          75.02105154728858,
          68.23349379820748,
          60.5524185926905,
          52.037913030858036,
          44.257717111762155,
          37.24320065147121,
          32.36588914127573,
          29.632474218982207
         ]
        },
        {
         "mode": "lines",
         "name": "540 seconds",
         "type": "scatter",
         "x": [
          0.10495000000000002,
          0.3148500000000001,
          0.52475,
          0.7346500000000001,
          0.9445500000000001,
          1.1544500000000002,
          1.3643500000000004,
          1.5742500000000004,
          1.7841500000000003,
          1.9940500000000003
         ],
         "y": [
          80.81311577512824,
          78.55501822781636,
          74.05970535355104,
          67.95864094941884,
          60.30790052523194,
          52.57788626253274,
          44.81366437695205,
          38.48543840915568,
          33.61165138761027,
          31.172266869316424
         ]
        },
        {
         "mode": "lines",
         "name": "600 seconds",
         "type": "scatter",
         "x": [
          0.10495000000000002,
          0.3148500000000001,
          0.52475,
          0.7346500000000001,
          0.9445500000000001,
          1.1544500000000002,
          1.3643500000000004,
          1.5742500000000004,
          1.7841500000000003,
          1.9940500000000003
         ],
         "y": [
          79.6780560204518,
          77.43318219780951,
          73.42838201411777,
          67.35558834928113,
          60.44061955537636,
          52.73342842460468,
          45.70488293556311,
          39.38611224357375,
          35.002679056583666,
          32.56487718956346
         ]
        },
        {
         "mode": "lines",
         "name": "660 seconds",
         "type": "scatter",
         "x": [
          0.10495000000000002,
          0.3148500000000001,
          0.52475,
          0.7346500000000001,
          0.9445500000000001,
          1.1544500000000002,
          1.3643500000000004,
          1.5742500000000004,
          1.7841500000000003,
          1.9940500000000003
         ],
         "y": [
          78.54969086090445,
          76.5501263395409,
          72.56586874699006,
          67.1064487931882,
          60.2167177559998,
          53.24553329920151,
          46.2328141354097,
          40.52729822529615,
          36.14917337431631,
          33.95659759007709
         ]
        },
        {
         "mode": "lines",
         "name": "720 seconds",
         "type": "scatter",
         "x": [
          0.10495000000000002,
          0.3148500000000001,
          0.52475,
          0.7346500000000001,
          0.9445500000000001,
          1.1544500000000002,
          1.3643500000000004,
          1.5742500000000004,
          1.7841500000000003,
          1.9940500000000003
         ],
         "y": [
          77.54410875753577,
          75.55467454415819,
          71.9999202727121,
          66.56313338031184,
          60.348349877641425,
          53.397386186707266,
          47.05955915393417,
          41.36434861326936,
          37.415632581388614,
          35.225557974596676
         ]
        },
        {
         "mode": "lines",
         "name": "780 seconds",
         "type": "scatter",
         "x": [
          0.10495000000000002,
          0.3148500000000001,
          0.52475,
          0.7346500000000001,
          0.9445500000000001,
          1.1544500000000002,
          1.3643500000000004,
          1.5742500000000004,
          1.7841500000000003,
          1.9940500000000003
         ],
         "y": [
          76.5436647883758,
          74.76902883343708,
          71.23047634897964,
          66.3461246578508,
          60.15248365028746,
          53.876699402916,
          47.55384859221982,
          42.41100362070354,
          38.468507037601356,
          36.493177719901276
         ]
        },
        {
         "mode": "lines",
         "name": "840 seconds",
         "type": "scatter",
         "x": [
          0.10495000000000002,
          0.3148500000000001,
          0.52475,
          0.7346500000000001,
          0.9445500000000001,
          1.1544500000000002,
          1.3643500000000004,
          1.5742500000000004,
          1.7841500000000003,
          1.9940500000000003
         ],
         "y": [
          75.65073325906353,
          73.88407396727715,
          70.72928372803374,
          65.86337183647802,
          60.2837730602287,
          54.025762313137214,
          48.316921580119654,
          43.18443892196942,
          39.62564759223028,
          37.653292664660455
         ]
        },
        {
         "mode": "lines",
         "name": "900 seconds",
         "type": "scatter",
         "x": [
          0.10495000000000002,
          0.3148500000000001,
          0.52475,
          0.7346500000000001,
          0.9445500000000001,
          1.1544500000000002,
          1.3643500000000004,
          1.5742500000000004,
          1.7841500000000003,
          1.9940500000000003
         ],
         "y": [
          74.76185466327978,
          73.18711878621222,
          70.04537547103965,
          65.67855620678887,
          60.11680477558508,
          54.47305664111009,
          48.7780229179531,
          44.14459180241098,
          40.5923049413086,
          38.81183795122857
         ]
        },
        {
         "mode": "lines",
         "name": "960 seconds",
         "type": "scatter",
         "x": [
          0.10495000000000002,
          0.3148500000000001,
          0.52475,
          0.7346500000000001,
          0.9445500000000001,
          1.1544500000000002,
          1.3643500000000004,
          1.5742500000000004,
          1.7841500000000003,
          1.9940500000000003
         ],
         "y": [
          73.96903865859073,
          72.40071514153203,
          69.60461157246637,
          65.25302897046605,
          60.248168780215885,
          54.61998751621415,
          49.481826237070095,
          44.85833830213714,
          41.65165573588802,
          39.87431935603728
         ]
        },
        {
         "mode": "lines",
         "name": "1020 seconds",
         "type": "scatter",
         "x": [
          0.10495000000000002,
          0.3148500000000001,
          0.52475,
          0.7346500000000001,
          0.9445500000000001,
          1.1544500000000002,
          1.3643500000000004,
          1.5742500000000004,
          1.7841500000000003,
          1.9940500000000003
         ],
         "y": [
          73.17948605907,
          71.78402123221541,
          68.99859646451999,
          65.09845219219788,
          60.1087581923461,
          55.03767346279725,
          49.91203058889268,
          45.739956146218816,
          42.5396630764635,
          40.93515985177273
         ]
        },
        {
         "mode": "lines",
         "name": "1080 seconds",
         "type": "scatter",
         "x": [
          0.10495000000000002,
          0.3148500000000001,
          0.52475,
          0.7346500000000001,
          0.9445500000000001,
          1.1544500000000002,
          1.3643500000000004,
          1.5742500000000004,
          1.7841500000000003,
          1.9940500000000003
         ],
         "y": [
          72.47645285852731,
          71.08622759125258,
          68.61307079113857,
          64.72565822125466,
          60.24042559682307,
          55.182946879894246,
          50.56175410694723,
          46.39894145318069,
          43.510893047751246,
          41.90947454441779
         ]
        },
        {
         "mode": "lines",
         "name": "1140 seconds",
         "type": "scatter",
         "x": [
          0.10495000000000002,
          0.3148500000000001,
          0.52475,
          0.7346500000000001,
          0.9445500000000001,
          1.1544500000000002,
          1.3643500000000004,
          1.5742500000000004,
          1.7841500000000003,
          1.9940500000000003
         ],
         "y": [
          71.77609009173136,
          70.54203457451796,
          68.07773144648891,
          64.59884041161405,
          60.12656293629872,
          55.57373465293935,
          50.96376138731782,
          47.209454478830544,
          44.32744626353095,
          42.88217750379776
         ]
        },
        {
         "mode": "lines",
         "name": "1200 seconds",
         "type": "scatter",
         "x": [
          0.10495000000000002,
          0.3148500000000001,
          0.52475,
          0.7346500000000001,
          0.9445500000000001,
          1.1544500000000002,
          1.3643500000000004,
          1.5742500000000004,
          1.7841500000000003,
          1.9940500000000003
         ],
         "y": [
          71.15389250437349,
          69.92417418769773,
          67.7423249637332,
          64.27416537014953,
          60.25864982122154,
          55.717694645537335,
          51.56447616159785,
          47.81862523488527,
          45.2190543913422,
          43.77670591952736
         ]
        },
        {
         "mode": "lines",
         "name": "1260 seconds",
         "type": "scatter",
         "x": [
          0.10495000000000002,
          0.3148500000000001,
          0.52475,
          0.7346500000000001,
          0.9445500000000001,
          1.1544500000000002,
          1.3643500000000004,
          1.5742500000000004,
          1.7841500000000003,
          1.9940500000000003
         ],
         "y": [
          70.53390827974133,
          69.4454499253451,
          67.27101541875729,
          64.17260606012496,
          60.16819903740619,
          56.08417869602391,
          51.940930559209505,
          48.56481901183887,
          45.97081598150278,
          44.66971048270469
         ]
        },
        {
         "mode": "lines",
         "name": "1320 seconds",
         "type": "scatter",
         "x": [
          0.10495000000000002,
          0.3148500000000001,
          0.52475,
          0.7346500000000001,
          0.9445500000000001,
          1.1544500000000002,
          1.3643500000000004,
          1.5742500000000004,
          1.7841500000000003,
          1.9940500000000003
         ],
         "y": [
          69.9846251673633,
          68.89979454370147,
          66.98096281213115,
          63.89165828013991,
          60.3007533395287,
          56.22707830814633,
          52.497327317466144,
          49.128827466302,
          46.790414709058574,
          45.49200253956019
         ]
        },
        {
         "mode": "lines",
         "name": "1380 seconds",
         "type": "scatter",
         "x": [
          0.10495000000000002,
          0.3148500000000001,
          0.52475,
          0.7346500000000001,
          0.9445500000000001,
          1.1544500000000002,
          1.3643500000000004,
          1.5742500000000004,
          1.7841500000000003,
          1.9940500000000003
         ],
         "y": [
          69.43719537108213,
          68.48019665855155,
          66.5676227669719,
          63.81299974897095,
          60.23164427675155,
          56.571628800684124,
          52.850680418443446,
          49.81685400710906,
          47.48348487783606,
          46.31288936843728
         ]
        },
        {
         "mode": "lines",
         "name": "1440 seconds",
         "type": "scatter",
         "x": [
          0.10495000000000002,
          0.3148500000000001,
          0.52475,
          0.7346500000000001,
          0.9445500000000001,
          1.1544500000000002,
          1.3643500000000004,
          1.5742500000000004,
          1.7841500000000003,
          1.9940500000000003
         ],
         "y": [
          68.95374306266628,
          67.99980533961698,
          66.31857488796487,
          63.571713409425215,
          60.36467311895658,
          56.71365779470408,
          53.36702087967893,
          50.33997508542107,
          48.237940476026345,
          47.06978481933831
         ]
        },
        {
         "mode": "lines",
         "name": "1500 seconds",
         "type": "scatter",
         "x": [
          0.10495000000000002,
          0.3148500000000001,
          0.52475,
          0.7346500000000001,
          0.9445500000000001,
          1.1544500000000002,
          1.3643500000000004,
          1.5742500000000004,
          1.7841500000000003,
          1.9940500000000003
         ],
         "y": [
          68.47185586738271,
          67.63361820828413,
          65.95770066185204,
          63.51378554561628,
          60.31496697412067,
          57.03840991664403,
          53.699504065976086,
          50.97539874217213,
          48.87787578760141,
          47.82540645325902
         ]
        },
        {
         "mode": "lines",
         "name": "1560 seconds",
         "type": "scatter",
         "x": [
          0.10495000000000002,
          0.3148500000000001,
          0.52475,
          0.7346500000000001,
          0.9445500000000001,
          1.1544500000000002,
          1.3643500000000004,
          1.5742500000000004,
          1.7841500000000003,
          1.9940500000000003
         ],
         "y": [
          68.04786787235562,
          67.21223670789307,
          65.74571546391329,
          63.308438866663955,
          60.44845372886659,
          57.17971371345439,
          54.17963856234207,
          51.46152555084027,
          49.57339634877212,
          48.523109519254014
         ]
        },
        {
         "mode": "lines",
         "name": "1620 seconds",
         "type": "scatter",
         "x": [
          0.10495000000000002,
          0.3148500000000001,
          0.52475,
          0.7346500000000001,
          0.9445500000000001,
          1.1544500000000002,
          1.3643500000000004,
          1.5742500000000004,
          1.7841500000000003,
          1.9940500000000003
         ],
         "y": [
          67.62521326249205,
          66.89430683199892,
          65.43231878669496,
          63.26926316138846,
          60.416361618629,
          57.48658501623704,
          54.49327022952271,
          52.049375845798785,
          50.16524476802714,
          49.219671690166706
         ]
        },
        {
         "mode": "lines",
         "name": "1680 seconds",
         "type": "scatter",
         "x": [
          0.10495000000000002,
          0.3148500000000001,
          0.52475,
          0.7346500000000001,
          0.9445500000000001,
          1.1544500000000002,
          1.3643500000000004,
          1.5742500000000004,
          1.7841500000000003,
          1.9940500000000003
         ],
         "y": [
          67.25494995264243,
          66.52629454333058,
          65.25383101388795,
          63.09646707751327,
          60.550276571509556,
          57.627277585330745,
          54.94067280312913,
          52.502040787132096,
          50.80744696752407,
          49.86380954627813
         ]
        },
        {
         "mode": "lines",
         "name": "1740 seconds",
         "type": "scatter",
         "x": [
          0.10495000000000002,
          0.3148500000000001,
          0.52475,
          0.7346500000000001,
          0.9445500000000001,
          1.1544500000000002,
          1.3643500000000004,
          1.5742500000000004,
          1.7841500000000003,
          1.9940500000000003
         ],
         "y": [
          66.88583796971254,
          66.25197025332268,
          64.9833968926582,
          63.074246801730965,
          60.53416030957226,
          57.917990868174535,
          55.23727535430254,
          53.046863352060484,
          51.355787640553096,
          50.50693380751809
         ]
        },
        {
         "mode": "lines",
         "name": "1800 seconds",
         "type": "scatter",
         "x": [
          0.10495000000000002,
          0.3148500000000001,
          0.52475,
          0.7346500000000001,
          0.9445500000000001,
          1.1544500000000002,
          1.3643500000000004,
          1.5742500000000004,
          1.7841500000000003,
          1.9940500000000003
         ],
         "y": [
          66.5641106972712,
          65.93224312823529,
          64.83518302700597,
          62.930924279911515,
          60.66846719197864,
          58.05816360685985,
          55.65508067601742,
          53.46926650054631,
          51.949752960889974,
          51.10260834366364
         ]
        },
        {
         "mode": "lines",
         "name": "1860 seconds",
         "type": "scatter",
         "x": [
          0.10495000000000002,
          0.3148500000000001,
          0.52475,
          0.7346500000000001,
          0.9445500000000001,
          1.1544500000000002,
          1.3643500000000004,
          1.5742500000000004,
          1.7841500000000003,
          1.9940500000000003
         ],
         "y": [
          66.24340481978315,
          65.69731896469605,
          64.60363116861618,
          62.924030227680944,
          60.66683338260218,
          58.33426864727636,
          55.936299141019326,
          53.975169649971384,
          52.45873626790177,
          51.69738607143208
         ]
        },
        {
         "mode": "lines",
         "name": "1920 seconds",
         "type": "scatter",
         "x": [
          0.10495000000000002,
          0.3148500000000001,
          0.52475,
          0.7346500000000001,
          0.9445500000000001,
          1.1544500000000002,
          1.3643500000000004,
          1.5742500000000004,
          1.7841500000000003,
          1.9940500000000003
         ],
         "y": [
          65.96550747834848,
          65.42130423343012,
          64.48277450511708,
          62.8073940241874,
          60.80149311268412,
          58.47399673012293,
          56.32733666777259,
          54.37020807970442,
          53.00906043231644,
          52.249221769612
         ]
        },
        {
         "mode": "lines",
         "name": "1980 seconds",
         "type": "scatter",
         "x": [
          0.10495000000000002,
          0.3148500000000001,
          0.52475,
          0.7346500000000001,
          0.9445500000000001,
          1.1544500000000002,
          1.3643500000000004,
          1.5742500000000004,
          1.7841500000000003,
          1.9940500000000003
         ],
         "y": [
          65.68856740701145,
          65.22196845574035,
          64.28642672904348,
          62.81434892410922,
          60.81298519908873,
          58.73688923781339,
          56.594656533883345,
          54.84090459311779,
          53.482446584267194,
          52.8002628319743
         ]
        },
        {
         "mode": "lines",
         "name": "2040 seconds",
         "type": "scatter",
         "x": [
          0.10495000000000002,
          0.3148500000000001,
          0.52475,
          0.7346500000000001,
          0.9445500000000001,
          1.1544500000000002,
          1.3643500000000004,
          1.5742500000000004,
          1.7841500000000003,
          1.9940500000000003
         ],
         "y": [
          65.45021222607008,
          64.98556904735855,
          64.1902833674219,
          62.72188132366555,
          60.94795756851607,
          58.87623654998067,
          56.961480880466134,
          55.21120058463109,
          53.993283667264606,
          53.31245151045531
         ]
        },
        {
         "mode": "lines",
         "name": "2100 seconds",
         "type": "scatter",
         "x": [
          0.10495000000000002,
          0.3148500000000001,
          0.52475,
          0.7346500000000001,
          0.9445500000000001,
          1.1544500000000002,
          1.3643500000000004,
          1.5742500000000004,
          1.7841500000000003,
          1.9940500000000003
         ],
         "y": [
          65.2128429365519,
          64.81835181946379,
          64.02583945706161,
          62.741343680327496,
          60.97134816591595,
          59.12717420021155,
          57.21624465601511,
          55.6500448950074,
          54.434479206540075,
          53.823928716848044
         ]
        },
        {
         "mode": "lines",
         "name": "2160 seconds",
         "type": "scatter",
         "x": [
          0.10495000000000002,
          0.3148500000000001,
          0.52475,
          0.7346500000000001,
          0.9445500000000001,
          1.1544500000000002,
          1.3643500000000004,
          1.5742500000000004,
          1.7841500000000003,
          1.9940500000000003
         ],
         "y": [
          65.01009947697474,
          64.61791830920744,
          63.95200439835895,
          62.67078064233688,
          61.10659178033324,
          59.266197780854874,
          57.56116220623152,
          55.9979724635346,
          54.90958122891105,
          54.300271226409656
         ]
        },
        {
         "mode": "lines",
         "name": "2220 seconds",
         "type": "scatter",
         "x": [
          0.10495000000000002,
          0.3148500000000001,
          0.52475,
          0.7346500000000001,
          0.9445500000000001,
          1.1544500000000002,
          1.3643500000000004,
          1.5742500000000004,
          1.7841500000000003,
          1.9940500000000003
         ],
         "y": [
          64.80850358128659,
          64.47963723062497,
          63.81653028107833,
          62.701527752948984,
          61.140776972481085,
          59.506313492649,
          57.80458490190911,
          56.40799361192608,
          55.32167323988725,
          54.775961018231655
         ]
        },
        {
         "mode": "lines",
         "name": "2280 seconds",
         "type": "scatter",
         "x": [
          0.10495000000000002,
          0.3148500000000001,
          0.52475,
          0.7346500000000001,
          0.9445500000000001,
          1.1544500000000002,
          1.3643500000000004,
          1.5742500000000004,
          1.7841500000000003,
          1.9940500000000003
         ],
         "y": [
          64.63774125435374,
          64.31194405425485,
          63.762801954751694,
          62.65085038854329,
          61.2762473988354,
          59.645068421967224,
          58.12967691336306,
          56.73570335931087,
          55.76442593471782,
          55.21990574867837
         ]
        },
        {
         "mode": "lines",
         "name": "2340 seconds",
         "type": "scatter",
         "x": [
          0.10495000000000002,
          0.3148500000000001,
          0.52475,
          0.7346500000000001,
          0.9445500000000001,
          1.1544500000000002,
          1.3643500000000004,
          1.5742500000000004,
          1.7841500000000003,
          1.9940500000000003
         ],
         "y": [
          64.46847015313517,
          64.19964310369598,
          63.653736344162326,
          62.69175966310593,
          61.32024494223135,
          59.87538098091,
          58.362860912600844,
          57.119634083725366,
          56.15021395919833,
          55.66322544098496
         ]
        },
        {
         "mode": "lines",
         "name": "2400 seconds",
         "type": "scatter",
         "x": [
          0.10495000000000002,
          0.3148500000000001,
          0.52475,
          0.7346500000000001,
          0.9445500000000001,
          1.1544500000000002,
          1.3643500000000004,
          1.5742500000000004,
          1.7841500000000003,
          1.9940500000000003
         ],
         "y": [
          64.32630533334438,
          64.06186346528432,
          63.61807781757164,
          62.65919751411719,
          61.45589066923465,
          60.01392692623644,
          58.67000332271135,
          57.4290766308663,
          56.56366940306464,
          56.07790343803203
         ]
        },
        {
         "mode": "lines",
         "name": "2460 seconds",
         "type": "scatter",
         "x": [
          0.10495000000000002,
          0.3148500000000001,
          0.52475,
          0.7346500000000001,
          0.9445500000000001,
          1.1544500000000002,
          1.3643500000000004,
          1.5742500000000004,
          1.7841500000000003,
          1.9940500000000003
         ],
         "y": [
          64.18620150602304,
          63.972743565505475,
          63.53326359901048,
          62.70922498966837,
          61.50884500855765,
          60.23534884387197,
          58.893953391446956,
          57.78937889647634,
          56.925695158604746,
          56.491945334432145
         ]
        },
        {
         "mode": "lines",
         "name": "2520 seconds",
         "type": "scatter",
         "x": [
          0.10495000000000002,
          0.3148500000000001,
          0.52475,
          0.7346500000000001,
          0.9445500000000001,
          1.1544500000000002,
          1.3643500000000004,
          1.5742500000000004,
          1.7841500000000003,
          1.9940500000000003
         ],
         "y": [
          64.06945125359616,
          63.86241122068305,
          63.51376235680527,
          62.6932767566864,
          61.64460058282647,
          60.373760121580354,
          59.184833356462406,
          58.08232738207933,
          57.312601932794635,
          56.88020189304165
         ]
        },
        {
         "mode": "lines",
         "name": "2580 seconds",
         "type": "scatter",
         "x": [
          0.10495000000000002,
          0.3148500000000001,
          0.52475,
          0.7346500000000001,
          0.9445500000000001,
          1.1544500000000002,
          1.3643500000000004,
          1.5742500000000004,
          1.7841500000000003,
          1.9940500000000003
         ],
         "y": [
          63.955570117711005,
          63.7937614586728,
          63.4514991094554,
          62.75143334703835,
          61.705798619201495,
          60.58710238120344,
          59.40047300963175,
          58.421214560185234,
          57.65317703583913,
          57.26776465574844
         ]
        },
        {
         "mode": "lines",
         "name": "2640 seconds",
         "type": "scatter",
         "x": [
          0.10495000000000002,
          0.3148500000000001,
          0.52475,
          0.7346500000000001,
          0.9445500000000001,
          1.1544500000000002,
          1.3643500000000004,
          1.5742500000000004,
          1.7841500000000003,
          1.9940500000000003
         ],
         "y": [
          63.86121701719695,
          63.70869088631527,
          63.44634341660425,
          62.75090712477848,
          61.841574966633736,
          60.725484208403394,
          59.67660196544365,
          58.69928703922541,
          58.01600847014582,
          57.63218744097177
         ]
        },
        {
         "mode": "lines",
         "name": "2700 seconds",
         "type": "scatter",
         "x": [
          0.10495000000000002,
          0.3148500000000001,
          0.52475,
          0.7346500000000001,
          0.9445500000000001,
          1.1544500000000002,
          1.3643500000000004,
          1.5742500000000004,
          1.7841500000000003,
          1.9940500000000003
         ],
         "y": [
          63.770715334638645,
          63.657855300689555,
          63.405424757205104,
          62.81624162640544,
          61.91047541330912,
          60.93145767566796,
          59.884793063145196,
          59.018742865666404,
          58.337240510925206,
          57.995805157722515
         ]
        },
        {
         "mode": "lines",
         "name": "2760 seconds",
         "type": "scatter",
         "x": [
          0.10495000000000002,
          0.3148500000000001,
          0.52475,
          0.7346500000000001,
          0.9445500000000001,
          1.1544500000000002,
          1.3643500000000004,
          1.5742500000000004,
          1.7841500000000003,
          1.9940500000000003
         ],
         "y": [
          63.69589014212751,
          63.59596053360505,
          63.41295601397412,
          62.83029972830408,
          62.04615155269594,
          61.06997120320853,
          60.14751603692048,
          59.28342590142299,
          58.67822141362515,
          58.33874917569843
         ]
        },
        {
         "mode": "lines",
         "name": "2820 seconds",
         "type": "scatter",
         "x": [
          0.10495000000000002,
          0.3148500000000001,
          0.52475,
          0.7346500000000001,
          0.9445500000000001,
          1.1544500000000002,
          1.3643500000000004,
          1.5742500000000004,
          1.7841500000000003,
          1.9940500000000003
         ],
         "y": [
          63.62587890870718,
          63.56040097010237,
          63.392600798165766,
          62.901921260058614,
          62.12242256267051,
          61.26918643056351,
          60.34908379347752,
          59.585220481980315,
          58.98203888688665,
          58.68071860484397
         ]
        },
        {
         "mode": "lines",
         "name": "2880 seconds",
         "type": "scatter",
         "x": [
          0.10495000000000002,
          0.3148500000000001,
          0.52475,
          0.7346500000000001,
          0.9445500000000001,
          1.1544500000000002,
          1.3643500000000004,
          1.5742500000000004,
          1.7841500000000003,
          1.9940500000000003
         ],
         "y": [
          63.56785692203359,
          63.51934131335242,
          63.411548810201865,
          62.930079508746566,
          62.25785565638442,
          61.408081443972904,
          60.59958571305995,
          59.83789543226254,
          59.303171138506066,
          59.00432862526974
         ]
        },
        {
         "mode": "lines",
         "name": "2940 seconds",
         "type": "scatter",
         "x": [
          0.10495000000000002,
          0.3148500000000001,
          0.52475,
          0.7346500000000001,
          0.9445500000000001,
          1.1544500000000002,
          1.3643500000000004,
          1.5742500000000004,
          1.7841500000000003,
          1.9940500000000003
         ],
         "y": [
          63.51525914474996,
          63.49679488128588,
          63.41113583299217,
          63.00728436897603,
          62.34139594554922,
          61.601055391530295,
          60.79534965751079,
          60.12359945294738,
          59.59134770339317,
          59.326735141734595
         ]
        },
        {
         "mode": "lines",
         "name": "3000 seconds",
         "type": "scatter",
         "x": [
          0.10495000000000002,
          0.3148500000000001,
          0.52475,
          0.7346500000000001,
          0.9445500000000001,
          1.1544500000000002,
          1.3643500000000004,
          1.5742500000000004,
          1.7841500000000003,
          1.9940500000000003
         ],
         "y": [
          63.47142800962398,
          63.473507363652935,
          63.44105654077086,
          63.049296769402545,
          62.476486488649066,
          61.74069910628205,
          61.03466344323697,
          60.36557184147389,
          59.894435545794686,
          59.63296631695069
         ]
        },
        {
         "mode": "lines",
         "name": "3060 seconds",
         "type": "scatter",
         "x": [
          0.10495000000000002,
          0.3148500000000001,
          0.52475,
          0.7346500000000001,
          0.9445500000000001,
          1.1544500000000002,
          1.3643500000000004,
          1.5742500000000004,
          1.7841500000000003,
          1.9940500000000003
         ],
         "y": [
          63.432950033154135,
          63.46198018450271,
          63.4598036798619,
          63.1318298334145,
          62.56738892542907,
          61.927889458433754,
          61.22546894210992,
          60.63657292074783,
          60.16861333765922,
          59.937709219595426
         ]
        },
        {
         "mode": "lines",
         "name": "3120 seconds",
         "type": "scatter",
         "x": [
          0.10495000000000002,
          0.3148500000000001,
          0.52475,
          0.7346500000000001,
          0.9445500000000001,
          1.1544500000000002,
          1.3643500000000004,
          1.5742500000000004,
          1.7841500000000003,
          1.9940500000000003
         ],
         "y": [
          63.40069565302099,
          63.45245947413119,
          63.50136617900411,
          63.18748912308178,
          62.7022274030807,
          62.06876817286856,
          61.45449829264711,
          60.869101250376815,
          60.455290727566506,
          60.22834644201628
         ]
        },
        {
         "mode": "lines",
         "name": "3180 seconds",
         "type": "scatter",
         "x": [
          0.10495000000000002,
          0.3148500000000001,
          0.52475,
          0.7346500000000001,
          0.9445500000000001,
          1.1544500000000002,
          1.3643500000000004,
          1.5742500000000004,
          1.7841500000000003,
          1.9940500000000003
         ],
         "y": [
          63.3730000525393,
          63.449686275448876,
          63.53840088402044,
          63.27576201031222,
          62.80068410025967,
          62.25065562374299,
          61.64123459477727,
          61.1266317946526,
          60.71700026409407,
          60.517164646451754
         ]
        },
        {
         "mode": "lines",
         "name": "3240 seconds",
         "type": "scatter",
         "x": [
          0.10495000000000002,
          0.3148500000000001,
          0.52475,
          0.7346500000000001,
          0.9445500000000001,
          1.1544500000000002,
          1.3643500000000004,
          1.5742500000000004,
          1.7841500000000003,
          1.9940500000000003
         ],
         "y": [
          63.3496094711818,
          63.44928464611594,
          63.59301803100437,
          63.34482578550351,
          62.93570151426167,
          62.39333980793985,
          61.86080818050758,
          61.35094567169189,
          60.98876541667441,
          60.79384050394272
         ]
        },
        {
         "mode": "lines",
         "name": "3300 seconds",
         "type": "scatter",
         "x": [
          0.10495000000000002,
          0.3148500000000001,
          0.52475,
          0.7346500000000001,
          0.9445500000000001,
          1.1544500000000002,
          1.3643500000000004,
          1.5742500000000004,
          1.7841500000000003,
          1.9940500000000003
         ],
         "y": [
          63.329592903629454,
          63.452108826697255,
          63.64773971413197,
          63.439773680700945,
          63.04194140804702,
          62.57053000928357,
          62.04440091626462,
          61.59613511083007,
          61.23943673265414,
          61.06834003339567
         ]
        },
        {
         "mode": "lines",
         "name": "3360 seconds",
         "type": "scatter",
         "x": [
          0.10495000000000002,
          0.3148500000000001,
          0.52475,
          0.7346500000000001,
          0.9445500000000001,
          1.1544500000000002,
          1.3643500000000004,
          1.5742500000000004,
          1.7841500000000003,
          1.9940500000000003
         ],
         "y": [
          63.31241336692619,
          63.45615282910283,
          63.71665066148164,
          63.52202138293972,
          63.17789032495667,
          62.71563735713316,
          62.25535337684985,
          61.8134314237059,
          61.49769979766926,
          61.33255060711781
         ]
        },
        {
         "mode": "lines",
         "name": "3420 seconds",
         "type": "scatter",
         "x": [
          0.10495000000000002,
          0.3148500000000001,
          0.52475,
          0.7346500000000001,
          0.9445500000000001,
          1.1544500000000002,
          1.3643500000000004,
          1.5742500000000004,
          1.7841500000000003,
          1.9940500000000003
         ],
         "y": [
          63.29745848808851,
          63.461032944176175,
          63.788384185055904,
          63.624593759626315,
          63.29216027883837,
          62.888896732941504,
          62.43673903065452,
          62.047384241376314,
          61.738660684625756,
          61.594234317258454
         ]
        },
        {
         "mode": "lines",
         "name": "3480 seconds",
         "type": "scatter",
         "x": [
          0.10495000000000002,
          0.3148500000000001,
          0.52475,
          0.7346500000000001,
          0.9445500000000001,
          1.1544500000000002,
          1.3643500000000004,
          1.5742500000000004,
          1.7841500000000003,
          1.9940500000000003
         ],
         "y": [
          63.284265877015535,
          63.46587134718596,
          63.87161350520009,
          63.719603285161895,
          63.42988394046212,
          63.037055752204466,
          62.63997953116867,
          62.258801883246946,
          61.98480174366028,
          61.8473530870625
         ]
        },
        {
         "mode": "lines",
         "name": "3540 seconds",
         "type": "scatter",
         "x": [
          0.10495000000000002,
          0.3148500000000001,
          0.52475,
          0.7346500000000001,
          0.9445500000000001,
          1.1544500000000002,
          1.3643500000000004,
          1.5742500000000004,
          1.7841500000000003,
          1.9940500000000003
         ],
         "y": [
          63.27244123361712,
          63.470359517368934,
          63.95870811201589,
          63.83017234333219,
          63.55227836301468,
          63.207243516685075,
          62.8200596664042,
          62.48267756423596,
          62.21726812025518,
          62.09764879498484
         ]
        },
        {
         "mode": "lines",
         "name": "3600 seconds",
         "type": "scatter",
         "x": [
          0.10495000000000002,
          0.3148500000000001,
          0.52475,
          0.7346500000000001,
          0.9445500000000001,
          1.1544500000000002,
          1.3643500000000004,
          1.5742500000000004,
          1.7841500000000003,
          1.9940500000000003
         ],
         "y": [
          63.26168484387258,
          63.47427671252545,
          64.05472552349165,
          63.93690269584412,
          63.69239886122603,
          63.3589586833125,
          63.01659688915419,
          62.68925520630844,
          62.45268607735516,
          62.34094106007953
         ]
        },
        {
         "mode": "lines",
         "name": "3660 seconds",
         "type": "scatter",
         "x": [
          0.10495000000000002,
          0.3148500000000001,
          0.52475,
          0.7346500000000001,
          0.9445500000000001,
          1.1544500000000002,
          1.3643500000000004,
          1.5742500000000004,
          1.7841500000000003,
          1.9940500000000003
         ],
         "y": [
          63.25176753296517,
          63.47760038769588,
          64.15464300260582,
          64.05503665703651,
          63.822569204198984,
          63.52690393911252,
          63.19612801899342,
          62.904316759903,
          62.677753140856886,
          62.58121947792936
         ]
        },
        {
         "mode": "lines",
         "name": "3720 seconds",
         "type": "scatter",
         "x": [
          0.10495000000000002,
          0.3148500000000001,
          0.52475,
          0.7346500000000001,
          0.9445500000000001,
          1.1544500000000002,
          1.3643500000000004,
          1.5742500000000004,
          1.7841500000000003,
          1.9940500000000003
         ],
         "y": [
          63.24251899875545,
          63.48036821663647,
          64.26125848508465,
          64.17186514310337,
          63.96533344787043,
          63.682333391588074,
          63.38705069604621,
          63.10692586096434,
          62.9038806812435,
          62.81585709150843
         ]
        },
        {
         "mode": "lines",
         "name": "3780 seconds",
         "type": "scatter",
         "x": [
          0.10495000000000002,
          0.3148500000000001,
          0.52475,
          0.7346500000000001,
          0.9445500000000001,
          1.1544500000000002,
          1.3643500000000004,
          1.5742500000000004,
          1.7841500000000003,
          1.9940500000000003
         ],
         "y": [
          63.2338121395639,
          63.48265259686722,
          64.37149148440052,
          64.2966813376462,
          64.10242404763376,
          63.848761727129904,
          63.566488106116836,
          63.314531699631445,
          63.122513638601774,
          63.047431622288556
         ]
        },
        {
         "mode": "lines",
         "name": "3840 seconds",
         "type": "scatter",
         "x": [
          0.10495000000000002,
          0.3148500000000001,
          0.52475,
          0.7346500000000001,
          0.9445500000000001,
          1.1544500000000002,
          1.3643500000000004,
          1.5742500000000004,
          1.7841500000000003,
          1.9940500000000003
         ],
         "y": [
          63.22555151461121,
          63.48452613998766,
          64.48675164303364,
          64.42183726207824,
          64.24783301643522,
          64.00761409002261,
          63.75292218942132,
          63.51380692790849,
          63.34078308650471,
          63.274501500885485
         ]
        },
        {
         "mode": "lines",
         "name": "3900 seconds",
         "type": "scatter",
         "x": [
          0.10495000000000002,
          0.3148500000000001,
          0.52475,
          0.7346500000000001,
          0.9445500000000001,
          1.1544500000000002,
          1.3643500000000004,
          1.5742500000000004,
          1.7841500000000003,
          1.9940500000000003
         ],
         "y": [
          63.21766434047027,
          63.48605397029221,
          64.60528680841033,
          64.55242499184214,
          64.39069348370842,
          64.1731742926855,
          63.932351640556064,
          63.71534094649278,
          63.55381169479912,
          63.4986068975039
         ]
        },
        {
         "mode": "lines",
         "name": "3960 seconds",
         "type": "scatter",
         "x": [
          0.10495000000000002,
          0.3148500000000001,
          0.52475,
          0.7346500000000001,
          0.9445500000000001,
          1.1544500000000002,
          1.3643500000000004,
          1.5742500000000004,
          1.7841500000000003,
          1.9940500000000003
         ],
         "y": [
          63.21009417791357,
          63.48729008551557,
          64.72767057766617,
          64.68430365348127,
          64.53868317290662,
          64.33482066109546,
          64.11540472489173,
          63.91167838784701,
          63.76557897616359,
          63.71910916074257
         ]
        },
        {
         "mode": "lines",
         "name": "4020 seconds",
         "type": "scatter",
         "x": [
          0.10495000000000002,
          0.3148500000000001,
          0.52475,
          0.7346500000000001,
          0.9445500000000001,
          1.1544500000000002,
          1.3643500000000004,
          1.5742500000000004,
          1.7841500000000003,
          1.9940500000000003
         ],
         "y": [
          63.20279648465713,
          63.48827879219829,
          64.85296112085025,
          64.81987374165978,
          64.68612574002425,
          64.50010284272997,
          64.29464137149316,
          64.10843973480355,
          63.97371415498741,
          63.936867036377414
         ]
        },
        {
         "mode": "lines",
         "name": "4080 seconds",
         "type": "scatter",
         "x": [
          0.10495000000000002,
          0.3148500000000001,
          0.52475,
          0.7346500000000001,
          0.9445500000000001,
          1.1544500000000002,
          1.3643500000000004,
          1.5742500000000004,
          1.7841500000000003,
          1.9940500000000003
         ],
         "y": [
          63.19573553522294,
          63.48905609486374,
          64.98127937651971,
          64.95714277630627,
          64.83661277789165,
          64.6638029480357,
          64.47530992354842,
          64.30208837307967,
          64.18017558491348,
          64.15170808769659
         ]
        },
        {
         "mode": "lines",
         "name": "4140 seconds",
         "type": "scatter",
         "x": [
          0.10495000000000002,
          0.3148500000000001,
          0.52475,
          0.7346500000000001,
          0.9445500000000001,
          1.1544500000000002,
          1.3643500000000004,
          1.5742500000000004,
          1.7841500000000003,
          1.9940500000000003
         ],
         "y": [
          63.18888224633926,
          63.48965160848829,
          65.11212494581477,
          65.09701310689334,
          64.9875975698673,
          64.82927839708992,
          64.65409304286864,
          64.49517893117566,
          64.3840468060483,
          64.36409839229191
         ]
        },
        {
         "mode": "lines",
         "name": "4200 seconds",
         "type": "scatter",
         "x": [
          0.10495000000000002,
          0.3148500000000001,
          0.52475,
          0.7346500000000001,
          0.9445500000000001,
          1.1544500000000002,
          1.3643500000000004,
          1.5742500000000004,
          1.7841500000000003,
          1.9940500000000003
         ],
         "y": [
          63.18221263023435,
          63.490089820828416,
          65.24541846782373,
          65.23862217173757,
          65.14044029225987,
          64.99438897084909,
          64.83315642598266,
          64.68635954416827,
          64.58618773494219,
          64.5740857461618
         ]
        },
        {
         "mode": "lines",
         "name": "4260 seconds",
         "type": "scatter",
         "x": [
          0.10495000000000002,
          0.3148500000000001,
          0.52475,
          0.7346500000000001,
          0.9445500000000001,
          1.1544500000000002,
          1.3643500000000004,
          1.5742500000000004,
          1.7841500000000003,
          1.9940500000000003
         ],
         "y": [
          63.17570666813793,
          63.49039125267729,
          65.38087499481115,
          65.38218159034555,
          65.29416455488608,
          65.1603413032962,
          65.01130966379871,
          64.8766205463837,
          64.78637296180403,
          64.78193829426083
         ]
        },
        {
         "mode": "lines",
         "name": "4320 seconds",
         "type": "scatter",
         "x": [
          0.10495000000000002,
          0.3148500000000001,
          0.52475,
          0.7346500000000001,
          0.9445500000000001,
          1.1544500000000002,
          1.3643500000000004,
          1.5742500000000004,
          1.7841500000000003,
          1.9940500000000003
         ],
         "y": [
          63.169347479364234,
          63.490573232986456,
          65.54328225140898,
          65.35283620284251,
          65.47406933149787,
          65.35134454384679,
          65.21421374239605,
          65.09051866581896,
          65.00989371514811,
          65.012706027308
         ]
        },
        {
         "mode": "lines",
         "name": "4380 seconds",
         "type": "scatter",
         "x": [
          0.10495000000000002,
          0.3148500000000001,
          0.52475,
          0.7346500000000001,
          0.9445500000000001,
          1.1544500000000002,
          1.3643500000000004,
          1.5742500000000004,
          1.7841500000000003,
          1.9940500000000003
         ],
         "y": [
          63.16312069591235,
          63.49065550543789,
          65.61285419923702,
          65.61422777317334,
          65.58501233102956,
          65.51787111077876,
          65.39169303981315,
          65.27854423688017,
          65.20692266951205,
          65.21670954292662
         ]
        },
        {
         "mode": "lines",
         "name": "4440 seconds",
         "type": "scatter",
         "x": [
          0.10495000000000002,
          0.3148500000000001,
          0.52475,
          0.7346500000000001,
          0.9445500000000001,
          1.1544500000000002,
          1.3643500000000004,
          1.5742500000000004,
          1.7841500000000003,
          1.9940500000000003
         ],
         "y": [
          63.15701407700759,
          63.49063186636514,
          65.77522359490756,
          65.60373102300468,
          65.77039607493289,
          65.69362288295935,
          65.59381220698869,
          65.49052095446396,
          65.42749186885555,
          65.44393593038255
         ]
        },
        {
         "mode": "lines",
         "name": "4500 seconds",
         "type": "scatter",
         "x": [
          0.10495000000000002,
          0.3148500000000001,
          0.52475,
          0.7346500000000001,
          0.9445500000000001,
          1.1544500000000002,
          1.3643500000000004,
          1.5742500000000004,
          1.7841500000000003,
          1.9940500000000003
         ],
         "y": [
          63.151016703104325,
          63.49053170253924,
          65.85288713684292,
          65.86134792251828,
          65.89372387832184,
          65.85764770668885,
          65.76471349790125,
          65.67672615767664,
          65.62183557911217,
          65.64466223685623
         ]
        },
        {
         "mode": "lines",
         "name": "4560 seconds",
         "type": "scatter",
         "x": [
          0.10495000000000002,
          0.3148500000000001,
          0.52475,
          0.7346500000000001,
          0.9445500000000001,
          1.1544500000000002,
          1.3643500000000004,
          1.5742500000000004,
          1.7841500000000003,
          1.9940500000000003
         ],
         "y": [
          63.14511937985065,
          63.49034737661823,
          66.09669739386155,
          65.86440191079508,
          65.87411728467941,
          65.83669485917048,
          66.043343661056,
          65.96470870628607,
          65.91968888821329,
          65.9486286742207
         ]
        },
        {
         "mode": "lines",
         "name": "4620 seconds",
         "type": "scatter",
         "x": [
          0.10495000000000002,
          0.3148500000000001,
          0.52475,
          0.7346500000000001,
          0.9445500000000001,
          1.1544500000000002,
          1.3643500000000004,
          1.5742500000000004,
          1.7841500000000003,
          1.9940500000000003
         ],
         "y": [
          63.13931377799083,
          63.49012026533756,
          66.1474727065365,
          66.12515373437516,
          66.03368154201023,
          66.04783571910929,
          66.16332653199646,
          66.14779802939316,
          66.11109571780219,
          66.14654576145837
         ]
        },
        {
         "mode": "lines",
         "name": "4680 seconds",
         "type": "scatter",
         "x": [
          0.10495000000000002,
          0.3148500000000001,
          0.52475,
          0.7346500000000001,
          0.9445500000000001,
          1.1544500000000002,
          1.3643500000000004,
          1.5742500000000004,
          1.7841500000000003,
          1.9940500000000003
         ],
         "y": [
          63.13359305220521,
          63.48981883670331,
          66.33671543135272,
          66.33342977138038,
          66.29536820373923,
          66.29573160630564,
          66.13597257926948,
          66.13948127943671,
          66.35952865568795,
          66.40124368646347
         ]
        },
        {
         "mode": "lines",
         "name": "4740 seconds",
         "type": "scatter",
         "x": [
          0.10495000000000002,
          0.3148500000000001,
          0.52475,
          0.7346500000000001,
          0.9445500000000001,
          1.1544500000000002,
          1.3643500000000004,
          1.5742500000000004,
          1.7841500000000003,
          1.9940500000000003
         ],
         "y": [
          63.12795057565455,
          63.489477260348906,
          66.53097964522287,
          66.55415216572746,
          66.53619995390261,
          66.47148947313111,
          66.42163570608406,
          66.39838401240952,
          66.33709649062409,
          66.42199885780528
         ]
        },
        {
         "mode": "lines",
         "name": "4800 seconds",
         "type": "scatter",
         "x": [
          0.10495000000000002,
          0.3148500000000001,
          0.52475,
          0.7346500000000001,
          0.9445500000000001,
          1.1544500000000002,
          1.3643500000000004,
          1.5742500000000004,
          1.7841500000000003,
          1.9940500000000003
         ],
         "y": [
          63.12238082819787,
          63.489102058751826,
          66.73148979971823,
          66.5416493131983,
          66.51978298083418,
          66.70655331543284,
          66.65980526564122,
          66.61720707259572,
          66.60192509367602,
          66.66789917616485
         ]
        },
        {
         "mode": "lines",
         "name": "4860 seconds",
         "type": "scatter",
         "x": [
          0.10495000000000002,
          0.3148500000000001,
          0.52475,
          0.7346500000000001,
          0.9445500000000001,
          1.1544500000000002,
          1.3643500000000004,
          1.5742500000000004,
          1.7841500000000003,
          1.9940500000000003
         ],
         "y": [
          63.11687887361915,
          63.48869941277639,
          66.80104555792978,
          66.77530554467654,
          66.72521007847484,
          66.83813038247489,
          66.83321225825003,
          66.79716369817199,
          66.7918715330479,
          66.85865034968798
         ]
        },
        {
         "mode": "lines",
         "name": "4920 seconds",
         "type": "scatter",
         "x": [
          0.10495000000000002,
          0.3148500000000001,
          0.52475,
          0.7346500000000001,
          0.9445500000000001,
          1.1544500000000002,
          1.3643500000000004,
          1.5742500000000004,
          1.7841500000000003,
          1.9940500000000003
         ],
         "y": [
          63.111440282229196,
          63.488247716280405,
          67.03570722721535,
          67.04490408217835,
          67.03680342494442,
          66.81385351292165,
          66.82227341045486,
          67.08248007147255,
          67.08401530448708,
          66.87475934997576
         ]
        },
        {
         "mode": "lines",
         "name": "4980 seconds",
         "type": "scatter",
         "x": [
          0.10495000000000002,
          0.3148500000000001,
          0.52475,
          0.7346500000000001,
          0.9445500000000001,
          1.1544500000000002,
          1.3643500000000004,
          1.5742500000000004,
          1.7841500000000003,
          1.9940500000000003
         ],
         "y": [
          63.106060749887995,
          63.48778410827379,
          67.34921160536902,
          67.03822307289175,
          66.95453555808115,
          67.24451371155558,
          67.1979716938224,
          67.04936231187936,
          67.00543728468672,
          67.3296508616515
         ]
        },
        {
         "mode": "lines",
         "name": "5040 seconds",
         "type": "scatter",
         "x": [
          0.10495000000000002,
          0.3148500000000001,
          0.52475,
          0.7346500000000001,
          0.9445500000000001,
          1.1544500000000002,
          1.3643500000000004,
          1.5742500000000004,
          1.7841500000000003,
          1.9940500000000003
         ],
         "y": [
          63.10073675086399,
          63.48732778932059,
          67.36282143931903,
          67.30823710561877,
          67.18389560079467,
          67.371610338673,
          67.33320433507892,
          67.25917771336265,
          67.22255679260965,
          67.50138453944135
         ]
        },
        {
         "mode": "lines",
         "name": "5100 seconds",
         "type": "scatter",
         "x": [
          0.10495000000000002,
          0.3148500000000001,
          0.52475,
          0.7346500000000001,
          0.9445500000000001,
          1.1544500000000002,
          1.3643500000000004,
          1.5742500000000004,
          1.7841500000000003,
          1.9940500000000003
         ],
         "y": [
          63.09546523265776,
          63.48682217862302,
          67.54217622060504,
          67.51380655644998,
          67.48196450400594,
          67.33113281735976,
          67.55213907258714,
          67.50133543169713,
          67.49456443927646,
          67.4996919577245
         ]
        },
        {
         "mode": "lines",
         "name": "5160 seconds",
         "type": "scatter",
         "x": [
          0.10495000000000002,
          0.3148500000000001,
          0.52475,
          0.7346500000000001,
          0.9445500000000001,
          1.1544500000000002,
          1.3643500000000004,
          1.5742500000000004,
          1.7841500000000003,
          1.9940500000000003
         ],
         "y": [
          63.090242794662814,
          63.48630363954102,
          67.69614920919415,
          67.70984517894351,
          67.63681711232095,
          67.60845719294802,
          67.50595141054752,
          67.71095733247242,
          67.69459145324903,
          67.72787958541971
         ]
        },
        {
         "mode": "lines",
         "name": "5220 seconds",
         "type": "scatter",
         "x": [
          0.10495000000000002,
          0.3148500000000001,
          0.52475,
          0.7346500000000001,
          0.9445500000000001,
          1.1544500000000002,
          1.3643500000000004,
          1.5742500000000004,
          1.7841500000000003,
          1.9940500000000003
         ],
         "y": [
          63.08506666131634,
          63.485769900583655,
          67.9407625293459,
          67.68261320929895,
          67.92755398319183,
          67.86091003267906,
          67.84334517677951,
          67.67566255541493,
          67.983290859738,
          67.7502591271204
         ]
        },
        {
         "mode": "lines",
         "name": "5280 seconds",
         "type": "scatter",
         "x": [
          0.10495000000000002,
          0.3148500000000001,
          0.52475,
          0.7346500000000001,
          0.9445500000000001,
          1.1544500000000002,
          1.3643500000000004,
          1.5742500000000004,
          1.7841500000000003,
          1.9940500000000003
         ],
         "y": [
          63.079934237984695,
          63.48524157859735,
          68.00412557451828,
          68.00832469896979,
          68.07461068615726,
          68.07274745284018,
          67.98717025070607,
          67.96294472945229,
          67.86188221024963,
          68.06624141163705
         ]
        },
        {
         "mode": "lines",
         "name": "5340 seconds",
         "type": "scatter",
         "x": [
          0.10495000000000002,
          0.3148500000000001,
          0.52475,
          0.7346500000000001,
          0.9445500000000001,
          1.1544500000000002,
          1.3643500000000004,
          1.5742500000000004,
          1.7841500000000003,
          1.9940500000000003
         ],
         "y": [
          63.074843296393965,
          63.48468485972783,
          68.31619299310563,
          68.01877241847157,
          68.05785248046917,
          68.04495812481572,
          68.35318270013335,
          68.28454223778438,
          68.26849227569676,
          68.06762986521684
         ]
        },
        {
         "mode": "lines",
         "name": "5400 seconds",
         "type": "scatter",
         "x": [
          0.10495000000000002,
          0.3148500000000001,
          0.52475,
          0.7346500000000001,
          0.9445500000000001,
          1.1544500000000002,
          1.3643500000000004,
          1.5742500000000004,
          1.7841500000000003,
          1.9940500000000003
         ],
         "y": [
          63.069791470561505,
          63.484151563293906,
          68.360979564441,
          68.34122378209725,
          68.24271053883407,
          68.27778276174061,
          68.2982308407098,
          68.4974372104628,
          68.39756947014453,
          68.36915285896568
         ]
        },
        {
         "mode": "lines",
         "name": "5460 seconds",
         "type": "scatter",
         "x": [
          0.10495000000000002,
          0.3148500000000001,
          0.52475,
          0.7346500000000001,
          0.9445500000000001,
          1.1544500000000002,
          1.3643500000000004,
          1.5742500000000004,
          1.7841500000000003,
          1.9940500000000003
         ],
         "y": [
          63.06477698077449,
          63.48359031761675,
          68.5969401163878,
          68.59270193621292,
          68.5579819113469,
          68.55140482392129,
          68.59845498402116,
          68.43573901578596,
          68.41851969368614,
          68.40673921191589
         ]
        },
        {
         "mode": "lines",
         "name": "5520 seconds",
         "type": "scatter",
         "x": [
          0.10495000000000002,
          0.3148500000000001,
          0.52475,
          0.7346500000000001,
          0.9445500000000001,
          1.1544500000000002,
          1.3643500000000004,
          1.5742500000000004,
          1.7841500000000003,
          1.9940500000000003
         ],
         "y": [
          63.0597977539432,
          63.48304121061225,
          68.75719218299473,
          68.78133484302825,
          68.76274501724059,
          68.76047770858793,
          68.52993010292016,
          68.68395171593498,
          68.6169830923961,
          68.63916344612389
         ]
        },
        {
         "mode": "lines",
         "name": "5580 seconds",
         "type": "scatter",
         "x": [
          0.10495000000000002,
          0.3148500000000001,
          0.52475,
          0.7346500000000001,
          0.9445500000000001,
          1.1544500000000002,
          1.3643500000000004,
          1.5742500000000004,
          1.7841500000000003,
          1.9940500000000003
         ],
         "y": [
          63.05485215731589,
          63.482490816663564,
          69.00392279322556,
          68.76836278590619,
          68.76461386098389,
          68.67320611676769,
          68.91709076539516,
          68.91622817990968,
          68.91849801025478,
          68.94306215600692
         ]
        },
        {
         "mode": "lines",
         "name": "5640 seconds",
         "type": "scatter",
         "x": [
          0.10495000000000002,
          0.3148500000000001,
          0.52475,
          0.7346500000000001,
          0.9445500000000001,
          1.1544500000000002,
          1.3643500000000004,
          1.5742500000000004,
          1.7841500000000003,
          1.9940500000000003
         ],
         "y": [
          63.04993855811214,
          63.48195796090301,
          69.05252340196655,
          69.02717985059049,
          68.90970490315095,
          68.9037163531429,
          69.0584104181765,
          69.08906786385771,
          69.09576169255908,
          69.14171725080419
         ]
        },
        {
         "mode": "lines",
         "name": "5700 seconds",
         "type": "scatter",
         "x": [
          0.10495000000000002,
          0.3148500000000001,
          0.52475,
          0.7346500000000001,
          0.9445500000000001,
          1.1544500000000002,
          1.3643500000000004,
          1.5742500000000004,
          1.7841500000000003,
          1.9940500000000003
         ],
         "y": [
          63.0450555507726,
          63.48140464856224,
          69.35656270794418,
          69.34290492210269,
          69.29229758993198,
          69.27682552543897,
          69.03802001320662,
          69.081189972417,
          69.10186483413824,
          69.16144674345504
         ]
        },
        {
         "mode": "lines",
         "name": "5760 seconds",
         "type": "scatter",
         "x": [
          0.10495000000000002,
          0.3148500000000001,
          0.52475,
          0.7346500000000001,
          0.9445500000000001,
          1.1544500000000002,
          1.3643500000000004,
          1.5742500000000004,
          1.7841500000000003,
          1.9940500000000003
         ],
         "y": [
          63.040201559282046,
          63.48088324687107,
          69.48924624406361,
          69.50423598748134,
          69.47456785803955,
          69.36370705177453,
          69.30890415918606,
          69.24850360222857,
          69.28173128626088,
          69.35313553377325
         ]
        },
        {
         "mode": "lines",
         "name": "5820 seconds",
         "type": "scatter",
         "x": [
          0.10495000000000002,
          0.3148500000000001,
          0.52475,
          0.7346500000000001,
          0.9445500000000001,
          1.1544500000000002,
          1.3643500000000004,
          1.5742500000000004,
          1.7841500000000003,
          1.9940500000000003
         ],
         "y": [
          63.03537543570272,
          63.48036082375732,
          69.65396964001036,
          69.49020036666447,
          69.644450006055,
          69.58016591490215,
          69.50408322897123,
          69.47046271148272,
          69.48582161338854,
          69.5677146930574
         ]
        },
        {
         "mode": "lines",
         "name": "5880 seconds",
         "type": "scatter",
         "x": [
          0.10495000000000002,
          0.3148500000000001,
          0.52475,
          0.7346500000000001,
          0.9445500000000001,
          1.1544500000000002,
          1.3643500000000004,
          1.5742500000000004,
          1.7841500000000003,
          1.9940500000000003
         ],
         "y": [
          63.03057588834299,
          63.47984503963212,
          69.73397346246203,
          69.74337973693893,
          69.77286062913086,
          69.74825415965879,
          69.68957521802768,
          69.65531173438268,
          69.67057427411353,
          69.75568529833357
         ]
        },
        {
         "mode": "lines",
         "name": "5940 seconds",
         "type": "scatter",
         "x": [
          0.10495000000000002,
          0.3148500000000001,
          0.52475,
          0.7346500000000001,
          0.9445500000000001,
          1.1544500000000002,
          1.3643500000000004,
          1.5742500000000004,
          1.7841500000000003,
          1.9940500000000003
         ],
         "y": [
          63.025801744035554,
          63.47932021953709,
          70.04689153124455,
          69.74545326286795,
          69.7570275834356,
          69.7355215829768,
          70.04359796694324,
          70.01481144607177,
          70.03032177116543,
          69.7686633532694
         ]
        },
        {
         "mode": "lines",
         "name": "6000 seconds",
         "type": "scatter",
         "x": [
          0.10495000000000002,
          0.3148500000000001,
          0.52475,
          0.7346500000000001,
          0.9445500000000001,
          1.1544500000000002,
          1.3643500000000004,
          1.5742500000000004,
          1.7841500000000003,
          1.9940500000000003
         ],
         "y": [
          63.02105180714737,
          63.478833869491126,
          70.0644287468743,
          70.03881122884246,
          69.9205742356993,
          69.94569336424283,
          70.17542362728739,
          70.19827916322193,
          70.09886029558982,
          70.0727791451878
         ]
        }
       ],
       "layout": {
        "legend": {
         "title": {
          "text": "Time Passed"
         }
        },
        "shapes": [
         {
          "line": {
           "color": "grey",
           "dash": "dot",
           "width": 1
          },
          "type": "line",
          "x0": 0.20990000000000003,
          "x1": 0.20990000000000003,
          "xref": "x",
          "y0": 0,
          "y1": 1,
          "yref": "paper"
         },
         {
          "line": {
           "color": "grey",
           "dash": "dot",
           "width": 1
          },
          "type": "line",
          "x0": 0.41980000000000006,
          "x1": 0.41980000000000006,
          "xref": "x",
          "y0": 0,
          "y1": 1,
          "yref": "paper"
         },
         {
          "line": {
           "color": "grey",
           "dash": "dot",
           "width": 1
          },
          "type": "line",
          "x0": 0.6297000000000001,
          "x1": 0.6297000000000001,
          "xref": "x",
          "y0": 0,
          "y1": 1,
          "yref": "paper"
         },
         {
          "line": {
           "color": "grey",
           "dash": "dot",
           "width": 1
          },
          "type": "line",
          "x0": 0.8396000000000001,
          "x1": 0.8396000000000001,
          "xref": "x",
          "y0": 0,
          "y1": 1,
          "yref": "paper"
         },
         {
          "line": {
           "color": "grey",
           "dash": "dot",
           "width": 1
          },
          "type": "line",
          "x0": 1.0495,
          "x1": 1.0495,
          "xref": "x",
          "y0": 0,
          "y1": 1,
          "yref": "paper"
         },
         {
          "line": {
           "color": "grey",
           "dash": "dot",
           "width": 1
          },
          "type": "line",
          "x0": 1.2594,
          "x1": 1.2594,
          "xref": "x",
          "y0": 0,
          "y1": 1,
          "yref": "paper"
         },
         {
          "line": {
           "color": "grey",
           "dash": "dot",
           "width": 1
          },
          "type": "line",
          "x0": 1.4693000000000003,
          "x1": 1.4693000000000003,
          "xref": "x",
          "y0": 0,
          "y1": 1,
          "yref": "paper"
         },
         {
          "line": {
           "color": "grey",
           "dash": "dot",
           "width": 1
          },
          "type": "line",
          "x0": 1.6792000000000002,
          "x1": 1.6792000000000002,
          "xref": "x",
          "y0": 0,
          "y1": 1,
          "yref": "paper"
         },
         {
          "line": {
           "color": "grey",
           "dash": "dot",
           "width": 1
          },
          "type": "line",
          "x0": 1.8891000000000002,
          "x1": 1.8891000000000002,
          "xref": "x",
          "y0": 0,
          "y1": 1,
          "yref": "paper"
         }
        ],
        "template": {
         "data": {
          "bar": [
           {
            "error_x": {
             "color": "#2a3f5f"
            },
            "error_y": {
             "color": "#2a3f5f"
            },
            "marker": {
             "line": {
              "color": "#E5ECF6",
              "width": 0.5
             },
             "pattern": {
              "fillmode": "overlay",
              "size": 10,
              "solidity": 0.2
             }
            },
            "type": "bar"
           }
          ],
          "barpolar": [
           {
            "marker": {
             "line": {
              "color": "#E5ECF6",
              "width": 0.5
             },
             "pattern": {
              "fillmode": "overlay",
              "size": 10,
              "solidity": 0.2
             }
            },
            "type": "barpolar"
           }
          ],
          "carpet": [
           {
            "aaxis": {
             "endlinecolor": "#2a3f5f",
             "gridcolor": "white",
             "linecolor": "white",
             "minorgridcolor": "white",
             "startlinecolor": "#2a3f5f"
            },
            "baxis": {
             "endlinecolor": "#2a3f5f",
             "gridcolor": "white",
             "linecolor": "white",
             "minorgridcolor": "white",
             "startlinecolor": "#2a3f5f"
            },
            "type": "carpet"
           }
          ],
          "choropleth": [
           {
            "colorbar": {
             "outlinewidth": 0,
             "ticks": ""
            },
            "type": "choropleth"
           }
          ],
          "contour": [
           {
            "colorbar": {
             "outlinewidth": 0,
             "ticks": ""
            },
            "colorscale": [
             [
              0,
              "#0d0887"
             ],
             [
              0.1111111111111111,
              "#46039f"
             ],
             [
              0.2222222222222222,
              "#7201a8"
             ],
             [
              0.3333333333333333,
              "#9c179e"
             ],
             [
              0.4444444444444444,
              "#bd3786"
             ],
             [
              0.5555555555555556,
              "#d8576b"
             ],
             [
              0.6666666666666666,
              "#ed7953"
             ],
             [
              0.7777777777777778,
              "#fb9f3a"
             ],
             [
              0.8888888888888888,
              "#fdca26"
             ],
             [
              1,
              "#f0f921"
             ]
            ],
            "type": "contour"
           }
          ],
          "contourcarpet": [
           {
            "colorbar": {
             "outlinewidth": 0,
             "ticks": ""
            },
            "type": "contourcarpet"
           }
          ],
          "heatmap": [
           {
            "colorbar": {
             "outlinewidth": 0,
             "ticks": ""
            },
            "colorscale": [
             [
              0,
              "#0d0887"
             ],
             [
              0.1111111111111111,
              "#46039f"
             ],
             [
              0.2222222222222222,
              "#7201a8"
             ],
             [
              0.3333333333333333,
              "#9c179e"
             ],
             [
              0.4444444444444444,
              "#bd3786"
             ],
             [
              0.5555555555555556,
              "#d8576b"
             ],
             [
              0.6666666666666666,
              "#ed7953"
             ],
             [
              0.7777777777777778,
              "#fb9f3a"
             ],
             [
              0.8888888888888888,
              "#fdca26"
             ],
             [
              1,
              "#f0f921"
             ]
            ],
            "type": "heatmap"
           }
          ],
          "heatmapgl": [
           {
            "colorbar": {
             "outlinewidth": 0,
             "ticks": ""
            },
            "colorscale": [
             [
              0,
              "#0d0887"
             ],
             [
              0.1111111111111111,
              "#46039f"
             ],
             [
              0.2222222222222222,
              "#7201a8"
             ],
             [
              0.3333333333333333,
              "#9c179e"
             ],
             [
              0.4444444444444444,
              "#bd3786"
             ],
             [
              0.5555555555555556,
              "#d8576b"
             ],
             [
              0.6666666666666666,
              "#ed7953"
             ],
             [
              0.7777777777777778,
              "#fb9f3a"
             ],
             [
              0.8888888888888888,
              "#fdca26"
             ],
             [
              1,
              "#f0f921"
             ]
            ],
            "type": "heatmapgl"
           }
          ],
          "histogram": [
           {
            "marker": {
             "pattern": {
              "fillmode": "overlay",
              "size": 10,
              "solidity": 0.2
             }
            },
            "type": "histogram"
           }
          ],
          "histogram2d": [
           {
            "colorbar": {
             "outlinewidth": 0,
             "ticks": ""
            },
            "colorscale": [
             [
              0,
              "#0d0887"
             ],
             [
              0.1111111111111111,
              "#46039f"
             ],
             [
              0.2222222222222222,
              "#7201a8"
             ],
             [
              0.3333333333333333,
              "#9c179e"
             ],
             [
              0.4444444444444444,
              "#bd3786"
             ],
             [
              0.5555555555555556,
              "#d8576b"
             ],
             [
              0.6666666666666666,
              "#ed7953"
             ],
             [
              0.7777777777777778,
              "#fb9f3a"
             ],
             [
              0.8888888888888888,
              "#fdca26"
             ],
             [
              1,
              "#f0f921"
             ]
            ],
            "type": "histogram2d"
           }
          ],
          "histogram2dcontour": [
           {
            "colorbar": {
             "outlinewidth": 0,
             "ticks": ""
            },
            "colorscale": [
             [
              0,
              "#0d0887"
             ],
             [
              0.1111111111111111,
              "#46039f"
             ],
             [
              0.2222222222222222,
              "#7201a8"
             ],
             [
              0.3333333333333333,
              "#9c179e"
             ],
             [
              0.4444444444444444,
              "#bd3786"
             ],
             [
              0.5555555555555556,
              "#d8576b"
             ],
             [
              0.6666666666666666,
              "#ed7953"
             ],
             [
              0.7777777777777778,
              "#fb9f3a"
             ],
             [
              0.8888888888888888,
              "#fdca26"
             ],
             [
              1,
              "#f0f921"
             ]
            ],
            "type": "histogram2dcontour"
           }
          ],
          "mesh3d": [
           {
            "colorbar": {
             "outlinewidth": 0,
             "ticks": ""
            },
            "type": "mesh3d"
           }
          ],
          "parcoords": [
           {
            "line": {
             "colorbar": {
              "outlinewidth": 0,
              "ticks": ""
             }
            },
            "type": "parcoords"
           }
          ],
          "pie": [
           {
            "automargin": true,
            "type": "pie"
           }
          ],
          "scatter": [
           {
            "fillpattern": {
             "fillmode": "overlay",
             "size": 10,
             "solidity": 0.2
            },
            "type": "scatter"
           }
          ],
          "scatter3d": [
           {
            "line": {
             "colorbar": {
              "outlinewidth": 0,
              "ticks": ""
             }
            },
            "marker": {
             "colorbar": {
              "outlinewidth": 0,
              "ticks": ""
             }
            },
            "type": "scatter3d"
           }
          ],
          "scattercarpet": [
           {
            "marker": {
             "colorbar": {
              "outlinewidth": 0,
              "ticks": ""
             }
            },
            "type": "scattercarpet"
           }
          ],
          "scattergeo": [
           {
            "marker": {
             "colorbar": {
              "outlinewidth": 0,
              "ticks": ""
             }
            },
            "type": "scattergeo"
           }
          ],
          "scattergl": [
           {
            "marker": {
             "colorbar": {
              "outlinewidth": 0,
              "ticks": ""
             }
            },
            "type": "scattergl"
           }
          ],
          "scattermapbox": [
           {
            "marker": {
             "colorbar": {
              "outlinewidth": 0,
              "ticks": ""
             }
            },
            "type": "scattermapbox"
           }
          ],
          "scatterpolar": [
           {
            "marker": {
             "colorbar": {
              "outlinewidth": 0,
              "ticks": ""
             }
            },
            "type": "scatterpolar"
           }
          ],
          "scatterpolargl": [
           {
            "marker": {
             "colorbar": {
              "outlinewidth": 0,
              "ticks": ""
             }
            },
            "type": "scatterpolargl"
           }
          ],
          "scatterternary": [
           {
            "marker": {
             "colorbar": {
              "outlinewidth": 0,
              "ticks": ""
             }
            },
            "type": "scatterternary"
           }
          ],
          "surface": [
           {
            "colorbar": {
             "outlinewidth": 0,
             "ticks": ""
            },
            "colorscale": [
             [
              0,
              "#0d0887"
             ],
             [
              0.1111111111111111,
              "#46039f"
             ],
             [
              0.2222222222222222,
              "#7201a8"
             ],
             [
              0.3333333333333333,
              "#9c179e"
             ],
             [
              0.4444444444444444,
              "#bd3786"
             ],
             [
              0.5555555555555556,
              "#d8576b"
             ],
             [
              0.6666666666666666,
              "#ed7953"
             ],
             [
              0.7777777777777778,
              "#fb9f3a"
             ],
             [
              0.8888888888888888,
              "#fdca26"
             ],
             [
              1,
              "#f0f921"
             ]
            ],
            "type": "surface"
           }
          ],
          "table": [
           {
            "cells": {
             "fill": {
              "color": "#EBF0F8"
             },
             "line": {
              "color": "white"
             }
            },
            "header": {
             "fill": {
              "color": "#C8D4E3"
             },
             "line": {
              "color": "white"
             }
            },
            "type": "table"
           }
          ]
         },
         "layout": {
          "annotationdefaults": {
           "arrowcolor": "#2a3f5f",
           "arrowhead": 0,
           "arrowwidth": 1
          },
          "autotypenumbers": "strict",
          "coloraxis": {
           "colorbar": {
            "outlinewidth": 0,
            "ticks": ""
           }
          },
          "colorscale": {
           "diverging": [
            [
             0,
             "#8e0152"
            ],
            [
             0.1,
             "#c51b7d"
            ],
            [
             0.2,
             "#de77ae"
            ],
            [
             0.3,
             "#f1b6da"
            ],
            [
             0.4,
             "#fde0ef"
            ],
            [
             0.5,
             "#f7f7f7"
            ],
            [
             0.6,
             "#e6f5d0"
            ],
            [
             0.7,
             "#b8e186"
            ],
            [
             0.8,
             "#7fbc41"
            ],
            [
             0.9,
             "#4d9221"
            ],
            [
             1,
             "#276419"
            ]
           ],
           "sequential": [
            [
             0,
             "#0d0887"
            ],
            [
             0.1111111111111111,
             "#46039f"
            ],
            [
             0.2222222222222222,
             "#7201a8"
            ],
            [
             0.3333333333333333,
             "#9c179e"
            ],
            [
             0.4444444444444444,
             "#bd3786"
            ],
            [
             0.5555555555555556,
             "#d8576b"
            ],
            [
             0.6666666666666666,
             "#ed7953"
            ],
            [
             0.7777777777777778,
             "#fb9f3a"
            ],
            [
             0.8888888888888888,
             "#fdca26"
            ],
            [
             1,
             "#f0f921"
            ]
           ],
           "sequentialminus": [
            [
             0,
             "#0d0887"
            ],
            [
             0.1111111111111111,
             "#46039f"
            ],
            [
             0.2222222222222222,
             "#7201a8"
            ],
            [
             0.3333333333333333,
             "#9c179e"
            ],
            [
             0.4444444444444444,
             "#bd3786"
            ],
            [
             0.5555555555555556,
             "#d8576b"
            ],
            [
             0.6666666666666666,
             "#ed7953"
            ],
            [
             0.7777777777777778,
             "#fb9f3a"
            ],
            [
             0.8888888888888888,
             "#fdca26"
            ],
            [
             1,
             "#f0f921"
            ]
           ]
          },
          "colorway": [
           "#636efa",
           "#EF553B",
           "#00cc96",
           "#ab63fa",
           "#FFA15A",
           "#19d3f3",
           "#FF6692",
           "#B6E880",
           "#FF97FF",
           "#FECB52"
          ],
          "font": {
           "color": "#2a3f5f"
          },
          "geo": {
           "bgcolor": "white",
           "lakecolor": "white",
           "landcolor": "#E5ECF6",
           "showlakes": true,
           "showland": true,
           "subunitcolor": "white"
          },
          "hoverlabel": {
           "align": "left"
          },
          "hovermode": "closest",
          "mapbox": {
           "style": "light"
          },
          "paper_bgcolor": "white",
          "plot_bgcolor": "#E5ECF6",
          "polar": {
           "angularaxis": {
            "gridcolor": "white",
            "linecolor": "white",
            "ticks": ""
           },
           "bgcolor": "#E5ECF6",
           "radialaxis": {
            "gridcolor": "white",
            "linecolor": "white",
            "ticks": ""
           }
          },
          "scene": {
           "xaxis": {
            "backgroundcolor": "#E5ECF6",
            "gridcolor": "white",
            "gridwidth": 2,
            "linecolor": "white",
            "showbackground": true,
            "ticks": "",
            "zerolinecolor": "white"
           },
           "yaxis": {
            "backgroundcolor": "#E5ECF6",
            "gridcolor": "white",
            "gridwidth": 2,
            "linecolor": "white",
            "showbackground": true,
            "ticks": "",
            "zerolinecolor": "white"
           },
           "zaxis": {
            "backgroundcolor": "#E5ECF6",
            "gridcolor": "white",
            "gridwidth": 2,
            "linecolor": "white",
            "showbackground": true,
            "ticks": "",
            "zerolinecolor": "white"
           }
          },
          "shapedefaults": {
           "line": {
            "color": "#2a3f5f"
           }
          },
          "ternary": {
           "aaxis": {
            "gridcolor": "white",
            "linecolor": "white",
            "ticks": ""
           },
           "baxis": {
            "gridcolor": "white",
            "linecolor": "white",
            "ticks": ""
           },
           "bgcolor": "#E5ECF6",
           "caxis": {
            "gridcolor": "white",
            "linecolor": "white",
            "ticks": ""
           }
          },
          "title": {
           "x": 0.05
          },
          "xaxis": {
           "automargin": true,
           "gridcolor": "white",
           "linecolor": "white",
           "ticks": "",
           "title": {
            "standoff": 15
           },
           "zerolinecolor": "white",
           "zerolinewidth": 2
          },
          "yaxis": {
           "automargin": true,
           "gridcolor": "white",
           "linecolor": "white",
           "ticks": "",
           "title": {
            "standoff": 15
           },
           "zerolinecolor": "white",
           "zerolinewidth": 2
          }
         }
        },
        "title": {
         "text": "M4c: fast buoyancy indirect - qdot manually separated (charge/discharge)"
        },
        "xaxis": {
         "range": [
          0,
          2.099
         ],
         "title": {
          "text": "Height"
         }
        },
        "yaxis": {
         "title": {
          "text": "Temperature"
         }
        }
       }
      }
     },
     "metadata": {},
     "output_type": "display_data"
    },
    {
     "data": {
      "application/vnd.plotly.v1+json": {
       "config": {
        "plotlyServerURL": "https://plot.ly"
       },
       "data": [
        {
         "mode": "lines",
         "name": "0 seconds",
         "type": "scatter",
         "x": [
          0.10495000000000002,
          0.3148500000000001,
          0.52475,
          0.7346500000000001,
          0.9445500000000001,
          1.1544500000000002,
          1.3643500000000004,
          1.5742500000000004,
          1.7841500000000003,
          1.9940500000000003
         ],
         "y": [
          100,
          90,
          80,
          70,
          60,
          50,
          40,
          30,
          20,
          10
         ]
        },
        {
         "mode": "lines",
         "name": "60 seconds",
         "type": "scatter",
         "x": [
          0.10495000000000002,
          0.3148500000000001,
          0.52475,
          0.7346500000000001,
          0.9445500000000001,
          1.1544500000000002,
          1.3643500000000004,
          1.5742500000000004,
          1.7841500000000003,
          1.9940500000000003
         ],
         "y": [
          95.45640708511807,
          90.46211175379895,
          80.63696714332728,
          70.17201930616575,
          60.17238290659685,
          50.17274650702795,
          40.17311010745905,
          30.173473707890153,
          20.173837308321254,
          15.175915500096423
         ]
        },
        {
         "mode": "lines",
         "name": "120 seconds",
         "type": "scatter",
         "x": [
          0.10495000000000002,
          0.3148500000000001,
          0.52475,
          0.7346500000000001,
          0.9445500000000001,
          1.1544500000000002,
          1.3643500000000004,
          1.5742500000000004,
          1.7841500000000003,
          1.9940500000000003
         ],
         "y": [
          93.41698243353136,
          88.50782155379119,
          80.95388230186732,
          70.5767805937999,
          60.3447595453438,
          50.345486732985464,
          40.346213920627136,
          30.34694110826881,
          22.849520076349762,
          17.84943207207244
         ]
        },
        {
         "mode": "lines",
         "name": "180 seconds",
         "type": "scatter",
         "x": [
          0.10495000000000002,
          0.3148500000000001,
          0.52475,
          0.7346500000000001,
          0.9445500000000001,
          1.1544500000000002,
          1.3643500000000004,
          1.5742500000000004,
          1.7841500000000003,
          1.9940500000000003
         ],
         "y": [
          91.42028586137134,
          87.64707251913646,
          80.17867220799849,
          70.82134810421337,
          60.63355031156344,
          50.51822067810092,
          40.51931143973311,
          31.771825531700756,
          24.2724168314768,
          20.523843497126297
         ]
        },
        {
         "mode": "lines",
         "name": "240 seconds",
         "type": "scatter",
         "x": [
          0.10495000000000002,
          0.3148500000000001,
          0.52475,
          0.7346500000000001,
          0.9445500000000001,
          1.1544500000000002,
          1.3643500000000004,
          1.5742500000000004,
          1.7841500000000003,
          1.9940500000000003
         ],
         "y": [
          89.99192982806625,
          86.26094163154328,
          79.87079538607598,
          70.57793557963097,
          60.842158670592426,
          50.749181687874156,
          41.31836314913686,
          32.569521573500275,
          26.322262251462238,
          22.57206001129034
         ]
        },
        {
         "mode": "lines",
         "name": "300 seconds",
         "type": "scatter",
         "x": [
          0.10495000000000002,
          0.3148500000000001,
          0.52475,
          0.7346500000000001,
          0.9445500000000001,
          1.1544500000000002,
          1.3643500000000004,
          1.5742500000000004,
          1.7841500000000003,
          1.9940500000000003
         ],
         "y": [
          88.5847955652606,
          85.39308159606563,
          79.05583330382859,
          70.52838725607403,
          60.83583989777204,
          51.25311183276404,
          41.83254939904705,
          33.99419036680063,
          27.744894709780326,
          24.620946755319494
         ]
        },
        {
         "mode": "lines",
         "name": "360 seconds",
         "type": "scatter",
         "x": [
          0.10495000000000002,
          0.3148500000000001,
          0.52475,
          0.7346500000000001,
          0.9445500000000001,
          1.1544500000000002,
          1.3643500000000004,
          1.5742500000000004,
          1.7841500000000003,
          1.9940500000000003
         ],
         "y": [
          87.44750494375603,
          84.28196827337037,
          78.59730042500996,
          70.1176050391205,
          61.06312389507634,
          51.506927835430474,
          42.797009163224715,
          34.96236648488855,
          29.481745673719782,
          26.356437244904438
         ]
        },
        {
         "mode": "lines",
         "name": "420 seconds",
         "type": "scatter",
         "x": [
          0.10495000000000002,
          0.3148500000000001,
          0.52475,
          0.7346500000000001,
          0.9445500000000001,
          1.1544500000000002,
          1.3643500000000004,
          1.5742500000000004,
          1.7841500000000003,
          1.9940500000000003
         ],
         "y": [
          86.32338843743166,
          83.48422147030485,
          77.83624906989834,
          70.00211290613849,
          60.98451093328141,
          52.10292650851066,
          43.407829598295336,
          36.31313874177886,
          30.833362720403613,
          28.092485764978115
         ]
        },
        {
         "mode": "lines",
         "name": "480 seconds",
         "type": "scatter",
         "x": [
          0.10495000000000002,
          0.3148500000000001,
          0.52475,
          0.7346500000000001,
          0.9445500000000001,
          1.1544500000000002,
          1.3643500000000004,
          1.5742500000000004,
          1.7841500000000003,
          1.9940500000000003
         ],
         "y": [
          85.3626010056744,
          82.54160895011871,
          77.37977833337084,
          69.58216392387742,
          61.22489386126344,
          52.36887738940123,
          44.381337030542156,
          37.29416141277546,
          32.37680023210049,
          29.636119595748035
         ]
        },
        {
         "mode": "lines",
         "name": "540 seconds",
         "type": "scatter",
         "x": [
          0.10495000000000002,
          0.3148500000000001,
          0.52475,
          0.7346500000000001,
          0.9445500000000001,
          1.1544500000000002,
          1.3643500000000004,
          1.5742500000000004,
          1.7841500000000003,
          1.9940500000000003
         ],
         "y": [
          84.41097244817458,
          81.83310718468644,
          76.69842478204484,
          69.4742593203747,
          61.147759860906774,
          52.97594849848532,
          45.0046492213594,
          38.552708544726826,
          33.63896057831137,
          31.179546290482865
         ]
        },
        {
         "mode": "lines",
         "name": "600 seconds",
         "type": "scatter",
         "x": [
          0.10495000000000002,
          0.3148500000000001,
          0.52475,
          0.7346500000000001,
          0.9445500000000001,
          1.1544500000000002,
          1.3643500000000004,
          1.5742500000000004,
          1.7841500000000003,
          1.9940500000000003
         ],
         "y": [
          83.58102278572521,
          81.01659894867326,
          76.29035499192555,
          69.09491156788086,
          61.39747583987313,
          53.24888271011692,
          45.93755875200759,
          39.495273467840946,
          35.039956804880454,
          32.5821749642675
         ]
        },
        {
         "mode": "lines",
         "name": "660 seconds",
         "type": "scatter",
         "x": [
          0.10495000000000002,
          0.3148500000000001,
          0.52475,
          0.7346500000000001,
          0.9445500000000001,
          1.1544500000000002,
          1.3643500000000004,
          1.5742500000000004,
          1.7841500000000003,
          1.9940500000000003
         ],
         "y": [
          82.75785508031797,
          80.39769744743575,
          75.69236633656026,
          69.01586782060645,
          61.34413953024205,
          53.84031214665367,
          46.545145096437665,
          40.66228130431138,
          36.212411838291246,
          33.983888103430765
         ]
        },
        {
         "mode": "lines",
         "name": "720 seconds",
         "type": "scatter",
         "x": [
          0.10495000000000002,
          0.3148500000000001,
          0.52475,
          0.7346500000000001,
          0.9445500000000001,
          1.1544500000000002,
          1.3643500000000004,
          1.5742500000000004,
          1.7841500000000003,
          1.9940500000000003
         ],
         "y": [
          82.03691918365645,
          79.68710531441423,
          75.34351447830062,
          68.69011014234204,
          61.60045740078667,
          54.11729067413033,
          47.42444965770541,
          41.552149414748065,
          37.49677419563113,
          35.27082768479475
         ]
        },
        {
         "mode": "lines",
         "name": "780 seconds",
         "type": "scatter",
         "x": [
          0.10495000000000002,
          0.3148500000000001,
          0.52475,
          0.7346500000000001,
          0.9445500000000001,
          1.1544500000000002,
          1.3643500000000004,
          1.5742500000000004,
          1.7841500000000003,
          1.9940500000000003
         ],
         "y": [
          81.32120810340498,
          79.15230714185113,
          74.82528492433931,
          68.64396613462657,
          61.57594688023075,
          54.68520747089758,
          48.00772334570253,
          42.63402685487796,
          38.58505341768035,
          36.5563873197055
         ]
        },
        {
         "mode": "lines",
         "name": "840 seconds",
         "type": "scatter",
         "x": [
          0.10495000000000002,
          0.3148500000000001,
          0.52475,
          0.7346500000000001,
          0.9445500000000001,
          1.1544500000000002,
          1.3643500000000004,
          1.5742500000000004,
          1.7841500000000003,
          1.9940500000000003
         ],
         "y": [
          80.6960399568993,
          78.53532359367216,
          74.53492324692004,
          68.37250821233658,
          61.836947656196216,
          54.96445366693512,
          48.83269533967431,
          43.46966610887773,
          39.76877033741831,
          37.74317679860051
         ]
        },
        {
         "mode": "lines",
         "name": "900 seconds",
         "type": "scatter",
         "x": [
          0.10495000000000002,
          0.3148500000000001,
          0.52475,
          0.7346500000000001,
          0.9445500000000001,
          1.1544500000000002,
          1.3643500000000004,
          1.5742500000000004,
          1.7841500000000003,
          1.9940500000000003
         ],
         "y": [
          80.0750098563113,
          78.07764442975139,
          74.0906518860338,
          68.35793974132983,
          61.84073006267617,
          55.50753477677551,
          49.39000168364397,
          44.47404726874974,
          40.779873066923585,
          38.928345632793054
         ]
        },
        {
         "mode": "lines",
         "name": "960 seconds",
         "type": "scatter",
         "x": [
          0.10495000000000002,
          0.3148500000000001,
          0.52475,
          0.7346500000000001,
          0.9445500000000001,
          1.1544500000000002,
          1.3643500000000004,
          1.5742500000000004,
          1.7841500000000003,
          1.9940500000000003
         ],
         "y": [
          79.53573153022958,
          77.5449805273245,
          73.85462699373653,
          68.13761400522165,
          62.105089823980734,
          55.787955005834945,
          50.16379861776804,
          45.25812773124999,
          41.874644572750256,
          40.026363165826396
         ]
        },
        {
         "mode": "lines",
         "name": "1020 seconds",
         "type": "scatter",
         "x": [
          0.10495000000000002,
          0.3148500000000001,
          0.52475,
          0.7346500000000001,
          0.9445500000000001,
          1.1544500000000002,
          1.3643500000000004,
          1.5742500000000004,
          1.7841500000000003,
          1.9940500000000003
         ],
         "y": [
          78.999799789104,
          77.15740595105692,
          73.47808489741826,
          68.15188269875662,
          62.13503428218514,
          56.30711806165869,
          50.69592477543519,
          46.19244317168307,
          42.815592635648045,
          41.12267955047632
         ]
        },
        {
         "mode": "lines",
         "name": "1080 seconds",
         "type": "scatter",
         "x": [
          0.10495000000000002,
          0.3148500000000001,
          0.52475,
          0.7346500000000001,
          0.9445500000000001,
          1.1544500000000002,
          1.3643500000000004,
          1.5742500000000004,
          1.7841500000000003,
          1.9940500000000003
         ],
         "y": [
          78.53811394951765,
          76.70115582085023,
          73.29152115799357,
          67.9785087732532,
          62.40184322202239,
          56.588039799508266,
          51.42272206479692,
          46.928867662171044,
          43.83090390646167,
          42.14120351497185
         ]
        },
        {
         "mode": "lines",
         "name": "1140 seconds",
         "type": "scatter",
         "x": [
          0.10495000000000002,
          0.3148500000000001,
          0.52475,
          0.7346500000000001,
          0.9445500000000001,
          1.1544500000000002,
          1.3643500000000004,
          1.5742500000000004,
          1.7841500000000003,
          1.9940500000000003
         ],
         "y": [
          78.07917962750305,
          76.37710016128528,
          72.97666491470487,
          68.01872257584671,
          62.45552271202288,
          57.08491854663909,
          51.93128201386138,
          47.79994870238383,
          44.70828640517934,
          43.158048614558766
         ]
        },
        {
         "mode": "lines",
         "name": "1200 seconds",
         "type": "scatter",
         "x": [
          0.10495000000000002,
          0.3148500000000001,
          0.52475,
          0.7346500000000001,
          0.9445500000000001,
          1.1544500000000002,
          1.3643500000000004,
          1.5742500000000004,
          1.7841500000000003,
          1.9940500000000003
         ],
         "y": [
          77.68774384092487,
          75.99019167416242,
          72.8348242034381,
          67.88806481625211,
          62.7241524784942,
          57.36593440143413,
          52.61531317333566,
          48.4928174270188,
          45.65224404271966,
          44.10506293061059
         ]
        },
        {
         "mode": "lines",
         "name": "1260 seconds",
         "type": "scatter",
         "x": [
          0.10495000000000002,
          0.3148500000000001,
          0.52475,
          0.7346500000000001,
          0.9445500000000001,
          1.1544500000000002,
          1.3643500000000004,
          1.5742500000000004,
          1.7841500000000003,
          1.9940500000000003
         ],
         "y": [
          77.29860022857916,
          75.72361531971053,
          72.5759997343815,
          67.95154126093185,
          62.799244831566995,
          57.8423323149855,
          53.102152217772534,
          49.30683479932723,
          46.47210192449099,
          45.05048146715932
         ]
        },
        {
         "mode": "lines",
         "name": "1320 seconds",
         "type": "scatter",
         "x": [
          0.10495000000000002,
          0.3148500000000001,
          0.52475,
          0.7346500000000001,
          0.9445500000000001,
          1.1544500000000002,
          1.3643500000000004,
          1.5742500000000004,
          1.7841500000000003,
          1.9940500000000003
         ],
         "y": [
          76.97079207265074,
          75.39961814824237,
          72.47452173176114,
          67.85961112181576,
          63.069256761836115,
          58.123202976797344,
          53.74740513568153,
          49.96008977352094,
          47.35181384871049,
          45.93302801503771
         ]
        },
        {
         "mode": "lines",
         "name": "1380 seconds",
         "type": "scatter",
         "x": [
          0.10495000000000002,
          0.3148500000000001,
          0.52475,
          0.7346500000000001,
          0.9445500000000001,
          1.1544500000000002,
          1.3643500000000004,
          1.5742500000000004,
          1.7841500000000003,
          1.9940500000000003
         ],
         "y": [
          76.64491330051159,
          75.18503033527941,
          72.26651942139057,
          67.943951494331,
          63.163647400069834,
          58.580895479065084,
          54.21437363362311,
          50.72259187732408,
          48.11963815986788,
          46.81409440529102
         ]
        },
        {
         "mode": "lines",
         "name": "1440 seconds",
         "type": "scatter",
         "x": [
          0.10495000000000002,
          0.3148500000000001,
          0.52475,
          0.7346500000000001,
          0.9445500000000001,
          1.1544500000000002,
          1.3643500000000004,
          1.5742500000000004,
          1.7841500000000003,
          1.9940500000000003
         ],
         "y": [
          76.37472511841341,
          74.91807679332705,
          72.20146008088878,
          67.88708646378849,
          63.434730641994946,
          58.86148801490515,
          54.82451087391278,
          51.33990285488837,
          48.94141587388078,
          47.63845513398265
         ]
        },
        {
         "mode": "lines",
         "name": "1500 seconds",
         "type": "scatter",
         "x": [
          0.10495000000000002,
          0.3148500000000001,
          0.52475,
          0.7346500000000001,
          0.9445500000000001,
          1.1544500000000002,
          1.3643500000000004,
          1.5742500000000004,
          1.7841500000000003,
          1.9940500000000003
         ],
         "y": [
          76.10617396652118,
          74.75050223845679,
          72.03951464709039,
          67.99016405840263,
          63.546521223214484,
          59.30215168590334,
          55.27337634937525,
          52.05587711410886,
          49.662181704047164,
          48.46146566769602
         ]
        },
        {
         "mode": "lines",
         "name": "1560 seconds",
         "type": "scatter",
         "x": [
          0.10495000000000002,
          0.3148500000000001,
          0.52475,
          0.7346500000000001,
          0.9445500000000001,
          1.1544500000000002,
          1.3643500000000004,
          1.5742500000000004,
          1.7841500000000003,
          1.9940500000000003
         ],
         "y": [
          75.88815010123568,
          74.5352411219809,
          72.00732363027718,
          67.96503192239672,
          63.818451448350274,
          59.582399933016575,
          55.85173047187317,
          52.64061457785912,
          50.43166707462562,
          49.23327563417268
         ]
        },
        {
         "mode": "lines",
         "name": "1620 seconds",
         "type": "scatter",
         "x": [
          0.10495000000000002,
          0.3148500000000001,
          0.52475,
          0.7346500000000001,
          0.9445500000000001,
          1.1544500000000002,
          1.3643500000000004,
          1.5742500000000004,
          1.7841500000000003,
          1.9940500000000003
         ],
         "y": [
          75.67152354425431,
          74.41017735993799,
          71.88709317840909,
          68.08496010139925,
          63.945942205827016,
          60.007589535157955,
          56.28414429549102,
          53.31454852731462,
          51.10987653305232,
          50.003868379435204
         ]
        },
        {
         "mode": "lines",
         "name": "1680 seconds",
         "type": "scatter",
         "x": [
          0.10495000000000002,
          0.3148500000000001,
          0.52475,
          0.7346500000000001,
          0.9445500000000001,
          1.1544500000000002,
          1.3643500000000004,
          1.5742500000000004,
          1.7841500000000003,
          1.9940500000000003
         ],
         "y": [
          75.50071177808552,
          74.24173625828352,
          71.88457654791775,
          68.08853964682248,
          64.21855414826689,
          60.28746861108053,
          56.83373693347101,
          53.86978849301318,
          51.83213226485607,
          50.72819720467619
         ]
        },
        {
         "mode": "lines",
         "name": "1740 seconds",
         "type": "scatter",
         "x": [
          0.10495000000000002,
          0.3148500000000001,
          0.52475,
          0.7346500000000001,
          0.9445500000000001,
          1.1544500000000002,
          1.3643500000000004,
          1.5742500000000004,
          1.7841500000000003,
          1.9940500000000003
         ],
         "y": [
          75.3310978660828,
          74.15511070766988,
          71.80211408284569,
          68.22363945193013,
          64.36022150029206,
          60.69861290677615,
          57.25122396710461,
          54.50572457398691,
          52.471857587312265,
          51.45143797008183
         ]
        },
        {
         "mode": "lines",
         "name": "1800 seconds",
         "type": "scatter",
         "x": [
          0.10495000000000002,
          0.3148500000000001,
          0.52475,
          0.7346500000000001,
          0.9445500000000001,
          1.1544500000000002,
          1.3643500000000004,
          1.5742500000000004,
          1.7841500000000003,
          1.9940500000000003
         ],
         "y": [
          75.20300638500348,
          74.0290602163616,
          71.8263966383293,
          68.25319503135034,
          64.63339067361503,
          60.978122831730374,
          57.77479114842961,
          55.03426494882033,
          53.15143755408335,
          52.132854415971586
         ]
        },
        {
         "mode": "lines",
         "name": "1860 seconds",
         "type": "scatter",
         "x": [
          0.10495000000000002,
          0.3148500000000001,
          0.52475,
          0.7346500000000001,
          0.9445500000000001,
          1.1544500000000002,
          1.3643500000000004,
          1.5742500000000004,
          1.7841500000000003,
          1.9940500000000003
         ],
         "y": [
          75.07594483624685,
          73.97718982953577,
          71.77811945737493,
          68.4019672100742,
          64.7878663166916,
          61.37652811094202,
          58.178749724607655,
          55.635848347060936,
          53.75636155497454,
          52.81330420247586
         ]
        },
        {
         "mode": "lines",
         "name": "1920 seconds",
         "type": "scatter",
         "x": [
          0.10495000000000002,
          0.3148500000000001,
          0.52475,
          0.7346500000000001,
          0.9445500000000001,
          1.1544500000000002,
          1.3643500000000004,
          1.5742500000000004,
          1.7841500000000003,
          1.9940500000000003
         ],
         "y": [
          74.98650233872495,
          73.88950856185164,
          71.82661057333421,
          68.4550229867032,
          65.06149679513535,
          61.65568333846155,
          58.67876756472751,
          56.1402291326937,
          54.397368378289585,
          53.45593018520846
         ]
        },
        {
         "mode": "lines",
         "name": "1980 seconds",
         "type": "scatter",
         "x": [
          0.10495000000000002,
          0.3148500000000001,
          0.52475,
          0.7346500000000001,
          0.9445500000000001,
          1.1544500000000002,
          1.3643500000000004,
          1.5742500000000004,
          1.7841500000000003,
          1.9940500000000003
         ],
         "y": [
          74.89794710342535,
          73.86906279895238,
          71.80926989730656,
          68.61612480380549,
          65.22754958987574,
          62.04254016301009,
          59.070474344270586,
          56.7107494218077,
          54.97082154771071,
          54.09770098031707
         ]
        },
        {
         "mode": "lines",
         "name": "2040 seconds",
         "type": "scatter",
         "x": [
          0.10495000000000002,
          0.3148500000000001,
          0.52475,
          0.7346500000000001,
          0.9445500000000001,
          1.1544500000000002,
          1.3643500000000004,
          1.5742500000000004,
          1.7841500000000003,
          1.9940500000000003
         ],
         "y": [
          74.84346555604691,
          73.81610350188346,
          71.87963341703862,
          68.69044051038796,
          65.50156579081154,
          62.32136294613762,
          59.54918324758395,
          57.193273681980266,
          55.57695524369363,
          54.705258083721596
         ]
        },
        {
         "mode": "lines",
         "name": "2100 seconds",
         "type": "scatter",
         "x": [
          0.10495000000000002,
          0.3148500000000001,
          0.52475,
          0.7346500000000001,
          0.9445500000000001,
          1.1544500000000002,
          1.3643500000000004,
          1.5742500000000004,
          1.7841500000000003,
          1.9940500000000003
         ],
         "y": [
          74.78974925528368,
          73.82407065706508,
          71.89028532919693,
          68.86266658899508,
          65.67808632190857,
          62.697754147678616,
          59.929800378848576,
          57.735701252144146,
          56.121949480007885,
          55.31206043954684
         ]
        },
        {
         "mode": "lines",
         "name": "2160 seconds",
         "type": "scatter",
         "x": [
          0.10495000000000002,
          0.3148500000000001,
          0.52475,
          0.7346500000000001,
          0.9445500000000001,
          1.1544500000000002,
          1.3643500000000004,
          1.5742500000000004,
          1.7841500000000003,
          1.9940500000000003
         ],
         "y": [
          74.76688926499614,
          73.80252791524646,
          71.98041315057868,
          68.95621527674281,
          65.95242742986761,
          62.9762703934557,
          60.38922725776822,
          58.19845555088765,
          56.69654940297112,
          55.88791062612108
         ]
        },
        {
         "mode": "lines",
         "name": "2220 seconds",
         "type": "scatter",
         "x": [
          0.10495000000000002,
          0.3148500000000001,
          0.52475,
          0.7346500000000001,
          0.9445500000000001,
          1.1544500000000002,
          1.3643500000000004,
          1.5742500000000004,
          1.7841500000000003,
          1.9940500000000003
         ],
         "y": [
          74.74468973170589,
          73.83618459751332,
          72.01639132374815,
          69.13848160654702,
          66.13841480497825,
          63.3431794001335,
          60.759810516594996,
          58.7154736925021,
          57.215808582618166,
          56.463094984447274
         ]
        },
        {
         "mode": "lines",
         "name": "2280 seconds",
         "type": "scatter",
         "x": [
          0.10495000000000002,
          0.3148500000000001,
          0.52475,
          0.7346500000000001,
          0.9445500000000001,
          1.1544500000000002,
          1.3643500000000004,
          1.5742500000000004,
          1.7841500000000003,
          1.9940500000000003
         ],
         "y": [
          74.75042855343725,
          73.84306447468376,
          72.12438014634536,
          69.24942940703188,
          66.41303094328512,
          63.621416134396235,
          61.20178900118781,
          59.160347442762856,
          57.76189010254588,
          57.010276565985656
         ]
        },
        {
         "mode": "lines",
         "name": "2340 seconds",
         "type": "scatter",
         "x": [
          0.10495000000000002,
          0.3148500000000001,
          0.52475,
          0.7346500000000001,
          0.9445500000000001,
          1.1544500000000002,
          1.3643500000000004,
          1.5742500000000004,
          1.7841500000000003,
          1.9940500000000003
         ],
         "y": [
          74.75673765973127,
          73.89994798712661,
          72.18327054474973,
          69.4407598070617,
          66.6075814035084,
          63.97973516583758,
          61.563296192183174,
          59.65438078987436,
          58.25787773793886,
          57.55686957979004
         ]
        },
        {
         "mode": "lines",
         "name": "2400 seconds",
         "type": "scatter",
         "x": [
          0.10495000000000002,
          0.3148500000000001,
          0.52475,
          0.7346500000000001,
          0.9445500000000001,
          1.1544500000000002,
          1.3643500000000004,
          1.5742500000000004,
          1.7841500000000003,
          1.9940500000000003
         ],
         "y": [
          74.78833980688881,
          73.93253978714478,
          72.30740129361955,
          69.56744758695177,
          66.88243096704393,
          64.25771903494561,
          61.9894849529694,
          60.08308427790555,
          58.778164646134975,
          58.078129180572255
         ]
        },
        {
         "mode": "lines",
         "name": "2460 seconds",
         "type": "scatter",
         "x": [
          0.10495000000000002,
          0.3148500000000001,
          0.52475,
          0.7346500000000001,
          0.9445500000000001,
          1.1544500000000002,
          1.3643500000000004,
          1.5742500000000004,
          1.7841500000000003,
          1.9940500000000003
         ],
         "y": [
          74.82043465249711,
          74.0104231458219,
          72.38701888063294,
          69.76696208719531,
          67.08472796236578,
          64.60825693380201,
          62.342784167899815,
          60.55632416960985,
          59.25310888061836,
          58.59886589606714
         ]
        },
        {
         "mode": "lines",
         "name": "2520 seconds",
         "type": "scatter",
         "x": [
          0.10495000000000002,
          0.3148500000000001,
          0.52475,
          0.7346500000000001,
          0.9445500000000001,
          1.1544500000000002,
          1.3643500000000004,
          1.5742500000000004,
          1.7841500000000003,
          1.9940500000000003
         ],
         "y": [
          74.87542502002745,
          74.06627334464045,
          72.52573840941224,
          69.90788883829136,
          67.35977572770425,
          64.88601336782786,
          62.75468351522486,
          60.970405177268574,
          59.750062242952154,
          59.09668695682824
         ]
        },
        {
         "mode": "lines",
         "name": "2580 seconds",
         "type": "scatter",
         "x": [
          0.10495000000000002,
          0.3148500000000001,
          0.52475,
          0.7346500000000001,
          0.9445500000000001,
          1.1544500000000002,
          1.3643500000000004,
          1.5742500000000004,
          1.7841500000000003,
          1.9940500000000003
         ],
         "y": [
          74.93084146237211,
          74.16314269318603,
          72.62410580831903,
          70.11479358950437,
          67.56908119096165,
          65.22950295781263,
          63.10056102169656,
          61.424832378524826,
          60.20597841727004,
          59.59403949056191
         ]
        },
        {
         "mode": "lines",
         "name": "2640 seconds",
         "type": "scatter",
         "x": [
          0.10495000000000002,
          0.3148500000000001,
          0.52475,
          0.7346500000000001,
          0.9445500000000001,
          1.1544500000000002,
          1.3643500000000004,
          1.5742500000000004,
          1.7841500000000003,
          1.9940500000000003
         ],
         "y": [
          75.00698082984132,
          74.24003100646145,
          72.77601056420188,
          70.2686013945034,
          67.84429695353678,
          65.5070557485042,
          63.49952794746519,
          61.82569140716249,
          60.681822409196684,
          60.07066775152629
         ]
        },
        {
         "mode": "lines",
         "name": "2700 seconds",
         "type": "scatter",
         "x": [
          0.10495000000000002,
          0.3148500000000001,
          0.52475,
          0.7346500000000001,
          0.9445500000000001,
          1.1544500000000002,
          1.3643500000000004,
          1.5742500000000004,
          1.7841500000000003,
          1.9940500000000003
         ],
         "y": [
          75.08348927172194,
          74.35406520151307,
          72.89133857459602,
          70.48217982228708,
          68.05994356979946,
          65.84416067673241,
          63.83869558627316,
          62.263096539666556,
          61.12053341906252,
          60.5468709494846
         ]
        },
        {
         "mode": "lines",
         "name": "2760 seconds",
         "type": "scatter",
         "x": [
          0.10495000000000002,
          0.3148500000000001,
          0.52475,
          0.7346500000000001,
          0.9445500000000001,
          1.1544500000000002,
          1.3643500000000004,
          1.5742500000000004,
          1.7841500000000003,
          1.9940500000000003
         ],
         "y": [
          75.17875202868485,
          74.44998270046707,
          73.05515997072867,
          70.64764024610129,
          68.33530114506836,
          66.12153180784365,
          64.22595740231256,
          62.65200068455396,
          61.577278545641356,
          61.00433728127573
         ]
        },
        {
         "mode": "lines",
         "name": "2820 seconds",
         "type": "scatter",
         "x": [
          0.10495000000000002,
          0.3148500000000001,
          0.52475,
          0.7346500000000001,
          0.9445500000000001,
          1.1544500000000002,
          1.3643500000000004,
          1.5742500000000004,
          1.7841500000000003,
          1.9940500000000003
         ],
         "y": [
          75.27433534092617,
          74.5795348619425,
          73.18582982177888,
          70.86724524048067,
          68.55668546015778,
          66.45285286715355,
          64.55905943664422,
          63.074002647970815,
          62.00043319739114,
          61.461411746320344
         ]
        },
        {
         "mode": "lines",
         "name": "2880 seconds",
         "type": "scatter",
         "x": [
          0.10495000000000002,
          0.3148500000000001,
          0.52475,
          0.7346500000000001,
          0.9445500000000001,
          1.1544500000000002,
          1.3643500000000004,
          1.5742500000000004,
          1.7841500000000003,
          1.9940500000000003
         ],
         "y": [
          75.38688926532221,
          74.6926640217511,
          73.36042110967091,
          71.04324700962073,
          68.83216194224255,
          66.73006249055648,
          64.93572614770349,
          63.45209819831974,
          62.4398972078838,
          61.90155264911238
         ]
        },
        {
         "mode": "lines",
         "name": "2940 seconds",
         "type": "scatter",
         "x": [
          0.10495000000000002,
          0.3148500000000001,
          0.52475,
          0.7346500000000001,
          0.9445500000000001,
          1.1544500000000002,
          1.3643500000000004,
          1.5742500000000004,
          1.7841500000000003,
          1.9940500000000003
         ],
         "y": [
          75.49972270183166,
          74.83624485979081,
          73.50496832359313,
          71.26829399316011,
          69.0587381883479,
          67.05614343759966,
          65.26334554837759,
          63.860160807986716,
          62.84898676797806,
          62.34132545133715
         ]
        },
        {
         "mode": "lines",
         "name": "3000 seconds",
         "type": "scatter",
         "x": [
          0.10495000000000002,
          0.3148500000000001,
          0.52475,
          0.7346500000000001,
          0.9445500000000001,
          1.1544500000000002,
          1.3643500000000004,
          1.5742500000000004,
          1.7841500000000003,
          1.9940500000000003
         ],
         "y": [
          75.62791062054559,
          74.9649414114188,
          73.68929279295635,
          71.45383183885212,
          69.33431339559007,
          67.3332099262143,
          65.63042108076789,
          64.22848466247738,
          63.2728135089527,
          62.76580150382067
         ]
        },
        {
         "mode": "lines",
         "name": "3060 seconds",
         "type": "scatter",
         "x": [
          0.10495000000000002,
          0.3148500000000001,
          0.52475,
          0.7346500000000001,
          0.9445500000000001,
          1.1544500000000002,
          1.3643500000000004,
          1.5742500000000004,
          1.7841500000000003,
          1.9940500000000003
         ],
         "y": [
          75.75634357580888,
          75.12120415837917,
          73.84639253190917,
          71.6837925917362,
          69.56558793732565,
          67.65454282056584,
          65.95308525794192,
          64.6239316886013,
          63.66918663165021,
          63.18992483540969
         ]
        },
        {
         "mode": "lines",
         "name": "3120 seconds",
         "type": "scatter",
         "x": [
          0.10495000000000002,
          0.3148500000000001,
          0.52475,
          0.7346500000000001,
          0.9445500000000001,
          1.1544500000000002,
          1.3643500000000004,
          1.5742500000000004,
          1.7841500000000003,
          1.9940500000000003
         ],
         "y": [
          75.89866674172391,
          75.26398061038809,
          74.03951289132723,
          71.87795714506073,
          69.84124399661523,
          67.93148285497043,
          66.31147764909313,
          64.9834216836347,
          64.07886303835068,
          63.600237340059685
         ]
        },
        {
         "mode": "lines",
         "name": "3180 seconds",
         "type": "scatter",
         "x": [
          0.10495000000000002,
          0.3148500000000001,
          0.52475,
          0.7346500000000001,
          0.9445500000000001,
          1.1544500000000002,
          1.3643500000000004,
          1.5742500000000004,
          1.7841500000000003,
          1.9940500000000003
         ],
         "y": [
          76.04120620122666,
          75.43170740178722,
          74.20796666507046,
          72.11235428978368,
          70.07677032008532,
          68.24851294785675,
          66.62966365744721,
          65.36745044654444,
          64.46373924301518,
          64.01020533609058
         ]
        },
        {
         "mode": "lines",
         "name": "3240 seconds",
         "type": "scatter",
         "x": [
          0.10495000000000002,
          0.3148500000000001,
          0.52475,
          0.7346500000000001,
          0.9445500000000001,
          1.1544500000000002,
          1.3643500000000004,
          1.5742500000000004,
          1.7841500000000003,
          1.9940500000000003
         ],
         "y": [
          76.19630923055713,
          75.58721809945982,
          74.40903547677532,
          72.31432292879215,
          70.35249135560464,
          68.5253416113423,
          66.98019429820474,
          65.7189546961876,
          64.86061064048877,
          64.40771137369315
         ]
        },
        {
         "mode": "lines",
         "name": "3300 seconds",
         "type": "scatter",
         "x": [
          0.10495000000000002,
          0.3148500000000001,
          0.52475,
          0.7346500000000001,
          0.9445500000000001,
          1.1544500000000002,
          1.3643500000000004,
          1.5742500000000004,
          1.7841500000000003,
          1.9940500000000003
         ],
         "y": [
          76.35160476979961,
          75.76530766235898,
          74.58775909471343,
          72.55272499392427,
          70.59186553782517,
          68.83847181275216,
          67.29433355243245,
          66.09264835013674,
          65.23509249532452,
          64.80487528941428
         ]
        },
        {
         "mode": "lines",
         "name": "3360 seconds",
         "type": "scatter",
         "x": [
          0.10495000000000002,
          0.3148500000000001,
          0.52475,
          0.7346500000000001,
          0.9445500000000001,
          1.1544500000000002,
          1.3643500000000004,
          1.5742500000000004,
          1.7841500000000003,
          1.9940500000000003
         ],
         "y": [
          76.51826199524393,
          75.93233525533883,
          74.79601015245242,
          72.76175355321787,
          70.86763743834274,
          69.11520268189311,
          67.63774556304072,
          66.43693369424732,
          65.62037636334614,
          65.19080136397073
         ]
        },
        {
         "mode": "lines",
         "name": "3420 seconds",
         "type": "scatter",
         "x": [
          0.10495000000000002,
          0.3148500000000001,
          0.52475,
          0.7346500000000001,
          0.9445500000000001,
          1.1544500000000002,
          1.3643500000000004,
          1.5742500000000004,
          1.7841500000000003,
          1.9940500000000003
         ],
         "y": [
          76.68509219083126,
          76.1197917763009,
          74.98402281093607,
          73.00377054782147,
          71.11049404578884,
          69.42479763365465,
          67.9482281053813,
          66.80127231652557,
          65.98546051624461,
          65.57638327495991
         ]
        },
        {
         "mode": "lines",
         "name": "3480 seconds",
         "type": "scatter",
         "x": [
          0.10495000000000002,
          0.3148500000000001,
          0.52475,
          0.7346500000000001,
          0.9445500000000001,
          1.1544500000000002,
          1.3643500000000004,
          1.5742500000000004,
          1.7841500000000003,
          1.9940500000000003
         ],
         "y": [
          76.86219529864779,
          76.29723497164943,
          75.19876336279641,
          73.21918581041125,
          71.38630429009805,
          69.70144285962985,
          68.28519391764063,
          67.13903196797129,
          66.36025886102561,
          65.95183770105989
         ]
        },
        {
         "mode": "lines",
         "name": "3540 seconds",
         "type": "scatter",
         "x": [
          0.10495000000000002,
          0.3148500000000001,
          0.52475,
          0.7346500000000001,
          0.9445500000000001,
          1.1544500000000002,
          1.3643500000000004,
          1.5742500000000004,
          1.7841500000000003,
          1.9940500000000003
         ],
         "y": [
          77.03945542405145,
          76.49315802909972,
          75.39517776612932,
          73.46446524984827,
          71.63231266389496,
          70.00783264054397,
          68.59237228047557,
          67.49490255886425,
          66.71684604146523,
          66.32694287354153
         ]
        },
        {
         "mode": "lines",
         "name": "3600 seconds",
         "type": "scatter",
         "x": [
          0.10495000000000002,
          0.3148500000000001,
          0.52475,
          0.7346500000000001,
          0.9445500000000001,
          1.1544500000000002,
          1.3643500000000004,
          1.5742500000000004,
          1.7841500000000003,
          1.9940500000000003
         ],
         "y": [
          77.2260022555074,
          76.68002051356798,
          75.61578149511507,
          73.68565814927587,
          71.90815018783069,
          70.28440302146291,
          68.92350049210592,
          67.826763033162,
          67.0821565090711,
          66.69292703321382
         ]
        },
        {
         "mode": "lines",
         "name": "3660 seconds",
         "type": "scatter",
         "x": [
          0.10495000000000002,
          0.3148500000000001,
          0.52475,
          0.7346500000000001,
          0.9445500000000001,
          1.1544500000000002,
          1.3643500000000004,
          1.5742500000000004,
          1.7841500000000003,
          1.9940500000000003
         ],
         "y": [
          77.41269314367842,
          76.88359597101805,
          75.81979491627892,
          73.93388148053253,
          72.15701107969822,
          70.58788650927411,
          69.22769319735868,
          68.17496852409485,
          67.43106060861724,
          67.05855509624439
         ]
        },
        {
         "mode": "lines",
         "name": "3720 seconds",
         "type": "scatter",
         "x": [
          0.10495000000000002,
          0.3148500000000001,
          0.52475,
          0.7346500000000001,
          0.9445500000000001,
          1.1544500000000002,
          1.3643500000000004,
          1.5742500000000004,
          1.7841500000000003,
          1.9940500000000003
         ],
         "y": [
          77.60777755283512,
          77.07897639399964,
          76.04569560094362,
          74.16030094830963,
          72.43286617119901,
          70.86439155641801,
          69.55353475967843,
          68.5014959261533,
          67.787786467629,
          67.41597367178966
         ]
        },
        {
         "mode": "lines",
         "name": "3780 seconds",
         "type": "scatter",
         "x": [
          0.10495000000000002,
          0.3148500000000001,
          0.52475,
          0.7346500000000001,
          0.9445500000000001,
          1.1544500000000002,
          1.3643500000000004,
          1.5742500000000004,
          1.7841500000000003,
          1.9940500000000003
         ],
         "y": [
          77.80299551739806,
          77.28946816113704,
          76.25658179543619,
          74.4111803292341,
          72.68430869912574,
          71.16523947044756,
          69.85502949377606,
          68.84276328698216,
          68.1297427914098,
          67.77302870988808
         ]
        },
        {
         "mode": "lines",
         "name": "3840 seconds",
         "type": "scatter",
         "x": [
          0.10495000000000002,
          0.3148500000000001,
          0.52475,
          0.7346500000000001,
          0.9445500000000001,
          1.1544500000000002,
          1.3643500000000004,
          1.5742500000000004,
          1.7841500000000003,
          1.9940500000000003
         ],
         "y": [
          78.00579818758641,
          77.49255107788946,
          76.4872675812805,
          74.64232772878287,
          72.96017291046527,
          71.4416874722805,
          70.1760832899416,
          69.16446902075515,
          68.478701904382,
          68.1226989832763
         ]
        },
        {
         "mode": "lines",
         "name": "3900 seconds",
         "type": "scatter",
         "x": [
          0.10495000000000002,
          0.3148500000000001,
          0.52475,
          0.7346500000000001,
          0.9445500000000001,
          1.1544500000000002,
          1.3643500000000004,
          1.5742500000000004,
          1.7841500000000003,
          1.9940500000000003
         ],
         "y": [
          78.20872590356446,
          77.7092936559858,
          76.70436947456636,
          74.89560312116214,
          73.21395180662526,
          71.74014511992196,
          70.47513978915529,
          69.49945655174359,
          68.81437467259276,
          68.47199865655115
         ]
        },
        {
         "mode": "lines",
         "name": "3960 seconds",
         "type": "scatter",
         "x": [
          0.10495000000000002,
          0.3148500000000001,
          0.52475,
          0.7346500000000001,
          0.9445500000000001,
          1.1544500000000002,
          1.3643500000000004,
          1.5742500000000004,
          1.7841500000000003,
          1.9940500000000003
         ],
         "y": [
          78.41850603411777,
          77.91934133899119,
          76.93937769439869,
          75.13102721475877,
          73.48981787538534,
          72.0165432075274,
          70.79185765701818,
          69.81680251010165,
          69.15630756683515,
          68.81465895412565
         ]
        },
        {
         "mode": "lines",
         "name": "4020 seconds",
         "type": "scatter",
         "x": [
          0.10495000000000002,
          0.3148500000000001,
          0.52475,
          0.7346500000000001,
          0.9445500000000001,
          1.1544500000000002,
          1.3643500000000004,
          1.5742500000000004,
          1.7841500000000003,
          1.9940500000000003
         ],
         "y": [
          78.62840428786681,
          78.14173307548957,
          77.16210077023527,
          75.38646375612872,
          73.74571100137015,
          72.31283295741063,
          71.08871033367564,
          70.14610639900816,
          69.4862967341786,
          69.15694274249861
         ]
        },
        {
         "mode": "lines",
         "name": "4080 seconds",
         "type": "scatter",
         "x": [
          0.10495000000000002,
          0.3148500000000001,
          0.52475,
          0.7346500000000001,
          0.9445500000000001,
          1.1544500000000002,
          1.3643500000000004,
          1.5742500000000004,
          1.7841500000000003,
          1.9940500000000003
         ],
         "y": [
          78.84449207080382,
          78.3580781100127,
          77.4010132583808,
          75.6257561560138,
          74.02157277401199,
          72.5891871741294,
          71.40150158447224,
          70.4595096834334,
          69.82187387242708,
          69.49326009516822
         ]
        },
        {
         "mode": "lines",
         "name": "4140 seconds",
         "type": "scatter",
         "x": [
          0.10495000000000002,
          0.3148500000000001,
          0.52475,
          0.7346500000000001,
          0.9445500000000001,
          1.1544500000000002,
          1.3643500000000004,
          1.5742500000000004,
          1.7841500000000003,
          1.9940500000000003
         ],
         "y": [
          79.06069229698332,
          78.58557509461318,
          77.62881958166047,
          75.88314177958249,
          74.27937888034161,
          72.88351067845893,
          71.69636192026701,
          70.78366990293199,
          70.14672132446015,
          69.82919675363915
         ]
        },
        {
         "mode": "lines",
         "name": "4200 seconds",
         "type": "scatter",
         "x": [
          0.10495000000000002,
          0.3148500000000001,
          0.52475,
          0.7346500000000001,
          0.9445500000000001,
          1.1544500000000002,
          1.3643500000000004,
          1.5742500000000004,
          1.7841500000000003,
          1.9940500000000003
         ],
         "y": [
          79.28248211052677,
          78.80761368238932,
          77.87125843287569,
          76.12593283853583,
          74.55523123432187,
          73.15982605531941,
          72.00559740160719,
          71.09350711596947,
          70.47654966550829,
          70.15977383657757
         ]
        },
        {
         "mode": "lines",
         "name": "4260 seconds",
         "type": "scatter",
         "x": [
          0.10495000000000002,
          0.3148500000000001,
          0.52475,
          0.7346500000000001,
          0.9445500000000001,
          1.1544500000000002,
          1.3643500000000004,
          1.5742500000000004,
          1.7841500000000003,
          1.9940500000000003
         ],
         "y": [
          79.50437964147454,
          79.03972422357108,
          78.10366124658418,
          76.3850761146292,
          74.81476794267307,
          73.45236624355174,
          72.29865613031093,
          71.41301273112505,
          70.79674484395527,
          70.48996813952535
         ]
        },
        {
         "mode": "lines",
         "name": "4320 seconds",
         "type": "scatter",
         "x": [
          0.10495000000000002,
          0.3148500000000001,
          0.52475,
          0.7346500000000001,
          0.9445500000000001,
          1.1544500000000002,
          1.3643500000000004,
          1.5742500000000004,
          1.7841500000000003,
          1.9940500000000003
         ],
         "y": [
          79.731323893721,
          79.26691012595305,
          78.34928497585821,
          76.63103121502432,
          75.09060670489397,
          73.72864688086204,
          72.6046718790966,
          71.71962387896819,
          71.12137377279278,
          70.8153495508225
         ]
        },
        {
         "mode": "lines",
         "name": "4380 seconds",
         "type": "scatter",
         "x": [
          0.10495000000000002,
          0.3148500000000001,
          0.52475,
          0.7346500000000001,
          0.9445500000000001,
          1.1544500000000002,
          1.3643500000000004,
          1.5742500000000004,
          1.7841500000000003,
          1.9940500000000003
         ],
         "y": [
          79.95837185352494,
          79.50318975276915,
          78.5858438172729,
          76.89175939104787,
          75.35170869273219,
          74.01956974638944,
          72.8961009775893,
          72.03491782865515,
          71.4373587766625,
          71.14034839510134
         ]
        },
        {
         "mode": "lines",
         "name": "4440 seconds",
         "type": "scatter",
         "x": [
          0.10495000000000002,
          0.3148500000000001,
          0.52475,
          0.7346500000000001,
          0.9445500000000001,
          1.1544500000000002,
          1.3643500000000004,
          1.5742500000000004,
          1.7841500000000003,
          1.9940500000000003
         ],
         "y": [
          80.18997541539838,
          79.73502881148107,
          78.83434388143829,
          77.14057559478532,
          75.62753055365847,
          74.29581890078933,
          73.19920150546325,
          72.33860986677021,
          71.75728547358479,
          71.46102632916454
         ]
        },
        {
         "mode": "lines",
         "name": "4500 seconds",
         "type": "scatter",
         "x": [
          0.10495000000000002,
          0.3148500000000001,
          0.52475,
          0.7346500000000001,
          0.9445500000000001,
          1.1544500000000002,
          1.3643500000000004,
          1.5742500000000004,
          1.7841500000000003,
          1.9940500000000003
         ],
         "y": [
          80.42167919729025,
          79.97507575074627,
          79.07466016777022,
          77.4027328138371,
          75.89004792211517,
          74.58527510156391,
          73.48915600920935,
          72.65009327684889,
          72.06945967900145,
          71.78132425828342
         ]
        },
        {
         "mode": "lines",
         "name": "4560 seconds",
         "type": "scatter",
         "x": [
          0.10495000000000002,
          0.3148500000000001,
          0.52475,
          0.7346500000000001,
          0.9445500000000001,
          1.1544500000000002,
          1.3643500000000004,
          1.5742500000000004,
          1.7841500000000003,
          1.9940500000000003
         ],
         "y": [
          80.65749436923413,
          80.21112093058288,
          79.3257578140591,
          77.6541358386752,
          76.16585034609555,
          74.8614952770176,
          73.78961725987878,
          72.9511433280375,
          72.3851339878744,
          72.097743626595
         ]
        },
        {
         "mode": "lines",
         "name": "4620 seconds",
         "type": "scatter",
         "x": [
          0.10495000000000002,
          0.3148500000000001,
          0.52475,
          0.7346500000000001,
          0.9445500000000001,
          1.1544500000000002,
          1.3643500000000004,
          1.5742500000000004,
          1.7841500000000003,
          1.9940500000000003
         ],
         "y": [
          80.89340664070059,
          80.45457201433481,
          79.56947085239081,
          77.91758151965483,
          76.42964715308389,
          75.14962157003943,
          74.07823691679577,
          73.25917940796171,
          72.69385822650518,
          72.41378783158906
         ]
        },
        {
         "mode": "lines",
         "name": "4680 seconds",
         "type": "scatter",
         "x": [
          0.10495000000000002,
          0.3148500000000001,
          0.52475,
          0.7346500000000001,
          0.9445500000000001,
          1.1544500000000002,
          1.3643500000000004,
          1.5742500000000004,
          1.7841500000000003,
          1.9940500000000003
         ],
         "y": [
          81.13302860247127,
          80.69441891770917,
          79.82291426280682,
          78.17132301035463,
          76.70542828626661,
          75.42581461073253,
          74.37630893112774,
          73.55783767955457,
          73.00568707412327,
          72.72635088038618
         ]
        },
        {
         "mode": "lines",
         "name": "4740 seconds",
         "type": "scatter",
         "x": [
          0.10495000000000002,
          0.3148500000000001,
          0.52475,
          0.7346500000000001,
          0.9445500000000001,
          1.1544500000000002,
          1.3643500000000004,
          1.5742500000000004,
          1.7841500000000003,
          1.9940500000000003
         ],
         "y": [
          81.37274478772369,
          80.94094588012989,
          80.06969764341399,
          78.4359303747056,
          76.97038122801852,
          75.71273513904656,
          74.66371970616001,
          73.86275524807985,
          73.31128740761832,
          73.03854572710048
         ]
        },
        {
         "mode": "lines",
         "name": "4800 seconds",
         "type": "scatter",
         "x": [
          0.10495000000000002,
          0.3148500000000001,
          0.52475,
          0.7346500000000001,
          0.9445500000000001,
          1.1544500000000002,
          1.3643500000000004,
          1.5742500000000004,
          1.7841500000000003,
          1.9940500000000003
         ],
         "y": [
          81.61580748519438,
          81.18422868834344,
          80.32525934708998,
          78.6917854401208,
          77.24613980575913,
          75.98890232192655,
          74.95962902739564,
          74.15924767285804,
          73.61963881897964,
          73.34761619848969
         ]
        },
        {
         "mode": "lines",
         "name": "4860 seconds",
         "type": "scatter",
         "x": [
          0.10495000000000002,
          0.3148500000000001,
          0.52475,
          0.7346500000000001,
          0.9445500000000001,
          1.1544500000000002,
          1.3643500000000004,
          1.5742500000000004,
          1.7841500000000003,
          1.9940500000000003
         ],
         "y": [
          81.85896167940408,
          81.4335348152315,
          80.57481768308865,
          78.9574401722481,
          77.51213703121148,
          76.27472977126797,
          75.24594446893056,
          74.46134435284723,
          73.92240994466626,
          73.65632732585321
         ]
        },
        {
         "mode": "lines",
         "name": "4920 seconds",
         "type": "scatter",
         "x": [
          0.10495000000000002,
          0.3148500000000001,
          0.52475,
          0.7346500000000001,
          0.9445500000000001,
          1.1544500000000002,
          1.3643500000000004,
          1.5742500000000004,
          1.7841500000000003,
          1.9940500000000003
         ],
         "y": [
          82.10513410650249,
          81.67992261576919,
          80.83229221170392,
          79.21520516203971,
          77.78787228707215,
          76.55087189599998,
          75.53989631681922,
          74.75587497662009,
          74.22761669299767,
          73.96223420574646
         ]
        },
        {
         "mode": "lines",
         "name": "4980 seconds",
         "type": "scatter",
         "x": [
          0.10495000000000002,
          0.3148500000000001,
          0.52475,
          0.7346500000000001,
          0.9445500000000001,
          1.1544500000000002,
          1.3643500000000004,
          1.5742500000000004,
          1.7841500000000003,
          1.9940500000000003
         ],
         "y": [
          82.35139538053278,
          81.93173971319239,
          81.0843581914697,
          79.4818041919961,
          78.05481233082092,
          76.83570853656656,
          75.82521879525477,
          75.05542009375232,
          74.52782501400873,
          74.26779223514215
         ]
        },
        {
         "mode": "lines",
         "name": "5040 seconds",
         "type": "scatter",
         "x": [
          0.10495000000000002,
          0.3148500000000001,
          0.52475,
          0.7346500000000001,
          0.9445500000000001,
          1.1544500000000002,
          1.3643500000000004,
          1.5742500000000004,
          1.7841500000000003,
          1.9940500000000003
         ],
         "y": [
          82.60037821833329,
          82.1809331762946,
          81.34355995534513,
          79.74129468904985,
          78.33052390920717,
          77.11182601090741,
          76.11739903448748,
          75.34817323111936,
          74.83018793942261,
          74.5708331282087
         ]
        },
        {
         "mode": "lines",
         "name": "5100 seconds",
         "type": "scatter",
         "x": [
          0.10495000000000002,
          0.3148500000000001,
          0.52475,
          0.7346500000000001,
          0.9445500000000001,
          1.1544500000000002,
          1.3643500000000004,
          1.5742500000000004,
          1.7841500000000003,
          1.9940500000000003
         ],
         "y": [
          82.84944727662354,
          82.43501882825711,
          81.59789167734084,
          80.00874508733023,
          78.59831473006342,
          77.39576463800535,
          76.4018208626736,
          75.64541044669869,
          75.12807433038202,
          74.87353702015398
         ]
        },
        {
         "mode": "lines",
         "name": "5160 seconds",
         "type": "scatter",
         "x": [
          0.10495000000000002,
          0.3148500000000001,
          0.52475,
          0.7346500000000001,
          0.9445500000000001,
          1.1544500000000002,
          1.3643500000000004,
          1.5742500000000004,
          1.7841500000000003,
          1.9940500000000003
         ],
         "y": [
          83.1009698552047,
          82.68674719955067,
          81.85865304205461,
          80.26979409420751,
          78.87400260430076,
          77.6718575569628,
          76.69239778779544,
          75.93655262526516,
          75.42786535700229,
          75.17398118876591
         ]
        },
        {
         "mode": "lines",
         "name": "5220 seconds",
         "type": "scatter",
         "x": [
          0.10495000000000002,
          0.3148500000000001,
          0.52475,
          0.7346500000000001,
          0.9445500000000001,
          1.1544500000000002,
          1.3643500000000004,
          1.5742500000000004,
          1.7841500000000003,
          1.9940500000000003
         ],
         "y": [
          83.352576013021,
          82.94288228740112,
          82.1150316046088,
          80.5380120694793,
          79.14256071779137,
          77.95498234255157,
          76.97600223262882,
          76.2317023293353,
          75.72364765429245,
          75.4741012797128
         ]
        },
        {
         "mode": "lines",
         "name": "5280 seconds",
         "type": "scatter",
         "x": [
          0.10495000000000002,
          0.3148500000000001,
          0.52475,
          0.7346500000000001,
          0.9445500000000001,
          1.1544500000000002,
          1.3643500000000004,
          1.5742500000000004,
          1.7841500000000003,
          1.9940500000000003
         ],
         "y": [
          83.60639356499097,
          83.1969006665388,
          82.37720114991552,
          80.80046836934075,
          79.41822511507783,
          78.23105056012957,
          77.2651281887082,
          76.52138404144817,
          76.02111253239875,
          75.77219238068004
         ]
        },
        {
         "mode": "lines",
         "name": "5340 seconds",
         "type": "scatter",
         "x": [
          0.10495000000000002,
          0.3148500000000001,
          0.52475,
          0.7346500000000001,
          0.9445500000000001,
          1.1544500000000002,
          1.3643500000000004,
          1.5742500000000004,
          1.7841500000000003,
          1.9940500000000003
         ],
         "y": [
          83.86029201448557,
          83.45488712545176,
          82.63542847114425,
          81.0693783607262,
          79.68747480950584,
          78.51343782565323,
          77.54799038278288,
          76.81464552903803,
          76.31498777589648,
          76.06997312973684
         ]
        },
        {
         "mode": "lines",
         "name": "5400 seconds",
         "type": "scatter",
         "x": [
          0.10495000000000002,
          0.3148500000000001,
          0.52475,
          0.7346500000000001,
          0.9445500000000001,
          1.1544500000000002,
          1.3643500000000004,
          1.5742500000000004,
          1.7841500000000003,
          1.9940500000000003
         ],
         "y": [
          84.11618319208027,
          83.71097400356282,
          82.89886941567542,
          81.33310503512784,
          79.96311614375024,
          78.78948101843339,
          77.83580323855303,
          77.10300280891194,
          76.6103485729515,
          76.3659316795372
         ]
        },
        {
         "mode": "lines",
         "name": "5460 seconds",
         "type": "scatter",
         "x": [
          0.10495000000000002,
          0.3148500000000001,
          0.52475,
          0.7346500000000001,
          0.9445500000000001,
          1.1544500000000002,
          1.3643500000000004,
          1.5742500000000004,
          1.7841500000000003,
          1.9940500000000003
         ],
         "y": [
          84.37215252952677,
          83.97063279376826,
          83.15876626115528,
          81.60263889128635,
          80.23298877063496,
          79.07119993782547,
          78.11799100040598,
          77.39455625941932,
          76.90249502396235,
          76.66159415223044
         ]
        },
        {
         "mode": "lines",
         "name": "5520 seconds",
         "type": "scatter",
         "x": [
          0.10495000000000002,
          0.3148500000000001,
          0.52475,
          0.7346500000000001,
          0.9445500000000001,
          1.1544500000000002,
          1.3643500000000004,
          1.5742500000000004,
          1.7841500000000003,
          1.9940500000000003
         ],
         "y": [
          84.6299171599121,
          84.22858782509982,
          83.42335503786657,
          81.86751197905956,
          80.50860758375535,
          79.34721766005754,
          78.40461548838364,
          77.68171210230793,
          77.19595238616914,
          76.9556197484925
         ]
        },
        {
         "mode": "lines",
         "name": "5580 seconds",
         "type": "scatter",
         "x": [
          0.10495000000000002,
          0.3148500000000001,
          0.52475,
          0.7346500000000001,
          0.9445500000000001,
          1.1544500000000002,
          1.3643500000000004,
          1.5742500000000004,
          1.7841500000000003,
          1.9940500000000003
         ],
         "y": [
          84.88775714913304,
          84.4897570976388,
          83.68475923586627,
          82.13760821684448,
          80.77904091459094,
          79.62833090047637,
          78.68619005948752,
          77.97172037970233,
          77.48653134415426,
          77.24936386226953
         ]
        },
        {
         "mode": "lines",
         "name": "5640 seconds",
         "type": "scatter",
         "x": [
          0.10495000000000002,
          0.3148500000000001,
          0.52475,
          0.7346500000000001,
          0.9445500000000001,
          1.1544500000000002,
          1.3643500000000004,
          1.5742500000000004,
          1.7841500000000003,
          1.9940500000000003
         ],
         "y": [
          85.14721420500932,
          84.74939908310249,
          83.9503842045108,
          82.40351549993039,
          81.05463782644418,
          79.90432263071848,
          78.97173899570312,
          78.25778601854003,
          77.7782665483221,
          77.54163718649707
         ]
        },
        {
         "mode": "lines",
         "name": "5700 seconds",
         "type": "scatter",
         "x": [
          0.10495000000000002,
          0.3148500000000001,
          0.52475,
          0.7346500000000001,
          0.9445500000000001,
          1.1544500000000002,
          1.3643500000000004,
          1.5742500000000004,
          1.7841500000000003,
          1.9940500000000003
         ],
         "y": [
          85.40674375441093,
          85.01193252177725,
          84.21314903058924,
          82.67411863584888,
          81.32557546872917,
          80.18488693742611,
          79.25275570193574,
          78.54639630815186,
          78.06742398693659,
          77.83364374046957
         ]
        },
        {
         "mode": "lines",
         "name": "5760 seconds",
         "type": "scatter",
         "x": [
          0.10495000000000002,
          0.3148500000000001,
          0.52475,
          0.7346500000000001,
          0.9445500000000001,
          1.1544500000000002,
          1.3643500000000004,
          1.5742500000000004,
          1.7841500000000003,
          1.9940500000000003
         ],
         "y": [
          85.66772951924366,
          85.27309758423227,
          84.47970931466723,
          82.94095853946509,
          81.60115113549652,
          80.46085211707228,
          79.53733109634842,
          78.83147236185738,
          78.35760080082046,
          78.12432836443124
         ]
        },
        {
         "mode": "lines",
         "name": "5820 seconds",
         "type": "scatter",
         "x": [
          0.10495000000000002,
          0.3148500000000001,
          0.52475,
          0.7346500000000001,
          0.9445500000000001,
          1.1544500000000002,
          1.3643500000000004,
          1.5742500000000004,
          1.7841500000000003,
          1.9940500000000003
         ],
         "y": [
          85.9287848520416,
          85.53686290711873,
          84.74370202925805,
          83.21201848758166,
          81.8725420018896,
          80.74091884791055,
          79.81783994120588,
          79.11881765794094,
          78.6454688417994,
          78.41476087384704
         ]
        },
        {
         "mode": "lines",
         "name": "5880 seconds",
         "type": "scatter",
         "x": [
          0.10495000000000002,
          0.3148500000000001,
          0.52475,
          0.7346500000000001,
          0.9445500000000001,
          1.1544500000000002,
          1.3643500000000004,
          1.5742500000000004,
          1.7841500000000003,
          1.9940500000000003
         ],
         "y": [
          86.19115126124763,
          85.79940284014307,
          85.01110646594962,
          83.47969908345756,
          82.14809708246824,
          81.01685691216476,
          80.10153400858594,
          79.40299516435502,
          78.93423520965162,
          78.70400488970573
         ]
        },
        {
         "mode": "lines",
         "name": "5940 seconds",
         "type": "scatter",
         "x": [
          0.10495000000000002,
          0.3148500000000001,
          0.52475,
          0.7346500000000001,
          0.9445500000000001,
          1.1544500000000002,
          1.3643500000000004,
          1.5742500000000004,
          1.7841500000000003,
          1.9940500000000003
         ],
         "y": [
          86.45358426042809,
          86.06428044556692,
          85.27620699019118,
          83.75117061377198,
          82.41989490771634,
          81.29647252629486,
          80.38158020491149,
          79.68919562129288,
          79.22093345121925,
          78.99301124378657
         ]
        },
        {
         "mode": "lines",
         "name": "6000 seconds",
         "type": "scatter",
         "x": [
          0.10495000000000002,
          0.3148500000000001,
          0.52475,
          0.7346500000000001,
          0.9445500000000001,
          1.1544500000000002,
          1.3643500000000004,
          1.5742500000000004,
          1.7841500000000003,
          1.9940500000000003
         ],
         "y": [
          86.71719740165132,
          86.32806121920943,
          85.54437318273936,
          84.01960871640345,
          82.69543003746722,
          81.57238292830006,
          80.66447628490754,
          79.97255696654055,
          79.50842301999874,
          79.28094873591117
         ]
        }
       ],
       "layout": {
        "legend": {
         "title": {
          "text": "Time Passed"
         }
        },
        "shapes": [
         {
          "line": {
           "color": "grey",
           "dash": "dot",
           "width": 1
          },
          "type": "line",
          "x0": 0.20990000000000003,
          "x1": 0.20990000000000003,
          "xref": "x",
          "y0": 0,
          "y1": 1,
          "yref": "paper"
         },
         {
          "line": {
           "color": "grey",
           "dash": "dot",
           "width": 1
          },
          "type": "line",
          "x0": 0.41980000000000006,
          "x1": 0.41980000000000006,
          "xref": "x",
          "y0": 0,
          "y1": 1,
          "yref": "paper"
         },
         {
          "line": {
           "color": "grey",
           "dash": "dot",
           "width": 1
          },
          "type": "line",
          "x0": 0.6297000000000001,
          "x1": 0.6297000000000001,
          "xref": "x",
          "y0": 0,
          "y1": 1,
          "yref": "paper"
         },
         {
          "line": {
           "color": "grey",
           "dash": "dot",
           "width": 1
          },
          "type": "line",
          "x0": 0.8396000000000001,
          "x1": 0.8396000000000001,
          "xref": "x",
          "y0": 0,
          "y1": 1,
          "yref": "paper"
         },
         {
          "line": {
           "color": "grey",
           "dash": "dot",
           "width": 1
          },
          "type": "line",
          "x0": 1.0495,
          "x1": 1.0495,
          "xref": "x",
          "y0": 0,
          "y1": 1,
          "yref": "paper"
         },
         {
          "line": {
           "color": "grey",
           "dash": "dot",
           "width": 1
          },
          "type": "line",
          "x0": 1.2594,
          "x1": 1.2594,
          "xref": "x",
          "y0": 0,
          "y1": 1,
          "yref": "paper"
         },
         {
          "line": {
           "color": "grey",
           "dash": "dot",
           "width": 1
          },
          "type": "line",
          "x0": 1.4693000000000003,
          "x1": 1.4693000000000003,
          "xref": "x",
          "y0": 0,
          "y1": 1,
          "yref": "paper"
         },
         {
          "line": {
           "color": "grey",
           "dash": "dot",
           "width": 1
          },
          "type": "line",
          "x0": 1.6792000000000002,
          "x1": 1.6792000000000002,
          "xref": "x",
          "y0": 0,
          "y1": 1,
          "yref": "paper"
         },
         {
          "line": {
           "color": "grey",
           "dash": "dot",
           "width": 1
          },
          "type": "line",
          "x0": 1.8891000000000002,
          "x1": 1.8891000000000002,
          "xref": "x",
          "y0": 0,
          "y1": 1,
          "yref": "paper"
         }
        ],
        "template": {
         "data": {
          "bar": [
           {
            "error_x": {
             "color": "#2a3f5f"
            },
            "error_y": {
             "color": "#2a3f5f"
            },
            "marker": {
             "line": {
              "color": "#E5ECF6",
              "width": 0.5
             },
             "pattern": {
              "fillmode": "overlay",
              "size": 10,
              "solidity": 0.2
             }
            },
            "type": "bar"
           }
          ],
          "barpolar": [
           {
            "marker": {
             "line": {
              "color": "#E5ECF6",
              "width": 0.5
             },
             "pattern": {
              "fillmode": "overlay",
              "size": 10,
              "solidity": 0.2
             }
            },
            "type": "barpolar"
           }
          ],
          "carpet": [
           {
            "aaxis": {
             "endlinecolor": "#2a3f5f",
             "gridcolor": "white",
             "linecolor": "white",
             "minorgridcolor": "white",
             "startlinecolor": "#2a3f5f"
            },
            "baxis": {
             "endlinecolor": "#2a3f5f",
             "gridcolor": "white",
             "linecolor": "white",
             "minorgridcolor": "white",
             "startlinecolor": "#2a3f5f"
            },
            "type": "carpet"
           }
          ],
          "choropleth": [
           {
            "colorbar": {
             "outlinewidth": 0,
             "ticks": ""
            },
            "type": "choropleth"
           }
          ],
          "contour": [
           {
            "colorbar": {
             "outlinewidth": 0,
             "ticks": ""
            },
            "colorscale": [
             [
              0,
              "#0d0887"
             ],
             [
              0.1111111111111111,
              "#46039f"
             ],
             [
              0.2222222222222222,
              "#7201a8"
             ],
             [
              0.3333333333333333,
              "#9c179e"
             ],
             [
              0.4444444444444444,
              "#bd3786"
             ],
             [
              0.5555555555555556,
              "#d8576b"
             ],
             [
              0.6666666666666666,
              "#ed7953"
             ],
             [
              0.7777777777777778,
              "#fb9f3a"
             ],
             [
              0.8888888888888888,
              "#fdca26"
             ],
             [
              1,
              "#f0f921"
             ]
            ],
            "type": "contour"
           }
          ],
          "contourcarpet": [
           {
            "colorbar": {
             "outlinewidth": 0,
             "ticks": ""
            },
            "type": "contourcarpet"
           }
          ],
          "heatmap": [
           {
            "colorbar": {
             "outlinewidth": 0,
             "ticks": ""
            },
            "colorscale": [
             [
              0,
              "#0d0887"
             ],
             [
              0.1111111111111111,
              "#46039f"
             ],
             [
              0.2222222222222222,
              "#7201a8"
             ],
             [
              0.3333333333333333,
              "#9c179e"
             ],
             [
              0.4444444444444444,
              "#bd3786"
             ],
             [
              0.5555555555555556,
              "#d8576b"
             ],
             [
              0.6666666666666666,
              "#ed7953"
             ],
             [
              0.7777777777777778,
              "#fb9f3a"
             ],
             [
              0.8888888888888888,
              "#fdca26"
             ],
             [
              1,
              "#f0f921"
             ]
            ],
            "type": "heatmap"
           }
          ],
          "heatmapgl": [
           {
            "colorbar": {
             "outlinewidth": 0,
             "ticks": ""
            },
            "colorscale": [
             [
              0,
              "#0d0887"
             ],
             [
              0.1111111111111111,
              "#46039f"
             ],
             [
              0.2222222222222222,
              "#7201a8"
             ],
             [
              0.3333333333333333,
              "#9c179e"
             ],
             [
              0.4444444444444444,
              "#bd3786"
             ],
             [
              0.5555555555555556,
              "#d8576b"
             ],
             [
              0.6666666666666666,
              "#ed7953"
             ],
             [
              0.7777777777777778,
              "#fb9f3a"
             ],
             [
              0.8888888888888888,
              "#fdca26"
             ],
             [
              1,
              "#f0f921"
             ]
            ],
            "type": "heatmapgl"
           }
          ],
          "histogram": [
           {
            "marker": {
             "pattern": {
              "fillmode": "overlay",
              "size": 10,
              "solidity": 0.2
             }
            },
            "type": "histogram"
           }
          ],
          "histogram2d": [
           {
            "colorbar": {
             "outlinewidth": 0,
             "ticks": ""
            },
            "colorscale": [
             [
              0,
              "#0d0887"
             ],
             [
              0.1111111111111111,
              "#46039f"
             ],
             [
              0.2222222222222222,
              "#7201a8"
             ],
             [
              0.3333333333333333,
              "#9c179e"
             ],
             [
              0.4444444444444444,
              "#bd3786"
             ],
             [
              0.5555555555555556,
              "#d8576b"
             ],
             [
              0.6666666666666666,
              "#ed7953"
             ],
             [
              0.7777777777777778,
              "#fb9f3a"
             ],
             [
              0.8888888888888888,
              "#fdca26"
             ],
             [
              1,
              "#f0f921"
             ]
            ],
            "type": "histogram2d"
           }
          ],
          "histogram2dcontour": [
           {
            "colorbar": {
             "outlinewidth": 0,
             "ticks": ""
            },
            "colorscale": [
             [
              0,
              "#0d0887"
             ],
             [
              0.1111111111111111,
              "#46039f"
             ],
             [
              0.2222222222222222,
              "#7201a8"
             ],
             [
              0.3333333333333333,
              "#9c179e"
             ],
             [
              0.4444444444444444,
              "#bd3786"
             ],
             [
              0.5555555555555556,
              "#d8576b"
             ],
             [
              0.6666666666666666,
              "#ed7953"
             ],
             [
              0.7777777777777778,
              "#fb9f3a"
             ],
             [
              0.8888888888888888,
              "#fdca26"
             ],
             [
              1,
              "#f0f921"
             ]
            ],
            "type": "histogram2dcontour"
           }
          ],
          "mesh3d": [
           {
            "colorbar": {
             "outlinewidth": 0,
             "ticks": ""
            },
            "type": "mesh3d"
           }
          ],
          "parcoords": [
           {
            "line": {
             "colorbar": {
              "outlinewidth": 0,
              "ticks": ""
             }
            },
            "type": "parcoords"
           }
          ],
          "pie": [
           {
            "automargin": true,
            "type": "pie"
           }
          ],
          "scatter": [
           {
            "fillpattern": {
             "fillmode": "overlay",
             "size": 10,
             "solidity": 0.2
            },
            "type": "scatter"
           }
          ],
          "scatter3d": [
           {
            "line": {
             "colorbar": {
              "outlinewidth": 0,
              "ticks": ""
             }
            },
            "marker": {
             "colorbar": {
              "outlinewidth": 0,
              "ticks": ""
             }
            },
            "type": "scatter3d"
           }
          ],
          "scattercarpet": [
           {
            "marker": {
             "colorbar": {
              "outlinewidth": 0,
              "ticks": ""
             }
            },
            "type": "scattercarpet"
           }
          ],
          "scattergeo": [
           {
            "marker": {
             "colorbar": {
              "outlinewidth": 0,
              "ticks": ""
             }
            },
            "type": "scattergeo"
           }
          ],
          "scattergl": [
           {
            "marker": {
             "colorbar": {
              "outlinewidth": 0,
              "ticks": ""
             }
            },
            "type": "scattergl"
           }
          ],
          "scattermapbox": [
           {
            "marker": {
             "colorbar": {
              "outlinewidth": 0,
              "ticks": ""
             }
            },
            "type": "scattermapbox"
           }
          ],
          "scatterpolar": [
           {
            "marker": {
             "colorbar": {
              "outlinewidth": 0,
              "ticks": ""
             }
            },
            "type": "scatterpolar"
           }
          ],
          "scatterpolargl": [
           {
            "marker": {
             "colorbar": {
              "outlinewidth": 0,
              "ticks": ""
             }
            },
            "type": "scatterpolargl"
           }
          ],
          "scatterternary": [
           {
            "marker": {
             "colorbar": {
              "outlinewidth": 0,
              "ticks": ""
             }
            },
            "type": "scatterternary"
           }
          ],
          "surface": [
           {
            "colorbar": {
             "outlinewidth": 0,
             "ticks": ""
            },
            "colorscale": [
             [
              0,
              "#0d0887"
             ],
             [
              0.1111111111111111,
              "#46039f"
             ],
             [
              0.2222222222222222,
              "#7201a8"
             ],
             [
              0.3333333333333333,
              "#9c179e"
             ],
             [
              0.4444444444444444,
              "#bd3786"
             ],
             [
              0.5555555555555556,
              "#d8576b"
             ],
             [
              0.6666666666666666,
              "#ed7953"
             ],
             [
              0.7777777777777778,
              "#fb9f3a"
             ],
             [
              0.8888888888888888,
              "#fdca26"
             ],
             [
              1,
              "#f0f921"
             ]
            ],
            "type": "surface"
           }
          ],
          "table": [
           {
            "cells": {
             "fill": {
              "color": "#EBF0F8"
             },
             "line": {
              "color": "white"
             }
            },
            "header": {
             "fill": {
              "color": "#C8D4E3"
             },
             "line": {
              "color": "white"
             }
            },
            "type": "table"
           }
          ]
         },
         "layout": {
          "annotationdefaults": {
           "arrowcolor": "#2a3f5f",
           "arrowhead": 0,
           "arrowwidth": 1
          },
          "autotypenumbers": "strict",
          "coloraxis": {
           "colorbar": {
            "outlinewidth": 0,
            "ticks": ""
           }
          },
          "colorscale": {
           "diverging": [
            [
             0,
             "#8e0152"
            ],
            [
             0.1,
             "#c51b7d"
            ],
            [
             0.2,
             "#de77ae"
            ],
            [
             0.3,
             "#f1b6da"
            ],
            [
             0.4,
             "#fde0ef"
            ],
            [
             0.5,
             "#f7f7f7"
            ],
            [
             0.6,
             "#e6f5d0"
            ],
            [
             0.7,
             "#b8e186"
            ],
            [
             0.8,
             "#7fbc41"
            ],
            [
             0.9,
             "#4d9221"
            ],
            [
             1,
             "#276419"
            ]
           ],
           "sequential": [
            [
             0,
             "#0d0887"
            ],
            [
             0.1111111111111111,
             "#46039f"
            ],
            [
             0.2222222222222222,
             "#7201a8"
            ],
            [
             0.3333333333333333,
             "#9c179e"
            ],
            [
             0.4444444444444444,
             "#bd3786"
            ],
            [
             0.5555555555555556,
             "#d8576b"
            ],
            [
             0.6666666666666666,
             "#ed7953"
            ],
            [
             0.7777777777777778,
             "#fb9f3a"
            ],
            [
             0.8888888888888888,
             "#fdca26"
            ],
            [
             1,
             "#f0f921"
            ]
           ],
           "sequentialminus": [
            [
             0,
             "#0d0887"
            ],
            [
             0.1111111111111111,
             "#46039f"
            ],
            [
             0.2222222222222222,
             "#7201a8"
            ],
            [
             0.3333333333333333,
             "#9c179e"
            ],
            [
             0.4444444444444444,
             "#bd3786"
            ],
            [
             0.5555555555555556,
             "#d8576b"
            ],
            [
             0.6666666666666666,
             "#ed7953"
            ],
            [
             0.7777777777777778,
             "#fb9f3a"
            ],
            [
             0.8888888888888888,
             "#fdca26"
            ],
            [
             1,
             "#f0f921"
            ]
           ]
          },
          "colorway": [
           "#636efa",
           "#EF553B",
           "#00cc96",
           "#ab63fa",
           "#FFA15A",
           "#19d3f3",
           "#FF6692",
           "#B6E880",
           "#FF97FF",
           "#FECB52"
          ],
          "font": {
           "color": "#2a3f5f"
          },
          "geo": {
           "bgcolor": "white",
           "lakecolor": "white",
           "landcolor": "#E5ECF6",
           "showlakes": true,
           "showland": true,
           "subunitcolor": "white"
          },
          "hoverlabel": {
           "align": "left"
          },
          "hovermode": "closest",
          "mapbox": {
           "style": "light"
          },
          "paper_bgcolor": "white",
          "plot_bgcolor": "#E5ECF6",
          "polar": {
           "angularaxis": {
            "gridcolor": "white",
            "linecolor": "white",
            "ticks": ""
           },
           "bgcolor": "#E5ECF6",
           "radialaxis": {
            "gridcolor": "white",
            "linecolor": "white",
            "ticks": ""
           }
          },
          "scene": {
           "xaxis": {
            "backgroundcolor": "#E5ECF6",
            "gridcolor": "white",
            "gridwidth": 2,
            "linecolor": "white",
            "showbackground": true,
            "ticks": "",
            "zerolinecolor": "white"
           },
           "yaxis": {
            "backgroundcolor": "#E5ECF6",
            "gridcolor": "white",
            "gridwidth": 2,
            "linecolor": "white",
            "showbackground": true,
            "ticks": "",
            "zerolinecolor": "white"
           },
           "zaxis": {
            "backgroundcolor": "#E5ECF6",
            "gridcolor": "white",
            "gridwidth": 2,
            "linecolor": "white",
            "showbackground": true,
            "ticks": "",
            "zerolinecolor": "white"
           }
          },
          "shapedefaults": {
           "line": {
            "color": "#2a3f5f"
           }
          },
          "ternary": {
           "aaxis": {
            "gridcolor": "white",
            "linecolor": "white",
            "ticks": ""
           },
           "baxis": {
            "gridcolor": "white",
            "linecolor": "white",
            "ticks": ""
           },
           "bgcolor": "#E5ECF6",
           "caxis": {
            "gridcolor": "white",
            "linecolor": "white",
            "ticks": ""
           }
          },
          "title": {
           "x": 0.05
          },
          "xaxis": {
           "automargin": true,
           "gridcolor": "white",
           "linecolor": "white",
           "ticks": "",
           "title": {
            "standoff": 15
           },
           "zerolinecolor": "white",
           "zerolinewidth": 2
          },
          "yaxis": {
           "automargin": true,
           "gridcolor": "white",
           "linecolor": "white",
           "ticks": "",
           "title": {
            "standoff": 15
           },
           "zerolinecolor": "white",
           "zerolinewidth": 2
          }
         }
        },
        "title": {
         "text": "M4d: fast buoyancy indirect - qdot NOT separated (charge/discharge together)"
        },
        "xaxis": {
         "range": [
          0,
          2.099
         ],
         "title": {
          "text": "Height"
         }
        },
        "yaxis": {
         "title": {
          "text": "Temperature"
         }
        }
       }
      }
     },
     "metadata": {},
     "output_type": "display_data"
    },
    {
     "data": {
      "application/vnd.plotly.v1+json": {
       "config": {
        "plotlyServerURL": "https://plot.ly"
       },
       "data": [
        {
         "mode": "lines",
         "name": "0 seconds",
         "type": "scatter",
         "x": [
          0.10495000000000002,
          0.3148500000000001,
          0.52475,
          0.7346500000000001,
          0.9445500000000001,
          1.1544500000000002,
          1.3643500000000004,
          1.5742500000000004,
          1.7841500000000003,
          1.9940500000000003
         ],
         "y": [
          100,
          90,
          80,
          70,
          60,
          50,
          40,
          30,
          20,
          10
         ]
        },
        {
         "mode": "lines",
         "name": "60 seconds",
         "type": "scatter",
         "x": [
          0.10495000000000002,
          0.3148500000000001,
          0.52475,
          0.7346500000000001,
          0.9445500000000001,
          1.1544500000000002,
          1.3643500000000004,
          1.5742500000000004,
          1.7841500000000003,
          1.9940500000000003
         ],
         "y": [
          94.99109564752546,
          89.99680031620633,
          80.17165570573466,
          70.17201930616575,
          60.17238290659685,
          50.17274650702795,
          40.17311010745905,
          30.173473707890153,
          20.173837308321254,
          15.175915500096423
         ]
        },
        {
         "mode": "lines",
         "name": "120 seconds",
         "type": "scatter",
         "x": [
          0.10495000000000002,
          0.3148500000000001,
          0.52475,
          0.7346500000000001,
          0.9445500000000001,
          1.1544500000000002,
          1.3643500000000004,
          1.5742500000000004,
          1.7841500000000003,
          1.9940500000000003
         ],
         "y": [
          92.48639239634647,
          87.57721559734989,
          80.25602458152379,
          70.34403235770213,
          60.3447595453438,
          50.345486732985464,
          40.346213920627136,
          30.34694110826881,
          22.849520076349762,
          17.84943207207244
         ]
        },
        {
         "mode": "lines",
         "name": "180 seconds",
         "type": "scatter",
         "x": [
          0.10495000000000002,
          0.3148500000000001,
          0.52475,
          0.7346500000000001,
          0.9445500000000001,
          1.1544500000000002,
          1.3643500000000004,
          1.5742500000000004,
          1.7841500000000003,
          1.9940500000000003
         ],
         "y": [
          90.02444209748371,
          86.36761731986337,
          79.13175524837465,
          70.472381506676,
          60.51712991646873,
          50.51822067810092,
          40.51931143973311,
          31.771825531700756,
          24.2724168314768,
          20.523843497126297
         ]
        },
        {
         "mode": "lines",
         "name": "240 seconds",
         "type": "scatter",
         "x": [
          0.10495000000000002,
          0.3148500000000001,
          0.52475,
          0.7346500000000001,
          0.9445500000000001,
          1.1544500000000002,
          1.3643500000000004,
          1.5742500000000004,
          1.7841500000000003,
          1.9940500000000003
         ],
         "y": [
          88.18909055789945,
          84.5743194471383,
          78.59140365334443,
          69.99618705497495,
          60.66765651572271,
          50.69094834260268,
          41.31836314913686,
          32.569521573500275,
          26.322262251462238,
          22.57206001129034
         ]
        },
        {
         "mode": "lines",
         "name": "300 seconds",
         "type": "scatter",
         "x": [
          0.10495000000000002,
          0.3148500000000001,
          0.52475,
          0.7346500000000001,
          0.9445500000000001,
          1.1544500000000002,
          1.3643500000000004,
          1.5742500000000004,
          1.7841500000000003,
          1.9940500000000003
         ],
         "y": [
          86.37490373781661,
          83.38677384450916,
          77.45644077285559,
          69.80140372542823,
          60.515797453003366,
          51.16585133357606,
          41.80342114794682,
          33.99419036680063,
          27.744894709780326,
          24.620946755319494
         ]
        },
        {
         "mode": "lines",
         "name": "360 seconds",
         "type": "scatter",
         "x": [
          0.10495000000000002,
          0.3148500000000001,
          0.52475,
          0.7346500000000001,
          0.9445500000000001,
          1.1544500000000002,
          1.3643500000000004,
          1.5742500000000004,
          1.7841500000000003,
          1.9940500000000003
         ],
         "y": [
          84.87429015171845,
          81.91212803408729,
          76.76549405385393,
          69.1578214359886,
          60.65597888906865,
          51.33231093490675,
          42.7533742059061,
          34.94779656780405,
          29.481745673719782,
          26.356437244904438
         ]
        },
        {
         "mode": "lines",
         "name": "420 seconds",
         "type": "scatter",
         "x": [
          0.10495000000000002,
          0.3148500000000001,
          0.52475,
          0.7346500000000001,
          0.9445500000000001,
          1.1544500000000002,
          1.3643500000000004,
          1.5742500000000004,
          1.7841500000000003,
          1.9940500000000003
         ],
         "y": [
          83.3867715180355,
          80.81655215850921,
          75.70625872225946,
          68.88260861256751,
          60.417261838087796,
          51.87752268562684,
          43.313217512047544,
          36.29131891083483,
          30.826074864942647,
          28.092485764978115
         ]
        },
        {
         "mode": "lines",
         "name": "480 seconds",
         "type": "scatter",
         "x": [
          0.10495000000000002,
          0.3148500000000001,
          0.52475,
          0.7346500000000001,
          0.9445500000000001,
          1.1544500000000002,
          1.3643500000000004,
          1.5742500000000004,
          1.7841500000000003,
          1.9940500000000003
         ],
         "y": [
          82.0954071701997,
          79.54314430710555,
          75.02105154728858,
          68.23349379820748,
          60.5524185926905,
          52.037913030858036,
          44.257717111762155,
          37.24320065147121,
          32.36588914127573,
          29.632474218982207
         ]
        },
        {
         "mode": "lines",
         "name": "540 seconds",
         "type": "scatter",
         "x": [
          0.10495000000000002,
          0.3148500000000001,
          0.52475,
          0.7346500000000001,
          0.9445500000000001,
          1.1544500000000002,
          1.3643500000000004,
          1.5742500000000004,
          1.7841500000000003,
          1.9940500000000003
         ],
         "y": [
          80.81311577512824,
          78.55501822781636,
          74.05970535355104,
          67.95864094941884,
          60.30790052523194,
          52.57788626253274,
          44.81366437695205,
          38.48543840915568,
          33.61165138761027,
          31.172266869316424
         ]
        },
        {
         "mode": "lines",
         "name": "600 seconds",
         "type": "scatter",
         "x": [
          0.10495000000000002,
          0.3148500000000001,
          0.52475,
          0.7346500000000001,
          0.9445500000000001,
          1.1544500000000002,
          1.3643500000000004,
          1.5742500000000004,
          1.7841500000000003,
          1.9940500000000003
         ],
         "y": [
          79.6780560204518,
          77.43318219780951,
          73.42838201411777,
          67.35558834928113,
          60.44061955537636,
          52.73342842460468,
          45.70488293556311,
          39.38611224357375,
          35.002679056583666,
          32.56487718956346
         ]
        },
        {
         "mode": "lines",
         "name": "660 seconds",
         "type": "scatter",
         "x": [
          0.10495000000000002,
          0.3148500000000001,
          0.52475,
          0.7346500000000001,
          0.9445500000000001,
          1.1544500000000002,
          1.3643500000000004,
          1.5742500000000004,
          1.7841500000000003,
          1.9940500000000003
         ],
         "y": [
          78.54969086090445,
          76.5501263395409,
          72.56586874699006,
          67.1064487931882,
          60.2167177559998,
          53.24553329920151,
          46.2328141354097,
          40.52729822529615,
          36.14917337431631,
          33.95659759007709
         ]
        },
        {
         "mode": "lines",
         "name": "720 seconds",
         "type": "scatter",
         "x": [
          0.10495000000000002,
          0.3148500000000001,
          0.52475,
          0.7346500000000001,
          0.9445500000000001,
          1.1544500000000002,
          1.3643500000000004,
          1.5742500000000004,
          1.7841500000000003,
          1.9940500000000003
         ],
         "y": [
          77.54410875753577,
          75.55467454415819,
          71.9999202727121,
          66.56313338031184,
          60.348349877641425,
          53.397386186707266,
          47.05955915393417,
          41.36434861326936,
          37.415632581388614,
          35.225557974596676
         ]
        },
        {
         "mode": "lines",
         "name": "780 seconds",
         "type": "scatter",
         "x": [
          0.10495000000000002,
          0.3148500000000001,
          0.52475,
          0.7346500000000001,
          0.9445500000000001,
          1.1544500000000002,
          1.3643500000000004,
          1.5742500000000004,
          1.7841500000000003,
          1.9940500000000003
         ],
         "y": [
          76.5436647883758,
          74.76902883343708,
          71.23047634897964,
          66.3461246578508,
          60.15248365028746,
          53.876699402916,
          47.55384859221982,
          42.41100362070354,
          38.468507037601356,
          36.493177719901276
         ]
        },
        {
         "mode": "lines",
         "name": "840 seconds",
         "type": "scatter",
         "x": [
          0.10495000000000002,
          0.3148500000000001,
          0.52475,
          0.7346500000000001,
          0.9445500000000001,
          1.1544500000000002,
          1.3643500000000004,
          1.5742500000000004,
          1.7841500000000003,
          1.9940500000000003
         ],
         "y": [
          75.65073325906353,
          73.88407396727715,
          70.72928372803374,
          65.86337183647802,
          60.2837730602287,
          54.025762313137214,
          48.316921580119654,
          43.18443892196942,
          39.62564759223028,
          37.653292664660455
         ]
        },
        {
         "mode": "lines",
         "name": "900 seconds",
         "type": "scatter",
         "x": [
          0.10495000000000002,
          0.3148500000000001,
          0.52475,
          0.7346500000000001,
          0.9445500000000001,
          1.1544500000000002,
          1.3643500000000004,
          1.5742500000000004,
          1.7841500000000003,
          1.9940500000000003
         ],
         "y": [
          74.76185466327978,
          73.18711878621222,
          70.04537547103965,
          65.67855620678887,
          60.11680477558508,
          54.47305664111009,
          48.7780229179531,
          44.14459180241098,
          40.5923049413086,
          38.81183795122857
         ]
        },
        {
         "mode": "lines",
         "name": "960 seconds",
         "type": "scatter",
         "x": [
          0.10495000000000002,
          0.3148500000000001,
          0.52475,
          0.7346500000000001,
          0.9445500000000001,
          1.1544500000000002,
          1.3643500000000004,
          1.5742500000000004,
          1.7841500000000003,
          1.9940500000000003
         ],
         "y": [
          73.96903865859073,
          72.40071514153203,
          69.60461157246637,
          65.25302897046605,
          60.248168780215885,
          54.61998751621415,
          49.481826237070095,
          44.85833830213714,
          41.65165573588802,
          39.87431935603728
         ]
        },
        {
         "mode": "lines",
         "name": "1020 seconds",
         "type": "scatter",
         "x": [
          0.10495000000000002,
          0.3148500000000001,
          0.52475,
          0.7346500000000001,
          0.9445500000000001,
          1.1544500000000002,
          1.3643500000000004,
          1.5742500000000004,
          1.7841500000000003,
          1.9940500000000003
         ],
         "y": [
          73.17948605907,
          71.78402123221541,
          68.99859646451999,
          65.09845219219788,
          60.1087581923461,
          55.03767346279725,
          49.91203058889268,
          45.739956146218816,
          42.5396630764635,
          40.93515985177273
         ]
        },
        {
         "mode": "lines",
         "name": "1080 seconds",
         "type": "scatter",
         "x": [
          0.10495000000000002,
          0.3148500000000001,
          0.52475,
          0.7346500000000001,
          0.9445500000000001,
          1.1544500000000002,
          1.3643500000000004,
          1.5742500000000004,
          1.7841500000000003,
          1.9940500000000003
         ],
         "y": [
          72.47645285852731,
          71.08622759125258,
          68.61307079113857,
          64.72565822125466,
          60.24042559682307,
          55.182946879894246,
          50.56175410694723,
          46.39894145318069,
          43.510893047751246,
          41.90947454441779
         ]
        },
        {
         "mode": "lines",
         "name": "1140 seconds",
         "type": "scatter",
         "x": [
          0.10495000000000002,
          0.3148500000000001,
          0.52475,
          0.7346500000000001,
          0.9445500000000001,
          1.1544500000000002,
          1.3643500000000004,
          1.5742500000000004,
          1.7841500000000003,
          1.9940500000000003
         ],
         "y": [
          71.77609009173136,
          70.54203457451796,
          68.07773144648891,
          64.59884041161405,
          60.12656293629872,
          55.57373465293935,
          50.96376138731782,
          47.209454478830544,
          44.32744626353095,
          42.88217750379776
         ]
        },
        {
         "mode": "lines",
         "name": "1200 seconds",
         "type": "scatter",
         "x": [
          0.10495000000000002,
          0.3148500000000001,
          0.52475,
          0.7346500000000001,
          0.9445500000000001,
          1.1544500000000002,
          1.3643500000000004,
          1.5742500000000004,
          1.7841500000000003,
          1.9940500000000003
         ],
         "y": [
          71.15389250437349,
          69.92417418769773,
          67.7423249637332,
          64.27416537014953,
          60.25864982122154,
          55.717694645537335,
          51.56447616159785,
          47.81862523488527,
          45.2190543913422,
          43.77670591952736
         ]
        },
        {
         "mode": "lines",
         "name": "1260 seconds",
         "type": "scatter",
         "x": [
          0.10495000000000002,
          0.3148500000000001,
          0.52475,
          0.7346500000000001,
          0.9445500000000001,
          1.1544500000000002,
          1.3643500000000004,
          1.5742500000000004,
          1.7841500000000003,
          1.9940500000000003
         ],
         "y": [
          70.53390827974133,
          69.4454499253451,
          67.27101541875729,
          64.17260606012496,
          60.16819903740619,
          56.08417869602391,
          51.940930559209505,
          48.56481901183887,
          45.97081598150278,
          44.66971048270469
         ]
        },
        {
         "mode": "lines",
         "name": "1320 seconds",
         "type": "scatter",
         "x": [
          0.10495000000000002,
          0.3148500000000001,
          0.52475,
          0.7346500000000001,
          0.9445500000000001,
          1.1544500000000002,
          1.3643500000000004,
          1.5742500000000004,
          1.7841500000000003,
          1.9940500000000003
         ],
         "y": [
          69.9846251673633,
          68.89979454370147,
          66.98096281213115,
          63.89165828013991,
          60.3007533395287,
          56.22707830814633,
          52.497327317466144,
          49.128827466302,
          46.790414709058574,
          45.49200253956019
         ]
        },
        {
         "mode": "lines",
         "name": "1380 seconds",
         "type": "scatter",
         "x": [
          0.10495000000000002,
          0.3148500000000001,
          0.52475,
          0.7346500000000001,
          0.9445500000000001,
          1.1544500000000002,
          1.3643500000000004,
          1.5742500000000004,
          1.7841500000000003,
          1.9940500000000003
         ],
         "y": [
          69.43719537108213,
          68.48019665855155,
          66.5676227669719,
          63.81299974897095,
          60.23164427675155,
          56.571628800684124,
          52.850680418443446,
          49.81685400710906,
          47.48348487783606,
          46.31288936843728
         ]
        },
        {
         "mode": "lines",
         "name": "1440 seconds",
         "type": "scatter",
         "x": [
          0.10495000000000002,
          0.3148500000000001,
          0.52475,
          0.7346500000000001,
          0.9445500000000001,
          1.1544500000000002,
          1.3643500000000004,
          1.5742500000000004,
          1.7841500000000003,
          1.9940500000000003
         ],
         "y": [
          68.95374306266628,
          67.99980533961698,
          66.31857488796487,
          63.571713409425215,
          60.36467311895658,
          56.71365779470408,
          53.36702087967893,
          50.33997508542107,
          48.237940476026345,
          47.06978481933831
         ]
        },
        {
         "mode": "lines",
         "name": "1500 seconds",
         "type": "scatter",
         "x": [
          0.10495000000000002,
          0.3148500000000001,
          0.52475,
          0.7346500000000001,
          0.9445500000000001,
          1.1544500000000002,
          1.3643500000000004,
          1.5742500000000004,
          1.7841500000000003,
          1.9940500000000003
         ],
         "y": [
          68.47185586738271,
          67.63361820828413,
          65.95770066185204,
          63.51378554561628,
          60.31496697412067,
          57.03840991664403,
          53.699504065976086,
          50.97539874217213,
          48.87787578760141,
          47.82540645325902
         ]
        },
        {
         "mode": "lines",
         "name": "1560 seconds",
         "type": "scatter",
         "x": [
          0.10495000000000002,
          0.3148500000000001,
          0.52475,
          0.7346500000000001,
          0.9445500000000001,
          1.1544500000000002,
          1.3643500000000004,
          1.5742500000000004,
          1.7841500000000003,
          1.9940500000000003
         ],
         "y": [
          68.04786787235562,
          67.21223670789307,
          65.74571546391329,
          63.308438866663955,
          60.44845372886659,
          57.17971371345439,
          54.17963856234207,
          51.46152555084027,
          49.57339634877212,
          48.523109519254014
         ]
        },
        {
         "mode": "lines",
         "name": "1620 seconds",
         "type": "scatter",
         "x": [
          0.10495000000000002,
          0.3148500000000001,
          0.52475,
          0.7346500000000001,
          0.9445500000000001,
          1.1544500000000002,
          1.3643500000000004,
          1.5742500000000004,
          1.7841500000000003,
          1.9940500000000003
         ],
         "y": [
          67.62521326249205,
          66.89430683199892,
          65.43231878669496,
          63.26926316138846,
          60.416361618629,
          57.48658501623704,
          54.49327022952271,
          52.049375845798785,
          50.16524476802714,
          49.219671690166706
         ]
        },
        {
         "mode": "lines",
         "name": "1680 seconds",
         "type": "scatter",
         "x": [
          0.10495000000000002,
          0.3148500000000001,
          0.52475,
          0.7346500000000001,
          0.9445500000000001,
          1.1544500000000002,
          1.3643500000000004,
          1.5742500000000004,
          1.7841500000000003,
          1.9940500000000003
         ],
         "y": [
          67.25494995264243,
          66.52629454333058,
          65.25383101388795,
          63.09646707751327,
          60.550276571509556,
          57.627277585330745,
          54.94067280312913,
          52.502040787132096,
          50.80744696752407,
          49.86380954627813
         ]
        },
        {
         "mode": "lines",
         "name": "1740 seconds",
         "type": "scatter",
         "x": [
          0.10495000000000002,
          0.3148500000000001,
          0.52475,
          0.7346500000000001,
          0.9445500000000001,
          1.1544500000000002,
          1.3643500000000004,
          1.5742500000000004,
          1.7841500000000003,
          1.9940500000000003
         ],
         "y": [
          66.88583796971254,
          66.25197025332268,
          64.9833968926582,
          63.074246801730965,
          60.53416030957226,
          57.917990868174535,
          55.23727535430254,
          53.046863352060484,
          51.355787640553096,
          50.50693380751809
         ]
        },
        {
         "mode": "lines",
         "name": "1800 seconds",
         "type": "scatter",
         "x": [
          0.10495000000000002,
          0.3148500000000001,
          0.52475,
          0.7346500000000001,
          0.9445500000000001,
          1.1544500000000002,
          1.3643500000000004,
          1.5742500000000004,
          1.7841500000000003,
          1.9940500000000003
         ],
         "y": [
          66.5641106972712,
          65.93224312823529,
          64.83518302700597,
          62.930924279911515,
          60.66846719197864,
          58.05816360685985,
          55.65508067601742,
          53.46926650054631,
          51.949752960889974,
          51.10260834366364
         ]
        },
        {
         "mode": "lines",
         "name": "1860 seconds",
         "type": "scatter",
         "x": [
          0.10495000000000002,
          0.3148500000000001,
          0.52475,
          0.7346500000000001,
          0.9445500000000001,
          1.1544500000000002,
          1.3643500000000004,
          1.5742500000000004,
          1.7841500000000003,
          1.9940500000000003
         ],
         "y": [
          66.24340481978315,
          65.69731896469605,
          64.60363116861618,
          62.924030227680944,
          60.66683338260218,
          58.33426864727636,
          55.936299141019326,
          53.975169649971384,
          52.45873626790177,
          51.69738607143208
         ]
        },
        {
         "mode": "lines",
         "name": "1920 seconds",
         "type": "scatter",
         "x": [
          0.10495000000000002,
          0.3148500000000001,
          0.52475,
          0.7346500000000001,
          0.9445500000000001,
          1.1544500000000002,
          1.3643500000000004,
          1.5742500000000004,
          1.7841500000000003,
          1.9940500000000003
         ],
         "y": [
          65.96550747834848,
          65.42130423343012,
          64.48277450511708,
          62.8073940241874,
          60.80149311268412,
          58.47399673012293,
          56.32733666777259,
          54.37020807970442,
          53.00906043231644,
          52.249221769612
         ]
        },
        {
         "mode": "lines",
         "name": "1980 seconds",
         "type": "scatter",
         "x": [
          0.10495000000000002,
          0.3148500000000001,
          0.52475,
          0.7346500000000001,
          0.9445500000000001,
          1.1544500000000002,
          1.3643500000000004,
          1.5742500000000004,
          1.7841500000000003,
          1.9940500000000003
         ],
         "y": [
          65.68856740701145,
          65.22196845574035,
          64.28642672904348,
          62.81434892410922,
          60.81298519908873,
          58.73688923781339,
          56.594656533883345,
          54.84090459311779,
          53.482446584267194,
          52.8002628319743
         ]
        },
        {
         "mode": "lines",
         "name": "2040 seconds",
         "type": "scatter",
         "x": [
          0.10495000000000002,
          0.3148500000000001,
          0.52475,
          0.7346500000000001,
          0.9445500000000001,
          1.1544500000000002,
          1.3643500000000004,
          1.5742500000000004,
          1.7841500000000003,
          1.9940500000000003
         ],
         "y": [
          65.45021222607008,
          64.98556904735855,
          64.1902833674219,
          62.72188132366555,
          60.94795756851607,
          58.87623654998067,
          56.961480880466134,
          55.21120058463109,
          53.993283667264606,
          53.31245151045531
         ]
        },
        {
         "mode": "lines",
         "name": "2100 seconds",
         "type": "scatter",
         "x": [
          0.10495000000000002,
          0.3148500000000001,
          0.52475,
          0.7346500000000001,
          0.9445500000000001,
          1.1544500000000002,
          1.3643500000000004,
          1.5742500000000004,
          1.7841500000000003,
          1.9940500000000003
         ],
         "y": [
          65.2128429365519,
          64.81835181946379,
          64.02583945706161,
          62.741343680327496,
          60.97134816591595,
          59.12717420021155,
          57.21624465601511,
          55.6500448950074,
          54.434479206540075,
          53.823928716848044
         ]
        },
        {
         "mode": "lines",
         "name": "2160 seconds",
         "type": "scatter",
         "x": [
          0.10495000000000002,
          0.3148500000000001,
          0.52475,
          0.7346500000000001,
          0.9445500000000001,
          1.1544500000000002,
          1.3643500000000004,
          1.5742500000000004,
          1.7841500000000003,
          1.9940500000000003
         ],
         "y": [
          65.01009947697474,
          64.61791830920744,
          63.95200439835895,
          62.67078064233688,
          61.10659178033324,
          59.266197780854874,
          57.56116220623152,
          55.9979724635346,
          54.90958122891105,
          54.300271226409656
         ]
        },
        {
         "mode": "lines",
         "name": "2220 seconds",
         "type": "scatter",
         "x": [
          0.10495000000000002,
          0.3148500000000001,
          0.52475,
          0.7346500000000001,
          0.9445500000000001,
          1.1544500000000002,
          1.3643500000000004,
          1.5742500000000004,
          1.7841500000000003,
          1.9940500000000003
         ],
         "y": [
          64.80850358128659,
          64.47963723062497,
          63.81653028107833,
          62.701527752948984,
          61.140776972481085,
          59.506313492649,
          57.80458490190911,
          56.40799361192608,
          55.32167323988725,
          54.775961018231655
         ]
        },
        {
         "mode": "lines",
         "name": "2280 seconds",
         "type": "scatter",
         "x": [
          0.10495000000000002,
          0.3148500000000001,
          0.52475,
          0.7346500000000001,
          0.9445500000000001,
          1.1544500000000002,
          1.3643500000000004,
          1.5742500000000004,
          1.7841500000000003,
          1.9940500000000003
         ],
         "y": [
          64.63774125435374,
          64.31194405425485,
          63.762801954751694,
          62.65085038854329,
          61.2762473988354,
          59.645068421967224,
          58.12967691336306,
          56.73570335931087,
          55.76442593471782,
          55.21990574867837
         ]
        },
        {
         "mode": "lines",
         "name": "2340 seconds",
         "type": "scatter",
         "x": [
          0.10495000000000002,
          0.3148500000000001,
          0.52475,
          0.7346500000000001,
          0.9445500000000001,
          1.1544500000000002,
          1.3643500000000004,
          1.5742500000000004,
          1.7841500000000003,
          1.9940500000000003
         ],
         "y": [
          64.46847015313517,
          64.19964310369598,
          63.653736344162326,
          62.69175966310593,
          61.32024494223135,
          59.87538098091,
          58.362860912600844,
          57.119634083725366,
          56.15021395919833,
          55.66322544098496
         ]
        },
        {
         "mode": "lines",
         "name": "2400 seconds",
         "type": "scatter",
         "x": [
          0.10495000000000002,
          0.3148500000000001,
          0.52475,
          0.7346500000000001,
          0.9445500000000001,
          1.1544500000000002,
          1.3643500000000004,
          1.5742500000000004,
          1.7841500000000003,
          1.9940500000000003
         ],
         "y": [
          64.32630533334438,
          64.06186346528432,
          63.61807781757164,
          62.65919751411719,
          61.45589066923465,
          60.01392692623644,
          58.67000332271135,
          57.4290766308663,
          56.56366940306464,
          56.07790343803203
         ]
        },
        {
         "mode": "lines",
         "name": "2460 seconds",
         "type": "scatter",
         "x": [
          0.10495000000000002,
          0.3148500000000001,
          0.52475,
          0.7346500000000001,
          0.9445500000000001,
          1.1544500000000002,
          1.3643500000000004,
          1.5742500000000004,
          1.7841500000000003,
          1.9940500000000003
         ],
         "y": [
          64.18620150602304,
          63.972743565505475,
          63.53326359901048,
          62.70922498966837,
          61.50884500855765,
          60.23534884387197,
          58.893953391446956,
          57.78937889647634,
          56.925695158604746,
          56.491945334432145
         ]
        },
        {
         "mode": "lines",
         "name": "2520 seconds",
         "type": "scatter",
         "x": [
          0.10495000000000002,
          0.3148500000000001,
          0.52475,
          0.7346500000000001,
          0.9445500000000001,
          1.1544500000000002,
          1.3643500000000004,
          1.5742500000000004,
          1.7841500000000003,
          1.9940500000000003
         ],
         "y": [
          64.06945125359616,
          63.86241122068305,
          63.51376235680527,
          62.6932767566864,
          61.64460058282647,
          60.373760121580354,
          59.184833356462406,
          58.08232738207933,
          57.312601932794635,
          56.88020189304165
         ]
        },
        {
         "mode": "lines",
         "name": "2580 seconds",
         "type": "scatter",
         "x": [
          0.10495000000000002,
          0.3148500000000001,
          0.52475,
          0.7346500000000001,
          0.9445500000000001,
          1.1544500000000002,
          1.3643500000000004,
          1.5742500000000004,
          1.7841500000000003,
          1.9940500000000003
         ],
         "y": [
          63.955570117711005,
          63.7937614586728,
          63.4514991094554,
          62.75143334703835,
          61.705798619201495,
          60.58710238120344,
          59.40047300963175,
          58.421214560185234,
          57.65317703583913,
          57.26776465574844
         ]
        },
        {
         "mode": "lines",
         "name": "2640 seconds",
         "type": "scatter",
         "x": [
          0.10495000000000002,
          0.3148500000000001,
          0.52475,
          0.7346500000000001,
          0.9445500000000001,
          1.1544500000000002,
          1.3643500000000004,
          1.5742500000000004,
          1.7841500000000003,
          1.9940500000000003
         ],
         "y": [
          63.86121701719695,
          63.70869088631527,
          63.44634341660425,
          62.75090712477848,
          61.841574966633736,
          60.725484208403394,
          59.67660196544365,
          58.69928703922541,
          58.01600847014582,
          57.63218744097177
         ]
        },
        {
         "mode": "lines",
         "name": "2700 seconds",
         "type": "scatter",
         "x": [
          0.10495000000000002,
          0.3148500000000001,
          0.52475,
          0.7346500000000001,
          0.9445500000000001,
          1.1544500000000002,
          1.3643500000000004,
          1.5742500000000004,
          1.7841500000000003,
          1.9940500000000003
         ],
         "y": [
          63.770715334638645,
          63.657855300689555,
          63.405424757205104,
          62.81624162640544,
          61.91047541330912,
          60.93145767566796,
          59.884793063145196,
          59.018742865666404,
          58.337240510925206,
          57.995805157722515
         ]
        },
        {
         "mode": "lines",
         "name": "2760 seconds",
         "type": "scatter",
         "x": [
          0.10495000000000002,
          0.3148500000000001,
          0.52475,
          0.7346500000000001,
          0.9445500000000001,
          1.1544500000000002,
          1.3643500000000004,
          1.5742500000000004,
          1.7841500000000003,
          1.9940500000000003
         ],
         "y": [
          63.69589014212751,
          63.59596053360505,
          63.41295601397412,
          62.83029972830408,
          62.04615155269594,
          61.06997120320853,
          60.14751603692048,
          59.28342590142299,
          58.67822141362515,
          58.33874917569843
         ]
        },
        {
         "mode": "lines",
         "name": "2820 seconds",
         "type": "scatter",
         "x": [
          0.10495000000000002,
          0.3148500000000001,
          0.52475,
          0.7346500000000001,
          0.9445500000000001,
          1.1544500000000002,
          1.3643500000000004,
          1.5742500000000004,
          1.7841500000000003,
          1.9940500000000003
         ],
         "y": [
          63.62587890870718,
          63.56040097010237,
          63.392600798165766,
          62.901921260058614,
          62.12242256267051,
          61.26918643056351,
          60.34908379347752,
          59.585220481980315,
          58.98203888688665,
          58.68071860484397
         ]
        },
        {
         "mode": "lines",
         "name": "2880 seconds",
         "type": "scatter",
         "x": [
          0.10495000000000002,
          0.3148500000000001,
          0.52475,
          0.7346500000000001,
          0.9445500000000001,
          1.1544500000000002,
          1.3643500000000004,
          1.5742500000000004,
          1.7841500000000003,
          1.9940500000000003
         ],
         "y": [
          63.56785692203359,
          63.51934131335242,
          63.411548810201865,
          62.930079508746566,
          62.25785565638442,
          61.408081443972904,
          60.59958571305995,
          59.83789543226254,
          59.303171138506066,
          59.00432862526974
         ]
        },
        {
         "mode": "lines",
         "name": "2940 seconds",
         "type": "scatter",
         "x": [
          0.10495000000000002,
          0.3148500000000001,
          0.52475,
          0.7346500000000001,
          0.9445500000000001,
          1.1544500000000002,
          1.3643500000000004,
          1.5742500000000004,
          1.7841500000000003,
          1.9940500000000003
         ],
         "y": [
          63.51525914474996,
          63.49679488128588,
          63.41113583299217,
          63.00728436897603,
          62.34139594554922,
          61.601055391530295,
          60.79534965751079,
          60.12359945294738,
          59.59134770339317,
          59.326735141734595
         ]
        },
        {
         "mode": "lines",
         "name": "3000 seconds",
         "type": "scatter",
         "x": [
          0.10495000000000002,
          0.3148500000000001,
          0.52475,
          0.7346500000000001,
          0.9445500000000001,
          1.1544500000000002,
          1.3643500000000004,
          1.5742500000000004,
          1.7841500000000003,
          1.9940500000000003
         ],
         "y": [
          63.47142800962398,
          63.473507363652935,
          63.44105654077086,
          63.049296769402545,
          62.476486488649066,
          61.74069910628205,
          61.03466344323697,
          60.36557184147389,
          59.894435545794686,
          59.63296631695069
         ]
        },
        {
         "mode": "lines",
         "name": "3060 seconds",
         "type": "scatter",
         "x": [
          0.10495000000000002,
          0.3148500000000001,
          0.52475,
          0.7346500000000001,
          0.9445500000000001,
          1.1544500000000002,
          1.3643500000000004,
          1.5742500000000004,
          1.7841500000000003,
          1.9940500000000003
         ],
         "y": [
          63.432950033154135,
          63.46198018450271,
          63.4598036798619,
          63.1318298334145,
          62.56738892542907,
          61.927889458433754,
          61.22546894210992,
          60.63657292074783,
          60.16861333765922,
          59.937709219595426
         ]
        },
        {
         "mode": "lines",
         "name": "3120 seconds",
         "type": "scatter",
         "x": [
          0.10495000000000002,
          0.3148500000000001,
          0.52475,
          0.7346500000000001,
          0.9445500000000001,
          1.1544500000000002,
          1.3643500000000004,
          1.5742500000000004,
          1.7841500000000003,
          1.9940500000000003
         ],
         "y": [
          63.40069565302099,
          63.45245947413119,
          63.50136617900411,
          63.18748912308178,
          62.7022274030807,
          62.06876817286856,
          61.45449829264711,
          60.869101250376815,
          60.455290727566506,
          60.22834644201628
         ]
        },
        {
         "mode": "lines",
         "name": "3180 seconds",
         "type": "scatter",
         "x": [
          0.10495000000000002,
          0.3148500000000001,
          0.52475,
          0.7346500000000001,
          0.9445500000000001,
          1.1544500000000002,
          1.3643500000000004,
          1.5742500000000004,
          1.7841500000000003,
          1.9940500000000003
         ],
         "y": [
          63.3730000525393,
          63.449686275448876,
          63.53840088402044,
          63.27576201031222,
          62.80068410025967,
          62.25065562374299,
          61.64123459477727,
          61.1266317946526,
          60.71700026409407,
          60.517164646451754
         ]
        },
        {
         "mode": "lines",
         "name": "3240 seconds",
         "type": "scatter",
         "x": [
          0.10495000000000002,
          0.3148500000000001,
          0.52475,
          0.7346500000000001,
          0.9445500000000001,
          1.1544500000000002,
          1.3643500000000004,
          1.5742500000000004,
          1.7841500000000003,
          1.9940500000000003
         ],
         "y": [
          63.3496094711818,
          63.44928464611594,
          63.59301803100437,
          63.34482578550351,
          62.93570151426167,
          62.39333980793985,
          61.86080818050758,
          61.35094567169189,
          60.98876541667441,
          60.79384050394272
         ]
        },
        {
         "mode": "lines",
         "name": "3300 seconds",
         "type": "scatter",
         "x": [
          0.10495000000000002,
          0.3148500000000001,
          0.52475,
          0.7346500000000001,
          0.9445500000000001,
          1.1544500000000002,
          1.3643500000000004,
          1.5742500000000004,
          1.7841500000000003,
          1.9940500000000003
         ],
         "y": [
          63.329592903629454,
          63.452108826697255,
          63.64773971413197,
          63.439773680700945,
          63.04194140804702,
          62.57053000928357,
          62.04440091626462,
          61.59613511083007,
          61.23943673265414,
          61.06834003339567
         ]
        },
        {
         "mode": "lines",
         "name": "3360 seconds",
         "type": "scatter",
         "x": [
          0.10495000000000002,
          0.3148500000000001,
          0.52475,
          0.7346500000000001,
          0.9445500000000001,
          1.1544500000000002,
          1.3643500000000004,
          1.5742500000000004,
          1.7841500000000003,
          1.9940500000000003
         ],
         "y": [
          63.31241336692619,
          63.45615282910283,
          63.71665066148164,
          63.52202138293972,
          63.17789032495667,
          62.71563735713316,
          62.25535337684985,
          61.8134314237059,
          61.49769979766926,
          61.33255060711781
         ]
        },
        {
         "mode": "lines",
         "name": "3420 seconds",
         "type": "scatter",
         "x": [
          0.10495000000000002,
          0.3148500000000001,
          0.52475,
          0.7346500000000001,
          0.9445500000000001,
          1.1544500000000002,
          1.3643500000000004,
          1.5742500000000004,
          1.7841500000000003,
          1.9940500000000003
         ],
         "y": [
          63.29745848808851,
          63.461032944176175,
          63.788384185055904,
          63.624593759626315,
          63.29216027883837,
          62.888896732941504,
          62.43673903065452,
          62.047384241376314,
          61.738660684625756,
          61.594234317258454
         ]
        },
        {
         "mode": "lines",
         "name": "3480 seconds",
         "type": "scatter",
         "x": [
          0.10495000000000002,
          0.3148500000000001,
          0.52475,
          0.7346500000000001,
          0.9445500000000001,
          1.1544500000000002,
          1.3643500000000004,
          1.5742500000000004,
          1.7841500000000003,
          1.9940500000000003
         ],
         "y": [
          63.284265877015535,
          63.46587134718596,
          63.87161350520009,
          63.719603285161895,
          63.42988394046212,
          63.037055752204466,
          62.63997953116867,
          62.258801883246946,
          61.98480174366028,
          61.8473530870625
         ]
        },
        {
         "mode": "lines",
         "name": "3540 seconds",
         "type": "scatter",
         "x": [
          0.10495000000000002,
          0.3148500000000001,
          0.52475,
          0.7346500000000001,
          0.9445500000000001,
          1.1544500000000002,
          1.3643500000000004,
          1.5742500000000004,
          1.7841500000000003,
          1.9940500000000003
         ],
         "y": [
          63.27244123361712,
          63.470359517368934,
          63.95870811201589,
          63.83017234333219,
          63.55227836301468,
          63.207243516685075,
          62.8200596664042,
          62.48267756423596,
          62.21726812025518,
          62.09764879498484
         ]
        },
        {
         "mode": "lines",
         "name": "3600 seconds",
         "type": "scatter",
         "x": [
          0.10495000000000002,
          0.3148500000000001,
          0.52475,
          0.7346500000000001,
          0.9445500000000001,
          1.1544500000000002,
          1.3643500000000004,
          1.5742500000000004,
          1.7841500000000003,
          1.9940500000000003
         ],
         "y": [
          63.26168484387258,
          63.47427671252545,
          64.05472552349165,
          63.93690269584412,
          63.69239886122603,
          63.3589586833125,
          63.01659688915419,
          62.68925520630844,
          62.45268607735516,
          62.34094106007953
         ]
        },
        {
         "mode": "lines",
         "name": "3660 seconds",
         "type": "scatter",
         "x": [
          0.10495000000000002,
          0.3148500000000001,
          0.52475,
          0.7346500000000001,
          0.9445500000000001,
          1.1544500000000002,
          1.3643500000000004,
          1.5742500000000004,
          1.7841500000000003,
          1.9940500000000003
         ],
         "y": [
          63.25176753296517,
          63.47760038769588,
          64.15464300260582,
          64.05503665703651,
          63.822569204198984,
          63.52690393911252,
          63.19612801899342,
          62.904316759903,
          62.677753140856886,
          62.58121947792936
         ]
        },
        {
         "mode": "lines",
         "name": "3720 seconds",
         "type": "scatter",
         "x": [
          0.10495000000000002,
          0.3148500000000001,
          0.52475,
          0.7346500000000001,
          0.9445500000000001,
          1.1544500000000002,
          1.3643500000000004,
          1.5742500000000004,
          1.7841500000000003,
          1.9940500000000003
         ],
         "y": [
          63.24251899875545,
          63.48036821663647,
          64.26125848508465,
          64.17186514310337,
          63.96533344787043,
          63.682333391588074,
          63.38705069604621,
          63.10692586096434,
          62.9038806812435,
          62.81585709150843
         ]
        },
        {
         "mode": "lines",
         "name": "3780 seconds",
         "type": "scatter",
         "x": [
          0.10495000000000002,
          0.3148500000000001,
          0.52475,
          0.7346500000000001,
          0.9445500000000001,
          1.1544500000000002,
          1.3643500000000004,
          1.5742500000000004,
          1.7841500000000003,
          1.9940500000000003
         ],
         "y": [
          63.2338121395639,
          63.48265259686722,
          64.37149148440052,
          64.2966813376462,
          64.10242404763376,
          63.848761727129904,
          63.566488106116836,
          63.314531699631445,
          63.122513638601774,
          63.047431622288556
         ]
        },
        {
         "mode": "lines",
         "name": "3840 seconds",
         "type": "scatter",
         "x": [
          0.10495000000000002,
          0.3148500000000001,
          0.52475,
          0.7346500000000001,
          0.9445500000000001,
          1.1544500000000002,
          1.3643500000000004,
          1.5742500000000004,
          1.7841500000000003,
          1.9940500000000003
         ],
         "y": [
          63.22555151461121,
          63.48452613998766,
          64.48675164303364,
          64.42183726207824,
          64.24783301643522,
          64.00761409002261,
          63.75292218942132,
          63.51380692790849,
          63.34078308650471,
          63.274501500885485
         ]
        },
        {
         "mode": "lines",
         "name": "3900 seconds",
         "type": "scatter",
         "x": [
          0.10495000000000002,
          0.3148500000000001,
          0.52475,
          0.7346500000000001,
          0.9445500000000001,
          1.1544500000000002,
          1.3643500000000004,
          1.5742500000000004,
          1.7841500000000003,
          1.9940500000000003
         ],
         "y": [
          63.21766434047027,
          63.48605397029221,
          64.60528680841033,
          64.55242499184214,
          64.39069348370842,
          64.1731742926855,
          63.932351640556064,
          63.71534094649278,
          63.55381169479912,
          63.4986068975039
         ]
        },
        {
         "mode": "lines",
         "name": "3960 seconds",
         "type": "scatter",
         "x": [
          0.10495000000000002,
          0.3148500000000001,
          0.52475,
          0.7346500000000001,
          0.9445500000000001,
          1.1544500000000002,
          1.3643500000000004,
          1.5742500000000004,
          1.7841500000000003,
          1.9940500000000003
         ],
         "y": [
          63.21009417791357,
          63.48729008551557,
          64.72767057766617,
          64.68430365348127,
          64.53868317290662,
          64.33482066109546,
          64.11540472489173,
          63.91167838784701,
          63.76557897616359,
          63.71910916074257
         ]
        },
        {
         "mode": "lines",
         "name": "4020 seconds",
         "type": "scatter",
         "x": [
          0.10495000000000002,
          0.3148500000000001,
          0.52475,
          0.7346500000000001,
          0.9445500000000001,
          1.1544500000000002,
          1.3643500000000004,
          1.5742500000000004,
          1.7841500000000003,
          1.9940500000000003
         ],
         "y": [
          63.20279648465713,
          63.48827879219829,
          64.85296112085025,
          64.81987374165978,
          64.68612574002425,
          64.50010284272997,
          64.29464137149316,
          64.10843973480355,
          63.97371415498741,
          63.936867036377414
         ]
        },
        {
         "mode": "lines",
         "name": "4080 seconds",
         "type": "scatter",
         "x": [
          0.10495000000000002,
          0.3148500000000001,
          0.52475,
          0.7346500000000001,
          0.9445500000000001,
          1.1544500000000002,
          1.3643500000000004,
          1.5742500000000004,
          1.7841500000000003,
          1.9940500000000003
         ],
         "y": [
          63.19573553522294,
          63.48905609486374,
          64.98127937651971,
          64.95714277630627,
          64.83661277789165,
          64.6638029480357,
          64.47530992354842,
          64.30208837307967,
          64.18017558491348,
          64.15170808769659
         ]
        },
        {
         "mode": "lines",
         "name": "4140 seconds",
         "type": "scatter",
         "x": [
          0.10495000000000002,
          0.3148500000000001,
          0.52475,
          0.7346500000000001,
          0.9445500000000001,
          1.1544500000000002,
          1.3643500000000004,
          1.5742500000000004,
          1.7841500000000003,
          1.9940500000000003
         ],
         "y": [
          63.18888224633926,
          63.48965160848829,
          65.11212494581477,
          65.09701310689334,
          64.9875975698673,
          64.82927839708992,
          64.65409304286864,
          64.49517893117566,
          64.3840468060483,
          64.36409839229191
         ]
        },
        {
         "mode": "lines",
         "name": "4200 seconds",
         "type": "scatter",
         "x": [
          0.10495000000000002,
          0.3148500000000001,
          0.52475,
          0.7346500000000001,
          0.9445500000000001,
          1.1544500000000002,
          1.3643500000000004,
          1.5742500000000004,
          1.7841500000000003,
          1.9940500000000003
         ],
         "y": [
          63.18221263023435,
          63.490089820828416,
          65.24541846782373,
          65.23862217173757,
          65.14044029225987,
          64.99438897084909,
          64.83315642598266,
          64.68635954416827,
          64.58618773494219,
          64.5740857461618
         ]
        },
        {
         "mode": "lines",
         "name": "4260 seconds",
         "type": "scatter",
         "x": [
          0.10495000000000002,
          0.3148500000000001,
          0.52475,
          0.7346500000000001,
          0.9445500000000001,
          1.1544500000000002,
          1.3643500000000004,
          1.5742500000000004,
          1.7841500000000003,
          1.9940500000000003
         ],
         "y": [
          63.17570666813793,
          63.49039125267729,
          65.38087499481115,
          65.38218159034555,
          65.29416455488608,
          65.1603413032962,
          65.01130966379871,
          64.8766205463837,
          64.78637296180403,
          64.78193829426083
         ]
        },
        {
         "mode": "lines",
         "name": "4320 seconds",
         "type": "scatter",
         "x": [
          0.10495000000000002,
          0.3148500000000001,
          0.52475,
          0.7346500000000001,
          0.9445500000000001,
          1.1544500000000002,
          1.3643500000000004,
          1.5742500000000004,
          1.7841500000000003,
          1.9940500000000003
         ],
         "y": [
          63.169347479364234,
          63.490573232986456,
          65.54328225140898,
          65.35283620284251,
          65.47406933149787,
          65.35134454384679,
          65.21421374239605,
          65.09051866581896,
          65.00989371514811,
          65.012706027308
         ]
        },
        {
         "mode": "lines",
         "name": "4380 seconds",
         "type": "scatter",
         "x": [
          0.10495000000000002,
          0.3148500000000001,
          0.52475,
          0.7346500000000001,
          0.9445500000000001,
          1.1544500000000002,
          1.3643500000000004,
          1.5742500000000004,
          1.7841500000000003,
          1.9940500000000003
         ],
         "y": [
          63.16312069591235,
          63.49065550543789,
          65.61285419923702,
          65.61422777317334,
          65.58501233102956,
          65.51787111077876,
          65.39169303981315,
          65.27854423688017,
          65.20692266951205,
          65.21670954292662
         ]
        },
        {
         "mode": "lines",
         "name": "4440 seconds",
         "type": "scatter",
         "x": [
          0.10495000000000002,
          0.3148500000000001,
          0.52475,
          0.7346500000000001,
          0.9445500000000001,
          1.1544500000000002,
          1.3643500000000004,
          1.5742500000000004,
          1.7841500000000003,
          1.9940500000000003
         ],
         "y": [
          63.15701407700759,
          63.49063186636514,
          65.77522359490756,
          65.60373102300468,
          65.77039607493289,
          65.69362288295935,
          65.59381220698869,
          65.49052095446396,
          65.42749186885555,
          65.44393593038255
         ]
        },
        {
         "mode": "lines",
         "name": "4500 seconds",
         "type": "scatter",
         "x": [
          0.10495000000000002,
          0.3148500000000001,
          0.52475,
          0.7346500000000001,
          0.9445500000000001,
          1.1544500000000002,
          1.3643500000000004,
          1.5742500000000004,
          1.7841500000000003,
          1.9940500000000003
         ],
         "y": [
          63.151016703104325,
          63.49053170253924,
          65.85288713684292,
          65.86134792251828,
          65.89372387832184,
          65.85764770668885,
          65.76471349790125,
          65.67672615767664,
          65.62183557911217,
          65.64466223685623
         ]
        },
        {
         "mode": "lines",
         "name": "4560 seconds",
         "type": "scatter",
         "x": [
          0.10495000000000002,
          0.3148500000000001,
          0.52475,
          0.7346500000000001,
          0.9445500000000001,
          1.1544500000000002,
          1.3643500000000004,
          1.5742500000000004,
          1.7841500000000003,
          1.9940500000000003
         ],
         "y": [
          63.14511937985065,
          63.49034737661823,
          66.09669739386155,
          65.86440191079508,
          65.87411728467941,
          65.83669485917048,
          66.043343661056,
          65.96470870628607,
          65.91968888821329,
          65.9486286742207
         ]
        },
        {
         "mode": "lines",
         "name": "4620 seconds",
         "type": "scatter",
         "x": [
          0.10495000000000002,
          0.3148500000000001,
          0.52475,
          0.7346500000000001,
          0.9445500000000001,
          1.1544500000000002,
          1.3643500000000004,
          1.5742500000000004,
          1.7841500000000003,
          1.9940500000000003
         ],
         "y": [
          63.13931377799083,
          63.49012026533756,
          66.1474727065365,
          66.12515373437516,
          66.03368154201023,
          66.04783571910929,
          66.16332653199646,
          66.14779802939316,
          66.11109571780219,
          66.14654576145837
         ]
        },
        {
         "mode": "lines",
         "name": "4680 seconds",
         "type": "scatter",
         "x": [
          0.10495000000000002,
          0.3148500000000001,
          0.52475,
          0.7346500000000001,
          0.9445500000000001,
          1.1544500000000002,
          1.3643500000000004,
          1.5742500000000004,
          1.7841500000000003,
          1.9940500000000003
         ],
         "y": [
          63.13359305220521,
          63.48981883670331,
          66.33671543135272,
          66.33342977138038,
          66.29536820373923,
          66.29573160630564,
          66.13597257926948,
          66.13948127943671,
          66.35952865568795,
          66.40124368646347
         ]
        },
        {
         "mode": "lines",
         "name": "4740 seconds",
         "type": "scatter",
         "x": [
          0.10495000000000002,
          0.3148500000000001,
          0.52475,
          0.7346500000000001,
          0.9445500000000001,
          1.1544500000000002,
          1.3643500000000004,
          1.5742500000000004,
          1.7841500000000003,
          1.9940500000000003
         ],
         "y": [
          63.12795057565455,
          63.489477260348906,
          66.53097964522287,
          66.55415216572746,
          66.53619995390261,
          66.47148947313111,
          66.42163570608406,
          66.39838401240952,
          66.33709649062409,
          66.42199885780528
         ]
        },
        {
         "mode": "lines",
         "name": "4800 seconds",
         "type": "scatter",
         "x": [
          0.10495000000000002,
          0.3148500000000001,
          0.52475,
          0.7346500000000001,
          0.9445500000000001,
          1.1544500000000002,
          1.3643500000000004,
          1.5742500000000004,
          1.7841500000000003,
          1.9940500000000003
         ],
         "y": [
          63.12238082819787,
          63.489102058751826,
          66.73148979971823,
          66.5416493131983,
          66.51978298083418,
          66.70655331543284,
          66.65980526564122,
          66.61720707259572,
          66.60192509367602,
          66.66789917616485
         ]
        },
        {
         "mode": "lines",
         "name": "4860 seconds",
         "type": "scatter",
         "x": [
          0.10495000000000002,
          0.3148500000000001,
          0.52475,
          0.7346500000000001,
          0.9445500000000001,
          1.1544500000000002,
          1.3643500000000004,
          1.5742500000000004,
          1.7841500000000003,
          1.9940500000000003
         ],
         "y": [
          63.11687887361915,
          63.48869941277639,
          66.80104555792978,
          66.77530554467654,
          66.72521007847484,
          66.83813038247489,
          66.83321225825003,
          66.79716369817199,
          66.7918715330479,
          66.85865034968798
         ]
        },
        {
         "mode": "lines",
         "name": "4920 seconds",
         "type": "scatter",
         "x": [
          0.10495000000000002,
          0.3148500000000001,
          0.52475,
          0.7346500000000001,
          0.9445500000000001,
          1.1544500000000002,
          1.3643500000000004,
          1.5742500000000004,
          1.7841500000000003,
          1.9940500000000003
         ],
         "y": [
          63.111440282229196,
          63.488247716280405,
          67.03570722721535,
          67.04490408217835,
          67.03680342494442,
          66.81385351292165,
          66.82227341045486,
          67.08248007147255,
          67.08401530448708,
          66.87475934997576
         ]
        },
        {
         "mode": "lines",
         "name": "4980 seconds",
         "type": "scatter",
         "x": [
          0.10495000000000002,
          0.3148500000000001,
          0.52475,
          0.7346500000000001,
          0.9445500000000001,
          1.1544500000000002,
          1.3643500000000004,
          1.5742500000000004,
          1.7841500000000003,
          1.9940500000000003
         ],
         "y": [
          63.106060749887995,
          63.48778410827379,
          67.34921160536902,
          67.03822307289175,
          66.95453555808115,
          67.24451371155558,
          67.1979716938224,
          67.04936231187936,
          67.00543728468672,
          67.3296508616515
         ]
        },
        {
         "mode": "lines",
         "name": "5040 seconds",
         "type": "scatter",
         "x": [
          0.10495000000000002,
          0.3148500000000001,
          0.52475,
          0.7346500000000001,
          0.9445500000000001,
          1.1544500000000002,
          1.3643500000000004,
          1.5742500000000004,
          1.7841500000000003,
          1.9940500000000003
         ],
         "y": [
          63.10073675086399,
          63.48732778932059,
          67.36282143931903,
          67.30823710561877,
          67.18389560079467,
          67.371610338673,
          67.33320433507892,
          67.25917771336265,
          67.22255679260965,
          67.50138453944135
         ]
        },
        {
         "mode": "lines",
         "name": "5100 seconds",
         "type": "scatter",
         "x": [
          0.10495000000000002,
          0.3148500000000001,
          0.52475,
          0.7346500000000001,
          0.9445500000000001,
          1.1544500000000002,
          1.3643500000000004,
          1.5742500000000004,
          1.7841500000000003,
          1.9940500000000003
         ],
         "y": [
          63.09546523265776,
          63.48682217862302,
          67.54217622060504,
          67.51380655644998,
          67.48196450400594,
          67.33113281735976,
          67.55213907258714,
          67.50133543169713,
          67.49456443927646,
          67.4996919577245
         ]
        },
        {
         "mode": "lines",
         "name": "5160 seconds",
         "type": "scatter",
         "x": [
          0.10495000000000002,
          0.3148500000000001,
          0.52475,
          0.7346500000000001,
          0.9445500000000001,
          1.1544500000000002,
          1.3643500000000004,
          1.5742500000000004,
          1.7841500000000003,
          1.9940500000000003
         ],
         "y": [
          63.090242794662814,
          63.48630363954102,
          67.69614920919415,
          67.70984517894351,
          67.63681711232095,
          67.60845719294802,
          67.50595141054752,
          67.71095733247242,
          67.69459145324903,
          67.72787958541971
         ]
        },
        {
         "mode": "lines",
         "name": "5220 seconds",
         "type": "scatter",
         "x": [
          0.10495000000000002,
          0.3148500000000001,
          0.52475,
          0.7346500000000001,
          0.9445500000000001,
          1.1544500000000002,
          1.3643500000000004,
          1.5742500000000004,
          1.7841500000000003,
          1.9940500000000003
         ],
         "y": [
          63.08506666131634,
          63.485769900583655,
          67.9407625293459,
          67.68261320929895,
          67.92755398319183,
          67.86091003267906,
          67.84334517677951,
          67.67566255541493,
          67.983290859738,
          67.7502591271204
         ]
        },
        {
         "mode": "lines",
         "name": "5280 seconds",
         "type": "scatter",
         "x": [
          0.10495000000000002,
          0.3148500000000001,
          0.52475,
          0.7346500000000001,
          0.9445500000000001,
          1.1544500000000002,
          1.3643500000000004,
          1.5742500000000004,
          1.7841500000000003,
          1.9940500000000003
         ],
         "y": [
          63.079934237984695,
          63.48524157859735,
          68.00412557451828,
          68.00832469896979,
          68.07461068615726,
          68.07274745284018,
          67.98717025070607,
          67.96294472945229,
          67.86188221024963,
          68.06624141163705
         ]
        },
        {
         "mode": "lines",
         "name": "5340 seconds",
         "type": "scatter",
         "x": [
          0.10495000000000002,
          0.3148500000000001,
          0.52475,
          0.7346500000000001,
          0.9445500000000001,
          1.1544500000000002,
          1.3643500000000004,
          1.5742500000000004,
          1.7841500000000003,
          1.9940500000000003
         ],
         "y": [
          63.074843296393965,
          63.48468485972783,
          68.31619299310563,
          68.01877241847157,
          68.05785248046917,
          68.04495812481572,
          68.35318270013335,
          68.28454223778438,
          68.26849227569676,
          68.06762986521684
         ]
        },
        {
         "mode": "lines",
         "name": "5400 seconds",
         "type": "scatter",
         "x": [
          0.10495000000000002,
          0.3148500000000001,
          0.52475,
          0.7346500000000001,
          0.9445500000000001,
          1.1544500000000002,
          1.3643500000000004,
          1.5742500000000004,
          1.7841500000000003,
          1.9940500000000003
         ],
         "y": [
          63.069791470561505,
          63.484151563293906,
          68.360979564441,
          68.34122378209725,
          68.24271053883407,
          68.27778276174061,
          68.2982308407098,
          68.4974372104628,
          68.39756947014453,
          68.36915285896568
         ]
        },
        {
         "mode": "lines",
         "name": "5460 seconds",
         "type": "scatter",
         "x": [
          0.10495000000000002,
          0.3148500000000001,
          0.52475,
          0.7346500000000001,
          0.9445500000000001,
          1.1544500000000002,
          1.3643500000000004,
          1.5742500000000004,
          1.7841500000000003,
          1.9940500000000003
         ],
         "y": [
          63.06477698077449,
          63.48359031761675,
          68.5969401163878,
          68.59270193621292,
          68.5579819113469,
          68.55140482392129,
          68.59845498402116,
          68.43573901578596,
          68.41851969368614,
          68.40673921191589
         ]
        },
        {
         "mode": "lines",
         "name": "5520 seconds",
         "type": "scatter",
         "x": [
          0.10495000000000002,
          0.3148500000000001,
          0.52475,
          0.7346500000000001,
          0.9445500000000001,
          1.1544500000000002,
          1.3643500000000004,
          1.5742500000000004,
          1.7841500000000003,
          1.9940500000000003
         ],
         "y": [
          63.0597977539432,
          63.48304121061225,
          68.75719218299473,
          68.78133484302825,
          68.76274501724059,
          68.76047770858793,
          68.52993010292016,
          68.68395171593498,
          68.6169830923961,
          68.63916344612389
         ]
        },
        {
         "mode": "lines",
         "name": "5580 seconds",
         "type": "scatter",
         "x": [
          0.10495000000000002,
          0.3148500000000001,
          0.52475,
          0.7346500000000001,
          0.9445500000000001,
          1.1544500000000002,
          1.3643500000000004,
          1.5742500000000004,
          1.7841500000000003,
          1.9940500000000003
         ],
         "y": [
          63.05485215731589,
          63.482490816663564,
          69.00392279322556,
          68.76836278590619,
          68.76461386098389,
          68.67320611676769,
          68.91709076539516,
          68.91622817990968,
          68.91849801025478,
          68.94306215600692
         ]
        },
        {
         "mode": "lines",
         "name": "5640 seconds",
         "type": "scatter",
         "x": [
          0.10495000000000002,
          0.3148500000000001,
          0.52475,
          0.7346500000000001,
          0.9445500000000001,
          1.1544500000000002,
          1.3643500000000004,
          1.5742500000000004,
          1.7841500000000003,
          1.9940500000000003
         ],
         "y": [
          63.04993855811214,
          63.48195796090301,
          69.05252340196655,
          69.02717985059049,
          68.90970490315095,
          68.9037163531429,
          69.0584104181765,
          69.08906786385771,
          69.09576169255908,
          69.14171725080419
         ]
        },
        {
         "mode": "lines",
         "name": "5700 seconds",
         "type": "scatter",
         "x": [
          0.10495000000000002,
          0.3148500000000001,
          0.52475,
          0.7346500000000001,
          0.9445500000000001,
          1.1544500000000002,
          1.3643500000000004,
          1.5742500000000004,
          1.7841500000000003,
          1.9940500000000003
         ],
         "y": [
          63.0450555507726,
          63.48140464856224,
          69.35656270794418,
          69.34290492210269,
          69.29229758993198,
          69.27682552543897,
          69.03802001320662,
          69.081189972417,
          69.10186483413824,
          69.16144674345504
         ]
        },
        {
         "mode": "lines",
         "name": "5760 seconds",
         "type": "scatter",
         "x": [
          0.10495000000000002,
          0.3148500000000001,
          0.52475,
          0.7346500000000001,
          0.9445500000000001,
          1.1544500000000002,
          1.3643500000000004,
          1.5742500000000004,
          1.7841500000000003,
          1.9940500000000003
         ],
         "y": [
          63.040201559282046,
          63.48088324687107,
          69.48924624406361,
          69.50423598748134,
          69.47456785803955,
          69.36370705177453,
          69.30890415918606,
          69.24850360222857,
          69.28173128626088,
          69.35313553377325
         ]
        },
        {
         "mode": "lines",
         "name": "5820 seconds",
         "type": "scatter",
         "x": [
          0.10495000000000002,
          0.3148500000000001,
          0.52475,
          0.7346500000000001,
          0.9445500000000001,
          1.1544500000000002,
          1.3643500000000004,
          1.5742500000000004,
          1.7841500000000003,
          1.9940500000000003
         ],
         "y": [
          63.03537543570272,
          63.48036082375732,
          69.65396964001036,
          69.49020036666447,
          69.644450006055,
          69.58016591490215,
          69.50408322897123,
          69.47046271148272,
          69.48582161338854,
          69.5677146930574
         ]
        },
        {
         "mode": "lines",
         "name": "5880 seconds",
         "type": "scatter",
         "x": [
          0.10495000000000002,
          0.3148500000000001,
          0.52475,
          0.7346500000000001,
          0.9445500000000001,
          1.1544500000000002,
          1.3643500000000004,
          1.5742500000000004,
          1.7841500000000003,
          1.9940500000000003
         ],
         "y": [
          63.03057588834299,
          63.47984503963212,
          69.73397346246203,
          69.74337973693893,
          69.77286062913086,
          69.74825415965879,
          69.68957521802768,
          69.65531173438268,
          69.67057427411353,
          69.75568529833357
         ]
        },
        {
         "mode": "lines",
         "name": "5940 seconds",
         "type": "scatter",
         "x": [
          0.10495000000000002,
          0.3148500000000001,
          0.52475,
          0.7346500000000001,
          0.9445500000000001,
          1.1544500000000002,
          1.3643500000000004,
          1.5742500000000004,
          1.7841500000000003,
          1.9940500000000003
         ],
         "y": [
          63.025801744035554,
          63.47932021953709,
          70.04689153124455,
          69.74545326286795,
          69.7570275834356,
          69.7355215829768,
          70.04359796694324,
          70.01481144607177,
          70.03032177116543,
          69.7686633532694
         ]
        },
        {
         "mode": "lines",
         "name": "6000 seconds",
         "type": "scatter",
         "x": [
          0.10495000000000002,
          0.3148500000000001,
          0.52475,
          0.7346500000000001,
          0.9445500000000001,
          1.1544500000000002,
          1.3643500000000004,
          1.5742500000000004,
          1.7841500000000003,
          1.9940500000000003
         ],
         "y": [
          63.02105180714737,
          63.478833869491126,
          70.0644287468743,
          70.03881122884246,
          69.9205742356993,
          69.94569336424283,
          70.17542362728739,
          70.19827916322193,
          70.09886029558982,
          70.0727791451878
         ]
        }
       ],
       "layout": {
        "legend": {
         "title": {
          "text": "Time Passed"
         }
        },
        "shapes": [
         {
          "line": {
           "color": "grey",
           "dash": "dot",
           "width": 1
          },
          "type": "line",
          "x0": 0.20990000000000003,
          "x1": 0.20990000000000003,
          "xref": "x",
          "y0": 0,
          "y1": 1,
          "yref": "paper"
         },
         {
          "line": {
           "color": "grey",
           "dash": "dot",
           "width": 1
          },
          "type": "line",
          "x0": 0.41980000000000006,
          "x1": 0.41980000000000006,
          "xref": "x",
          "y0": 0,
          "y1": 1,
          "yref": "paper"
         },
         {
          "line": {
           "color": "grey",
           "dash": "dot",
           "width": 1
          },
          "type": "line",
          "x0": 0.6297000000000001,
          "x1": 0.6297000000000001,
          "xref": "x",
          "y0": 0,
          "y1": 1,
          "yref": "paper"
         },
         {
          "line": {
           "color": "grey",
           "dash": "dot",
           "width": 1
          },
          "type": "line",
          "x0": 0.8396000000000001,
          "x1": 0.8396000000000001,
          "xref": "x",
          "y0": 0,
          "y1": 1,
          "yref": "paper"
         },
         {
          "line": {
           "color": "grey",
           "dash": "dot",
           "width": 1
          },
          "type": "line",
          "x0": 1.0495,
          "x1": 1.0495,
          "xref": "x",
          "y0": 0,
          "y1": 1,
          "yref": "paper"
         },
         {
          "line": {
           "color": "grey",
           "dash": "dot",
           "width": 1
          },
          "type": "line",
          "x0": 1.2594,
          "x1": 1.2594,
          "xref": "x",
          "y0": 0,
          "y1": 1,
          "yref": "paper"
         },
         {
          "line": {
           "color": "grey",
           "dash": "dot",
           "width": 1
          },
          "type": "line",
          "x0": 1.4693000000000003,
          "x1": 1.4693000000000003,
          "xref": "x",
          "y0": 0,
          "y1": 1,
          "yref": "paper"
         },
         {
          "line": {
           "color": "grey",
           "dash": "dot",
           "width": 1
          },
          "type": "line",
          "x0": 1.6792000000000002,
          "x1": 1.6792000000000002,
          "xref": "x",
          "y0": 0,
          "y1": 1,
          "yref": "paper"
         },
         {
          "line": {
           "color": "grey",
           "dash": "dot",
           "width": 1
          },
          "type": "line",
          "x0": 1.8891000000000002,
          "x1": 1.8891000000000002,
          "xref": "x",
          "y0": 0,
          "y1": 1,
          "yref": "paper"
         }
        ],
        "template": {
         "data": {
          "bar": [
           {
            "error_x": {
             "color": "#2a3f5f"
            },
            "error_y": {
             "color": "#2a3f5f"
            },
            "marker": {
             "line": {
              "color": "#E5ECF6",
              "width": 0.5
             },
             "pattern": {
              "fillmode": "overlay",
              "size": 10,
              "solidity": 0.2
             }
            },
            "type": "bar"
           }
          ],
          "barpolar": [
           {
            "marker": {
             "line": {
              "color": "#E5ECF6",
              "width": 0.5
             },
             "pattern": {
              "fillmode": "overlay",
              "size": 10,
              "solidity": 0.2
             }
            },
            "type": "barpolar"
           }
          ],
          "carpet": [
           {
            "aaxis": {
             "endlinecolor": "#2a3f5f",
             "gridcolor": "white",
             "linecolor": "white",
             "minorgridcolor": "white",
             "startlinecolor": "#2a3f5f"
            },
            "baxis": {
             "endlinecolor": "#2a3f5f",
             "gridcolor": "white",
             "linecolor": "white",
             "minorgridcolor": "white",
             "startlinecolor": "#2a3f5f"
            },
            "type": "carpet"
           }
          ],
          "choropleth": [
           {
            "colorbar": {
             "outlinewidth": 0,
             "ticks": ""
            },
            "type": "choropleth"
           }
          ],
          "contour": [
           {
            "colorbar": {
             "outlinewidth": 0,
             "ticks": ""
            },
            "colorscale": [
             [
              0,
              "#0d0887"
             ],
             [
              0.1111111111111111,
              "#46039f"
             ],
             [
              0.2222222222222222,
              "#7201a8"
             ],
             [
              0.3333333333333333,
              "#9c179e"
             ],
             [
              0.4444444444444444,
              "#bd3786"
             ],
             [
              0.5555555555555556,
              "#d8576b"
             ],
             [
              0.6666666666666666,
              "#ed7953"
             ],
             [
              0.7777777777777778,
              "#fb9f3a"
             ],
             [
              0.8888888888888888,
              "#fdca26"
             ],
             [
              1,
              "#f0f921"
             ]
            ],
            "type": "contour"
           }
          ],
          "contourcarpet": [
           {
            "colorbar": {
             "outlinewidth": 0,
             "ticks": ""
            },
            "type": "contourcarpet"
           }
          ],
          "heatmap": [
           {
            "colorbar": {
             "outlinewidth": 0,
             "ticks": ""
            },
            "colorscale": [
             [
              0,
              "#0d0887"
             ],
             [
              0.1111111111111111,
              "#46039f"
             ],
             [
              0.2222222222222222,
              "#7201a8"
             ],
             [
              0.3333333333333333,
              "#9c179e"
             ],
             [
              0.4444444444444444,
              "#bd3786"
             ],
             [
              0.5555555555555556,
              "#d8576b"
             ],
             [
              0.6666666666666666,
              "#ed7953"
             ],
             [
              0.7777777777777778,
              "#fb9f3a"
             ],
             [
              0.8888888888888888,
              "#fdca26"
             ],
             [
              1,
              "#f0f921"
             ]
            ],
            "type": "heatmap"
           }
          ],
          "heatmapgl": [
           {
            "colorbar": {
             "outlinewidth": 0,
             "ticks": ""
            },
            "colorscale": [
             [
              0,
              "#0d0887"
             ],
             [
              0.1111111111111111,
              "#46039f"
             ],
             [
              0.2222222222222222,
              "#7201a8"
             ],
             [
              0.3333333333333333,
              "#9c179e"
             ],
             [
              0.4444444444444444,
              "#bd3786"
             ],
             [
              0.5555555555555556,
              "#d8576b"
             ],
             [
              0.6666666666666666,
              "#ed7953"
             ],
             [
              0.7777777777777778,
              "#fb9f3a"
             ],
             [
              0.8888888888888888,
              "#fdca26"
             ],
             [
              1,
              "#f0f921"
             ]
            ],
            "type": "heatmapgl"
           }
          ],
          "histogram": [
           {
            "marker": {
             "pattern": {
              "fillmode": "overlay",
              "size": 10,
              "solidity": 0.2
             }
            },
            "type": "histogram"
           }
          ],
          "histogram2d": [
           {
            "colorbar": {
             "outlinewidth": 0,
             "ticks": ""
            },
            "colorscale": [
             [
              0,
              "#0d0887"
             ],
             [
              0.1111111111111111,
              "#46039f"
             ],
             [
              0.2222222222222222,
              "#7201a8"
             ],
             [
              0.3333333333333333,
              "#9c179e"
             ],
             [
              0.4444444444444444,
              "#bd3786"
             ],
             [
              0.5555555555555556,
              "#d8576b"
             ],
             [
              0.6666666666666666,
              "#ed7953"
             ],
             [
              0.7777777777777778,
              "#fb9f3a"
             ],
             [
              0.8888888888888888,
              "#fdca26"
             ],
             [
              1,
              "#f0f921"
             ]
            ],
            "type": "histogram2d"
           }
          ],
          "histogram2dcontour": [
           {
            "colorbar": {
             "outlinewidth": 0,
             "ticks": ""
            },
            "colorscale": [
             [
              0,
              "#0d0887"
             ],
             [
              0.1111111111111111,
              "#46039f"
             ],
             [
              0.2222222222222222,
              "#7201a8"
             ],
             [
              0.3333333333333333,
              "#9c179e"
             ],
             [
              0.4444444444444444,
              "#bd3786"
             ],
             [
              0.5555555555555556,
              "#d8576b"
             ],
             [
              0.6666666666666666,
              "#ed7953"
             ],
             [
              0.7777777777777778,
              "#fb9f3a"
             ],
             [
              0.8888888888888888,
              "#fdca26"
             ],
             [
              1,
              "#f0f921"
             ]
            ],
            "type": "histogram2dcontour"
           }
          ],
          "mesh3d": [
           {
            "colorbar": {
             "outlinewidth": 0,
             "ticks": ""
            },
            "type": "mesh3d"
           }
          ],
          "parcoords": [
           {
            "line": {
             "colorbar": {
              "outlinewidth": 0,
              "ticks": ""
             }
            },
            "type": "parcoords"
           }
          ],
          "pie": [
           {
            "automargin": true,
            "type": "pie"
           }
          ],
          "scatter": [
           {
            "fillpattern": {
             "fillmode": "overlay",
             "size": 10,
             "solidity": 0.2
            },
            "type": "scatter"
           }
          ],
          "scatter3d": [
           {
            "line": {
             "colorbar": {
              "outlinewidth": 0,
              "ticks": ""
             }
            },
            "marker": {
             "colorbar": {
              "outlinewidth": 0,
              "ticks": ""
             }
            },
            "type": "scatter3d"
           }
          ],
          "scattercarpet": [
           {
            "marker": {
             "colorbar": {
              "outlinewidth": 0,
              "ticks": ""
             }
            },
            "type": "scattercarpet"
           }
          ],
          "scattergeo": [
           {
            "marker": {
             "colorbar": {
              "outlinewidth": 0,
              "ticks": ""
             }
            },
            "type": "scattergeo"
           }
          ],
          "scattergl": [
           {
            "marker": {
             "colorbar": {
              "outlinewidth": 0,
              "ticks": ""
             }
            },
            "type": "scattergl"
           }
          ],
          "scattermapbox": [
           {
            "marker": {
             "colorbar": {
              "outlinewidth": 0,
              "ticks": ""
             }
            },
            "type": "scattermapbox"
           }
          ],
          "scatterpolar": [
           {
            "marker": {
             "colorbar": {
              "outlinewidth": 0,
              "ticks": ""
             }
            },
            "type": "scatterpolar"
           }
          ],
          "scatterpolargl": [
           {
            "marker": {
             "colorbar": {
              "outlinewidth": 0,
              "ticks": ""
             }
            },
            "type": "scatterpolargl"
           }
          ],
          "scatterternary": [
           {
            "marker": {
             "colorbar": {
              "outlinewidth": 0,
              "ticks": ""
             }
            },
            "type": "scatterternary"
           }
          ],
          "surface": [
           {
            "colorbar": {
             "outlinewidth": 0,
             "ticks": ""
            },
            "colorscale": [
             [
              0,
              "#0d0887"
             ],
             [
              0.1111111111111111,
              "#46039f"
             ],
             [
              0.2222222222222222,
              "#7201a8"
             ],
             [
              0.3333333333333333,
              "#9c179e"
             ],
             [
              0.4444444444444444,
              "#bd3786"
             ],
             [
              0.5555555555555556,
              "#d8576b"
             ],
             [
              0.6666666666666666,
              "#ed7953"
             ],
             [
              0.7777777777777778,
              "#fb9f3a"
             ],
             [
              0.8888888888888888,
              "#fdca26"
             ],
             [
              1,
              "#f0f921"
             ]
            ],
            "type": "surface"
           }
          ],
          "table": [
           {
            "cells": {
             "fill": {
              "color": "#EBF0F8"
             },
             "line": {
              "color": "white"
             }
            },
            "header": {
             "fill": {
              "color": "#C8D4E3"
             },
             "line": {
              "color": "white"
             }
            },
            "type": "table"
           }
          ]
         },
         "layout": {
          "annotationdefaults": {
           "arrowcolor": "#2a3f5f",
           "arrowhead": 0,
           "arrowwidth": 1
          },
          "autotypenumbers": "strict",
          "coloraxis": {
           "colorbar": {
            "outlinewidth": 0,
            "ticks": ""
           }
          },
          "colorscale": {
           "diverging": [
            [
             0,
             "#8e0152"
            ],
            [
             0.1,
             "#c51b7d"
            ],
            [
             0.2,
             "#de77ae"
            ],
            [
             0.3,
             "#f1b6da"
            ],
            [
             0.4,
             "#fde0ef"
            ],
            [
             0.5,
             "#f7f7f7"
            ],
            [
             0.6,
             "#e6f5d0"
            ],
            [
             0.7,
             "#b8e186"
            ],
            [
             0.8,
             "#7fbc41"
            ],
            [
             0.9,
             "#4d9221"
            ],
            [
             1,
             "#276419"
            ]
           ],
           "sequential": [
            [
             0,
             "#0d0887"
            ],
            [
             0.1111111111111111,
             "#46039f"
            ],
            [
             0.2222222222222222,
             "#7201a8"
            ],
            [
             0.3333333333333333,
             "#9c179e"
            ],
            [
             0.4444444444444444,
             "#bd3786"
            ],
            [
             0.5555555555555556,
             "#d8576b"
            ],
            [
             0.6666666666666666,
             "#ed7953"
            ],
            [
             0.7777777777777778,
             "#fb9f3a"
            ],
            [
             0.8888888888888888,
             "#fdca26"
            ],
            [
             1,
             "#f0f921"
            ]
           ],
           "sequentialminus": [
            [
             0,
             "#0d0887"
            ],
            [
             0.1111111111111111,
             "#46039f"
            ],
            [
             0.2222222222222222,
             "#7201a8"
            ],
            [
             0.3333333333333333,
             "#9c179e"
            ],
            [
             0.4444444444444444,
             "#bd3786"
            ],
            [
             0.5555555555555556,
             "#d8576b"
            ],
            [
             0.6666666666666666,
             "#ed7953"
            ],
            [
             0.7777777777777778,
             "#fb9f3a"
            ],
            [
             0.8888888888888888,
             "#fdca26"
            ],
            [
             1,
             "#f0f921"
            ]
           ]
          },
          "colorway": [
           "#636efa",
           "#EF553B",
           "#00cc96",
           "#ab63fa",
           "#FFA15A",
           "#19d3f3",
           "#FF6692",
           "#B6E880",
           "#FF97FF",
           "#FECB52"
          ],
          "font": {
           "color": "#2a3f5f"
          },
          "geo": {
           "bgcolor": "white",
           "lakecolor": "white",
           "landcolor": "#E5ECF6",
           "showlakes": true,
           "showland": true,
           "subunitcolor": "white"
          },
          "hoverlabel": {
           "align": "left"
          },
          "hovermode": "closest",
          "mapbox": {
           "style": "light"
          },
          "paper_bgcolor": "white",
          "plot_bgcolor": "#E5ECF6",
          "polar": {
           "angularaxis": {
            "gridcolor": "white",
            "linecolor": "white",
            "ticks": ""
           },
           "bgcolor": "#E5ECF6",
           "radialaxis": {
            "gridcolor": "white",
            "linecolor": "white",
            "ticks": ""
           }
          },
          "scene": {
           "xaxis": {
            "backgroundcolor": "#E5ECF6",
            "gridcolor": "white",
            "gridwidth": 2,
            "linecolor": "white",
            "showbackground": true,
            "ticks": "",
            "zerolinecolor": "white"
           },
           "yaxis": {
            "backgroundcolor": "#E5ECF6",
            "gridcolor": "white",
            "gridwidth": 2,
            "linecolor": "white",
            "showbackground": true,
            "ticks": "",
            "zerolinecolor": "white"
           },
           "zaxis": {
            "backgroundcolor": "#E5ECF6",
            "gridcolor": "white",
            "gridwidth": 2,
            "linecolor": "white",
            "showbackground": true,
            "ticks": "",
            "zerolinecolor": "white"
           }
          },
          "shapedefaults": {
           "line": {
            "color": "#2a3f5f"
           }
          },
          "ternary": {
           "aaxis": {
            "gridcolor": "white",
            "linecolor": "white",
            "ticks": ""
           },
           "baxis": {
            "gridcolor": "white",
            "linecolor": "white",
            "ticks": ""
           },
           "bgcolor": "#E5ECF6",
           "caxis": {
            "gridcolor": "white",
            "linecolor": "white",
            "ticks": ""
           }
          },
          "title": {
           "x": 0.05
          },
          "xaxis": {
           "automargin": true,
           "gridcolor": "white",
           "linecolor": "white",
           "ticks": "",
           "title": {
            "standoff": 15
           },
           "zerolinecolor": "white",
           "zerolinewidth": 2
          },
          "yaxis": {
           "automargin": true,
           "gridcolor": "white",
           "linecolor": "white",
           "ticks": "",
           "title": {
            "standoff": 15
           },
           "zerolinecolor": "white",
           "zerolinewidth": 2
          }
         }
        },
        "title": {
         "text": "M4: fast buoyancy indirect - qdot separated in code (charge/discharge)"
        },
        "xaxis": {
         "range": [
          0,
          2.099
         ],
         "title": {
          "text": "Height"
         }
        },
        "yaxis": {
         "title": {
          "text": "Temperature"
         }
        }
       }
      }
     },
     "metadata": {},
     "output_type": "display_data"
    },
    {
     "data": {
      "application/vnd.plotly.v1+json": {
       "config": {
        "plotlyServerURL": "https://plot.ly"
       },
       "data": [
        {
         "mode": "lines",
         "name": "Layer 0",
         "type": "scatter",
         "x": [
          0,
          60,
          120,
          180,
          240,
          300,
          360,
          420,
          480,
          540,
          600,
          660,
          720,
          780,
          840,
          900,
          960,
          1020,
          1080,
          1140,
          1200,
          1260,
          1320,
          1380,
          1440,
          1500,
          1560,
          1620,
          1680,
          1740,
          1800,
          1860,
          1920,
          1980,
          2040,
          2100,
          2160,
          2220,
          2280,
          2340,
          2400,
          2460,
          2520,
          2580,
          2640,
          2700,
          2760,
          2820,
          2880,
          2940,
          3000,
          3060,
          3120,
          3180,
          3240,
          3300,
          3360,
          3420,
          3480,
          3540,
          3600,
          3660,
          3720,
          3780,
          3840,
          3900,
          3960,
          4020,
          4080,
          4140,
          4200,
          4260,
          4320,
          4380,
          4440,
          4500,
          4560,
          4620,
          4680,
          4740,
          4800,
          4860,
          4920,
          4980,
          5040,
          5100,
          5160,
          5220,
          5280,
          5340,
          5400,
          5460,
          5520,
          5580,
          5640,
          5700,
          5760,
          5820,
          5880,
          5940,
          6000
         ],
         "y": [
          100,
          94.99109564752546,
          92.48639239634647,
          90.02444209748371,
          88.18909055789945,
          86.37490373781661,
          84.87429015171845,
          83.3867715180355,
          82.0954071701997,
          80.81311577512824,
          79.6780560204518,
          78.54969086090445,
          77.54410875753577,
          76.5436647883758,
          75.65073325906353,
          74.76185466327978,
          73.96903865859073,
          73.17948605907,
          72.47645285852731,
          71.77609009173136,
          71.15389250437349,
          70.53390827974133,
          69.9846251673633,
          69.43719537108213,
          68.95374306266628,
          68.47185586738271,
          68.04786787235562,
          67.62521326249205,
          67.25494995264243,
          66.88583796971254,
          66.5641106972712,
          66.24340481978315,
          65.96550747834848,
          65.68856740701145,
          65.45021222607008,
          65.2128429365519,
          65.01009947697474,
          64.80850358128659,
          64.63774125435374,
          64.46847015313517,
          64.32630533334438,
          64.18620150602304,
          64.06945125359616,
          63.955570117711005,
          63.86121701719695,
          63.770715334638645,
          63.69589014212751,
          63.62587890870718,
          63.56785692203359,
          63.51525914474996,
          63.47142800962398,
          63.432950033154135,
          63.40069565302099,
          63.3730000525393,
          63.3496094711818,
          63.329592903629454,
          63.31241336692619,
          63.29745848808851,
          63.284265877015535,
          63.27244123361712,
          63.26168484387258,
          63.25176753296517,
          63.24251899875545,
          63.2338121395639,
          63.22555151461121,
          63.21766434047027,
          63.21009417791357,
          63.20279648465713,
          63.19573553522294,
          63.18888224633926,
          63.18221263023435,
          63.17570666813793,
          63.169347479364234,
          63.16312069591235,
          63.15701407700759,
          63.151016703104325,
          63.14511937985065,
          63.13931377799083,
          63.13359305220521,
          63.12795057565455,
          63.12238082819787,
          63.11687887361915,
          63.111440282229196,
          63.106060749887995,
          63.10073675086399,
          63.09546523265776,
          63.090242794662814,
          63.08506666131634,
          63.079934237984695,
          63.074843296393965,
          63.069791470561505,
          63.06477698077449,
          63.0597977539432,
          63.05485215731589,
          63.04993855811214,
          63.0450555507726,
          63.040201559282046,
          63.03537543570272,
          63.03057588834299,
          63.025801744035554,
          63.02105180714737
         ]
        },
        {
         "mode": "lines",
         "name": "Layer 1",
         "type": "scatter",
         "x": [
          0,
          60,
          120,
          180,
          240,
          300,
          360,
          420,
          480,
          540,
          600,
          660,
          720,
          780,
          840,
          900,
          960,
          1020,
          1080,
          1140,
          1200,
          1260,
          1320,
          1380,
          1440,
          1500,
          1560,
          1620,
          1680,
          1740,
          1800,
          1860,
          1920,
          1980,
          2040,
          2100,
          2160,
          2220,
          2280,
          2340,
          2400,
          2460,
          2520,
          2580,
          2640,
          2700,
          2760,
          2820,
          2880,
          2940,
          3000,
          3060,
          3120,
          3180,
          3240,
          3300,
          3360,
          3420,
          3480,
          3540,
          3600,
          3660,
          3720,
          3780,
          3840,
          3900,
          3960,
          4020,
          4080,
          4140,
          4200,
          4260,
          4320,
          4380,
          4440,
          4500,
          4560,
          4620,
          4680,
          4740,
          4800,
          4860,
          4920,
          4980,
          5040,
          5100,
          5160,
          5220,
          5280,
          5340,
          5400,
          5460,
          5520,
          5580,
          5640,
          5700,
          5760,
          5820,
          5880,
          5940,
          6000
         ],
         "y": [
          90,
          89.99680031620633,
          87.57721559734989,
          86.36761731986337,
          84.5743194471383,
          83.38677384450916,
          81.91212803408729,
          80.81655215850921,
          79.54314430710555,
          78.55501822781636,
          77.43318219780951,
          76.5501263395409,
          75.55467454415819,
          74.76902883343708,
          73.88407396727715,
          73.18711878621222,
          72.40071514153203,
          71.78402123221541,
          71.08622759125258,
          70.54203457451796,
          69.92417418769773,
          69.4454499253451,
          68.89979454370147,
          68.48019665855155,
          67.99980533961698,
          67.63361820828413,
          67.21223670789307,
          66.89430683199892,
          66.52629454333058,
          66.25197025332268,
          65.93224312823529,
          65.69731896469605,
          65.42130423343012,
          65.22196845574035,
          64.98556904735855,
          64.81835181946379,
          64.61791830920744,
          64.47963723062497,
          64.31194405425485,
          64.19964310369598,
          64.06186346528432,
          63.972743565505475,
          63.86241122068305,
          63.7937614586728,
          63.70869088631527,
          63.657855300689555,
          63.59596053360505,
          63.56040097010237,
          63.51934131335242,
          63.49679488128588,
          63.473507363652935,
          63.46198018450271,
          63.45245947413119,
          63.449686275448876,
          63.44928464611594,
          63.452108826697255,
          63.45615282910283,
          63.461032944176175,
          63.46587134718596,
          63.470359517368934,
          63.47427671252545,
          63.47760038769588,
          63.48036821663647,
          63.48265259686722,
          63.48452613998766,
          63.48605397029221,
          63.48729008551557,
          63.48827879219829,
          63.48905609486374,
          63.48965160848829,
          63.490089820828416,
          63.49039125267729,
          63.490573232986456,
          63.49065550543789,
          63.49063186636514,
          63.49053170253924,
          63.49034737661823,
          63.49012026533756,
          63.48981883670331,
          63.489477260348906,
          63.489102058751826,
          63.48869941277639,
          63.488247716280405,
          63.48778410827379,
          63.48732778932059,
          63.48682217862302,
          63.48630363954102,
          63.485769900583655,
          63.48524157859735,
          63.48468485972783,
          63.484151563293906,
          63.48359031761675,
          63.48304121061225,
          63.482490816663564,
          63.48195796090301,
          63.48140464856224,
          63.48088324687107,
          63.48036082375732,
          63.47984503963212,
          63.47932021953709,
          63.478833869491126
         ]
        },
        {
         "mode": "lines",
         "name": "Layer 2",
         "type": "scatter",
         "x": [
          0,
          60,
          120,
          180,
          240,
          300,
          360,
          420,
          480,
          540,
          600,
          660,
          720,
          780,
          840,
          900,
          960,
          1020,
          1080,
          1140,
          1200,
          1260,
          1320,
          1380,
          1440,
          1500,
          1560,
          1620,
          1680,
          1740,
          1800,
          1860,
          1920,
          1980,
          2040,
          2100,
          2160,
          2220,
          2280,
          2340,
          2400,
          2460,
          2520,
          2580,
          2640,
          2700,
          2760,
          2820,
          2880,
          2940,
          3000,
          3060,
          3120,
          3180,
          3240,
          3300,
          3360,
          3420,
          3480,
          3540,
          3600,
          3660,
          3720,
          3780,
          3840,
          3900,
          3960,
          4020,
          4080,
          4140,
          4200,
          4260,
          4320,
          4380,
          4440,
          4500,
          4560,
          4620,
          4680,
          4740,
          4800,
          4860,
          4920,
          4980,
          5040,
          5100,
          5160,
          5220,
          5280,
          5340,
          5400,
          5460,
          5520,
          5580,
          5640,
          5700,
          5760,
          5820,
          5880,
          5940,
          6000
         ],
         "y": [
          80,
          80.17165570573466,
          80.25602458152379,
          79.13175524837465,
          78.59140365334443,
          77.45644077285559,
          76.76549405385393,
          75.70625872225946,
          75.02105154728858,
          74.05970535355104,
          73.42838201411777,
          72.56586874699006,
          71.9999202727121,
          71.23047634897964,
          70.72928372803374,
          70.04537547103965,
          69.60461157246637,
          68.99859646451999,
          68.61307079113857,
          68.07773144648891,
          67.7423249637332,
          67.27101541875729,
          66.98096281213115,
          66.5676227669719,
          66.31857488796487,
          65.95770066185204,
          65.74571546391329,
          65.43231878669496,
          65.25383101388795,
          64.9833968926582,
          64.83518302700597,
          64.60363116861618,
          64.48277450511708,
          64.28642672904348,
          64.1902833674219,
          64.02583945706161,
          63.95200439835895,
          63.81653028107833,
          63.762801954751694,
          63.653736344162326,
          63.61807781757164,
          63.53326359901048,
          63.51376235680527,
          63.4514991094554,
          63.44634341660425,
          63.405424757205104,
          63.41295601397412,
          63.392600798165766,
          63.411548810201865,
          63.41113583299217,
          63.44105654077086,
          63.4598036798619,
          63.50136617900411,
          63.53840088402044,
          63.59301803100437,
          63.64773971413197,
          63.71665066148164,
          63.788384185055904,
          63.87161350520009,
          63.95870811201589,
          64.05472552349165,
          64.15464300260582,
          64.26125848508465,
          64.37149148440052,
          64.48675164303364,
          64.60528680841033,
          64.72767057766617,
          64.85296112085025,
          64.98127937651971,
          65.11212494581477,
          65.24541846782373,
          65.38087499481115,
          65.54328225140898,
          65.61285419923702,
          65.77522359490756,
          65.85288713684292,
          66.09669739386155,
          66.1474727065365,
          66.33671543135272,
          66.53097964522287,
          66.73148979971823,
          66.80104555792978,
          67.03570722721535,
          67.34921160536902,
          67.36282143931903,
          67.54217622060504,
          67.69614920919415,
          67.9407625293459,
          68.00412557451828,
          68.31619299310563,
          68.360979564441,
          68.5969401163878,
          68.75719218299473,
          69.00392279322556,
          69.05252340196655,
          69.35656270794418,
          69.48924624406361,
          69.65396964001036,
          69.73397346246203,
          70.04689153124455,
          70.0644287468743
         ]
        },
        {
         "mode": "lines",
         "name": "Layer 3",
         "type": "scatter",
         "x": [
          0,
          60,
          120,
          180,
          240,
          300,
          360,
          420,
          480,
          540,
          600,
          660,
          720,
          780,
          840,
          900,
          960,
          1020,
          1080,
          1140,
          1200,
          1260,
          1320,
          1380,
          1440,
          1500,
          1560,
          1620,
          1680,
          1740,
          1800,
          1860,
          1920,
          1980,
          2040,
          2100,
          2160,
          2220,
          2280,
          2340,
          2400,
          2460,
          2520,
          2580,
          2640,
          2700,
          2760,
          2820,
          2880,
          2940,
          3000,
          3060,
          3120,
          3180,
          3240,
          3300,
          3360,
          3420,
          3480,
          3540,
          3600,
          3660,
          3720,
          3780,
          3840,
          3900,
          3960,
          4020,
          4080,
          4140,
          4200,
          4260,
          4320,
          4380,
          4440,
          4500,
          4560,
          4620,
          4680,
          4740,
          4800,
          4860,
          4920,
          4980,
          5040,
          5100,
          5160,
          5220,
          5280,
          5340,
          5400,
          5460,
          5520,
          5580,
          5640,
          5700,
          5760,
          5820,
          5880,
          5940,
          6000
         ],
         "y": [
          70,
          70.17201930616575,
          70.34403235770213,
          70.472381506676,
          69.99618705497495,
          69.80140372542823,
          69.1578214359886,
          68.88260861256751,
          68.23349379820748,
          67.95864094941884,
          67.35558834928113,
          67.1064487931882,
          66.56313338031184,
          66.3461246578508,
          65.86337183647802,
          65.67855620678887,
          65.25302897046605,
          65.09845219219788,
          64.72565822125466,
          64.59884041161405,
          64.27416537014953,
          64.17260606012496,
          63.89165828013991,
          63.81299974897095,
          63.571713409425215,
          63.51378554561628,
          63.308438866663955,
          63.26926316138846,
          63.09646707751327,
          63.074246801730965,
          62.930924279911515,
          62.924030227680944,
          62.8073940241874,
          62.81434892410922,
          62.72188132366555,
          62.741343680327496,
          62.67078064233688,
          62.701527752948984,
          62.65085038854329,
          62.69175966310593,
          62.65919751411719,
          62.70922498966837,
          62.6932767566864,
          62.75143334703835,
          62.75090712477848,
          62.81624162640544,
          62.83029972830408,
          62.901921260058614,
          62.930079508746566,
          63.00728436897603,
          63.049296769402545,
          63.1318298334145,
          63.18748912308178,
          63.27576201031222,
          63.34482578550351,
          63.439773680700945,
          63.52202138293972,
          63.624593759626315,
          63.719603285161895,
          63.83017234333219,
          63.93690269584412,
          64.05503665703651,
          64.17186514310337,
          64.2966813376462,
          64.42183726207824,
          64.55242499184214,
          64.68430365348127,
          64.81987374165978,
          64.95714277630627,
          65.09701310689334,
          65.23862217173757,
          65.38218159034555,
          65.35283620284251,
          65.61422777317334,
          65.60373102300468,
          65.86134792251828,
          65.86440191079508,
          66.12515373437516,
          66.33342977138038,
          66.55415216572746,
          66.5416493131983,
          66.77530554467654,
          67.04490408217835,
          67.03822307289175,
          67.30823710561877,
          67.51380655644998,
          67.70984517894351,
          67.68261320929895,
          68.00832469896979,
          68.01877241847157,
          68.34122378209725,
          68.59270193621292,
          68.78133484302825,
          68.76836278590619,
          69.02717985059049,
          69.34290492210269,
          69.50423598748134,
          69.49020036666447,
          69.74337973693893,
          69.74545326286795,
          70.03881122884246
         ]
        },
        {
         "mode": "lines",
         "name": "Layer 4",
         "type": "scatter",
         "x": [
          0,
          60,
          120,
          180,
          240,
          300,
          360,
          420,
          480,
          540,
          600,
          660,
          720,
          780,
          840,
          900,
          960,
          1020,
          1080,
          1140,
          1200,
          1260,
          1320,
          1380,
          1440,
          1500,
          1560,
          1620,
          1680,
          1740,
          1800,
          1860,
          1920,
          1980,
          2040,
          2100,
          2160,
          2220,
          2280,
          2340,
          2400,
          2460,
          2520,
          2580,
          2640,
          2700,
          2760,
          2820,
          2880,
          2940,
          3000,
          3060,
          3120,
          3180,
          3240,
          3300,
          3360,
          3420,
          3480,
          3540,
          3600,
          3660,
          3720,
          3780,
          3840,
          3900,
          3960,
          4020,
          4080,
          4140,
          4200,
          4260,
          4320,
          4380,
          4440,
          4500,
          4560,
          4620,
          4680,
          4740,
          4800,
          4860,
          4920,
          4980,
          5040,
          5100,
          5160,
          5220,
          5280,
          5340,
          5400,
          5460,
          5520,
          5580,
          5640,
          5700,
          5760,
          5820,
          5880,
          5940,
          6000
         ],
         "y": [
          60,
          60.17238290659685,
          60.3447595453438,
          60.51712991646873,
          60.66765651572271,
          60.515797453003366,
          60.65597888906865,
          60.417261838087796,
          60.5524185926905,
          60.30790052523194,
          60.44061955537636,
          60.2167177559998,
          60.348349877641425,
          60.15248365028746,
          60.2837730602287,
          60.11680477558508,
          60.248168780215885,
          60.1087581923461,
          60.24042559682307,
          60.12656293629872,
          60.25864982122154,
          60.16819903740619,
          60.3007533395287,
          60.23164427675155,
          60.36467311895658,
          60.31496697412067,
          60.44845372886659,
          60.416361618629,
          60.550276571509556,
          60.53416030957226,
          60.66846719197864,
          60.66683338260218,
          60.80149311268412,
          60.81298519908873,
          60.94795756851607,
          60.97134816591595,
          61.10659178033324,
          61.140776972481085,
          61.2762473988354,
          61.32024494223135,
          61.45589066923465,
          61.50884500855765,
          61.64460058282647,
          61.705798619201495,
          61.841574966633736,
          61.91047541330912,
          62.04615155269594,
          62.12242256267051,
          62.25785565638442,
          62.34139594554922,
          62.476486488649066,
          62.56738892542907,
          62.7022274030807,
          62.80068410025967,
          62.93570151426167,
          63.04194140804702,
          63.17789032495667,
          63.29216027883837,
          63.42988394046212,
          63.55227836301468,
          63.69239886122603,
          63.822569204198984,
          63.96533344787043,
          64.10242404763376,
          64.24783301643522,
          64.39069348370842,
          64.53868317290662,
          64.68612574002425,
          64.83661277789165,
          64.9875975698673,
          65.14044029225987,
          65.29416455488608,
          65.47406933149787,
          65.58501233102956,
          65.77039607493289,
          65.89372387832184,
          65.87411728467941,
          66.03368154201023,
          66.29536820373923,
          66.53619995390261,
          66.51978298083418,
          66.72521007847484,
          67.03680342494442,
          66.95453555808115,
          67.18389560079467,
          67.48196450400594,
          67.63681711232095,
          67.92755398319183,
          68.07461068615726,
          68.05785248046917,
          68.24271053883407,
          68.5579819113469,
          68.76274501724059,
          68.76461386098389,
          68.90970490315095,
          69.29229758993198,
          69.47456785803955,
          69.644450006055,
          69.77286062913086,
          69.7570275834356,
          69.9205742356993
         ]
        },
        {
         "mode": "lines",
         "name": "Layer 5",
         "type": "scatter",
         "x": [
          0,
          60,
          120,
          180,
          240,
          300,
          360,
          420,
          480,
          540,
          600,
          660,
          720,
          780,
          840,
          900,
          960,
          1020,
          1080,
          1140,
          1200,
          1260,
          1320,
          1380,
          1440,
          1500,
          1560,
          1620,
          1680,
          1740,
          1800,
          1860,
          1920,
          1980,
          2040,
          2100,
          2160,
          2220,
          2280,
          2340,
          2400,
          2460,
          2520,
          2580,
          2640,
          2700,
          2760,
          2820,
          2880,
          2940,
          3000,
          3060,
          3120,
          3180,
          3240,
          3300,
          3360,
          3420,
          3480,
          3540,
          3600,
          3660,
          3720,
          3780,
          3840,
          3900,
          3960,
          4020,
          4080,
          4140,
          4200,
          4260,
          4320,
          4380,
          4440,
          4500,
          4560,
          4620,
          4680,
          4740,
          4800,
          4860,
          4920,
          4980,
          5040,
          5100,
          5160,
          5220,
          5280,
          5340,
          5400,
          5460,
          5520,
          5580,
          5640,
          5700,
          5760,
          5820,
          5880,
          5940,
          6000
         ],
         "y": [
          50,
          50.17274650702795,
          50.345486732985464,
          50.51822067810092,
          50.69094834260268,
          51.16585133357606,
          51.33231093490675,
          51.87752268562684,
          52.037913030858036,
          52.57788626253274,
          52.73342842460468,
          53.24553329920151,
          53.397386186707266,
          53.876699402916,
          54.025762313137214,
          54.47305664111009,
          54.61998751621415,
          55.03767346279725,
          55.182946879894246,
          55.57373465293935,
          55.717694645537335,
          56.08417869602391,
          56.22707830814633,
          56.571628800684124,
          56.71365779470408,
          57.03840991664403,
          57.17971371345439,
          57.48658501623704,
          57.627277585330745,
          57.917990868174535,
          58.05816360685985,
          58.33426864727636,
          58.47399673012293,
          58.73688923781339,
          58.87623654998067,
          59.12717420021155,
          59.266197780854874,
          59.506313492649,
          59.645068421967224,
          59.87538098091,
          60.01392692623644,
          60.23534884387197,
          60.373760121580354,
          60.58710238120344,
          60.725484208403394,
          60.93145767566796,
          61.06997120320853,
          61.26918643056351,
          61.408081443972904,
          61.601055391530295,
          61.74069910628205,
          61.927889458433754,
          62.06876817286856,
          62.25065562374299,
          62.39333980793985,
          62.57053000928357,
          62.71563735713316,
          62.888896732941504,
          63.037055752204466,
          63.207243516685075,
          63.3589586833125,
          63.52690393911252,
          63.682333391588074,
          63.848761727129904,
          64.00761409002261,
          64.1731742926855,
          64.33482066109546,
          64.50010284272997,
          64.6638029480357,
          64.82927839708992,
          64.99438897084909,
          65.1603413032962,
          65.35134454384679,
          65.51787111077876,
          65.69362288295935,
          65.85764770668885,
          65.83669485917048,
          66.04783571910929,
          66.29573160630564,
          66.47148947313111,
          66.70655331543284,
          66.83813038247489,
          66.81385351292165,
          67.24451371155558,
          67.371610338673,
          67.33113281735976,
          67.60845719294802,
          67.86091003267906,
          68.07274745284018,
          68.04495812481572,
          68.27778276174061,
          68.55140482392129,
          68.76047770858793,
          68.67320611676769,
          68.9037163531429,
          69.27682552543897,
          69.36370705177453,
          69.58016591490215,
          69.74825415965879,
          69.7355215829768,
          69.94569336424283
         ]
        },
        {
         "mode": "lines",
         "name": "Layer 6",
         "type": "scatter",
         "x": [
          0,
          60,
          120,
          180,
          240,
          300,
          360,
          420,
          480,
          540,
          600,
          660,
          720,
          780,
          840,
          900,
          960,
          1020,
          1080,
          1140,
          1200,
          1260,
          1320,
          1380,
          1440,
          1500,
          1560,
          1620,
          1680,
          1740,
          1800,
          1860,
          1920,
          1980,
          2040,
          2100,
          2160,
          2220,
          2280,
          2340,
          2400,
          2460,
          2520,
          2580,
          2640,
          2700,
          2760,
          2820,
          2880,
          2940,
          3000,
          3060,
          3120,
          3180,
          3240,
          3300,
          3360,
          3420,
          3480,
          3540,
          3600,
          3660,
          3720,
          3780,
          3840,
          3900,
          3960,
          4020,
          4080,
          4140,
          4200,
          4260,
          4320,
          4380,
          4440,
          4500,
          4560,
          4620,
          4680,
          4740,
          4800,
          4860,
          4920,
          4980,
          5040,
          5100,
          5160,
          5220,
          5280,
          5340,
          5400,
          5460,
          5520,
          5580,
          5640,
          5700,
          5760,
          5820,
          5880,
          5940,
          6000
         ],
         "y": [
          40,
          40.17311010745905,
          40.346213920627136,
          40.51931143973311,
          41.31836314913686,
          41.80342114794682,
          42.7533742059061,
          43.313217512047544,
          44.257717111762155,
          44.81366437695205,
          45.70488293556311,
          46.2328141354097,
          47.05955915393417,
          47.55384859221982,
          48.316921580119654,
          48.7780229179531,
          49.481826237070095,
          49.91203058889268,
          50.56175410694723,
          50.96376138731782,
          51.56447616159785,
          51.940930559209505,
          52.497327317466144,
          52.850680418443446,
          53.36702087967893,
          53.699504065976086,
          54.17963856234207,
          54.49327022952271,
          54.94067280312913,
          55.23727535430254,
          55.65508067601742,
          55.936299141019326,
          56.32733666777259,
          56.594656533883345,
          56.961480880466134,
          57.21624465601511,
          57.56116220623152,
          57.80458490190911,
          58.12967691336306,
          58.362860912600844,
          58.67000332271135,
          58.893953391446956,
          59.184833356462406,
          59.40047300963175,
          59.67660196544365,
          59.884793063145196,
          60.14751603692048,
          60.34908379347752,
          60.59958571305995,
          60.79534965751079,
          61.03466344323697,
          61.22546894210992,
          61.45449829264711,
          61.64123459477727,
          61.86080818050758,
          62.04440091626462,
          62.25535337684985,
          62.43673903065452,
          62.63997953116867,
          62.8200596664042,
          63.01659688915419,
          63.19612801899342,
          63.38705069604621,
          63.566488106116836,
          63.75292218942132,
          63.932351640556064,
          64.11540472489173,
          64.29464137149316,
          64.47530992354842,
          64.65409304286864,
          64.83315642598266,
          65.01130966379871,
          65.21421374239605,
          65.39169303981315,
          65.59381220698869,
          65.76471349790125,
          66.043343661056,
          66.16332653199646,
          66.13597257926948,
          66.42163570608406,
          66.65980526564122,
          66.83321225825003,
          66.82227341045486,
          67.1979716938224,
          67.33320433507892,
          67.55213907258714,
          67.50595141054752,
          67.84334517677951,
          67.98717025070607,
          68.35318270013335,
          68.2982308407098,
          68.59845498402116,
          68.52993010292016,
          68.91709076539516,
          69.0584104181765,
          69.03802001320662,
          69.30890415918606,
          69.50408322897123,
          69.68957521802768,
          70.04359796694324,
          70.17542362728739
         ]
        },
        {
         "mode": "lines",
         "name": "Layer 7",
         "type": "scatter",
         "x": [
          0,
          60,
          120,
          180,
          240,
          300,
          360,
          420,
          480,
          540,
          600,
          660,
          720,
          780,
          840,
          900,
          960,
          1020,
          1080,
          1140,
          1200,
          1260,
          1320,
          1380,
          1440,
          1500,
          1560,
          1620,
          1680,
          1740,
          1800,
          1860,
          1920,
          1980,
          2040,
          2100,
          2160,
          2220,
          2280,
          2340,
          2400,
          2460,
          2520,
          2580,
          2640,
          2700,
          2760,
          2820,
          2880,
          2940,
          3000,
          3060,
          3120,
          3180,
          3240,
          3300,
          3360,
          3420,
          3480,
          3540,
          3600,
          3660,
          3720,
          3780,
          3840,
          3900,
          3960,
          4020,
          4080,
          4140,
          4200,
          4260,
          4320,
          4380,
          4440,
          4500,
          4560,
          4620,
          4680,
          4740,
          4800,
          4860,
          4920,
          4980,
          5040,
          5100,
          5160,
          5220,
          5280,
          5340,
          5400,
          5460,
          5520,
          5580,
          5640,
          5700,
          5760,
          5820,
          5880,
          5940,
          6000
         ],
         "y": [
          30,
          30.173473707890153,
          30.34694110826881,
          31.771825531700756,
          32.569521573500275,
          33.99419036680063,
          34.94779656780405,
          36.29131891083483,
          37.24320065147121,
          38.48543840915568,
          39.38611224357375,
          40.52729822529615,
          41.36434861326936,
          42.41100362070354,
          43.18443892196942,
          44.14459180241098,
          44.85833830213714,
          45.739956146218816,
          46.39894145318069,
          47.209454478830544,
          47.81862523488527,
          48.56481901183887,
          49.128827466302,
          49.81685400710906,
          50.33997508542107,
          50.97539874217213,
          51.46152555084027,
          52.049375845798785,
          52.502040787132096,
          53.046863352060484,
          53.46926650054631,
          53.975169649971384,
          54.37020807970442,
          54.84090459311779,
          55.21120058463109,
          55.6500448950074,
          55.9979724635346,
          56.40799361192608,
          56.73570335931087,
          57.119634083725366,
          57.4290766308663,
          57.78937889647634,
          58.08232738207933,
          58.421214560185234,
          58.69928703922541,
          59.018742865666404,
          59.28342590142299,
          59.585220481980315,
          59.83789543226254,
          60.12359945294738,
          60.36557184147389,
          60.63657292074783,
          60.869101250376815,
          61.1266317946526,
          61.35094567169189,
          61.59613511083007,
          61.8134314237059,
          62.047384241376314,
          62.258801883246946,
          62.48267756423596,
          62.68925520630844,
          62.904316759903,
          63.10692586096434,
          63.314531699631445,
          63.51380692790849,
          63.71534094649278,
          63.91167838784701,
          64.10843973480355,
          64.30208837307967,
          64.49517893117566,
          64.68635954416827,
          64.8766205463837,
          65.09051866581896,
          65.27854423688017,
          65.49052095446396,
          65.67672615767664,
          65.96470870628607,
          66.14779802939316,
          66.13948127943671,
          66.39838401240952,
          66.61720707259572,
          66.79716369817199,
          67.08248007147255,
          67.04936231187936,
          67.25917771336265,
          67.50133543169713,
          67.71095733247242,
          67.67566255541493,
          67.96294472945229,
          68.28454223778438,
          68.4974372104628,
          68.43573901578596,
          68.68395171593498,
          68.91622817990968,
          69.08906786385771,
          69.081189972417,
          69.24850360222857,
          69.47046271148272,
          69.65531173438268,
          70.01481144607177,
          70.19827916322193
         ]
        },
        {
         "mode": "lines",
         "name": "Layer 8",
         "type": "scatter",
         "x": [
          0,
          60,
          120,
          180,
          240,
          300,
          360,
          420,
          480,
          540,
          600,
          660,
          720,
          780,
          840,
          900,
          960,
          1020,
          1080,
          1140,
          1200,
          1260,
          1320,
          1380,
          1440,
          1500,
          1560,
          1620,
          1680,
          1740,
          1800,
          1860,
          1920,
          1980,
          2040,
          2100,
          2160,
          2220,
          2280,
          2340,
          2400,
          2460,
          2520,
          2580,
          2640,
          2700,
          2760,
          2820,
          2880,
          2940,
          3000,
          3060,
          3120,
          3180,
          3240,
          3300,
          3360,
          3420,
          3480,
          3540,
          3600,
          3660,
          3720,
          3780,
          3840,
          3900,
          3960,
          4020,
          4080,
          4140,
          4200,
          4260,
          4320,
          4380,
          4440,
          4500,
          4560,
          4620,
          4680,
          4740,
          4800,
          4860,
          4920,
          4980,
          5040,
          5100,
          5160,
          5220,
          5280,
          5340,
          5400,
          5460,
          5520,
          5580,
          5640,
          5700,
          5760,
          5820,
          5880,
          5940,
          6000
         ],
         "y": [
          20,
          20.173837308321254,
          22.849520076349762,
          24.2724168314768,
          26.322262251462238,
          27.744894709780326,
          29.481745673719782,
          30.826074864942647,
          32.36588914127573,
          33.61165138761027,
          35.002679056583666,
          36.14917337431631,
          37.415632581388614,
          38.468507037601356,
          39.62564759223028,
          40.5923049413086,
          41.65165573588802,
          42.5396630764635,
          43.510893047751246,
          44.32744626353095,
          45.2190543913422,
          45.97081598150278,
          46.790414709058574,
          47.48348487783606,
          48.237940476026345,
          48.87787578760141,
          49.57339634877212,
          50.16524476802714,
          50.80744696752407,
          51.355787640553096,
          51.949752960889974,
          52.45873626790177,
          53.00906043231644,
          53.482446584267194,
          53.993283667264606,
          54.434479206540075,
          54.90958122891105,
          55.32167323988725,
          55.76442593471782,
          56.15021395919833,
          56.56366940306464,
          56.925695158604746,
          57.312601932794635,
          57.65317703583913,
          58.01600847014582,
          58.337240510925206,
          58.67822141362515,
          58.98203888688665,
          59.303171138506066,
          59.59134770339317,
          59.894435545794686,
          60.16861333765922,
          60.455290727566506,
          60.71700026409407,
          60.98876541667441,
          61.23943673265414,
          61.49769979766926,
          61.738660684625756,
          61.98480174366028,
          62.21726812025518,
          62.45268607735516,
          62.677753140856886,
          62.9038806812435,
          63.122513638601774,
          63.34078308650471,
          63.55381169479912,
          63.76557897616359,
          63.97371415498741,
          64.18017558491348,
          64.3840468060483,
          64.58618773494219,
          64.78637296180403,
          65.00989371514811,
          65.20692266951205,
          65.42749186885555,
          65.62183557911217,
          65.91968888821329,
          66.11109571780219,
          66.35952865568795,
          66.33709649062409,
          66.60192509367602,
          66.7918715330479,
          67.08401530448708,
          67.00543728468672,
          67.22255679260965,
          67.49456443927646,
          67.69459145324903,
          67.983290859738,
          67.86188221024963,
          68.26849227569676,
          68.39756947014453,
          68.41851969368614,
          68.6169830923961,
          68.91849801025478,
          69.09576169255908,
          69.10186483413824,
          69.28173128626088,
          69.48582161338854,
          69.67057427411353,
          70.03032177116543,
          70.09886029558982
         ]
        },
        {
         "mode": "lines",
         "name": "Layer 9",
         "type": "scatter",
         "x": [
          0,
          60,
          120,
          180,
          240,
          300,
          360,
          420,
          480,
          540,
          600,
          660,
          720,
          780,
          840,
          900,
          960,
          1020,
          1080,
          1140,
          1200,
          1260,
          1320,
          1380,
          1440,
          1500,
          1560,
          1620,
          1680,
          1740,
          1800,
          1860,
          1920,
          1980,
          2040,
          2100,
          2160,
          2220,
          2280,
          2340,
          2400,
          2460,
          2520,
          2580,
          2640,
          2700,
          2760,
          2820,
          2880,
          2940,
          3000,
          3060,
          3120,
          3180,
          3240,
          3300,
          3360,
          3420,
          3480,
          3540,
          3600,
          3660,
          3720,
          3780,
          3840,
          3900,
          3960,
          4020,
          4080,
          4140,
          4200,
          4260,
          4320,
          4380,
          4440,
          4500,
          4560,
          4620,
          4680,
          4740,
          4800,
          4860,
          4920,
          4980,
          5040,
          5100,
          5160,
          5220,
          5280,
          5340,
          5400,
          5460,
          5520,
          5580,
          5640,
          5700,
          5760,
          5820,
          5880,
          5940,
          6000
         ],
         "y": [
          10,
          15.175915500096423,
          17.84943207207244,
          20.523843497126297,
          22.57206001129034,
          24.620946755319494,
          26.356437244904438,
          28.092485764978115,
          29.632474218982207,
          31.172266869316424,
          32.56487718956346,
          33.95659759007709,
          35.225557974596676,
          36.493177719901276,
          37.653292664660455,
          38.81183795122857,
          39.87431935603728,
          40.93515985177273,
          41.90947454441779,
          42.88217750379776,
          43.77670591952736,
          44.66971048270469,
          45.49200253956019,
          46.31288936843728,
          47.06978481933831,
          47.82540645325902,
          48.523109519254014,
          49.219671690166706,
          49.86380954627813,
          50.50693380751809,
          51.10260834366364,
          51.69738607143208,
          52.249221769612,
          52.8002628319743,
          53.31245151045531,
          53.823928716848044,
          54.300271226409656,
          54.775961018231655,
          55.21990574867837,
          55.66322544098496,
          56.07790343803203,
          56.491945334432145,
          56.88020189304165,
          57.26776465574844,
          57.63218744097177,
          57.995805157722515,
          58.33874917569843,
          58.68071860484397,
          59.00432862526974,
          59.326735141734595,
          59.63296631695069,
          59.937709219595426,
          60.22834644201628,
          60.517164646451754,
          60.79384050394272,
          61.06834003339567,
          61.33255060711781,
          61.594234317258454,
          61.8473530870625,
          62.09764879498484,
          62.34094106007953,
          62.58121947792936,
          62.81585709150843,
          63.047431622288556,
          63.274501500885485,
          63.4986068975039,
          63.71910916074257,
          63.936867036377414,
          64.15170808769659,
          64.36409839229191,
          64.5740857461618,
          64.78193829426083,
          65.012706027308,
          65.21670954292662,
          65.44393593038255,
          65.64466223685623,
          65.9486286742207,
          66.14654576145837,
          66.40124368646347,
          66.42199885780528,
          66.66789917616485,
          66.85865034968798,
          66.87475934997576,
          67.3296508616515,
          67.50138453944135,
          67.4996919577245,
          67.72787958541971,
          67.7502591271204,
          68.06624141163705,
          68.06762986521684,
          68.36915285896568,
          68.40673921191589,
          68.63916344612389,
          68.94306215600692,
          69.14171725080419,
          69.16144674345504,
          69.35313553377325,
          69.5677146930574,
          69.75568529833357,
          69.7686633532694,
          70.0727791451878
         ]
        }
       ],
       "layout": {
        "template": {
         "data": {
          "bar": [
           {
            "error_x": {
             "color": "#2a3f5f"
            },
            "error_y": {
             "color": "#2a3f5f"
            },
            "marker": {
             "line": {
              "color": "#E5ECF6",
              "width": 0.5
             },
             "pattern": {
              "fillmode": "overlay",
              "size": 10,
              "solidity": 0.2
             }
            },
            "type": "bar"
           }
          ],
          "barpolar": [
           {
            "marker": {
             "line": {
              "color": "#E5ECF6",
              "width": 0.5
             },
             "pattern": {
              "fillmode": "overlay",
              "size": 10,
              "solidity": 0.2
             }
            },
            "type": "barpolar"
           }
          ],
          "carpet": [
           {
            "aaxis": {
             "endlinecolor": "#2a3f5f",
             "gridcolor": "white",
             "linecolor": "white",
             "minorgridcolor": "white",
             "startlinecolor": "#2a3f5f"
            },
            "baxis": {
             "endlinecolor": "#2a3f5f",
             "gridcolor": "white",
             "linecolor": "white",
             "minorgridcolor": "white",
             "startlinecolor": "#2a3f5f"
            },
            "type": "carpet"
           }
          ],
          "choropleth": [
           {
            "colorbar": {
             "outlinewidth": 0,
             "ticks": ""
            },
            "type": "choropleth"
           }
          ],
          "contour": [
           {
            "colorbar": {
             "outlinewidth": 0,
             "ticks": ""
            },
            "colorscale": [
             [
              0,
              "#0d0887"
             ],
             [
              0.1111111111111111,
              "#46039f"
             ],
             [
              0.2222222222222222,
              "#7201a8"
             ],
             [
              0.3333333333333333,
              "#9c179e"
             ],
             [
              0.4444444444444444,
              "#bd3786"
             ],
             [
              0.5555555555555556,
              "#d8576b"
             ],
             [
              0.6666666666666666,
              "#ed7953"
             ],
             [
              0.7777777777777778,
              "#fb9f3a"
             ],
             [
              0.8888888888888888,
              "#fdca26"
             ],
             [
              1,
              "#f0f921"
             ]
            ],
            "type": "contour"
           }
          ],
          "contourcarpet": [
           {
            "colorbar": {
             "outlinewidth": 0,
             "ticks": ""
            },
            "type": "contourcarpet"
           }
          ],
          "heatmap": [
           {
            "colorbar": {
             "outlinewidth": 0,
             "ticks": ""
            },
            "colorscale": [
             [
              0,
              "#0d0887"
             ],
             [
              0.1111111111111111,
              "#46039f"
             ],
             [
              0.2222222222222222,
              "#7201a8"
             ],
             [
              0.3333333333333333,
              "#9c179e"
             ],
             [
              0.4444444444444444,
              "#bd3786"
             ],
             [
              0.5555555555555556,
              "#d8576b"
             ],
             [
              0.6666666666666666,
              "#ed7953"
             ],
             [
              0.7777777777777778,
              "#fb9f3a"
             ],
             [
              0.8888888888888888,
              "#fdca26"
             ],
             [
              1,
              "#f0f921"
             ]
            ],
            "type": "heatmap"
           }
          ],
          "heatmapgl": [
           {
            "colorbar": {
             "outlinewidth": 0,
             "ticks": ""
            },
            "colorscale": [
             [
              0,
              "#0d0887"
             ],
             [
              0.1111111111111111,
              "#46039f"
             ],
             [
              0.2222222222222222,
              "#7201a8"
             ],
             [
              0.3333333333333333,
              "#9c179e"
             ],
             [
              0.4444444444444444,
              "#bd3786"
             ],
             [
              0.5555555555555556,
              "#d8576b"
             ],
             [
              0.6666666666666666,
              "#ed7953"
             ],
             [
              0.7777777777777778,
              "#fb9f3a"
             ],
             [
              0.8888888888888888,
              "#fdca26"
             ],
             [
              1,
              "#f0f921"
             ]
            ],
            "type": "heatmapgl"
           }
          ],
          "histogram": [
           {
            "marker": {
             "pattern": {
              "fillmode": "overlay",
              "size": 10,
              "solidity": 0.2
             }
            },
            "type": "histogram"
           }
          ],
          "histogram2d": [
           {
            "colorbar": {
             "outlinewidth": 0,
             "ticks": ""
            },
            "colorscale": [
             [
              0,
              "#0d0887"
             ],
             [
              0.1111111111111111,
              "#46039f"
             ],
             [
              0.2222222222222222,
              "#7201a8"
             ],
             [
              0.3333333333333333,
              "#9c179e"
             ],
             [
              0.4444444444444444,
              "#bd3786"
             ],
             [
              0.5555555555555556,
              "#d8576b"
             ],
             [
              0.6666666666666666,
              "#ed7953"
             ],
             [
              0.7777777777777778,
              "#fb9f3a"
             ],
             [
              0.8888888888888888,
              "#fdca26"
             ],
             [
              1,
              "#f0f921"
             ]
            ],
            "type": "histogram2d"
           }
          ],
          "histogram2dcontour": [
           {
            "colorbar": {
             "outlinewidth": 0,
             "ticks": ""
            },
            "colorscale": [
             [
              0,
              "#0d0887"
             ],
             [
              0.1111111111111111,
              "#46039f"
             ],
             [
              0.2222222222222222,
              "#7201a8"
             ],
             [
              0.3333333333333333,
              "#9c179e"
             ],
             [
              0.4444444444444444,
              "#bd3786"
             ],
             [
              0.5555555555555556,
              "#d8576b"
             ],
             [
              0.6666666666666666,
              "#ed7953"
             ],
             [
              0.7777777777777778,
              "#fb9f3a"
             ],
             [
              0.8888888888888888,
              "#fdca26"
             ],
             [
              1,
              "#f0f921"
             ]
            ],
            "type": "histogram2dcontour"
           }
          ],
          "mesh3d": [
           {
            "colorbar": {
             "outlinewidth": 0,
             "ticks": ""
            },
            "type": "mesh3d"
           }
          ],
          "parcoords": [
           {
            "line": {
             "colorbar": {
              "outlinewidth": 0,
              "ticks": ""
             }
            },
            "type": "parcoords"
           }
          ],
          "pie": [
           {
            "automargin": true,
            "type": "pie"
           }
          ],
          "scatter": [
           {
            "fillpattern": {
             "fillmode": "overlay",
             "size": 10,
             "solidity": 0.2
            },
            "type": "scatter"
           }
          ],
          "scatter3d": [
           {
            "line": {
             "colorbar": {
              "outlinewidth": 0,
              "ticks": ""
             }
            },
            "marker": {
             "colorbar": {
              "outlinewidth": 0,
              "ticks": ""
             }
            },
            "type": "scatter3d"
           }
          ],
          "scattercarpet": [
           {
            "marker": {
             "colorbar": {
              "outlinewidth": 0,
              "ticks": ""
             }
            },
            "type": "scattercarpet"
           }
          ],
          "scattergeo": [
           {
            "marker": {
             "colorbar": {
              "outlinewidth": 0,
              "ticks": ""
             }
            },
            "type": "scattergeo"
           }
          ],
          "scattergl": [
           {
            "marker": {
             "colorbar": {
              "outlinewidth": 0,
              "ticks": ""
             }
            },
            "type": "scattergl"
           }
          ],
          "scattermapbox": [
           {
            "marker": {
             "colorbar": {
              "outlinewidth": 0,
              "ticks": ""
             }
            },
            "type": "scattermapbox"
           }
          ],
          "scatterpolar": [
           {
            "marker": {
             "colorbar": {
              "outlinewidth": 0,
              "ticks": ""
             }
            },
            "type": "scatterpolar"
           }
          ],
          "scatterpolargl": [
           {
            "marker": {
             "colorbar": {
              "outlinewidth": 0,
              "ticks": ""
             }
            },
            "type": "scatterpolargl"
           }
          ],
          "scatterternary": [
           {
            "marker": {
             "colorbar": {
              "outlinewidth": 0,
              "ticks": ""
             }
            },
            "type": "scatterternary"
           }
          ],
          "surface": [
           {
            "colorbar": {
             "outlinewidth": 0,
             "ticks": ""
            },
            "colorscale": [
             [
              0,
              "#0d0887"
             ],
             [
              0.1111111111111111,
              "#46039f"
             ],
             [
              0.2222222222222222,
              "#7201a8"
             ],
             [
              0.3333333333333333,
              "#9c179e"
             ],
             [
              0.4444444444444444,
              "#bd3786"
             ],
             [
              0.5555555555555556,
              "#d8576b"
             ],
             [
              0.6666666666666666,
              "#ed7953"
             ],
             [
              0.7777777777777778,
              "#fb9f3a"
             ],
             [
              0.8888888888888888,
              "#fdca26"
             ],
             [
              1,
              "#f0f921"
             ]
            ],
            "type": "surface"
           }
          ],
          "table": [
           {
            "cells": {
             "fill": {
              "color": "#EBF0F8"
             },
             "line": {
              "color": "white"
             }
            },
            "header": {
             "fill": {
              "color": "#C8D4E3"
             },
             "line": {
              "color": "white"
             }
            },
            "type": "table"
           }
          ]
         },
         "layout": {
          "annotationdefaults": {
           "arrowcolor": "#2a3f5f",
           "arrowhead": 0,
           "arrowwidth": 1
          },
          "autotypenumbers": "strict",
          "coloraxis": {
           "colorbar": {
            "outlinewidth": 0,
            "ticks": ""
           }
          },
          "colorscale": {
           "diverging": [
            [
             0,
             "#8e0152"
            ],
            [
             0.1,
             "#c51b7d"
            ],
            [
             0.2,
             "#de77ae"
            ],
            [
             0.3,
             "#f1b6da"
            ],
            [
             0.4,
             "#fde0ef"
            ],
            [
             0.5,
             "#f7f7f7"
            ],
            [
             0.6,
             "#e6f5d0"
            ],
            [
             0.7,
             "#b8e186"
            ],
            [
             0.8,
             "#7fbc41"
            ],
            [
             0.9,
             "#4d9221"
            ],
            [
             1,
             "#276419"
            ]
           ],
           "sequential": [
            [
             0,
             "#0d0887"
            ],
            [
             0.1111111111111111,
             "#46039f"
            ],
            [
             0.2222222222222222,
             "#7201a8"
            ],
            [
             0.3333333333333333,
             "#9c179e"
            ],
            [
             0.4444444444444444,
             "#bd3786"
            ],
            [
             0.5555555555555556,
             "#d8576b"
            ],
            [
             0.6666666666666666,
             "#ed7953"
            ],
            [
             0.7777777777777778,
             "#fb9f3a"
            ],
            [
             0.8888888888888888,
             "#fdca26"
            ],
            [
             1,
             "#f0f921"
            ]
           ],
           "sequentialminus": [
            [
             0,
             "#0d0887"
            ],
            [
             0.1111111111111111,
             "#46039f"
            ],
            [
             0.2222222222222222,
             "#7201a8"
            ],
            [
             0.3333333333333333,
             "#9c179e"
            ],
            [
             0.4444444444444444,
             "#bd3786"
            ],
            [
             0.5555555555555556,
             "#d8576b"
            ],
            [
             0.6666666666666666,
             "#ed7953"
            ],
            [
             0.7777777777777778,
             "#fb9f3a"
            ],
            [
             0.8888888888888888,
             "#fdca26"
            ],
            [
             1,
             "#f0f921"
            ]
           ]
          },
          "colorway": [
           "#636efa",
           "#EF553B",
           "#00cc96",
           "#ab63fa",
           "#FFA15A",
           "#19d3f3",
           "#FF6692",
           "#B6E880",
           "#FF97FF",
           "#FECB52"
          ],
          "font": {
           "color": "#2a3f5f"
          },
          "geo": {
           "bgcolor": "white",
           "lakecolor": "white",
           "landcolor": "#E5ECF6",
           "showlakes": true,
           "showland": true,
           "subunitcolor": "white"
          },
          "hoverlabel": {
           "align": "left"
          },
          "hovermode": "closest",
          "mapbox": {
           "style": "light"
          },
          "paper_bgcolor": "white",
          "plot_bgcolor": "#E5ECF6",
          "polar": {
           "angularaxis": {
            "gridcolor": "white",
            "linecolor": "white",
            "ticks": ""
           },
           "bgcolor": "#E5ECF6",
           "radialaxis": {
            "gridcolor": "white",
            "linecolor": "white",
            "ticks": ""
           }
          },
          "scene": {
           "xaxis": {
            "backgroundcolor": "#E5ECF6",
            "gridcolor": "white",
            "gridwidth": 2,
            "linecolor": "white",
            "showbackground": true,
            "ticks": "",
            "zerolinecolor": "white"
           },
           "yaxis": {
            "backgroundcolor": "#E5ECF6",
            "gridcolor": "white",
            "gridwidth": 2,
            "linecolor": "white",
            "showbackground": true,
            "ticks": "",
            "zerolinecolor": "white"
           },
           "zaxis": {
            "backgroundcolor": "#E5ECF6",
            "gridcolor": "white",
            "gridwidth": 2,
            "linecolor": "white",
            "showbackground": true,
            "ticks": "",
            "zerolinecolor": "white"
           }
          },
          "shapedefaults": {
           "line": {
            "color": "#2a3f5f"
           }
          },
          "ternary": {
           "aaxis": {
            "gridcolor": "white",
            "linecolor": "white",
            "ticks": ""
           },
           "baxis": {
            "gridcolor": "white",
            "linecolor": "white",
            "ticks": ""
           },
           "bgcolor": "#E5ECF6",
           "caxis": {
            "gridcolor": "white",
            "linecolor": "white",
            "ticks": ""
           }
          },
          "title": {
           "x": 0.05
          },
          "xaxis": {
           "automargin": true,
           "gridcolor": "white",
           "linecolor": "white",
           "ticks": "",
           "title": {
            "standoff": 15
           },
           "zerolinecolor": "white",
           "zerolinewidth": 2
          },
          "yaxis": {
           "automargin": true,
           "gridcolor": "white",
           "linecolor": "white",
           "ticks": "",
           "title": {
            "standoff": 15
           },
           "zerolinecolor": "white",
           "zerolinewidth": 2
          }
         }
        },
        "title": {
         "text": "M4: fast buoyancy (only indirect charging), Temperature development of each layer over time.)"
        },
        "xaxis": {
         "title": {
          "text": "Time Passed (s)"
         }
        },
        "yaxis": {
         "title": {
          "text": "Temperature"
         }
        }
       }
      }
     },
     "metadata": {},
     "output_type": "display_data"
    }
   ],
   "source": [
    "\n",
    "# MODEL 0 - only dif (no inputs)\n",
    "tank_vector0 = HeatDistributionVector_model0(alpha, z, T_zero, dt)\n",
    "stability0 = tank_vector0.stability_check()\n",
    "if (stability0 == 0):\n",
    "    # Solve for the temperatures\n",
    "    final_temperature0, results0 = tank_vector0.vector_solve(num_steps)\n",
    "    # Plot the results\n",
    "    plot_results_height(results0, tank_vector0.heights, dt, z, dz, \"M0: only heat diffusion (no input)\")\n",
    "    #plot_results_time(results0, dt, \"M0: only heat diffusion (no input)\")\n",
    "\"\"\"\n",
    "\"\"\"\n",
    "# MODEL 2 - heat losses (with inputs)\n",
    "tank_vector2 = HeatDistributionVector_model2(alpha, beta_i, beta_bottom, beta_top, lambda_i, phi_i, z, T_a, T_zero, dt, Qdot, mdot, Tm)\n",
    "stability2 = tank_vector2.stability_check()\n",
    "if (stability2 == 0):\n",
    "    # Solve for the temperatures\n",
    "    final_temperature2, results2 = tank_vector2.vector_solve(num_steps)\n",
    "    # Plot the results\n",
    "    plot_results_height(results2, tank_vector2.heights, dt, z, dz, \"M2: heat losses (with input)\")\n",
    "    #plot_results_time(results2, dt, \"Temperature development of each layer over time. M2: heat losses (with input)\")\n",
    "\n",
    "\n",
    "# MODEL 3 - slow buoy (inputs)\n",
    "tank_vector3 = HeatDistributionVector_model3(alpha, beta_i, beta_bottom, beta_top, lambda_i, phi_i, z, T_a, T_zero, dt, Qdot, mdot, Tm)\n",
    "stability3 = tank_vector3.stability_check()\n",
    "if (stability3 == 0):\n",
    "    # Solve for the temperatures\n",
    "    final_temperature3, results3 = tank_vector3.vector_solve(num_steps)\n",
    "    # Plot the results\n",
    "    plot_results_height(results3, tank_vector3.heights, dt, z, dz, \"M3: slow buoyancy\")\n",
    "    #plot_results_time(results3, dt, \"Temperature development of each layer over time. M3: slow buoyancy\")\n",
    "\n",
    "\"\"\"\n",
    "\n",
    "\"\"\"\n",
    "# MODEL 4a - fast buoy (only charging +qdot)\n",
    "tank_vector4a = HeatDistributionVector_model4a(alpha, beta_i, beta_bottom, beta_top, lambda_i, phi_i, z, T_a, T_zero, dt, Qdot_char, mdot, Tm)\n",
    "stability4a = tank_vector4a.stability_check()\n",
    "if (stability4a == 0):\n",
    "    # Solve for the temperatures\n",
    "    final_temperature4, results4a = tank_vector4a.vector_solve(num_steps)\n",
    "    # Plot the results\n",
    "    plot_results_height(results4a, tank_vector4a.heights, dt, z, dz, \"M4a: fast buoyancy indirect - qdot only charging\")\n",
    "    #plot_results_time(results4a, dt, \"M4a: fast buoyancy (only indirect charging), Temperature development of each layer over time.)\")\n",
    "\n",
    "# MODEL 4b - fast buoy (only discharging -qdot)\n",
    "tank_vector4b = HeatDistributionVector_model4b(alpha, beta_i, beta_bottom, beta_top, lambda_i, phi_i, z, T_a, T_zero, dt, Qdot_dischar, mdot, Tm)\n",
    "stability4b = tank_vector4b.stability_check()\n",
    "if (stability4b == 0):\n",
    "    # Solve for the temperatures\n",
    "    final_temperature4b, results4b = tank_vector4b.vector_solve(num_steps)\n",
    "    # Plot the results\n",
    "    plot_results_height(results4b, tank_vector4b.heights, dt, z, dz, \"M4b: fast buoyancy indirect - qdot only discharging\")\n",
    "    #plot_results_time(results4b, dt, \"M4b: fast buoyancy (only indirect discharging), Temperature development of each layer over time.)\")\n",
    "\n",
    "# MODEL 4c - fast buoy (qdot separate)\n",
    "tank_vector4c = HeatDistributionVector_model4c(alpha, beta_i, beta_bottom, beta_top, lambda_i, phi_i, z, T_a, T_zero, dt, Qdot_char, Qdot_dischar, mdot, Tm)\n",
    "stability4c = tank_vector4c.stability_check()\n",
    "if (stability4c == 0):\n",
    "    # Solve for the temperatures\n",
    "    final_temperature4c, results4c = tank_vector4c.vector_solve(num_steps)\n",
    "    # Plot the results\n",
    "    plot_results_height(results4c, tank_vector4c.heights, dt, z, dz, \"M4c: fast buoyancy indirect - qdot manually separated (charge/discharge)\")\n",
    "    #plot_results_time(results4c, dt, \"M4: fast buoyancy (only indirect charging), Temperature development of each layer over time.)\")\n",
    "    \n",
    "\n",
    "# MODEL 4d - fast buoy (qdot together)\n",
    "tank_vector4d = HeatDistributionVector_model4d(alpha, beta_i, beta_bottom, beta_top, lambda_i, phi_i, z, T_a, T_zero, dt, Qdot, mdot, Tm)\n",
    "stability4d = tank_vector4d.stability_check()\n",
    "if (stability4d == 0):\n",
    "    # Solve for the temperatures\n",
    "    final_temperature4d, results4d = tank_vector4d.vector_solve(num_steps)\n",
    "    # Plot the results\n",
    "    plot_results_height(results4d, tank_vector4d.heights, dt, z, dz, \"M4d: fast buoyancy indirect - qdot NOT separated (charge/discharge together)\")\n",
    "    #plot_results_time(results4, dt, \"M4: fast buoyancy (only indirect charging), Temperature development of each layer over time.)\")\n",
    "    \n",
    "\n",
    "# MODEL 4 - fast buoy (qdot integrated)\n",
    "tank_vector4 = HeatDistributionVector_model4(alpha, beta_i, beta_bottom, beta_top, lambda_i, phi_i, z, T_a, T_zero, dt, Qdot, mdot, Tm)\n",
    "stability4 = tank_vector4.stability_check()\n",
    "if (stability4 == 0):\n",
    "    # Solve for the temperatures\n",
    "    final_temperature4, results4 = tank_vector4.vector_solve(num_steps)\n",
    "    # Plot the results\n",
    "    plot_results_height(results4, tank_vector4.heights, dt, z, dz, \"M4: fast buoyancy indirect - qdot separated in code (charge/discharge)\")\n",
    "    plot_results_time(results4, dt, \"M4: fast buoyancy (only indirect charging), Temperature development of each layer over time.)\")\n",
    "    "
   ]
  }
 ],
 "metadata": {
  "kernelspec": {
   "display_name": "Python 3",
   "language": "python",
   "name": "python3"
  },
  "language_info": {
   "codemirror_mode": {
    "name": "ipython",
    "version": 3
   },
   "file_extension": ".py",
   "mimetype": "text/x-python",
   "name": "python",
   "nbconvert_exporter": "python",
   "pygments_lexer": "ipython3",
   "version": "3.11.9"
  }
 },
 "nbformat": 4,
 "nbformat_minor": 2
}

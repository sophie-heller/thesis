{
 "cells": [
  {
   "cell_type": "code",
   "execution_count": 2,
   "metadata": {},
   "outputs": [
    {
     "name": "stdout",
     "output_type": "stream",
     "text": [
      "Heat diffusivity: False\n",
      "Heat losses: False\n",
      "Fast Buoyancy, direct charging qdot: True\n",
      "Slow Buoyancy: False\n"
     ]
    },
    {
     "data": {
      "application/vnd.plotly.v1+json": {
       "config": {
        "plotlyServerURL": "https://plot.ly"
       },
       "data": [
        {
         "mode": "lines",
         "name": "0 seconds",
         "type": "scatter",
         "x": [
          0.10495000000000002,
          0.3148500000000001,
          0.52475,
          0.7346500000000001,
          0.9445500000000001,
          1.1544500000000002,
          1.3643500000000004,
          1.5742500000000004,
          1.7841500000000003,
          1.9940500000000003
         ],
         "y": [
          70,
          69,
          68,
          67,
          66,
          65,
          64,
          63,
          62,
          61
         ]
        },
        {
         "mode": "lines",
         "name": "60 seconds",
         "type": "scatter",
         "x": [
          0.10495000000000002,
          0.3148500000000001,
          0.52475,
          0.7346500000000001,
          0.9445500000000001,
          1.1544500000000002,
          1.3643500000000004,
          1.5742500000000004,
          1.7841500000000003,
          1.9940500000000003
         ],
         "y": [
          70,
          69,
          67.4156618966712,
          66.4156618966712,
          65.4156618966712,
          64.4156618966712,
          63.41566189667119,
          65.92169051664405,
          65.31124925219659,
          64.70080798774913
         ]
        },
        {
         "mode": "lines",
         "name": "120 seconds",
         "type": "scatter",
         "x": [
          0.10495000000000002,
          0.3148500000000001,
          0.52475,
          0.7346500000000001,
          0.9445500000000001,
          1.1544500000000002,
          1.3643500000000004,
          1.5742500000000004,
          1.7841500000000003,
          1.9940500000000003
         ],
         "y": [
          70,
          69,
          66.83132379334239,
          65.83132379334239,
          64.83132379334239,
          63.831323793342385,
          64.88002990735384,
          68.42605201006354,
          68.05341347272332,
          67.68077493538311
         ]
        },
        {
         "mode": "lines",
         "name": "180 seconds",
         "type": "scatter",
         "x": [
          0.10495000000000002,
          0.3148500000000001,
          0.52475,
          0.7346500000000001,
          0.9445500000000001,
          1.1544500000000002,
          1.3643500000000004,
          1.5742500000000004,
          1.7841500000000003,
          1.9940500000000003
         ],
         "y": [
          70,
          69,
          66.24698569001359,
          65.24698569001359,
          64.24698569001357,
          64.44412273495317,
          66.95210573721327,
          70.5352536847944,
          70.30777974487857,
          70.08030580496276
         ]
        },
        {
         "mode": "lines",
         "name": "240 seconds",
         "type": "scatter",
         "x": [
          0.10495000000000002,
          0.3148500000000001,
          0.52475,
          0.7346500000000001,
          0.9445500000000001,
          1.1544500000000002,
          1.3643500000000004,
          1.5742500000000004,
          1.7841500000000003,
          1.9940500000000003
         ],
         "y": [
          70,
          69,
          65.66264758668478,
          64.66264758668477,
          64.36218037694942,
          65.90963276567473,
          69.04587561284934,
          72.29017652782817,
          72.15131704831711,
          72.01245756880606
         ]
        },
        {
         "mode": "lines",
         "name": "300 seconds",
         "type": "scatter",
         "x": [
          0.10495000000000002,
          0.3148500000000001,
          0.52475,
          0.7346500000000001,
          0.9445500000000001,
          1.1544500000000002,
          1.3643500000000004,
          1.5742500000000004,
          1.7841500000000003,
          1.9940500000000003
         ],
         "y": [
          70,
          69,
          65.07830948335597,
          64.48707314723552,
          65.2664157707688,
          67.74225896257128,
          70.94164425613599,
          73.73779714614663,
          73.65303158989339,
          73.56826603364014
         ]
        },
        {
         "mode": "lines",
         "name": "360 seconds",
         "type": "scatter",
         "x": [
          0.10495000000000002,
          0.3148500000000001,
          0.52475,
          0.7346500000000001,
          0.9445500000000001,
          1.1544500000000002,
          1.3643500000000004,
          1.5742500000000004,
          1.7841500000000003,
          1.9940500000000003
         ],
         "y": [
          70,
          69,
          64.73282756408827,
          64.94247273771425,
          66.71314528560622,
          69.61178169683097,
          72.57554293250217,
          74.92452389599453,
          74.8727795026537,
          74.82103510931287
         ]
        },
        {
         "mode": "lines",
         "name": "420 seconds",
         "type": "scatter",
         "x": [
          0.10495000000000002,
          0.3148500000000001,
          0.52475,
          0.7346500000000001,
          0.9445500000000001,
          1.1544500000000002,
          1.3643500000000004,
          1.5742500000000004,
          1.7841500000000003,
          1.9940500000000003
         ],
         "y": [
          70,
          69,
          64.85533122721692,
          65.97714417596583,
          68.40692898838113,
          71.34362031600253,
          73.94814201346477,
          75.8929644422545,
          75.86137752935545,
          75.8297906164564
         ]
        },
        {
         "mode": "lines",
         "name": "480 seconds",
         "type": "scatter",
         "x": [
          0.10495000000000002,
          0.3148500000000001,
          0.52475,
          0.7346500000000001,
          0.9445500000000001,
          1.1544500000000002,
          1.3643500000000004,
          1.5742500000000004,
          1.7841500000000003,
          1.9940500000000003
         ],
         "y": [
          70,
          69,
          65.51084927797856,
          67.39696002474973,
          70.12294962882558,
          72.86554158477635,
          75.08457586281509,
          76.68062527377786,
          76.66134331872779,
          76.6420613636777
         ]
        },
        {
         "mode": "lines",
         "name": "540 seconds",
         "type": "scatter",
         "x": [
          0.10495000000000002,
          0.3148500000000001,
          0.52475,
          0.7346500000000001,
          0.9445500000000001,
          1.1544500000000002,
          1.3643500000000004,
          1.5742500000000004,
          1.7841500000000003,
          1.9940500000000003
         ],
         "y": [
          70,
          69,
          66.61297565441491,
          68.98985961968947,
          71.7255506105707,
          74.16220786602712,
          76.01720834843614,
          77.31965953033566,
          77.30788902931386,
          77.29611852829207
         ]
        },
        {
         "mode": "lines",
         "name": "600 seconds",
         "type": "scatter",
         "x": [
          0.10495000000000002,
          0.3148500000000001,
          0.52475,
          0.7346500000000001,
          0.9445500000000001,
          1.1544500000000002,
          1.3643500000000004,
          1.5742500000000004,
          1.7841500000000003,
          1.9940500000000003
         ],
         "y": [
          70,
          69,
          68.0018795225161,
          70.58842810459473,
          73.14938228968649,
          75.24615532959203,
          76.77828020174567,
          77.83714925094715,
          77.82996405142023,
          77.8227788518933
         ]
        }
       ],
       "layout": {
        "legend": {
         "title": {
          "text": "Time Passed"
         }
        },
        "shapes": [
         {
          "line": {
           "color": "grey",
           "dash": "dot",
           "width": 1
          },
          "type": "line",
          "x0": 0.20990000000000003,
          "x1": 0.20990000000000003,
          "xref": "x",
          "y0": 0,
          "y1": 1,
          "yref": "paper"
         },
         {
          "line": {
           "color": "grey",
           "dash": "dot",
           "width": 1
          },
          "type": "line",
          "x0": 0.41980000000000006,
          "x1": 0.41980000000000006,
          "xref": "x",
          "y0": 0,
          "y1": 1,
          "yref": "paper"
         },
         {
          "line": {
           "color": "grey",
           "dash": "dot",
           "width": 1
          },
          "type": "line",
          "x0": 0.6297000000000001,
          "x1": 0.6297000000000001,
          "xref": "x",
          "y0": 0,
          "y1": 1,
          "yref": "paper"
         },
         {
          "line": {
           "color": "grey",
           "dash": "dot",
           "width": 1
          },
          "type": "line",
          "x0": 0.8396000000000001,
          "x1": 0.8396000000000001,
          "xref": "x",
          "y0": 0,
          "y1": 1,
          "yref": "paper"
         },
         {
          "line": {
           "color": "grey",
           "dash": "dot",
           "width": 1
          },
          "type": "line",
          "x0": 1.0495,
          "x1": 1.0495,
          "xref": "x",
          "y0": 0,
          "y1": 1,
          "yref": "paper"
         },
         {
          "line": {
           "color": "grey",
           "dash": "dot",
           "width": 1
          },
          "type": "line",
          "x0": 1.2594,
          "x1": 1.2594,
          "xref": "x",
          "y0": 0,
          "y1": 1,
          "yref": "paper"
         },
         {
          "line": {
           "color": "grey",
           "dash": "dot",
           "width": 1
          },
          "type": "line",
          "x0": 1.4693000000000003,
          "x1": 1.4693000000000003,
          "xref": "x",
          "y0": 0,
          "y1": 1,
          "yref": "paper"
         },
         {
          "line": {
           "color": "grey",
           "dash": "dot",
           "width": 1
          },
          "type": "line",
          "x0": 1.6792000000000002,
          "x1": 1.6792000000000002,
          "xref": "x",
          "y0": 0,
          "y1": 1,
          "yref": "paper"
         },
         {
          "line": {
           "color": "grey",
           "dash": "dot",
           "width": 1
          },
          "type": "line",
          "x0": 1.8891000000000002,
          "x1": 1.8891000000000002,
          "xref": "x",
          "y0": 0,
          "y1": 1,
          "yref": "paper"
         }
        ],
        "template": {
         "data": {
          "bar": [
           {
            "error_x": {
             "color": "#2a3f5f"
            },
            "error_y": {
             "color": "#2a3f5f"
            },
            "marker": {
             "line": {
              "color": "#E5ECF6",
              "width": 0.5
             },
             "pattern": {
              "fillmode": "overlay",
              "size": 10,
              "solidity": 0.2
             }
            },
            "type": "bar"
           }
          ],
          "barpolar": [
           {
            "marker": {
             "line": {
              "color": "#E5ECF6",
              "width": 0.5
             },
             "pattern": {
              "fillmode": "overlay",
              "size": 10,
              "solidity": 0.2
             }
            },
            "type": "barpolar"
           }
          ],
          "carpet": [
           {
            "aaxis": {
             "endlinecolor": "#2a3f5f",
             "gridcolor": "white",
             "linecolor": "white",
             "minorgridcolor": "white",
             "startlinecolor": "#2a3f5f"
            },
            "baxis": {
             "endlinecolor": "#2a3f5f",
             "gridcolor": "white",
             "linecolor": "white",
             "minorgridcolor": "white",
             "startlinecolor": "#2a3f5f"
            },
            "type": "carpet"
           }
          ],
          "choropleth": [
           {
            "colorbar": {
             "outlinewidth": 0,
             "ticks": ""
            },
            "type": "choropleth"
           }
          ],
          "contour": [
           {
            "colorbar": {
             "outlinewidth": 0,
             "ticks": ""
            },
            "colorscale": [
             [
              0,
              "#0d0887"
             ],
             [
              0.1111111111111111,
              "#46039f"
             ],
             [
              0.2222222222222222,
              "#7201a8"
             ],
             [
              0.3333333333333333,
              "#9c179e"
             ],
             [
              0.4444444444444444,
              "#bd3786"
             ],
             [
              0.5555555555555556,
              "#d8576b"
             ],
             [
              0.6666666666666666,
              "#ed7953"
             ],
             [
              0.7777777777777778,
              "#fb9f3a"
             ],
             [
              0.8888888888888888,
              "#fdca26"
             ],
             [
              1,
              "#f0f921"
             ]
            ],
            "type": "contour"
           }
          ],
          "contourcarpet": [
           {
            "colorbar": {
             "outlinewidth": 0,
             "ticks": ""
            },
            "type": "contourcarpet"
           }
          ],
          "heatmap": [
           {
            "colorbar": {
             "outlinewidth": 0,
             "ticks": ""
            },
            "colorscale": [
             [
              0,
              "#0d0887"
             ],
             [
              0.1111111111111111,
              "#46039f"
             ],
             [
              0.2222222222222222,
              "#7201a8"
             ],
             [
              0.3333333333333333,
              "#9c179e"
             ],
             [
              0.4444444444444444,
              "#bd3786"
             ],
             [
              0.5555555555555556,
              "#d8576b"
             ],
             [
              0.6666666666666666,
              "#ed7953"
             ],
             [
              0.7777777777777778,
              "#fb9f3a"
             ],
             [
              0.8888888888888888,
              "#fdca26"
             ],
             [
              1,
              "#f0f921"
             ]
            ],
            "type": "heatmap"
           }
          ],
          "heatmapgl": [
           {
            "colorbar": {
             "outlinewidth": 0,
             "ticks": ""
            },
            "colorscale": [
             [
              0,
              "#0d0887"
             ],
             [
              0.1111111111111111,
              "#46039f"
             ],
             [
              0.2222222222222222,
              "#7201a8"
             ],
             [
              0.3333333333333333,
              "#9c179e"
             ],
             [
              0.4444444444444444,
              "#bd3786"
             ],
             [
              0.5555555555555556,
              "#d8576b"
             ],
             [
              0.6666666666666666,
              "#ed7953"
             ],
             [
              0.7777777777777778,
              "#fb9f3a"
             ],
             [
              0.8888888888888888,
              "#fdca26"
             ],
             [
              1,
              "#f0f921"
             ]
            ],
            "type": "heatmapgl"
           }
          ],
          "histogram": [
           {
            "marker": {
             "pattern": {
              "fillmode": "overlay",
              "size": 10,
              "solidity": 0.2
             }
            },
            "type": "histogram"
           }
          ],
          "histogram2d": [
           {
            "colorbar": {
             "outlinewidth": 0,
             "ticks": ""
            },
            "colorscale": [
             [
              0,
              "#0d0887"
             ],
             [
              0.1111111111111111,
              "#46039f"
             ],
             [
              0.2222222222222222,
              "#7201a8"
             ],
             [
              0.3333333333333333,
              "#9c179e"
             ],
             [
              0.4444444444444444,
              "#bd3786"
             ],
             [
              0.5555555555555556,
              "#d8576b"
             ],
             [
              0.6666666666666666,
              "#ed7953"
             ],
             [
              0.7777777777777778,
              "#fb9f3a"
             ],
             [
              0.8888888888888888,
              "#fdca26"
             ],
             [
              1,
              "#f0f921"
             ]
            ],
            "type": "histogram2d"
           }
          ],
          "histogram2dcontour": [
           {
            "colorbar": {
             "outlinewidth": 0,
             "ticks": ""
            },
            "colorscale": [
             [
              0,
              "#0d0887"
             ],
             [
              0.1111111111111111,
              "#46039f"
             ],
             [
              0.2222222222222222,
              "#7201a8"
             ],
             [
              0.3333333333333333,
              "#9c179e"
             ],
             [
              0.4444444444444444,
              "#bd3786"
             ],
             [
              0.5555555555555556,
              "#d8576b"
             ],
             [
              0.6666666666666666,
              "#ed7953"
             ],
             [
              0.7777777777777778,
              "#fb9f3a"
             ],
             [
              0.8888888888888888,
              "#fdca26"
             ],
             [
              1,
              "#f0f921"
             ]
            ],
            "type": "histogram2dcontour"
           }
          ],
          "mesh3d": [
           {
            "colorbar": {
             "outlinewidth": 0,
             "ticks": ""
            },
            "type": "mesh3d"
           }
          ],
          "parcoords": [
           {
            "line": {
             "colorbar": {
              "outlinewidth": 0,
              "ticks": ""
             }
            },
            "type": "parcoords"
           }
          ],
          "pie": [
           {
            "automargin": true,
            "type": "pie"
           }
          ],
          "scatter": [
           {
            "fillpattern": {
             "fillmode": "overlay",
             "size": 10,
             "solidity": 0.2
            },
            "type": "scatter"
           }
          ],
          "scatter3d": [
           {
            "line": {
             "colorbar": {
              "outlinewidth": 0,
              "ticks": ""
             }
            },
            "marker": {
             "colorbar": {
              "outlinewidth": 0,
              "ticks": ""
             }
            },
            "type": "scatter3d"
           }
          ],
          "scattercarpet": [
           {
            "marker": {
             "colorbar": {
              "outlinewidth": 0,
              "ticks": ""
             }
            },
            "type": "scattercarpet"
           }
          ],
          "scattergeo": [
           {
            "marker": {
             "colorbar": {
              "outlinewidth": 0,
              "ticks": ""
             }
            },
            "type": "scattergeo"
           }
          ],
          "scattergl": [
           {
            "marker": {
             "colorbar": {
              "outlinewidth": 0,
              "ticks": ""
             }
            },
            "type": "scattergl"
           }
          ],
          "scattermapbox": [
           {
            "marker": {
             "colorbar": {
              "outlinewidth": 0,
              "ticks": ""
             }
            },
            "type": "scattermapbox"
           }
          ],
          "scatterpolar": [
           {
            "marker": {
             "colorbar": {
              "outlinewidth": 0,
              "ticks": ""
             }
            },
            "type": "scatterpolar"
           }
          ],
          "scatterpolargl": [
           {
            "marker": {
             "colorbar": {
              "outlinewidth": 0,
              "ticks": ""
             }
            },
            "type": "scatterpolargl"
           }
          ],
          "scatterternary": [
           {
            "marker": {
             "colorbar": {
              "outlinewidth": 0,
              "ticks": ""
             }
            },
            "type": "scatterternary"
           }
          ],
          "surface": [
           {
            "colorbar": {
             "outlinewidth": 0,
             "ticks": ""
            },
            "colorscale": [
             [
              0,
              "#0d0887"
             ],
             [
              0.1111111111111111,
              "#46039f"
             ],
             [
              0.2222222222222222,
              "#7201a8"
             ],
             [
              0.3333333333333333,
              "#9c179e"
             ],
             [
              0.4444444444444444,
              "#bd3786"
             ],
             [
              0.5555555555555556,
              "#d8576b"
             ],
             [
              0.6666666666666666,
              "#ed7953"
             ],
             [
              0.7777777777777778,
              "#fb9f3a"
             ],
             [
              0.8888888888888888,
              "#fdca26"
             ],
             [
              1,
              "#f0f921"
             ]
            ],
            "type": "surface"
           }
          ],
          "table": [
           {
            "cells": {
             "fill": {
              "color": "#EBF0F8"
             },
             "line": {
              "color": "white"
             }
            },
            "header": {
             "fill": {
              "color": "#C8D4E3"
             },
             "line": {
              "color": "white"
             }
            },
            "type": "table"
           }
          ]
         },
         "layout": {
          "annotationdefaults": {
           "arrowcolor": "#2a3f5f",
           "arrowhead": 0,
           "arrowwidth": 1
          },
          "autotypenumbers": "strict",
          "coloraxis": {
           "colorbar": {
            "outlinewidth": 0,
            "ticks": ""
           }
          },
          "colorscale": {
           "diverging": [
            [
             0,
             "#8e0152"
            ],
            [
             0.1,
             "#c51b7d"
            ],
            [
             0.2,
             "#de77ae"
            ],
            [
             0.3,
             "#f1b6da"
            ],
            [
             0.4,
             "#fde0ef"
            ],
            [
             0.5,
             "#f7f7f7"
            ],
            [
             0.6,
             "#e6f5d0"
            ],
            [
             0.7,
             "#b8e186"
            ],
            [
             0.8,
             "#7fbc41"
            ],
            [
             0.9,
             "#4d9221"
            ],
            [
             1,
             "#276419"
            ]
           ],
           "sequential": [
            [
             0,
             "#0d0887"
            ],
            [
             0.1111111111111111,
             "#46039f"
            ],
            [
             0.2222222222222222,
             "#7201a8"
            ],
            [
             0.3333333333333333,
             "#9c179e"
            ],
            [
             0.4444444444444444,
             "#bd3786"
            ],
            [
             0.5555555555555556,
             "#d8576b"
            ],
            [
             0.6666666666666666,
             "#ed7953"
            ],
            [
             0.7777777777777778,
             "#fb9f3a"
            ],
            [
             0.8888888888888888,
             "#fdca26"
            ],
            [
             1,
             "#f0f921"
            ]
           ],
           "sequentialminus": [
            [
             0,
             "#0d0887"
            ],
            [
             0.1111111111111111,
             "#46039f"
            ],
            [
             0.2222222222222222,
             "#7201a8"
            ],
            [
             0.3333333333333333,
             "#9c179e"
            ],
            [
             0.4444444444444444,
             "#bd3786"
            ],
            [
             0.5555555555555556,
             "#d8576b"
            ],
            [
             0.6666666666666666,
             "#ed7953"
            ],
            [
             0.7777777777777778,
             "#fb9f3a"
            ],
            [
             0.8888888888888888,
             "#fdca26"
            ],
            [
             1,
             "#f0f921"
            ]
           ]
          },
          "colorway": [
           "#636efa",
           "#EF553B",
           "#00cc96",
           "#ab63fa",
           "#FFA15A",
           "#19d3f3",
           "#FF6692",
           "#B6E880",
           "#FF97FF",
           "#FECB52"
          ],
          "font": {
           "color": "#2a3f5f"
          },
          "geo": {
           "bgcolor": "white",
           "lakecolor": "white",
           "landcolor": "#E5ECF6",
           "showlakes": true,
           "showland": true,
           "subunitcolor": "white"
          },
          "hoverlabel": {
           "align": "left"
          },
          "hovermode": "closest",
          "mapbox": {
           "style": "light"
          },
          "paper_bgcolor": "white",
          "plot_bgcolor": "#E5ECF6",
          "polar": {
           "angularaxis": {
            "gridcolor": "white",
            "linecolor": "white",
            "ticks": ""
           },
           "bgcolor": "#E5ECF6",
           "radialaxis": {
            "gridcolor": "white",
            "linecolor": "white",
            "ticks": ""
           }
          },
          "scene": {
           "xaxis": {
            "backgroundcolor": "#E5ECF6",
            "gridcolor": "white",
            "gridwidth": 2,
            "linecolor": "white",
            "showbackground": true,
            "ticks": "",
            "zerolinecolor": "white"
           },
           "yaxis": {
            "backgroundcolor": "#E5ECF6",
            "gridcolor": "white",
            "gridwidth": 2,
            "linecolor": "white",
            "showbackground": true,
            "ticks": "",
            "zerolinecolor": "white"
           },
           "zaxis": {
            "backgroundcolor": "#E5ECF6",
            "gridcolor": "white",
            "gridwidth": 2,
            "linecolor": "white",
            "showbackground": true,
            "ticks": "",
            "zerolinecolor": "white"
           }
          },
          "shapedefaults": {
           "line": {
            "color": "#2a3f5f"
           }
          },
          "ternary": {
           "aaxis": {
            "gridcolor": "white",
            "linecolor": "white",
            "ticks": ""
           },
           "baxis": {
            "gridcolor": "white",
            "linecolor": "white",
            "ticks": ""
           },
           "bgcolor": "#E5ECF6",
           "caxis": {
            "gridcolor": "white",
            "linecolor": "white",
            "ticks": ""
           }
          },
          "title": {
           "x": 0.05
          },
          "xaxis": {
           "automargin": true,
           "gridcolor": "white",
           "linecolor": "white",
           "ticks": "",
           "title": {
            "standoff": 15
           },
           "zerolinecolor": "white",
           "zerolinewidth": 2
          },
          "yaxis": {
           "automargin": true,
           "gridcolor": "white",
           "linecolor": "white",
           "ticks": "",
           "title": {
            "standoff": 15
           },
           "zerolinecolor": "white",
           "zerolinewidth": 2
          }
         }
        },
        "title": {
         "text": "Layer temperatures over tank height. M5: integrated direct charging"
        },
        "xaxis": {
         "range": [
          0,
          2.099
         ],
         "title": {
          "text": "Height"
         }
        },
        "yaxis": {
         "title": {
          "text": "Temperature"
         }
        }
       }
      }
     },
     "metadata": {},
     "output_type": "display_data"
    },
    {
     "data": {
      "application/vnd.plotly.v1+json": {
       "config": {
        "plotlyServerURL": "https://plot.ly"
       },
       "data": [
        {
         "mode": "lines",
         "name": "Layer 0",
         "type": "scatter",
         "x": [
          0,
          60,
          120,
          180,
          240,
          300,
          360,
          420,
          480,
          540,
          600
         ],
         "y": [
          70,
          70,
          70,
          70,
          70,
          70,
          70,
          70,
          70,
          70,
          70
         ]
        },
        {
         "mode": "lines",
         "name": "Layer 1",
         "type": "scatter",
         "x": [
          0,
          60,
          120,
          180,
          240,
          300,
          360,
          420,
          480,
          540,
          600
         ],
         "y": [
          69,
          69,
          69,
          69,
          69,
          69,
          69,
          69,
          69,
          69,
          69
         ]
        },
        {
         "mode": "lines",
         "name": "Layer 2",
         "type": "scatter",
         "x": [
          0,
          60,
          120,
          180,
          240,
          300,
          360,
          420,
          480,
          540,
          600
         ],
         "y": [
          68,
          67.4156618966712,
          66.83132379334239,
          66.24698569001359,
          65.66264758668478,
          65.07830948335597,
          64.73282756408827,
          64.85533122721692,
          65.51084927797856,
          66.61297565441491,
          68.0018795225161
         ]
        },
        {
         "mode": "lines",
         "name": "Layer 3",
         "type": "scatter",
         "x": [
          0,
          60,
          120,
          180,
          240,
          300,
          360,
          420,
          480,
          540,
          600
         ],
         "y": [
          67,
          66.4156618966712,
          65.83132379334239,
          65.24698569001359,
          64.66264758668477,
          64.48707314723552,
          64.94247273771425,
          65.97714417596583,
          67.39696002474973,
          68.98985961968947,
          70.58842810459473
         ]
        },
        {
         "mode": "lines",
         "name": "Layer 4",
         "type": "scatter",
         "x": [
          0,
          60,
          120,
          180,
          240,
          300,
          360,
          420,
          480,
          540,
          600
         ],
         "y": [
          66,
          65.4156618966712,
          64.83132379334239,
          64.24698569001357,
          64.36218037694942,
          65.2664157707688,
          66.71314528560622,
          68.40692898838113,
          70.12294962882558,
          71.7255506105707,
          73.14938228968649
         ]
        },
        {
         "mode": "lines",
         "name": "Layer 5",
         "type": "scatter",
         "x": [
          0,
          60,
          120,
          180,
          240,
          300,
          360,
          420,
          480,
          540,
          600
         ],
         "y": [
          65,
          64.4156618966712,
          63.831323793342385,
          64.44412273495317,
          65.90963276567473,
          67.74225896257128,
          69.61178169683097,
          71.34362031600253,
          72.86554158477635,
          74.16220786602712,
          75.24615532959203
         ]
        },
        {
         "mode": "lines",
         "name": "Layer 6",
         "type": "scatter",
         "x": [
          0,
          60,
          120,
          180,
          240,
          300,
          360,
          420,
          480,
          540,
          600
         ],
         "y": [
          64,
          63.41566189667119,
          64.88002990735384,
          66.95210573721327,
          69.04587561284934,
          70.94164425613599,
          72.57554293250217,
          73.94814201346477,
          75.08457586281509,
          76.01720834843614,
          76.77828020174567
         ]
        },
        {
         "mode": "lines",
         "name": "Layer 7",
         "type": "scatter",
         "x": [
          0,
          60,
          120,
          180,
          240,
          300,
          360,
          420,
          480,
          540,
          600
         ],
         "y": [
          63,
          65.92169051664405,
          68.42605201006354,
          70.5352536847944,
          72.29017652782817,
          73.73779714614663,
          74.92452389599453,
          75.8929644422545,
          76.68062527377786,
          77.31965953033566,
          77.83714925094715
         ]
        },
        {
         "mode": "lines",
         "name": "Layer 8",
         "type": "scatter",
         "x": [
          0,
          60,
          120,
          180,
          240,
          300,
          360,
          420,
          480,
          540,
          600
         ],
         "y": [
          62,
          65.31124925219659,
          68.05341347272332,
          70.30777974487857,
          72.15131704831711,
          73.65303158989339,
          74.8727795026537,
          75.86137752935545,
          76.66134331872779,
          77.30788902931386,
          77.82996405142023
         ]
        },
        {
         "mode": "lines",
         "name": "Layer 9",
         "type": "scatter",
         "x": [
          0,
          60,
          120,
          180,
          240,
          300,
          360,
          420,
          480,
          540,
          600
         ],
         "y": [
          61,
          64.70080798774913,
          67.68077493538311,
          70.08030580496276,
          72.01245756880606,
          73.56826603364014,
          74.82103510931287,
          75.8297906164564,
          76.6420613636777,
          77.29611852829207,
          77.8227788518933
         ]
        }
       ],
       "layout": {
        "template": {
         "data": {
          "bar": [
           {
            "error_x": {
             "color": "#2a3f5f"
            },
            "error_y": {
             "color": "#2a3f5f"
            },
            "marker": {
             "line": {
              "color": "#E5ECF6",
              "width": 0.5
             },
             "pattern": {
              "fillmode": "overlay",
              "size": 10,
              "solidity": 0.2
             }
            },
            "type": "bar"
           }
          ],
          "barpolar": [
           {
            "marker": {
             "line": {
              "color": "#E5ECF6",
              "width": 0.5
             },
             "pattern": {
              "fillmode": "overlay",
              "size": 10,
              "solidity": 0.2
             }
            },
            "type": "barpolar"
           }
          ],
          "carpet": [
           {
            "aaxis": {
             "endlinecolor": "#2a3f5f",
             "gridcolor": "white",
             "linecolor": "white",
             "minorgridcolor": "white",
             "startlinecolor": "#2a3f5f"
            },
            "baxis": {
             "endlinecolor": "#2a3f5f",
             "gridcolor": "white",
             "linecolor": "white",
             "minorgridcolor": "white",
             "startlinecolor": "#2a3f5f"
            },
            "type": "carpet"
           }
          ],
          "choropleth": [
           {
            "colorbar": {
             "outlinewidth": 0,
             "ticks": ""
            },
            "type": "choropleth"
           }
          ],
          "contour": [
           {
            "colorbar": {
             "outlinewidth": 0,
             "ticks": ""
            },
            "colorscale": [
             [
              0,
              "#0d0887"
             ],
             [
              0.1111111111111111,
              "#46039f"
             ],
             [
              0.2222222222222222,
              "#7201a8"
             ],
             [
              0.3333333333333333,
              "#9c179e"
             ],
             [
              0.4444444444444444,
              "#bd3786"
             ],
             [
              0.5555555555555556,
              "#d8576b"
             ],
             [
              0.6666666666666666,
              "#ed7953"
             ],
             [
              0.7777777777777778,
              "#fb9f3a"
             ],
             [
              0.8888888888888888,
              "#fdca26"
             ],
             [
              1,
              "#f0f921"
             ]
            ],
            "type": "contour"
           }
          ],
          "contourcarpet": [
           {
            "colorbar": {
             "outlinewidth": 0,
             "ticks": ""
            },
            "type": "contourcarpet"
           }
          ],
          "heatmap": [
           {
            "colorbar": {
             "outlinewidth": 0,
             "ticks": ""
            },
            "colorscale": [
             [
              0,
              "#0d0887"
             ],
             [
              0.1111111111111111,
              "#46039f"
             ],
             [
              0.2222222222222222,
              "#7201a8"
             ],
             [
              0.3333333333333333,
              "#9c179e"
             ],
             [
              0.4444444444444444,
              "#bd3786"
             ],
             [
              0.5555555555555556,
              "#d8576b"
             ],
             [
              0.6666666666666666,
              "#ed7953"
             ],
             [
              0.7777777777777778,
              "#fb9f3a"
             ],
             [
              0.8888888888888888,
              "#fdca26"
             ],
             [
              1,
              "#f0f921"
             ]
            ],
            "type": "heatmap"
           }
          ],
          "heatmapgl": [
           {
            "colorbar": {
             "outlinewidth": 0,
             "ticks": ""
            },
            "colorscale": [
             [
              0,
              "#0d0887"
             ],
             [
              0.1111111111111111,
              "#46039f"
             ],
             [
              0.2222222222222222,
              "#7201a8"
             ],
             [
              0.3333333333333333,
              "#9c179e"
             ],
             [
              0.4444444444444444,
              "#bd3786"
             ],
             [
              0.5555555555555556,
              "#d8576b"
             ],
             [
              0.6666666666666666,
              "#ed7953"
             ],
             [
              0.7777777777777778,
              "#fb9f3a"
             ],
             [
              0.8888888888888888,
              "#fdca26"
             ],
             [
              1,
              "#f0f921"
             ]
            ],
            "type": "heatmapgl"
           }
          ],
          "histogram": [
           {
            "marker": {
             "pattern": {
              "fillmode": "overlay",
              "size": 10,
              "solidity": 0.2
             }
            },
            "type": "histogram"
           }
          ],
          "histogram2d": [
           {
            "colorbar": {
             "outlinewidth": 0,
             "ticks": ""
            },
            "colorscale": [
             [
              0,
              "#0d0887"
             ],
             [
              0.1111111111111111,
              "#46039f"
             ],
             [
              0.2222222222222222,
              "#7201a8"
             ],
             [
              0.3333333333333333,
              "#9c179e"
             ],
             [
              0.4444444444444444,
              "#bd3786"
             ],
             [
              0.5555555555555556,
              "#d8576b"
             ],
             [
              0.6666666666666666,
              "#ed7953"
             ],
             [
              0.7777777777777778,
              "#fb9f3a"
             ],
             [
              0.8888888888888888,
              "#fdca26"
             ],
             [
              1,
              "#f0f921"
             ]
            ],
            "type": "histogram2d"
           }
          ],
          "histogram2dcontour": [
           {
            "colorbar": {
             "outlinewidth": 0,
             "ticks": ""
            },
            "colorscale": [
             [
              0,
              "#0d0887"
             ],
             [
              0.1111111111111111,
              "#46039f"
             ],
             [
              0.2222222222222222,
              "#7201a8"
             ],
             [
              0.3333333333333333,
              "#9c179e"
             ],
             [
              0.4444444444444444,
              "#bd3786"
             ],
             [
              0.5555555555555556,
              "#d8576b"
             ],
             [
              0.6666666666666666,
              "#ed7953"
             ],
             [
              0.7777777777777778,
              "#fb9f3a"
             ],
             [
              0.8888888888888888,
              "#fdca26"
             ],
             [
              1,
              "#f0f921"
             ]
            ],
            "type": "histogram2dcontour"
           }
          ],
          "mesh3d": [
           {
            "colorbar": {
             "outlinewidth": 0,
             "ticks": ""
            },
            "type": "mesh3d"
           }
          ],
          "parcoords": [
           {
            "line": {
             "colorbar": {
              "outlinewidth": 0,
              "ticks": ""
             }
            },
            "type": "parcoords"
           }
          ],
          "pie": [
           {
            "automargin": true,
            "type": "pie"
           }
          ],
          "scatter": [
           {
            "fillpattern": {
             "fillmode": "overlay",
             "size": 10,
             "solidity": 0.2
            },
            "type": "scatter"
           }
          ],
          "scatter3d": [
           {
            "line": {
             "colorbar": {
              "outlinewidth": 0,
              "ticks": ""
             }
            },
            "marker": {
             "colorbar": {
              "outlinewidth": 0,
              "ticks": ""
             }
            },
            "type": "scatter3d"
           }
          ],
          "scattercarpet": [
           {
            "marker": {
             "colorbar": {
              "outlinewidth": 0,
              "ticks": ""
             }
            },
            "type": "scattercarpet"
           }
          ],
          "scattergeo": [
           {
            "marker": {
             "colorbar": {
              "outlinewidth": 0,
              "ticks": ""
             }
            },
            "type": "scattergeo"
           }
          ],
          "scattergl": [
           {
            "marker": {
             "colorbar": {
              "outlinewidth": 0,
              "ticks": ""
             }
            },
            "type": "scattergl"
           }
          ],
          "scattermapbox": [
           {
            "marker": {
             "colorbar": {
              "outlinewidth": 0,
              "ticks": ""
             }
            },
            "type": "scattermapbox"
           }
          ],
          "scatterpolar": [
           {
            "marker": {
             "colorbar": {
              "outlinewidth": 0,
              "ticks": ""
             }
            },
            "type": "scatterpolar"
           }
          ],
          "scatterpolargl": [
           {
            "marker": {
             "colorbar": {
              "outlinewidth": 0,
              "ticks": ""
             }
            },
            "type": "scatterpolargl"
           }
          ],
          "scatterternary": [
           {
            "marker": {
             "colorbar": {
              "outlinewidth": 0,
              "ticks": ""
             }
            },
            "type": "scatterternary"
           }
          ],
          "surface": [
           {
            "colorbar": {
             "outlinewidth": 0,
             "ticks": ""
            },
            "colorscale": [
             [
              0,
              "#0d0887"
             ],
             [
              0.1111111111111111,
              "#46039f"
             ],
             [
              0.2222222222222222,
              "#7201a8"
             ],
             [
              0.3333333333333333,
              "#9c179e"
             ],
             [
              0.4444444444444444,
              "#bd3786"
             ],
             [
              0.5555555555555556,
              "#d8576b"
             ],
             [
              0.6666666666666666,
              "#ed7953"
             ],
             [
              0.7777777777777778,
              "#fb9f3a"
             ],
             [
              0.8888888888888888,
              "#fdca26"
             ],
             [
              1,
              "#f0f921"
             ]
            ],
            "type": "surface"
           }
          ],
          "table": [
           {
            "cells": {
             "fill": {
              "color": "#EBF0F8"
             },
             "line": {
              "color": "white"
             }
            },
            "header": {
             "fill": {
              "color": "#C8D4E3"
             },
             "line": {
              "color": "white"
             }
            },
            "type": "table"
           }
          ]
         },
         "layout": {
          "annotationdefaults": {
           "arrowcolor": "#2a3f5f",
           "arrowhead": 0,
           "arrowwidth": 1
          },
          "autotypenumbers": "strict",
          "coloraxis": {
           "colorbar": {
            "outlinewidth": 0,
            "ticks": ""
           }
          },
          "colorscale": {
           "diverging": [
            [
             0,
             "#8e0152"
            ],
            [
             0.1,
             "#c51b7d"
            ],
            [
             0.2,
             "#de77ae"
            ],
            [
             0.3,
             "#f1b6da"
            ],
            [
             0.4,
             "#fde0ef"
            ],
            [
             0.5,
             "#f7f7f7"
            ],
            [
             0.6,
             "#e6f5d0"
            ],
            [
             0.7,
             "#b8e186"
            ],
            [
             0.8,
             "#7fbc41"
            ],
            [
             0.9,
             "#4d9221"
            ],
            [
             1,
             "#276419"
            ]
           ],
           "sequential": [
            [
             0,
             "#0d0887"
            ],
            [
             0.1111111111111111,
             "#46039f"
            ],
            [
             0.2222222222222222,
             "#7201a8"
            ],
            [
             0.3333333333333333,
             "#9c179e"
            ],
            [
             0.4444444444444444,
             "#bd3786"
            ],
            [
             0.5555555555555556,
             "#d8576b"
            ],
            [
             0.6666666666666666,
             "#ed7953"
            ],
            [
             0.7777777777777778,
             "#fb9f3a"
            ],
            [
             0.8888888888888888,
             "#fdca26"
            ],
            [
             1,
             "#f0f921"
            ]
           ],
           "sequentialminus": [
            [
             0,
             "#0d0887"
            ],
            [
             0.1111111111111111,
             "#46039f"
            ],
            [
             0.2222222222222222,
             "#7201a8"
            ],
            [
             0.3333333333333333,
             "#9c179e"
            ],
            [
             0.4444444444444444,
             "#bd3786"
            ],
            [
             0.5555555555555556,
             "#d8576b"
            ],
            [
             0.6666666666666666,
             "#ed7953"
            ],
            [
             0.7777777777777778,
             "#fb9f3a"
            ],
            [
             0.8888888888888888,
             "#fdca26"
            ],
            [
             1,
             "#f0f921"
            ]
           ]
          },
          "colorway": [
           "#636efa",
           "#EF553B",
           "#00cc96",
           "#ab63fa",
           "#FFA15A",
           "#19d3f3",
           "#FF6692",
           "#B6E880",
           "#FF97FF",
           "#FECB52"
          ],
          "font": {
           "color": "#2a3f5f"
          },
          "geo": {
           "bgcolor": "white",
           "lakecolor": "white",
           "landcolor": "#E5ECF6",
           "showlakes": true,
           "showland": true,
           "subunitcolor": "white"
          },
          "hoverlabel": {
           "align": "left"
          },
          "hovermode": "closest",
          "mapbox": {
           "style": "light"
          },
          "paper_bgcolor": "white",
          "plot_bgcolor": "#E5ECF6",
          "polar": {
           "angularaxis": {
            "gridcolor": "white",
            "linecolor": "white",
            "ticks": ""
           },
           "bgcolor": "#E5ECF6",
           "radialaxis": {
            "gridcolor": "white",
            "linecolor": "white",
            "ticks": ""
           }
          },
          "scene": {
           "xaxis": {
            "backgroundcolor": "#E5ECF6",
            "gridcolor": "white",
            "gridwidth": 2,
            "linecolor": "white",
            "showbackground": true,
            "ticks": "",
            "zerolinecolor": "white"
           },
           "yaxis": {
            "backgroundcolor": "#E5ECF6",
            "gridcolor": "white",
            "gridwidth": 2,
            "linecolor": "white",
            "showbackground": true,
            "ticks": "",
            "zerolinecolor": "white"
           },
           "zaxis": {
            "backgroundcolor": "#E5ECF6",
            "gridcolor": "white",
            "gridwidth": 2,
            "linecolor": "white",
            "showbackground": true,
            "ticks": "",
            "zerolinecolor": "white"
           }
          },
          "shapedefaults": {
           "line": {
            "color": "#2a3f5f"
           }
          },
          "ternary": {
           "aaxis": {
            "gridcolor": "white",
            "linecolor": "white",
            "ticks": ""
           },
           "baxis": {
            "gridcolor": "white",
            "linecolor": "white",
            "ticks": ""
           },
           "bgcolor": "#E5ECF6",
           "caxis": {
            "gridcolor": "white",
            "linecolor": "white",
            "ticks": ""
           }
          },
          "title": {
           "x": 0.05
          },
          "xaxis": {
           "automargin": true,
           "gridcolor": "white",
           "linecolor": "white",
           "ticks": "",
           "title": {
            "standoff": 15
           },
           "zerolinecolor": "white",
           "zerolinewidth": 2
          },
          "yaxis": {
           "automargin": true,
           "gridcolor": "white",
           "linecolor": "white",
           "ticks": "",
           "title": {
            "standoff": 15
           },
           "zerolinecolor": "white",
           "zerolinewidth": 2
          }
         }
        },
        "title": {
         "text": "M4: fast buoyancy (only indirect charging), Temperature development of each layer over time.)"
        },
        "xaxis": {
         "title": {
          "text": "Time Passed (s)"
         }
        },
        "yaxis": {
         "title": {
          "text": "Temperature"
         }
        }
       }
      }
     },
     "metadata": {},
     "output_type": "display_data"
    }
   ],
   "source": [
    "import numpy as np\n",
    "import matplotlib.pyplot as plt\n",
    "import plotly.graph_objects as go\n",
    "import plotly.express as px\n",
    "from scipy.special import expit\n",
    "from functions import step, plot_results_time, plot_results_height, import_variables\n",
    "import os\n",
    "import importlib.util\n",
    "\n",
    "# Set the working directory\n",
    "working_directory = r\"C:\\Users\\sophi\\repos\\repos_thesis\\Model\"\n",
    "os.chdir(working_directory)\n",
    "\n",
    "# Call the import_variables function to import variables from variables.py\n",
    "\n",
    "\n",
    "def import_variables(file_name):\n",
    "    try:\n",
    "        # Get the absolute path of the current working directory\n",
    "        current_dir = os.getcwd()\n",
    "\n",
    "        # Construct the full path to the file\n",
    "        file_path = os.path.join(current_dir, f\"{file_name}.py\")\n",
    "\n",
    "        # Use importlib to create a module from the file\n",
    "        spec = importlib.util.spec_from_file_location(\"module.name\", file_path)\n",
    "        module = importlib.util.module_from_spec(spec)\n",
    "        spec.loader.exec_module(module)\n",
    "\n",
    "        # Import variables directly into the global namespace\n",
    "        for name in dir(module):\n",
    "            if not name.startswith('__'):\n",
    "                globals()[name] = getattr(module, name)\n",
    "\n",
    "    except FileNotFoundError:\n",
    "        print(f\"File '{file_name}.py' not found.\")\n",
    "    except Exception as e:\n",
    "        print(f\"Error occurred while importing '{file_name}.py': {e}\")\n",
    "\n",
    "# Call the function to import variables from the file\n",
    "file_name = \"variables_m6\"\n",
    "import_variables(file_name)\n",
    "# Print the value of alpha immediately after importing\n",
    "#print(\"Value of alpha:\", alpha)\n",
    "\n",
    "############### Definitons for the model 5 (integtrated -  direct)\n",
    "\n",
    "class HeatDistributionVector_model5:\n",
    "    def __init__(self, alpha, beta_i, beta_bottom, beta_top, lambda_i, phi_i, z, T_a, T_initial, dt, Qdot, mdot, Tm):\n",
    "        \n",
    "        self.alpha = alpha                           # heat diffusivity\n",
    "        \n",
    "        self.beta_i = beta_i                         # heat loss coefficient to the ambient in the inner layers\n",
    "        self.beta_bottom = beta_bottom               # heat loss coefficient to the ambient at the bottom layer (i=0)\n",
    "        self.beta_top = beta_top                     # heat loss coefficient to the ambient at the top layer (i=-1)\n",
    "        \n",
    "        self.lambda_i = lambda_i                     # coefficient of the input heat\n",
    "        self.Qdot = Qdot                              # vector conaining the Q_i of each layer    \n",
    "        \n",
    "        self.phi_i = phi_i                           # coefficient of the input flow/stream\n",
    "        self.mdot = mdot                             # vector conaining the streams flowing into /out of the tank mdot_i of each layer\n",
    "        self.Tm = Tm                                 # vector containing the temperatures of the streams flowing in/out of the tank (each mdot_i has a Tm_i)\n",
    "\n",
    "        self.z = z                                   # height of the tank\n",
    "        self.num_layers = len(T_initial)             # number of layers (steps in space)\n",
    "        self.dz = z / self.num_layers                # step size in space (delta z, height of a layer) is total height/number of layers, num_layers = how big the initial temperature vector is\n",
    "        self.heights = [i * self.dz + self.dz/2 for i in range(len(T_initial))]     # list representing the height of the tank for plotting the temperatures in the middle of each layer\n",
    "\n",
    "        self.dt = dt                                 # step size in time (time step)\n",
    "\n",
    "        self.T_initial = np.array(T_initial)         # initial state of the temperatures along the tank [list] !!! Same lenght as num_layers\n",
    "        self.T_a = T_a                               # ambient temperature outside of the tank\n",
    "\n",
    "     \n",
    " # definition of the solver for the temperature vector in the next time step       \n",
    "    def vector_solve(self, num_steps, \n",
    "                     incl_diffusivity=True, \n",
    "                     incl_heat_loss=True, \n",
    "                     incl_fast_buoyancy=True,\n",
    "                     incl_slow_buoyancy=True):\n",
    "        \n",
    "        # Check if the time step dt is a multiple of frequency\n",
    "        storage_frequency = 60\n",
    "        if self.dt % storage_frequency != 0:\n",
    "            raise ValueError(f\"The time step dt ({self.dt}s) must be a multiple of the data storage frequency ({freq}s).\")\n",
    "\n",
    "        freq = int(self.dt/storage_frequency)                         # frequency of the stored values to match the time step of the simulation dt\n",
    "\n",
    "        # Check if there is enough stored data to run the desired simulation step\n",
    "        num_data_available = int(len(self.Qdot) / freq)\n",
    "        if num_steps > num_data_available:\n",
    "            raise ValueError(f\"Number of steps for the simulation ({num_steps}) must be smaller or equal to number of available stored data ({num_data_available}).\")\n",
    "        \n",
    "\n",
    "        print(\"Heat diffusivity:\", incl_diffusivity) \n",
    "        print(\"Heat losses:\",incl_heat_loss)\n",
    "        print(\"Fast Buoyancy, direct charging qdot:\",incl_fast_buoyancy)\n",
    "        print(\"Slow Buoyancy:\",incl_slow_buoyancy)\n",
    "\n",
    "        # Mass balance:\n",
    "        # Calculate mdot balance\n",
    "        mdot_balance = np.sum(self.mdot, axis=1)      # Compute the sum of vector mdot containing ONE input or output per layer\n",
    "\n",
    "\n",
    "        # Check if mdot_balance is not equal to 0\n",
    "        non_zero_indices = np.where(mdot_balance != 0)[0]  # Get indices where mdot_balance is not zero\n",
    "\n",
    "        if non_zero_indices.size > 0:\n",
    "            error_message = f\"mdot_balance must be equal to 0 (mass conservation, stationary system for all time steps). Errors at time steps: {non_zero_indices}, values: {mdot_balance[non_zero_indices]}\"\n",
    "            raise ValueError(error_message)\n",
    "\n",
    "        T_old = np.copy(self.T_initial)\n",
    "        results = [T_old.copy()]                    # Store initial temperature array\n",
    "\n",
    "        for k in range(num_steps):\n",
    "\n",
    "            T_new = np.copy(T_old)\n",
    "\n",
    "            T_old_next = np.roll(T_old, -1)         # roll every i by -1 so that the \"next\" i is selected\n",
    "            T_old_prev = np.roll(T_old, 1)          # roll every i by 1 so that the \"previous\" i is selected\n",
    "            \n",
    "    \n",
    "            ####### Separate Qdot into charging and discharging vectors\n",
    "            Qdot_charging = np.where(self.Qdot[k*freq] > 0, self.Qdot[k*freq], 0)\n",
    "            Qdot_discharging = np.where(self.Qdot[k*freq] < 0, self.Qdot[k*freq], 0)\n",
    "\n",
    "            # Initiate vectors fo the buoyancy qdots\n",
    "            Qdot_prime_char = np.zeros(self.num_layers)  # initiate vector with length like number of layers\n",
    "            Qdot_prime_dischar = np.zeros(self.num_layers)  # initiate vector with length like number of layers\n",
    "\n",
    "            for i in range(self.num_layers):                    # iterate over all layers to calculate the actual heat of each layer Qdot_prime_char[0, 1, 2...]\n",
    "                \n",
    "                # INDIRECT CHARGING: Calculate Qdot_prime_char, the actual amount of heat transferred to layer i through heat exchange in and below layer i (due to buoyancy)\n",
    "                Qdot_sum_char = 0                                    # initiale the sum factor for calculating Qdot_prime_charge i\n",
    "\n",
    "                for l in range(i+1):                            # iterate l from bottom layer (o) until current layer i (incl) to evaluate how heat inserted below in l affects layer i if buoyancy is present\n",
    "                    nom=0                                           # initialize nominator for inspection of heat in layer l in relationship to layer i\n",
    "                    den=0                                       # initialize denominator for inspection of heat in layer l in relationship to layer i\n",
    "\n",
    "                    nom= step(T_old[l], T_old[i])                # evaluate if heat transfer is available (1) or not (0) with Step ----- Tl>=Ti -> 1, layer below is hoter than i\n",
    "\n",
    "                    for j in range(l, self.num_layers):       # iterate over layers starting from l and above until top of tank to evaluate the share of heat in layer l (homogenous distribution)\n",
    "                        den += step(T_old[l], T_old[j])          # sum up to calculate the denominator and thus the share\n",
    "                    den = np.where(den == 0, 1, den)                  # prevent divisions by 0     \n",
    "                    Qdot_sum_char += Qdot_charging[l] * nom / den    # amount of heat transfered to layer i is the sum of all heat below layer i and its share that have buoyancy effects    \n",
    "                    \n",
    "                Qdot_prime_char[i] = Qdot_sum_char\n",
    "\n",
    "\n",
    "                # INDIRECT DISCHARGING: Calculate Qdot_prime_dischar, the actual amount of heat transferred to the layer i thorugh heat exchange in layers in and above i (due to buoyancy)\n",
    "                Qdot_sum_dischar = 0                                    # initiale the sum factor for calculating Qdot_prime_charge i\n",
    "\n",
    "                for l in range(i, self.num_layers):                            # iterate l from bottom layer (o) until current layer i (incl) to evaluate how heat inserted below in l affects layer i if buoyancy is present\n",
    "                    nom=0                                           # initialize nominator for inspection of heat in layer l in relationship to layer i\n",
    "                    den=0                                       # initialize denominator for inspection of heat in layer l in relationship to layer i\n",
    "\n",
    "                    nom= step(T_old[i], T_old[l])                # evaluate if heat transfer is available (1) or not (0) with Step ----- Tl>=Ti -> 1, layer below is hoter than i\n",
    "\n",
    "                    for j in range(l+1):       # iterate over layers starting from l and above until top of tank to evaluate the share of heat in layer l (homogenous distribution)\n",
    "                        den += step(T_old[j], T_old[l])          # sum up to calculate the denominator and thus the share\n",
    "                    den = np.where(den == 0, 1, den)                  # prevent divisions by 0     \n",
    "                    Qdot_sum_dischar += Qdot_discharging[l] * nom / den    # amount of heat transfered to layer i is the sum of all heat below layer i and its share that have buoyancy effects    \n",
    "                    \n",
    "                Qdot_prime_dischar[i] = Qdot_sum_dischar\n",
    "            \n",
    "    \n",
    "\n",
    "            ####### Separate mdot, Tm into charging and discharging elements\n",
    "            mdot_in = np.where(self.mdot[k*freq] > 0, self.mdot[k*freq], 0)         # vector with only positive mdots\n",
    "            mdot_out = np.where(self.mdot[k*freq] < 0, self.mdot[k*freq], 0)        # vector with only negative mdots\n",
    "            Tm_in = np.where(self.mdot[k*freq] > 0, self.Tm[k*freq], 0)             # vector with the temperature of the inflowing (+) streams mdot\n",
    "\n",
    "\n",
    "\n",
    "        \n",
    "            #\n",
    "            mdot_prime_char = np.zeros(self.num_layers)  # initiate vector: the amount of mdot prime (temperature change) per i will be saved here\n",
    "            mdot_in_char_tot = np.zeros(self.num_layers)    # initiate vector: the total amount of mass streaming into i through charging mdots in l will be saved here\n",
    "            mdot_prime_dischar = np.zeros(self.num_layers)  # initiate vector with length like number of layers\n",
    "            mdot_in_dischar_tot = np.zeros(self.num_layers)    # initiate vector: the total amount of mass streaming into i through discharging mdots in l will be saved here\n",
    "\n",
    "            #\n",
    "            mdot_in_tot = np.zeros(self.num_layers)            # initiate vector: total amount of mdot flowing into layer i (charge+discharge incl buoyancy)\n",
    "\n",
    "            for i in range(self.num_layers):                    # iterate over all layers to calculate the actual heat of each layer Qdot_prime_char[0, 1, 2...]\n",
    "                # DIRECT CHARGING OF LAYER i: entering hot stream\n",
    "                mdot_sum_char = 0                                    # initiale the sum factor for calculating Qdot_prime_charge i\n",
    "                mdot_in_char = 0\n",
    "                mdot_in_char_sum = 0\n",
    "\n",
    "                for l in range(i+1):                            # iterate l from bottom layer (o) until current layer i (incl) to evaluate how heat inserted below in l affects layer i if buoyancy is present\n",
    "                    nom=0                                           # initialize nominator for inspection of heat in layer l in relationship to layer i\n",
    "                    den=0                                       # initialize denominator for inspection of heat in layer l in relationship to layer i\n",
    "\n",
    "                    nom= step(Tm_in[l], T_old[i]) #* (Tm_in[l] - T_old[i])                # evaluate if heat transfer is available (1) or not (0) with Step ----- Tl>=Ti -> 1, layer below is hoter than i\n",
    "                    #print(Tm_in[l], T_old[i])\n",
    "\n",
    "                    for j in range(l, self.num_layers):                     # iterate over layers starting from l and above until top of tank to evaluate the share of heat in layer l (homogenous distribution)\n",
    "                        den += step(Tm_in[l], T_old[j])                      # sum up to calculate the denominator and thus the share\n",
    "                    den = np.where(den == 0, 1, den)                         # prevent divisions by 0    \n",
    "                    mdot_in_char = mdot_in[l] * (nom / den)           # how much of the stream l is affecting i? \n",
    "                    mdot_in_char_sum += mdot_in_char                        # how much mass has flowed into i through all layers l?\n",
    "                    mdot_sum_char += mdot_in_char * (Tm_in[l] - T_old[i])    # amount of heat transfered to layer i is the sum of all heat below layer i and its share that have buoyancy effects    \n",
    "                \n",
    "                #print(f\"i={i}, l={l}, mdot_in_char_sum={mdot_in_char_sum}, mdot_in_char={mdot_in_char}, nom={nom}, den={den}\")\n",
    "\n",
    "                mdot_in_char_tot[i] = mdot_in_char_sum                      # total amount of mdot charging flowing into layer i including buoyancy of all layers\n",
    "                mdot_prime_char[i] = mdot_sum_char                          # total change in temperature of layer i (mdot times the Tm of stream in l) from mdot charging flowing into layer i including buoyancy of all layers\n",
    "                \n",
    "\n",
    "                # DIRECT DISCHARGING OF LAYER i: entering hot stream\n",
    "                mdot_sum_dischar = 0                                    # initiale the sum factor for calculating Qdot_prime_charge i\n",
    "                mdot_in_dischar = 0\n",
    "                mdot_in_dischar_sum = 0\n",
    "\n",
    "                for l in range(i, self.num_layers):                            # iterate l from bottom layer (o) until current layer i (incl) to evaluate how heat inserted below in l affects layer i if buoyancy is present\n",
    "                    nom=0                                           # initialize nominator for inspection of heat in layer l in relationship to layer i\n",
    "                    den=0                                       # initialize denominator for inspection of heat in layer l in relationship to layer i\n",
    "\n",
    "                    nom= step(T_old[i], Tm_in[l])# * (Tm_in[l] - T_old[i])                # evaluate if heat transfer is available (1) or not (0) with Step ----- Tl>=Ti -> 1, layer below is hoter than i\n",
    "\n",
    "                    for j in range(l+1):       # iterate over layers starting from l and above until top of tank to evaluate the share of heat in layer l (homogenous distribution)\n",
    "                        den += step(T_old[j], Tm_in[l])          # sum up to calculate the denominator and thus the share\n",
    "                    den = np.where(den == 0, 1, den)                  # prevent divisions by 0    \n",
    "                    mdot_in_dischar = mdot_in[l] * nom / den\n",
    "                    mdot_in_dischar_sum += mdot_in_dischar\n",
    "                    mdot_sum_dischar += mdot_in_dischar * (Tm_in[l] - T_old[i])    # amount of heat transfered to layer i is the sum of all heat below layer i and its share that have buoyancy effects    \n",
    "                \n",
    "                mdot_in_dischar_tot[i] = mdot_in_dischar_sum  \n",
    "                mdot_prime_dischar[i] = mdot_sum_dischar\n",
    "                \n",
    "                mdot_in_tot[i] = mdot_in_char_tot[i] + mdot_in_dischar_tot[i] # total amount of mdot flowing into layer i inlcuding buoyancy effects\n",
    "\n",
    "\n",
    "            # Calculate mdot mix_in for layer i. Positive means from below to above (i-1 -> i). i=0 is 0 (outside of tank) and i=N+1= 0 (outside of tank)\n",
    "            mdot_mix_in = np.zeros(self.num_layers+1)\n",
    "\n",
    "\n",
    "            \"\"\"# Loop for mix\n",
    "            \n",
    "            for i in range(num_layers-1):          # calculate mdot_mix_next between layers, flowing from layer i to i+1. There are num_layers-1 mixing streams\n",
    "                mdot_mix_sum = 0 \n",
    "                for j in range(0, i+1):                 #inlcude current layer i\n",
    "                    mdot_mix = 0\n",
    "                    mdot_mix = mdot_in[j] - mdot_out[j]\n",
    "                    mdot_mix_sum += mdot_mix\n",
    "                    \n",
    "                mdot_mix_in[i+1] = mdot_mix_sum\n",
    "\n",
    "            print(mdot_mix_in)\n",
    "            \"\"\"\n",
    "            #### Vectorial for mix\n",
    "            # Calculate cumulative sum of the differences of the incoming - outgoing streams in each layer\n",
    "            if incl_fast_buoyancy == False:\n",
    "                mdot_in_tot = mdot_in\n",
    "\n",
    "            mdot_diff = mdot_in_tot + mdot_out                              # difference of incoming streams (distributed by buoyancy) and outgoing streams (negative in their value)\n",
    "            cumulative_mdot_diff = np.cumsum(mdot_diff)                     # vector containing the cummulation of the sums of the net streams flowing out of the layers below\n",
    "\n",
    "            # Assign cumulative sums to mdot_mix_in (shifted by one position)\n",
    "            mdot_mix_in[1:self.num_layers] = cumulative_mdot_diff[:-1]      # create vector that contains mdot flowing from layer below to layer i. Begins with 0 (since no stream below i=0) and ends with 0\n",
    "\n",
    "            # Initiate vector for resulting mdot_prime\n",
    "            mdot_prime_mix = np.zeros(self.num_layers)\n",
    "            \n",
    "            # take only the inflowing streams for each layer into account\n",
    "            for i in range(self.num_layers):\n",
    "                mdot_prime_mix_in_above = 0\n",
    "                mdot_prime_mix_below = 0\n",
    "                \n",
    "                if (-mdot_mix_in[i + 1]) > 0:                               # check if the value for -mdot_mix_in (above) is positive -> stream entering i. negative mdot since the defined direction in the general system is from l to l+1.\n",
    "                    mdot_prime_mix_in_above = (-mdot_mix_in[i + 1]) * (T_old[i + 1] - T_old[i])\n",
    "                    \n",
    "                if (mdot_mix_in[i]) > 0:                                    # check if the value for mdot_mix_in (below) is positive -> stream entering i\n",
    "                    mdot_prime_mix_below = (mdot_mix_in[i]) * (T_old[i - 1] - T_old[i])\n",
    "                    \n",
    "                mdot_prime_mix[i] += mdot_prime_mix_in_above + mdot_prime_mix_below    # total amount of heat portion that will affect each layer by incoming and outflowing mass flows from forced streaming (direct charging/discharging)                        \n",
    "            \n",
    "                \n",
    "            #print(f\"mdot_prime_mix{mdot_prime_mix}\")       \n",
    "\n",
    "            ################ Calculate new temperatures after dt\n",
    "            # separate the effects of the model to allow modularity\n",
    "            # initiate arrays\n",
    "            \"\"\"\n",
    "            diffusivity = np.zeros_like(T_old)\n",
    "            heat_loss = np.zeros_like(T_old)\n",
    "            fast_buoyancy_qdot_charge = np.zeros_like(T_old)\n",
    "            fast_buoyancy_qdot_discharge = np.zeros_like(T_old)\n",
    "            fast_buoyancy_mdot_charge = np.zeros_like(T_old)\n",
    "            fast_buoyancy_mdot_discharge = np.zeros_like(T_old)\n",
    "            slow_buoyancy  = np.zeros_like(T_old)\"\"\"\n",
    "\n",
    "            # assing values\n",
    "            diffusivity = ((self.alpha) * (T_old_next - (2*T_old) + T_old_prev) / (self.dz**2))     if incl_diffusivity else 0\n",
    "            heat_loss = (self.beta_i * (self.T_a - T_old))                                          if incl_heat_loss else 0\n",
    "            fast_buoyancy_qdot_charge = ((self.lambda_i/self.dz) * Qdot_prime_char)                 if incl_fast_buoyancy else ((self.lambda_i/self.dz) * self.Qdot[k*freq])\n",
    "            fast_buoyancy_qdot_discharge = ((self.lambda_i/self.dz) * Qdot_prime_dischar)           if incl_fast_buoyancy else 0\n",
    "            fast_buoyancy_mdot_charge = ((self.phi_i/self.dz) * mdot_prime_char)                    if incl_fast_buoyancy else ((self.phi_i/self.dz) * mdot_in * (Tm_in - T_old))\n",
    "            fast_buoyancy_mdot_discharge = ((self.phi_i/self.dz) * mdot_prime_dischar)              if incl_fast_buoyancy else 0 \n",
    "            slow_buoyancy = ((0.5 * np.maximum(0,(T_old_prev - T_old)))                \n",
    "                            - (0.5 * np.maximum(0,(T_old - T_old_next))))                                if incl_slow_buoyancy else 0\n",
    "            mix_mdot_internal = ((self.phi_i/self.dz) * mdot_prime_mix)\n",
    "            \n",
    "            \n",
    "\n",
    "            T_new = (T_old\n",
    "                     + (diffusivity\n",
    "                        + heat_loss\n",
    "                        + fast_buoyancy_qdot_charge\n",
    "                        + fast_buoyancy_qdot_discharge\n",
    "                        + fast_buoyancy_mdot_charge\n",
    "                        + fast_buoyancy_mdot_discharge\n",
    "                        + mix_mdot_internal\n",
    "                     )* self.dt\n",
    "                     + slow_buoyancy\n",
    "                    ) \n",
    "            \n",
    "            #### Boundary conditions\n",
    "            ### bottom of the tank (i=0)\n",
    "\n",
    "            # separate the effects of the model to allow modularity\n",
    "            diffusivity_bottom = ((self.alpha) * (T_old[1] - (2*T_old[0]) + T_old[0]) / (self.dz**2))   if incl_diffusivity else 0\n",
    "            heat_loss_bottom = ((self.beta_i + self.beta_bottom) * (self.T_a - T_old[0]))               if incl_heat_loss else 0\n",
    "            fast_buoyancy_qdot_charge_bottom = ((self.lambda_i/self.dz) * Qdot_prime_char[0])           if incl_fast_buoyancy else ((self.lambda_i/self.dz) * self.Qdot[k*freq][0])\n",
    "            fast_buoyancy_qdot_discharge_bottom = ((self.lambda_i/self.dz) * Qdot_prime_dischar[0])     if incl_fast_buoyancy else 0 \n",
    "            fast_buoyancy_mdot_charge_bottom = ((self.phi_i/self.dz) * mdot_prime_char[0])              if incl_fast_buoyancy else ((self.phi_i/self.dz) * mdot_in[0] * (Tm_in[0] - T_old[0]))\n",
    "            fast_buoyancy_mdot_discharge_bottom = ((self.phi_i/self.dz) * mdot_prime_dischar[0])        if incl_fast_buoyancy else 0\n",
    "            mix_mdot_internal_bottom = ((self.phi_i/self.dz) * mdot_prime_mix[0])\n",
    "            slow_buoyancy_bottom = (- 0.5 * np.maximum(0,(T_old[0] - T_old[1])))     if incl_slow_buoyancy else 0\n",
    "            \n",
    "            T_new[0] = (T_old[0]\n",
    "                     + (diffusivity_bottom\n",
    "                        + heat_loss_bottom\n",
    "                        + fast_buoyancy_qdot_charge_bottom\n",
    "                        + fast_buoyancy_qdot_discharge_bottom\n",
    "                        + fast_buoyancy_mdot_charge_bottom\n",
    "                        + fast_buoyancy_mdot_discharge_bottom\n",
    "                        + mix_mdot_internal_bottom\n",
    "                     )* self.dt\n",
    "                     + slow_buoyancy_bottom\n",
    "                    ) \n",
    "           \n",
    "            ### top of the tank (i=-1)\n",
    "\n",
    "            # separate the effects of the model to allow modularity\n",
    "            diffusivity_top = ((self.alpha) * (T_old[-1] - (2*T_old[-1]) + T_old[-2]) / (self.dz**2))       if incl_diffusivity else 0\n",
    "            heat_loss_top = ((self.beta_i + self.beta_top)* (self.T_a - T_old[-1]))                         if incl_heat_loss else 0\n",
    "            fast_buoyancy_qdot_charge_top = ((self.lambda_i/self.dz) * Qdot_prime_char[-1])                 if incl_fast_buoyancy else ((self.lambda_i/self.dz) * self.Qdot[k*freq][-1])\n",
    "            fast_buoyancy_qdot_discharge_top = ((self.lambda_i/self.dz) * Qdot_prime_dischar[-1])           if incl_fast_buoyancy else 0 \n",
    "            fast_buoyancy_mdot_charge_top = ((self.phi_i/self.dz) * mdot_prime_char[-1])                    if incl_fast_buoyancy else ((self.phi_i/self.dz) * mdot_in[-1] * (Tm_in[-1] - T_old[1]))\n",
    "            fast_buoyancy_mdot_discharge_top = ((self.phi_i/self.dz) * mdot_prime_dischar[-1])              if incl_fast_buoyancy else 0\n",
    "            mix_mdot_internal_top = ((self.phi_i/self.dz) * mdot_prime_mix[-1])\n",
    "            slow_buoyancy_top = (0.5 * np.maximum(0,((T_old[-2] - T_old[-1]))))            if incl_slow_buoyancy else 0\n",
    "            \n",
    "            T_new[-1] = (T_old[-1]\n",
    "                     + (diffusivity_top\n",
    "                        + heat_loss_top\n",
    "                        + fast_buoyancy_qdot_charge_top\n",
    "                        + fast_buoyancy_qdot_discharge_top\n",
    "                        + fast_buoyancy_mdot_charge_top\n",
    "                        + fast_buoyancy_mdot_discharge_top\n",
    "                        + mix_mdot_internal_top\n",
    "                     )* self.dt\n",
    "                     + slow_buoyancy_top\n",
    "                    ) \n",
    "\n",
    "\n",
    "            T_old = np.copy(T_new) # return the new temperature as old temperature for the next iteration\n",
    "\n",
    "            results.append(T_old.copy())            # Store the updated temperature array fo later plot\n",
    "\n",
    "        return T_old, results\n",
    "     \n",
    " # check the stability of the model with the selected dt\n",
    "    def stability_check(self):\n",
    "        # check if the time step dt is small enough with CFL condition: dt <= (dz^2) / (2 * alpha)\n",
    "        cfl_dt_max = (self.dz ** 2) / (2 * self.alpha)\n",
    "        if self.dt > cfl_dt_max:\n",
    "            print(f\"Warning: Time step size dt {self.dt} exceeds CFL stability limit ({cfl_dt_max}).\")\n",
    "            sc = 1\n",
    "        else:\n",
    "            sc = 0\n",
    "        return sc\n",
    "\n",
    "\n",
    "# MODEL 5 - fast buoy (mdot - integrated)\n",
    "\"\"\"tank_vector5o = HeatDistributionVector_model5(alpha, beta_i, beta_bottom, beta_top, lambda_i, phi_i, z, T_a, T_zero, dt, Qdot, mdot, Tm)\n",
    "stability5o = tank_vector5o.stability_check()\n",
    "if (stability5o == 0):\n",
    "    # Solve for the temperatures\n",
    "    final_temperature5o, results5o = tank_vector5o.vector_solve(num_steps, \n",
    "                                                                incl_diffusivity=False,\n",
    "                                                                incl_heat_loss=False,\n",
    "                                                                incl_fast_buoyancy=False,\n",
    "                                                                incl_slow_buoyancy=False)\n",
    "    # Plot the results\n",
    "    plot_results_height(results5o, tank_vector5o.heights, dt, z, dz, \"Layer temperatures over tank height. M5o: integrated direct charging\")\"\"\"\n",
    "\n",
    "\n",
    "\n",
    "\n",
    "tank_vector5 = HeatDistributionVector_model5(alpha, beta_i, beta_bottom, beta_top, lambda_i, phi_i, z, T_a, T_zero, dt, Qdot, mdot, Tm)\n",
    "stability5 = tank_vector5.stability_check()\n",
    "if (stability5 == 0):\n",
    "    # Solve for the temperatures\n",
    "    final_temperature5, results5 = tank_vector5.vector_solve(num_steps, \n",
    "                                                             incl_diffusivity=False,\n",
    "                                                             incl_heat_loss=False,\n",
    "                                                             incl_fast_buoyancy=True,\n",
    "                                                             incl_slow_buoyancy=False)\n",
    "    # Plot the results\n",
    "    plot_results_height(results5, tank_vector5.heights, dt, z, dz, \"Layer temperatures over tank height. M5: integrated direct charging\")\n",
    "    plot_results_time(results5, dt, \"M4: fast buoyancy (only indirect charging), Temperature development of each layer over time.)\")\n",
    "\n",
    "\n"
   ]
  }
 ],
 "metadata": {
  "kernelspec": {
   "display_name": "Python 3",
   "language": "python",
   "name": "python3"
  },
  "language_info": {
   "codemirror_mode": {
    "name": "ipython",
    "version": 3
   },
   "file_extension": ".py",
   "mimetype": "text/x-python",
   "name": "python",
   "nbconvert_exporter": "python",
   "pygments_lexer": "ipython3",
   "version": "3.11.9"
  }
 },
 "nbformat": 4,
 "nbformat_minor": 2
}

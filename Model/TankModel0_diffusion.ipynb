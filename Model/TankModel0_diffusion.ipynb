{
 "cells": [
  {
   "cell_type": "markdown",
   "metadata": {},
   "source": [
    "# 1D Model for a Stratified Storage Tank"
   ]
  },
  {
   "cell_type": "markdown",
   "metadata": {},
   "source": [
    "The simulation of a stratified thermal storage tank will be based upon the model proposed by ____"
   ]
  },
  {
   "cell_type": "markdown",
   "metadata": {},
   "source": [
    "The model is based on a 1D differential equation\n",
    "\n",
    "$$\n",
    "\\begin{align*}\n",
    " T_{k+1,i} = & F_i(T_k, \\dot{Q}_k, \\dot{m}_k, \\Delta k, \\phi, T^{in}_k) \\\\ \\\\\n",
    "\n",
    " = & T_{k,i}+ (\\alpha \\frac{T_{k,i+1}+T_{k,i-1}-2T_{k,i}}{\\Delta z^2_i} + \\beta_i(T_\\infty-T_{k,i}) \\\\ \\\\\n",
    "\n",
    " &+ \\frac{\\phi}{\\Delta z_i}\\sum_{l=0}^{i} \\dot{m}_{k,l} \\frac{(T^{in}_{k,l} - T_{k,i}) S (T^{in}_{k,l} - T_{k,i})}{\\sum_{j=l}^{N} S (T^{in}_{k,l} - T_{k,j})} \\\\ \\\\\n",
    "\n",
    " &+ \\frac{\\phi}{\\Delta z_i}\\sum_{l=0}^{i} \\dot{m}_{k,l} \\frac{(T_{k,i} - T^{in}_{k,l}) S (T_{k,i} - T^{in}_{k,l})}{\\sum_{j=0}^{l} S (T_{k,j} - T^{in}_{k,l})} \\\\ \\\\\n",
    "\n",
    " &+ \\sum_{l=0}^{i} \\frac{\\lambda_i \\dot{Q}_{k,l}}{\\Delta z_i} \\frac{S(T_{k,l}-T_{k,i})}{\\sum_{j=l}^{N}S(T_{k,l}-T_{k,j})} \\\\ \\\\\n",
    "\n",
    " &+ \\sum_{l=i}^{N} \\frac{\\lambda_i \\dot{Q}_{k,l}}{\\Delta z_i} \\frac{S(T_{k,l}-T_{k,i})}{\\sum_{j=0}^{i}S(T_{k,l}-T_{k,j})}) \\Delta t \\\\ \\\\\n",
    "\n",
    "&+ \\theta_{i,(i-1)} \\frac{1}{\\mu} log(e^0+e^{\\mu(T_{k,(i-1)}-T_{k,i})}) \\\\ \\\\\n",
    "\n",
    "&- \\theta_{i,(i+1)} \\frac{1}{\\mu} log(e^0+e^{\\mu (T_{k,i}-T_{k,(i+1)})}) \\\\ \\\\\n",
    " \\end{align*}\n",
    " \n",
    "$$\n",
    "\n",
    "where \\\n",
    "$\\beta_i= \\frac{P_i k_i}{\\rho c_p A_i}$ \\\n",
    "$\\lambda_i = \\frac{1}{\\rho c_p A_i} $ \\\n",
    "$\\phi = \\frac{1}{\\rho A_i}$ \\\n",
    "$\\theta_{i,(i-1)}= \\frac{A_{i-1} \\Delta z_{i-1}}{A_i \\Delta z_i + A_{i-1} \\Delta z_{i-1}} \\in [0,1]$ \\\n",
    "$S(T_1 - T_2) = \\frac{1}{1+e^{-\\mu(T_1-T_2)}}$\\\n",
    "\\\n",
    "and \\\n",
    "$i$ tank layer \\\n",
    "$k$ time step \\\n",
    "$\\Delta t$ lenght of time step \\\n",
    "$\\mu$ sharpness of the logistic function (step function if high) \\\n",
    "\n",
    "- 𝛼: fluid diffusivity [m²/s]\n",
    "- 𝛽𝑖: coefficient of heat losses of the inner layers\n",
    "- 𝛽1: coefficient of heat losses of the bottom layer\n",
    "- 𝛽𝑁: coefficient of heat losses of the top layer\n",
    "- 𝜆: coefficient of the input heat\n",
    "- 𝜙: coefficient of the input flow"
   ]
  },
  {
   "cell_type": "markdown",
   "metadata": {},
   "source": [
    "## Simple model without buoyancy\n",
    "\n",
    "The temperature of a layer of the tank will be determined by 4 main phenomena: the diffusion between the layers due to a gradient in the temperatures/pressures along the fluid in the tank, the heat losses to the environment through the surface of the tank, the indirect insertion or extraction of heat to the tank through heat exchange and the direct insertion or extraction of mass streams.\n",
    "\n",
    "\n",
    "<img src=\"images/basic.png\" alt=\"Alt Text\" width=\"600\">"
   ]
  },
  {
   "cell_type": "markdown",
   "metadata": {},
   "source": [
    "### Model 0: [α] only diffusion within layers \n",
    "The thermal diffusivity of the fluid α is the rate at which heat spreads through a material over time, per (cross-secional) unit area.\n",
    "It is assumed to be constant and for water it is\n",
    "\n",
    "$\n",
    "\\alpha = \\frac{k}{\\rho \\cdot c_p} = 0.143\\cdot 10^{-6} \\frac{m^2}{s}\n",
    "$\n",
    "\n",
    "Where:\n",
    "\n",
    "$\\alpha$ is the heat diffusivity coefficient of the fluid.[m²/s]\\\n",
    "$k$ is the thermal conductivity of the fluid. [W/mK]\\\n",
    "$\\rho$ is the density of the fluid. \\\n",
    "$c_p$ is the specific heat capacity of the fluid."
   ]
  },
  {
   "cell_type": "markdown",
   "metadata": {},
   "source": [
    "Heat transfer equation for the diffusion within the layers i at times k\n",
    "\n",
    "$$\n",
    "\\begin{align*}\n",
    "\\frac{\\delta T}{\\delta t} = & \\alpha \\nabla^2 T \\\\\n",
    "= & \\alpha  \\frac{\\delta^2 T}{\\delta z^2}\n",
    "\\end{align*}\n",
    "$$\n",
    "\n",
    "#### Step 1: Discretization (Forward Euler Method)\n",
    "- Time (k): approximate using simple differences\n",
    "\n",
    "$$\n",
    "\\begin{align*}\n",
    "\\frac{\\delta T}{\\delta t} &\\approx  \\frac{\\Delta T}{\\Delta t}  \\\\\n",
    "&\\approx \\frac{T_{k+1,i} - T_{k,i}}{\\Delta t}\n",
    "\\end{align*}\n",
    "$$\n",
    "\n",
    "\n",
    "- Space (i): approximate using central differences\n",
    "\n",
    "$$\n",
    "\\begin{align*}\n",
    "\\frac{\\delta^2 T}{\\delta z^2} \n",
    "&\\approx\\frac{T_{k,i+1}-2T_{k,i}+T_{k,i-1}}{(\\Delta z_i)^2}\n",
    "\\end{align*}\n",
    "$$\n",
    "\n",
    "Which leads to the equation when replacing the discretization equations in the original heat transfer equation\n",
    "\n",
    "$$\n",
    "\\begin{align*}\n",
    "\\frac{T_{k+1,i} - T_{k,i}}{\\Delta t} = \\alpha (\\frac{T_{k,i+1}-2T_{k,i}+T_{k,i-1}}{(\\Delta z_i)^2})\n",
    "\\end{align*}\n",
    "$$\n",
    "\n",
    "Reorganized to determine the temperature of a layer in the next time step:\n",
    "\n",
    "$$\n",
    "\\begin{align*}\n",
    "T_{k+1,i} = T_{k,i} + \\alpha \\cdot (\\frac{T_{k,i+1}-2T_{k,i}+T_{k,i-1}}{(\\Delta z_i)^2}) \\cdot \\Delta t\n",
    "\n",
    "\n",
    "\\end{align*}\n",
    "$$\n",
    "\n",
    "#### Step 2: stability check\n",
    "\n",
    "Define the parameters. Depending on the chosen time step Δt and spatial step Δz the numerical solution will be more or less accurate. Usually the stability considerations lead to a constraint on the maximum allowable time step given by the Courant-Friedrichs-Lewy (CFL) condition (see equation below), and if the condition is met, then the simulation will not be performed. The time step must be reduced until the condition is met and the simulation can run.\n",
    "$$\n",
    "\\begin{align*}\n",
    "\\Delta t \\leq \\frac{(\\Delta z)^2}{2 \\alpha}\n",
    "\\end{align*}\n",
    "$$\n",
    "\n",
    "#### Step 3: Simulation (HeatDistributionVector_model)\n",
    "Through an iteration over time of the vector T, which contains the temperature distribution in the tank, the temperatures of each layer of the tank are updated after each time step.\n",
    "Here several assumptions were made\n",
    "\n",
    "##### Assumptions for simplification: \n",
    "- The amount of layers is defined by the amount of elements in the initial vector for the tank temperature\n",
    "- Δz is constant and depends on the height of the tank and of the lenght of the vector T (number of layers)\n",
    "\n",
    "##### Boundary conditions: \n",
    "since the equation requires the previous and the next layers temperature, we have to meet assumptions on the bottom and on the top, where the \"next\" or the \"previous\" do not exist, meaning that no heat transfer through diffusion is possible at this \"cross-sections\". This could be translated into a non-existant temperature gradient (adiabatic boundary condition for heat conduction) between the boundaries and the inexistant layers: \n",
    "- Bottom of the tank (i=0, first entry). The \"previous\" (non existant) layer is assumed to have the same temperature as the bottom layer. This way the gradient in the bottom of the tank is cero and no heat is transferred.\n",
    "- Top of the tank (i=-1, last entry). The \"next\" (non existant) layer is assumed to have the same temperature as the top layer. This way the gradient in the bottom of the tank is cero and no heat is transferred. \n",
    "\n",
    "##### Plots\n",
    "- Plot over the height of the tank for the different time steps\n",
    "    - The x-axis displays the full height of the tank, and the y-axis the temperature. The y's are positioned in the middle of the layers.\n",
    "- Plot over time for the different layers of the tank\n"
   ]
  },
  {
   "cell_type": "code",
   "execution_count": 1,
   "metadata": {},
   "outputs": [
    {
     "data": {
      "application/vnd.plotly.v1+json": {
       "config": {
        "plotlyServerURL": "https://plot.ly"
       },
       "data": [
        {
         "mode": "lines",
         "name": "Time Passed: 0.0 seconds",
         "type": "scatter",
         "x": [
          0.1,
          0.30000000000000004,
          0.5,
          0.7000000000000001,
          0.9,
          1.1,
          1.3000000000000003,
          1.5000000000000002,
          1.7000000000000002,
          1.9000000000000001
         ],
         "y": [
          10,
          20,
          30,
          60,
          50,
          90,
          30,
          0,
          15,
          20
         ]
        },
        {
         "mode": "lines",
         "name": "Time Passed: 0.02 seconds",
         "type": "scatter",
         "x": [
          0.1,
          0.30000000000000004,
          0.5,
          0.7000000000000001,
          0.9,
          1.1,
          1.3000000000000003,
          1.5000000000000002,
          1.7000000000000002,
          1.9000000000000001
         ],
         "y": [
          15,
          20,
          40,
          40,
          75,
          40.00000000000001,
          45,
          22.499999999999996,
          10,
          17.5
         ]
        },
        {
         "mode": "lines",
         "name": "Time Passed: 0.04 seconds",
         "type": "scatter",
         "x": [
          0.1,
          0.30000000000000004,
          0.5,
          0.7000000000000001,
          0.9,
          1.1,
          1.3000000000000003,
          1.5000000000000002,
          1.7000000000000002,
          1.9000000000000001
         ],
         "y": [
          17.5,
          27.5,
          30,
          57.5,
          40.00000000000001,
          60,
          31.250000000000007,
          27.5,
          19.999999999999996,
          13.75
         ]
        },
        {
         "mode": "lines",
         "name": "Time Passed: 0.06 seconds",
         "type": "scatter",
         "x": [
          0.1,
          0.30000000000000004,
          0.5,
          0.7000000000000001,
          0.9,
          1.1,
          1.3000000000000003,
          1.5000000000000002,
          1.7000000000000002,
          1.9000000000000001
         ],
         "y": [
          22.5,
          23.75,
          42.5,
          35,
          58.75,
          35.62500000000001,
          43.75,
          25.625000000000004,
          20.625,
          16.874999999999996
         ]
        },
        {
         "mode": "lines",
         "name": "Time Passed: 0.08 seconds",
         "type": "scatter",
         "x": [
          0.1,
          0.30000000000000004,
          0.5,
          0.7000000000000001,
          0.9,
          1.1,
          1.3000000000000003,
          1.5000000000000002,
          1.7000000000000002,
          1.9000000000000001
         ],
         "y": [
          23.125,
          32.5,
          29.375,
          50.625,
          35.3125,
          51.25,
          30.625000000000007,
          32.1875,
          21.25,
          18.749999999999996
         ]
        },
        {
         "mode": "lines",
         "name": "Time Passed: 0.1 seconds",
         "type": "scatter",
         "x": [
          0.1,
          0.30000000000000004,
          0.5,
          0.7000000000000001,
          0.9,
          1.1,
          1.3000000000000003,
          1.5000000000000002,
          1.7000000000000002,
          1.9000000000000001
         ],
         "y": [
          27.8125,
          26.25,
          41.5625,
          32.34375,
          50.9375,
          32.96875,
          41.71875,
          25.937500000000004,
          25.468749999999996,
          19.999999999999996
         ]
        },
        {
         "mode": "lines",
         "name": "Time Passed: 0.12 seconds",
         "type": "scatter",
         "x": [
          0.1,
          0.30000000000000004,
          0.5,
          0.7000000000000001,
          0.9,
          1.1,
          1.3000000000000003,
          1.5000000000000002,
          1.7000000000000002,
          1.9000000000000001
         ],
         "y": [
          27.03125,
          34.6875,
          29.296875,
          46.25,
          32.65625,
          46.328125,
          29.453125,
          33.59375,
          22.96875,
          22.734374999999996
         ]
        },
        {
         "mode": "lines",
         "name": "Time Passed: 0.14 seconds",
         "type": "scatter",
         "x": [
          0.1,
          0.30000000000000004,
          0.5,
          0.7000000000000001,
          0.9,
          1.1,
          1.3000000000000003,
          1.5000000000000002,
          1.7000000000000002,
          1.9000000000000001
         ],
         "y": [
          30.859375,
          28.1640625,
          40.46875,
          30.9765625,
          46.2890625,
          31.0546875,
          39.9609375,
          26.2109375,
          28.1640625,
          22.851562499999996
         ]
        },
        {
         "mode": "lines",
         "name": "Time Passed: 0.16 seconds",
         "type": "scatter",
         "x": [
          0.1,
          0.30000000000000004,
          0.5,
          0.7000000000000001,
          0.9,
          1.1,
          1.3000000000000003,
          1.5000000000000002,
          1.7000000000000002,
          1.9000000000000001
         ],
         "y": [
          29.51171875,
          35.6640625,
          29.5703125,
          43.37890625,
          31.015625,
          43.125,
          28.6328125,
          34.0625,
          24.53125,
          25.507812499999996
         ]
        },
        {
         "mode": "lines",
         "name": "Time Passed: 0.18 seconds",
         "type": "scatter",
         "x": [
          0.1,
          0.30000000000000004,
          0.5,
          0.7000000000000001,
          0.9,
          1.1,
          1.3000000000000003,
          1.5000000000000002,
          1.7000000000000002,
          1.9000000000000001
         ],
         "y": [
          32.587890625,
          29.541015625,
          39.521484375,
          30.29296875,
          43.251953125,
          29.82421875,
          38.59375,
          26.58203125,
          29.78515625,
          25.01953125
         ]
        },
        {
         "mode": "lines",
         "name": "Time Passed: 0.2 seconds",
         "type": "scatter",
         "x": [
          0.1,
          0.30000000000000004,
          0.5,
          0.7000000000000001,
          0.9,
          1.1,
          1.3000000000000003,
          1.5000000000000002,
          1.7000000000000002,
          1.9000000000000001
         ],
         "y": [
          31.064453125,
          36.0546875,
          29.9169921875,
          41.38671875,
          30.05859375,
          40.9228515625,
          28.203125,
          34.189453125,
          25.80078125,
          27.40234375
         ]
        },
        {
         "mode": "lines",
         "name": "Time Passed: 0.22 seconds",
         "type": "scatter",
         "x": [
          0.1,
          0.30000000000000004,
          0.5,
          0.7000000000000001,
          0.9,
          1.1,
          1.3000000000000003,
          1.5000000000000002,
          1.7000000000000002,
          1.9000000000000001
         ],
         "y": [
          33.5595703125,
          30.49072265625,
          38.720703125,
          29.98779296875,
          41.15478515625,
          29.130859375,
          37.55615234375,
          27.001953125,
          30.7958984375,
          26.6015625
         ]
        },
        {
         "mode": "lines",
         "name": "Time Passed: 0.24 seconds",
         "type": "scatter",
         "x": [
          0.1,
          0.30000000000000004,
          0.5,
          0.7000000000000001,
          0.9,
          1.1,
          1.3000000000000003,
          1.5000000000000002,
          1.7000000000000002,
          1.9000000000000001
         ],
         "y": [
          32.025146484375,
          36.14013671875,
          30.2392578125,
          39.937744140625,
          29.559326171875,
          39.35546875,
          28.06640625,
          34.176025390625,
          26.8017578125,
          28.69873046875
         ]
        },
        {
         "mode": "lines",
         "name": "Time Passed: 0.26 seconds",
         "type": "scatter",
         "x": [
          0.1,
          0.30000000000000004,
          0.5,
          0.7000000000000001,
          0.9,
          1.1,
          1.3000000000000003,
          1.5000000000000002,
          1.7000000000000002,
          1.9000000000000001
         ],
         "y": [
          34.0826416015625,
          31.1322021484375,
          38.0389404296875,
          29.8992919921875,
          39.6466064453125,
          28.8128662109375,
          36.7657470703125,
          27.43408203125,
          31.4373779296875,
          27.750244140625
         ]
        },
        {
         "mode": "lines",
         "name": "Time Passed: 0.28 seconds",
         "type": "scatter",
         "x": [
          0.1,
          0.30000000000000004,
          0.5,
          0.7000000000000001,
          0.9,
          1.1,
          1.3000000000000003,
          1.5000000000000002,
          1.7000000000000002,
          1.9000000000000001
         ],
         "y": [
          32.607421875,
          36.060791015625,
          30.5157470703125,
          38.8427734375,
          29.3560791015625,
          38.2061767578125,
          28.12347412109375,
          34.1015625,
          27.5921630859375,
          29.59381103515625
         ]
        },
        {
         "mode": "lines",
         "name": "Time Passed: 0.3 seconds",
         "type": "scatter",
         "x": [
          0.1,
          0.30000000000000004,
          0.5,
          0.7000000000000001,
          0.9,
          1.1,
          1.3000000000000003,
          1.5000000000000002,
          1.7000000000000002,
          1.9000000000000001
         ],
         "y": [
          34.3341064453125,
          31.56158447265625,
          37.4517822265625,
          29.9359130859375,
          38.52447509765625,
          28.739776611328125,
          36.15386962890625,
          27.857818603515625,
          31.847686767578125,
          28.592987060546875
         ]
        },
        {
         "mode": "lines",
         "name": "Time Passed: 0.32 seconds",
         "type": "scatter",
         "x": [
          0.1,
          0.30000000000000004,
          0.5,
          0.7000000000000001,
          0.9,
          1.1,
          1.3000000000000003,
          1.5000000000000002,
          1.7000000000000002,
          1.9000000000000001
         ],
         "y": [
          32.947845458984375,
          35.8929443359375,
          30.748748779296875,
          37.988128662109375,
          29.337844848632812,
          37.33917236328125,
          28.298797607421875,
          34.00077819824219,
          28.22540283203125,
          30.2203369140625
         ]
        },
        {
         "mode": "lines",
         "name": "Time Passed: 0.34 seconds",
         "type": "scatter",
         "x": [
          0.1,
          0.30000000000000004,
          0.5,
          0.7000000000000001,
          0.9,
          1.1,
          1.3000000000000003,
          1.5000000000000002,
          1.7000000000000002,
          1.9000000000000001
         ],
         "y": [
          34.42039489746094,
          31.848297119140625,
          36.94053649902344,
          30.043296813964844,
          37.66365051269531,
          28.818321228027344,
          35.66997528076172,
          28.262100219726562,
          32.110557556152344,
          29.222869873046875
         ]
        },
        {
         "mode": "lines",
         "name": "Time Passed: 0.36 seconds",
         "type": "scatter",
         "x": [
          0.1,
          0.30000000000000004,
          0.5,
          0.7000000000000001,
          0.9,
          1.1,
          1.3000000000000003,
          1.5000000000000002,
          1.7000000000000002,
          1.9000000000000001
         ],
         "y": [
          33.13434600830078,
          35.68046569824219,
          30.945796966552734,
          37.302093505859375,
          29.430809020996094,
          36.666812896728516,
          28.540210723876953,
          33.89026641845703,
          28.74248504638672,
          30.66671371459961
         ]
        },
        {
         "mode": "lines",
         "name": "Time Passed: 0.38 seconds",
         "type": "scatter",
         "x": [
          0.1,
          0.30000000000000004,
          0.5,
          0.7000000000000001,
          0.9,
          1.1,
          1.3000000000000003,
          1.5000000000000002,
          1.7000000000000002,
          1.9000000000000001
         ],
         "y": [
          34.407405853271484,
          32.04007148742676,
          36.49127960205078,
          30.188302993774414,
          36.984453201293945,
          28.985509872436523,
          35.27853965759277,
          28.641347885131836,
          32.27849006652832,
          29.704599380493164
         ]
        },
        {
         "mode": "lines",
         "name": "Time Passed: 0.4 seconds",
         "type": "scatter",
         "x": [
          0.1,
          0.30000000000000004,
          0.5,
          0.7000000000000001,
          0.9,
          1.1,
          1.3000000000000003,
          1.5000000000000002,
          1.7000000000000002,
          1.9000000000000001
         ],
         "y": [
          33.22373867034912,
          35.44934272766113,
          31.114187240600586,
          36.73786640167236,
          29.58690643310547,
          36.13149642944336,
          28.81342887878418,
          33.77851486206055,
          29.1729736328125,
          30.991544723510742
         ]
        }
       ],
       "layout": {
        "template": {
         "data": {
          "bar": [
           {
            "error_x": {
             "color": "#2a3f5f"
            },
            "error_y": {
             "color": "#2a3f5f"
            },
            "marker": {
             "line": {
              "color": "#E5ECF6",
              "width": 0.5
             },
             "pattern": {
              "fillmode": "overlay",
              "size": 10,
              "solidity": 0.2
             }
            },
            "type": "bar"
           }
          ],
          "barpolar": [
           {
            "marker": {
             "line": {
              "color": "#E5ECF6",
              "width": 0.5
             },
             "pattern": {
              "fillmode": "overlay",
              "size": 10,
              "solidity": 0.2
             }
            },
            "type": "barpolar"
           }
          ],
          "carpet": [
           {
            "aaxis": {
             "endlinecolor": "#2a3f5f",
             "gridcolor": "white",
             "linecolor": "white",
             "minorgridcolor": "white",
             "startlinecolor": "#2a3f5f"
            },
            "baxis": {
             "endlinecolor": "#2a3f5f",
             "gridcolor": "white",
             "linecolor": "white",
             "minorgridcolor": "white",
             "startlinecolor": "#2a3f5f"
            },
            "type": "carpet"
           }
          ],
          "choropleth": [
           {
            "colorbar": {
             "outlinewidth": 0,
             "ticks": ""
            },
            "type": "choropleth"
           }
          ],
          "contour": [
           {
            "colorbar": {
             "outlinewidth": 0,
             "ticks": ""
            },
            "colorscale": [
             [
              0,
              "#0d0887"
             ],
             [
              0.1111111111111111,
              "#46039f"
             ],
             [
              0.2222222222222222,
              "#7201a8"
             ],
             [
              0.3333333333333333,
              "#9c179e"
             ],
             [
              0.4444444444444444,
              "#bd3786"
             ],
             [
              0.5555555555555556,
              "#d8576b"
             ],
             [
              0.6666666666666666,
              "#ed7953"
             ],
             [
              0.7777777777777778,
              "#fb9f3a"
             ],
             [
              0.8888888888888888,
              "#fdca26"
             ],
             [
              1,
              "#f0f921"
             ]
            ],
            "type": "contour"
           }
          ],
          "contourcarpet": [
           {
            "colorbar": {
             "outlinewidth": 0,
             "ticks": ""
            },
            "type": "contourcarpet"
           }
          ],
          "heatmap": [
           {
            "colorbar": {
             "outlinewidth": 0,
             "ticks": ""
            },
            "colorscale": [
             [
              0,
              "#0d0887"
             ],
             [
              0.1111111111111111,
              "#46039f"
             ],
             [
              0.2222222222222222,
              "#7201a8"
             ],
             [
              0.3333333333333333,
              "#9c179e"
             ],
             [
              0.4444444444444444,
              "#bd3786"
             ],
             [
              0.5555555555555556,
              "#d8576b"
             ],
             [
              0.6666666666666666,
              "#ed7953"
             ],
             [
              0.7777777777777778,
              "#fb9f3a"
             ],
             [
              0.8888888888888888,
              "#fdca26"
             ],
             [
              1,
              "#f0f921"
             ]
            ],
            "type": "heatmap"
           }
          ],
          "heatmapgl": [
           {
            "colorbar": {
             "outlinewidth": 0,
             "ticks": ""
            },
            "colorscale": [
             [
              0,
              "#0d0887"
             ],
             [
              0.1111111111111111,
              "#46039f"
             ],
             [
              0.2222222222222222,
              "#7201a8"
             ],
             [
              0.3333333333333333,
              "#9c179e"
             ],
             [
              0.4444444444444444,
              "#bd3786"
             ],
             [
              0.5555555555555556,
              "#d8576b"
             ],
             [
              0.6666666666666666,
              "#ed7953"
             ],
             [
              0.7777777777777778,
              "#fb9f3a"
             ],
             [
              0.8888888888888888,
              "#fdca26"
             ],
             [
              1,
              "#f0f921"
             ]
            ],
            "type": "heatmapgl"
           }
          ],
          "histogram": [
           {
            "marker": {
             "pattern": {
              "fillmode": "overlay",
              "size": 10,
              "solidity": 0.2
             }
            },
            "type": "histogram"
           }
          ],
          "histogram2d": [
           {
            "colorbar": {
             "outlinewidth": 0,
             "ticks": ""
            },
            "colorscale": [
             [
              0,
              "#0d0887"
             ],
             [
              0.1111111111111111,
              "#46039f"
             ],
             [
              0.2222222222222222,
              "#7201a8"
             ],
             [
              0.3333333333333333,
              "#9c179e"
             ],
             [
              0.4444444444444444,
              "#bd3786"
             ],
             [
              0.5555555555555556,
              "#d8576b"
             ],
             [
              0.6666666666666666,
              "#ed7953"
             ],
             [
              0.7777777777777778,
              "#fb9f3a"
             ],
             [
              0.8888888888888888,
              "#fdca26"
             ],
             [
              1,
              "#f0f921"
             ]
            ],
            "type": "histogram2d"
           }
          ],
          "histogram2dcontour": [
           {
            "colorbar": {
             "outlinewidth": 0,
             "ticks": ""
            },
            "colorscale": [
             [
              0,
              "#0d0887"
             ],
             [
              0.1111111111111111,
              "#46039f"
             ],
             [
              0.2222222222222222,
              "#7201a8"
             ],
             [
              0.3333333333333333,
              "#9c179e"
             ],
             [
              0.4444444444444444,
              "#bd3786"
             ],
             [
              0.5555555555555556,
              "#d8576b"
             ],
             [
              0.6666666666666666,
              "#ed7953"
             ],
             [
              0.7777777777777778,
              "#fb9f3a"
             ],
             [
              0.8888888888888888,
              "#fdca26"
             ],
             [
              1,
              "#f0f921"
             ]
            ],
            "type": "histogram2dcontour"
           }
          ],
          "mesh3d": [
           {
            "colorbar": {
             "outlinewidth": 0,
             "ticks": ""
            },
            "type": "mesh3d"
           }
          ],
          "parcoords": [
           {
            "line": {
             "colorbar": {
              "outlinewidth": 0,
              "ticks": ""
             }
            },
            "type": "parcoords"
           }
          ],
          "pie": [
           {
            "automargin": true,
            "type": "pie"
           }
          ],
          "scatter": [
           {
            "fillpattern": {
             "fillmode": "overlay",
             "size": 10,
             "solidity": 0.2
            },
            "type": "scatter"
           }
          ],
          "scatter3d": [
           {
            "line": {
             "colorbar": {
              "outlinewidth": 0,
              "ticks": ""
             }
            },
            "marker": {
             "colorbar": {
              "outlinewidth": 0,
              "ticks": ""
             }
            },
            "type": "scatter3d"
           }
          ],
          "scattercarpet": [
           {
            "marker": {
             "colorbar": {
              "outlinewidth": 0,
              "ticks": ""
             }
            },
            "type": "scattercarpet"
           }
          ],
          "scattergeo": [
           {
            "marker": {
             "colorbar": {
              "outlinewidth": 0,
              "ticks": ""
             }
            },
            "type": "scattergeo"
           }
          ],
          "scattergl": [
           {
            "marker": {
             "colorbar": {
              "outlinewidth": 0,
              "ticks": ""
             }
            },
            "type": "scattergl"
           }
          ],
          "scattermapbox": [
           {
            "marker": {
             "colorbar": {
              "outlinewidth": 0,
              "ticks": ""
             }
            },
            "type": "scattermapbox"
           }
          ],
          "scatterpolar": [
           {
            "marker": {
             "colorbar": {
              "outlinewidth": 0,
              "ticks": ""
             }
            },
            "type": "scatterpolar"
           }
          ],
          "scatterpolargl": [
           {
            "marker": {
             "colorbar": {
              "outlinewidth": 0,
              "ticks": ""
             }
            },
            "type": "scatterpolargl"
           }
          ],
          "scatterternary": [
           {
            "marker": {
             "colorbar": {
              "outlinewidth": 0,
              "ticks": ""
             }
            },
            "type": "scatterternary"
           }
          ],
          "surface": [
           {
            "colorbar": {
             "outlinewidth": 0,
             "ticks": ""
            },
            "colorscale": [
             [
              0,
              "#0d0887"
             ],
             [
              0.1111111111111111,
              "#46039f"
             ],
             [
              0.2222222222222222,
              "#7201a8"
             ],
             [
              0.3333333333333333,
              "#9c179e"
             ],
             [
              0.4444444444444444,
              "#bd3786"
             ],
             [
              0.5555555555555556,
              "#d8576b"
             ],
             [
              0.6666666666666666,
              "#ed7953"
             ],
             [
              0.7777777777777778,
              "#fb9f3a"
             ],
             [
              0.8888888888888888,
              "#fdca26"
             ],
             [
              1,
              "#f0f921"
             ]
            ],
            "type": "surface"
           }
          ],
          "table": [
           {
            "cells": {
             "fill": {
              "color": "#EBF0F8"
             },
             "line": {
              "color": "white"
             }
            },
            "header": {
             "fill": {
              "color": "#C8D4E3"
             },
             "line": {
              "color": "white"
             }
            },
            "type": "table"
           }
          ]
         },
         "layout": {
          "annotationdefaults": {
           "arrowcolor": "#2a3f5f",
           "arrowhead": 0,
           "arrowwidth": 1
          },
          "autotypenumbers": "strict",
          "coloraxis": {
           "colorbar": {
            "outlinewidth": 0,
            "ticks": ""
           }
          },
          "colorscale": {
           "diverging": [
            [
             0,
             "#8e0152"
            ],
            [
             0.1,
             "#c51b7d"
            ],
            [
             0.2,
             "#de77ae"
            ],
            [
             0.3,
             "#f1b6da"
            ],
            [
             0.4,
             "#fde0ef"
            ],
            [
             0.5,
             "#f7f7f7"
            ],
            [
             0.6,
             "#e6f5d0"
            ],
            [
             0.7,
             "#b8e186"
            ],
            [
             0.8,
             "#7fbc41"
            ],
            [
             0.9,
             "#4d9221"
            ],
            [
             1,
             "#276419"
            ]
           ],
           "sequential": [
            [
             0,
             "#0d0887"
            ],
            [
             0.1111111111111111,
             "#46039f"
            ],
            [
             0.2222222222222222,
             "#7201a8"
            ],
            [
             0.3333333333333333,
             "#9c179e"
            ],
            [
             0.4444444444444444,
             "#bd3786"
            ],
            [
             0.5555555555555556,
             "#d8576b"
            ],
            [
             0.6666666666666666,
             "#ed7953"
            ],
            [
             0.7777777777777778,
             "#fb9f3a"
            ],
            [
             0.8888888888888888,
             "#fdca26"
            ],
            [
             1,
             "#f0f921"
            ]
           ],
           "sequentialminus": [
            [
             0,
             "#0d0887"
            ],
            [
             0.1111111111111111,
             "#46039f"
            ],
            [
             0.2222222222222222,
             "#7201a8"
            ],
            [
             0.3333333333333333,
             "#9c179e"
            ],
            [
             0.4444444444444444,
             "#bd3786"
            ],
            [
             0.5555555555555556,
             "#d8576b"
            ],
            [
             0.6666666666666666,
             "#ed7953"
            ],
            [
             0.7777777777777778,
             "#fb9f3a"
            ],
            [
             0.8888888888888888,
             "#fdca26"
            ],
            [
             1,
             "#f0f921"
            ]
           ]
          },
          "colorway": [
           "#636efa",
           "#EF553B",
           "#00cc96",
           "#ab63fa",
           "#FFA15A",
           "#19d3f3",
           "#FF6692",
           "#B6E880",
           "#FF97FF",
           "#FECB52"
          ],
          "font": {
           "color": "#2a3f5f"
          },
          "geo": {
           "bgcolor": "white",
           "lakecolor": "white",
           "landcolor": "#E5ECF6",
           "showlakes": true,
           "showland": true,
           "subunitcolor": "white"
          },
          "hoverlabel": {
           "align": "left"
          },
          "hovermode": "closest",
          "mapbox": {
           "style": "light"
          },
          "paper_bgcolor": "white",
          "plot_bgcolor": "#E5ECF6",
          "polar": {
           "angularaxis": {
            "gridcolor": "white",
            "linecolor": "white",
            "ticks": ""
           },
           "bgcolor": "#E5ECF6",
           "radialaxis": {
            "gridcolor": "white",
            "linecolor": "white",
            "ticks": ""
           }
          },
          "scene": {
           "xaxis": {
            "backgroundcolor": "#E5ECF6",
            "gridcolor": "white",
            "gridwidth": 2,
            "linecolor": "white",
            "showbackground": true,
            "ticks": "",
            "zerolinecolor": "white"
           },
           "yaxis": {
            "backgroundcolor": "#E5ECF6",
            "gridcolor": "white",
            "gridwidth": 2,
            "linecolor": "white",
            "showbackground": true,
            "ticks": "",
            "zerolinecolor": "white"
           },
           "zaxis": {
            "backgroundcolor": "#E5ECF6",
            "gridcolor": "white",
            "gridwidth": 2,
            "linecolor": "white",
            "showbackground": true,
            "ticks": "",
            "zerolinecolor": "white"
           }
          },
          "shapedefaults": {
           "line": {
            "color": "#2a3f5f"
           }
          },
          "ternary": {
           "aaxis": {
            "gridcolor": "white",
            "linecolor": "white",
            "ticks": ""
           },
           "baxis": {
            "gridcolor": "white",
            "linecolor": "white",
            "ticks": ""
           },
           "bgcolor": "#E5ECF6",
           "caxis": {
            "gridcolor": "white",
            "linecolor": "white",
            "ticks": ""
           }
          },
          "title": {
           "x": 0.05
          },
          "xaxis": {
           "automargin": true,
           "gridcolor": "white",
           "linecolor": "white",
           "ticks": "",
           "title": {
            "standoff": 15
           },
           "zerolinecolor": "white",
           "zerolinewidth": 2
          },
          "yaxis": {
           "automargin": true,
           "gridcolor": "white",
           "linecolor": "white",
           "ticks": "",
           "title": {
            "standoff": 15
           },
           "zerolinecolor": "white",
           "zerolinewidth": 2
          }
         }
        },
        "title": {
         "text": "Temperature Distribution Over Tank Height and Over Time"
        },
        "xaxis": {
         "range": [
          0,
          2
         ],
         "title": {
          "text": "Height"
         }
        },
        "yaxis": {
         "title": {
          "text": "Temperature"
         }
        }
       }
      }
     },
     "metadata": {},
     "output_type": "display_data"
    },
    {
     "data": {
      "application/vnd.plotly.v1+json": {
       "config": {
        "plotlyServerURL": "https://plot.ly"
       },
       "data": [
        {
         "mode": "lines",
         "name": "Layer 0",
         "type": "scatter",
         "x": [
          0,
          1,
          2,
          3,
          4,
          5,
          6,
          7,
          8,
          9,
          10,
          11,
          12,
          13,
          14,
          15,
          16,
          17,
          18,
          19,
          20
         ],
         "y": [
          10,
          15,
          17.5,
          22.5,
          23.125,
          27.8125,
          27.03125,
          30.859375,
          29.51171875,
          32.587890625,
          31.064453125,
          33.5595703125,
          32.025146484375,
          34.0826416015625,
          32.607421875,
          34.3341064453125,
          32.947845458984375,
          34.42039489746094,
          33.13434600830078,
          34.407405853271484,
          33.22373867034912
         ]
        },
        {
         "mode": "lines",
         "name": "Layer 1",
         "type": "scatter",
         "x": [
          0,
          1,
          2,
          3,
          4,
          5,
          6,
          7,
          8,
          9,
          10,
          11,
          12,
          13,
          14,
          15,
          16,
          17,
          18,
          19,
          20
         ],
         "y": [
          20,
          20,
          27.5,
          23.75,
          32.5,
          26.25,
          34.6875,
          28.1640625,
          35.6640625,
          29.541015625,
          36.0546875,
          30.49072265625,
          36.14013671875,
          31.1322021484375,
          36.060791015625,
          31.56158447265625,
          35.8929443359375,
          31.848297119140625,
          35.68046569824219,
          32.04007148742676,
          35.44934272766113
         ]
        },
        {
         "mode": "lines",
         "name": "Layer 2",
         "type": "scatter",
         "x": [
          0,
          1,
          2,
          3,
          4,
          5,
          6,
          7,
          8,
          9,
          10,
          11,
          12,
          13,
          14,
          15,
          16,
          17,
          18,
          19,
          20
         ],
         "y": [
          30,
          40,
          30,
          42.5,
          29.375,
          41.5625,
          29.296875,
          40.46875,
          29.5703125,
          39.521484375,
          29.9169921875,
          38.720703125,
          30.2392578125,
          38.0389404296875,
          30.5157470703125,
          37.4517822265625,
          30.748748779296875,
          36.94053649902344,
          30.945796966552734,
          36.49127960205078,
          31.114187240600586
         ]
        },
        {
         "mode": "lines",
         "name": "Layer 3",
         "type": "scatter",
         "x": [
          0,
          1,
          2,
          3,
          4,
          5,
          6,
          7,
          8,
          9,
          10,
          11,
          12,
          13,
          14,
          15,
          16,
          17,
          18,
          19,
          20
         ],
         "y": [
          60,
          40,
          57.5,
          35,
          50.625,
          32.34375,
          46.25,
          30.9765625,
          43.37890625,
          30.29296875,
          41.38671875,
          29.98779296875,
          39.937744140625,
          29.8992919921875,
          38.8427734375,
          29.9359130859375,
          37.988128662109375,
          30.043296813964844,
          37.302093505859375,
          30.188302993774414,
          36.73786640167236
         ]
        },
        {
         "mode": "lines",
         "name": "Layer 4",
         "type": "scatter",
         "x": [
          0,
          1,
          2,
          3,
          4,
          5,
          6,
          7,
          8,
          9,
          10,
          11,
          12,
          13,
          14,
          15,
          16,
          17,
          18,
          19,
          20
         ],
         "y": [
          50,
          75,
          40.00000000000001,
          58.75,
          35.3125,
          50.9375,
          32.65625,
          46.2890625,
          31.015625,
          43.251953125,
          30.05859375,
          41.15478515625,
          29.559326171875,
          39.6466064453125,
          29.3560791015625,
          38.52447509765625,
          29.337844848632812,
          37.66365051269531,
          29.430809020996094,
          36.984453201293945,
          29.58690643310547
         ]
        },
        {
         "mode": "lines",
         "name": "Layer 5",
         "type": "scatter",
         "x": [
          0,
          1,
          2,
          3,
          4,
          5,
          6,
          7,
          8,
          9,
          10,
          11,
          12,
          13,
          14,
          15,
          16,
          17,
          18,
          19,
          20
         ],
         "y": [
          90,
          40.00000000000001,
          60,
          35.62500000000001,
          51.25,
          32.96875,
          46.328125,
          31.0546875,
          43.125,
          29.82421875,
          40.9228515625,
          29.130859375,
          39.35546875,
          28.8128662109375,
          38.2061767578125,
          28.739776611328125,
          37.33917236328125,
          28.818321228027344,
          36.666812896728516,
          28.985509872436523,
          36.13149642944336
         ]
        },
        {
         "mode": "lines",
         "name": "Layer 6",
         "type": "scatter",
         "x": [
          0,
          1,
          2,
          3,
          4,
          5,
          6,
          7,
          8,
          9,
          10,
          11,
          12,
          13,
          14,
          15,
          16,
          17,
          18,
          19,
          20
         ],
         "y": [
          30,
          45,
          31.250000000000007,
          43.75,
          30.625000000000007,
          41.71875,
          29.453125,
          39.9609375,
          28.6328125,
          38.59375,
          28.203125,
          37.55615234375,
          28.06640625,
          36.7657470703125,
          28.12347412109375,
          36.15386962890625,
          28.298797607421875,
          35.66997528076172,
          28.540210723876953,
          35.27853965759277,
          28.81342887878418
         ]
        },
        {
         "mode": "lines",
         "name": "Layer 7",
         "type": "scatter",
         "x": [
          0,
          1,
          2,
          3,
          4,
          5,
          6,
          7,
          8,
          9,
          10,
          11,
          12,
          13,
          14,
          15,
          16,
          17,
          18,
          19,
          20
         ],
         "y": [
          0,
          22.499999999999996,
          27.5,
          25.625000000000004,
          32.1875,
          25.937500000000004,
          33.59375,
          26.2109375,
          34.0625,
          26.58203125,
          34.189453125,
          27.001953125,
          34.176025390625,
          27.43408203125,
          34.1015625,
          27.857818603515625,
          34.00077819824219,
          28.262100219726562,
          33.89026641845703,
          28.641347885131836,
          33.77851486206055
         ]
        },
        {
         "mode": "lines",
         "name": "Layer 8",
         "type": "scatter",
         "x": [
          0,
          1,
          2,
          3,
          4,
          5,
          6,
          7,
          8,
          9,
          10,
          11,
          12,
          13,
          14,
          15,
          16,
          17,
          18,
          19,
          20
         ],
         "y": [
          15,
          10,
          19.999999999999996,
          20.625,
          21.25,
          25.468749999999996,
          22.96875,
          28.1640625,
          24.53125,
          29.78515625,
          25.80078125,
          30.7958984375,
          26.8017578125,
          31.4373779296875,
          27.5921630859375,
          31.847686767578125,
          28.22540283203125,
          32.110557556152344,
          28.74248504638672,
          32.27849006652832,
          29.1729736328125
         ]
        },
        {
         "mode": "lines",
         "name": "Layer 9",
         "type": "scatter",
         "x": [
          0,
          1,
          2,
          3,
          4,
          5,
          6,
          7,
          8,
          9,
          10,
          11,
          12,
          13,
          14,
          15,
          16,
          17,
          18,
          19,
          20
         ],
         "y": [
          20,
          17.5,
          13.75,
          16.874999999999996,
          18.749999999999996,
          19.999999999999996,
          22.734374999999996,
          22.851562499999996,
          25.507812499999996,
          25.01953125,
          27.40234375,
          26.6015625,
          28.69873046875,
          27.750244140625,
          29.59381103515625,
          28.592987060546875,
          30.2203369140625,
          29.222869873046875,
          30.66671371459961,
          29.704599380493164,
          30.991544723510742
         ]
        }
       ],
       "layout": {
        "template": {
         "data": {
          "bar": [
           {
            "error_x": {
             "color": "#2a3f5f"
            },
            "error_y": {
             "color": "#2a3f5f"
            },
            "marker": {
             "line": {
              "color": "#E5ECF6",
              "width": 0.5
             },
             "pattern": {
              "fillmode": "overlay",
              "size": 10,
              "solidity": 0.2
             }
            },
            "type": "bar"
           }
          ],
          "barpolar": [
           {
            "marker": {
             "line": {
              "color": "#E5ECF6",
              "width": 0.5
             },
             "pattern": {
              "fillmode": "overlay",
              "size": 10,
              "solidity": 0.2
             }
            },
            "type": "barpolar"
           }
          ],
          "carpet": [
           {
            "aaxis": {
             "endlinecolor": "#2a3f5f",
             "gridcolor": "white",
             "linecolor": "white",
             "minorgridcolor": "white",
             "startlinecolor": "#2a3f5f"
            },
            "baxis": {
             "endlinecolor": "#2a3f5f",
             "gridcolor": "white",
             "linecolor": "white",
             "minorgridcolor": "white",
             "startlinecolor": "#2a3f5f"
            },
            "type": "carpet"
           }
          ],
          "choropleth": [
           {
            "colorbar": {
             "outlinewidth": 0,
             "ticks": ""
            },
            "type": "choropleth"
           }
          ],
          "contour": [
           {
            "colorbar": {
             "outlinewidth": 0,
             "ticks": ""
            },
            "colorscale": [
             [
              0,
              "#0d0887"
             ],
             [
              0.1111111111111111,
              "#46039f"
             ],
             [
              0.2222222222222222,
              "#7201a8"
             ],
             [
              0.3333333333333333,
              "#9c179e"
             ],
             [
              0.4444444444444444,
              "#bd3786"
             ],
             [
              0.5555555555555556,
              "#d8576b"
             ],
             [
              0.6666666666666666,
              "#ed7953"
             ],
             [
              0.7777777777777778,
              "#fb9f3a"
             ],
             [
              0.8888888888888888,
              "#fdca26"
             ],
             [
              1,
              "#f0f921"
             ]
            ],
            "type": "contour"
           }
          ],
          "contourcarpet": [
           {
            "colorbar": {
             "outlinewidth": 0,
             "ticks": ""
            },
            "type": "contourcarpet"
           }
          ],
          "heatmap": [
           {
            "colorbar": {
             "outlinewidth": 0,
             "ticks": ""
            },
            "colorscale": [
             [
              0,
              "#0d0887"
             ],
             [
              0.1111111111111111,
              "#46039f"
             ],
             [
              0.2222222222222222,
              "#7201a8"
             ],
             [
              0.3333333333333333,
              "#9c179e"
             ],
             [
              0.4444444444444444,
              "#bd3786"
             ],
             [
              0.5555555555555556,
              "#d8576b"
             ],
             [
              0.6666666666666666,
              "#ed7953"
             ],
             [
              0.7777777777777778,
              "#fb9f3a"
             ],
             [
              0.8888888888888888,
              "#fdca26"
             ],
             [
              1,
              "#f0f921"
             ]
            ],
            "type": "heatmap"
           }
          ],
          "heatmapgl": [
           {
            "colorbar": {
             "outlinewidth": 0,
             "ticks": ""
            },
            "colorscale": [
             [
              0,
              "#0d0887"
             ],
             [
              0.1111111111111111,
              "#46039f"
             ],
             [
              0.2222222222222222,
              "#7201a8"
             ],
             [
              0.3333333333333333,
              "#9c179e"
             ],
             [
              0.4444444444444444,
              "#bd3786"
             ],
             [
              0.5555555555555556,
              "#d8576b"
             ],
             [
              0.6666666666666666,
              "#ed7953"
             ],
             [
              0.7777777777777778,
              "#fb9f3a"
             ],
             [
              0.8888888888888888,
              "#fdca26"
             ],
             [
              1,
              "#f0f921"
             ]
            ],
            "type": "heatmapgl"
           }
          ],
          "histogram": [
           {
            "marker": {
             "pattern": {
              "fillmode": "overlay",
              "size": 10,
              "solidity": 0.2
             }
            },
            "type": "histogram"
           }
          ],
          "histogram2d": [
           {
            "colorbar": {
             "outlinewidth": 0,
             "ticks": ""
            },
            "colorscale": [
             [
              0,
              "#0d0887"
             ],
             [
              0.1111111111111111,
              "#46039f"
             ],
             [
              0.2222222222222222,
              "#7201a8"
             ],
             [
              0.3333333333333333,
              "#9c179e"
             ],
             [
              0.4444444444444444,
              "#bd3786"
             ],
             [
              0.5555555555555556,
              "#d8576b"
             ],
             [
              0.6666666666666666,
              "#ed7953"
             ],
             [
              0.7777777777777778,
              "#fb9f3a"
             ],
             [
              0.8888888888888888,
              "#fdca26"
             ],
             [
              1,
              "#f0f921"
             ]
            ],
            "type": "histogram2d"
           }
          ],
          "histogram2dcontour": [
           {
            "colorbar": {
             "outlinewidth": 0,
             "ticks": ""
            },
            "colorscale": [
             [
              0,
              "#0d0887"
             ],
             [
              0.1111111111111111,
              "#46039f"
             ],
             [
              0.2222222222222222,
              "#7201a8"
             ],
             [
              0.3333333333333333,
              "#9c179e"
             ],
             [
              0.4444444444444444,
              "#bd3786"
             ],
             [
              0.5555555555555556,
              "#d8576b"
             ],
             [
              0.6666666666666666,
              "#ed7953"
             ],
             [
              0.7777777777777778,
              "#fb9f3a"
             ],
             [
              0.8888888888888888,
              "#fdca26"
             ],
             [
              1,
              "#f0f921"
             ]
            ],
            "type": "histogram2dcontour"
           }
          ],
          "mesh3d": [
           {
            "colorbar": {
             "outlinewidth": 0,
             "ticks": ""
            },
            "type": "mesh3d"
           }
          ],
          "parcoords": [
           {
            "line": {
             "colorbar": {
              "outlinewidth": 0,
              "ticks": ""
             }
            },
            "type": "parcoords"
           }
          ],
          "pie": [
           {
            "automargin": true,
            "type": "pie"
           }
          ],
          "scatter": [
           {
            "fillpattern": {
             "fillmode": "overlay",
             "size": 10,
             "solidity": 0.2
            },
            "type": "scatter"
           }
          ],
          "scatter3d": [
           {
            "line": {
             "colorbar": {
              "outlinewidth": 0,
              "ticks": ""
             }
            },
            "marker": {
             "colorbar": {
              "outlinewidth": 0,
              "ticks": ""
             }
            },
            "type": "scatter3d"
           }
          ],
          "scattercarpet": [
           {
            "marker": {
             "colorbar": {
              "outlinewidth": 0,
              "ticks": ""
             }
            },
            "type": "scattercarpet"
           }
          ],
          "scattergeo": [
           {
            "marker": {
             "colorbar": {
              "outlinewidth": 0,
              "ticks": ""
             }
            },
            "type": "scattergeo"
           }
          ],
          "scattergl": [
           {
            "marker": {
             "colorbar": {
              "outlinewidth": 0,
              "ticks": ""
             }
            },
            "type": "scattergl"
           }
          ],
          "scattermapbox": [
           {
            "marker": {
             "colorbar": {
              "outlinewidth": 0,
              "ticks": ""
             }
            },
            "type": "scattermapbox"
           }
          ],
          "scatterpolar": [
           {
            "marker": {
             "colorbar": {
              "outlinewidth": 0,
              "ticks": ""
             }
            },
            "type": "scatterpolar"
           }
          ],
          "scatterpolargl": [
           {
            "marker": {
             "colorbar": {
              "outlinewidth": 0,
              "ticks": ""
             }
            },
            "type": "scatterpolargl"
           }
          ],
          "scatterternary": [
           {
            "marker": {
             "colorbar": {
              "outlinewidth": 0,
              "ticks": ""
             }
            },
            "type": "scatterternary"
           }
          ],
          "surface": [
           {
            "colorbar": {
             "outlinewidth": 0,
             "ticks": ""
            },
            "colorscale": [
             [
              0,
              "#0d0887"
             ],
             [
              0.1111111111111111,
              "#46039f"
             ],
             [
              0.2222222222222222,
              "#7201a8"
             ],
             [
              0.3333333333333333,
              "#9c179e"
             ],
             [
              0.4444444444444444,
              "#bd3786"
             ],
             [
              0.5555555555555556,
              "#d8576b"
             ],
             [
              0.6666666666666666,
              "#ed7953"
             ],
             [
              0.7777777777777778,
              "#fb9f3a"
             ],
             [
              0.8888888888888888,
              "#fdca26"
             ],
             [
              1,
              "#f0f921"
             ]
            ],
            "type": "surface"
           }
          ],
          "table": [
           {
            "cells": {
             "fill": {
              "color": "#EBF0F8"
             },
             "line": {
              "color": "white"
             }
            },
            "header": {
             "fill": {
              "color": "#C8D4E3"
             },
             "line": {
              "color": "white"
             }
            },
            "type": "table"
           }
          ]
         },
         "layout": {
          "annotationdefaults": {
           "arrowcolor": "#2a3f5f",
           "arrowhead": 0,
           "arrowwidth": 1
          },
          "autotypenumbers": "strict",
          "coloraxis": {
           "colorbar": {
            "outlinewidth": 0,
            "ticks": ""
           }
          },
          "colorscale": {
           "diverging": [
            [
             0,
             "#8e0152"
            ],
            [
             0.1,
             "#c51b7d"
            ],
            [
             0.2,
             "#de77ae"
            ],
            [
             0.3,
             "#f1b6da"
            ],
            [
             0.4,
             "#fde0ef"
            ],
            [
             0.5,
             "#f7f7f7"
            ],
            [
             0.6,
             "#e6f5d0"
            ],
            [
             0.7,
             "#b8e186"
            ],
            [
             0.8,
             "#7fbc41"
            ],
            [
             0.9,
             "#4d9221"
            ],
            [
             1,
             "#276419"
            ]
           ],
           "sequential": [
            [
             0,
             "#0d0887"
            ],
            [
             0.1111111111111111,
             "#46039f"
            ],
            [
             0.2222222222222222,
             "#7201a8"
            ],
            [
             0.3333333333333333,
             "#9c179e"
            ],
            [
             0.4444444444444444,
             "#bd3786"
            ],
            [
             0.5555555555555556,
             "#d8576b"
            ],
            [
             0.6666666666666666,
             "#ed7953"
            ],
            [
             0.7777777777777778,
             "#fb9f3a"
            ],
            [
             0.8888888888888888,
             "#fdca26"
            ],
            [
             1,
             "#f0f921"
            ]
           ],
           "sequentialminus": [
            [
             0,
             "#0d0887"
            ],
            [
             0.1111111111111111,
             "#46039f"
            ],
            [
             0.2222222222222222,
             "#7201a8"
            ],
            [
             0.3333333333333333,
             "#9c179e"
            ],
            [
             0.4444444444444444,
             "#bd3786"
            ],
            [
             0.5555555555555556,
             "#d8576b"
            ],
            [
             0.6666666666666666,
             "#ed7953"
            ],
            [
             0.7777777777777778,
             "#fb9f3a"
            ],
            [
             0.8888888888888888,
             "#fdca26"
            ],
            [
             1,
             "#f0f921"
            ]
           ]
          },
          "colorway": [
           "#636efa",
           "#EF553B",
           "#00cc96",
           "#ab63fa",
           "#FFA15A",
           "#19d3f3",
           "#FF6692",
           "#B6E880",
           "#FF97FF",
           "#FECB52"
          ],
          "font": {
           "color": "#2a3f5f"
          },
          "geo": {
           "bgcolor": "white",
           "lakecolor": "white",
           "landcolor": "#E5ECF6",
           "showlakes": true,
           "showland": true,
           "subunitcolor": "white"
          },
          "hoverlabel": {
           "align": "left"
          },
          "hovermode": "closest",
          "mapbox": {
           "style": "light"
          },
          "paper_bgcolor": "white",
          "plot_bgcolor": "#E5ECF6",
          "polar": {
           "angularaxis": {
            "gridcolor": "white",
            "linecolor": "white",
            "ticks": ""
           },
           "bgcolor": "#E5ECF6",
           "radialaxis": {
            "gridcolor": "white",
            "linecolor": "white",
            "ticks": ""
           }
          },
          "scene": {
           "xaxis": {
            "backgroundcolor": "#E5ECF6",
            "gridcolor": "white",
            "gridwidth": 2,
            "linecolor": "white",
            "showbackground": true,
            "ticks": "",
            "zerolinecolor": "white"
           },
           "yaxis": {
            "backgroundcolor": "#E5ECF6",
            "gridcolor": "white",
            "gridwidth": 2,
            "linecolor": "white",
            "showbackground": true,
            "ticks": "",
            "zerolinecolor": "white"
           },
           "zaxis": {
            "backgroundcolor": "#E5ECF6",
            "gridcolor": "white",
            "gridwidth": 2,
            "linecolor": "white",
            "showbackground": true,
            "ticks": "",
            "zerolinecolor": "white"
           }
          },
          "shapedefaults": {
           "line": {
            "color": "#2a3f5f"
           }
          },
          "ternary": {
           "aaxis": {
            "gridcolor": "white",
            "linecolor": "white",
            "ticks": ""
           },
           "baxis": {
            "gridcolor": "white",
            "linecolor": "white",
            "ticks": ""
           },
           "bgcolor": "#E5ECF6",
           "caxis": {
            "gridcolor": "white",
            "linecolor": "white",
            "ticks": ""
           }
          },
          "title": {
           "x": 0.05
          },
          "xaxis": {
           "automargin": true,
           "gridcolor": "white",
           "linecolor": "white",
           "ticks": "",
           "title": {
            "standoff": 15
           },
           "zerolinecolor": "white",
           "zerolinewidth": 2
          },
          "yaxis": {
           "automargin": true,
           "gridcolor": "white",
           "linecolor": "white",
           "ticks": "",
           "title": {
            "standoff": 15
           },
           "zerolinecolor": "white",
           "zerolinewidth": 2
          }
         }
        },
        "title": {
         "text": "Temperature of Each Layer Over Time"
        },
        "xaxis": {
         "title": {
          "text": "Time Step"
         }
        },
        "yaxis": {
         "title": {
          "text": "Temperature"
         }
        }
       }
      }
     },
     "metadata": {},
     "output_type": "display_data"
    }
   ],
   "source": [
    "import numpy as np\n",
    "import matplotlib.pyplot as plt\n",
    "import plotly.graph_objects as go\n",
    "import plotly.express as px\n",
    "\n",
    "############### Definitons for the model\n",
    "class HeatDistributionVector_model0:\n",
    "    def __init__(self, alpha, z, T_initial, dt):\n",
    "        self.alpha = alpha                           # heat diffusivity\n",
    "        self.z = z                                   # height of the tank\n",
    "        self.num_layers = len(T_initial)             # number of layers (steps in space)\n",
    "        self.dt = dt                                 # step size in time (time step)\n",
    "        self.T_initial = np.array(T_initial)         # initial state of the temperatures along the tank [list] !!! Same lenght as num_layers\n",
    "        \n",
    "        self.dz = z / self.num_layers                # step size in space (delta z, height of a layer) is total height/number of layers, num_layers = how big the initial temperature vector is\n",
    "        # Create a \n",
    "        self.heights = [i * self.dz + self.dz/2 for i in range(len(T_initial))]     # list representing the height of the tank for plotting the temperatures in the middle of each layer\n",
    "  \n",
    "\n",
    "\n",
    " # definition of the solver for the temperature vector in the next time step       \n",
    "    def vector_solve(self, num_steps):\n",
    "        T_old = np.copy(self.T_initial)\n",
    "        results = [T_old.copy()]                    # Store initial temperature array\n",
    "\n",
    "        for _ in range(num_steps):\n",
    "\n",
    "            T_new = np.copy(T_old)\n",
    "\n",
    "            T_old_next = np.roll(T_old, -1)         # roll every i by -1 so that the \"next\" i is selected\n",
    "            T_old_prev = np.roll(T_old, 1)          # roll every i by 1 so that the \"previous\" i is selected\n",
    "            \n",
    "            # Apply heat transfer equation for model 0\n",
    "            T_new = (T_old \n",
    "                     + ((self.alpha) * (T_old_next - (2*T_old) + T_old_prev) / (self.dz**2)) * self.dt)\n",
    "            \n",
    "            # Boundary conditions\n",
    "            T_new[0] = (T_old[0]\n",
    "                         + ((self.alpha) * (T_old[1] - (2*T_old[0]) + T_old[0]) / (self.dz**2)) * self.dt)       # assuming no heat exchange in the boundary, the tmeperature \"outside\" of the tank (T_old_prev of first entry) would be the same as inside of the tank (T[0])\n",
    "            T_new[-1] = (T_old[-1]\n",
    "                          + ((self.alpha) * (T_old[-1] - (2*T_old[-1]) + T_old[-2]) / (self.dz**2)) * self.dt)   # assuming no heat exchange in the boundary, the tmeperature \"outside\" of the tank (T_old_next of last entry) would be the same as inside of the tank T[-1]\n",
    "\n",
    "            T_old = np.copy(T_new) # return the new temperature as old temperature for the next iteration\n",
    "\n",
    "            results.append(T_old.copy())            # Store the updated temperature array fo later plot\n",
    "\n",
    "        return T_old, results\n",
    "    \n",
    " # check the stability of the model with the selected dt\n",
    "    def stability_check(self):\n",
    "        # check if the time step dt is small enough with CFL condition: dt <= (dz^2) / (2 * alpha)\n",
    "        cfl_dt_max = (self.dz ** 2) / (2 * self.alpha)\n",
    "        if self.dt > cfl_dt_max:\n",
    "            print(f\"Warning: Time step size dt {self.dt} exceeds CFL stability limit ({cfl_dt_max}).\")\n",
    "            sc = 1\n",
    "        else:\n",
    "            sc = 0\n",
    "        return sc\n",
    "    \n",
    "\n",
    "# Plot the layer temperatures over the height for different times\n",
    "def plot_results_height(results, heights):\n",
    "    # Create traces for each time step\n",
    "    traces = []\n",
    "    for i, temp_array in enumerate(results):            # results in [time x layers] -> enumerate gives all values of one row for one index (column) -> all layers (row) at one time\n",
    "        time_passed = dt * i                            # Calculate the time passed\n",
    "        trace = go.Scatter(\n",
    "        x=heights,                                      # X axis is the height of each layer\n",
    "            y=temp_array,                               # Y axis is the temperatures in each layer\n",
    "            mode='lines',\n",
    "            name=f'Time Passed: {time_passed} seconds'  # Use calculated time in legend\n",
    "        )\n",
    "        traces.append(trace)\n",
    "\n",
    "    # Create the plot layout\n",
    "    layout = go.Layout(\n",
    "        title='Temperature Distribution Over Tank Height and Over Time',\n",
    "        xaxis=dict(title='Height', range=[0, z]),\n",
    "        yaxis=dict(title='Temperature'),\n",
    "    )\n",
    "\n",
    "    # Create the figure and plot it\n",
    "    fig = go.Figure(data=traces, layout=layout)\n",
    "    fig.show()\n",
    "\n",
    "# Plot the layer temperatures over time\n",
    "def plot_results_time(results, heights, z):\n",
    "    # Create traces for each layer\n",
    "    traces = []\n",
    "    for i, temp_array in enumerate(np.array(results).T):  # Transpose the results array to iterate over layers -> [layers x time] -> row is the temperature over time of one sensor\n",
    "        trace = go.Scatter(\n",
    "            x=np.arange(len(temp_array)),                 # X axis is the timeline (Time steps)\n",
    "            y=temp_array,                                 # Y axis is the temperature of all layers in each time step    \n",
    "            mode='lines',\n",
    "            name=f'Layer {i}'                               # Layer number\n",
    "        )\n",
    "        traces.append(trace)\n",
    "\n",
    "    # Create the plot layout\n",
    "    layout = go.Layout(\n",
    "        title='Temperature of Each Layer Over Time',\n",
    "        xaxis=dict(title='Time Step'),\n",
    "        yaxis=dict(title='Temperature'),\n",
    "    )\n",
    "\n",
    "    # Create the figure and plot it\n",
    "    fig = go.Figure(data=traces, layout=layout)\n",
    "    fig.show()\n",
    "\n",
    "############### \n",
    "            \n",
    "# define variables  \n",
    "    # lenght of the selected T_zero defines the number of layers    \n",
    "T_1 = np.array([10, 10, 10, 10, 10, 90, 90, 90, 90, 90]) # initial temperature in the tank for each layer\n",
    "T_2 = [10, 20, 30, 60, 50, 90, 30, 0, 15, 20]\n",
    "T_3 = [100, 80, 50, 60, 20, 50, 10, 20, 50, 80]\n",
    "T_4 = np.array([100, 90, 80 ,70, 60, 50, 40, 30, 20, 10])\n",
    "T_5 = [100, 10, 80 ,200, 60, 70, -10, 30, -10, 10]\n",
    "\n",
    "T_zero = T_2\n",
    "alpha = 1#0.000000146                # heat diffusivity [0.146 x 10-6 m2/s]\n",
    "z = 2                      # height of the tank [m]\n",
    "dt = 0.02                      # length of the time steps  \n",
    "num_steps = 20             # number of time steps to be made\n",
    "\n",
    "\n",
    "\n",
    "tank_vector = HeatDistributionVector_model0(alpha, z, T_zero, dt)\n",
    "stability = tank_vector.stability_check()\n",
    "\n",
    "if (stability == 0):\n",
    "    # Solve for the temperatures\n",
    "    final_temperature, results = tank_vector.vector_solve(num_steps)\n",
    "    # Plot the results\n",
    "    plot_results_height(results, tank_vector.heights)\n",
    "    plot_results_time(results, tank_vector.heights, tank_vector.z)\n",
    "\n"
   ]
  },
  {
   "cell_type": "code",
   "execution_count": 4,
   "metadata": {},
   "outputs": [
    {
     "data": {
      "text/plain": [
       "'import numpy as np\\nimport matplotlib.pyplot as plt\\nimport plotly.graph_objects as go\\nimport plotly.express as px\\n\\n# dz is constant\\n\\nclass HeatDistribution1:\\n    def __init__(self, alpha, z, num_layers, T_initial):\\n        self.alpha = alpha                # heat diffusivity\\n        self.z = z                        # height of the tank\\n        self.num_layers = num_layers      # number of layers (steps in space)\\n        #self.dt = dt                     # step size in time (time step)\\n        self.T_initial = T_initial        # initial state of the temperatures along the tank [list] !!! Same lenght as num_layers\\n        \\n\\n        self.dz = z / num_layers          # step size in space (delta z, height of a layer)\\n\\n        # Create a list representing the height of the tank for plotting\\n        self.heights = [i * self.dz for i in range(num_layers)]\\n\\n        \\n\\n\\n    def solve(self, num_steps, dt):     # time step numbers and size dt\\n        temp = np.copy(self.T_initial)          # initialize temperature \\n\\n\\n        # iterate over time (time steps)\\n        for k in range(num_steps):\\n            # save old temp (either initial or calculated) as new temp\\n            new_temp = np.copy(temp)\\n\\n            # update boundary conditions by assuming next closest temperature in the tank \"on both sides\" (outside of the tank)\\n            new_temp[0] = temp[0] + self.alpha * ((temp[1] - 2*temp[0] + temp[1]) / self.dz**2) * dt # boundary condition at the bottom of the tank (i=0), it takes the first temperature after boundary in the tank twice (i=1)\\n            new_temp[-1] = temp[-1] + self.alpha * ((temp[-2] - 2*temp[-1] + temp[-2]) / self.dz**2) * dt # boundary contidion at the top of the tank (i=-1), it takes the last temperature before boundary in the tank twice (i=-2)\\n\\n            # iterate over space (layers)\\n            for i in range(1, self.num_layers - 1):\\n                new_temp[i] = temp[i] + self.alpha * ((temp[i+1] - 2*temp[i] + temp[i-1]) / self.dz**2) * dt\\n\\n            temp = np.copy(new_temp)\\n                \\n\\n             \\n        return temp\\n\\n\\n\\n#if __name__ == \"__main__\":\\n### Definition of variables for the class\\nalpha = 0.001       # heat diffusivity\\nz = 10              # height of the tank\\nnum_layers = 10     # number of layers of the tank\\n\\n#T_initial1 = [10, 20, 30, 40, 50, 90, 50, 40, 15, 20] # initial temperature\\nT_initial2 = [10, 10, 10, 10, 10, 90, 90, 90, 90, 90]\\nT = T_initial2      # T to be passed on to the class\\n\\n\\nT_initial = [10, 20, 30, 60, 50, 90, 30, 0, 15, 20]\\nT_rand = [100, 80, 50, 60, 20, 50, 10, 20, 50, 80]\\nT_lin = [100, 90, 80 ,70, 60, 50, 40, 30, 20, 10]\\nT_x = [100, 10, 80 ,200, 60, 50, -10, 30, -100, 10]\\n\\n### Definition of variables for the solver\\nnum_steps = 1       # number of time steps to be made\\ndt = 1              # length of the time steps\\n\\n\\n# Create TankHeatDistribution instance\\ntank = HeatDistribution1(alpha, z, num_layers, T)\\n\\n\\n# Solve the model\\ntemperature_distribution0 = tank.solve(0, dt)           #1s\\ntemperature_distribution1 = tank.solve(1, dt)           #1s\\ntemperature_distribution2 = tank.solve(3, dt)           #3s\\ntemperature_distribution3 = tank.solve(10, dt)          #10s\\ntemperature_distribution4 = tank.solve(30, dt)          #30s\\ntemperature_distribution5 = tank.solve(40, dt)          #40s\\ntemperature_distribution6 = tank.solve(50, dt)          #50s\\ntemperature_distribution7 = tank.solve(60, dt)          #60s\\ntemperature_distribution8 = tank.solve(80, dt)          #120s\\ntemperature_distribution9 = tank.solve(500, dt)         #120s\\n\\n# Create a figure\\nfig = go.Figure()\\n# Plot temperature data on primary y-axis\\n\\nfig.add_trace(go.Scatter(x=tank.heights, y=T, mode=\\'lines\\', name=\\'initial\\'))\\nfig.add_trace(go.Scatter(x=tank.heights, y=temperature_distribution0, mode=\\'lines\\', name=\\'t0 = 0s\\'))\\nfig.add_trace(go.Scatter(x=tank.heights, y=temperature_distribution1, mode=\\'lines\\', name=\\'t1 = 1s\\'))\\nfig.add_trace(go.Scatter(x=tank.heights, y=temperature_distribution2, mode=\\'lines\\', name=\\'t2 = 3s\\'))\\nfig.add_trace(go.Scatter(x=tank.heights, y=temperature_distribution3, mode=\\'lines\\', name=\\'t3 = 10s\\'))\\nfig.add_trace(go.Scatter(x=tank.heights, y=temperature_distribution4, mode=\\'lines\\', name=\\'t4 = 30s\\'))\\nfig.add_trace(go.Scatter(x=tank.heights, y=temperature_distribution5, mode=\\'lines\\', name=\\'t5 = 40s\\'))\\nfig.add_trace(go.Scatter(x=tank.heights, y=temperature_distribution6, mode=\\'lines\\', name=\\'t6 = 50s\\'))\\nfig.add_trace(go.Scatter(x=tank.heights, y=temperature_distribution7, mode=\\'lines\\', name=\\'t7 = 60s\\'))\\nfig.add_trace(go.Scatter(x=tank.heights, y=temperature_distribution8, mode=\\'lines\\', name=\\'t8 = 80s\\'))\\nfig.add_trace(go.Scatter(x=tank.heights, y=temperature_distribution9, mode=\\'lines\\', name=\\'t8 = 100s\\'))\\n\\n# Show plot\\nfig.show()\\n'"
      ]
     },
     "execution_count": 4,
     "metadata": {},
     "output_type": "execute_result"
    }
   ],
   "source": [
    "# FAILED NON-VECTOR APPROACH\n",
    "\"\"\"import numpy as np\n",
    "import matplotlib.pyplot as plt\n",
    "import plotly.graph_objects as go\n",
    "import plotly.express as px\n",
    "\n",
    "# dz is constant\n",
    "\n",
    "class HeatDistribution1:\n",
    "    def __init__(self, alpha, z, num_layers, T_initial):\n",
    "        self.alpha = alpha                # heat diffusivity\n",
    "        self.z = z                        # height of the tank\n",
    "        self.num_layers = num_layers      # number of layers (steps in space)\n",
    "        #self.dt = dt                     # step size in time (time step)\n",
    "        self.T_initial = T_initial        # initial state of the temperatures along the tank [list] !!! Same lenght as num_layers\n",
    "        \n",
    "\n",
    "        self.dz = z / num_layers          # step size in space (delta z, height of a layer)\n",
    "\n",
    "        # Create a list representing the height of the tank for plotting\n",
    "        self.heights = [i * self.dz for i in range(num_layers)]\n",
    "\n",
    "        \n",
    "\n",
    "\n",
    "    def solve(self, num_steps, dt):     # time step numbers and size dt\n",
    "        temp = np.copy(self.T_initial)          # initialize temperature \n",
    "\n",
    "\n",
    "        # iterate over time (time steps)\n",
    "        for k in range(num_steps):\n",
    "            # save old temp (either initial or calculated) as new temp\n",
    "            new_temp = np.copy(temp)\n",
    "\n",
    "            # update boundary conditions by assuming next closest temperature in the tank \"on both sides\" (outside of the tank)\n",
    "            new_temp[0] = temp[0] + self.alpha * ((temp[1] - 2*temp[0] + temp[1]) / self.dz**2) * dt # boundary condition at the bottom of the tank (i=0), it takes the first temperature after boundary in the tank twice (i=1)\n",
    "            new_temp[-1] = temp[-1] + self.alpha * ((temp[-2] - 2*temp[-1] + temp[-2]) / self.dz**2) * dt # boundary contidion at the top of the tank (i=-1), it takes the last temperature before boundary in the tank twice (i=-2)\n",
    "\n",
    "            # iterate over space (layers)\n",
    "            for i in range(1, self.num_layers - 1):\n",
    "                new_temp[i] = temp[i] + self.alpha * ((temp[i+1] - 2*temp[i] + temp[i-1]) / self.dz**2) * dt\n",
    "\n",
    "            temp = np.copy(new_temp)\n",
    "                \n",
    "\n",
    "             \n",
    "        return temp\n",
    "\n",
    "\n",
    "\n",
    "#if __name__ == \"__main__\":\n",
    "### Definition of variables for the class\n",
    "alpha = 0.001       # heat diffusivity\n",
    "z = 10              # height of the tank\n",
    "num_layers = 10     # number of layers of the tank\n",
    "\n",
    "#T_initial1 = [10, 20, 30, 40, 50, 90, 50, 40, 15, 20] # initial temperature\n",
    "T_initial2 = [10, 10, 10, 10, 10, 90, 90, 90, 90, 90]\n",
    "T = T_initial2      # T to be passed on to the class\n",
    "\n",
    "\n",
    "T_initial = [10, 20, 30, 60, 50, 90, 30, 0, 15, 20]\n",
    "T_rand = [100, 80, 50, 60, 20, 50, 10, 20, 50, 80]\n",
    "T_lin = [100, 90, 80 ,70, 60, 50, 40, 30, 20, 10]\n",
    "T_x = [100, 10, 80 ,200, 60, 50, -10, 30, -100, 10]\n",
    "\n",
    "### Definition of variables for the solver\n",
    "num_steps = 1       # number of time steps to be made\n",
    "dt = 1              # length of the time steps\n",
    "\n",
    "\n",
    "# Create TankHeatDistribution instance\n",
    "tank = HeatDistribution1(alpha, z, num_layers, T)\n",
    "\n",
    "\n",
    "# Solve the model\n",
    "temperature_distribution0 = tank.solve(0, dt)           #1s\n",
    "temperature_distribution1 = tank.solve(1, dt)           #1s\n",
    "temperature_distribution2 = tank.solve(3, dt)           #3s\n",
    "temperature_distribution3 = tank.solve(10, dt)          #10s\n",
    "temperature_distribution4 = tank.solve(30, dt)          #30s\n",
    "temperature_distribution5 = tank.solve(40, dt)          #40s\n",
    "temperature_distribution6 = tank.solve(50, dt)          #50s\n",
    "temperature_distribution7 = tank.solve(60, dt)          #60s\n",
    "temperature_distribution8 = tank.solve(80, dt)          #120s\n",
    "temperature_distribution9 = tank.solve(500, dt)         #120s\n",
    "\n",
    "# Create a figure\n",
    "fig = go.Figure()\n",
    "# Plot temperature data on primary y-axis\n",
    "\n",
    "fig.add_trace(go.Scatter(x=tank.heights, y=T, mode='lines', name='initial'))\n",
    "fig.add_trace(go.Scatter(x=tank.heights, y=temperature_distribution0, mode='lines', name='t0 = 0s'))\n",
    "fig.add_trace(go.Scatter(x=tank.heights, y=temperature_distribution1, mode='lines', name='t1 = 1s'))\n",
    "fig.add_trace(go.Scatter(x=tank.heights, y=temperature_distribution2, mode='lines', name='t2 = 3s'))\n",
    "fig.add_trace(go.Scatter(x=tank.heights, y=temperature_distribution3, mode='lines', name='t3 = 10s'))\n",
    "fig.add_trace(go.Scatter(x=tank.heights, y=temperature_distribution4, mode='lines', name='t4 = 30s'))\n",
    "fig.add_trace(go.Scatter(x=tank.heights, y=temperature_distribution5, mode='lines', name='t5 = 40s'))\n",
    "fig.add_trace(go.Scatter(x=tank.heights, y=temperature_distribution6, mode='lines', name='t6 = 50s'))\n",
    "fig.add_trace(go.Scatter(x=tank.heights, y=temperature_distribution7, mode='lines', name='t7 = 60s'))\n",
    "fig.add_trace(go.Scatter(x=tank.heights, y=temperature_distribution8, mode='lines', name='t8 = 80s'))\n",
    "fig.add_trace(go.Scatter(x=tank.heights, y=temperature_distribution9, mode='lines', name='t8 = 100s'))\n",
    "\n",
    "# Show plot\n",
    "fig.show()\n",
    "\"\"\"\n",
    "    "
   ]
  },
  {
   "cell_type": "markdown",
   "metadata": {},
   "source": []
  },
  {
   "cell_type": "markdown",
   "metadata": {},
   "source": [
    "### Model 1: [β] heat losses in the surface of the tank\n",
    "\n",
    "The coefficient of heat loss β is derived from the energy balance of a system with heat losses to the ambient. It contains information about the geometry of the surface through which the heat will be transferred, the characteristics of the element of the balanced system (layer) and the heat loss properties of the isolation layer (U-Value or k), which describes the rate of heat loss per surface area and per unit temperature difference with the ambient. This coefficient remains constant throughout the inner layers of the tank (since the exposed surface area of the layers is constant). For the first (i=0) and last (i=-1) layers, the coefficient changes, since heat is also lost through the tank's bottom and top areas. For a cylindric tank where the ground and ceiling have the shape of the cross sectional area, following applies:\n",
    "\n",
    "\n",
    "$\n",
    "\\beta_i = \\frac{A_{s} \\cdot k_i}{ V_i\\cdot \\rho \\cdot c_p} =\n",
    "\\frac{P_i \\cdot k_i}{\\rho \\cdot c_p \\cdot A_i}\n",
    "$\n",
    "\n",
    "$\n",
    "\\beta_0 = \\beta_i + \\beta_{bottom} =\\frac{P_i \\cdot k_i}{\\rho \\cdot c_p \\cdot A_i} + \\frac{k_{bottom}}{\\Delta z \\cdot \\rho \\cdot c_p}\n",
    "$\n",
    "\n",
    "$\n",
    "\\beta_{-1} = \\beta_i + \\beta_{top} = \\frac{P_i \\cdot k_i}{\\rho \\cdot c_p \\cdot A_i} + \\frac{k_{top}}{\\Delta z \\cdot \\rho \\cdot c_p}\n",
    "$\n",
    "\n",
    "Where:\n",
    "\n",
    "$\\beta_i$ is the heat loss coefficient in the layer i [1/s]\\\n",
    "$k_i$ is the thermal conductivity of the wall in the layer i [W/(m²K)].\\\n",
    "$\\rho$ is the density of the fluid [kg/m³]\\\n",
    "$c_p$ is the specific heat capacity of the fluid [J/kgK]\\\n",
    "$A_s$ is the exposed surface area of the tank [m²]\\\n",
    "$\\Delta z$ is the height of the layer [m]\\\n",
    "$V_i$ is the volumen of the layer [m³]\\\n",
    "$P_i$ is the cross-sectional perimeter of the layer [m]\\\n",
    "$A_i$ is the cross-sectional area of the layer [m²]\n",
    "\n",
    "\n"
   ]
  },
  {
   "cell_type": "markdown",
   "metadata": {},
   "source": [
    "Heat transfer equation for the diffusion within the layers i at times k regarding heat losses will be extended to include β\n",
    "\n",
    "$$\n",
    "\\begin{align*}\n",
    "\\frac{\\delta T_i}{\\delta t} = & \\alpha  \\frac{\\delta^2 T}{\\delta z^2} + \\frac{P_i k_i}{\\rho  c_p  A_i}(T_\\infty-T_i) \\\\\n",
    "= & \\alpha  \\frac{\\delta^2 T}{\\delta z^2} + \\beta_i(T_\\infty-T_i) \\\\ \n",
    "\n",
    "\\end{align*}\n",
    "$$\n",
    "\n",
    "resulting in the extended equation after applying the discretization step from Model 0\n",
    "\n",
    "$$\n",
    "\\begin{align*}\n",
    "T_{k+1,i} = T_{k,i} + (\\alpha (\\frac{T_{k,i+1}-2T_{k,i}+T_{k,i-1}}{(\\Delta z_i)^2}) + \\beta_i(T_\\infty-T_i))\\cdot \\Delta t\n",
    "\n",
    "\n",
    "\\end{align*}\n",
    "$$\n",
    "\n",
    "The boundary conditions that were applied in Model 0 (no heat losses, only diffusion between inner layers) will be extended, so that the heat losses occuring in the surface of the tank can be depicted. For this, the betas in the layers have to be well defined:\n",
    "##### Assumptions for simplification: \n",
    "- The amount of layers is defined by the amount of elements in the initial vector for the tank temperature\n",
    "- Δz is constant and depends on the height of the tank and of the lenght of the vector T (number of layers)\n",
    "- The area of the top and the bottom of the tank is the same as the cross-sectional area (circle)\n",
    "\n",
    "##### Boundary conditions: \n",
    "The previous boundary conditions in Model 0 (heat diffussivity in the fluid) has to be extended to account for the heat losses at the bottom and top surface of the tank. The heat losses are accounted by the heat loss coefficienta $\\beta_i$, and it has to be calculated and defined for each boundary (top and bottom): \n",
    "\n",
    "- Bottom of the tank (i=0, first entry). \n",
    "    - The \"previous\" (non existant) layer is assumed to have the same temperature as the bottom layer. This way the gradient in the bottom of the tank is cero and no heat is transferred due to diffusion.\n",
    "    - The heat losses are accounted by the heat loss coefficient. Besides the heat loss through the Mantel of the tank (inlcuded in the normal model for the inner layers), an extra Heat loss throught the bottom of the tank $\\beta_{bottom}$ has to be added to take into account the characteristics of the bottom of the physical tank and thus be able to calculate the heat lost through this surface to the ambient as well.\n",
    "- Top of the tank (i=-1, last entry). \n",
    "    - The \"next\" (non existant) layer is assumed to have the same temperature as the top layer. This way the gradient in the bottom of the tank is cero and no heat is transferred due to diffusion. \n",
    "    - A coefficient $\\beta_{top}$ will be defined taking into account the characteristics of the top of the physical tank and thus be able to calculate the heat lost through this surface to the ambient. This will be added to the existing losses through the Mantel of the inner layer.\n",
    "\n"
   ]
  },
  {
   "cell_type": "code",
   "execution_count": 2,
   "metadata": {},
   "outputs": [
    {
     "name": "stdout",
     "output_type": "stream",
     "text": [
      "beta_i 6.060007184986919e-07\n",
      "beta_top 5.702007713363108e-07\n",
      "beta_bottom 5.702007713363108e-07\n",
      "U-wert 0.49813500878057776\n",
      "U-wert2 0.5409748364462272\n",
      "defined k_i 0.5\n"
     ]
    },
    {
     "data": {
      "application/vnd.plotly.v1+json": {
       "config": {
        "plotlyServerURL": "https://plot.ly"
       },
       "data": [
        {
         "mode": "lines",
         "name": "Time Passed: 0 seconds",
         "type": "scatter",
         "x": [
          0.10495000000000002,
          0.3148500000000001,
          0.52475,
          0.7346500000000001,
          0.9445500000000001,
          1.1544500000000002,
          1.3643500000000004,
          1.5742500000000004,
          1.7841500000000003,
          1.9940500000000003
         ],
         "y": [
          10,
          20,
          30,
          60,
          50,
          90,
          30,
          0,
          15,
          20
         ]
        },
        {
         "mode": "lines",
         "name": "Time Passed: 60 seconds",
         "type": "scatter",
         "x": [
          0.10495000000000002,
          0.3148500000000001,
          0.52475,
          0.7346500000000001,
          0.9445500000000001,
          1.1544500000000002,
          1.3643500000000004,
          1.5742500000000004,
          1.7841500000000003,
          1.9940500000000003
         ],
         "y": [
          10.002694008608213,
          20,
          30.003612974997523,
          59.99059244741836,
          50.00885063727826,
          89.97757191983919,
          30.005601262711835,
          0.00967449557659883,
          14.998193512501238,
          19.999005856142844
         ]
        },
        {
         "mode": "lines",
         "name": "Time Passed: 120 seconds",
         "type": "scatter",
         "x": [
          0.10495000000000002,
          0.3148500000000001,
          0.52475,
          0.7346500000000001,
          0.9445500000000001,
          1.1544500000000002,
          1.3643500000000004,
          1.5742500000000004,
          1.7841500000000003,
          1.9940500000000003
         ],
         "y": [
          10.005387291448187,
          20.000001254009803,
          30.007222511408237,
          59.981191456004694,
          50.01769110338454,
          89.95515644731312,
          30.011197558597594,
          0.019345546762475477,
          14.996389534953488,
          19.99801162092721
         ]
        },
        {
         "mode": "lines",
         "name": "Time Passed: 180 seconds",
         "type": "scatter",
         "x": [
          0.10495000000000002,
          0.3148500000000001,
          0.52475,
          0.7346500000000001,
          0.9445500000000001,
          1.1544500000000002,
          1.3643500000000004,
          1.5742500000000004,
          1.7841500000000003,
          1.9940500000000003
         ],
         "y": [
          10.00807984896478,
          20.00000376065715,
          30.010828612278434,
          59.97179702020534,
          50.02652140654463,
          89.93275357393996,
          30.016788891634885,
          0.02901315456405864,
          14.994588065564377,
          19.997017294876755
         ]
        },
        {
         "mode": "lines",
         "name": "Time Passed: 240 seconds",
         "type": "scatter",
         "x": [
          0.10495000000000002,
          0.3148500000000001,
          0.52475,
          0.7346500000000001,
          0.9445500000000001,
          1.1544500000000002,
          1.3643500000000004,
          1.5742500000000004,
          1.7841500000000003,
          1.9940500000000003
         ],
         "y": [
          10.010771681602453,
          20.000007518571078,
          30.0144312806517,
          59.96240913447126,
          50.03534155497795,
          89.91036329124404,
          30.0223752657981,
          0.03867731998777469,
          14.992789102542616,
          19.99602287851465
         ]
        },
        {
         "mode": "lines",
         "name": "Time Passed: 300 seconds",
         "type": "scatter",
         "x": [
          0.10495000000000002,
          0.3148500000000001,
          0.52475,
          0.7346500000000001,
          0.9445500000000001,
          1.1544500000000002,
          1.3643500000000004,
          1.5742500000000004,
          1.7841500000000003,
          1.9940500000000003
         ],
         "y": [
          10.013462789805278,
          20.00001252638191,
          30.01803051956893,
          59.95302779325809,
          50.04415155689754,
          89.88798559075575,
          30.027956685058427,
          0.04833804404004727,
          14.990992644097998,
          19.995028372363564
         ]
        },
        {
         "mode": "lines",
         "name": "Time Passed: 360 seconds",
         "type": "scatter",
         "x": [
          0.10495000000000002,
          0.3148500000000001,
          0.52475,
          0.7346500000000001,
          0.9445500000000001,
          1.1544500000000002,
          1.3643500000000004,
          1.5742500000000004,
          1.7841500000000003,
          1.9940500000000003
         ],
         "y": [
          10.016153174016932,
          20.00001878272125,
          30.021626332068326,
          59.94365299102609,
          50.05295142051013,
          89.8656204640116,
          30.03353315338384,
          0.05799532772729683,
          14.989198688441396,
          19.994033776945663
         ]
        },
        {
         "mode": "lines",
         "name": "Time Passed: 420 seconds",
         "type": "scatter",
         "x": [
          0.10495000000000002,
          0.3148500000000001,
          0.52475,
          0.7346500000000001,
          0.9445500000000001,
          1.1544500000000002,
          1.3643500000000004,
          1.5742500000000004,
          1.7841500000000003,
          1.9940500000000003
         ],
         "y": [
          10.018842834680704,
          20.000026286222,
          30.02521872118539,
          59.934284722240186,
          50.06174115401607,
          89.84326790255417,
          30.039104674739107,
          0.06764917205594027,
          14.987407233784763,
          19.993039092782627
         ]
        },
        {
         "mode": "lines",
         "name": "Time Passed: 480 seconds",
         "type": "scatter",
         "x": [
          0.10495000000000002,
          0.3148500000000001,
          0.52475,
          0.7346500000000001,
          0.9445500000000001,
          1.1544500000000002,
          1.3643500000000004,
          1.5742500000000004,
          1.7841500000000003,
          1.9940500000000003
         ],
         "y": [
          10.02153177223949,
          20.000035035518337,
          30.028807689952938,
          59.92492298136991,
          50.07052076560939,
          89.82092789793218,
          30.0446712530858,
          0.07729957803239046,
          14.985618278341134,
          19.99204432039563
         ]
        },
        {
         "mode": "lines",
         "name": "Time Passed: 540 seconds",
         "type": "scatter",
         "x": [
          0.10495000000000002,
          0.3148500000000001,
          0.52475,
          0.7346500000000001,
          0.9445500000000001,
          1.1544500000000002,
          1.3643500000000004,
          1.5742500000000004,
          1.7841500000000003,
          1.9940500000000003
         ],
         "y": [
          10.024219987135794,
          20.00004502924573,
          30.032393241401103,
          59.915567762889445,
          50.079290263477766,
          89.79860044170039,
          30.050232892382287,
          0.08694654666305585,
          14.98383182032462,
          19.991049460305362
         ]
        },
        {
         "mode": "lines",
         "name": "Time Passed: 600 seconds",
         "type": "scatter",
         "x": [
          0.10495000000000002,
          0.3148500000000001,
          0.52475,
          0.7346500000000001,
          0.9445500000000001,
          1.1544500000000002,
          1.3643500000000004,
          1.5742500000000004,
          1.7841500000000003,
          1.9940500000000003
         ],
         "y": [
          10.026907479811733,
          20.00005626604092,
          30.03597537855733,
          59.906219061277596,
          50.088049655802564,
          89.77628552541964,
          30.055789596583743,
          0.09659007895434003,
          14.982047857950413,
          19.990054513032003
         ]
        },
        {
         "mode": "lines",
         "name": "Time Passed: 660 seconds",
         "type": "scatter",
         "x": [
          0.10495000000000002,
          0.3148500000000001,
          0.52475,
          0.7346500000000001,
          0.9445500000000001,
          1.1544500000000002,
          1.3643500000000004,
          1.5742500000000004,
          1.7841500000000003,
          1.9940500000000003
         ],
         "y": [
          10.02959425070903,
          20.000068744541945,
          30.039554104446374,
          59.896876871017795,
          50.0967989507588,
          89.75398314065687,
          30.061341369642143,
          0.10623017591264135,
          14.980266389434782,
          19.98905947909525
         ]
        },
        {
         "mode": "lines",
         "name": "Time Passed: 720 seconds",
         "type": "scatter",
         "x": [
          0.10495000000000002,
          0.3148500000000001,
          0.52475,
          0.7346500000000001,
          0.9445500000000001,
          1.1544500000000002,
          1.3643500000000004,
          1.5742500000000004,
          1.7841500000000003,
          1.9940500000000003
         ],
         "y": [
          10.032280300269019,
          20.000082463388107,
          30.04312942209032,
          59.8875411865981,
          50.105538156515195,
          89.73169327898509,
          30.066888215506275,
          0.11586683854435244,
          14.978487412995076,
          19.9880643590143
         ]
        },
        {
         "mode": "lines",
         "name": "Time Passed: 780 seconds",
         "type": "scatter",
         "x": [
          0.10495000000000002,
          0.3148500000000001,
          0.52475,
          0.7346500000000001,
          0.9445500000000001,
          1.1544500000000002,
          1.3643500000000004,
          1.5742500000000004,
          1.7841500000000003,
          1.9940500000000003
         ],
         "y": [
          10.034965628932644,
          20.000097421219998,
          30.046701334508573,
          59.87821200251118,
          50.11426728123412,
          89.70941593198334,
          30.072430138121735,
          0.12550006785585985,
          14.976710926849718,
          19.987069153307853
         ]
        },
        {
         "mode": "lines",
         "name": "Time Passed: 840 seconds",
         "type": "scatter",
         "x": [
          0.10495000000000002,
          0.3148500000000001,
          0.52475,
          0.7346500000000001,
          0.9445500000000001,
          1.1544500000000002,
          1.3643500000000004,
          1.5742500000000004,
          1.7841500000000003,
          1.9940500000000003
         ],
         "y": [
          10.037650237140465,
          20.00011361667948,
          30.050269844717857,
          59.868889313254314,
          50.122986333071665,
          89.68715109123679,
          30.077967141430936,
          0.1351298648535436,
          14.97493692921821,
          19.986073862494127
         ]
        },
        {
         "mode": "lines",
         "name": "Time Passed: 900 seconds",
         "type": "scatter",
         "x": [
          0.10495000000000002,
          0.3148500000000001,
          0.52475,
          0.7346500000000001,
          0.9445500000000001,
          1.1544500000000002,
          1.3643500000000004,
          1.5742500000000004,
          1.7841500000000003,
          1.9940500000000003
         ],
         "y": [
          10.040334125332645,
          20.000131048409706,
          30.053834955732224,
          59.859573113329404,
          50.1316953201776,
          89.66489874833658,
          30.0834992293731,
          0.14475623054377684,
          14.973165418321127,
          19.98507848709083
         ]
        },
        {
         "mode": "lines",
         "name": "Time Passed: 960 seconds",
         "type": "scatter",
         "x": [
          0.10495000000000002,
          0.3148500000000001,
          0.52475,
          0.7346500000000001,
          0.9445500000000001,
          1.1544500000000002,
          1.3643500000000004,
          1.5742500000000004,
          1.7841500000000003,
          1.9940500000000003
         ],
         "y": [
          10.043017293948967,
          20.000149715055088,
          30.05739667056306,
          59.85026339724294,
          50.14039425069539,
          89.64265889487999,
          30.089026405884272,
          0.15437916593292525,
          14.971396392380123,
          19.984083027615192
         ]
        },
        {
         "mode": "lines",
         "name": "Time Passed: 1020 seconds",
         "type": "scatter",
         "x": [
          0.10495000000000002,
          0.3148500000000001,
          0.52475,
          0.7346500000000001,
          0.9445500000000001,
          1.1544500000000002,
          1.3643500000000004,
          1.5742500000000004,
          1.7841500000000003,
          1.9940500000000003
         ],
         "y": [
          10.04569974342882,
          20.00016961526132,
          30.06095499221908,
          59.84096015950603,
          50.14908313276219,
          89.62043152247028,
          30.09454867489732,
          0.1639986720273468,
          14.969629849617924,
          19.983087484583937
         ]
        },
        {
         "mode": "lines",
         "name": "Time Passed: 1080 seconds",
         "type": "scatter",
         "x": [
          0.10495000000000002,
          0.3148500000000001,
          0.52475,
          0.7346500000000001,
          0.9445500000000001,
          1.1544500000000002,
          1.3643500000000004,
          1.5742500000000004,
          1.7841500000000003,
          1.9940500000000003
         ],
         "y": [
          10.048381474211206,
          20.000190747675372,
          30.06450992370633,
          59.831663394634376,
          50.15776197450891,
          89.5982166227168,
          30.100066040341936,
          0.1736147498333913,
          14.96786578825833,
          19.982091858513304
         ]
        },
        {
         "mode": "lines",
         "name": "Time Passed: 1140 seconds",
         "type": "scatter",
         "x": [
          0.10495000000000002,
          0.3148500000000001,
          0.52475,
          0.7346500000000001,
          0.9445500000000001,
          1.1544500000000002,
          1.3643500000000004,
          1.5742500000000004,
          1.7841500000000003,
          1.9940500000000003
         ],
         "y": [
          10.051062486734745,
          20.00021311094548,
          30.068061468028187,
          59.82237309714827,
          50.16643078406011,
          89.57601418723492,
          30.105578506144628,
          0.18322740035739996,
          14.966104206526216,
          19.98109614991904
         ]
        },
        {
         "mode": "lines",
         "name": "Time Passed: 1200 seconds",
         "type": "scatter",
         "x": [
          0.10495000000000002,
          0.3148500000000001,
          0.52475,
          0.7346500000000001,
          0.9445500000000001,
          1.1544500000000002,
          1.3643500000000004,
          1.5742500000000004,
          1.7841500000000003,
          1.9940500000000003
         ],
         "y": [
          10.053742781437663,
          20.000236703721157,
          30.071609628185378,
          59.8130892615726,
          50.175089569534116,
          89.55382420764604,
          30.111086076228744,
          0.19283662460570491,
          14.964345102647531,
          19.980100359316395
         ]
        },
        {
         "mode": "lines",
         "name": "Time Passed: 1260 seconds",
         "type": "scatter",
         "x": [
          0.10495000000000002,
          0.3148500000000001,
          0.52475,
          0.7346500000000001,
          0.9445500000000001,
          1.1544500000000002,
          1.3643500000000004,
          1.5742500000000004,
          1.7841500000000003,
          1.9940500000000003
         ],
         "y": [
          10.056422358757803,
          20.00026152465318,
          30.075154407175965,
          59.80381188243684,
          50.183738339042954,
          89.53164667557762,
          30.11658875451446,
          0.20244242358462894,
          14.962588474849294,
          19.979104487220134
         ]
        },
        {
         "mode": "lines",
         "name": "Time Passed: 1320 seconds",
         "type": "scatter",
         "x": [
          0.10495000000000002,
          0.3148500000000001,
          0.52475,
          0.7346500000000001,
          0.9445500000000001,
          1.1544500000000002,
          1.3643500000000004,
          1.5742500000000004,
          1.7841500000000003,
          1.9940500000000003
         ],
         "y": [
          10.059101219132621,
          20.0002875723936,
          30.078695807995352,
          59.79454095427504,
          50.192377100692376,
          89.5094815826631,
          30.122086544918783,
          0.21204479830048492,
          14.960834321359599,
          19.978108534144525
         ]
        },
        {
         "mode": "lines",
         "name": "Time Passed: 1380 seconds",
         "type": "scatter",
         "x": [
          0.10495000000000002,
          0.3148500000000001,
          0.52475,
          0.7346500000000001,
          0.9445500000000001,
          1.1544500000000002,
          1.3643500000000004,
          1.5742500000000004,
          1.7841500000000003,
          1.9940500000000003
         ],
         "y": [
          10.06177936299919,
          20.000314845595735,
          30.082233833636288,
          59.78527647162584,
          50.20100586258187,
          89.48732892054198,
          30.12757945135556,
          0.22164374975957554,
          14.959082640407606,
          19.977112500603347
         ]
        },
        {
         "mode": "lines",
         "name": "Time Passed: 1440 seconds",
         "type": "scatter",
         "x": [
          0.10495000000000002,
          0.3148500000000001,
          0.52475,
          0.7346500000000001,
          0.9445500000000001,
          1.1544500000000002,
          1.3643500000000004,
          1.5742500000000004,
          1.7841500000000003,
          1.9940500000000003
         ],
         "y": [
          10.06445679079419,
          20.000343342914167,
          30.08576848708887,
          59.776018429032455,
          50.20962463280467,
          89.46518868085977,
          30.133067477735484,
          0.23123927896819282,
          14.957333430223553,
          19.976116387109894
         ]
        },
        {
         "mode": "lines",
         "name": "Time Passed: 1500 seconds",
         "type": "scatter",
         "x": [
          0.10495000000000002,
          0.3148500000000001,
          0.52475,
          0.7346500000000001,
          0.9445500000000001,
          1.1544500000000002,
          1.3643500000000004,
          1.5742500000000004,
          1.7841500000000003,
          1.9940500000000003
         ],
         "y": [
          10.067133502953928,
          20.000373063004744,
          30.089299771340546,
          59.766766821042665,
          50.21823341944773,
          89.44306085526796,
          30.138550627966072,
          0.24083138693261769,
          14.955586689038743,
          19.97512019417696
         ]
        },
        {
         "mode": "lines",
         "name": "Time Passed: 1560 seconds",
         "type": "scatter",
         "x": [
          0.10495000000000002,
          0.3148500000000001,
          0.52475,
          0.7346500000000001,
          0.9445500000000001,
          1.1544500000000002,
          1.3643500000000004,
          1.5742500000000004,
          1.7841500000000003,
          1.9940500000000003
         ],
         "y": [
          10.069809499914314,
          20.00040400452458,
          30.092827689376115,
          59.75752164220882,
          50.22683223059176,
          89.4209454354241,
          30.1440289059517,
          0.2504200746591196,
          14.95384241508555,
          19.974123922316856
         ]
        },
        {
         "mode": "lines",
         "name": "Time Passed: 1620 seconds",
         "type": "scatter",
         "x": [
          0.10495000000000002,
          0.3148500000000001,
          0.52475,
          0.7346500000000001,
          0.9445500000000001,
          1.1544500000000002,
          1.3643500000000004,
          1.5742500000000004,
          1.7841500000000003,
          1.9940500000000003
         ],
         "y": [
          10.072484782110878,
          20.000436166132047,
          30.09635224417773,
          59.74828288708784,
          50.23542107431123,
          89.39884241299171,
          30.149502315593583,
          0.26000534315395607,
          14.952100606597417,
          19.973127572041403
         ]
        },
        {
         "mode": "lines",
         "name": "Time Passed: 1680 seconds",
         "type": "scatter",
         "x": [
          0.10495000000000002,
          0.3148500000000001,
          0.52475,
          0.7346500000000001,
          0.9445500000000001,
          1.1544500000000002,
          1.3643500000000004,
          1.5742500000000004,
          1.7841500000000003,
          1.9940500000000003
         ],
         "y": [
          10.07515934997877,
          20.000469546486784,
          30.0998734387249,
          59.7390505502412,
          50.243999958674365,
          89.37675177964032,
          30.15497086078979,
          0.2695871934233724,
          14.950361261808858,
          19.97213114386193
         ]
        },
        {
         "mode": "lines",
         "name": "Time Passed: 1740 seconds",
         "type": "scatter",
         "x": [
          0.10495000000000002,
          0.3148500000000001,
          0.52475,
          0.7346500000000001,
          0.9445500000000001,
          1.1544500000000002,
          1.3643500000000004,
          1.5742500000000004,
          1.7841500000000003,
          1.9940500000000003
         ],
         "y": [
          10.077833203952752,
          20.00050414424969,
          30.103391275994493,
          59.72982462623494,
          50.25256889174313,
          89.35467352704543,
          30.160434545435237,
          0.2791656264736011,
          14.948624378955452,
          19.97113463828928
         ]
        },
        {
         "mode": "lines",
         "name": "Time Passed: 1800 seconds",
         "type": "scatter",
         "x": [
          0.10495000000000002,
          0.3148500000000001,
          0.52475,
          0.7346500000000001,
          0.9445500000000001,
          1.1544500000000002,
          1.3643500000000004,
          1.5742500000000004,
          1.7841500000000003,
          1.9940500000000003
         ],
         "y": [
          10.0805063444672,
          20.00053995808292,
          30.106905758960743,
          59.720605109639635,
          50.26112788157328,
          89.33260764688859,
          30.165893373421703,
          0.28874064331086163,
          14.946889956273846,
          19.9701380558338
         ]
        },
        {
         "mode": "lines",
         "name": "Time Passed: 1860 seconds",
         "type": "scatter",
         "x": [
          0.10495000000000002,
          0.3148500000000001,
          0.52475,
          0.7346500000000001,
          0.9445500000000001,
          1.1544500000000002,
          1.3643500000000004,
          1.5742500000000004,
          1.7841500000000003,
          1.9940500000000003
         ],
         "y": [
          10.083178771956113,
          20.000576986649893,
          30.110416890595243,
          59.71139199503043,
          50.269676936214324,
          89.31055413085728,
          30.171347348637816,
          0.2983122449413599,
          14.945157992001754,
          19.969141397005362
         ]
        },
        {
         "mode": "lines",
         "name": "Time Passed: 1920 seconds",
         "type": "scatter",
         "x": [
          0.10495000000000002,
          0.3148500000000001,
          0.52475,
          0.7346500000000001,
          0.9445500000000001,
          1.1544500000000002,
          1.3643500000000004,
          1.5742500000000004,
          1.7841500000000003,
          1.9940500000000003
         ],
         "y": [
          10.085850486853106,
          20.00061522861528,
          30.113924673866954,
          59.70218527698701,
          50.27821606370955,
          89.28851297064499,
          30.176796474969066,
          0.30788043237128787,
          14.943428484377957,
          19.968144662313343
         ]
        },
        {
         "mode": "lines",
         "name": "Time Passed: 1980 seconds",
         "type": "scatter",
         "x": [
          0.10495000000000002,
          0.3148500000000001,
          0.52475,
          0.7346500000000001,
          0.9445500000000001,
          1.1544500000000002,
          1.3643500000000004,
          1.5742500000000004,
          1.7841500000000003,
          1.9940500000000003
         ],
         "y": [
          10.088521489591407,
          20.00065468264501,
          30.1174291117422,
          59.692984950093596,
          50.286745272096034,
          89.26648415795117,
          30.182240756297805,
          0.3174452066068232,
          14.9417014316423,
          19.96714785226663
         ]
        },
        {
         "mode": "lines",
         "name": "Time Passed: 2040 seconds",
         "type": "scatter",
         "x": [
          0.10495000000000002,
          0.3148500000000001,
          0.52475,
          0.7346500000000001,
          0.9445500000000001,
          1.1544500000000002,
          1.3643500000000004,
          1.5742500000000004,
          1.7841500000000003,
          1.9940500000000003
         ],
         "y": [
          10.091191780603868,
          20.000695347406268,
          30.120930207184685,
          59.683791008938954,
          50.29526456940462,
          89.24446768448125,
          30.18768019650325,
          0.3270065686541287,
          14.939976832035697,
          19.966150967373633
         ]
        },
        {
         "mode": "lines",
         "name": "Time Passed: 2100 seconds",
         "type": "scatter",
         "x": [
          0.10495000000000002,
          0.3148500000000001,
          0.52475,
          0.7346500000000001,
          0.9445500000000001,
          1.1544500000000002,
          1.3643500000000004,
          1.5742500000000004,
          1.7841500000000003,
          1.9940500000000003
         ],
         "y": [
          10.093861360322956,
          20.00073722156749,
          30.124427963155476,
          59.67460344811638,
          50.303773963659964,
          89.22246354194662,
          30.19311479946149,
          0.3365645195193522,
          14.938254683800121,
          19.96515400814226
         ]
        },
        {
         "mode": "lines",
         "name": "Time Passed: 2160 seconds",
         "type": "scatter",
         "x": [
          0.10495000000000002,
          0.3148500000000001,
          0.52475,
          0.7346500000000001,
          0.9445500000000001,
          1.1544500000000002,
          1.3643500000000004,
          1.5742500000000004,
          1.7841500000000003,
          1.9940500000000003
         ],
         "y": [
          10.096530229180757,
          20.00078030379837,
          30.127922382613022,
          59.6654222622237,
          50.3122734628805,
          89.20047172206466,
          30.198544569045474,
          0.34611906020862576,
          14.936534985178614,
          19.964156975079945
         ]
        },
        {
         "mode": "lines",
         "name": "Time Passed: 2220 seconds",
         "type": "scatter",
         "x": [
          0.10495000000000002,
          0.3148500000000001,
          0.52475,
          0.7346500000000001,
          0.9445500000000001,
          1.1544500000000002,
          1.3643500000000004,
          1.5742500000000004,
          1.7841500000000003,
          1.9940500000000003
         ],
         "y": [
          10.099198387608979,
          20.000824592769845,
          30.13141346851315,
          59.65624744586328,
          50.32076307507846,
          89.17849221655868,
          30.203969509125027,
          0.35567019172806574,
          14.93481773441528,
          19.96315986869363
         ]
        },
        {
         "mode": "lines",
         "name": "Time Passed: 2280 seconds",
         "type": "scatter",
         "x": [
          0.10495000000000002,
          0.3148500000000001,
          0.52475,
          0.7346500000000001,
          0.9445500000000001,
          1.1544500000000002,
          1.3643500000000004,
          1.5742500000000004,
          1.7841500000000003,
          1.9940500000000003
         ],
         "y": [
          10.101865836038945,
          20.000870087154112,
          30.134901223809056,
          59.64707899364199,
          50.329242808259885,
          89.15652501715795,
          30.209389623566853,
          0.36521791508377194,
          14.933102929755284,
          19.962162689489777
         ]
        },
        {
         "mode": "lines",
         "name": "Time Passed: 2340 seconds",
         "type": "scatter",
         "x": [
          0.10495000000000002,
          0.3148500000000001,
          0.52475,
          0.7346500000000001,
          0.9445500000000001,
          1.1544500000000002,
          1.3643500000000004,
          1.5742500000000004,
          1.7841500000000003,
          1.9940500000000003
         ],
         "y": [
          10.104532574901599,
          20.00091678562461,
          30.13838565145133,
          59.63791690017123,
          50.33771267042462,
          89.1345701155977,
          30.214804916234527,
          0.37476223128182745,
          14.931390569444856,
          19.961165437974355
         ]
        },
        {
         "mode": "lines",
         "name": "Time Passed: 2400 seconds",
         "type": "scatter",
         "x": [
          0.10495000000000002,
          0.3148500000000001,
          0.52475,
          0.7346500000000001,
          0.9445500000000001,
          1.1544500000000002,
          1.3643500000000004,
          1.5742500000000004,
          1.7841500000000003,
          1.9940500000000003
         ],
         "y": [
          10.107198604627508,
          20.00096468685603,
          30.14186675438794,
          59.628761160066915,
          50.34617266956634,
          89.1126275036191,
          30.22021539098851,
          0.3843031413282982,
          14.929680651731287,
          19.960168114652852
         ]
        },
        {
         "mode": "lines",
         "name": "Time Passed: 2460 seconds",
         "type": "scatter",
         "x": [
          0.10495000000000002,
          0.3148500000000001,
          0.52475,
          0.7346500000000001,
          0.9445500000000001,
          1.1544500000000002,
          1.3643500000000004,
          1.5742500000000004,
          1.7841500000000003,
          1.9940500000000003
         ],
         "y": [
          10.109863925646856,
          20.001013789524308,
          30.145344535564245,
          59.61961176794947,
          50.35462281367252,
          89.09069717296926,
          30.225621051686144,
          0.39384064622923254,
          14.927973174862927,
          19.959170720030272
         ]
        },
        {
         "mode": "lines",
         "name": "Time Passed: 2520 seconds",
         "type": "scatter",
         "x": [
          0.10495000000000002,
          0.3148500000000001,
          0.52475,
          0.7346500000000001,
          0.9445500000000001,
          1.1544500000000002,
          1.3643500000000004,
          1.5742500000000004,
          1.7841500000000003,
          1.9940500000000003
         ],
         "y": [
          10.112528538389451,
          20.001064092306628,
          30.148818997922987,
          59.61046871844384,
          50.363063110724454,
          89.06877911540124,
          30.231021902181652,
          0.4033747469906609,
          14.926268137089192,
          19.958173254611136
         ]
        },
        {
         "mode": "lines",
         "name": "Time Passed: 2580 seconds",
         "type": "scatter",
         "x": [
          0.10495000000000002,
          0.3148500000000001,
          0.52475,
          0.7346500000000001,
          0.9445500000000001,
          1.1544500000000002,
          1.3643500000000004,
          1.5742500000000004,
          1.7841500000000003,
          1.9940500000000003
         ],
         "y": [
          10.115192443284721,
          20.001115593881416,
          30.152290144404304,
          59.60133200617946,
          50.371493568697275,
          89.04687332267402,
          30.23641794632615,
          0.4129054446185953,
          14.924565536660552,
          19.957175718899475
         ]
        },
        {
         "mode": "lines",
         "name": "Time Passed: 2640 seconds",
         "type": "scatter",
         "x": [
          0.10495000000000002,
          0.3148500000000001,
          0.52475,
          0.7346500000000001,
          0.9445500000000001,
          1.1544500000000002,
          1.3643500000000004,
          1.5742500000000004,
          1.7841500000000003,
          1.9940500000000003
         ],
         "y": [
          10.117855640761713,
          20.00116829292834,
          30.155757977945726,
          59.592201625790274,
          50.379914195559955,
          89.0249797865525,
          30.24180918796764,
          0.4224327401190289,
          14.92286537182854,
          19.956178113398842
         ]
        },
        {
         "mode": "lines",
         "name": "Time Passed: 2700 seconds",
         "type": "scatter",
         "x": [
          0.10495000000000002,
          0.3148500000000001,
          0.52475,
          0.7346500000000001,
          0.9445500000000001,
          1.1544500000000002,
          1.3643500000000004,
          1.5742500000000004,
          1.7841500000000003,
          1.9940500000000003
         ],
         "y": [
          10.1205181312491,
          20.00122218812832,
          30.159222501482176,
          59.58307757191472,
          50.388324999275284,
          89.00309849880753,
          30.247195630951015,
          0.4319566344979359,
          14.921167640845747,
          19.955180438612306
         ]
        },
        {
         "mode": "lines",
         "name": "Time Passed: 2760 seconds",
         "type": "scatter",
         "x": [
          0.10495000000000002,
          0.3148500000000001,
          0.52475,
          0.7346500000000001,
          0.9445500000000001,
          1.1544500000000002,
          1.3643500000000004,
          1.5742500000000004,
          1.7841500000000003,
          1.9940500000000003
         ],
         "y": [
          10.123179915175172,
          20.001277278163503,
          30.16268371794598,
          59.57395983919573,
          50.396725987799904,
          88.98122945121585,
          30.25257727911807,
          0.44147712876127077,
          14.919472341965824,
          19.95418269504245
         ]
        },
        {
         "mode": "lines",
         "name": "Time Passed: 2820 seconds",
         "type": "scatter",
         "x": [
          0.10495000000000002,
          0.3148500000000001,
          0.52475,
          0.7346500000000001,
          0.9445500000000001,
          1.1544500000000002,
          1.3643500000000004,
          1.5742500000000004,
          1.7841500000000003,
          1.9940500000000003
         ],
         "y": [
          10.125840992967849,
          20.00133356171729,
          30.16614163026686,
          59.564848422280726,
          50.405117169084306,
          88.95937263556014,
          30.257954136307493,
          0.450994223914968,
          14.917779473443478,
          19.95318488319138
         ]
        },
        {
         "mode": "lines",
         "name": "Time Passed: 2880 seconds",
         "type": "scatter",
         "x": [
          0.10495000000000002,
          0.3148500000000001,
          0.52475,
          0.7346500000000001,
          0.9445500000000001,
          1.1544500000000002,
          1.3643500000000004,
          1.5742500000000004,
          1.7841500000000003,
          1.9940500000000003
         ],
         "y": [
          10.128501365054667,
          20.00139103747431,
          30.169596241371938,
          59.55574331582162,
          50.41349855107283,
          88.93752804362897,
          30.26332620635487,
          0.4605079209649418,
          14.916089033534474,
          19.95218700356071
         ]
        },
        {
         "mode": "lines",
         "name": "Time Passed: 2940 seconds",
         "type": "scatter",
         "x": [
          0.10495000000000002,
          0.3148500000000001,
          0.52475,
          0.7346500000000001,
          0.9445500000000001,
          1.1544500000000002,
          1.3643500000000004,
          1.5742500000000004,
          1.7841500000000003,
          1.9940500000000003
         ],
         "y": [
          10.131161031862788,
          20.001449704120436,
          30.173047554185747,
          59.546644514474806,
          50.421870141703664,
          88.91569566721682,
          30.26869349309269,
          0.4700182209170856,
          14.914401020495633,
          19.951189056651582
         ]
        },
        {
         "mode": "lines",
         "name": "Time Passed: 3000 seconds",
         "type": "scatter",
         "x": [
          0.10495000000000002,
          0.3148500000000001,
          0.52475,
          0.7346500000000001,
          0.9445500000000001,
          1.1544500000000002,
          1.3643500000000004,
          1.5742500000000004,
          1.7841500000000003,
          1.9940500000000003
         ],
         "y": [
          10.133819993819,
          20.001509560342775,
          30.176495571630223,
          59.53755201290116,
          50.430231948908876,
          88.89387549812409,
          30.274056000350356,
          0.4795251247772716,
          14.912715432584834,
          19.95019104296465
         ]
        },
        {
         "mode": "lines",
         "name": "Time Passed: 3060 seconds",
         "type": "scatter",
         "x": [
          0.10495000000000002,
          0.3148500000000001,
          0.52475,
          0.7346500000000001,
          0.9445500000000001,
          1.1544500000000002,
          1.3643500000000004,
          1.5742500000000004,
          1.7841500000000003,
          1.9940500000000003
         ],
         "y": [
          10.13647825134971,
          20.001570604829674,
          30.179940296624714,
          59.52846580576602,
          50.438583980614375,
          88.87206752815706,
          30.27941373195417,
          0.4890286335513505,
          14.91103226806101,
          19.949192963000094
         ]
        },
        {
         "mode": "lines",
         "name": "Time Passed: 3120 seconds",
         "type": "scatter",
         "x": [
          0.10495000000000002,
          0.3148500000000001,
          0.52475,
          0.7346500000000001,
          0.9445500000000001,
          1.1544500000000002,
          1.3643500000000004,
          1.5742500000000004,
          1.7841500000000003,
          1.9940500000000003
         ],
         "y": [
          10.139135804880953,
          20.00163283627071,
          30.18338173208598,
          59.519385887739205,
          50.44692624473996,
          88.8502717491279,
          30.28476669172734,
          0.4985287482451511,
          14.909351525184151,
          19.948194817257605
         ]
        },
        {
         "mode": "lines",
         "name": "Time Passed: 3180 seconds",
         "type": "scatter",
         "x": [
          0.10495000000000002,
          0.3148500000000001,
          0.52475,
          0.7346500000000001,
          0.9445500000000001,
          1.1544500000000002,
          1.3643500000000004,
          1.5742500000000004,
          1.7841500000000003,
          1.9940500000000003
         ],
         "y": [
          10.141792654838389,
          20.00169625335669,
          30.186819880928187,
          59.51031225349501,
          50.455258749199295,
          88.82848815285469,
          30.290114883490002,
          0.5080254698644797,
          14.9076732022153,
          19.947196606236396
         ]
        },
        {
         "mode": "lines",
         "name": "Time Passed: 3240 seconds",
         "type": "scatter",
         "x": [
          0.10495000000000002,
          0.3148500000000001,
          0.52475,
          0.7346500000000001,
          0.9445500000000001,
          1.1544500000000002,
          1.3643500000000004,
          1.5742500000000004,
          1.7841500000000003,
          1.9940500000000003
         ],
         "y": [
          10.1444488016473,
          20.00176085477967,
          30.190254746062926,
          59.501244897712176,
          50.463581501899924,
          88.80671673116136,
          30.295458311059193,
          0.5175187994151201,
          14.905997297416553,
          19.9461983304352
         ]
        },
        {
         "mode": "lines",
         "name": "Time Passed: 3300 seconds",
         "type": "scatter",
         "x": [
          0.10495000000000002,
          0.3148500000000001,
          0.52475,
          0.7346500000000001,
          0.9445500000000001,
          1.1544500000000002,
          1.3643500000000004,
          1.5742500000000004,
          1.7841500000000003,
          1.9940500000000003
         ],
         "y": [
          10.147104245732596,
          20.001826639232913,
          30.193686330399203,
          59.49218381507392,
          50.47189451074328,
          88.78495747587775,
          30.300796978248872,
          0.5270087379028328,
          14.90432380905106,
          19.945199990352275
         ]
        },
        {
         "mode": "lines",
         "name": "Time Passed: 3360 seconds",
         "type": "scatter",
         "x": [
          0.10495000000000002,
          0.3148500000000001,
          0.52475,
          0.7346500000000001,
          0.9445500000000001,
          1.1544500000000002,
          1.3643500000000004,
          1.5742500000000004,
          1.7841500000000003,
          1.9940500000000003
         ],
         "y": [
          10.149758987518812,
          20.00189360541093,
          30.197114636843445,
          59.483129000267915,
          50.48019778362469,
          88.76321037883956,
          30.306130888869923,
          0.5364952863333546,
          14.902652735383027,
          19.94420158648539
         ]
        },
        {
         "mode": "lines",
         "name": "Time Passed: 3420 seconds",
         "type": "scatter",
         "x": [
          0.10495000000000002,
          0.3148500000000001,
          0.52475,
          0.7346500000000001,
          0.9445500000000001,
          1.1544500000000002,
          1.3643500000000004,
          1.5742500000000004,
          1.7841500000000003,
          1.9940500000000003
         ],
         "y": [
          10.152413027430109,
          20.001961752009457,
          30.2005396682995,
          59.474080447986275,
          50.48849132843335,
          88.74147543188838,
          30.311460046730144,
          0.5459784457123987,
          14.900984074677709,
          19.943203119331844
         ]
        },
        {
         "mode": "lines",
         "name": "Time Passed: 3480 seconds",
         "type": "scatter",
         "x": [
          0.10495000000000002,
          0.3148500000000001,
          0.52475,
          0.7346500000000001,
          0.9445500000000001,
          1.1544500000000002,
          1.3643500000000004,
          1.5742500000000004,
          1.7841500000000003,
          1.9940500000000003
         ],
         "y": [
          10.155066365890272,
          20.00203107772545,
          30.203961427668638,
          59.46503815292557,
          50.49677515305238,
          88.71975262687164,
          30.316784455634266,
          0.5554582170456539,
          14.899317825201413,
          19.94220458938845
         ]
        },
        {
         "mode": "lines",
         "name": "Time Passed: 3540 seconds",
         "type": "scatter",
         "x": [
          0.10495000000000002,
          0.3148500000000001,
          0.52475,
          0.7346500000000001,
          0.9445500000000001,
          1.1544500000000002,
          1.3643500000000004,
          1.5742500000000004,
          1.7841500000000003,
          1.9940500000000003
         ],
         "y": [
          10.157719003322718,
          20.002101581257104,
          30.207379917849565,
          59.45600210978683,
          50.5050492653588,
          88.69804195564265,
          30.322104119383944,
          0.5649346013387841,
          14.897653985221497,
          19.941205997151545
         ]
        },
        {
         "mode": "lines",
         "name": "Time Passed: 3600 seconds",
         "type": "scatter",
         "x": [
          0.10495000000000002,
          0.3148500000000001,
          0.52475,
          0.7346500000000001,
          0.9445500000000001,
          1.1544500000000002,
          1.3643500000000004,
          1.5742500000000004,
          1.7841500000000003,
          1.9940500000000003
         ],
         "y": [
          10.160370940150488,
          20.002173261303827,
          30.210795141738412,
          59.4469723132755,
          50.51331367322352,
          88.67634341006057,
          30.32741904177776,
          0.5744075995974285,
          14.895992553006373,
          19.940207343116988
         ]
        },
        {
         "mode": "lines",
         "name": "Time Passed: 3660 seconds",
         "type": "scatter",
         "x": [
          0.10495000000000002,
          0.3148500000000001,
          0.52475,
          0.7346500000000001,
          0.9445500000000001,
          1.1544500000000002,
          1.3643500000000004,
          1.5742500000000004,
          1.7841500000000003,
          1.9940500000000003
         ],
         "y": [
          10.163022176796247,
          20.002246116566262,
          30.21420710222874,
          59.43794875810149,
          50.52156838451139,
          88.65465698199041,
          30.332729226611235,
          0.5838772128272004,
          14.894333526825498,
          19.93920862778016
         ]
        },
        {
         "mode": "lines",
         "name": "Time Passed: 3720 seconds",
         "type": "scatter",
         "x": [
          0.10495000000000002,
          0.3148500000000001,
          0.52475,
          0.7346500000000001,
          0.9445500000000001,
          1.1544500000000002,
          1.3643500000000004,
          1.5742500000000004,
          1.7841500000000003,
          1.9940500000000003
         ],
         "y": [
          10.165672713682294,
          20.002320145746268,
          30.217615802211547,
          59.42893143897913,
          50.52981340708115,
          88.63298266330304,
          30.338034677676823,
          0.5933434420336874,
          14.892676904949383,
          19.938209851635968
         ]
        },
        {
         "mode": "lines",
         "name": "Time Passed: 3780 seconds",
         "type": "scatter",
         "x": [
          0.10495000000000002,
          0.3148500000000001,
          0.52475,
          0.7346500000000001,
          0.9445500000000001,
          1.1544500000000002,
          1.3643500000000004,
          1.5742500000000004,
          1.7841500000000003,
          1.9940500000000003
         ],
         "y": [
          10.168322551230554,
          20.00239534754693,
          30.22102124457526,
          59.41992035062718,
          50.53804874878548,
          88.61132044587517,
          30.343335398763912,
          0.6028062882224509,
          14.891022685649585,
          19.937211015178836
         ]
        },
        {
         "mode": "lines",
         "name": "Time Passed: 3840 seconds",
         "type": "scatter",
         "x": [
          0.10495000000000002,
          0.3148500000000001,
          0.52475,
          0.7346500000000001,
          0.9445500000000001,
          1.1544500000000002,
          1.3643500000000004,
          1.5742500000000004,
          1.7841500000000003,
          1.9940500000000003
         ],
         "y": [
          10.17097168986258,
          20.002471720672553,
          30.224423432205757,
          59.41091548776884,
          50.546274417470975,
          88.58967032158934,
          30.348631393658838,
          0.6122657523990255,
          14.88937086719871,
          19.936212118902716
         ]
        },
        {
         "mode": "lines",
         "name": "Time Passed: 3900 seconds",
         "type": "scatter",
         "x": [
          0.10495000000000002,
          0.3148500000000001,
          0.52475,
          0.7346500000000001,
          0.9445500000000001,
          1.1544500000000002,
          1.3643500000000004,
          1.5742500000000004,
          1.7841500000000003,
          1.9940500000000003
         ],
         "y": [
          10.17362012999955,
          20.002549263828662,
          30.22782236798635,
          59.40191684513172,
          50.554490420978176,
          88.56803228233396,
          30.35392266614487,
          0.6217218355689188,
          14.887721447870414,
          19.93521316330108
         ]
        },
        {
         "mode": "lines",
         "name": "Time Passed: 3960 seconds",
         "type": "scatter",
         "x": [
          0.10495000000000002,
          0.3148500000000001,
          0.52475,
          0.7346500000000001,
          0.9445500000000001,
          1.1544500000000002,
          1.3643500000000004,
          1.5742500000000004,
          1.7841500000000003,
          1.9940500000000003
         ],
         "y": [
          10.17626787206228,
          20.002627975722003,
          30.231218054797786,
          59.39292441744787,
          50.562696767141546,
          88.54640632000323,
          30.35920922000223,
          0.6311745387376111,
          14.886074425939396,
          19.93421414886692
         ]
        },
        {
         "mode": "lines",
         "name": "Time Passed: 4020 seconds",
         "type": "scatter",
         "x": [
          0.10495000000000002,
          0.3148500000000001,
          0.52475,
          0.7346500000000001,
          0.9445500000000001,
          1.1544500000000002,
          1.3643500000000004,
          1.5742500000000004,
          1.7841500000000003,
          1.9940500000000003
         ],
         "y": [
          10.178914916471207,
          20.00270785506054,
          30.23461049551827,
          59.38393819945374,
          50.570893463789496,
          88.5247924264972,
          30.364491059008085,
          0.6406238629105546,
          14.884429799681406,
          19.933215076092765
         ]
        },
        {
         "mode": "lines",
         "name": "Time Passed: 4080 seconds",
         "type": "scatter",
         "x": [
          0.10495000000000002,
          0.3148500000000001,
          0.52475,
          0.7346500000000001,
          0.9445500000000001,
          1.1544500000000002,
          1.3643500000000004,
          1.5742500000000004,
          1.7841500000000003,
          1.9940500000000003
         ],
         "y": [
          10.181561263646403,
          20.002788900553444,
          30.237999693023454,
          59.37495818589019,
          50.57908051874438,
          88.50319059372174,
          30.369768186936547,
          0.6500698090931737,
          14.882787567373239,
          19.932215945470656
         ]
        },
        {
         "mode": "lines",
         "name": "Time Passed: 4140 seconds",
         "type": "scatter",
         "x": [
          0.10495000000000002,
          0.3148500000000001,
          0.52475,
          0.7346500000000001,
          0.9445500000000001,
          1.1544500000000002,
          1.3643500000000004,
          1.5742500000000004,
          1.7841500000000003,
          1.9940500000000003
         ],
         "y": [
          10.184206914007568,
          20.002871110911112,
          30.241385650186427,
          59.36598437150251,
          50.5872579398225,
          88.48160081358853,
          30.375040607558688,
          0.6595123782908638,
          14.881147727292733,
          19.931216757492166
         ]
        },
        {
         "mode": "lines",
         "name": "Time Passed: 4200 seconds",
         "type": "scatter",
         "x": [
          0.10495000000000002,
          0.3148500000000001,
          0.52475,
          0.7346500000000001,
          0.9445500000000001,
          1.1544500000000002,
          1.3643500000000004,
          1.5742500000000004,
          1.7841500000000003,
          1.9940500000000003
         ],
         "y": [
          10.186851867974033,
          20.002954484845155,
          30.24476836987774,
          59.357016751040376,
          50.595425734834116,
          88.46002307801507,
          30.38030832464253,
          0.6689515715089916,
          14.879510277718776,
          19.930217512648387
         ]
        },
        {
         "mode": "lines",
         "name": "Time Passed: 4260 seconds",
         "type": "scatter",
         "x": [
          0.10495000000000002,
          0.3148500000000001,
          0.52475,
          0.7346500000000001,
          0.9445500000000001,
          1.1544500000000002,
          1.3643500000000004,
          1.5742500000000004,
          1.7841500000000003,
          1.9940500000000003
         ],
         "y": [
          10.189496125964759,
          20.003039021068393,
          30.248147854965396,
          59.348055319257874,
          50.60358391158344,
          88.43845737892468,
          30.385571341953057,
          0.6783873897528944,
          14.877875216931296,
          19.929218211429944
         ]
        },
        {
         "mode": "lines",
         "name": "Time Passed: 4320 seconds",
         "type": "scatter",
         "x": [
          0.10495000000000002,
          0.3148500000000001,
          0.52475,
          0.7346500000000001,
          0.9445500000000001,
          1.1544500000000002,
          1.3643500000000004,
          1.5742500000000004,
          1.7841500000000003,
          1.9940500000000003
         ],
         "y": [
          10.192139688398338,
          20.003124718294856,
          30.251524108314854,
          59.33910007091349,
          50.611732477868664,
          88.41690370824648,
          30.39082966325221,
          0.6878198340278794,
          14.876242543211267,
          19.928218854326982
         ]
        },
        {
         "mode": "lines",
         "name": "Time Passed: 4380 seconds",
         "type": "scatter",
         "x": [
          0.10495000000000002,
          0.3148500000000001,
          0.52475,
          0.7346500000000001,
          0.9445500000000001,
          1.1544500000000002,
          1.3643500000000004,
          1.5742500000000004,
          1.7841500000000003,
          1.9940500000000003
         ],
         "y": [
          10.194782555692997,
          20.003211575239796,
          30.254897132789033,
          59.3301510007701,
          50.61987144148193,
          88.39536205791538,
          30.39608329229889,
          0.6972489053392242,
          14.874612254840708,
          19.927219441829173
         ]
        },
        {
         "mode": "lines",
         "name": "Time Passed: 4440 seconds",
         "type": "scatter",
         "x": [
          0.10495000000000002,
          0.3148500000000001,
          0.52475,
          0.7346500000000001,
          0.9445500000000001,
          1.1544500000000002,
          1.3643500000000004,
          1.5742500000000004,
          1.7841500000000003,
          1.9940500000000003
         ],
         "y": [
          10.197424728266592,
          20.003299590619662,
          30.25826693124831,
          59.32120810359498,
          50.62800081020937,
          88.3738324198721,
          30.401332232848972,
          0.7066746046921757,
          14.872984350102676,
          19.926219974425717
         ]
        },
        {
         "mode": "lines",
         "name": "Time Passed: 4500 seconds",
         "type": "scatter",
         "x": [
          0.10495000000000002,
          0.3148500000000001,
          0.52475,
          0.7346500000000001,
          0.9445500000000001,
          1.1544500000000002,
          1.3643500000000004,
          1.5742500000000004,
          1.7841500000000003,
          1.9940500000000003
         ],
         "y": [
          10.200066206536611,
          20.00338876315212,
          30.261633506550528,
          59.312271374159785,
          50.63612059183108,
          88.35231478606315,
          30.406576488655286,
          0.7160969330919497,
          14.871358827281275,
          19.92522045260534
         ]
        },
        {
         "mode": "lines",
         "name": "Time Passed: 4560 seconds",
         "type": "scatter",
         "x": [
          0.10495000000000002,
          0.3148500000000001,
          0.52475,
          0.7346500000000001,
          0.9445500000000001,
          1.1544500000000002,
          1.3643500000000004,
          1.5742500000000004,
          1.7841500000000003,
          1.9940500000000003
         ],
         "y": [
          10.202706990920175,
          20.00347909155604,
          30.264996861550987,
          59.303340807240566,
          50.644230794121135,
          88.33080914844082,
          30.41181606346764,
          0.7255158915437309,
          14.869735684661649,
          19.9242208768563
         ]
        },
        {
         "mode": "lines",
         "name": "Time Passed: 4620 seconds",
         "type": "scatter",
         "x": [
          0.10495000000000002,
          0.3148500000000001,
          0.52475,
          0.7346500000000001,
          0.9445500000000001,
          1.1544500000000002,
          1.3643500000000004,
          1.5742500000000004,
          1.7841500000000003,
          1.9940500000000003
         ],
         "y": [
          10.20534708183404,
          20.003570574551503,
          30.268356999102465,
          59.29441639761774,
          50.65233142484762,
          88.3093154989632,
          30.417050961032814,
          0.7349314810526723,
          14.868114920529983,
          19.923221247666373
         ]
        },
        {
         "mode": "lines",
         "name": "Time Passed: 4680 seconds",
         "type": "scatter",
         "x": [
          0.10495000000000002,
          0.3148500000000001,
          0.52475,
          0.7346500000000001,
          0.9445500000000001,
          1.1544500000000002,
          1.3643500000000004,
          1.5742500000000004,
          1.7841500000000003,
          1.9940500000000003
         ],
         "y": [
          10.20798647969459,
          20.00366321085979,
          30.271713922055206,
          59.28549814007611,
          50.660422491772586,
          88.28783382959415,
          30.42228118509456,
          0.7443437026238948,
          14.866496533173503,
          19.922221565522868
         ]
        },
        {
         "mode": "lines",
         "name": "Time Passed: 4740 seconds",
         "type": "scatter",
         "x": [
          0.10495000000000002,
          0.3148500000000001,
          0.52475,
          0.7346500000000001,
          0.9445500000000001,
          1.1544500000000002,
          1.3643500000000004,
          1.5742500000000004,
          1.7841500000000003,
          1.9940500000000003
         ],
         "y": [
          10.210625184917848,
          20.003756999203393,
          30.275067633256924,
          59.276586029404854,
          50.6685040026521,
          88.2663641323033,
          30.427506739393603,
          0.7537525572624871,
          14.864880520880478,
          19.92122183091262
         ]
        },
        {
         "mode": "lines",
         "name": "Time Passed: 4800 seconds",
         "type": "scatter",
         "x": [
          0.10495000000000002,
          0.3148500000000001,
          0.52475,
          0.7346500000000001,
          0.9445500000000001,
          1.1544500000000002,
          1.3643500000000004,
          1.5742500000000004,
          1.7841500000000003,
          1.9940500000000003
         ],
         "y": [
          10.213263197919469,
          20.003851938306,
          30.27841813555281,
          59.26768006039752,
          50.676575965236225,
          88.24490639906605,
          30.43272762766766,
          0.763158045973505,
          14.86326688194021,
          19.920222044322003
         ]
        },
        {
         "mode": "lines",
         "name": "Time Passed: 4860 seconds",
         "type": "scatter",
         "x": [
          0.10495000000000002,
          0.3148500000000001,
          0.52475,
          0.7346500000000001,
          0.9445500000000001,
          1.1544500000000002,
          1.3643500000000004,
          1.5742500000000004,
          1.7841500000000003,
          1.9940500000000003
         ],
         "y": [
          10.215900519114742,
          20.003948026892505,
          30.281765431785523,
          59.25878022785201,
          50.68463838726902,
          88.2234606218636,
          30.43794385365142,
          0.7725601697619708,
          14.861655614643045,
          19.919222206236903
         ]
        },
        {
         "mode": "lines",
         "name": "Time Passed: 4920 seconds",
         "type": "scatter",
         "x": [
          0.10495000000000002,
          0.3148500000000001,
          0.52475,
          0.7346500000000001,
          0.9445500000000001,
          1.1544500000000002,
          1.3643500000000004,
          1.5742500000000004,
          1.7841500000000003,
          1.9940500000000003
         ],
         "y": [
          10.218537148918589,
          20.004045263689004,
          30.285109524795214,
          59.2498865265706,
          50.69269127648856,
          88.20202679268286,
          30.443155421076558,
          0.7819589296328737,
          14.860046717280365,
          19.918222317142746
         ]
        },
        {
         "mode": "lines",
         "name": "Time Passed: 4980 seconds",
         "type": "scatter",
         "x": [
          0.10495000000000002,
          0.3148500000000001,
          0.52475,
          0.7346500000000001,
          0.9445500000000001,
          1.1544500000000002,
          1.3643500000000004,
          1.5742500000000004,
          1.7841500000000003,
          1.9940500000000003
         ],
         "y": [
          10.221173087745571,
          20.004143647422794,
          30.2884504174195,
          59.24099895135993,
          50.70073464062694,
          88.18060490351654,
          30.44836233367174,
          0.7913543265911687,
          14.858440188144595,
          19.91722237752449
         ]
        },
        {
         "mode": "lines",
         "name": "Time Passed: 5040 seconds",
         "type": "scatter",
         "x": [
          0.10495000000000002,
          0.3148500000000001,
          0.52475,
          0.7346500000000001,
          0.9445500000000001,
          1.1544500000000002,
          1.3643500000000004,
          1.5742500000000004,
          1.7841500000000003,
          1.9940500000000003
         ],
         "y": [
          10.223808336009881,
          20.004243176822367,
          30.291788112493492,
          59.23211749703098,
          50.70876848741027,
          88.15919494636309,
          30.453564595162614,
          0.8007463616417765,
          14.856836025529189,
          19.91622238786661
         ]
        },
        {
         "mode": "lines",
         "name": "Time Passed: 5100 seconds",
         "type": "scatter",
         "x": [
          0.10495000000000002,
          0.3148500000000001,
          0.52475,
          0.7346500000000001,
          0.9445500000000001,
          1.1544500000000002,
          1.3643500000000004,
          1.5742500000000004,
          1.7841500000000003,
          1.9940500000000003
         ],
         "y": [
          10.226442894125348,
          20.004343850617417,
          30.29512261284978,
          59.22324215839909,
          50.71679282455868,
          88.13779691322671,
          30.45876220927183,
          0.8101350357895831,
          14.855234227728644,
          19.915222348653124
         ]
        },
        {
         "mode": "lines",
         "name": "Time Passed: 5160 seconds",
         "type": "scatter",
         "x": [
          0.10495000000000002,
          0.3148500000000001,
          0.52475,
          0.7346500000000001,
          0.9445500000000001,
          1.1544500000000002,
          1.3643500000000004,
          1.5742500000000004,
          1.7841500000000003,
          1.9940500000000003
         ],
         "y": [
          10.229076762505438,
          20.004445667538832,
          30.298453921318444,
          59.21437293028396,
          50.724807659786336,
          88.11641079611734,
          30.46395517971902,
          0.8195203500394397,
          14.853634793038493,
          19.914222260367573
         ]
        },
        {
         "mode": "lines",
         "name": "Time Passed: 5220 seconds",
         "type": "scatter",
         "x": [
          0.10495000000000002,
          0.3148500000000001,
          0.52475,
          0.7346500000000001,
          0.9445500000000001,
          1.1544500000000002,
          1.3643500000000004,
          1.5742500000000004,
          1.7841500000000003,
          1.9940500000000003
         ],
         "y": [
          10.23170994156325,
          20.004548626318694,
          30.30178204072705,
          59.205509807509614,
          50.732813000801436,
          88.09503658705066,
          30.469143510220825,
          0.8289023053961615,
          14.852037719755302,
          19.913222123493032
         ]
        },
        {
         "mode": "lines",
         "name": "Time Passed: 5280 seconds",
         "type": "scatter",
         "x": [
          0.10495000000000002,
          0.3148500000000001,
          0.52475,
          0.7346500000000001,
          0.9445500000000001,
          1.1544500000000002,
          1.3643500000000004,
          1.5742500000000004,
          1.7841500000000003,
          1.9940500000000003
         ],
         "y": [
          10.234342431711529,
          20.00465272569029,
          30.305106973900664,
          59.19665278490443,
          50.74080885530621,
          88.0736742780481,
          30.47432720449088,
          0.8382809028645284,
          14.850443006176672,
          19.912221938512108
         ]
        },
        {
         "mode": "lines",
         "name": "Time Passed: 5340 seconds",
         "type": "scatter",
         "x": [
          0.10495000000000002,
          0.3148500000000001,
          0.52475,
          0.7346500000000001,
          0.9445500000000001,
          1.1544500000000002,
          1.3643500000000004,
          1.5742500000000004,
          1.7841500000000003,
          1.9940500000000003
         ],
         "y": [
          10.236974233362643,
          20.004757964388084,
          30.308428723661834,
          59.187801857301125,
          50.74879523099694,
          88.05232386113683,
          30.47950626623982,
          0.8476561434492839,
          14.848850650601241,
          19.911221705906936
         ]
        },
        {
         "mode": "lines",
         "name": "Time Passed: 5400 seconds",
         "type": "scatter",
         "x": [
          0.10495000000000002,
          0.3148500000000001,
          0.52475,
          0.7346500000000001,
          0.9445500000000001,
          1.1544500000000002,
          1.3643500000000004,
          1.5742500000000004,
          1.7841500000000003,
          1.9940500000000003
         ],
         "y": [
          10.23960534692861,
          20.004864341147744,
          30.31174729283061,
          59.17895701953674,
          50.75677213556395,
          88.03098532834971,
          30.484680699175286,
          0.8570280281551348,
          14.84726065132868,
          19.910221426159186
         ]
        },
        {
         "mode": "lines",
         "name": "Time Passed: 5460 seconds",
         "type": "scatter",
         "x": [
          0.10495000000000002,
          0.3148500000000001,
          0.52475,
          0.7346500000000001,
          0.9445500000000001,
          1.1544500000000002,
          1.3643500000000004,
          1.5742500000000004,
          1.7841500000000003,
          1.9940500000000003
         ],
         "y": [
          10.242235772821076,
          20.00497185470613,
          30.315062684224543,
          59.170118266452654,
          50.76473957669161,
          88.00965867172536,
          30.489850507001922,
          0.8663965579867512,
          14.845673006659695,
          19.90922109975006
         ]
        },
        {
         "mode": "lines",
         "name": "Time Passed: 5520 seconds",
         "type": "scatter",
         "x": [
          0.10495000000000002,
          0.3148500000000001,
          0.52475,
          0.7346500000000001,
          0.9445500000000001,
          1.1544500000000002,
          1.3643500000000004,
          1.5742500000000004,
          1.7841500000000003,
          1.9940500000000003
         ],
         "y": [
          10.244865511451332,
          20.005080503801288,
          30.31837490065868,
          59.16128559289458,
          50.772697562058354,
          87.9883438833081,
          30.495015693421387,
          0.8757617339487657,
          14.844087714896022,
          19.90822072716029
         ]
        },
        {
         "mode": "lines",
         "name": "Time Passed: 5580 seconds",
         "type": "scatter",
         "x": [
          0.10495000000000002,
          0.3148500000000001,
          0.52475,
          0.7346500000000001,
          0.9445500000000001,
          1.1544500000000002,
          1.3643500000000004,
          1.5742500000000004,
          1.7841500000000003,
          1.9940500000000003
         ],
         "y": [
          10.247494563230303,
          20.005190287172454,
          30.321683944945566,
          59.152458993712536,
          50.78064609933667,
          87.96704095514798,
          30.500176262132346,
          0.8851235570457731,
          14.84250477434043,
          19.907220308870144
         ]
        },
        {
         "mode": "lines",
         "name": "Time Passed: 5640 seconds",
         "type": "scatter",
         "x": [
          0.10495000000000002,
          0.3148500000000001,
          0.52475,
          0.7346500000000001,
          0.9445500000000001,
          1.1544500000000002,
          1.3643500000000004,
          1.5742500000000004,
          1.7841500000000003,
          1.9940500000000003
         ],
         "y": [
          10.250122928568555,
          20.00530120356005,
          30.32498981989526,
          59.14363846376087,
          50.78858519619312,
          87.94574987930075,
          30.50533221683048,
          0.8944820282823304,
          14.840924183296723,
          19.90621984535942
         ]
        },
        {
         "mode": "lines",
         "name": "Time Passed: 5700 seconds",
         "type": "scatter",
         "x": [
          0.10495000000000002,
          0.3148500000000001,
          0.52475,
          0.7346500000000001,
          0.9445500000000001,
          1.1544500000000002,
          1.3643500000000004,
          1.5742500000000004,
          1.7841500000000003,
          1.9940500000000003
         ],
         "y": [
          10.25275060787629,
          20.00541325170569,
          30.328292528315327,
          59.13482399789825,
          50.796514860288326,
          87.92447064782787,
          30.510483561208492,
          0.9038371486629561,
          14.839345940069732,
          19.905219337107454
         ]
        },
        {
         "mode": "lines",
         "name": "Time Passed: 5760 seconds",
         "type": "scatter",
         "x": [
          0.10495000000000002,
          0.3148500000000001,
          0.52475,
          0.7346500000000001,
          0.9445500000000001,
          1.1544500000000002,
          1.3643500000000004,
          1.5742500000000004,
          1.7841500000000003,
          1.9940500000000003
         ],
         "y": [
          10.255377601563353,
          20.00552643035217,
          30.331592073010835,
          59.126015590987656,
          50.804435099277,
          87.90320325279652,
          30.515630298956093,
          0.9131889191921297,
          14.837770042965323,
          19.90421878459311
         ]
        },
        {
         "mode": "lines",
         "name": "Time Passed: 5820 seconds",
         "type": "scatter",
         "x": [
          0.10495000000000002,
          0.3148500000000001,
          0.52475,
          0.7346500000000001,
          0.9445500000000001,
          1.1544500000000002,
          1.3643500000000004,
          1.5742500000000004,
          1.7841500000000003,
          1.9940500000000003
         ],
         "y": [
          10.258003910039227,
          20.00564073824347,
          30.334888456784366,
          59.11721323789637,
          50.81234592080792,
          87.88194768627955,
          30.520772433760023,
          0.9225373408742918,
          14.836196490290387,
          19.903218188294787
         ]
        },
        {
         "mode": "lines",
         "name": "Time Passed: 5880 seconds",
         "type": "scatter",
         "x": [
          0.10495000000000002,
          0.3148500000000001,
          0.52475,
          0.7346500000000001,
          0.9445500000000001,
          1.1544500000000002,
          1.3643500000000004,
          1.5742500000000004,
          1.7841500000000003,
          1.9940500000000003
         ],
         "y": [
          10.260629533713034,
          20.005756174124762,
          30.338181682436016,
          59.10841693349599,
          50.82024733252395,
          87.86070394035552,
          30.52590996930404,
          0.9318824147138433,
          14.834625280352851,
          19.902217548690423
         ]
        },
        {
         "mode": "lines",
         "name": "Time Passed: 5940 seconds",
         "type": "scatter",
         "x": [
          0.10495000000000002,
          0.3148500000000001,
          0.52475,
          0.7346500000000001,
          0.9445500000000001,
          1.1544500000000002,
          1.3643500000000004,
          1.5742500000000004,
          1.7841500000000003,
          1.9940500000000003
         ],
         "y": [
          10.263254472993538,
          20.00587273674239,
          30.341471752763397,
          59.099626672662396,
          50.82813934206204,
          87.83947200710868,
          30.531042909268926,
          0.941224141715145,
          14.833056411461666,
          19.90121686625749
         ]
        },
        {
         "mode": "lines",
         "name": "Time Passed: 6000 seconds",
         "type": "scatter",
         "x": [
          0.10495000000000002,
          0.3148500000000001,
          0.52475,
          0.7346500000000001,
          0.9445500000000001,
          1.1544500000000002,
          1.3643500000000004,
          1.5742500000000004,
          1.7841500000000003,
          1.9940500000000003
         ],
         "y": [
          10.265878728289142,
          20.005990424843887,
          30.344758670561635,
          59.090842450275794,
          50.836021957053234,
          87.81825187862896,
          30.5361712573325,
          0.9505625228825176,
          14.831489881926814,
          19.900216141472992
         ]
        }
       ],
       "layout": {
        "template": {
         "data": {
          "bar": [
           {
            "error_x": {
             "color": "#2a3f5f"
            },
            "error_y": {
             "color": "#2a3f5f"
            },
            "marker": {
             "line": {
              "color": "#E5ECF6",
              "width": 0.5
             },
             "pattern": {
              "fillmode": "overlay",
              "size": 10,
              "solidity": 0.2
             }
            },
            "type": "bar"
           }
          ],
          "barpolar": [
           {
            "marker": {
             "line": {
              "color": "#E5ECF6",
              "width": 0.5
             },
             "pattern": {
              "fillmode": "overlay",
              "size": 10,
              "solidity": 0.2
             }
            },
            "type": "barpolar"
           }
          ],
          "carpet": [
           {
            "aaxis": {
             "endlinecolor": "#2a3f5f",
             "gridcolor": "white",
             "linecolor": "white",
             "minorgridcolor": "white",
             "startlinecolor": "#2a3f5f"
            },
            "baxis": {
             "endlinecolor": "#2a3f5f",
             "gridcolor": "white",
             "linecolor": "white",
             "minorgridcolor": "white",
             "startlinecolor": "#2a3f5f"
            },
            "type": "carpet"
           }
          ],
          "choropleth": [
           {
            "colorbar": {
             "outlinewidth": 0,
             "ticks": ""
            },
            "type": "choropleth"
           }
          ],
          "contour": [
           {
            "colorbar": {
             "outlinewidth": 0,
             "ticks": ""
            },
            "colorscale": [
             [
              0,
              "#0d0887"
             ],
             [
              0.1111111111111111,
              "#46039f"
             ],
             [
              0.2222222222222222,
              "#7201a8"
             ],
             [
              0.3333333333333333,
              "#9c179e"
             ],
             [
              0.4444444444444444,
              "#bd3786"
             ],
             [
              0.5555555555555556,
              "#d8576b"
             ],
             [
              0.6666666666666666,
              "#ed7953"
             ],
             [
              0.7777777777777778,
              "#fb9f3a"
             ],
             [
              0.8888888888888888,
              "#fdca26"
             ],
             [
              1,
              "#f0f921"
             ]
            ],
            "type": "contour"
           }
          ],
          "contourcarpet": [
           {
            "colorbar": {
             "outlinewidth": 0,
             "ticks": ""
            },
            "type": "contourcarpet"
           }
          ],
          "heatmap": [
           {
            "colorbar": {
             "outlinewidth": 0,
             "ticks": ""
            },
            "colorscale": [
             [
              0,
              "#0d0887"
             ],
             [
              0.1111111111111111,
              "#46039f"
             ],
             [
              0.2222222222222222,
              "#7201a8"
             ],
             [
              0.3333333333333333,
              "#9c179e"
             ],
             [
              0.4444444444444444,
              "#bd3786"
             ],
             [
              0.5555555555555556,
              "#d8576b"
             ],
             [
              0.6666666666666666,
              "#ed7953"
             ],
             [
              0.7777777777777778,
              "#fb9f3a"
             ],
             [
              0.8888888888888888,
              "#fdca26"
             ],
             [
              1,
              "#f0f921"
             ]
            ],
            "type": "heatmap"
           }
          ],
          "heatmapgl": [
           {
            "colorbar": {
             "outlinewidth": 0,
             "ticks": ""
            },
            "colorscale": [
             [
              0,
              "#0d0887"
             ],
             [
              0.1111111111111111,
              "#46039f"
             ],
             [
              0.2222222222222222,
              "#7201a8"
             ],
             [
              0.3333333333333333,
              "#9c179e"
             ],
             [
              0.4444444444444444,
              "#bd3786"
             ],
             [
              0.5555555555555556,
              "#d8576b"
             ],
             [
              0.6666666666666666,
              "#ed7953"
             ],
             [
              0.7777777777777778,
              "#fb9f3a"
             ],
             [
              0.8888888888888888,
              "#fdca26"
             ],
             [
              1,
              "#f0f921"
             ]
            ],
            "type": "heatmapgl"
           }
          ],
          "histogram": [
           {
            "marker": {
             "pattern": {
              "fillmode": "overlay",
              "size": 10,
              "solidity": 0.2
             }
            },
            "type": "histogram"
           }
          ],
          "histogram2d": [
           {
            "colorbar": {
             "outlinewidth": 0,
             "ticks": ""
            },
            "colorscale": [
             [
              0,
              "#0d0887"
             ],
             [
              0.1111111111111111,
              "#46039f"
             ],
             [
              0.2222222222222222,
              "#7201a8"
             ],
             [
              0.3333333333333333,
              "#9c179e"
             ],
             [
              0.4444444444444444,
              "#bd3786"
             ],
             [
              0.5555555555555556,
              "#d8576b"
             ],
             [
              0.6666666666666666,
              "#ed7953"
             ],
             [
              0.7777777777777778,
              "#fb9f3a"
             ],
             [
              0.8888888888888888,
              "#fdca26"
             ],
             [
              1,
              "#f0f921"
             ]
            ],
            "type": "histogram2d"
           }
          ],
          "histogram2dcontour": [
           {
            "colorbar": {
             "outlinewidth": 0,
             "ticks": ""
            },
            "colorscale": [
             [
              0,
              "#0d0887"
             ],
             [
              0.1111111111111111,
              "#46039f"
             ],
             [
              0.2222222222222222,
              "#7201a8"
             ],
             [
              0.3333333333333333,
              "#9c179e"
             ],
             [
              0.4444444444444444,
              "#bd3786"
             ],
             [
              0.5555555555555556,
              "#d8576b"
             ],
             [
              0.6666666666666666,
              "#ed7953"
             ],
             [
              0.7777777777777778,
              "#fb9f3a"
             ],
             [
              0.8888888888888888,
              "#fdca26"
             ],
             [
              1,
              "#f0f921"
             ]
            ],
            "type": "histogram2dcontour"
           }
          ],
          "mesh3d": [
           {
            "colorbar": {
             "outlinewidth": 0,
             "ticks": ""
            },
            "type": "mesh3d"
           }
          ],
          "parcoords": [
           {
            "line": {
             "colorbar": {
              "outlinewidth": 0,
              "ticks": ""
             }
            },
            "type": "parcoords"
           }
          ],
          "pie": [
           {
            "automargin": true,
            "type": "pie"
           }
          ],
          "scatter": [
           {
            "fillpattern": {
             "fillmode": "overlay",
             "size": 10,
             "solidity": 0.2
            },
            "type": "scatter"
           }
          ],
          "scatter3d": [
           {
            "line": {
             "colorbar": {
              "outlinewidth": 0,
              "ticks": ""
             }
            },
            "marker": {
             "colorbar": {
              "outlinewidth": 0,
              "ticks": ""
             }
            },
            "type": "scatter3d"
           }
          ],
          "scattercarpet": [
           {
            "marker": {
             "colorbar": {
              "outlinewidth": 0,
              "ticks": ""
             }
            },
            "type": "scattercarpet"
           }
          ],
          "scattergeo": [
           {
            "marker": {
             "colorbar": {
              "outlinewidth": 0,
              "ticks": ""
             }
            },
            "type": "scattergeo"
           }
          ],
          "scattergl": [
           {
            "marker": {
             "colorbar": {
              "outlinewidth": 0,
              "ticks": ""
             }
            },
            "type": "scattergl"
           }
          ],
          "scattermapbox": [
           {
            "marker": {
             "colorbar": {
              "outlinewidth": 0,
              "ticks": ""
             }
            },
            "type": "scattermapbox"
           }
          ],
          "scatterpolar": [
           {
            "marker": {
             "colorbar": {
              "outlinewidth": 0,
              "ticks": ""
             }
            },
            "type": "scatterpolar"
           }
          ],
          "scatterpolargl": [
           {
            "marker": {
             "colorbar": {
              "outlinewidth": 0,
              "ticks": ""
             }
            },
            "type": "scatterpolargl"
           }
          ],
          "scatterternary": [
           {
            "marker": {
             "colorbar": {
              "outlinewidth": 0,
              "ticks": ""
             }
            },
            "type": "scatterternary"
           }
          ],
          "surface": [
           {
            "colorbar": {
             "outlinewidth": 0,
             "ticks": ""
            },
            "colorscale": [
             [
              0,
              "#0d0887"
             ],
             [
              0.1111111111111111,
              "#46039f"
             ],
             [
              0.2222222222222222,
              "#7201a8"
             ],
             [
              0.3333333333333333,
              "#9c179e"
             ],
             [
              0.4444444444444444,
              "#bd3786"
             ],
             [
              0.5555555555555556,
              "#d8576b"
             ],
             [
              0.6666666666666666,
              "#ed7953"
             ],
             [
              0.7777777777777778,
              "#fb9f3a"
             ],
             [
              0.8888888888888888,
              "#fdca26"
             ],
             [
              1,
              "#f0f921"
             ]
            ],
            "type": "surface"
           }
          ],
          "table": [
           {
            "cells": {
             "fill": {
              "color": "#EBF0F8"
             },
             "line": {
              "color": "white"
             }
            },
            "header": {
             "fill": {
              "color": "#C8D4E3"
             },
             "line": {
              "color": "white"
             }
            },
            "type": "table"
           }
          ]
         },
         "layout": {
          "annotationdefaults": {
           "arrowcolor": "#2a3f5f",
           "arrowhead": 0,
           "arrowwidth": 1
          },
          "autotypenumbers": "strict",
          "coloraxis": {
           "colorbar": {
            "outlinewidth": 0,
            "ticks": ""
           }
          },
          "colorscale": {
           "diverging": [
            [
             0,
             "#8e0152"
            ],
            [
             0.1,
             "#c51b7d"
            ],
            [
             0.2,
             "#de77ae"
            ],
            [
             0.3,
             "#f1b6da"
            ],
            [
             0.4,
             "#fde0ef"
            ],
            [
             0.5,
             "#f7f7f7"
            ],
            [
             0.6,
             "#e6f5d0"
            ],
            [
             0.7,
             "#b8e186"
            ],
            [
             0.8,
             "#7fbc41"
            ],
            [
             0.9,
             "#4d9221"
            ],
            [
             1,
             "#276419"
            ]
           ],
           "sequential": [
            [
             0,
             "#0d0887"
            ],
            [
             0.1111111111111111,
             "#46039f"
            ],
            [
             0.2222222222222222,
             "#7201a8"
            ],
            [
             0.3333333333333333,
             "#9c179e"
            ],
            [
             0.4444444444444444,
             "#bd3786"
            ],
            [
             0.5555555555555556,
             "#d8576b"
            ],
            [
             0.6666666666666666,
             "#ed7953"
            ],
            [
             0.7777777777777778,
             "#fb9f3a"
            ],
            [
             0.8888888888888888,
             "#fdca26"
            ],
            [
             1,
             "#f0f921"
            ]
           ],
           "sequentialminus": [
            [
             0,
             "#0d0887"
            ],
            [
             0.1111111111111111,
             "#46039f"
            ],
            [
             0.2222222222222222,
             "#7201a8"
            ],
            [
             0.3333333333333333,
             "#9c179e"
            ],
            [
             0.4444444444444444,
             "#bd3786"
            ],
            [
             0.5555555555555556,
             "#d8576b"
            ],
            [
             0.6666666666666666,
             "#ed7953"
            ],
            [
             0.7777777777777778,
             "#fb9f3a"
            ],
            [
             0.8888888888888888,
             "#fdca26"
            ],
            [
             1,
             "#f0f921"
            ]
           ]
          },
          "colorway": [
           "#636efa",
           "#EF553B",
           "#00cc96",
           "#ab63fa",
           "#FFA15A",
           "#19d3f3",
           "#FF6692",
           "#B6E880",
           "#FF97FF",
           "#FECB52"
          ],
          "font": {
           "color": "#2a3f5f"
          },
          "geo": {
           "bgcolor": "white",
           "lakecolor": "white",
           "landcolor": "#E5ECF6",
           "showlakes": true,
           "showland": true,
           "subunitcolor": "white"
          },
          "hoverlabel": {
           "align": "left"
          },
          "hovermode": "closest",
          "mapbox": {
           "style": "light"
          },
          "paper_bgcolor": "white",
          "plot_bgcolor": "#E5ECF6",
          "polar": {
           "angularaxis": {
            "gridcolor": "white",
            "linecolor": "white",
            "ticks": ""
           },
           "bgcolor": "#E5ECF6",
           "radialaxis": {
            "gridcolor": "white",
            "linecolor": "white",
            "ticks": ""
           }
          },
          "scene": {
           "xaxis": {
            "backgroundcolor": "#E5ECF6",
            "gridcolor": "white",
            "gridwidth": 2,
            "linecolor": "white",
            "showbackground": true,
            "ticks": "",
            "zerolinecolor": "white"
           },
           "yaxis": {
            "backgroundcolor": "#E5ECF6",
            "gridcolor": "white",
            "gridwidth": 2,
            "linecolor": "white",
            "showbackground": true,
            "ticks": "",
            "zerolinecolor": "white"
           },
           "zaxis": {
            "backgroundcolor": "#E5ECF6",
            "gridcolor": "white",
            "gridwidth": 2,
            "linecolor": "white",
            "showbackground": true,
            "ticks": "",
            "zerolinecolor": "white"
           }
          },
          "shapedefaults": {
           "line": {
            "color": "#2a3f5f"
           }
          },
          "ternary": {
           "aaxis": {
            "gridcolor": "white",
            "linecolor": "white",
            "ticks": ""
           },
           "baxis": {
            "gridcolor": "white",
            "linecolor": "white",
            "ticks": ""
           },
           "bgcolor": "#E5ECF6",
           "caxis": {
            "gridcolor": "white",
            "linecolor": "white",
            "ticks": ""
           }
          },
          "title": {
           "x": 0.05
          },
          "xaxis": {
           "automargin": true,
           "gridcolor": "white",
           "linecolor": "white",
           "ticks": "",
           "title": {
            "standoff": 15
           },
           "zerolinecolor": "white",
           "zerolinewidth": 2
          },
          "yaxis": {
           "automargin": true,
           "gridcolor": "white",
           "linecolor": "white",
           "ticks": "",
           "title": {
            "standoff": 15
           },
           "zerolinecolor": "white",
           "zerolinewidth": 2
          }
         }
        },
        "title": {
         "text": "Temperature Distribution Over Tank Height and Over Time"
        },
        "xaxis": {
         "range": [
          0,
          2.099
         ],
         "title": {
          "text": "Height"
         }
        },
        "yaxis": {
         "title": {
          "text": "Temperature"
         }
        }
       }
      }
     },
     "metadata": {},
     "output_type": "display_data"
    },
    {
     "data": {
      "application/vnd.plotly.v1+json": {
       "config": {
        "plotlyServerURL": "https://plot.ly"
       },
       "data": [
        {
         "mode": "lines",
         "name": "Layer 0",
         "type": "scatter",
         "x": [
          0,
          1,
          2,
          3,
          4,
          5,
          6,
          7,
          8,
          9,
          10,
          11,
          12,
          13,
          14,
          15,
          16,
          17,
          18,
          19,
          20,
          21,
          22,
          23,
          24,
          25,
          26,
          27,
          28,
          29,
          30,
          31,
          32,
          33,
          34,
          35,
          36,
          37,
          38,
          39,
          40,
          41,
          42,
          43,
          44,
          45,
          46,
          47,
          48,
          49,
          50,
          51,
          52,
          53,
          54,
          55,
          56,
          57,
          58,
          59,
          60,
          61,
          62,
          63,
          64,
          65,
          66,
          67,
          68,
          69,
          70,
          71,
          72,
          73,
          74,
          75,
          76,
          77,
          78,
          79,
          80,
          81,
          82,
          83,
          84,
          85,
          86,
          87,
          88,
          89,
          90,
          91,
          92,
          93,
          94,
          95,
          96,
          97,
          98,
          99,
          100
         ],
         "y": [
          10,
          10.002694008608213,
          10.005387291448187,
          10.00807984896478,
          10.010771681602453,
          10.013462789805278,
          10.016153174016932,
          10.018842834680704,
          10.02153177223949,
          10.024219987135794,
          10.026907479811733,
          10.02959425070903,
          10.032280300269019,
          10.034965628932644,
          10.037650237140465,
          10.040334125332645,
          10.043017293948967,
          10.04569974342882,
          10.048381474211206,
          10.051062486734745,
          10.053742781437663,
          10.056422358757803,
          10.059101219132621,
          10.06177936299919,
          10.06445679079419,
          10.067133502953928,
          10.069809499914314,
          10.072484782110878,
          10.07515934997877,
          10.077833203952752,
          10.0805063444672,
          10.083178771956113,
          10.085850486853106,
          10.088521489591407,
          10.091191780603868,
          10.093861360322956,
          10.096530229180757,
          10.099198387608979,
          10.101865836038945,
          10.104532574901599,
          10.107198604627508,
          10.109863925646856,
          10.112528538389451,
          10.115192443284721,
          10.117855640761713,
          10.1205181312491,
          10.123179915175172,
          10.125840992967849,
          10.128501365054667,
          10.131161031862788,
          10.133819993819,
          10.13647825134971,
          10.139135804880953,
          10.141792654838389,
          10.1444488016473,
          10.147104245732596,
          10.149758987518812,
          10.152413027430109,
          10.155066365890272,
          10.157719003322718,
          10.160370940150488,
          10.163022176796247,
          10.165672713682294,
          10.168322551230554,
          10.17097168986258,
          10.17362012999955,
          10.17626787206228,
          10.178914916471207,
          10.181561263646403,
          10.184206914007568,
          10.186851867974033,
          10.189496125964759,
          10.192139688398338,
          10.194782555692997,
          10.197424728266592,
          10.200066206536611,
          10.202706990920175,
          10.20534708183404,
          10.20798647969459,
          10.210625184917848,
          10.213263197919469,
          10.215900519114742,
          10.218537148918589,
          10.221173087745571,
          10.223808336009881,
          10.226442894125348,
          10.229076762505438,
          10.23170994156325,
          10.234342431711529,
          10.236974233362643,
          10.23960534692861,
          10.242235772821076,
          10.244865511451332,
          10.247494563230303,
          10.250122928568555,
          10.25275060787629,
          10.255377601563353,
          10.258003910039227,
          10.260629533713034,
          10.263254472993538,
          10.265878728289142
         ]
        },
        {
         "mode": "lines",
         "name": "Layer 1",
         "type": "scatter",
         "x": [
          0,
          1,
          2,
          3,
          4,
          5,
          6,
          7,
          8,
          9,
          10,
          11,
          12,
          13,
          14,
          15,
          16,
          17,
          18,
          19,
          20,
          21,
          22,
          23,
          24,
          25,
          26,
          27,
          28,
          29,
          30,
          31,
          32,
          33,
          34,
          35,
          36,
          37,
          38,
          39,
          40,
          41,
          42,
          43,
          44,
          45,
          46,
          47,
          48,
          49,
          50,
          51,
          52,
          53,
          54,
          55,
          56,
          57,
          58,
          59,
          60,
          61,
          62,
          63,
          64,
          65,
          66,
          67,
          68,
          69,
          70,
          71,
          72,
          73,
          74,
          75,
          76,
          77,
          78,
          79,
          80,
          81,
          82,
          83,
          84,
          85,
          86,
          87,
          88,
          89,
          90,
          91,
          92,
          93,
          94,
          95,
          96,
          97,
          98,
          99,
          100
         ],
         "y": [
          20,
          20,
          20.000001254009803,
          20.00000376065715,
          20.000007518571078,
          20.00001252638191,
          20.00001878272125,
          20.000026286222,
          20.000035035518337,
          20.00004502924573,
          20.00005626604092,
          20.000068744541945,
          20.000082463388107,
          20.000097421219998,
          20.00011361667948,
          20.000131048409706,
          20.000149715055088,
          20.00016961526132,
          20.000190747675372,
          20.00021311094548,
          20.000236703721157,
          20.00026152465318,
          20.0002875723936,
          20.000314845595735,
          20.000343342914167,
          20.000373063004744,
          20.00040400452458,
          20.000436166132047,
          20.000469546486784,
          20.00050414424969,
          20.00053995808292,
          20.000576986649893,
          20.00061522861528,
          20.00065468264501,
          20.000695347406268,
          20.00073722156749,
          20.00078030379837,
          20.000824592769845,
          20.000870087154112,
          20.00091678562461,
          20.00096468685603,
          20.001013789524308,
          20.001064092306628,
          20.001115593881416,
          20.00116829292834,
          20.00122218812832,
          20.001277278163503,
          20.00133356171729,
          20.00139103747431,
          20.001449704120436,
          20.001509560342775,
          20.001570604829674,
          20.00163283627071,
          20.00169625335669,
          20.00176085477967,
          20.001826639232913,
          20.00189360541093,
          20.001961752009457,
          20.00203107772545,
          20.002101581257104,
          20.002173261303827,
          20.002246116566262,
          20.002320145746268,
          20.00239534754693,
          20.002471720672553,
          20.002549263828662,
          20.002627975722003,
          20.00270785506054,
          20.002788900553444,
          20.002871110911112,
          20.002954484845155,
          20.003039021068393,
          20.003124718294856,
          20.003211575239796,
          20.003299590619662,
          20.00338876315212,
          20.00347909155604,
          20.003570574551503,
          20.00366321085979,
          20.003756999203393,
          20.003851938306,
          20.003948026892505,
          20.004045263689004,
          20.004143647422794,
          20.004243176822367,
          20.004343850617417,
          20.004445667538832,
          20.004548626318694,
          20.00465272569029,
          20.004757964388084,
          20.004864341147744,
          20.00497185470613,
          20.005080503801288,
          20.005190287172454,
          20.00530120356005,
          20.00541325170569,
          20.00552643035217,
          20.00564073824347,
          20.005756174124762,
          20.00587273674239,
          20.005990424843887
         ]
        },
        {
         "mode": "lines",
         "name": "Layer 2",
         "type": "scatter",
         "x": [
          0,
          1,
          2,
          3,
          4,
          5,
          6,
          7,
          8,
          9,
          10,
          11,
          12,
          13,
          14,
          15,
          16,
          17,
          18,
          19,
          20,
          21,
          22,
          23,
          24,
          25,
          26,
          27,
          28,
          29,
          30,
          31,
          32,
          33,
          34,
          35,
          36,
          37,
          38,
          39,
          40,
          41,
          42,
          43,
          44,
          45,
          46,
          47,
          48,
          49,
          50,
          51,
          52,
          53,
          54,
          55,
          56,
          57,
          58,
          59,
          60,
          61,
          62,
          63,
          64,
          65,
          66,
          67,
          68,
          69,
          70,
          71,
          72,
          73,
          74,
          75,
          76,
          77,
          78,
          79,
          80,
          81,
          82,
          83,
          84,
          85,
          86,
          87,
          88,
          89,
          90,
          91,
          92,
          93,
          94,
          95,
          96,
          97,
          98,
          99,
          100
         ],
         "y": [
          30,
          30.003612974997523,
          30.007222511408237,
          30.010828612278434,
          30.0144312806517,
          30.01803051956893,
          30.021626332068326,
          30.02521872118539,
          30.028807689952938,
          30.032393241401103,
          30.03597537855733,
          30.039554104446374,
          30.04312942209032,
          30.046701334508573,
          30.050269844717857,
          30.053834955732224,
          30.05739667056306,
          30.06095499221908,
          30.06450992370633,
          30.068061468028187,
          30.071609628185378,
          30.075154407175965,
          30.078695807995352,
          30.082233833636288,
          30.08576848708887,
          30.089299771340546,
          30.092827689376115,
          30.09635224417773,
          30.0998734387249,
          30.103391275994493,
          30.106905758960743,
          30.110416890595243,
          30.113924673866954,
          30.1174291117422,
          30.120930207184685,
          30.124427963155476,
          30.127922382613022,
          30.13141346851315,
          30.134901223809056,
          30.13838565145133,
          30.14186675438794,
          30.145344535564245,
          30.148818997922987,
          30.152290144404304,
          30.155757977945726,
          30.159222501482176,
          30.16268371794598,
          30.16614163026686,
          30.169596241371938,
          30.173047554185747,
          30.176495571630223,
          30.179940296624714,
          30.18338173208598,
          30.186819880928187,
          30.190254746062926,
          30.193686330399203,
          30.197114636843445,
          30.2005396682995,
          30.203961427668638,
          30.207379917849565,
          30.210795141738412,
          30.21420710222874,
          30.217615802211547,
          30.22102124457526,
          30.224423432205757,
          30.22782236798635,
          30.231218054797786,
          30.23461049551827,
          30.237999693023454,
          30.241385650186427,
          30.24476836987774,
          30.248147854965396,
          30.251524108314854,
          30.254897132789033,
          30.25826693124831,
          30.261633506550528,
          30.264996861550987,
          30.268356999102465,
          30.271713922055206,
          30.275067633256924,
          30.27841813555281,
          30.281765431785523,
          30.285109524795214,
          30.2884504174195,
          30.291788112493492,
          30.29512261284978,
          30.298453921318444,
          30.30178204072705,
          30.305106973900664,
          30.308428723661834,
          30.31174729283061,
          30.315062684224543,
          30.31837490065868,
          30.321683944945566,
          30.32498981989526,
          30.328292528315327,
          30.331592073010835,
          30.334888456784366,
          30.338181682436016,
          30.341471752763397,
          30.344758670561635
         ]
        },
        {
         "mode": "lines",
         "name": "Layer 3",
         "type": "scatter",
         "x": [
          0,
          1,
          2,
          3,
          4,
          5,
          6,
          7,
          8,
          9,
          10,
          11,
          12,
          13,
          14,
          15,
          16,
          17,
          18,
          19,
          20,
          21,
          22,
          23,
          24,
          25,
          26,
          27,
          28,
          29,
          30,
          31,
          32,
          33,
          34,
          35,
          36,
          37,
          38,
          39,
          40,
          41,
          42,
          43,
          44,
          45,
          46,
          47,
          48,
          49,
          50,
          51,
          52,
          53,
          54,
          55,
          56,
          57,
          58,
          59,
          60,
          61,
          62,
          63,
          64,
          65,
          66,
          67,
          68,
          69,
          70,
          71,
          72,
          73,
          74,
          75,
          76,
          77,
          78,
          79,
          80,
          81,
          82,
          83,
          84,
          85,
          86,
          87,
          88,
          89,
          90,
          91,
          92,
          93,
          94,
          95,
          96,
          97,
          98,
          99,
          100
         ],
         "y": [
          60,
          59.99059244741836,
          59.981191456004694,
          59.97179702020534,
          59.96240913447126,
          59.95302779325809,
          59.94365299102609,
          59.934284722240186,
          59.92492298136991,
          59.915567762889445,
          59.906219061277596,
          59.896876871017795,
          59.8875411865981,
          59.87821200251118,
          59.868889313254314,
          59.859573113329404,
          59.85026339724294,
          59.84096015950603,
          59.831663394634376,
          59.82237309714827,
          59.8130892615726,
          59.80381188243684,
          59.79454095427504,
          59.78527647162584,
          59.776018429032455,
          59.766766821042665,
          59.75752164220882,
          59.74828288708784,
          59.7390505502412,
          59.72982462623494,
          59.720605109639635,
          59.71139199503043,
          59.70218527698701,
          59.692984950093596,
          59.683791008938954,
          59.67460344811638,
          59.6654222622237,
          59.65624744586328,
          59.64707899364199,
          59.63791690017123,
          59.628761160066915,
          59.61961176794947,
          59.61046871844384,
          59.60133200617946,
          59.592201625790274,
          59.58307757191472,
          59.57395983919573,
          59.564848422280726,
          59.55574331582162,
          59.546644514474806,
          59.53755201290116,
          59.52846580576602,
          59.519385887739205,
          59.51031225349501,
          59.501244897712176,
          59.49218381507392,
          59.483129000267915,
          59.474080447986275,
          59.46503815292557,
          59.45600210978683,
          59.4469723132755,
          59.43794875810149,
          59.42893143897913,
          59.41992035062718,
          59.41091548776884,
          59.40191684513172,
          59.39292441744787,
          59.38393819945374,
          59.37495818589019,
          59.36598437150251,
          59.357016751040376,
          59.348055319257874,
          59.33910007091349,
          59.3301510007701,
          59.32120810359498,
          59.312271374159785,
          59.303340807240566,
          59.29441639761774,
          59.28549814007611,
          59.276586029404854,
          59.26768006039752,
          59.25878022785201,
          59.2498865265706,
          59.24099895135993,
          59.23211749703098,
          59.22324215839909,
          59.21437293028396,
          59.205509807509614,
          59.19665278490443,
          59.187801857301125,
          59.17895701953674,
          59.170118266452654,
          59.16128559289458,
          59.152458993712536,
          59.14363846376087,
          59.13482399789825,
          59.126015590987656,
          59.11721323789637,
          59.10841693349599,
          59.099626672662396,
          59.090842450275794
         ]
        },
        {
         "mode": "lines",
         "name": "Layer 4",
         "type": "scatter",
         "x": [
          0,
          1,
          2,
          3,
          4,
          5,
          6,
          7,
          8,
          9,
          10,
          11,
          12,
          13,
          14,
          15,
          16,
          17,
          18,
          19,
          20,
          21,
          22,
          23,
          24,
          25,
          26,
          27,
          28,
          29,
          30,
          31,
          32,
          33,
          34,
          35,
          36,
          37,
          38,
          39,
          40,
          41,
          42,
          43,
          44,
          45,
          46,
          47,
          48,
          49,
          50,
          51,
          52,
          53,
          54,
          55,
          56,
          57,
          58,
          59,
          60,
          61,
          62,
          63,
          64,
          65,
          66,
          67,
          68,
          69,
          70,
          71,
          72,
          73,
          74,
          75,
          76,
          77,
          78,
          79,
          80,
          81,
          82,
          83,
          84,
          85,
          86,
          87,
          88,
          89,
          90,
          91,
          92,
          93,
          94,
          95,
          96,
          97,
          98,
          99,
          100
         ],
         "y": [
          50,
          50.00885063727826,
          50.01769110338454,
          50.02652140654463,
          50.03534155497795,
          50.04415155689754,
          50.05295142051013,
          50.06174115401607,
          50.07052076560939,
          50.079290263477766,
          50.088049655802564,
          50.0967989507588,
          50.105538156515195,
          50.11426728123412,
          50.122986333071665,
          50.1316953201776,
          50.14039425069539,
          50.14908313276219,
          50.15776197450891,
          50.16643078406011,
          50.175089569534116,
          50.183738339042954,
          50.192377100692376,
          50.20100586258187,
          50.20962463280467,
          50.21823341944773,
          50.22683223059176,
          50.23542107431123,
          50.243999958674365,
          50.25256889174313,
          50.26112788157328,
          50.269676936214324,
          50.27821606370955,
          50.286745272096034,
          50.29526456940462,
          50.303773963659964,
          50.3122734628805,
          50.32076307507846,
          50.329242808259885,
          50.33771267042462,
          50.34617266956634,
          50.35462281367252,
          50.363063110724454,
          50.371493568697275,
          50.379914195559955,
          50.388324999275284,
          50.396725987799904,
          50.405117169084306,
          50.41349855107283,
          50.421870141703664,
          50.430231948908876,
          50.438583980614375,
          50.44692624473996,
          50.455258749199295,
          50.463581501899924,
          50.47189451074328,
          50.48019778362469,
          50.48849132843335,
          50.49677515305238,
          50.5050492653588,
          50.51331367322352,
          50.52156838451139,
          50.52981340708115,
          50.53804874878548,
          50.546274417470975,
          50.554490420978176,
          50.562696767141546,
          50.570893463789496,
          50.57908051874438,
          50.5872579398225,
          50.595425734834116,
          50.60358391158344,
          50.611732477868664,
          50.61987144148193,
          50.62800081020937,
          50.63612059183108,
          50.644230794121135,
          50.65233142484762,
          50.660422491772586,
          50.6685040026521,
          50.676575965236225,
          50.68463838726902,
          50.69269127648856,
          50.70073464062694,
          50.70876848741027,
          50.71679282455868,
          50.724807659786336,
          50.732813000801436,
          50.74080885530621,
          50.74879523099694,
          50.75677213556395,
          50.76473957669161,
          50.772697562058354,
          50.78064609933667,
          50.78858519619312,
          50.796514860288326,
          50.804435099277,
          50.81234592080792,
          50.82024733252395,
          50.82813934206204,
          50.836021957053234
         ]
        },
        {
         "mode": "lines",
         "name": "Layer 5",
         "type": "scatter",
         "x": [
          0,
          1,
          2,
          3,
          4,
          5,
          6,
          7,
          8,
          9,
          10,
          11,
          12,
          13,
          14,
          15,
          16,
          17,
          18,
          19,
          20,
          21,
          22,
          23,
          24,
          25,
          26,
          27,
          28,
          29,
          30,
          31,
          32,
          33,
          34,
          35,
          36,
          37,
          38,
          39,
          40,
          41,
          42,
          43,
          44,
          45,
          46,
          47,
          48,
          49,
          50,
          51,
          52,
          53,
          54,
          55,
          56,
          57,
          58,
          59,
          60,
          61,
          62,
          63,
          64,
          65,
          66,
          67,
          68,
          69,
          70,
          71,
          72,
          73,
          74,
          75,
          76,
          77,
          78,
          79,
          80,
          81,
          82,
          83,
          84,
          85,
          86,
          87,
          88,
          89,
          90,
          91,
          92,
          93,
          94,
          95,
          96,
          97,
          98,
          99,
          100
         ],
         "y": [
          90,
          89.97757191983919,
          89.95515644731312,
          89.93275357393996,
          89.91036329124404,
          89.88798559075575,
          89.8656204640116,
          89.84326790255417,
          89.82092789793218,
          89.79860044170039,
          89.77628552541964,
          89.75398314065687,
          89.73169327898509,
          89.70941593198334,
          89.68715109123679,
          89.66489874833658,
          89.64265889487999,
          89.62043152247028,
          89.5982166227168,
          89.57601418723492,
          89.55382420764604,
          89.53164667557762,
          89.5094815826631,
          89.48732892054198,
          89.46518868085977,
          89.44306085526796,
          89.4209454354241,
          89.39884241299171,
          89.37675177964032,
          89.35467352704543,
          89.33260764688859,
          89.31055413085728,
          89.28851297064499,
          89.26648415795117,
          89.24446768448125,
          89.22246354194662,
          89.20047172206466,
          89.17849221655868,
          89.15652501715795,
          89.1345701155977,
          89.1126275036191,
          89.09069717296926,
          89.06877911540124,
          89.04687332267402,
          89.0249797865525,
          89.00309849880753,
          88.98122945121585,
          88.95937263556014,
          88.93752804362897,
          88.91569566721682,
          88.89387549812409,
          88.87206752815706,
          88.8502717491279,
          88.82848815285469,
          88.80671673116136,
          88.78495747587775,
          88.76321037883956,
          88.74147543188838,
          88.71975262687164,
          88.69804195564265,
          88.67634341006057,
          88.65465698199041,
          88.63298266330304,
          88.61132044587517,
          88.58967032158934,
          88.56803228233396,
          88.54640632000323,
          88.5247924264972,
          88.50319059372174,
          88.48160081358853,
          88.46002307801507,
          88.43845737892468,
          88.41690370824648,
          88.39536205791538,
          88.3738324198721,
          88.35231478606315,
          88.33080914844082,
          88.3093154989632,
          88.28783382959415,
          88.2663641323033,
          88.24490639906605,
          88.2234606218636,
          88.20202679268286,
          88.18060490351654,
          88.15919494636309,
          88.13779691322671,
          88.11641079611734,
          88.09503658705066,
          88.0736742780481,
          88.05232386113683,
          88.03098532834971,
          88.00965867172536,
          87.9883438833081,
          87.96704095514798,
          87.94574987930075,
          87.92447064782787,
          87.90320325279652,
          87.88194768627955,
          87.86070394035552,
          87.83947200710868,
          87.81825187862896
         ]
        },
        {
         "mode": "lines",
         "name": "Layer 6",
         "type": "scatter",
         "x": [
          0,
          1,
          2,
          3,
          4,
          5,
          6,
          7,
          8,
          9,
          10,
          11,
          12,
          13,
          14,
          15,
          16,
          17,
          18,
          19,
          20,
          21,
          22,
          23,
          24,
          25,
          26,
          27,
          28,
          29,
          30,
          31,
          32,
          33,
          34,
          35,
          36,
          37,
          38,
          39,
          40,
          41,
          42,
          43,
          44,
          45,
          46,
          47,
          48,
          49,
          50,
          51,
          52,
          53,
          54,
          55,
          56,
          57,
          58,
          59,
          60,
          61,
          62,
          63,
          64,
          65,
          66,
          67,
          68,
          69,
          70,
          71,
          72,
          73,
          74,
          75,
          76,
          77,
          78,
          79,
          80,
          81,
          82,
          83,
          84,
          85,
          86,
          87,
          88,
          89,
          90,
          91,
          92,
          93,
          94,
          95,
          96,
          97,
          98,
          99,
          100
         ],
         "y": [
          30,
          30.005601262711835,
          30.011197558597594,
          30.016788891634885,
          30.0223752657981,
          30.027956685058427,
          30.03353315338384,
          30.039104674739107,
          30.0446712530858,
          30.050232892382287,
          30.055789596583743,
          30.061341369642143,
          30.066888215506275,
          30.072430138121735,
          30.077967141430936,
          30.0834992293731,
          30.089026405884272,
          30.09454867489732,
          30.100066040341936,
          30.105578506144628,
          30.111086076228744,
          30.11658875451446,
          30.122086544918783,
          30.12757945135556,
          30.133067477735484,
          30.138550627966072,
          30.1440289059517,
          30.149502315593583,
          30.15497086078979,
          30.160434545435237,
          30.165893373421703,
          30.171347348637816,
          30.176796474969066,
          30.182240756297805,
          30.18768019650325,
          30.19311479946149,
          30.198544569045474,
          30.203969509125027,
          30.209389623566853,
          30.214804916234527,
          30.22021539098851,
          30.225621051686144,
          30.231021902181652,
          30.23641794632615,
          30.24180918796764,
          30.247195630951015,
          30.25257727911807,
          30.257954136307493,
          30.26332620635487,
          30.26869349309269,
          30.274056000350356,
          30.27941373195417,
          30.28476669172734,
          30.290114883490002,
          30.295458311059193,
          30.300796978248872,
          30.306130888869923,
          30.311460046730144,
          30.316784455634266,
          30.322104119383944,
          30.32741904177776,
          30.332729226611235,
          30.338034677676823,
          30.343335398763912,
          30.348631393658838,
          30.35392266614487,
          30.35920922000223,
          30.364491059008085,
          30.369768186936547,
          30.375040607558688,
          30.38030832464253,
          30.385571341953057,
          30.39082966325221,
          30.39608329229889,
          30.401332232848972,
          30.406576488655286,
          30.41181606346764,
          30.417050961032814,
          30.42228118509456,
          30.427506739393603,
          30.43272762766766,
          30.43794385365142,
          30.443155421076558,
          30.44836233367174,
          30.453564595162614,
          30.45876220927183,
          30.46395517971902,
          30.469143510220825,
          30.47432720449088,
          30.47950626623982,
          30.484680699175286,
          30.489850507001922,
          30.495015693421387,
          30.500176262132346,
          30.50533221683048,
          30.510483561208492,
          30.515630298956093,
          30.520772433760023,
          30.52590996930404,
          30.531042909268926,
          30.5361712573325
         ]
        },
        {
         "mode": "lines",
         "name": "Layer 7",
         "type": "scatter",
         "x": [
          0,
          1,
          2,
          3,
          4,
          5,
          6,
          7,
          8,
          9,
          10,
          11,
          12,
          13,
          14,
          15,
          16,
          17,
          18,
          19,
          20,
          21,
          22,
          23,
          24,
          25,
          26,
          27,
          28,
          29,
          30,
          31,
          32,
          33,
          34,
          35,
          36,
          37,
          38,
          39,
          40,
          41,
          42,
          43,
          44,
          45,
          46,
          47,
          48,
          49,
          50,
          51,
          52,
          53,
          54,
          55,
          56,
          57,
          58,
          59,
          60,
          61,
          62,
          63,
          64,
          65,
          66,
          67,
          68,
          69,
          70,
          71,
          72,
          73,
          74,
          75,
          76,
          77,
          78,
          79,
          80,
          81,
          82,
          83,
          84,
          85,
          86,
          87,
          88,
          89,
          90,
          91,
          92,
          93,
          94,
          95,
          96,
          97,
          98,
          99,
          100
         ],
         "y": [
          0,
          0.00967449557659883,
          0.019345546762475477,
          0.02901315456405864,
          0.03867731998777469,
          0.04833804404004727,
          0.05799532772729683,
          0.06764917205594027,
          0.07729957803239046,
          0.08694654666305585,
          0.09659007895434003,
          0.10623017591264135,
          0.11586683854435244,
          0.12550006785585985,
          0.1351298648535436,
          0.14475623054377684,
          0.15437916593292525,
          0.1639986720273468,
          0.1736147498333913,
          0.18322740035739996,
          0.19283662460570491,
          0.20244242358462894,
          0.21204479830048492,
          0.22164374975957554,
          0.23123927896819282,
          0.24083138693261769,
          0.2504200746591196,
          0.26000534315395607,
          0.2695871934233724,
          0.2791656264736011,
          0.28874064331086163,
          0.2983122449413599,
          0.30788043237128787,
          0.3174452066068232,
          0.3270065686541287,
          0.3365645195193522,
          0.34611906020862576,
          0.35567019172806574,
          0.36521791508377194,
          0.37476223128182745,
          0.3843031413282982,
          0.39384064622923254,
          0.4033747469906609,
          0.4129054446185953,
          0.4224327401190289,
          0.4319566344979359,
          0.44147712876127077,
          0.450994223914968,
          0.4605079209649418,
          0.4700182209170856,
          0.4795251247772716,
          0.4890286335513505,
          0.4985287482451511,
          0.5080254698644797,
          0.5175187994151201,
          0.5270087379028328,
          0.5364952863333546,
          0.5459784457123987,
          0.5554582170456539,
          0.5649346013387841,
          0.5744075995974285,
          0.5838772128272004,
          0.5933434420336874,
          0.6028062882224509,
          0.6122657523990255,
          0.6217218355689188,
          0.6311745387376111,
          0.6406238629105546,
          0.6500698090931737,
          0.6595123782908638,
          0.6689515715089916,
          0.6783873897528944,
          0.6878198340278794,
          0.6972489053392242,
          0.7066746046921757,
          0.7160969330919497,
          0.7255158915437309,
          0.7349314810526723,
          0.7443437026238948,
          0.7537525572624871,
          0.763158045973505,
          0.7725601697619708,
          0.7819589296328737,
          0.7913543265911687,
          0.8007463616417765,
          0.8101350357895831,
          0.8195203500394397,
          0.8289023053961615,
          0.8382809028645284,
          0.8476561434492839,
          0.8570280281551348,
          0.8663965579867512,
          0.8757617339487657,
          0.8851235570457731,
          0.8944820282823304,
          0.9038371486629561,
          0.9131889191921297,
          0.9225373408742918,
          0.9318824147138433,
          0.941224141715145,
          0.9505625228825176
         ]
        },
        {
         "mode": "lines",
         "name": "Layer 8",
         "type": "scatter",
         "x": [
          0,
          1,
          2,
          3,
          4,
          5,
          6,
          7,
          8,
          9,
          10,
          11,
          12,
          13,
          14,
          15,
          16,
          17,
          18,
          19,
          20,
          21,
          22,
          23,
          24,
          25,
          26,
          27,
          28,
          29,
          30,
          31,
          32,
          33,
          34,
          35,
          36,
          37,
          38,
          39,
          40,
          41,
          42,
          43,
          44,
          45,
          46,
          47,
          48,
          49,
          50,
          51,
          52,
          53,
          54,
          55,
          56,
          57,
          58,
          59,
          60,
          61,
          62,
          63,
          64,
          65,
          66,
          67,
          68,
          69,
          70,
          71,
          72,
          73,
          74,
          75,
          76,
          77,
          78,
          79,
          80,
          81,
          82,
          83,
          84,
          85,
          86,
          87,
          88,
          89,
          90,
          91,
          92,
          93,
          94,
          95,
          96,
          97,
          98,
          99,
          100
         ],
         "y": [
          15,
          14.998193512501238,
          14.996389534953488,
          14.994588065564377,
          14.992789102542616,
          14.990992644097998,
          14.989198688441396,
          14.987407233784763,
          14.985618278341134,
          14.98383182032462,
          14.982047857950413,
          14.980266389434782,
          14.978487412995076,
          14.976710926849718,
          14.97493692921821,
          14.973165418321127,
          14.971396392380123,
          14.969629849617924,
          14.96786578825833,
          14.966104206526216,
          14.964345102647531,
          14.962588474849294,
          14.960834321359599,
          14.959082640407606,
          14.957333430223553,
          14.955586689038743,
          14.95384241508555,
          14.952100606597417,
          14.950361261808858,
          14.948624378955452,
          14.946889956273846,
          14.945157992001754,
          14.943428484377957,
          14.9417014316423,
          14.939976832035697,
          14.938254683800121,
          14.936534985178614,
          14.93481773441528,
          14.933102929755284,
          14.931390569444856,
          14.929680651731287,
          14.927973174862927,
          14.926268137089192,
          14.924565536660552,
          14.92286537182854,
          14.921167640845747,
          14.919472341965824,
          14.917779473443478,
          14.916089033534474,
          14.914401020495633,
          14.912715432584834,
          14.91103226806101,
          14.909351525184151,
          14.9076732022153,
          14.905997297416553,
          14.90432380905106,
          14.902652735383027,
          14.900984074677709,
          14.899317825201413,
          14.897653985221497,
          14.895992553006373,
          14.894333526825498,
          14.892676904949383,
          14.891022685649585,
          14.88937086719871,
          14.887721447870414,
          14.886074425939396,
          14.884429799681406,
          14.882787567373239,
          14.881147727292733,
          14.879510277718776,
          14.877875216931296,
          14.876242543211267,
          14.874612254840708,
          14.872984350102676,
          14.871358827281275,
          14.869735684661649,
          14.868114920529983,
          14.866496533173503,
          14.864880520880478,
          14.86326688194021,
          14.861655614643045,
          14.860046717280365,
          14.858440188144595,
          14.856836025529189,
          14.855234227728644,
          14.853634793038493,
          14.852037719755302,
          14.850443006176672,
          14.848850650601241,
          14.84726065132868,
          14.845673006659695,
          14.844087714896022,
          14.84250477434043,
          14.840924183296723,
          14.839345940069732,
          14.837770042965323,
          14.836196490290387,
          14.834625280352851,
          14.833056411461666,
          14.831489881926814
         ]
        },
        {
         "mode": "lines",
         "name": "Layer 9",
         "type": "scatter",
         "x": [
          0,
          1,
          2,
          3,
          4,
          5,
          6,
          7,
          8,
          9,
          10,
          11,
          12,
          13,
          14,
          15,
          16,
          17,
          18,
          19,
          20,
          21,
          22,
          23,
          24,
          25,
          26,
          27,
          28,
          29,
          30,
          31,
          32,
          33,
          34,
          35,
          36,
          37,
          38,
          39,
          40,
          41,
          42,
          43,
          44,
          45,
          46,
          47,
          48,
          49,
          50,
          51,
          52,
          53,
          54,
          55,
          56,
          57,
          58,
          59,
          60,
          61,
          62,
          63,
          64,
          65,
          66,
          67,
          68,
          69,
          70,
          71,
          72,
          73,
          74,
          75,
          76,
          77,
          78,
          79,
          80,
          81,
          82,
          83,
          84,
          85,
          86,
          87,
          88,
          89,
          90,
          91,
          92,
          93,
          94,
          95,
          96,
          97,
          98,
          99,
          100
         ],
         "y": [
          20,
          19.999005856142844,
          19.99801162092721,
          19.997017294876755,
          19.99602287851465,
          19.995028372363564,
          19.994033776945663,
          19.993039092782627,
          19.99204432039563,
          19.991049460305362,
          19.990054513032003,
          19.98905947909525,
          19.9880643590143,
          19.987069153307853,
          19.986073862494127,
          19.98507848709083,
          19.984083027615192,
          19.983087484583937,
          19.982091858513304,
          19.98109614991904,
          19.980100359316395,
          19.979104487220134,
          19.978108534144525,
          19.977112500603347,
          19.976116387109894,
          19.97512019417696,
          19.974123922316856,
          19.973127572041403,
          19.97213114386193,
          19.97113463828928,
          19.9701380558338,
          19.969141397005362,
          19.968144662313343,
          19.96714785226663,
          19.966150967373633,
          19.96515400814226,
          19.964156975079945,
          19.96315986869363,
          19.962162689489777,
          19.961165437974355,
          19.960168114652852,
          19.959170720030272,
          19.958173254611136,
          19.957175718899475,
          19.956178113398842,
          19.955180438612306,
          19.95418269504245,
          19.95318488319138,
          19.95218700356071,
          19.951189056651582,
          19.95019104296465,
          19.949192963000094,
          19.948194817257605,
          19.947196606236396,
          19.9461983304352,
          19.945199990352275,
          19.94420158648539,
          19.943203119331844,
          19.94220458938845,
          19.941205997151545,
          19.940207343116988,
          19.93920862778016,
          19.938209851635968,
          19.937211015178836,
          19.936212118902716,
          19.93521316330108,
          19.93421414886692,
          19.933215076092765,
          19.932215945470656,
          19.931216757492166,
          19.930217512648387,
          19.929218211429944,
          19.928218854326982,
          19.927219441829173,
          19.926219974425717,
          19.92522045260534,
          19.9242208768563,
          19.923221247666373,
          19.922221565522868,
          19.92122183091262,
          19.920222044322003,
          19.919222206236903,
          19.918222317142746,
          19.91722237752449,
          19.91622238786661,
          19.915222348653124,
          19.914222260367573,
          19.913222123493032,
          19.912221938512108,
          19.911221705906936,
          19.910221426159186,
          19.90922109975006,
          19.90822072716029,
          19.907220308870144,
          19.90621984535942,
          19.905219337107454,
          19.90421878459311,
          19.903218188294787,
          19.902217548690423,
          19.90121686625749,
          19.900216141472992
         ]
        }
       ],
       "layout": {
        "template": {
         "data": {
          "bar": [
           {
            "error_x": {
             "color": "#2a3f5f"
            },
            "error_y": {
             "color": "#2a3f5f"
            },
            "marker": {
             "line": {
              "color": "#E5ECF6",
              "width": 0.5
             },
             "pattern": {
              "fillmode": "overlay",
              "size": 10,
              "solidity": 0.2
             }
            },
            "type": "bar"
           }
          ],
          "barpolar": [
           {
            "marker": {
             "line": {
              "color": "#E5ECF6",
              "width": 0.5
             },
             "pattern": {
              "fillmode": "overlay",
              "size": 10,
              "solidity": 0.2
             }
            },
            "type": "barpolar"
           }
          ],
          "carpet": [
           {
            "aaxis": {
             "endlinecolor": "#2a3f5f",
             "gridcolor": "white",
             "linecolor": "white",
             "minorgridcolor": "white",
             "startlinecolor": "#2a3f5f"
            },
            "baxis": {
             "endlinecolor": "#2a3f5f",
             "gridcolor": "white",
             "linecolor": "white",
             "minorgridcolor": "white",
             "startlinecolor": "#2a3f5f"
            },
            "type": "carpet"
           }
          ],
          "choropleth": [
           {
            "colorbar": {
             "outlinewidth": 0,
             "ticks": ""
            },
            "type": "choropleth"
           }
          ],
          "contour": [
           {
            "colorbar": {
             "outlinewidth": 0,
             "ticks": ""
            },
            "colorscale": [
             [
              0,
              "#0d0887"
             ],
             [
              0.1111111111111111,
              "#46039f"
             ],
             [
              0.2222222222222222,
              "#7201a8"
             ],
             [
              0.3333333333333333,
              "#9c179e"
             ],
             [
              0.4444444444444444,
              "#bd3786"
             ],
             [
              0.5555555555555556,
              "#d8576b"
             ],
             [
              0.6666666666666666,
              "#ed7953"
             ],
             [
              0.7777777777777778,
              "#fb9f3a"
             ],
             [
              0.8888888888888888,
              "#fdca26"
             ],
             [
              1,
              "#f0f921"
             ]
            ],
            "type": "contour"
           }
          ],
          "contourcarpet": [
           {
            "colorbar": {
             "outlinewidth": 0,
             "ticks": ""
            },
            "type": "contourcarpet"
           }
          ],
          "heatmap": [
           {
            "colorbar": {
             "outlinewidth": 0,
             "ticks": ""
            },
            "colorscale": [
             [
              0,
              "#0d0887"
             ],
             [
              0.1111111111111111,
              "#46039f"
             ],
             [
              0.2222222222222222,
              "#7201a8"
             ],
             [
              0.3333333333333333,
              "#9c179e"
             ],
             [
              0.4444444444444444,
              "#bd3786"
             ],
             [
              0.5555555555555556,
              "#d8576b"
             ],
             [
              0.6666666666666666,
              "#ed7953"
             ],
             [
              0.7777777777777778,
              "#fb9f3a"
             ],
             [
              0.8888888888888888,
              "#fdca26"
             ],
             [
              1,
              "#f0f921"
             ]
            ],
            "type": "heatmap"
           }
          ],
          "heatmapgl": [
           {
            "colorbar": {
             "outlinewidth": 0,
             "ticks": ""
            },
            "colorscale": [
             [
              0,
              "#0d0887"
             ],
             [
              0.1111111111111111,
              "#46039f"
             ],
             [
              0.2222222222222222,
              "#7201a8"
             ],
             [
              0.3333333333333333,
              "#9c179e"
             ],
             [
              0.4444444444444444,
              "#bd3786"
             ],
             [
              0.5555555555555556,
              "#d8576b"
             ],
             [
              0.6666666666666666,
              "#ed7953"
             ],
             [
              0.7777777777777778,
              "#fb9f3a"
             ],
             [
              0.8888888888888888,
              "#fdca26"
             ],
             [
              1,
              "#f0f921"
             ]
            ],
            "type": "heatmapgl"
           }
          ],
          "histogram": [
           {
            "marker": {
             "pattern": {
              "fillmode": "overlay",
              "size": 10,
              "solidity": 0.2
             }
            },
            "type": "histogram"
           }
          ],
          "histogram2d": [
           {
            "colorbar": {
             "outlinewidth": 0,
             "ticks": ""
            },
            "colorscale": [
             [
              0,
              "#0d0887"
             ],
             [
              0.1111111111111111,
              "#46039f"
             ],
             [
              0.2222222222222222,
              "#7201a8"
             ],
             [
              0.3333333333333333,
              "#9c179e"
             ],
             [
              0.4444444444444444,
              "#bd3786"
             ],
             [
              0.5555555555555556,
              "#d8576b"
             ],
             [
              0.6666666666666666,
              "#ed7953"
             ],
             [
              0.7777777777777778,
              "#fb9f3a"
             ],
             [
              0.8888888888888888,
              "#fdca26"
             ],
             [
              1,
              "#f0f921"
             ]
            ],
            "type": "histogram2d"
           }
          ],
          "histogram2dcontour": [
           {
            "colorbar": {
             "outlinewidth": 0,
             "ticks": ""
            },
            "colorscale": [
             [
              0,
              "#0d0887"
             ],
             [
              0.1111111111111111,
              "#46039f"
             ],
             [
              0.2222222222222222,
              "#7201a8"
             ],
             [
              0.3333333333333333,
              "#9c179e"
             ],
             [
              0.4444444444444444,
              "#bd3786"
             ],
             [
              0.5555555555555556,
              "#d8576b"
             ],
             [
              0.6666666666666666,
              "#ed7953"
             ],
             [
              0.7777777777777778,
              "#fb9f3a"
             ],
             [
              0.8888888888888888,
              "#fdca26"
             ],
             [
              1,
              "#f0f921"
             ]
            ],
            "type": "histogram2dcontour"
           }
          ],
          "mesh3d": [
           {
            "colorbar": {
             "outlinewidth": 0,
             "ticks": ""
            },
            "type": "mesh3d"
           }
          ],
          "parcoords": [
           {
            "line": {
             "colorbar": {
              "outlinewidth": 0,
              "ticks": ""
             }
            },
            "type": "parcoords"
           }
          ],
          "pie": [
           {
            "automargin": true,
            "type": "pie"
           }
          ],
          "scatter": [
           {
            "fillpattern": {
             "fillmode": "overlay",
             "size": 10,
             "solidity": 0.2
            },
            "type": "scatter"
           }
          ],
          "scatter3d": [
           {
            "line": {
             "colorbar": {
              "outlinewidth": 0,
              "ticks": ""
             }
            },
            "marker": {
             "colorbar": {
              "outlinewidth": 0,
              "ticks": ""
             }
            },
            "type": "scatter3d"
           }
          ],
          "scattercarpet": [
           {
            "marker": {
             "colorbar": {
              "outlinewidth": 0,
              "ticks": ""
             }
            },
            "type": "scattercarpet"
           }
          ],
          "scattergeo": [
           {
            "marker": {
             "colorbar": {
              "outlinewidth": 0,
              "ticks": ""
             }
            },
            "type": "scattergeo"
           }
          ],
          "scattergl": [
           {
            "marker": {
             "colorbar": {
              "outlinewidth": 0,
              "ticks": ""
             }
            },
            "type": "scattergl"
           }
          ],
          "scattermapbox": [
           {
            "marker": {
             "colorbar": {
              "outlinewidth": 0,
              "ticks": ""
             }
            },
            "type": "scattermapbox"
           }
          ],
          "scatterpolar": [
           {
            "marker": {
             "colorbar": {
              "outlinewidth": 0,
              "ticks": ""
             }
            },
            "type": "scatterpolar"
           }
          ],
          "scatterpolargl": [
           {
            "marker": {
             "colorbar": {
              "outlinewidth": 0,
              "ticks": ""
             }
            },
            "type": "scatterpolargl"
           }
          ],
          "scatterternary": [
           {
            "marker": {
             "colorbar": {
              "outlinewidth": 0,
              "ticks": ""
             }
            },
            "type": "scatterternary"
           }
          ],
          "surface": [
           {
            "colorbar": {
             "outlinewidth": 0,
             "ticks": ""
            },
            "colorscale": [
             [
              0,
              "#0d0887"
             ],
             [
              0.1111111111111111,
              "#46039f"
             ],
             [
              0.2222222222222222,
              "#7201a8"
             ],
             [
              0.3333333333333333,
              "#9c179e"
             ],
             [
              0.4444444444444444,
              "#bd3786"
             ],
             [
              0.5555555555555556,
              "#d8576b"
             ],
             [
              0.6666666666666666,
              "#ed7953"
             ],
             [
              0.7777777777777778,
              "#fb9f3a"
             ],
             [
              0.8888888888888888,
              "#fdca26"
             ],
             [
              1,
              "#f0f921"
             ]
            ],
            "type": "surface"
           }
          ],
          "table": [
           {
            "cells": {
             "fill": {
              "color": "#EBF0F8"
             },
             "line": {
              "color": "white"
             }
            },
            "header": {
             "fill": {
              "color": "#C8D4E3"
             },
             "line": {
              "color": "white"
             }
            },
            "type": "table"
           }
          ]
         },
         "layout": {
          "annotationdefaults": {
           "arrowcolor": "#2a3f5f",
           "arrowhead": 0,
           "arrowwidth": 1
          },
          "autotypenumbers": "strict",
          "coloraxis": {
           "colorbar": {
            "outlinewidth": 0,
            "ticks": ""
           }
          },
          "colorscale": {
           "diverging": [
            [
             0,
             "#8e0152"
            ],
            [
             0.1,
             "#c51b7d"
            ],
            [
             0.2,
             "#de77ae"
            ],
            [
             0.3,
             "#f1b6da"
            ],
            [
             0.4,
             "#fde0ef"
            ],
            [
             0.5,
             "#f7f7f7"
            ],
            [
             0.6,
             "#e6f5d0"
            ],
            [
             0.7,
             "#b8e186"
            ],
            [
             0.8,
             "#7fbc41"
            ],
            [
             0.9,
             "#4d9221"
            ],
            [
             1,
             "#276419"
            ]
           ],
           "sequential": [
            [
             0,
             "#0d0887"
            ],
            [
             0.1111111111111111,
             "#46039f"
            ],
            [
             0.2222222222222222,
             "#7201a8"
            ],
            [
             0.3333333333333333,
             "#9c179e"
            ],
            [
             0.4444444444444444,
             "#bd3786"
            ],
            [
             0.5555555555555556,
             "#d8576b"
            ],
            [
             0.6666666666666666,
             "#ed7953"
            ],
            [
             0.7777777777777778,
             "#fb9f3a"
            ],
            [
             0.8888888888888888,
             "#fdca26"
            ],
            [
             1,
             "#f0f921"
            ]
           ],
           "sequentialminus": [
            [
             0,
             "#0d0887"
            ],
            [
             0.1111111111111111,
             "#46039f"
            ],
            [
             0.2222222222222222,
             "#7201a8"
            ],
            [
             0.3333333333333333,
             "#9c179e"
            ],
            [
             0.4444444444444444,
             "#bd3786"
            ],
            [
             0.5555555555555556,
             "#d8576b"
            ],
            [
             0.6666666666666666,
             "#ed7953"
            ],
            [
             0.7777777777777778,
             "#fb9f3a"
            ],
            [
             0.8888888888888888,
             "#fdca26"
            ],
            [
             1,
             "#f0f921"
            ]
           ]
          },
          "colorway": [
           "#636efa",
           "#EF553B",
           "#00cc96",
           "#ab63fa",
           "#FFA15A",
           "#19d3f3",
           "#FF6692",
           "#B6E880",
           "#FF97FF",
           "#FECB52"
          ],
          "font": {
           "color": "#2a3f5f"
          },
          "geo": {
           "bgcolor": "white",
           "lakecolor": "white",
           "landcolor": "#E5ECF6",
           "showlakes": true,
           "showland": true,
           "subunitcolor": "white"
          },
          "hoverlabel": {
           "align": "left"
          },
          "hovermode": "closest",
          "mapbox": {
           "style": "light"
          },
          "paper_bgcolor": "white",
          "plot_bgcolor": "#E5ECF6",
          "polar": {
           "angularaxis": {
            "gridcolor": "white",
            "linecolor": "white",
            "ticks": ""
           },
           "bgcolor": "#E5ECF6",
           "radialaxis": {
            "gridcolor": "white",
            "linecolor": "white",
            "ticks": ""
           }
          },
          "scene": {
           "xaxis": {
            "backgroundcolor": "#E5ECF6",
            "gridcolor": "white",
            "gridwidth": 2,
            "linecolor": "white",
            "showbackground": true,
            "ticks": "",
            "zerolinecolor": "white"
           },
           "yaxis": {
            "backgroundcolor": "#E5ECF6",
            "gridcolor": "white",
            "gridwidth": 2,
            "linecolor": "white",
            "showbackground": true,
            "ticks": "",
            "zerolinecolor": "white"
           },
           "zaxis": {
            "backgroundcolor": "#E5ECF6",
            "gridcolor": "white",
            "gridwidth": 2,
            "linecolor": "white",
            "showbackground": true,
            "ticks": "",
            "zerolinecolor": "white"
           }
          },
          "shapedefaults": {
           "line": {
            "color": "#2a3f5f"
           }
          },
          "ternary": {
           "aaxis": {
            "gridcolor": "white",
            "linecolor": "white",
            "ticks": ""
           },
           "baxis": {
            "gridcolor": "white",
            "linecolor": "white",
            "ticks": ""
           },
           "bgcolor": "#E5ECF6",
           "caxis": {
            "gridcolor": "white",
            "linecolor": "white",
            "ticks": ""
           }
          },
          "title": {
           "x": 0.05
          },
          "xaxis": {
           "automargin": true,
           "gridcolor": "white",
           "linecolor": "white",
           "ticks": "",
           "title": {
            "standoff": 15
           },
           "zerolinecolor": "white",
           "zerolinewidth": 2
          },
          "yaxis": {
           "automargin": true,
           "gridcolor": "white",
           "linecolor": "white",
           "ticks": "",
           "title": {
            "standoff": 15
           },
           "zerolinecolor": "white",
           "zerolinewidth": 2
          }
         }
        },
        "title": {
         "text": "Temperature of Each Layer Over Time"
        },
        "xaxis": {
         "title": {
          "text": "Time Step"
         }
        },
        "yaxis": {
         "title": {
          "text": "Temperature"
         }
        }
       }
      }
     },
     "metadata": {},
     "output_type": "display_data"
    },
    {
     "data": {
      "text/plain": [
       "'\\ntank_vector0 = HeatDistributionVector_model0(alpha, z, T_zero, dt)\\nstability = tank_vector0.stability_check()\\n\\nif (stability == 0):\\n    # Solve for the temperatures\\n    final_temperature, results = tank_vector0.vector_solve(num_steps)\\n    # Plot the results\\n    plot_results_height(results, tank_vector0.heights)\\n    plot_results_time(results, tank_vector0.heights, tank_vector.z)\\n\\n'"
      ]
     },
     "execution_count": 2,
     "metadata": {},
     "output_type": "execute_result"
    }
   ],
   "source": [
    "import numpy as np\n",
    "import matplotlib.pyplot as plt\n",
    "import plotly.graph_objects as go\n",
    "import plotly.express as px\n",
    "\n",
    "############### Definitons for the model\n",
    "class HeatDistributionVector_model1:\n",
    "    def __init__(self, alpha, beta_i, beta_bottom, beta_top, z, T_a, T_initial, dt):\n",
    "        self.alpha = alpha                           # heat diffusivity\n",
    "        self.beta_i = beta_i                         # heat loss coefficient to the ambient in the inner layers\n",
    "        self.beta_bottom = beta_bottom               # heat loss coefficient to the ambient at the bottom layer (i=0)\n",
    "        self.beta_top = beta_top                     # heat loss coefficient to the ambient at the top layer (i=-1)\n",
    "        \n",
    "        self.z = z                                   # height of the tank\n",
    "        self.num_layers = len(T_initial)             # number of layers (steps in space)\n",
    "        self.dt = dt                                 # step size in time (time step)\n",
    "\n",
    "        self.T_initial = np.array(T_initial)         # initial state of the temperatures along the tank [list] !!! Same lenght as num_layers\n",
    "        self.T_a = T_a                                  # ambient temperature outside of the tank\n",
    "\n",
    "        \n",
    "        self.dz = z / self.num_layers                # step size in space (delta z, height of a layer) is total height/number of layers, num_layers = how big the initial temperature vector is\n",
    "        # Create a \n",
    "        self.heights = [i * self.dz + self.dz/2 for i in range(len(T_initial))]     # list representing the height of the tank for plotting the temperatures in the middle of each layer\n",
    "  \n",
    "\n",
    "\n",
    " # definition of the solver for the temperature vector in the next time step       \n",
    "    def vector_solve(self, num_steps):\n",
    "        T_old = np.copy(self.T_initial)\n",
    "        results = [T_old.copy()]                    # Store initial temperature array\n",
    "\n",
    "        for _ in range(num_steps):\n",
    "\n",
    "            T_new = np.copy(T_old)\n",
    "\n",
    "            T_old_next = np.roll(T_old, -1)         # roll every i by -1 so that the \"next\" i is selected\n",
    "            T_old_prev = np.roll(T_old, 1)          # roll every i by 1 so that the \"previous\" i is selected\n",
    "            \n",
    "            # Apply heat transfer equation for model 0\n",
    "            T_new = (T_old\n",
    "                      + (((self.alpha) * (T_old_next - (2*T_old) + T_old_prev) / (self.dz**2))\n",
    "                      + (self.beta_i * (self.T_a - T_old))\n",
    "                      )* self.dt)\n",
    "            \n",
    "            # Boundary conditions\n",
    "            T_new[0] = (T_old[0]\n",
    "                         + (((self.alpha) * (T_old[1] - (2*T_old[0]) + T_old[0]) / (self.dz**2))\n",
    "                         + ((self.beta_i + self.beta_bottom) * (self.T_a - T_old[0]))  \n",
    "                         )* self.dt)        # heat loss through sides of the tank (beta_i) and through the floor (beta_bottom)\n",
    "            T_new[-1] = (T_old[-1]\n",
    "                          + (((self.alpha) * (T_old[-1] - (2*T_old[-1]) + T_old[-2]) / (self.dz**2))\n",
    "                          + ((self.beta_i + self.beta_top)* (self.T_a - T_old[-1])) \n",
    "                          )* self.dt)       # heat loss through sides of the tank (beta_i) and through ceiling (beta_top)\n",
    "\n",
    "            T_old = np.copy(T_new) # return the new temperature as old temperature for the next iteration\n",
    "\n",
    "            results.append(T_old.copy())            # Store the updated temperature array fo later plot\n",
    "\n",
    "        return T_old, results\n",
    "    \n",
    " # check the stability of the model with the selected dt\n",
    "    def stability_check(self):\n",
    "        # check if the time step dt is small enough with CFL condition: dt <= (dz^2) / (2 * alpha)\n",
    "        cfl_dt_max = (self.dz ** 2) / (2 * self.alpha)\n",
    "        if self.dt > cfl_dt_max:\n",
    "            print(f\"Warning: Time step size dt {self.dt} exceeds CFL stability limit ({cfl_dt_max}).\")\n",
    "            sc = 1\n",
    "        else:\n",
    "            sc = 0\n",
    "        return sc\n",
    "    \n",
    "\n",
    "# Plot the layer temperatures over the height for different times\n",
    "def plot_results_height(results, heights):\n",
    "    # Create traces for each time step\n",
    "    traces = []\n",
    "    for i, temp_array in enumerate(results):            # results in [time x layers] -> enumerate gives all values of one row for one index (column) -> all layers (row) at one time\n",
    "        time_passed = dt * i                            # Calculate the time passed\n",
    "        trace = go.Scatter(\n",
    "            x=heights,                                      # X axis is the height of each layer\n",
    "            y=temp_array,                               # Y axis is the temperatures in each layer\n",
    "            mode='lines',\n",
    "            name=f'Time Passed: {time_passed} seconds'   # Use calculated time in legend\n",
    "        )\n",
    "        traces.append(trace)\n",
    "\n",
    "    # Create the plot layout\n",
    "    layout = go.Layout(\n",
    "        title='Temperature Distribution Over Tank Height and Over Time',\n",
    "        xaxis=dict(title='Height', range=[0, z]),\n",
    "        yaxis=dict(title='Temperature'),\n",
    "    )\n",
    "\n",
    "    # Create the figure and plot it\n",
    "    fig = go.Figure(data=traces, layout=layout)\n",
    "    fig.show()\n",
    "\n",
    "# Plot the layer temperatures over time\n",
    "def plot_results_time(results, heights, z):\n",
    "    # Create traces for each layer\n",
    "    traces = []\n",
    "    for i, temp_array in enumerate(np.array(results).T):  # Transpose the results array to iterate over layers -> [layers x time] -> row is the temperature over time of one sensor\n",
    "        time_passed = dt * i                            # Calculate the time passed\n",
    "        trace = go.Scatter(\n",
    "            x=np.arange(len(temp_array)),                 # X axis is the timeline (Time steps)\n",
    "            y=temp_array,                                 # Y axis is the temperature of all layers in each time step    \n",
    "            mode='lines',\n",
    "            name=f'Layer {i}'                               # Layer number\n",
    "        )\n",
    "        traces.append(trace)\n",
    "\n",
    "    # Create the plot layout\n",
    "    layout = go.Layout(\n",
    "        title='Temperature of Each Layer Over Time',\n",
    "        xaxis=dict(title='Time Step'),\n",
    "        yaxis=dict(title='Temperature'),\n",
    "    )\n",
    "\n",
    "    # Create the figure and plot it\n",
    "    fig = go.Figure(data=traces, layout=layout)\n",
    "    fig.show()\n",
    "\n",
    "############### \n",
    "            \n",
    "# initial temperature in the tank for each layer\n",
    "# lenght of the selected T_zero defines the number of layers    \n",
    "T_1 = np.array([10, 10, 10, 10, 10, 90, 90, 90, 90, 90]) \n",
    "T_2 = np.array([10, 20, 30, 60, 50, 90, 30, 0, 15, 20])\n",
    "T_3 = [100, 80, 50, 60, 20, 50, 10, 20, 50, 80]\n",
    "T_4 = np.array([100, 90, 80 ,70, 60, 50, 40, 30, 20, 10])\n",
    "T_5 = [100, 10, 80 ,200, 60, 70, -10, 30, -10, 10]\n",
    "T_6 = np.array([100, 100, 100, 100, 100, 100, 100, 100, 100, 100]) \n",
    "T_7 = np.array([65, 65, 65, 65, 65, 65, 65, 65, 65, 65]) # standard initial temperature\n",
    "\n",
    "T_a = 20                            # ambient temperature\n",
    "\n",
    "# tank description\n",
    "T_zero = T_2                        # initial temperature vector\n",
    "z = 2.099                               # height of the tank [m]\n",
    "dz = z / len(T_zero)                # height of the section (layer)\n",
    "d = 0.79                             # diameter of the cross section [m]\n",
    "P_i = np.pi * d                     # cross-sectional perimeter [m]\n",
    "A_i = np.pi * (d/2)**2              # cross-sectional area [m²]\n",
    "\n",
    "# material properties\n",
    "alpha = 0.000000146                 # heat diffusivity of the fluid [m²/s]\n",
    "rho = 998                           # density of the fluid [kg/m³]\n",
    "cp =  4186                          # heat capacity of the fluid [J/kgK]\n",
    "k_i = 0.5                           # thermal condunctance of the wall [W/m²K]\n",
    "\n",
    "\n",
    "dt = 60                             # length of the time steps [s]\n",
    "num_steps = 100                    # number of time steps to be made\n",
    "\n",
    "\n",
    "# Beta calculations\n",
    "beta_i = (P_i*k_i)/(rho * cp * A_i) # coefficient of heat losses through the wall of the tank [1/s]\n",
    "beta_top = (k_i/(rho * cp * dz))    # coefficient of heat losses through the ceiling of the tank [1/s]\n",
    "beta_bottom = (k_i/(rho * cp * dz)) # coefficient of heat losses through the ground of the tank [1/s]\n",
    "\n",
    "print(\"beta_i\", beta_i)\n",
    "print(\"beta_top\", beta_top)\n",
    "print(\"beta_bottom\", beta_bottom)\n",
    "\n",
    "qloss = 138.75\n",
    "Uwert = (qloss)/((P_i*z + 2*A_i)*(65-20))\n",
    "Uwert2 = (qloss)/((P_i*z + A_i)*(65-20))\n",
    "print(\"U-wert\", Uwert)\n",
    "print(\"U-wert2\", Uwert2)\n",
    "print(\"defined k_i\", k_i)\n",
    "\n",
    "tank_vector = HeatDistributionVector_model1(alpha, beta_i, beta_bottom, beta_top, z, T_a, T_zero, dt)\n",
    "stability = tank_vector.stability_check()\n",
    "\n",
    "if (stability == 0):\n",
    "    # Solve for the temperatures\n",
    "    final_temperature, results = tank_vector.vector_solve(num_steps)\n",
    "    # Plot the results\n",
    "    plot_results_height(results, tank_vector.heights)\n",
    "    plot_results_time(results, tank_vector.heights, tank_vector.z)\n",
    "\n",
    "\n",
    "\"\"\"\n",
    "tank_vector0 = HeatDistributionVector_model0(alpha, z, T_zero, dt)\n",
    "stability = tank_vector0.stability_check()\n",
    "\n",
    "if (stability == 0):\n",
    "    # Solve for the temperatures\n",
    "    final_temperature, results = tank_vector0.vector_solve(num_steps)\n",
    "    # Plot the results\n",
    "    plot_results_height(results, tank_vector0.heights)\n",
    "    plot_results_time(results, tank_vector0.heights, tank_vector.z)\n",
    "\n",
    "\"\"\"\n",
    "\n"
   ]
  },
  {
   "cell_type": "markdown",
   "metadata": {},
   "source": [
    "# Model 2: (in)direct heat exchange"
   ]
  },
  {
   "cell_type": "code",
   "execution_count": 6,
   "metadata": {},
   "outputs": [
    {
     "name": "stdout",
     "output_type": "stream",
     "text": [
      "beta_i 6.060007184986919e-07\n",
      "beta_top 5.702007713363108e-07\n",
      "beta_bottom 5.702007713363108e-07\n",
      "U-wert 0.49813500878057776\n",
      "U-wert2 0.5409748364462272\n",
      "defined k_i 0.5\n"
     ]
    },
    {
     "data": {
      "application/vnd.plotly.v1+json": {
       "config": {
        "plotlyServerURL": "https://plot.ly"
       },
       "data": [
        {
         "mode": "lines",
         "name": "Time Passed: 0 seconds",
         "type": "scatter",
         "x": [
          0.10495000000000002,
          0.3148500000000001,
          0.52475,
          0.7346500000000001,
          0.9445500000000001,
          1.1544500000000002,
          1.3643500000000004,
          1.5742500000000004,
          1.7841500000000003,
          1.9940500000000003
         ],
         "y": [
          40,
          40,
          40,
          40,
          40,
          40,
          40,
          40,
          40,
          40
         ]
        },
        {
         "mode": "lines",
         "name": "Time Passed: 60 seconds",
         "type": "scatter",
         "x": [
          0.10495000000000002,
          0.3148500000000001,
          0.52475,
          0.7346500000000001,
          0.9445500000000001,
          1.1544500000000002,
          1.3643500000000004,
          1.5742500000000004,
          1.7841500000000003,
          1.9940500000000003
         ],
         "y": [
          39.9985885582122,
          39.9992727991378,
          39.9992727991378,
          39.9992727991378,
          39.9992727991378,
          39.9992727991378,
          39.9992727991378,
          39.9992727991378,
          39.9992727991378,
          39.9985885582122
         ]
        },
        {
         "mode": "lines",
         "name": "Time Passed: 120 seconds",
         "type": "scatter",
         "x": [
          0.10495000000000002,
          0.3148500000000001,
          0.52475,
          0.7346500000000001,
          0.9445500000000001,
          1.1544500000000002,
          1.3643500000000004,
          1.5742500000000004,
          1.7841500000000003,
          1.9940500000000003
         ],
         "y": [
          39.997177352079575,
          39.998545488669876,
          39.998545624716655,
          39.998545624716655,
          39.998545624716655,
          39.998545624716655,
          39.998545624716655,
          39.998545624716655,
          39.998545488669876,
          39.997177352079575
         ]
        },
        {
         "mode": "lines",
         "name": "Time Passed: 180 seconds",
         "type": "scatter",
         "x": [
          0.10495000000000002,
          0.3148500000000001,
          0.52475,
          0.7346500000000001,
          0.9445500000000001,
          1.1544500000000002,
          1.3643500000000004,
          1.5742500000000004,
          1.7841500000000003,
          1.9940500000000003
         ],
         "y": [
          39.99576638151685,
          39.997818068695906,
          39.99781847670855,
          39.9978184767356,
          39.9978184767356,
          39.9978184767356,
          39.9978184767356,
          39.99781847670855,
          39.997818068695906,
          39.99576638151685
         ]
        },
        {
         "mode": "lines",
         "name": "Time Passed: 240 seconds",
         "type": "scatter",
         "x": [
          0.10495000000000002,
          0.3148500000000001,
          0.52475,
          0.7346500000000001,
          0.9445500000000001,
          1.1544500000000002,
          1.3643500000000004,
          1.5742500000000004,
          1.7841500000000003,
          1.9940500000000003
         ],
         "y": [
          39.99435564643879,
          39.99709053931551,
          39.997091355085516,
          39.99709135519368,
          39.99709135519368,
          39.99709135519368,
          39.99709135519368,
          39.997091355085516,
          39.99709053931551,
          39.99435564643879
         ]
        },
        {
         "mode": "lines",
         "name": "Time Passed: 300 seconds",
         "type": "scatter",
         "x": [
          0.10495000000000002,
          0.3148500000000001,
          0.52475,
          0.7346500000000001,
          0.9445500000000001,
          1.1544500000000002,
          1.3643500000000004,
          1.5742500000000004,
          1.7841500000000003,
          1.9940500000000003
         ],
         "y": [
          39.992945146760206,
          39.996362900628235,
          39.99636425981959,
          39.99636426008991,
          39.99636426008993,
          39.99636426008993,
          39.99636426008991,
          39.99636425981959,
          39.996362900628235,
          39.992945146760206
         ]
        },
        {
         "mode": "lines",
         "name": "Time Passed: 360 seconds",
         "type": "scatter",
         "x": [
          0.10495000000000002,
          0.3148500000000001,
          0.52475,
          0.7346500000000001,
          0.9445500000000001,
          1.1544500000000002,
          1.3643500000000004,
          1.5742500000000004,
          1.7841500000000003,
          1.9940500000000003
         ],
         "y": [
          39.99153488239594,
          39.99563515273357,
          39.995637190882874,
          39.99563719142332,
          39.9956371914234,
          39.9956371914234,
          39.99563719142332,
          39.995637190882874,
          39.99563515273357,
          39.99153488239594
         ]
        },
        {
         "mode": "lines",
         "name": "Time Passed: 420 seconds",
         "type": "scatter",
         "x": [
          0.10495000000000002,
          0.3148500000000001,
          0.52475,
          0.7346500000000001,
          0.9445500000000001,
          1.1544500000000002,
          1.3643500000000004,
          1.5742500000000004,
          1.7841500000000003,
          1.9940500000000003
         ],
         "y": [
          39.99012485326089,
          39.99490729573093,
          39.99491014824747,
          39.994910149192926,
          39.99491014919311,
          39.99491014919311,
          39.994910149192926,
          39.99491014824747,
          39.99490729573093,
          39.99012485326089
         ]
        },
        {
         "mode": "lines",
         "name": "Time Passed: 480 seconds",
         "type": "scatter",
         "x": [
          0.10495000000000002,
          0.3148500000000001,
          0.52475,
          0.7346500000000001,
          0.9445500000000001,
          1.1544500000000002,
          1.3643500000000004,
          1.5742500000000004,
          1.7841500000000003,
          1.9940500000000003
         ],
         "y": [
          39.988715059269985,
          39.994179329719685,
          39.99418313188553,
          39.99418313339773,
          39.99418313339811,
          39.99418313339811,
          39.99418313339773,
          39.99418313188553,
          39.994179329719685,
          39.988715059269985
         ]
        },
        {
         "mode": "lines",
         "name": "Time Passed: 540 seconds",
         "type": "scatter",
         "x": [
          0.10495000000000002,
          0.3148500000000001,
          0.52475,
          0.7346500000000001,
          0.9445500000000001,
          1.1544500000000002,
          1.3643500000000004,
          1.5742500000000004,
          1.7841500000000003,
          1.9940500000000003
         ],
         "y": [
          39.98730550033821,
          39.99345125479911,
          39.99345614176922,
          39.993456144036756,
          39.99345614403743,
          39.99345614403743,
          39.993456144036756,
          39.99345614176922,
          39.99345125479911,
          39.98730550033821
         ]
        },
        {
         "mode": "lines",
         "name": "Time Passed: 600 seconds",
         "type": "scatter",
         "x": [
          0.10495000000000002,
          0.3148500000000001,
          0.52475,
          0.7346500000000001,
          0.9445500000000001,
          1.1544500000000002,
          1.3643500000000004,
          1.5742500000000004,
          1.7841500000000003,
          1.9940500000000003
         ],
         "y": [
          39.98589617638058,
          39.99272307106843,
          39.99272917787077,
          39.99272918110899,
          39.992729181110114,
          39.992729181110114,
          39.99272918110899,
          39.99272917787077,
          39.99272307106843,
          39.98589617638058
         ]
        }
       ],
       "layout": {
        "template": {
         "data": {
          "bar": [
           {
            "error_x": {
             "color": "#2a3f5f"
            },
            "error_y": {
             "color": "#2a3f5f"
            },
            "marker": {
             "line": {
              "color": "#E5ECF6",
              "width": 0.5
             },
             "pattern": {
              "fillmode": "overlay",
              "size": 10,
              "solidity": 0.2
             }
            },
            "type": "bar"
           }
          ],
          "barpolar": [
           {
            "marker": {
             "line": {
              "color": "#E5ECF6",
              "width": 0.5
             },
             "pattern": {
              "fillmode": "overlay",
              "size": 10,
              "solidity": 0.2
             }
            },
            "type": "barpolar"
           }
          ],
          "carpet": [
           {
            "aaxis": {
             "endlinecolor": "#2a3f5f",
             "gridcolor": "white",
             "linecolor": "white",
             "minorgridcolor": "white",
             "startlinecolor": "#2a3f5f"
            },
            "baxis": {
             "endlinecolor": "#2a3f5f",
             "gridcolor": "white",
             "linecolor": "white",
             "minorgridcolor": "white",
             "startlinecolor": "#2a3f5f"
            },
            "type": "carpet"
           }
          ],
          "choropleth": [
           {
            "colorbar": {
             "outlinewidth": 0,
             "ticks": ""
            },
            "type": "choropleth"
           }
          ],
          "contour": [
           {
            "colorbar": {
             "outlinewidth": 0,
             "ticks": ""
            },
            "colorscale": [
             [
              0,
              "#0d0887"
             ],
             [
              0.1111111111111111,
              "#46039f"
             ],
             [
              0.2222222222222222,
              "#7201a8"
             ],
             [
              0.3333333333333333,
              "#9c179e"
             ],
             [
              0.4444444444444444,
              "#bd3786"
             ],
             [
              0.5555555555555556,
              "#d8576b"
             ],
             [
              0.6666666666666666,
              "#ed7953"
             ],
             [
              0.7777777777777778,
              "#fb9f3a"
             ],
             [
              0.8888888888888888,
              "#fdca26"
             ],
             [
              1,
              "#f0f921"
             ]
            ],
            "type": "contour"
           }
          ],
          "contourcarpet": [
           {
            "colorbar": {
             "outlinewidth": 0,
             "ticks": ""
            },
            "type": "contourcarpet"
           }
          ],
          "heatmap": [
           {
            "colorbar": {
             "outlinewidth": 0,
             "ticks": ""
            },
            "colorscale": [
             [
              0,
              "#0d0887"
             ],
             [
              0.1111111111111111,
              "#46039f"
             ],
             [
              0.2222222222222222,
              "#7201a8"
             ],
             [
              0.3333333333333333,
              "#9c179e"
             ],
             [
              0.4444444444444444,
              "#bd3786"
             ],
             [
              0.5555555555555556,
              "#d8576b"
             ],
             [
              0.6666666666666666,
              "#ed7953"
             ],
             [
              0.7777777777777778,
              "#fb9f3a"
             ],
             [
              0.8888888888888888,
              "#fdca26"
             ],
             [
              1,
              "#f0f921"
             ]
            ],
            "type": "heatmap"
           }
          ],
          "heatmapgl": [
           {
            "colorbar": {
             "outlinewidth": 0,
             "ticks": ""
            },
            "colorscale": [
             [
              0,
              "#0d0887"
             ],
             [
              0.1111111111111111,
              "#46039f"
             ],
             [
              0.2222222222222222,
              "#7201a8"
             ],
             [
              0.3333333333333333,
              "#9c179e"
             ],
             [
              0.4444444444444444,
              "#bd3786"
             ],
             [
              0.5555555555555556,
              "#d8576b"
             ],
             [
              0.6666666666666666,
              "#ed7953"
             ],
             [
              0.7777777777777778,
              "#fb9f3a"
             ],
             [
              0.8888888888888888,
              "#fdca26"
             ],
             [
              1,
              "#f0f921"
             ]
            ],
            "type": "heatmapgl"
           }
          ],
          "histogram": [
           {
            "marker": {
             "pattern": {
              "fillmode": "overlay",
              "size": 10,
              "solidity": 0.2
             }
            },
            "type": "histogram"
           }
          ],
          "histogram2d": [
           {
            "colorbar": {
             "outlinewidth": 0,
             "ticks": ""
            },
            "colorscale": [
             [
              0,
              "#0d0887"
             ],
             [
              0.1111111111111111,
              "#46039f"
             ],
             [
              0.2222222222222222,
              "#7201a8"
             ],
             [
              0.3333333333333333,
              "#9c179e"
             ],
             [
              0.4444444444444444,
              "#bd3786"
             ],
             [
              0.5555555555555556,
              "#d8576b"
             ],
             [
              0.6666666666666666,
              "#ed7953"
             ],
             [
              0.7777777777777778,
              "#fb9f3a"
             ],
             [
              0.8888888888888888,
              "#fdca26"
             ],
             [
              1,
              "#f0f921"
             ]
            ],
            "type": "histogram2d"
           }
          ],
          "histogram2dcontour": [
           {
            "colorbar": {
             "outlinewidth": 0,
             "ticks": ""
            },
            "colorscale": [
             [
              0,
              "#0d0887"
             ],
             [
              0.1111111111111111,
              "#46039f"
             ],
             [
              0.2222222222222222,
              "#7201a8"
             ],
             [
              0.3333333333333333,
              "#9c179e"
             ],
             [
              0.4444444444444444,
              "#bd3786"
             ],
             [
              0.5555555555555556,
              "#d8576b"
             ],
             [
              0.6666666666666666,
              "#ed7953"
             ],
             [
              0.7777777777777778,
              "#fb9f3a"
             ],
             [
              0.8888888888888888,
              "#fdca26"
             ],
             [
              1,
              "#f0f921"
             ]
            ],
            "type": "histogram2dcontour"
           }
          ],
          "mesh3d": [
           {
            "colorbar": {
             "outlinewidth": 0,
             "ticks": ""
            },
            "type": "mesh3d"
           }
          ],
          "parcoords": [
           {
            "line": {
             "colorbar": {
              "outlinewidth": 0,
              "ticks": ""
             }
            },
            "type": "parcoords"
           }
          ],
          "pie": [
           {
            "automargin": true,
            "type": "pie"
           }
          ],
          "scatter": [
           {
            "fillpattern": {
             "fillmode": "overlay",
             "size": 10,
             "solidity": 0.2
            },
            "type": "scatter"
           }
          ],
          "scatter3d": [
           {
            "line": {
             "colorbar": {
              "outlinewidth": 0,
              "ticks": ""
             }
            },
            "marker": {
             "colorbar": {
              "outlinewidth": 0,
              "ticks": ""
             }
            },
            "type": "scatter3d"
           }
          ],
          "scattercarpet": [
           {
            "marker": {
             "colorbar": {
              "outlinewidth": 0,
              "ticks": ""
             }
            },
            "type": "scattercarpet"
           }
          ],
          "scattergeo": [
           {
            "marker": {
             "colorbar": {
              "outlinewidth": 0,
              "ticks": ""
             }
            },
            "type": "scattergeo"
           }
          ],
          "scattergl": [
           {
            "marker": {
             "colorbar": {
              "outlinewidth": 0,
              "ticks": ""
             }
            },
            "type": "scattergl"
           }
          ],
          "scattermapbox": [
           {
            "marker": {
             "colorbar": {
              "outlinewidth": 0,
              "ticks": ""
             }
            },
            "type": "scattermapbox"
           }
          ],
          "scatterpolar": [
           {
            "marker": {
             "colorbar": {
              "outlinewidth": 0,
              "ticks": ""
             }
            },
            "type": "scatterpolar"
           }
          ],
          "scatterpolargl": [
           {
            "marker": {
             "colorbar": {
              "outlinewidth": 0,
              "ticks": ""
             }
            },
            "type": "scatterpolargl"
           }
          ],
          "scatterternary": [
           {
            "marker": {
             "colorbar": {
              "outlinewidth": 0,
              "ticks": ""
             }
            },
            "type": "scatterternary"
           }
          ],
          "surface": [
           {
            "colorbar": {
             "outlinewidth": 0,
             "ticks": ""
            },
            "colorscale": [
             [
              0,
              "#0d0887"
             ],
             [
              0.1111111111111111,
              "#46039f"
             ],
             [
              0.2222222222222222,
              "#7201a8"
             ],
             [
              0.3333333333333333,
              "#9c179e"
             ],
             [
              0.4444444444444444,
              "#bd3786"
             ],
             [
              0.5555555555555556,
              "#d8576b"
             ],
             [
              0.6666666666666666,
              "#ed7953"
             ],
             [
              0.7777777777777778,
              "#fb9f3a"
             ],
             [
              0.8888888888888888,
              "#fdca26"
             ],
             [
              1,
              "#f0f921"
             ]
            ],
            "type": "surface"
           }
          ],
          "table": [
           {
            "cells": {
             "fill": {
              "color": "#EBF0F8"
             },
             "line": {
              "color": "white"
             }
            },
            "header": {
             "fill": {
              "color": "#C8D4E3"
             },
             "line": {
              "color": "white"
             }
            },
            "type": "table"
           }
          ]
         },
         "layout": {
          "annotationdefaults": {
           "arrowcolor": "#2a3f5f",
           "arrowhead": 0,
           "arrowwidth": 1
          },
          "autotypenumbers": "strict",
          "coloraxis": {
           "colorbar": {
            "outlinewidth": 0,
            "ticks": ""
           }
          },
          "colorscale": {
           "diverging": [
            [
             0,
             "#8e0152"
            ],
            [
             0.1,
             "#c51b7d"
            ],
            [
             0.2,
             "#de77ae"
            ],
            [
             0.3,
             "#f1b6da"
            ],
            [
             0.4,
             "#fde0ef"
            ],
            [
             0.5,
             "#f7f7f7"
            ],
            [
             0.6,
             "#e6f5d0"
            ],
            [
             0.7,
             "#b8e186"
            ],
            [
             0.8,
             "#7fbc41"
            ],
            [
             0.9,
             "#4d9221"
            ],
            [
             1,
             "#276419"
            ]
           ],
           "sequential": [
            [
             0,
             "#0d0887"
            ],
            [
             0.1111111111111111,
             "#46039f"
            ],
            [
             0.2222222222222222,
             "#7201a8"
            ],
            [
             0.3333333333333333,
             "#9c179e"
            ],
            [
             0.4444444444444444,
             "#bd3786"
            ],
            [
             0.5555555555555556,
             "#d8576b"
            ],
            [
             0.6666666666666666,
             "#ed7953"
            ],
            [
             0.7777777777777778,
             "#fb9f3a"
            ],
            [
             0.8888888888888888,
             "#fdca26"
            ],
            [
             1,
             "#f0f921"
            ]
           ],
           "sequentialminus": [
            [
             0,
             "#0d0887"
            ],
            [
             0.1111111111111111,
             "#46039f"
            ],
            [
             0.2222222222222222,
             "#7201a8"
            ],
            [
             0.3333333333333333,
             "#9c179e"
            ],
            [
             0.4444444444444444,
             "#bd3786"
            ],
            [
             0.5555555555555556,
             "#d8576b"
            ],
            [
             0.6666666666666666,
             "#ed7953"
            ],
            [
             0.7777777777777778,
             "#fb9f3a"
            ],
            [
             0.8888888888888888,
             "#fdca26"
            ],
            [
             1,
             "#f0f921"
            ]
           ]
          },
          "colorway": [
           "#636efa",
           "#EF553B",
           "#00cc96",
           "#ab63fa",
           "#FFA15A",
           "#19d3f3",
           "#FF6692",
           "#B6E880",
           "#FF97FF",
           "#FECB52"
          ],
          "font": {
           "color": "#2a3f5f"
          },
          "geo": {
           "bgcolor": "white",
           "lakecolor": "white",
           "landcolor": "#E5ECF6",
           "showlakes": true,
           "showland": true,
           "subunitcolor": "white"
          },
          "hoverlabel": {
           "align": "left"
          },
          "hovermode": "closest",
          "mapbox": {
           "style": "light"
          },
          "paper_bgcolor": "white",
          "plot_bgcolor": "#E5ECF6",
          "polar": {
           "angularaxis": {
            "gridcolor": "white",
            "linecolor": "white",
            "ticks": ""
           },
           "bgcolor": "#E5ECF6",
           "radialaxis": {
            "gridcolor": "white",
            "linecolor": "white",
            "ticks": ""
           }
          },
          "scene": {
           "xaxis": {
            "backgroundcolor": "#E5ECF6",
            "gridcolor": "white",
            "gridwidth": 2,
            "linecolor": "white",
            "showbackground": true,
            "ticks": "",
            "zerolinecolor": "white"
           },
           "yaxis": {
            "backgroundcolor": "#E5ECF6",
            "gridcolor": "white",
            "gridwidth": 2,
            "linecolor": "white",
            "showbackground": true,
            "ticks": "",
            "zerolinecolor": "white"
           },
           "zaxis": {
            "backgroundcolor": "#E5ECF6",
            "gridcolor": "white",
            "gridwidth": 2,
            "linecolor": "white",
            "showbackground": true,
            "ticks": "",
            "zerolinecolor": "white"
           }
          },
          "shapedefaults": {
           "line": {
            "color": "#2a3f5f"
           }
          },
          "ternary": {
           "aaxis": {
            "gridcolor": "white",
            "linecolor": "white",
            "ticks": ""
           },
           "baxis": {
            "gridcolor": "white",
            "linecolor": "white",
            "ticks": ""
           },
           "bgcolor": "#E5ECF6",
           "caxis": {
            "gridcolor": "white",
            "linecolor": "white",
            "ticks": ""
           }
          },
          "title": {
           "x": 0.05
          },
          "xaxis": {
           "automargin": true,
           "gridcolor": "white",
           "linecolor": "white",
           "ticks": "",
           "title": {
            "standoff": 15
           },
           "zerolinecolor": "white",
           "zerolinewidth": 2
          },
          "yaxis": {
           "automargin": true,
           "gridcolor": "white",
           "linecolor": "white",
           "ticks": "",
           "title": {
            "standoff": 15
           },
           "zerolinecolor": "white",
           "zerolinewidth": 2
          }
         }
        },
        "title": {
         "text": "Temperature Distribution Over Tank Height and Over Time"
        },
        "xaxis": {
         "range": [
          0,
          2.099
         ],
         "title": {
          "text": "Height"
         }
        },
        "yaxis": {
         "title": {
          "text": "Temperature"
         }
        }
       }
      }
     },
     "metadata": {},
     "output_type": "display_data"
    },
    {
     "data": {
      "application/vnd.plotly.v1+json": {
       "config": {
        "plotlyServerURL": "https://plot.ly"
       },
       "data": [
        {
         "mode": "lines",
         "name": "Time Passed: 0 seconds",
         "type": "scatter",
         "x": [
          0.10495000000000002,
          0.3148500000000001,
          0.52475,
          0.7346500000000001,
          0.9445500000000001,
          1.1544500000000002,
          1.3643500000000004,
          1.5742500000000004,
          1.7841500000000003,
          1.9940500000000003
         ],
         "y": [
          40,
          40,
          40,
          40,
          40,
          40,
          40,
          40,
          40,
          40
         ]
        },
        {
         "mode": "lines",
         "name": "Time Passed: 60 seconds",
         "type": "scatter",
         "x": [
          0.10495000000000002,
          0.3148500000000001,
          0.52475,
          0.7346500000000001,
          0.9445500000000001,
          1.1544500000000002,
          1.3643500000000004,
          1.5742500000000004,
          1.7841500000000003,
          1.9940500000000003
         ],
         "y": [
          39.9985885582122,
          39.9992727991378,
          39.9992727991378,
          39.9992727991378,
          39.9992727991378,
          39.9992727991378,
          39.9992727991378,
          39.9992727991378,
          39.9992727991378,
          39.9985885582122
         ]
        },
        {
         "mode": "lines",
         "name": "Time Passed: 120 seconds",
         "type": "scatter",
         "x": [
          0.10495000000000002,
          0.3148500000000001,
          0.52475,
          0.7346500000000001,
          0.9445500000000001,
          1.1544500000000002,
          1.3643500000000004,
          1.5742500000000004,
          1.7841500000000003,
          1.9940500000000003
         ],
         "y": [
          39.997177352079575,
          39.998545488669876,
          39.998545624716655,
          39.998545624716655,
          39.998545624716655,
          39.998545624716655,
          39.998545624716655,
          39.998545624716655,
          39.998545488669876,
          39.997177352079575
         ]
        },
        {
         "mode": "lines",
         "name": "Time Passed: 180 seconds",
         "type": "scatter",
         "x": [
          0.10495000000000002,
          0.3148500000000001,
          0.52475,
          0.7346500000000001,
          0.9445500000000001,
          1.1544500000000002,
          1.3643500000000004,
          1.5742500000000004,
          1.7841500000000003,
          1.9940500000000003
         ],
         "y": [
          39.99576638151685,
          39.997818068695906,
          39.99781847670855,
          39.9978184767356,
          39.9978184767356,
          39.9978184767356,
          39.9978184767356,
          39.99781847670855,
          39.997818068695906,
          39.99576638151685
         ]
        },
        {
         "mode": "lines",
         "name": "Time Passed: 240 seconds",
         "type": "scatter",
         "x": [
          0.10495000000000002,
          0.3148500000000001,
          0.52475,
          0.7346500000000001,
          0.9445500000000001,
          1.1544500000000002,
          1.3643500000000004,
          1.5742500000000004,
          1.7841500000000003,
          1.9940500000000003
         ],
         "y": [
          39.99435564643879,
          39.99709053931551,
          39.997091355085516,
          39.99709135519368,
          39.99709135519368,
          39.99709135519368,
          39.99709135519368,
          39.997091355085516,
          39.99709053931551,
          39.99435564643879
         ]
        },
        {
         "mode": "lines",
         "name": "Time Passed: 300 seconds",
         "type": "scatter",
         "x": [
          0.10495000000000002,
          0.3148500000000001,
          0.52475,
          0.7346500000000001,
          0.9445500000000001,
          1.1544500000000002,
          1.3643500000000004,
          1.5742500000000004,
          1.7841500000000003,
          1.9940500000000003
         ],
         "y": [
          39.992945146760206,
          39.996362900628235,
          39.99636425981959,
          39.99636426008991,
          39.99636426008993,
          39.99636426008993,
          39.99636426008991,
          39.99636425981959,
          39.996362900628235,
          39.992945146760206
         ]
        },
        {
         "mode": "lines",
         "name": "Time Passed: 360 seconds",
         "type": "scatter",
         "x": [
          0.10495000000000002,
          0.3148500000000001,
          0.52475,
          0.7346500000000001,
          0.9445500000000001,
          1.1544500000000002,
          1.3643500000000004,
          1.5742500000000004,
          1.7841500000000003,
          1.9940500000000003
         ],
         "y": [
          39.99153488239594,
          39.99563515273357,
          39.995637190882874,
          39.99563719142332,
          39.9956371914234,
          39.9956371914234,
          39.99563719142332,
          39.995637190882874,
          39.99563515273357,
          39.99153488239594
         ]
        },
        {
         "mode": "lines",
         "name": "Time Passed: 420 seconds",
         "type": "scatter",
         "x": [
          0.10495000000000002,
          0.3148500000000001,
          0.52475,
          0.7346500000000001,
          0.9445500000000001,
          1.1544500000000002,
          1.3643500000000004,
          1.5742500000000004,
          1.7841500000000003,
          1.9940500000000003
         ],
         "y": [
          39.99012485326089,
          39.99490729573093,
          39.99491014824747,
          39.994910149192926,
          39.99491014919311,
          39.99491014919311,
          39.994910149192926,
          39.99491014824747,
          39.99490729573093,
          39.99012485326089
         ]
        },
        {
         "mode": "lines",
         "name": "Time Passed: 480 seconds",
         "type": "scatter",
         "x": [
          0.10495000000000002,
          0.3148500000000001,
          0.52475,
          0.7346500000000001,
          0.9445500000000001,
          1.1544500000000002,
          1.3643500000000004,
          1.5742500000000004,
          1.7841500000000003,
          1.9940500000000003
         ],
         "y": [
          39.988715059269985,
          39.994179329719685,
          39.99418313188553,
          39.99418313339773,
          39.99418313339811,
          39.99418313339811,
          39.99418313339773,
          39.99418313188553,
          39.994179329719685,
          39.988715059269985
         ]
        },
        {
         "mode": "lines",
         "name": "Time Passed: 540 seconds",
         "type": "scatter",
         "x": [
          0.10495000000000002,
          0.3148500000000001,
          0.52475,
          0.7346500000000001,
          0.9445500000000001,
          1.1544500000000002,
          1.3643500000000004,
          1.5742500000000004,
          1.7841500000000003,
          1.9940500000000003
         ],
         "y": [
          39.98730550033821,
          39.99345125479911,
          39.99345614176922,
          39.993456144036756,
          39.99345614403743,
          39.99345614403743,
          39.993456144036756,
          39.99345614176922,
          39.99345125479911,
          39.98730550033821
         ]
        },
        {
         "mode": "lines",
         "name": "Time Passed: 600 seconds",
         "type": "scatter",
         "x": [
          0.10495000000000002,
          0.3148500000000001,
          0.52475,
          0.7346500000000001,
          0.9445500000000001,
          1.1544500000000002,
          1.3643500000000004,
          1.5742500000000004,
          1.7841500000000003,
          1.9940500000000003
         ],
         "y": [
          39.98589617638058,
          39.99272307106843,
          39.99272917787077,
          39.99272918110899,
          39.992729181110114,
          39.992729181110114,
          39.99272918110899,
          39.99272917787077,
          39.99272307106843,
          39.98589617638058
         ]
        }
       ],
       "layout": {
        "template": {
         "data": {
          "bar": [
           {
            "error_x": {
             "color": "#2a3f5f"
            },
            "error_y": {
             "color": "#2a3f5f"
            },
            "marker": {
             "line": {
              "color": "#E5ECF6",
              "width": 0.5
             },
             "pattern": {
              "fillmode": "overlay",
              "size": 10,
              "solidity": 0.2
             }
            },
            "type": "bar"
           }
          ],
          "barpolar": [
           {
            "marker": {
             "line": {
              "color": "#E5ECF6",
              "width": 0.5
             },
             "pattern": {
              "fillmode": "overlay",
              "size": 10,
              "solidity": 0.2
             }
            },
            "type": "barpolar"
           }
          ],
          "carpet": [
           {
            "aaxis": {
             "endlinecolor": "#2a3f5f",
             "gridcolor": "white",
             "linecolor": "white",
             "minorgridcolor": "white",
             "startlinecolor": "#2a3f5f"
            },
            "baxis": {
             "endlinecolor": "#2a3f5f",
             "gridcolor": "white",
             "linecolor": "white",
             "minorgridcolor": "white",
             "startlinecolor": "#2a3f5f"
            },
            "type": "carpet"
           }
          ],
          "choropleth": [
           {
            "colorbar": {
             "outlinewidth": 0,
             "ticks": ""
            },
            "type": "choropleth"
           }
          ],
          "contour": [
           {
            "colorbar": {
             "outlinewidth": 0,
             "ticks": ""
            },
            "colorscale": [
             [
              0,
              "#0d0887"
             ],
             [
              0.1111111111111111,
              "#46039f"
             ],
             [
              0.2222222222222222,
              "#7201a8"
             ],
             [
              0.3333333333333333,
              "#9c179e"
             ],
             [
              0.4444444444444444,
              "#bd3786"
             ],
             [
              0.5555555555555556,
              "#d8576b"
             ],
             [
              0.6666666666666666,
              "#ed7953"
             ],
             [
              0.7777777777777778,
              "#fb9f3a"
             ],
             [
              0.8888888888888888,
              "#fdca26"
             ],
             [
              1,
              "#f0f921"
             ]
            ],
            "type": "contour"
           }
          ],
          "contourcarpet": [
           {
            "colorbar": {
             "outlinewidth": 0,
             "ticks": ""
            },
            "type": "contourcarpet"
           }
          ],
          "heatmap": [
           {
            "colorbar": {
             "outlinewidth": 0,
             "ticks": ""
            },
            "colorscale": [
             [
              0,
              "#0d0887"
             ],
             [
              0.1111111111111111,
              "#46039f"
             ],
             [
              0.2222222222222222,
              "#7201a8"
             ],
             [
              0.3333333333333333,
              "#9c179e"
             ],
             [
              0.4444444444444444,
              "#bd3786"
             ],
             [
              0.5555555555555556,
              "#d8576b"
             ],
             [
              0.6666666666666666,
              "#ed7953"
             ],
             [
              0.7777777777777778,
              "#fb9f3a"
             ],
             [
              0.8888888888888888,
              "#fdca26"
             ],
             [
              1,
              "#f0f921"
             ]
            ],
            "type": "heatmap"
           }
          ],
          "heatmapgl": [
           {
            "colorbar": {
             "outlinewidth": 0,
             "ticks": ""
            },
            "colorscale": [
             [
              0,
              "#0d0887"
             ],
             [
              0.1111111111111111,
              "#46039f"
             ],
             [
              0.2222222222222222,
              "#7201a8"
             ],
             [
              0.3333333333333333,
              "#9c179e"
             ],
             [
              0.4444444444444444,
              "#bd3786"
             ],
             [
              0.5555555555555556,
              "#d8576b"
             ],
             [
              0.6666666666666666,
              "#ed7953"
             ],
             [
              0.7777777777777778,
              "#fb9f3a"
             ],
             [
              0.8888888888888888,
              "#fdca26"
             ],
             [
              1,
              "#f0f921"
             ]
            ],
            "type": "heatmapgl"
           }
          ],
          "histogram": [
           {
            "marker": {
             "pattern": {
              "fillmode": "overlay",
              "size": 10,
              "solidity": 0.2
             }
            },
            "type": "histogram"
           }
          ],
          "histogram2d": [
           {
            "colorbar": {
             "outlinewidth": 0,
             "ticks": ""
            },
            "colorscale": [
             [
              0,
              "#0d0887"
             ],
             [
              0.1111111111111111,
              "#46039f"
             ],
             [
              0.2222222222222222,
              "#7201a8"
             ],
             [
              0.3333333333333333,
              "#9c179e"
             ],
             [
              0.4444444444444444,
              "#bd3786"
             ],
             [
              0.5555555555555556,
              "#d8576b"
             ],
             [
              0.6666666666666666,
              "#ed7953"
             ],
             [
              0.7777777777777778,
              "#fb9f3a"
             ],
             [
              0.8888888888888888,
              "#fdca26"
             ],
             [
              1,
              "#f0f921"
             ]
            ],
            "type": "histogram2d"
           }
          ],
          "histogram2dcontour": [
           {
            "colorbar": {
             "outlinewidth": 0,
             "ticks": ""
            },
            "colorscale": [
             [
              0,
              "#0d0887"
             ],
             [
              0.1111111111111111,
              "#46039f"
             ],
             [
              0.2222222222222222,
              "#7201a8"
             ],
             [
              0.3333333333333333,
              "#9c179e"
             ],
             [
              0.4444444444444444,
              "#bd3786"
             ],
             [
              0.5555555555555556,
              "#d8576b"
             ],
             [
              0.6666666666666666,
              "#ed7953"
             ],
             [
              0.7777777777777778,
              "#fb9f3a"
             ],
             [
              0.8888888888888888,
              "#fdca26"
             ],
             [
              1,
              "#f0f921"
             ]
            ],
            "type": "histogram2dcontour"
           }
          ],
          "mesh3d": [
           {
            "colorbar": {
             "outlinewidth": 0,
             "ticks": ""
            },
            "type": "mesh3d"
           }
          ],
          "parcoords": [
           {
            "line": {
             "colorbar": {
              "outlinewidth": 0,
              "ticks": ""
             }
            },
            "type": "parcoords"
           }
          ],
          "pie": [
           {
            "automargin": true,
            "type": "pie"
           }
          ],
          "scatter": [
           {
            "fillpattern": {
             "fillmode": "overlay",
             "size": 10,
             "solidity": 0.2
            },
            "type": "scatter"
           }
          ],
          "scatter3d": [
           {
            "line": {
             "colorbar": {
              "outlinewidth": 0,
              "ticks": ""
             }
            },
            "marker": {
             "colorbar": {
              "outlinewidth": 0,
              "ticks": ""
             }
            },
            "type": "scatter3d"
           }
          ],
          "scattercarpet": [
           {
            "marker": {
             "colorbar": {
              "outlinewidth": 0,
              "ticks": ""
             }
            },
            "type": "scattercarpet"
           }
          ],
          "scattergeo": [
           {
            "marker": {
             "colorbar": {
              "outlinewidth": 0,
              "ticks": ""
             }
            },
            "type": "scattergeo"
           }
          ],
          "scattergl": [
           {
            "marker": {
             "colorbar": {
              "outlinewidth": 0,
              "ticks": ""
             }
            },
            "type": "scattergl"
           }
          ],
          "scattermapbox": [
           {
            "marker": {
             "colorbar": {
              "outlinewidth": 0,
              "ticks": ""
             }
            },
            "type": "scattermapbox"
           }
          ],
          "scatterpolar": [
           {
            "marker": {
             "colorbar": {
              "outlinewidth": 0,
              "ticks": ""
             }
            },
            "type": "scatterpolar"
           }
          ],
          "scatterpolargl": [
           {
            "marker": {
             "colorbar": {
              "outlinewidth": 0,
              "ticks": ""
             }
            },
            "type": "scatterpolargl"
           }
          ],
          "scatterternary": [
           {
            "marker": {
             "colorbar": {
              "outlinewidth": 0,
              "ticks": ""
             }
            },
            "type": "scatterternary"
           }
          ],
          "surface": [
           {
            "colorbar": {
             "outlinewidth": 0,
             "ticks": ""
            },
            "colorscale": [
             [
              0,
              "#0d0887"
             ],
             [
              0.1111111111111111,
              "#46039f"
             ],
             [
              0.2222222222222222,
              "#7201a8"
             ],
             [
              0.3333333333333333,
              "#9c179e"
             ],
             [
              0.4444444444444444,
              "#bd3786"
             ],
             [
              0.5555555555555556,
              "#d8576b"
             ],
             [
              0.6666666666666666,
              "#ed7953"
             ],
             [
              0.7777777777777778,
              "#fb9f3a"
             ],
             [
              0.8888888888888888,
              "#fdca26"
             ],
             [
              1,
              "#f0f921"
             ]
            ],
            "type": "surface"
           }
          ],
          "table": [
           {
            "cells": {
             "fill": {
              "color": "#EBF0F8"
             },
             "line": {
              "color": "white"
             }
            },
            "header": {
             "fill": {
              "color": "#C8D4E3"
             },
             "line": {
              "color": "white"
             }
            },
            "type": "table"
           }
          ]
         },
         "layout": {
          "annotationdefaults": {
           "arrowcolor": "#2a3f5f",
           "arrowhead": 0,
           "arrowwidth": 1
          },
          "autotypenumbers": "strict",
          "coloraxis": {
           "colorbar": {
            "outlinewidth": 0,
            "ticks": ""
           }
          },
          "colorscale": {
           "diverging": [
            [
             0,
             "#8e0152"
            ],
            [
             0.1,
             "#c51b7d"
            ],
            [
             0.2,
             "#de77ae"
            ],
            [
             0.3,
             "#f1b6da"
            ],
            [
             0.4,
             "#fde0ef"
            ],
            [
             0.5,
             "#f7f7f7"
            ],
            [
             0.6,
             "#e6f5d0"
            ],
            [
             0.7,
             "#b8e186"
            ],
            [
             0.8,
             "#7fbc41"
            ],
            [
             0.9,
             "#4d9221"
            ],
            [
             1,
             "#276419"
            ]
           ],
           "sequential": [
            [
             0,
             "#0d0887"
            ],
            [
             0.1111111111111111,
             "#46039f"
            ],
            [
             0.2222222222222222,
             "#7201a8"
            ],
            [
             0.3333333333333333,
             "#9c179e"
            ],
            [
             0.4444444444444444,
             "#bd3786"
            ],
            [
             0.5555555555555556,
             "#d8576b"
            ],
            [
             0.6666666666666666,
             "#ed7953"
            ],
            [
             0.7777777777777778,
             "#fb9f3a"
            ],
            [
             0.8888888888888888,
             "#fdca26"
            ],
            [
             1,
             "#f0f921"
            ]
           ],
           "sequentialminus": [
            [
             0,
             "#0d0887"
            ],
            [
             0.1111111111111111,
             "#46039f"
            ],
            [
             0.2222222222222222,
             "#7201a8"
            ],
            [
             0.3333333333333333,
             "#9c179e"
            ],
            [
             0.4444444444444444,
             "#bd3786"
            ],
            [
             0.5555555555555556,
             "#d8576b"
            ],
            [
             0.6666666666666666,
             "#ed7953"
            ],
            [
             0.7777777777777778,
             "#fb9f3a"
            ],
            [
             0.8888888888888888,
             "#fdca26"
            ],
            [
             1,
             "#f0f921"
            ]
           ]
          },
          "colorway": [
           "#636efa",
           "#EF553B",
           "#00cc96",
           "#ab63fa",
           "#FFA15A",
           "#19d3f3",
           "#FF6692",
           "#B6E880",
           "#FF97FF",
           "#FECB52"
          ],
          "font": {
           "color": "#2a3f5f"
          },
          "geo": {
           "bgcolor": "white",
           "lakecolor": "white",
           "landcolor": "#E5ECF6",
           "showlakes": true,
           "showland": true,
           "subunitcolor": "white"
          },
          "hoverlabel": {
           "align": "left"
          },
          "hovermode": "closest",
          "mapbox": {
           "style": "light"
          },
          "paper_bgcolor": "white",
          "plot_bgcolor": "#E5ECF6",
          "polar": {
           "angularaxis": {
            "gridcolor": "white",
            "linecolor": "white",
            "ticks": ""
           },
           "bgcolor": "#E5ECF6",
           "radialaxis": {
            "gridcolor": "white",
            "linecolor": "white",
            "ticks": ""
           }
          },
          "scene": {
           "xaxis": {
            "backgroundcolor": "#E5ECF6",
            "gridcolor": "white",
            "gridwidth": 2,
            "linecolor": "white",
            "showbackground": true,
            "ticks": "",
            "zerolinecolor": "white"
           },
           "yaxis": {
            "backgroundcolor": "#E5ECF6",
            "gridcolor": "white",
            "gridwidth": 2,
            "linecolor": "white",
            "showbackground": true,
            "ticks": "",
            "zerolinecolor": "white"
           },
           "zaxis": {
            "backgroundcolor": "#E5ECF6",
            "gridcolor": "white",
            "gridwidth": 2,
            "linecolor": "white",
            "showbackground": true,
            "ticks": "",
            "zerolinecolor": "white"
           }
          },
          "shapedefaults": {
           "line": {
            "color": "#2a3f5f"
           }
          },
          "ternary": {
           "aaxis": {
            "gridcolor": "white",
            "linecolor": "white",
            "ticks": ""
           },
           "baxis": {
            "gridcolor": "white",
            "linecolor": "white",
            "ticks": ""
           },
           "bgcolor": "#E5ECF6",
           "caxis": {
            "gridcolor": "white",
            "linecolor": "white",
            "ticks": ""
           }
          },
          "title": {
           "x": 0.05
          },
          "xaxis": {
           "automargin": true,
           "gridcolor": "white",
           "linecolor": "white",
           "ticks": "",
           "title": {
            "standoff": 15
           },
           "zerolinecolor": "white",
           "zerolinewidth": 2
          },
          "yaxis": {
           "automargin": true,
           "gridcolor": "white",
           "linecolor": "white",
           "ticks": "",
           "title": {
            "standoff": 15
           },
           "zerolinecolor": "white",
           "zerolinewidth": 2
          }
         }
        },
        "title": {
         "text": "Temperature Distribution Over Tank Height and Over Time"
        },
        "xaxis": {
         "range": [
          0,
          2.099
         ],
         "title": {
          "text": "Height"
         }
        },
        "yaxis": {
         "title": {
          "text": "Temperature"
         }
        }
       }
      }
     },
     "metadata": {},
     "output_type": "display_data"
    }
   ],
   "source": [
    "import numpy as np\n",
    "import matplotlib.pyplot as plt\n",
    "import plotly.graph_objects as go\n",
    "import plotly.express as px\n",
    "\n",
    "############### Definitons for the model\n",
    "class HeatDistributionVector_model2:\n",
    "    def __init__(self, alpha, beta_i, beta_bottom, beta_top, lambda_i, phi_i, z, T_a, T_initial, dt, Qdot, mdot, Tm):\n",
    "        self.alpha = alpha                           # heat diffusivity\n",
    "        self.beta_i = beta_i                         # heat loss coefficient to the ambient in the inner layers\n",
    "        self.beta_bottom = beta_bottom               # heat loss coefficient to the ambient at the bottom layer (i=0)\n",
    "        self.beta_top = beta_top                     # heat loss coefficient to the ambient at the top layer (i=-1)\n",
    "        self.lambda_i = lambda_i                     # coefficient of the input heat\n",
    "        self.phi_i = phi_i                           # coefficient of the input flow/stream\n",
    "        \n",
    "        self.z = z                                   # height of the tank\n",
    "        self.num_layers = len(T_initial)             # number of layers (steps in space)\n",
    "        self.dt = dt                                 # step size in time (time step)\n",
    "\n",
    "        self.T_initial = np.array(T_initial)         # initial state of the temperatures along the tank [list] !!! Same lenght as num_layers\n",
    "        self.T_a = T_a                               # ambient temperature outside of the tank\n",
    "        self.Qdot= Qdot                              # vector conaining the Q_i of each layer\n",
    "        self.mdot = mdot                             # vector conaining the streams flowing into /out of the tank mdot_i of each layer\n",
    "        self.Tm = Tm                                 # vector containing the temperatures of the streams flowing in/out of the tank (each mdot_i has a Tm_i)\n",
    "\n",
    "        \n",
    "        self.dz = z / self.num_layers                # step size in space (delta z, height of a layer) is total height/number of layers, num_layers = how big the initial temperature vector is\n",
    "        # Create a \n",
    "        self.heights = [i * self.dz + self.dz/2 for i in range(len(T_initial))]     # list representing the height of the tank for plotting the temperatures in the middle of each layer\n",
    "  \n",
    "\n",
    "\n",
    " # definition of the solver for the temperature vector in the next time step       \n",
    "    def vector_solve(self, num_steps):\n",
    "        T_old = np.copy(self.T_initial)\n",
    "        results = [T_old.copy()]                    # Store initial temperature array\n",
    "\n",
    "        for _ in range(num_steps):\n",
    "\n",
    "            T_new = np.copy(T_old)\n",
    "\n",
    "            T_old_next = np.roll(T_old, -1)         # roll every i by -1 so that the \"next\" i is selected\n",
    "            T_old_prev = np.roll(T_old, 1)          # roll every i by 1 so that the \"previous\" i is selected\n",
    "            \n",
    "            # Apply heat transfer equation for model 0\n",
    "            T_new = (T_old\n",
    "                      + (((self.alpha) * (T_old_next - (2*T_old) + T_old_prev) / (self.dz**2))  # diffusion between layers\n",
    "                      + (self.beta_i * (self.T_a - T_old))                                      # losses to the ambient\n",
    "                      + ((self.lambda_i/self.dz) * self.Qdot)                                   # indirect heat input (heat exchanger)\n",
    "                      + ((self.phi_i/self.dz) * self.mdot * (self.Tm - T_old))                  # direct heat input (stream)\n",
    "                      )* self.dt)\n",
    "            \n",
    "            # Boundary conditions\n",
    "            T_new[0] = (T_old[0]\n",
    "                         + (((self.alpha) * (T_old[1] - (2*T_old[0]) + T_old[0]) / (self.dz**2))\n",
    "                         + ((self.beta_i + self.beta_bottom) * (self.T_a - T_old[0]))\n",
    "                         + ((self.lambda_i/self.dz) * self.Qdot[0])\n",
    "                         + ((self.phi_i/self.dz) * self.mdot[0] * (self.Tm[0] - T_old[0]))  \n",
    "                         )* self.dt)        # heat loss through sides of the tank (beta_i) and through the floor (beta_bottom)\n",
    "            \n",
    "            T_new[-1] = (T_old[-1]\n",
    "                          + (((self.alpha) * (T_old[-1] - (2*T_old[-1]) + T_old[-2]) / (self.dz**2))\n",
    "                          + ((self.beta_i + self.beta_top)* (self.T_a - T_old[-1])) \n",
    "                          + ((self.lambda_i/self.dz) * self.Qdot[-1])\n",
    "                          + ((self.phi_i/self.dz) * self.mdot[-1] * (self.Tm[-1] - T_old[-1]))\n",
    "                          )* self.dt)       # heat loss through sides of the tank (beta_i) and through ceiling (beta_top)\n",
    "\n",
    "            T_old = np.copy(T_new) # return the new temperature as old temperature for the next iteration\n",
    "\n",
    "            results.append(T_old.copy())            # Store the updated temperature array fo later plot\n",
    "\n",
    "        return T_old, results\n",
    "     \n",
    " # check the stability of the model with the selected dt\n",
    "    def stability_check(self):\n",
    "        # check if the time step dt is small enough with CFL condition: dt <= (dz^2) / (2 * alpha)\n",
    "        cfl_dt_max = (self.dz ** 2) / (2 * self.alpha)\n",
    "        if self.dt > cfl_dt_max:\n",
    "            print(f\"Warning: Time step size dt {self.dt} exceeds CFL stability limit ({cfl_dt_max}).\")\n",
    "            sc = 1\n",
    "        else:\n",
    "            sc = 0\n",
    "        return sc\n",
    "    \n",
    "\n",
    "# Plot the layer temperatures over the height for different times\n",
    "def plot_results_height(results, heights):\n",
    "    # Create traces for each time step\n",
    "    traces = []\n",
    "    for i, temp_array in enumerate(results):            # results in [time x layers] -> enumerate gives all values of one row for one index (column) -> all layers (row) at one time\n",
    "        time_passed = dt * i                            # Calculate the time passed\n",
    "        trace = go.Scatter(\n",
    "            x=heights,                                      # X axis is the height of each layer\n",
    "            y=temp_array,                               # Y axis is the temperatures in each layer\n",
    "            mode='lines',\n",
    "            name=f'Time Passed: {time_passed} seconds'   # Use calculated time in legend\n",
    "        )\n",
    "        traces.append(trace)\n",
    "\n",
    "    # Create the plot layout\n",
    "    layout = go.Layout(\n",
    "        title='Temperature Distribution Over Tank Height and Over Time',\n",
    "        xaxis=dict(title='Height', range=[0, z]),\n",
    "        yaxis=dict(title='Temperature'),\n",
    "    )\n",
    "\n",
    "    # Create the figure and plot it\n",
    "    fig = go.Figure(data=traces, layout=layout)\n",
    "    fig.show()\n",
    "\n",
    "# Plot the layer temperatures over time\n",
    "def plot_results_time(results, heights, z):\n",
    "    # Create traces for each layer\n",
    "    traces = []\n",
    "    for i, temp_array in enumerate(np.array(results).T):  # Transpose the results array to iterate over layers -> [layers x time] -> row is the temperature over time of one sensor\n",
    "        time_passed = dt * i                            # Calculate the time passed\n",
    "        trace = go.Scatter(\n",
    "            x=np.arange(len(temp_array)),                 # X axis is the timeline (Time steps)\n",
    "            y=temp_array,                                 # Y axis is the temperature of all layers in each time step    \n",
    "            mode='lines',\n",
    "            name=f'Layer {i}'                               # Layer number\n",
    "        )\n",
    "        traces.append(trace)\n",
    "\n",
    "    # Create the plot layout\n",
    "    layout = go.Layout(\n",
    "        title='Temperature of Each Layer Over Time',\n",
    "        xaxis=dict(title='Time Step'),\n",
    "        yaxis=dict(title='Temperature'),\n",
    "    )\n",
    "\n",
    "    # Create the figure and plot it\n",
    "    fig = go.Figure(data=traces, layout=layout)\n",
    "    fig.show()\n",
    "\n",
    "\n",
    "\n",
    "############### \n",
    "            \n",
    "# initial temperature in the tank for each layer\n",
    "# lenght of the selected T_zero defines the number of layers    \n",
    "T_1 = np.array([10, 10, 10, 10, 10, 90, 90, 90, 90, 90]) \n",
    "T_2 = np.array([10, 20, 30, 60, 50, 90, 30, 0, 15, 20])\n",
    "T_3 = [100, 80, 50, 60, 20, 50, 10, 20, 50, 80]\n",
    "T_4 = np.array([100, 90, 80 ,70, 60, 50, 40, 30, 20, 10])\n",
    "T_5 = [100, 10, 80 ,200, 60, 70, -10, 30, -10, 10]\n",
    "T_6 = np.array([100, 100, 100, 100, 100, 100, 100, 100, 100, 100]) \n",
    "T_7 = np.array([65, 65, 65, 65, 65, 65, 65, 65, 65, 65]) # standard initial temperature\n",
    "T_8 = np.full(10, 40)\n",
    "\n",
    "T_a = 20                            # ambient temperature\n",
    "\n",
    "# tank description\n",
    "T_zero = T_8                        # initial temperature vector\n",
    "z = 2.099                               # height of the tank [m]\n",
    "dz = z / len(T_zero)                # height of the section (layer)\n",
    "d = 0.79                             # diameter of the cross section [m]\n",
    "P_i = np.pi * d                     # cross-sectional perimeter [m]\n",
    "A_i = np.pi * (d/2)**2              # cross-sectional area [m²]\n",
    "\n",
    "\n",
    "# material properties\n",
    "alpha = 0.000000146                 # heat diffusivity of the fluid [m²/s]\n",
    "rho = 998                           # density of the fluid [kg/m³]\n",
    "cp =  4186                          # heat capacity of the fluid [J/kgK]\n",
    "k_i = 0.5                           # thermal condunctance of the wall [W/m²K]\n",
    "\n",
    "# indirect heat\n",
    "lambda_i = (1/(A_i*rho*cp))         # coefficient of the input heat\n",
    "Qdot0 = np.array([0, 0, 0, 0, 0, 0, 0, 0, 0, 0])\n",
    "Qdot1 = np.array([0, 0, 0, 0, 0\n",
    "                  \n",
    "                  , 0, 0, 0, 0, 0])\n",
    "Qdot = Qdot1\n",
    "\n",
    "# direct heat\n",
    "phi_i = (1/(A_i*rho))\n",
    "mdot = np.array([0, 0, 0, 0, 0, 0, 0, 0, 0, 0])\n",
    "Tm = np.full(10,70)\n",
    "\n",
    "\n",
    "dt = 60                             # length of the time steps [s]\n",
    "num_steps = 10                    # number of time steps to be made\n",
    "\n",
    "\n",
    "# losses: Beta calculations\n",
    "beta_i = (P_i*k_i)/(rho * cp * A_i) # coefficient of heat losses through the wall of the tank [1/s]\n",
    "beta_top = (k_i/(rho * cp * dz))    # coefficient of heat losses through the ceiling of the tank [1/s]\n",
    "beta_bottom = (k_i/(rho * cp * dz)) # coefficient of heat losses through the ground of the tank [1/s]\n",
    "\n",
    "print(\"beta_i\", beta_i)\n",
    "print(\"beta_top\", beta_top)\n",
    "print(\"beta_bottom\", beta_bottom)\n",
    "\n",
    "qloss = 138.75\n",
    "Uwert = (qloss)/((P_i*z + 2*A_i)*(65-20))\n",
    "Uwert2 = (qloss)/((P_i*z + A_i)*(65-20))\n",
    "print(\"U-wert\", Uwert)\n",
    "print(\"U-wert2\", Uwert2)\n",
    "print(\"defined k_i\", k_i)\n",
    "\n",
    "tank_vector = HeatDistributionVector_model2(alpha, beta_i, beta_bottom, beta_top, lambda_i, phi_i, z, T_a, T_zero, dt, Qdot, mdot, Tm)\n",
    "stability = tank_vector.stability_check()\n",
    "\n",
    "if (stability == 0):\n",
    "    # Solve for the temperatures\n",
    "    final_temperature, results = tank_vector.vector_solve(num_steps)\n",
    "    # Plot the results\n",
    "    plot_results_height(results, tank_vector.heights)\n",
    "    #plot_results_time(results, tank_vector.heights, tank_vector.z)\n",
    "\n",
    "\n",
    "\n",
    "tank_vector1 = HeatDistributionVector_model1(alpha, beta_i, beta_bottom, beta_top, z, T_a, T_zero, dt)\n",
    "stability = tank_vector1.stability_check()\n",
    "\n",
    "if (stability == 0):\n",
    "    # Solve for the temperatures\n",
    "    final_temperature, results = tank_vector1.vector_solve(num_steps)\n",
    "    # Plot the results\n",
    "    plot_results_height(results, tank_vector1.heights)\n",
    "    #plot_results_time(results, tank_vector1.heights, tank_vector1.z)\n",
    "\n"
   ]
  },
  {
   "cell_type": "code",
   "execution_count": 7,
   "metadata": {},
   "outputs": [
    {
     "name": "stdout",
     "output_type": "stream",
     "text": [
      "                     flow1  temperature1  flow2  temperature2  qdot1\n",
      "2024-01-01 13:00:00    NaN           NaN    NaN           NaN    NaN\n",
      "2024-01-01 13:01:00    NaN           NaN    NaN           NaN    NaN\n",
      "2024-01-01 13:02:00    NaN           NaN    NaN           NaN    NaN\n",
      "2024-01-01 13:03:00    NaN           NaN    NaN           NaN    NaN\n",
      "2024-01-01 13:04:00    NaN           NaN    NaN           NaN    NaN\n",
      "...                    ...           ...    ...           ...    ...\n",
      "2024-01-01 14:36:00    NaN           NaN    NaN           NaN    NaN\n",
      "2024-01-01 14:37:00    NaN           NaN    NaN           NaN    NaN\n",
      "2024-01-01 14:38:00    NaN           NaN    NaN           NaN    NaN\n",
      "2024-01-01 14:39:00    NaN           NaN    NaN           NaN    NaN\n",
      "2024-01-01 14:40:00    NaN           NaN    NaN           NaN    NaN\n",
      "\n",
      "[101 rows x 5 columns]\n"
     ]
    }
   ],
   "source": [
    "import numpy as np\n",
    "import matplotlib.pyplot as plt\n",
    "import plotly.graph_objects as go\n",
    "import plotly.express as px\n",
    "\n",
    "import pandas as pd\n",
    "\n",
    "# Create datetime index with 1-minute intervals starting from 01.01.2024 at 13:00 hours\n",
    "start_time = pd.Timestamp('2024-01-01 13:00:00')\n",
    "end_time = start_time + pd.Timedelta(minutes=100)\n",
    "datetime_index = pd.date_range(start=start_time, end=end_time, freq='1Min')\n",
    "\n",
    "# Create DataFrame with datetime index\n",
    "df = pd.DataFrame(index=datetime_index)\n",
    "\n",
    "# Initialize columns with NaN values\n",
    "df['flow1'] = pd.Series([np.nan] * len(df), index=df.index)\n",
    "df['temperature1'] = pd.Series([np.nan] * len(df), index=df.index)\n",
    "df['flow2'] = pd.Series([np.nan] * len(df), index=df.index)\n",
    "df['temperature2'] = pd.Series([np.nan] * len(df), index=df.index)\n",
    "df['qdot1'] = pd.Series([np.nan] * len(df), index=df.index)\n",
    "\n",
    "# Fill the DataFrame according to specified conditions\n",
    "# Between 13:10 and 13:30, set flow1 = -0.2 and temperature1 = 10°C\n",
    "df.loc['2024-01-01 13:10:00':'2024-01-01 13:30:00', 'flow1'] = -0.2\n",
    "df.loc['2024-01-01 13:10:00':'2024-01-01 13:30:00', 'temperature1'] = 10\n",
    "\n",
    "# Between 13:10 and 13:30, set flow2 = 0.2 and temperature2 = 60°C\n",
    "df.loc['2024-01-01 13:10:00':'2024-01-01 13:30:00', 'flow2'] = 0.2\n",
    "df.loc['2024-01-01 13:10:00':'2024-01-01 13:30:00', 'temperature2'] = 60\n",
    "\n",
    "# Between 13:50 and 14:00, set qdot1 = 1000\n",
    "df.loc['2024-01-01 13:50:00':'2024-01-01 14:00:00', 'qdot1'] = 1000\n",
    "\n",
    "print(df)\n",
    "\n"
   ]
  },
  {
   "cell_type": "code",
   "execution_count": 8,
   "metadata": {},
   "outputs": [
    {
     "name": "stdout",
     "output_type": "stream",
     "text": [
      "beta_i 6.060007184986919e-07\n",
      "beta_top 5.702007713363108e-07\n",
      "beta_bottom 5.702007713363108e-07\n",
      "U-wert 0.49813500878057776\n",
      "U-wert2 0.5409748364462272\n",
      "defined k_i 0.5\n"
     ]
    },
    {
     "data": {
      "application/vnd.plotly.v1+json": {
       "config": {
        "plotlyServerURL": "https://plot.ly"
       },
       "data": [
        {
         "mode": "lines",
         "name": "Time Passed: 0 seconds",
         "type": "scatter",
         "x": [
          0.10495000000000002,
          0.3148500000000001,
          0.52475,
          0.7346500000000001,
          0.9445500000000001,
          1.1544500000000002,
          1.3643500000000004,
          1.5742500000000004,
          1.7841500000000003,
          1.9940500000000003
         ],
         "y": [
          40,
          40,
          40,
          40,
          40,
          40,
          40,
          40,
          40,
          40
         ]
        },
        {
         "mode": "lines",
         "name": "Time Passed: 60 seconds",
         "type": "scatter",
         "x": [
          0.10495000000000002,
          0.3148500000000001,
          0.52475,
          0.7346500000000001,
          0.9445500000000001,
          1.1544500000000002,
          1.3643500000000004,
          1.5742500000000004,
          1.7841500000000003,
          1.9940500000000003
         ],
         "y": [
          39.9985885582122,
          39.9992727991378,
          39.9992727991378,
          39.9992727991378,
          39.9992727991378,
          39.9992727991378,
          39.9992727991378,
          39.9992727991378,
          39.9992727991378,
          39.9985885582122
         ]
        },
        {
         "mode": "lines",
         "name": "Time Passed: 120 seconds",
         "type": "scatter",
         "x": [
          0.10495000000000002,
          0.3148500000000001,
          0.52475,
          0.7346500000000001,
          0.9445500000000001,
          1.1544500000000002,
          1.3643500000000004,
          1.5742500000000004,
          1.7841500000000003,
          1.9940500000000003
         ],
         "y": [
          39.997177352079575,
          39.998545488669876,
          39.998545624716655,
          39.998545624716655,
          39.998545624716655,
          39.998545624716655,
          39.998545624716655,
          39.998545624716655,
          39.998545488669876,
          39.997177352079575
         ]
        },
        {
         "mode": "lines",
         "name": "Time Passed: 180 seconds",
         "type": "scatter",
         "x": [
          0.10495000000000002,
          0.3148500000000001,
          0.52475,
          0.7346500000000001,
          0.9445500000000001,
          1.1544500000000002,
          1.3643500000000004,
          1.5742500000000004,
          1.7841500000000003,
          1.9940500000000003
         ],
         "y": [
          39.99576638151685,
          39.997818068695906,
          39.99781847670855,
          39.9978184767356,
          39.9978184767356,
          39.9978184767356,
          39.9978184767356,
          39.99781847670855,
          39.997818068695906,
          39.99576638151685
         ]
        },
        {
         "mode": "lines",
         "name": "Time Passed: 240 seconds",
         "type": "scatter",
         "x": [
          0.10495000000000002,
          0.3148500000000001,
          0.52475,
          0.7346500000000001,
          0.9445500000000001,
          1.1544500000000002,
          1.3643500000000004,
          1.5742500000000004,
          1.7841500000000003,
          1.9940500000000003
         ],
         "y": [
          39.99435564643879,
          39.99709053931551,
          39.997091355085516,
          39.99709135519368,
          39.99709135519368,
          39.99709135519368,
          39.99709135519368,
          39.997091355085516,
          39.99709053931551,
          39.99435564643879
         ]
        },
        {
         "mode": "lines",
         "name": "Time Passed: 300 seconds",
         "type": "scatter",
         "x": [
          0.10495000000000002,
          0.3148500000000001,
          0.52475,
          0.7346500000000001,
          0.9445500000000001,
          1.1544500000000002,
          1.3643500000000004,
          1.5742500000000004,
          1.7841500000000003,
          1.9940500000000003
         ],
         "y": [
          39.992945146760206,
          39.996362900628235,
          39.99636425981959,
          39.99636426008991,
          39.99636426008993,
          39.99636426008993,
          39.99636426008991,
          39.99636425981959,
          39.996362900628235,
          39.992945146760206
         ]
        },
        {
         "mode": "lines",
         "name": "Time Passed: 360 seconds",
         "type": "scatter",
         "x": [
          0.10495000000000002,
          0.3148500000000001,
          0.52475,
          0.7346500000000001,
          0.9445500000000001,
          1.1544500000000002,
          1.3643500000000004,
          1.5742500000000004,
          1.7841500000000003,
          1.9940500000000003
         ],
         "y": [
          39.99153488239594,
          39.99563515273357,
          39.995637190882874,
          39.99563719142332,
          39.9956371914234,
          39.9956371914234,
          39.99563719142332,
          39.995637190882874,
          39.99563515273357,
          39.99153488239594
         ]
        },
        {
         "mode": "lines",
         "name": "Time Passed: 420 seconds",
         "type": "scatter",
         "x": [
          0.10495000000000002,
          0.3148500000000001,
          0.52475,
          0.7346500000000001,
          0.9445500000000001,
          1.1544500000000002,
          1.3643500000000004,
          1.5742500000000004,
          1.7841500000000003,
          1.9940500000000003
         ],
         "y": [
          39.99012485326089,
          39.99490729573093,
          39.99491014824747,
          39.994910149192926,
          39.99491014919311,
          39.99491014919311,
          39.994910149192926,
          39.99491014824747,
          39.99490729573093,
          39.99012485326089
         ]
        },
        {
         "mode": "lines",
         "name": "Time Passed: 480 seconds",
         "type": "scatter",
         "x": [
          0.10495000000000002,
          0.3148500000000001,
          0.52475,
          0.7346500000000001,
          0.9445500000000001,
          1.1544500000000002,
          1.3643500000000004,
          1.5742500000000004,
          1.7841500000000003,
          1.9940500000000003
         ],
         "y": [
          39.988715059269985,
          39.994179329719685,
          39.99418313188553,
          39.99418313339773,
          39.99418313339811,
          39.99418313339811,
          39.99418313339773,
          39.99418313188553,
          39.994179329719685,
          39.988715059269985
         ]
        },
        {
         "mode": "lines",
         "name": "Time Passed: 540 seconds",
         "type": "scatter",
         "x": [
          0.10495000000000002,
          0.3148500000000001,
          0.52475,
          0.7346500000000001,
          0.9445500000000001,
          1.1544500000000002,
          1.3643500000000004,
          1.5742500000000004,
          1.7841500000000003,
          1.9940500000000003
         ],
         "y": [
          39.98730550033821,
          39.99345125479911,
          39.99345614176922,
          39.993456144036756,
          39.99345614403743,
          39.99345614403743,
          39.993456144036756,
          39.99345614176922,
          39.99345125479911,
          39.98730550033821
         ]
        },
        {
         "mode": "lines",
         "name": "Time Passed: 600 seconds",
         "type": "scatter",
         "x": [
          0.10495000000000002,
          0.3148500000000001,
          0.52475,
          0.7346500000000001,
          0.9445500000000001,
          1.1544500000000002,
          1.3643500000000004,
          1.5742500000000004,
          1.7841500000000003,
          1.9940500000000003
         ],
         "y": [
          39.98589617638058,
          39.99272307106843,
          39.99272917787077,
          39.99272918110899,
          39.992729181110114,
          39.992729181110114,
          39.99272918110899,
          39.99272917787077,
          39.99272307106843,
          39.98589617638058
         ]
        }
       ],
       "layout": {
        "template": {
         "data": {
          "bar": [
           {
            "error_x": {
             "color": "#2a3f5f"
            },
            "error_y": {
             "color": "#2a3f5f"
            },
            "marker": {
             "line": {
              "color": "#E5ECF6",
              "width": 0.5
             },
             "pattern": {
              "fillmode": "overlay",
              "size": 10,
              "solidity": 0.2
             }
            },
            "type": "bar"
           }
          ],
          "barpolar": [
           {
            "marker": {
             "line": {
              "color": "#E5ECF6",
              "width": 0.5
             },
             "pattern": {
              "fillmode": "overlay",
              "size": 10,
              "solidity": 0.2
             }
            },
            "type": "barpolar"
           }
          ],
          "carpet": [
           {
            "aaxis": {
             "endlinecolor": "#2a3f5f",
             "gridcolor": "white",
             "linecolor": "white",
             "minorgridcolor": "white",
             "startlinecolor": "#2a3f5f"
            },
            "baxis": {
             "endlinecolor": "#2a3f5f",
             "gridcolor": "white",
             "linecolor": "white",
             "minorgridcolor": "white",
             "startlinecolor": "#2a3f5f"
            },
            "type": "carpet"
           }
          ],
          "choropleth": [
           {
            "colorbar": {
             "outlinewidth": 0,
             "ticks": ""
            },
            "type": "choropleth"
           }
          ],
          "contour": [
           {
            "colorbar": {
             "outlinewidth": 0,
             "ticks": ""
            },
            "colorscale": [
             [
              0,
              "#0d0887"
             ],
             [
              0.1111111111111111,
              "#46039f"
             ],
             [
              0.2222222222222222,
              "#7201a8"
             ],
             [
              0.3333333333333333,
              "#9c179e"
             ],
             [
              0.4444444444444444,
              "#bd3786"
             ],
             [
              0.5555555555555556,
              "#d8576b"
             ],
             [
              0.6666666666666666,
              "#ed7953"
             ],
             [
              0.7777777777777778,
              "#fb9f3a"
             ],
             [
              0.8888888888888888,
              "#fdca26"
             ],
             [
              1,
              "#f0f921"
             ]
            ],
            "type": "contour"
           }
          ],
          "contourcarpet": [
           {
            "colorbar": {
             "outlinewidth": 0,
             "ticks": ""
            },
            "type": "contourcarpet"
           }
          ],
          "heatmap": [
           {
            "colorbar": {
             "outlinewidth": 0,
             "ticks": ""
            },
            "colorscale": [
             [
              0,
              "#0d0887"
             ],
             [
              0.1111111111111111,
              "#46039f"
             ],
             [
              0.2222222222222222,
              "#7201a8"
             ],
             [
              0.3333333333333333,
              "#9c179e"
             ],
             [
              0.4444444444444444,
              "#bd3786"
             ],
             [
              0.5555555555555556,
              "#d8576b"
             ],
             [
              0.6666666666666666,
              "#ed7953"
             ],
             [
              0.7777777777777778,
              "#fb9f3a"
             ],
             [
              0.8888888888888888,
              "#fdca26"
             ],
             [
              1,
              "#f0f921"
             ]
            ],
            "type": "heatmap"
           }
          ],
          "heatmapgl": [
           {
            "colorbar": {
             "outlinewidth": 0,
             "ticks": ""
            },
            "colorscale": [
             [
              0,
              "#0d0887"
             ],
             [
              0.1111111111111111,
              "#46039f"
             ],
             [
              0.2222222222222222,
              "#7201a8"
             ],
             [
              0.3333333333333333,
              "#9c179e"
             ],
             [
              0.4444444444444444,
              "#bd3786"
             ],
             [
              0.5555555555555556,
              "#d8576b"
             ],
             [
              0.6666666666666666,
              "#ed7953"
             ],
             [
              0.7777777777777778,
              "#fb9f3a"
             ],
             [
              0.8888888888888888,
              "#fdca26"
             ],
             [
              1,
              "#f0f921"
             ]
            ],
            "type": "heatmapgl"
           }
          ],
          "histogram": [
           {
            "marker": {
             "pattern": {
              "fillmode": "overlay",
              "size": 10,
              "solidity": 0.2
             }
            },
            "type": "histogram"
           }
          ],
          "histogram2d": [
           {
            "colorbar": {
             "outlinewidth": 0,
             "ticks": ""
            },
            "colorscale": [
             [
              0,
              "#0d0887"
             ],
             [
              0.1111111111111111,
              "#46039f"
             ],
             [
              0.2222222222222222,
              "#7201a8"
             ],
             [
              0.3333333333333333,
              "#9c179e"
             ],
             [
              0.4444444444444444,
              "#bd3786"
             ],
             [
              0.5555555555555556,
              "#d8576b"
             ],
             [
              0.6666666666666666,
              "#ed7953"
             ],
             [
              0.7777777777777778,
              "#fb9f3a"
             ],
             [
              0.8888888888888888,
              "#fdca26"
             ],
             [
              1,
              "#f0f921"
             ]
            ],
            "type": "histogram2d"
           }
          ],
          "histogram2dcontour": [
           {
            "colorbar": {
             "outlinewidth": 0,
             "ticks": ""
            },
            "colorscale": [
             [
              0,
              "#0d0887"
             ],
             [
              0.1111111111111111,
              "#46039f"
             ],
             [
              0.2222222222222222,
              "#7201a8"
             ],
             [
              0.3333333333333333,
              "#9c179e"
             ],
             [
              0.4444444444444444,
              "#bd3786"
             ],
             [
              0.5555555555555556,
              "#d8576b"
             ],
             [
              0.6666666666666666,
              "#ed7953"
             ],
             [
              0.7777777777777778,
              "#fb9f3a"
             ],
             [
              0.8888888888888888,
              "#fdca26"
             ],
             [
              1,
              "#f0f921"
             ]
            ],
            "type": "histogram2dcontour"
           }
          ],
          "mesh3d": [
           {
            "colorbar": {
             "outlinewidth": 0,
             "ticks": ""
            },
            "type": "mesh3d"
           }
          ],
          "parcoords": [
           {
            "line": {
             "colorbar": {
              "outlinewidth": 0,
              "ticks": ""
             }
            },
            "type": "parcoords"
           }
          ],
          "pie": [
           {
            "automargin": true,
            "type": "pie"
           }
          ],
          "scatter": [
           {
            "fillpattern": {
             "fillmode": "overlay",
             "size": 10,
             "solidity": 0.2
            },
            "type": "scatter"
           }
          ],
          "scatter3d": [
           {
            "line": {
             "colorbar": {
              "outlinewidth": 0,
              "ticks": ""
             }
            },
            "marker": {
             "colorbar": {
              "outlinewidth": 0,
              "ticks": ""
             }
            },
            "type": "scatter3d"
           }
          ],
          "scattercarpet": [
           {
            "marker": {
             "colorbar": {
              "outlinewidth": 0,
              "ticks": ""
             }
            },
            "type": "scattercarpet"
           }
          ],
          "scattergeo": [
           {
            "marker": {
             "colorbar": {
              "outlinewidth": 0,
              "ticks": ""
             }
            },
            "type": "scattergeo"
           }
          ],
          "scattergl": [
           {
            "marker": {
             "colorbar": {
              "outlinewidth": 0,
              "ticks": ""
             }
            },
            "type": "scattergl"
           }
          ],
          "scattermapbox": [
           {
            "marker": {
             "colorbar": {
              "outlinewidth": 0,
              "ticks": ""
             }
            },
            "type": "scattermapbox"
           }
          ],
          "scatterpolar": [
           {
            "marker": {
             "colorbar": {
              "outlinewidth": 0,
              "ticks": ""
             }
            },
            "type": "scatterpolar"
           }
          ],
          "scatterpolargl": [
           {
            "marker": {
             "colorbar": {
              "outlinewidth": 0,
              "ticks": ""
             }
            },
            "type": "scatterpolargl"
           }
          ],
          "scatterternary": [
           {
            "marker": {
             "colorbar": {
              "outlinewidth": 0,
              "ticks": ""
             }
            },
            "type": "scatterternary"
           }
          ],
          "surface": [
           {
            "colorbar": {
             "outlinewidth": 0,
             "ticks": ""
            },
            "colorscale": [
             [
              0,
              "#0d0887"
             ],
             [
              0.1111111111111111,
              "#46039f"
             ],
             [
              0.2222222222222222,
              "#7201a8"
             ],
             [
              0.3333333333333333,
              "#9c179e"
             ],
             [
              0.4444444444444444,
              "#bd3786"
             ],
             [
              0.5555555555555556,
              "#d8576b"
             ],
             [
              0.6666666666666666,
              "#ed7953"
             ],
             [
              0.7777777777777778,
              "#fb9f3a"
             ],
             [
              0.8888888888888888,
              "#fdca26"
             ],
             [
              1,
              "#f0f921"
             ]
            ],
            "type": "surface"
           }
          ],
          "table": [
           {
            "cells": {
             "fill": {
              "color": "#EBF0F8"
             },
             "line": {
              "color": "white"
             }
            },
            "header": {
             "fill": {
              "color": "#C8D4E3"
             },
             "line": {
              "color": "white"
             }
            },
            "type": "table"
           }
          ]
         },
         "layout": {
          "annotationdefaults": {
           "arrowcolor": "#2a3f5f",
           "arrowhead": 0,
           "arrowwidth": 1
          },
          "autotypenumbers": "strict",
          "coloraxis": {
           "colorbar": {
            "outlinewidth": 0,
            "ticks": ""
           }
          },
          "colorscale": {
           "diverging": [
            [
             0,
             "#8e0152"
            ],
            [
             0.1,
             "#c51b7d"
            ],
            [
             0.2,
             "#de77ae"
            ],
            [
             0.3,
             "#f1b6da"
            ],
            [
             0.4,
             "#fde0ef"
            ],
            [
             0.5,
             "#f7f7f7"
            ],
            [
             0.6,
             "#e6f5d0"
            ],
            [
             0.7,
             "#b8e186"
            ],
            [
             0.8,
             "#7fbc41"
            ],
            [
             0.9,
             "#4d9221"
            ],
            [
             1,
             "#276419"
            ]
           ],
           "sequential": [
            [
             0,
             "#0d0887"
            ],
            [
             0.1111111111111111,
             "#46039f"
            ],
            [
             0.2222222222222222,
             "#7201a8"
            ],
            [
             0.3333333333333333,
             "#9c179e"
            ],
            [
             0.4444444444444444,
             "#bd3786"
            ],
            [
             0.5555555555555556,
             "#d8576b"
            ],
            [
             0.6666666666666666,
             "#ed7953"
            ],
            [
             0.7777777777777778,
             "#fb9f3a"
            ],
            [
             0.8888888888888888,
             "#fdca26"
            ],
            [
             1,
             "#f0f921"
            ]
           ],
           "sequentialminus": [
            [
             0,
             "#0d0887"
            ],
            [
             0.1111111111111111,
             "#46039f"
            ],
            [
             0.2222222222222222,
             "#7201a8"
            ],
            [
             0.3333333333333333,
             "#9c179e"
            ],
            [
             0.4444444444444444,
             "#bd3786"
            ],
            [
             0.5555555555555556,
             "#d8576b"
            ],
            [
             0.6666666666666666,
             "#ed7953"
            ],
            [
             0.7777777777777778,
             "#fb9f3a"
            ],
            [
             0.8888888888888888,
             "#fdca26"
            ],
            [
             1,
             "#f0f921"
            ]
           ]
          },
          "colorway": [
           "#636efa",
           "#EF553B",
           "#00cc96",
           "#ab63fa",
           "#FFA15A",
           "#19d3f3",
           "#FF6692",
           "#B6E880",
           "#FF97FF",
           "#FECB52"
          ],
          "font": {
           "color": "#2a3f5f"
          },
          "geo": {
           "bgcolor": "white",
           "lakecolor": "white",
           "landcolor": "#E5ECF6",
           "showlakes": true,
           "showland": true,
           "subunitcolor": "white"
          },
          "hoverlabel": {
           "align": "left"
          },
          "hovermode": "closest",
          "mapbox": {
           "style": "light"
          },
          "paper_bgcolor": "white",
          "plot_bgcolor": "#E5ECF6",
          "polar": {
           "angularaxis": {
            "gridcolor": "white",
            "linecolor": "white",
            "ticks": ""
           },
           "bgcolor": "#E5ECF6",
           "radialaxis": {
            "gridcolor": "white",
            "linecolor": "white",
            "ticks": ""
           }
          },
          "scene": {
           "xaxis": {
            "backgroundcolor": "#E5ECF6",
            "gridcolor": "white",
            "gridwidth": 2,
            "linecolor": "white",
            "showbackground": true,
            "ticks": "",
            "zerolinecolor": "white"
           },
           "yaxis": {
            "backgroundcolor": "#E5ECF6",
            "gridcolor": "white",
            "gridwidth": 2,
            "linecolor": "white",
            "showbackground": true,
            "ticks": "",
            "zerolinecolor": "white"
           },
           "zaxis": {
            "backgroundcolor": "#E5ECF6",
            "gridcolor": "white",
            "gridwidth": 2,
            "linecolor": "white",
            "showbackground": true,
            "ticks": "",
            "zerolinecolor": "white"
           }
          },
          "shapedefaults": {
           "line": {
            "color": "#2a3f5f"
           }
          },
          "ternary": {
           "aaxis": {
            "gridcolor": "white",
            "linecolor": "white",
            "ticks": ""
           },
           "baxis": {
            "gridcolor": "white",
            "linecolor": "white",
            "ticks": ""
           },
           "bgcolor": "#E5ECF6",
           "caxis": {
            "gridcolor": "white",
            "linecolor": "white",
            "ticks": ""
           }
          },
          "title": {
           "x": 0.05
          },
          "xaxis": {
           "automargin": true,
           "gridcolor": "white",
           "linecolor": "white",
           "ticks": "",
           "title": {
            "standoff": 15
           },
           "zerolinecolor": "white",
           "zerolinewidth": 2
          },
          "yaxis": {
           "automargin": true,
           "gridcolor": "white",
           "linecolor": "white",
           "ticks": "",
           "title": {
            "standoff": 15
           },
           "zerolinecolor": "white",
           "zerolinewidth": 2
          }
         }
        },
        "title": {
         "text": "Temperature Distribution Over Tank Height and Over Time"
        },
        "xaxis": {
         "range": [
          0,
          2.099
         ],
         "title": {
          "text": "Height"
         }
        },
        "yaxis": {
         "title": {
          "text": "Temperature"
         }
        }
       }
      }
     },
     "metadata": {},
     "output_type": "display_data"
    },
    {
     "data": {
      "application/vnd.plotly.v1+json": {
       "config": {
        "plotlyServerURL": "https://plot.ly"
       },
       "data": [
        {
         "mode": "lines",
         "name": "Time Passed: 0 seconds",
         "type": "scatter",
         "x": [
          0.10495000000000002,
          0.3148500000000001,
          0.52475,
          0.7346500000000001,
          0.9445500000000001,
          1.1544500000000002,
          1.3643500000000004,
          1.5742500000000004,
          1.7841500000000003,
          1.9940500000000003
         ],
         "y": [
          40,
          40,
          40,
          40,
          40,
          40,
          40,
          40,
          40,
          40
         ]
        },
        {
         "mode": "lines",
         "name": "Time Passed: 60 seconds",
         "type": "scatter",
         "x": [
          0.10495000000000002,
          0.3148500000000001,
          0.52475,
          0.7346500000000001,
          0.9445500000000001,
          1.1544500000000002,
          1.3643500000000004,
          1.5742500000000004,
          1.7841500000000003,
          1.9940500000000003
         ],
         "y": [
          39.9985885582122,
          39.9992727991378,
          39.9992727991378,
          39.9992727991378,
          39.9992727991378,
          39.9992727991378,
          39.9992727991378,
          39.9992727991378,
          39.9992727991378,
          39.9985885582122
         ]
        },
        {
         "mode": "lines",
         "name": "Time Passed: 120 seconds",
         "type": "scatter",
         "x": [
          0.10495000000000002,
          0.3148500000000001,
          0.52475,
          0.7346500000000001,
          0.9445500000000001,
          1.1544500000000002,
          1.3643500000000004,
          1.5742500000000004,
          1.7841500000000003,
          1.9940500000000003
         ],
         "y": [
          39.997177352079575,
          39.998545488669876,
          39.998545624716655,
          39.998545624716655,
          39.998545624716655,
          39.998545624716655,
          39.998545624716655,
          39.998545624716655,
          39.998545488669876,
          39.997177352079575
         ]
        },
        {
         "mode": "lines",
         "name": "Time Passed: 180 seconds",
         "type": "scatter",
         "x": [
          0.10495000000000002,
          0.3148500000000001,
          0.52475,
          0.7346500000000001,
          0.9445500000000001,
          1.1544500000000002,
          1.3643500000000004,
          1.5742500000000004,
          1.7841500000000003,
          1.9940500000000003
         ],
         "y": [
          39.99576638151685,
          39.997818068695906,
          39.99781847670855,
          39.9978184767356,
          39.9978184767356,
          39.9978184767356,
          39.9978184767356,
          39.99781847670855,
          39.997818068695906,
          39.99576638151685
         ]
        },
        {
         "mode": "lines",
         "name": "Time Passed: 240 seconds",
         "type": "scatter",
         "x": [
          0.10495000000000002,
          0.3148500000000001,
          0.52475,
          0.7346500000000001,
          0.9445500000000001,
          1.1544500000000002,
          1.3643500000000004,
          1.5742500000000004,
          1.7841500000000003,
          1.9940500000000003
         ],
         "y": [
          39.99435564643879,
          39.99709053931551,
          39.997091355085516,
          39.99709135519368,
          39.99709135519368,
          39.99709135519368,
          39.99709135519368,
          39.997091355085516,
          39.99709053931551,
          39.99435564643879
         ]
        },
        {
         "mode": "lines",
         "name": "Time Passed: 300 seconds",
         "type": "scatter",
         "x": [
          0.10495000000000002,
          0.3148500000000001,
          0.52475,
          0.7346500000000001,
          0.9445500000000001,
          1.1544500000000002,
          1.3643500000000004,
          1.5742500000000004,
          1.7841500000000003,
          1.9940500000000003
         ],
         "y": [
          39.992945146760206,
          39.996362900628235,
          39.99636425981959,
          39.99636426008991,
          39.99636426008993,
          39.99636426008993,
          39.99636426008991,
          39.99636425981959,
          39.996362900628235,
          39.992945146760206
         ]
        },
        {
         "mode": "lines",
         "name": "Time Passed: 360 seconds",
         "type": "scatter",
         "x": [
          0.10495000000000002,
          0.3148500000000001,
          0.52475,
          0.7346500000000001,
          0.9445500000000001,
          1.1544500000000002,
          1.3643500000000004,
          1.5742500000000004,
          1.7841500000000003,
          1.9940500000000003
         ],
         "y": [
          39.99153488239594,
          39.99563515273357,
          39.995637190882874,
          39.99563719142332,
          39.9956371914234,
          39.9956371914234,
          39.99563719142332,
          39.995637190882874,
          39.99563515273357,
          39.99153488239594
         ]
        },
        {
         "mode": "lines",
         "name": "Time Passed: 420 seconds",
         "type": "scatter",
         "x": [
          0.10495000000000002,
          0.3148500000000001,
          0.52475,
          0.7346500000000001,
          0.9445500000000001,
          1.1544500000000002,
          1.3643500000000004,
          1.5742500000000004,
          1.7841500000000003,
          1.9940500000000003
         ],
         "y": [
          39.99012485326089,
          39.99490729573093,
          39.99491014824747,
          39.994910149192926,
          39.99491014919311,
          39.99491014919311,
          39.994910149192926,
          39.99491014824747,
          39.99490729573093,
          39.99012485326089
         ]
        },
        {
         "mode": "lines",
         "name": "Time Passed: 480 seconds",
         "type": "scatter",
         "x": [
          0.10495000000000002,
          0.3148500000000001,
          0.52475,
          0.7346500000000001,
          0.9445500000000001,
          1.1544500000000002,
          1.3643500000000004,
          1.5742500000000004,
          1.7841500000000003,
          1.9940500000000003
         ],
         "y": [
          39.988715059269985,
          39.994179329719685,
          39.99418313188553,
          39.99418313339773,
          39.99418313339811,
          39.99418313339811,
          39.99418313339773,
          39.99418313188553,
          39.994179329719685,
          39.988715059269985
         ]
        },
        {
         "mode": "lines",
         "name": "Time Passed: 540 seconds",
         "type": "scatter",
         "x": [
          0.10495000000000002,
          0.3148500000000001,
          0.52475,
          0.7346500000000001,
          0.9445500000000001,
          1.1544500000000002,
          1.3643500000000004,
          1.5742500000000004,
          1.7841500000000003,
          1.9940500000000003
         ],
         "y": [
          39.98730550033821,
          39.99345125479911,
          39.99345614176922,
          39.993456144036756,
          39.99345614403743,
          39.99345614403743,
          39.993456144036756,
          39.99345614176922,
          39.99345125479911,
          39.98730550033821
         ]
        },
        {
         "mode": "lines",
         "name": "Time Passed: 600 seconds",
         "type": "scatter",
         "x": [
          0.10495000000000002,
          0.3148500000000001,
          0.52475,
          0.7346500000000001,
          0.9445500000000001,
          1.1544500000000002,
          1.3643500000000004,
          1.5742500000000004,
          1.7841500000000003,
          1.9940500000000003
         ],
         "y": [
          39.98589617638058,
          39.99272307106843,
          39.99272917787077,
          39.99272918110899,
          39.992729181110114,
          39.992729181110114,
          39.99272918110899,
          39.99272917787077,
          39.99272307106843,
          39.98589617638058
         ]
        }
       ],
       "layout": {
        "template": {
         "data": {
          "bar": [
           {
            "error_x": {
             "color": "#2a3f5f"
            },
            "error_y": {
             "color": "#2a3f5f"
            },
            "marker": {
             "line": {
              "color": "#E5ECF6",
              "width": 0.5
             },
             "pattern": {
              "fillmode": "overlay",
              "size": 10,
              "solidity": 0.2
             }
            },
            "type": "bar"
           }
          ],
          "barpolar": [
           {
            "marker": {
             "line": {
              "color": "#E5ECF6",
              "width": 0.5
             },
             "pattern": {
              "fillmode": "overlay",
              "size": 10,
              "solidity": 0.2
             }
            },
            "type": "barpolar"
           }
          ],
          "carpet": [
           {
            "aaxis": {
             "endlinecolor": "#2a3f5f",
             "gridcolor": "white",
             "linecolor": "white",
             "minorgridcolor": "white",
             "startlinecolor": "#2a3f5f"
            },
            "baxis": {
             "endlinecolor": "#2a3f5f",
             "gridcolor": "white",
             "linecolor": "white",
             "minorgridcolor": "white",
             "startlinecolor": "#2a3f5f"
            },
            "type": "carpet"
           }
          ],
          "choropleth": [
           {
            "colorbar": {
             "outlinewidth": 0,
             "ticks": ""
            },
            "type": "choropleth"
           }
          ],
          "contour": [
           {
            "colorbar": {
             "outlinewidth": 0,
             "ticks": ""
            },
            "colorscale": [
             [
              0,
              "#0d0887"
             ],
             [
              0.1111111111111111,
              "#46039f"
             ],
             [
              0.2222222222222222,
              "#7201a8"
             ],
             [
              0.3333333333333333,
              "#9c179e"
             ],
             [
              0.4444444444444444,
              "#bd3786"
             ],
             [
              0.5555555555555556,
              "#d8576b"
             ],
             [
              0.6666666666666666,
              "#ed7953"
             ],
             [
              0.7777777777777778,
              "#fb9f3a"
             ],
             [
              0.8888888888888888,
              "#fdca26"
             ],
             [
              1,
              "#f0f921"
             ]
            ],
            "type": "contour"
           }
          ],
          "contourcarpet": [
           {
            "colorbar": {
             "outlinewidth": 0,
             "ticks": ""
            },
            "type": "contourcarpet"
           }
          ],
          "heatmap": [
           {
            "colorbar": {
             "outlinewidth": 0,
             "ticks": ""
            },
            "colorscale": [
             [
              0,
              "#0d0887"
             ],
             [
              0.1111111111111111,
              "#46039f"
             ],
             [
              0.2222222222222222,
              "#7201a8"
             ],
             [
              0.3333333333333333,
              "#9c179e"
             ],
             [
              0.4444444444444444,
              "#bd3786"
             ],
             [
              0.5555555555555556,
              "#d8576b"
             ],
             [
              0.6666666666666666,
              "#ed7953"
             ],
             [
              0.7777777777777778,
              "#fb9f3a"
             ],
             [
              0.8888888888888888,
              "#fdca26"
             ],
             [
              1,
              "#f0f921"
             ]
            ],
            "type": "heatmap"
           }
          ],
          "heatmapgl": [
           {
            "colorbar": {
             "outlinewidth": 0,
             "ticks": ""
            },
            "colorscale": [
             [
              0,
              "#0d0887"
             ],
             [
              0.1111111111111111,
              "#46039f"
             ],
             [
              0.2222222222222222,
              "#7201a8"
             ],
             [
              0.3333333333333333,
              "#9c179e"
             ],
             [
              0.4444444444444444,
              "#bd3786"
             ],
             [
              0.5555555555555556,
              "#d8576b"
             ],
             [
              0.6666666666666666,
              "#ed7953"
             ],
             [
              0.7777777777777778,
              "#fb9f3a"
             ],
             [
              0.8888888888888888,
              "#fdca26"
             ],
             [
              1,
              "#f0f921"
             ]
            ],
            "type": "heatmapgl"
           }
          ],
          "histogram": [
           {
            "marker": {
             "pattern": {
              "fillmode": "overlay",
              "size": 10,
              "solidity": 0.2
             }
            },
            "type": "histogram"
           }
          ],
          "histogram2d": [
           {
            "colorbar": {
             "outlinewidth": 0,
             "ticks": ""
            },
            "colorscale": [
             [
              0,
              "#0d0887"
             ],
             [
              0.1111111111111111,
              "#46039f"
             ],
             [
              0.2222222222222222,
              "#7201a8"
             ],
             [
              0.3333333333333333,
              "#9c179e"
             ],
             [
              0.4444444444444444,
              "#bd3786"
             ],
             [
              0.5555555555555556,
              "#d8576b"
             ],
             [
              0.6666666666666666,
              "#ed7953"
             ],
             [
              0.7777777777777778,
              "#fb9f3a"
             ],
             [
              0.8888888888888888,
              "#fdca26"
             ],
             [
              1,
              "#f0f921"
             ]
            ],
            "type": "histogram2d"
           }
          ],
          "histogram2dcontour": [
           {
            "colorbar": {
             "outlinewidth": 0,
             "ticks": ""
            },
            "colorscale": [
             [
              0,
              "#0d0887"
             ],
             [
              0.1111111111111111,
              "#46039f"
             ],
             [
              0.2222222222222222,
              "#7201a8"
             ],
             [
              0.3333333333333333,
              "#9c179e"
             ],
             [
              0.4444444444444444,
              "#bd3786"
             ],
             [
              0.5555555555555556,
              "#d8576b"
             ],
             [
              0.6666666666666666,
              "#ed7953"
             ],
             [
              0.7777777777777778,
              "#fb9f3a"
             ],
             [
              0.8888888888888888,
              "#fdca26"
             ],
             [
              1,
              "#f0f921"
             ]
            ],
            "type": "histogram2dcontour"
           }
          ],
          "mesh3d": [
           {
            "colorbar": {
             "outlinewidth": 0,
             "ticks": ""
            },
            "type": "mesh3d"
           }
          ],
          "parcoords": [
           {
            "line": {
             "colorbar": {
              "outlinewidth": 0,
              "ticks": ""
             }
            },
            "type": "parcoords"
           }
          ],
          "pie": [
           {
            "automargin": true,
            "type": "pie"
           }
          ],
          "scatter": [
           {
            "fillpattern": {
             "fillmode": "overlay",
             "size": 10,
             "solidity": 0.2
            },
            "type": "scatter"
           }
          ],
          "scatter3d": [
           {
            "line": {
             "colorbar": {
              "outlinewidth": 0,
              "ticks": ""
             }
            },
            "marker": {
             "colorbar": {
              "outlinewidth": 0,
              "ticks": ""
             }
            },
            "type": "scatter3d"
           }
          ],
          "scattercarpet": [
           {
            "marker": {
             "colorbar": {
              "outlinewidth": 0,
              "ticks": ""
             }
            },
            "type": "scattercarpet"
           }
          ],
          "scattergeo": [
           {
            "marker": {
             "colorbar": {
              "outlinewidth": 0,
              "ticks": ""
             }
            },
            "type": "scattergeo"
           }
          ],
          "scattergl": [
           {
            "marker": {
             "colorbar": {
              "outlinewidth": 0,
              "ticks": ""
             }
            },
            "type": "scattergl"
           }
          ],
          "scattermapbox": [
           {
            "marker": {
             "colorbar": {
              "outlinewidth": 0,
              "ticks": ""
             }
            },
            "type": "scattermapbox"
           }
          ],
          "scatterpolar": [
           {
            "marker": {
             "colorbar": {
              "outlinewidth": 0,
              "ticks": ""
             }
            },
            "type": "scatterpolar"
           }
          ],
          "scatterpolargl": [
           {
            "marker": {
             "colorbar": {
              "outlinewidth": 0,
              "ticks": ""
             }
            },
            "type": "scatterpolargl"
           }
          ],
          "scatterternary": [
           {
            "marker": {
             "colorbar": {
              "outlinewidth": 0,
              "ticks": ""
             }
            },
            "type": "scatterternary"
           }
          ],
          "surface": [
           {
            "colorbar": {
             "outlinewidth": 0,
             "ticks": ""
            },
            "colorscale": [
             [
              0,
              "#0d0887"
             ],
             [
              0.1111111111111111,
              "#46039f"
             ],
             [
              0.2222222222222222,
              "#7201a8"
             ],
             [
              0.3333333333333333,
              "#9c179e"
             ],
             [
              0.4444444444444444,
              "#bd3786"
             ],
             [
              0.5555555555555556,
              "#d8576b"
             ],
             [
              0.6666666666666666,
              "#ed7953"
             ],
             [
              0.7777777777777778,
              "#fb9f3a"
             ],
             [
              0.8888888888888888,
              "#fdca26"
             ],
             [
              1,
              "#f0f921"
             ]
            ],
            "type": "surface"
           }
          ],
          "table": [
           {
            "cells": {
             "fill": {
              "color": "#EBF0F8"
             },
             "line": {
              "color": "white"
             }
            },
            "header": {
             "fill": {
              "color": "#C8D4E3"
             },
             "line": {
              "color": "white"
             }
            },
            "type": "table"
           }
          ]
         },
         "layout": {
          "annotationdefaults": {
           "arrowcolor": "#2a3f5f",
           "arrowhead": 0,
           "arrowwidth": 1
          },
          "autotypenumbers": "strict",
          "coloraxis": {
           "colorbar": {
            "outlinewidth": 0,
            "ticks": ""
           }
          },
          "colorscale": {
           "diverging": [
            [
             0,
             "#8e0152"
            ],
            [
             0.1,
             "#c51b7d"
            ],
            [
             0.2,
             "#de77ae"
            ],
            [
             0.3,
             "#f1b6da"
            ],
            [
             0.4,
             "#fde0ef"
            ],
            [
             0.5,
             "#f7f7f7"
            ],
            [
             0.6,
             "#e6f5d0"
            ],
            [
             0.7,
             "#b8e186"
            ],
            [
             0.8,
             "#7fbc41"
            ],
            [
             0.9,
             "#4d9221"
            ],
            [
             1,
             "#276419"
            ]
           ],
           "sequential": [
            [
             0,
             "#0d0887"
            ],
            [
             0.1111111111111111,
             "#46039f"
            ],
            [
             0.2222222222222222,
             "#7201a8"
            ],
            [
             0.3333333333333333,
             "#9c179e"
            ],
            [
             0.4444444444444444,
             "#bd3786"
            ],
            [
             0.5555555555555556,
             "#d8576b"
            ],
            [
             0.6666666666666666,
             "#ed7953"
            ],
            [
             0.7777777777777778,
             "#fb9f3a"
            ],
            [
             0.8888888888888888,
             "#fdca26"
            ],
            [
             1,
             "#f0f921"
            ]
           ],
           "sequentialminus": [
            [
             0,
             "#0d0887"
            ],
            [
             0.1111111111111111,
             "#46039f"
            ],
            [
             0.2222222222222222,
             "#7201a8"
            ],
            [
             0.3333333333333333,
             "#9c179e"
            ],
            [
             0.4444444444444444,
             "#bd3786"
            ],
            [
             0.5555555555555556,
             "#d8576b"
            ],
            [
             0.6666666666666666,
             "#ed7953"
            ],
            [
             0.7777777777777778,
             "#fb9f3a"
            ],
            [
             0.8888888888888888,
             "#fdca26"
            ],
            [
             1,
             "#f0f921"
            ]
           ]
          },
          "colorway": [
           "#636efa",
           "#EF553B",
           "#00cc96",
           "#ab63fa",
           "#FFA15A",
           "#19d3f3",
           "#FF6692",
           "#B6E880",
           "#FF97FF",
           "#FECB52"
          ],
          "font": {
           "color": "#2a3f5f"
          },
          "geo": {
           "bgcolor": "white",
           "lakecolor": "white",
           "landcolor": "#E5ECF6",
           "showlakes": true,
           "showland": true,
           "subunitcolor": "white"
          },
          "hoverlabel": {
           "align": "left"
          },
          "hovermode": "closest",
          "mapbox": {
           "style": "light"
          },
          "paper_bgcolor": "white",
          "plot_bgcolor": "#E5ECF6",
          "polar": {
           "angularaxis": {
            "gridcolor": "white",
            "linecolor": "white",
            "ticks": ""
           },
           "bgcolor": "#E5ECF6",
           "radialaxis": {
            "gridcolor": "white",
            "linecolor": "white",
            "ticks": ""
           }
          },
          "scene": {
           "xaxis": {
            "backgroundcolor": "#E5ECF6",
            "gridcolor": "white",
            "gridwidth": 2,
            "linecolor": "white",
            "showbackground": true,
            "ticks": "",
            "zerolinecolor": "white"
           },
           "yaxis": {
            "backgroundcolor": "#E5ECF6",
            "gridcolor": "white",
            "gridwidth": 2,
            "linecolor": "white",
            "showbackground": true,
            "ticks": "",
            "zerolinecolor": "white"
           },
           "zaxis": {
            "backgroundcolor": "#E5ECF6",
            "gridcolor": "white",
            "gridwidth": 2,
            "linecolor": "white",
            "showbackground": true,
            "ticks": "",
            "zerolinecolor": "white"
           }
          },
          "shapedefaults": {
           "line": {
            "color": "#2a3f5f"
           }
          },
          "ternary": {
           "aaxis": {
            "gridcolor": "white",
            "linecolor": "white",
            "ticks": ""
           },
           "baxis": {
            "gridcolor": "white",
            "linecolor": "white",
            "ticks": ""
           },
           "bgcolor": "#E5ECF6",
           "caxis": {
            "gridcolor": "white",
            "linecolor": "white",
            "ticks": ""
           }
          },
          "title": {
           "x": 0.05
          },
          "xaxis": {
           "automargin": true,
           "gridcolor": "white",
           "linecolor": "white",
           "ticks": "",
           "title": {
            "standoff": 15
           },
           "zerolinecolor": "white",
           "zerolinewidth": 2
          },
          "yaxis": {
           "automargin": true,
           "gridcolor": "white",
           "linecolor": "white",
           "ticks": "",
           "title": {
            "standoff": 15
           },
           "zerolinecolor": "white",
           "zerolinewidth": 2
          }
         }
        },
        "title": {
         "text": "Temperature Distribution Over Tank Height and Over Time"
        },
        "xaxis": {
         "range": [
          0,
          2.099
         ],
         "title": {
          "text": "Height"
         }
        },
        "yaxis": {
         "title": {
          "text": "Temperature"
         }
        }
       }
      }
     },
     "metadata": {},
     "output_type": "display_data"
    }
   ],
   "source": [
    "import numpy as np\n",
    "import matplotlib.pyplot as plt\n",
    "import plotly.graph_objects as go\n",
    "import plotly.express as px\n",
    "\n",
    "############### Definitons for the model\n",
    "class HeatDistributionVector_model2:\n",
    "    def __init__(self, alpha, beta_i, beta_bottom, beta_top, lambda_i, phi_i, z, T_a, T_initial, dt, Qdot, mdot, Tm):\n",
    "        self.alpha = alpha                           # heat diffusivity\n",
    "        self.beta_i = beta_i                         # heat loss coefficient to the ambient in the inner layers\n",
    "        self.beta_bottom = beta_bottom               # heat loss coefficient to the ambient at the bottom layer (i=0)\n",
    "        self.beta_top = beta_top                     # heat loss coefficient to the ambient at the top layer (i=-1)\n",
    "        self.lambda_i = lambda_i                     # coefficient of the input heat\n",
    "        self.phi_i = phi_i                           # coefficient of the input flow/stream\n",
    "        \n",
    "        self.z = z                                   # height of the tank\n",
    "        self.num_layers = len(T_initial)             # number of layers (steps in space)\n",
    "        self.dt = dt                                 # step size in time (time step)\n",
    "\n",
    "        self.T_initial = np.array(T_initial)         # initial state of the temperatures along the tank [list] !!! Same lenght as num_layers\n",
    "        self.T_a = T_a                               # ambient temperature outside of the tank\n",
    "        self.Qdot= Qdot                              # vector conaining the Q_i of each layer\n",
    "        self.mdot = mdot                             # vector conaining the streams flowing into /out of the tank mdot_i of each layer\n",
    "        self.Tm = Tm                                 # vector containing the temperatures of the streams flowing in/out of the tank (each mdot_i has a Tm_i)\n",
    "\n",
    "        \n",
    "        self.dz = z / self.num_layers                # step size in space (delta z, height of a layer) is total height/number of layers, num_layers = how big the initial temperature vector is\n",
    "        # Create a \n",
    "        self.heights = [i * self.dz + self.dz/2 for i in range(len(T_initial))]     # list representing the height of the tank for plotting the temperatures in the middle of each layer\n",
    "  \n",
    "\n",
    "\n",
    " # definition of the solver for the temperature vector in the next time step       \n",
    "    def vector_solve(self, num_steps):\n",
    "        T_old = np.copy(self.T_initial)\n",
    "        results = [T_old.copy()]                    # Store initial temperature array\n",
    "\n",
    "        for _ in range(num_steps):\n",
    "\n",
    "            T_new = np.copy(T_old)\n",
    "\n",
    "            T_old_next = np.roll(T_old, -1)         # roll every i by -1 so that the \"next\" i is selected\n",
    "            T_old_prev = np.roll(T_old, 1)          # roll every i by 1 so that the \"previous\" i is selected\n",
    "            \n",
    "            # Apply heat transfer equation for model 0\n",
    "            T_new = (T_old\n",
    "                      + (((self.alpha) * (T_old_next - (2*T_old) + T_old_prev) / (self.dz**2))  # diffusion between layers\n",
    "                      + (self.beta_i * (self.T_a - T_old))                                      # losses to the ambient\n",
    "                      + ((self.lambda_i/self.dz) * self.Qdot)                                   # indirect heat input (heat exchanger)\n",
    "                      + ((self.phi_i/self.dz) * self.mdot * (self.Tm - T_old))                  # direct heat input (stream)\n",
    "                      )* self.dt)\n",
    "            \n",
    "            # Boundary conditions\n",
    "            T_new[0] = (T_old[0]\n",
    "                         + (((self.alpha) * (T_old[1] - (2*T_old[0]) + T_old[0]) / (self.dz**2))\n",
    "                         + ((self.beta_i + self.beta_bottom) * (self.T_a - T_old[0]))\n",
    "                         + ((self.lambda_i/self.dz) * self.Qdot[0])\n",
    "                         + ((self.phi_i/self.dz) * self.mdot[0] * (self.Tm[0] - T_old[0]))  \n",
    "                         )* self.dt)        # heat loss through sides of the tank (beta_i) and through the floor (beta_bottom)\n",
    "            \n",
    "            T_new[-1] = (T_old[-1]\n",
    "                          + (((self.alpha) * (T_old[-1] - (2*T_old[-1]) + T_old[-2]) / (self.dz**2))\n",
    "                          + ((self.beta_i + self.beta_top)* (self.T_a - T_old[-1])) \n",
    "                          + ((self.lambda_i/self.dz) * self.Qdot[-1])\n",
    "                          + ((self.phi_i/self.dz) * self.mdot[-1] * (self.Tm[-1] - T_old[-1]))\n",
    "                          )* self.dt)       # heat loss through sides of the tank (beta_i) and through ceiling (beta_top)\n",
    "\n",
    "            T_old = np.copy(T_new) # return the new temperature as old temperature for the next iteration\n",
    "\n",
    "            results.append(T_old.copy())            # Store the updated temperature array fo later plot\n",
    "\n",
    "        return T_old, results\n",
    "     \n",
    " # check the stability of the model with the selected dt\n",
    "    def stability_check(self):\n",
    "        # check if the time step dt is small enough with CFL condition: dt <= (dz^2) / (2 * alpha)\n",
    "        cfl_dt_max = (self.dz ** 2) / (2 * self.alpha)\n",
    "        if self.dt > cfl_dt_max:\n",
    "            print(f\"Warning: Time step size dt {self.dt} exceeds CFL stability limit ({cfl_dt_max}).\")\n",
    "            sc = 1\n",
    "        else:\n",
    "            sc = 0\n",
    "        return sc\n",
    "    \n",
    "\n",
    "# Plot the layer temperatures over the height for different times\n",
    "def plot_results_height(results, heights):\n",
    "    # Create traces for each time step\n",
    "    traces = []\n",
    "    for i, temp_array in enumerate(results):            # results in [time x layers] -> enumerate gives all values of one row for one index (column) -> all layers (row) at one time\n",
    "        time_passed = dt * i                            # Calculate the time passed\n",
    "        trace = go.Scatter(\n",
    "            x=heights,                                      # X axis is the height of each layer\n",
    "            y=temp_array,                               # Y axis is the temperatures in each layer\n",
    "            mode='lines',\n",
    "            name=f'Time Passed: {time_passed} seconds'   # Use calculated time in legend\n",
    "        )\n",
    "        traces.append(trace)\n",
    "\n",
    "    # Create the plot layout\n",
    "    layout = go.Layout(\n",
    "        title='Temperature Distribution Over Tank Height and Over Time',\n",
    "        xaxis=dict(title='Height', range=[0, z]),\n",
    "        yaxis=dict(title='Temperature'),\n",
    "    )\n",
    "\n",
    "    # Create the figure and plot it\n",
    "    fig = go.Figure(data=traces, layout=layout)\n",
    "    fig.show()\n",
    "\n",
    "# Plot the layer temperatures over time\n",
    "def plot_results_time(results, heights, z):\n",
    "    # Create traces for each layer\n",
    "    traces = []\n",
    "    for i, temp_array in enumerate(np.array(results).T):  # Transpose the results array to iterate over layers -> [layers x time] -> row is the temperature over time of one sensor\n",
    "        time_passed = dt * i                            # Calculate the time passed\n",
    "        trace = go.Scatter(\n",
    "            x=np.arange(len(temp_array)),                 # X axis is the timeline (Time steps)\n",
    "            y=temp_array,                                 # Y axis is the temperature of all layers in each time step    \n",
    "            mode='lines',\n",
    "            name=f'Layer {i}'                               # Layer number\n",
    "        )\n",
    "        traces.append(trace)\n",
    "\n",
    "    # Create the plot layout\n",
    "    layout = go.Layout(\n",
    "        title='Temperature of Each Layer Over Time',\n",
    "        xaxis=dict(title='Time Step'),\n",
    "        yaxis=dict(title='Temperature'),\n",
    "    )\n",
    "\n",
    "    # Create the figure and plot it\n",
    "    fig = go.Figure(data=traces, layout=layout)\n",
    "    fig.show()\n",
    "\n",
    "\n",
    "\n",
    "############### \n",
    "            \n",
    "# initial temperature in the tank for each layer\n",
    "# lenght of the selected T_zero defines the number of layers    \n",
    "T_1 = np.array([10, 10, 10, 10, 10, 90, 90, 90, 90, 90]) \n",
    "T_2 = np.array([10, 20, 30, 60, 50, 90, 30, 0, 15, 20])\n",
    "T_3 = [100, 80, 50, 60, 20, 50, 10, 20, 50, 80]\n",
    "T_4 = np.array([100, 90, 80 ,70, 60, 50, 40, 30, 20, 10])\n",
    "T_5 = [100, 10, 80 ,200, 60, 70, -10, 30, -10, 10]\n",
    "T_6 = np.array([100, 100, 100, 100, 100, 100, 100, 100, 100, 100]) \n",
    "T_7 = np.array([65, 65, 65, 65, 65, 65, 65, 65, 65, 65]) # standard initial temperature\n",
    "T_8 = np.full(10, 40)\n",
    "\n",
    "T_a = 20                            # ambient temperature\n",
    "\n",
    "# tank description\n",
    "T_zero = T_8                        # initial temperature vector\n",
    "z = 2.099                               # height of the tank [m]\n",
    "dz = z / len(T_zero)                # height of the section (layer)\n",
    "d = 0.79                             # diameter of the cross section [m]\n",
    "P_i = np.pi * d                     # cross-sectional perimeter [m]\n",
    "A_i = np.pi * (d/2)**2              # cross-sectional area [m²]\n",
    "\n",
    "\n",
    "# material properties\n",
    "alpha = 0.000000146                 # heat diffusivity of the fluid [m²/s]\n",
    "rho = 998                           # density of the fluid [kg/m³]\n",
    "cp =  4186                          # heat capacity of the fluid [J/kgK]\n",
    "k_i = 0.5                           # thermal condunctance of the wall [W/m²K]\n",
    "\n",
    "# indirect heat\n",
    "lambda_i = (1/(A_i*rho*cp))         # coefficient of the input heat\n",
    "Qdot0 = np.array([0, 0, 0, 0, 0, 0, 0, 0, 0, 0])\n",
    "Qdot1 = np.array([0, 0, 0, 0, 0\n",
    "                  \n",
    "                  , 0, 0, 0, 0, 0])\n",
    "Qdot = Qdot1\n",
    "\n",
    "# direct heat\n",
    "phi_i = (1/(A_i*rho))\n",
    "mdot = np.array([0, 0, 0, 0, 0, 0, 0, 0, 0, 0])\n",
    "Tm = np.full(10,70)\n",
    "\n",
    "\n",
    "dt = 60                             # length of the time steps [s]\n",
    "num_steps = 10                    # number of time steps to be made\n",
    "\n",
    "\n",
    "# losses: Beta calculations\n",
    "beta_i = (P_i*k_i)/(rho * cp * A_i) # coefficient of heat losses through the wall of the tank [1/s]\n",
    "beta_top = (k_i/(rho * cp * dz))    # coefficient of heat losses through the ceiling of the tank [1/s]\n",
    "beta_bottom = (k_i/(rho * cp * dz)) # coefficient of heat losses through the ground of the tank [1/s]\n",
    "\n",
    "print(\"beta_i\", beta_i)\n",
    "print(\"beta_top\", beta_top)\n",
    "print(\"beta_bottom\", beta_bottom)\n",
    "\n",
    "qloss = 138.75\n",
    "Uwert = (qloss)/((P_i*z + 2*A_i)*(65-20))\n",
    "Uwert2 = (qloss)/((P_i*z + A_i)*(65-20))\n",
    "print(\"U-wert\", Uwert)\n",
    "print(\"U-wert2\", Uwert2)\n",
    "print(\"defined k_i\", k_i)\n",
    "\n",
    "tank_vector = HeatDistributionVector_model2(alpha, beta_i, beta_bottom, beta_top, lambda_i, phi_i, z, T_a, T_zero, dt, Qdot, mdot, Tm)\n",
    "stability = tank_vector.stability_check()\n",
    "\n",
    "if (stability == 0):\n",
    "    # Solve for the temperatures\n",
    "    final_temperature, results = tank_vector.vector_solve(num_steps)\n",
    "    # Plot the results\n",
    "    plot_results_height(results, tank_vector.heights)\n",
    "    #plot_results_time(results, tank_vector.heights, tank_vector.z)\n",
    "\n",
    "\n",
    "\n",
    "tank_vector1 = HeatDistributionVector_model1(alpha, beta_i, beta_bottom, beta_top, z, T_a, T_zero, dt)\n",
    "stability = tank_vector1.stability_check()\n",
    "\n",
    "if (stability == 0):\n",
    "    # Solve for the temperatures\n",
    "    final_temperature, results = tank_vector1.vector_solve(num_steps)\n",
    "    # Plot the results\n",
    "    plot_results_height(results, tank_vector1.heights)\n",
    "    #plot_results_time(results, tank_vector1.heights, tank_vector1.z)\n",
    "\n"
   ]
  }
 ],
 "metadata": {
  "kernelspec": {
   "display_name": "Python 3",
   "language": "python",
   "name": "python3"
  },
  "language_info": {
   "codemirror_mode": {
    "name": "ipython",
    "version": 3
   },
   "file_extension": ".py",
   "mimetype": "text/x-python",
   "name": "python",
   "nbconvert_exporter": "python",
   "pygments_lexer": "ipython3",
   "version": "3.11.9"
  }
 },
 "nbformat": 4,
 "nbformat_minor": 2
}

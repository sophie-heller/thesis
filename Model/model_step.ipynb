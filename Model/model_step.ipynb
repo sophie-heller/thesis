{
 "cells": [
  {
   "cell_type": "code",
   "execution_count": 24,
   "metadata": {},
   "outputs": [],
   "source": [
    "import numpy as np\n",
    "import matplotlib.pyplot as plt\n",
    "import plotly.graph_objects as go\n",
    "import plotly.express as px\n",
    "from scipy.special import expit\n",
    "\n"
   ]
  },
  {
   "cell_type": "code",
   "execution_count": 25,
   "metadata": {},
   "outputs": [],
   "source": [
    "## GENERAL FUNCTIONS\n",
    "\n",
    "##### definition of the logistic function\n",
    "def step(T1, T2):\n",
    "    T1 = np.asarray(T1)\n",
    "    T2 = np.asarray(T2)\n",
    "    \n",
    "    return np.where(T1 >= T2, 1, 0)\n",
    "\n",
    "\n",
    "def plot_results_time(results, dt, graph_title):\n",
    "    # Create traces for each layer\n",
    "    traces = []\n",
    "    for i, temp_array in enumerate(np.array(results).T):\n",
    "        time_passed = dt * np.arange(len(temp_array))  # Calculate the time passed for each time step\n",
    "        trace = go.Scatter(\n",
    "            x=time_passed,  # Use time_passed as x-axis values\n",
    "            y=temp_array,\n",
    "            mode='lines',\n",
    "            name=f'Layer {i}'\n",
    "        )\n",
    "        traces.append(trace)\n",
    "\n",
    "    # Create the plot layout\n",
    "    layout = go.Layout(\n",
    "        title=graph_title,\n",
    "        xaxis=dict(title='Time Passed (s)'),  # Update x-axis title\n",
    "        yaxis=dict(title='Temperature'),\n",
    "    )\n",
    "\n",
    "    # Create the figure and plot it\n",
    "    fig = go.Figure(data=traces, layout=layout)\n",
    "    fig.show()\n",
    "\n",
    "\n",
    "\n",
    "\n",
    "\n",
    "##### definition of plot: layer temperatures over the height for different times\n",
    "\n",
    "def plot_results_height(results, heights, dt, z, dz, graph_title):\n",
    "    # Create traces for each time step\n",
    "    traces = []\n",
    "    for i, temp_array in enumerate(results):\n",
    "        time_passed = dt * i\n",
    "        trace = go.Scatter(\n",
    "            x=heights,\n",
    "            y=temp_array,\n",
    "            mode='lines',\n",
    "            name=f'{time_passed} seconds'\n",
    "        )\n",
    "        traces.append(trace)\n",
    "        \n",
    "    # Create shapes for vertical dotted lines at intervals of dz\n",
    "    vertical_lines_x = list(np.arange(dz, z, dz))  # Adjusted range\n",
    "    shapes = [{\n",
    "        'type': 'line',\n",
    "        'x0': x,\n",
    "        'x1': x,\n",
    "        'y0': 0,\n",
    "        'y1': 1,\n",
    "        'xref': 'x',\n",
    "        'yref': 'paper',\n",
    "        'line': {\n",
    "            'color': 'grey',\n",
    "            'width': 1,\n",
    "            'dash': 'dot'\n",
    "        }\n",
    "    } for x in vertical_lines_x]\n",
    "    \n",
    "    # Create the plot layout\n",
    "    layout = go.Layout(\n",
    "        title=graph_title,\n",
    "        xaxis=dict(title='Height', range=[0, z]),  # Adjust x-axis range from 0 to z\n",
    "        yaxis=dict(title='Temperature'),\n",
    "        legend=dict(title='Time Passed'),\n",
    "        shapes=shapes\n",
    "    )\n",
    "\n",
    "    # Create the figure and plot it\n",
    "    fig = go.Figure(data=traces, layout=layout)\n",
    "    fig.show()"
   ]
  },
  {
   "cell_type": "markdown",
   "metadata": {},
   "source": [
    "### Model 5: Buoyancy through connected streams"
   ]
  },
  {
   "cell_type": "code",
   "execution_count": 26,
   "metadata": {},
   "outputs": [],
   "source": [
    "############### Definitons for the model 5a (charging - fast buoyancy direct)\n",
    "class HeatDistributionVector_model5a:\n",
    "    def __init__(self, alpha, beta_i, beta_bottom, beta_top, lambda_i, phi_i, z, T_a, T_initial, dt, Qdot_char, mdot_char, Tm_char):\n",
    "        \n",
    "        self.alpha = alpha                           # heat diffusivity\n",
    "        \n",
    "        self.beta_i = beta_i                         # heat loss coefficient to the ambient in the inner layers\n",
    "        self.beta_bottom = beta_bottom               # heat loss coefficient to the ambient at the bottom layer (i=0)\n",
    "        self.beta_top = beta_top                     # heat loss coefficient to the ambient at the top layer (i=-1)\n",
    "        \n",
    "        self.lambda_i = lambda_i                     # coefficient of the input heat\n",
    "        self.Qdot_char= Qdot_char                    # vector conaining the charging Q_i of each layer (>0)    \n",
    "        \n",
    "        self.phi_i = phi_i                           # coefficient of the input flow/stream\n",
    "        self.mdot_char = mdot_char                             # vector conaining the streams flowing into /out of the tank mdot_i of each layer\n",
    "        self.Tm_char = Tm_char                                 # vector containing the temperatures of the streams flowing in/out of the tank (each mdot_i has a Tm_i)\n",
    "\n",
    "        self.z = z                                   # height of the tank\n",
    "        self.num_layers = len(T_initial)             # number of layers (steps in space)\n",
    "        self.dz = z / self.num_layers                # step size in space (delta z, height of a layer) is total height/number of layers, num_layers = how big the initial temperature vector is\n",
    "        self.heights = [i * self.dz + self.dz/2 for i in range(len(T_initial))]     # list representing the height of the tank for plotting the temperatures in the middle of each layer\n",
    "\n",
    "        self.dt = dt                                 # step size in time (time step)\n",
    "\n",
    "        self.T_initial = np.array(T_initial)         # initial state of the temperatures along the tank [list] !!! Same lenght as num_layers\n",
    "        self.T_a = T_a                               # ambient temperature outside of the tank\n",
    "\n",
    "     \n",
    " # definition of the solver for the temperature vector in the next time step       \n",
    "    def vector_solve(self, num_steps):\n",
    "        T_old = np.copy(self.T_initial)\n",
    "        results = [T_old.copy()]                    # Store initial temperature array\n",
    "\n",
    "        for _ in range(num_steps):\n",
    "\n",
    "            T_new = np.copy(T_old)\n",
    "\n",
    "            T_old_next = np.roll(T_old, -1)         # roll every i by -1 so that the \"next\" i is selected\n",
    "            T_old_prev = np.roll(T_old, 1)          # roll every i by 1 so that the \"previous\" i is selected\n",
    "            \n",
    "            # DIRECT CHARGING OF LAYER i: Calculate Qdot_prime_char, the actual amount of heat transferred to layer i through heat exchange in and below layer i (due to buoyancy)\n",
    "            mdot_prime_char = np.zeros(self.num_layers)  # initiate vector with length like number of layers\n",
    "\n",
    "            for i in range(self.num_layers):                    # iterate over all layers to calculate the actual heat of each layer Qdot_prime_char[0, 1, 2...]\n",
    "                mdot_sum_char = 0                                    # initiale the sum factor for calculating Qdot_prime_charge i\n",
    "\n",
    "                for l in range(i+1):                            # iterate l from bottom layer (o) until current layer i (incl) to evaluate how heat inserted below in l affects layer i if buoyancy is present\n",
    "                    nom=0                                           # initialize nominator for inspection of heat in layer l in relationship to layer i\n",
    "                    den=0                                       # initialize denominator for inspection of heat in layer l in relationship to layer i\n",
    "\n",
    "                    nom= step(self.Tm_char[l], T_old[i]) * (self.Tm_char[l] - T_old[i])                # evaluate if heat transfer is available (1) or not (0) with Step ----- Tl>=Ti -> 1, layer below is hoter than i\n",
    "\n",
    "                    for j in range(l, self.num_layers):       # iterate over layers starting from l and above until top of tank to evaluate the share of heat in layer l (homogenous distribution)\n",
    "                        den += step(self.Tm_char[l], T_old[j])          # sum up to calculate the denominator and thus the share\n",
    "\n",
    "                    den = np.where(den == 0, 1, den)                  # prevent divisions by 0\n",
    "                    \n",
    "                    mdot_sum_char += self.mdot_char[l] * nom / den    # amount of heat transfered to layer i is the sum of all heat below layer i and its share that have buoyancy effects    \n",
    "                    \n",
    "                mdot_prime_char[i] = mdot_sum_char\n",
    "\n",
    "            # Apply heat transfer equation for model 0\n",
    "            T_new = (T_old\n",
    "                      + (((self.alpha) * (T_old_next - (2*T_old) + T_old_prev) / (self.dz**2))      # diffusion between layers\n",
    "                      + (self.beta_i * (self.T_a - T_old))                                          # losses to the ambient\n",
    "                     # + ((self.lambda_i/self.dz) * Qdot_prime_char)                                 # indirect heat charging including fast buoyancy of other layers\n",
    "                     # + ((self.lambda_i/self.dz) * Qdot_prime_dischar)                              # indirect heat discharging including fast buoyancy of other layers\n",
    "                      + ((self.phi_i/self.dz) * mdot_prime_char)                     # direct heat input (stream)\n",
    "                     # + ((self.phi_i/self.dz) * self.mdot * (self.Tm - T_old))                      # direct heat output (stream)\n",
    "                        ) * self.dt\n",
    "                     # + 0.5 * ((1/10) * np.logaddexp(0, 10 * (T_old_prev - T_old)))                 # slow buoyancy of the layer i-1 to i (temperature of i rises) [with np.log -> overflow encountered]\n",
    "                     # - 0.5 * ((1/10) * np.logaddexp(0, 10 * (T_old - T_old_next)))                 # slow buoyancy of the layer i to i+1 (temperature of i decreases) [with np.log -> overflow encountered]\n",
    "                      + 0.5 * ((1/10) * np.logaddexp(0, np.clip(10 * (T_old_prev - T_old), -709, 709)))                 # CLIPS for stability: slow buoyancy of the layer i-1 to i (temperature of i rises) [with np.log -> overflow encountered]\n",
    "                      - 0.5 * ((1/10) * np.logaddexp(0, np.clip(10 * (T_old - T_old_next), -709, 709)))                 # CLIPS for stability: slow buoyancy of the layer i to i+1 (temperature of i decreases) [with np.log -> overflow encountered]\n",
    "                    )\n",
    "            \n",
    "            ### Boundary conditions\n",
    "            # bottom of the tank\n",
    "            T_new[0] = (T_old[0]                                              \n",
    "                         + (((self.alpha) * (T_old[1] - (2*T_old[0]) + T_old[0]) / (self.dz**2))\n",
    "                         + ((self.beta_i + self.beta_bottom) * (self.T_a - T_old[0]))               # heat loss through sides of the tank (beta_i) and through the floor (beta_bottom)\n",
    "                         #+ ((self.lambda_i/self.dz) * Qdot_prime_char[0])\n",
    "                         + ((self.phi_i/self.dz) * mdot_prime_char[0])  \n",
    "                         )* self.dt\n",
    "                         - 0.5 * ((1/10) * np.logaddexp(0, np.clip(10 * (T_old[0] - T_old[1]), -709, 709)))  # slow buoyancy from the bottom layer to the above layer\n",
    "                         )        \n",
    "            \n",
    "            # top of the tank\n",
    "            T_new[-1] = (T_old[-1]                                                              \n",
    "                          + (((self.alpha) * (T_old[-1] - (2*T_old[-1]) + T_old[-2]) / (self.dz**2))\n",
    "                          + ((self.beta_i + self.beta_top)* (self.T_a - T_old[-1]))                 # heat loss through sides of the tank (beta_i) and through ceiling (beta_top)\n",
    "                         # + ((self.lambda_i/self.dz) * Qdot_prime_char[-1])\n",
    "                          + ((self.phi_i/self.dz) * mdot_prime_char[-1])\n",
    "                          )* self.dt\n",
    "                          + 0.5 * ((1/10) * np.logaddexp(0, np.clip(10 * (T_old[-2] - T_old[-1]), -709, 709)))  # slow buoyancy to the top layer from the below layer\n",
    "                          )       \n",
    "\n",
    "            T_old = np.copy(T_new) # return the new temperature as old temperature for the next iteration\n",
    "\n",
    "            results.append(T_old.copy())            # Store the updated temperature array fo later plot\n",
    "\n",
    "        return T_old, results\n",
    "     \n",
    " # check the stability of the model with the selected dt\n",
    "    def stability_check(self):\n",
    "        # check if the time step dt is small enough with CFL condition: dt <= (dz^2) / (2 * alpha)\n",
    "        cfl_dt_max = (self.dz ** 2) / (2 * self.alpha)\n",
    "        if self.dt > cfl_dt_max:\n",
    "            print(f\"Warning: Time step size dt {self.dt} exceeds CFL stability limit ({cfl_dt_max}).\")\n",
    "            sc = 1\n",
    "        else:\n",
    "            sc = 0\n",
    "        return sc\n",
    "    \n",
    "\n"
   ]
  },
  {
   "cell_type": "code",
   "execution_count": 30,
   "metadata": {},
   "outputs": [],
   "source": [
    "############### Definitons for the model 5b (discharging - fast buoyancy direct)\n",
    "class HeatDistributionVector_model5a:\n",
    "    def __init__(self, alpha, beta_i, beta_bottom, beta_top, lambda_i, phi_i, z, T_a, T_initial, dt, Qdot_char, mdot_dischar, Tm_dischar):\n",
    "        \n",
    "        self.alpha = alpha                           # heat diffusivity\n",
    "        \n",
    "        self.beta_i = beta_i                         # heat loss coefficient to the ambient in the inner layers\n",
    "        self.beta_bottom = beta_bottom               # heat loss coefficient to the ambient at the bottom layer (i=0)\n",
    "        self.beta_top = beta_top                     # heat loss coefficient to the ambient at the top layer (i=-1)\n",
    "        \n",
    "        self.lambda_i = lambda_i                     # coefficient of the input heat\n",
    "        self.Qdot_char= Qdot_char                    # vector conaining the charging Q_i of each layer (>0)    \n",
    "        \n",
    "        self.phi_i = phi_i                           # coefficient of the input flow/stream\n",
    "        self.mdot_dischar = mdot_dischar                             # vector conaining the streams flowing into /out of the tank mdot_i of each layer\n",
    "        self.Tm_dischar = Tm_dischar                                 # vector containing the temperatures of the streams flowing in/out of the tank (each mdot_i has a Tm_i)\n",
    "\n",
    "        self.z = z                                   # height of the tank\n",
    "        self.num_layers = len(T_initial)             # number of layers (steps in space)\n",
    "        self.dz = z / self.num_layers                # step size in space (delta z, height of a layer) is total height/number of layers, num_layers = how big the initial temperature vector is\n",
    "        self.heights = [i * self.dz + self.dz/2 for i in range(len(T_initial))]     # list representing the height of the tank for plotting the temperatures in the middle of each layer\n",
    "\n",
    "        self.dt = dt                                 # step size in time (time step)\n",
    "\n",
    "        self.T_initial = np.array(T_initial)         # initial state of the temperatures along the tank [list] !!! Same lenght as num_layers\n",
    "        self.T_a = T_a                               # ambient temperature outside of the tank\n",
    "\n",
    "     \n",
    " # definition of the solver for the temperature vector in the next time step       \n",
    "    def vector_solve(self, num_steps):\n",
    "        T_old = np.copy(self.T_initial)\n",
    "        results = [T_old.copy()]                    # Store initial temperature array\n",
    "\n",
    "        for _ in range(num_steps):\n",
    "\n",
    "            T_new = np.copy(T_old)\n",
    "\n",
    "            T_old_next = np.roll(T_old, -1)         # roll every i by -1 so that the \"next\" i is selected\n",
    "            T_old_prev = np.roll(T_old, 1)          # roll every i by 1 so that the \"previous\" i is selected\n",
    "            \n",
    "            # DIRECT CHARGING OF LAYER i: Calculate Qdot_prime_char, the actual amount of heat transferred to layer i through heat exchange in and below layer i (due to buoyancy)\n",
    "            mdot_prime_dischar = np.zeros(self.num_layers)  # initiate vector with length like number of layers\n",
    "\n",
    "            for i in range(self.num_layers):                    # iterate over all layers to calculate the actual heat of each layer Qdot_prime_char[0, 1, 2...]\n",
    "                mdot_sum_dischar = 0                                    # initiale the sum factor for calculating Qdot_prime_charge i\n",
    "\n",
    "                for l in range(i, self.num_layers):                            # iterate l from bottom layer (o) until current layer i (incl) to evaluate how heat inserted below in l affects layer i if buoyancy is present\n",
    "                    nom=0                                           # initialize nominator for inspection of heat in layer l in relationship to layer i\n",
    "                    den=0                                       # initialize denominator for inspection of heat in layer l in relationship to layer i\n",
    "\n",
    "                    nom= step(T_old[i],self.Tm_dischar[l]) * (T_old[i] - self.Tm_dischar[l])                # evaluate if heat transfer is available (1) or not (0) with Step ----- Tl>=Ti -> 1, layer below is hoter than i\n",
    "\n",
    "                    for j in range(l+1):       # iterate over layers starting from l and above until top of tank to evaluate the share of heat in layer l (homogenous distribution)\n",
    "                        den += step(T_old[j], self.Tm_dischar[l])          # sum up to calculate the denominator and thus the share\n",
    "\n",
    "                    den = np.where(den == 0, 1, den)                  # prevent divisions by 0\n",
    "                    \n",
    "                    mdot_sum_dischar += self.mdot_dischar[l] * nom / den    # amount of heat transfered to layer i is the sum of all heat below layer i and its share that have buoyancy effects    \n",
    "                    \n",
    "                mdot_prime_dischar[i] = mdot_sum_dischar\n",
    "\n",
    "            # Apply heat transfer equation for model 0\n",
    "            T_new = (T_old\n",
    "                      + (((self.alpha) * (T_old_next - (2*T_old) + T_old_prev) / (self.dz**2))      # diffusion between layers\n",
    "                      + (self.beta_i * (self.T_a - T_old))                                          # losses to the ambient\n",
    "                     # + ((self.lambda_i/self.dz) * Qdot_prime_char)                                 # indirect heat charging including fast buoyancy of other layers\n",
    "                     # + ((self.lambda_i/self.dz) * Qdot_prime_dischar)                              # indirect heat discharging including fast buoyancy of other layers\n",
    "                      + ((self.phi_i/self.dz) * mdot_prime_dischar)                     # direct heat input (stream)\n",
    "                     # + ((self.phi_i/self.dz) * self.mdot * (self.Tm - T_old))                      # direct heat output (stream)\n",
    "                        ) * self.dt\n",
    "                     # + 0.5 * ((1/10) * np.logaddexp(0, 10 * (T_old_prev - T_old)))                 # slow buoyancy of the layer i-1 to i (temperature of i rises) [with np.log -> overflow encountered]\n",
    "                     # - 0.5 * ((1/10) * np.logaddexp(0, 10 * (T_old - T_old_next)))                 # slow buoyancy of the layer i to i+1 (temperature of i decreases) [with np.log -> overflow encountered]\n",
    "                      + 0.5 * ((1/10) * np.logaddexp(0, np.clip(10 * (T_old_prev - T_old), -709, 709)))                 # CLIPS for stability: slow buoyancy of the layer i-1 to i (temperature of i rises) [with np.log -> overflow encountered]\n",
    "                      - 0.5 * ((1/10) * np.logaddexp(0, np.clip(10 * (T_old - T_old_next), -709, 709)))                 # CLIPS for stability: slow buoyancy of the layer i to i+1 (temperature of i decreases) [with np.log -> overflow encountered]\n",
    "                    )\n",
    "            \n",
    "            ### Boundary conditions\n",
    "            # bottom of the tank\n",
    "            T_new[0] = (T_old[0]                                              \n",
    "                         + (((self.alpha) * (T_old[1] - (2*T_old[0]) + T_old[0]) / (self.dz**2))\n",
    "                         + ((self.beta_i + self.beta_bottom) * (self.T_a - T_old[0]))               # heat loss through sides of the tank (beta_i) and through the floor (beta_bottom)\n",
    "                         #+ ((self.lambda_i/self.dz) * Qdot_prime_char[0])\n",
    "                         + ((self.phi_i/self.dz) * mdot_prime_dischar[0])  \n",
    "                         )* self.dt\n",
    "                         - 0.5 * ((1/10) * np.logaddexp(0, np.clip(10 * (T_old[0] - T_old[1]), -709, 709)))  # slow buoyancy from the bottom layer to the above layer\n",
    "                         )        \n",
    "            \n",
    "            # top of the tank\n",
    "            T_new[-1] = (T_old[-1]                                                              \n",
    "                          + (((self.alpha) * (T_old[-1] - (2*T_old[-1]) + T_old[-2]) / (self.dz**2))\n",
    "                          + ((self.beta_i + self.beta_top)* (self.T_a - T_old[-1]))                 # heat loss through sides of the tank (beta_i) and through ceiling (beta_top)\n",
    "                         # + ((self.lambda_i/self.dz) * Qdot_prime_char[-1])\n",
    "                          + ((self.phi_i/self.dz) * mdot_prime_dischar[-1])\n",
    "                          )* self.dt\n",
    "                          + 0.5 * ((1/10) * np.logaddexp(0, np.clip(10 * (T_old[-2] - T_old[-1]), -709, 709)))  # slow buoyancy to the top layer from the below layer\n",
    "                          )       \n",
    "\n",
    "            T_old = np.copy(T_new) # return the new temperature as old temperature for the next iteration\n",
    "\n",
    "            results.append(T_old.copy())            # Store the updated temperature array fo later plot\n",
    "\n",
    "        return T_old, results\n",
    "     \n",
    " # check the stability of the model with the selected dt\n",
    "    def stability_check(self):\n",
    "        # check if the time step dt is small enough with CFL condition: dt <= (dz^2) / (2 * alpha)\n",
    "        cfl_dt_max = (self.dz ** 2) / (2 * self.alpha)\n",
    "        if self.dt > cfl_dt_max:\n",
    "            print(f\"Warning: Time step size dt {self.dt} exceeds CFL stability limit ({cfl_dt_max}).\")\n",
    "            sc = 1\n",
    "        else:\n",
    "            sc = 0\n",
    "        return sc\n",
    "    \n",
    "\n"
   ]
  },
  {
   "cell_type": "code",
   "execution_count": 31,
   "metadata": {},
   "outputs": [],
   "source": [
    "############### VARIABLES\n",
    "            \n",
    "# initial temperature in the tank for each layer\n",
    "# lenght of the selected T_zero defines the number of layers    \n",
    "T_1 = np.array([10, 10, 10, 10, 10, 90, 90, 90, 90, 90])\n",
    "T_1a = np.array([90, 90, 90, 90, 90,10, 10, 10, 10, 10]) \n",
    "T_1b = np.array([90, 90, 10, 10, 10,10, 10, 10, 10, 10]) \n",
    "T_2 = np.array([10, 20, 30, 60, 50, 90, 30, 0, 15, 20])\n",
    "T_3 = [100, 80, 50, 60, 20, 50, 10, 20, 50, 80]\n",
    "T_4 = np.array([100, 90, 80 ,70, 60, 50, 40, 30, 20, 10])\n",
    "T_5 = [100, 10, 80 ,200, 60, 70, -10, 30, -10, 10]\n",
    "T_6 = np.array([100, 100, 100, 100, 100, 100, 100, 100, 100, 100]) \n",
    "T_7 = np.array([65, 65, 65, 65, 65, 65, 65, 65, 65, 65]) # standard initial temperature\n",
    "T_8 = np.full(10, 40)\n",
    "\n",
    "T_a = 20                            # ambient temperature\n",
    "\n",
    "# tank description\n",
    "T_zero = T_4                        # initial temperature vector\n",
    "z = 2.099                               # height of the tank [m]\n",
    "dz = z / len(T_zero)                # height of the section (layer)\n",
    "d = 0.79                             # diameter of the cross section [m]\n",
    "P_i = np.pi * d                     # cross-sectional perimeter [m]\n",
    "A_i = np.pi * (d/2)**2              # cross-sectional area [m²]\n",
    "\n",
    "\n",
    "# material properties\n",
    "alpha = 0.000000146                 # heat diffusivity of the fluid [m²/s]\n",
    "rho = 998                           # density of the fluid [kg/m³]\n",
    "cp =  4186                          # heat capacity of the fluid [J/kgK]\n",
    "k_i = 0.5                           # thermal condunctance of the wall [W/m²K]\n",
    "\n",
    "# indirect heat \n",
    "\n",
    "lambda_i = (1/(A_i*rho*cp))         # coefficient of the input heat\n",
    "#CHARGING\n",
    "Qdot_char_0 = np.zeros(len(T_zero))\n",
    "\n",
    "Qdot_char_aut = np.zeros(len(T_zero))\n",
    "#Qdot_char_aut[3]=(5000)\n",
    "\n",
    "Qdot_char = Qdot_char_aut\n",
    "#DISCHARGING\n",
    "Qdot_dischar_0 = np.zeros(len(T_zero))\n",
    "\n",
    "Qdot_dischar_aut = np.zeros(len(T_zero))\n",
    "#Qdot_dischar_aut[3]=(-5000)\n",
    "\n",
    "Qdot_dischar = Qdot_dischar_aut\n",
    "\n",
    "#General\n",
    "Qdot = Qdot_char + Qdot_dischar\n",
    "\n",
    "\n",
    "# direct heat\n",
    "phi_i = (1/(A_i*rho))\n",
    "\n",
    "mdot_0 = np.zeros(len(T_zero))\n",
    "Tm_0 = np.zeros(len(T_zero))\n",
    "\n",
    "mdot_aut= np.zeros(len(T_zero))\n",
    "mdot_aut[2]=5\n",
    "Tm_aut = np.zeros(len(T_zero))\n",
    "Tm_aut[2]= 79\n",
    "#Tm_aut = np.full(len(T_zero),100)\n",
    "\n",
    "mdot_char = mdot_aut\n",
    "Tm_char = Tm_aut\n",
    "\n",
    "\n",
    "\n",
    "dt = 60                             # length of the time steps [s]\n",
    "num_steps = 10                    # number of time steps to be made\n",
    "\n",
    "\n",
    "# losses: Beta calculations\n",
    "beta_i = (P_i*k_i)/(rho * cp * A_i) # coefficient of heat losses through the wall of the tank [1/s]\n",
    "beta_top = (k_i/(rho * cp * dz))    # coefficient of heat losses through the ceiling of the tank [1/s]\n",
    "beta_bottom = (k_i/(rho * cp * dz)) # coefficient of heat losses through the ground of the tank [1/s]"
   ]
  },
  {
   "cell_type": "code",
   "execution_count": 32,
   "metadata": {},
   "outputs": [
    {
     "name": "stdout",
     "output_type": "stream",
     "text": [
      "beta_i 6.060007184986919e-07\n",
      "beta_top 5.702007713363108e-07\n",
      "beta_bottom 5.702007713363108e-07\n",
      "U-wert 0.49813500878057776\n",
      "U-wert2 0.5409748364462272\n",
      "defined k_i 0.5\n"
     ]
    },
    {
     "data": {
      "application/vnd.plotly.v1+json": {
       "config": {
        "plotlyServerURL": "https://plot.ly"
       },
       "data": [
        {
         "mode": "lines",
         "name": "0 seconds",
         "type": "scatter",
         "x": [
          0.10495000000000002,
          0.3148500000000001,
          0.52475,
          0.7346500000000001,
          0.9445500000000001,
          1.1544500000000002,
          1.3643500000000004,
          1.5742500000000004,
          1.7841500000000003,
          1.9940500000000003
         ],
         "y": [
          100,
          90,
          80,
          70,
          60,
          50,
          40,
          30,
          20,
          10
         ]
        },
        {
         "mode": "lines",
         "name": "60 seconds",
         "type": "scatter",
         "x": [
          0.10495000000000002,
          0.3148500000000001,
          0.52475,
          0.7346500000000001,
          0.9445500000000001,
          1.1544500000000002,
          1.3643500000000004,
          1.5742500000000004,
          1.7841500000000003,
          1.9940500000000003
         ],
         "y": [
          115.44419956164283,
          100.71032002467716,
          80.97171523629476,
          69.9981819978445,
          59.9985455982756,
          49.998909198706706,
          39.9992727991378,
          29.9996363995689,
          20,
          15.002694008608213
         ]
        },
        {
         "mode": "lines",
         "name": "120 seconds",
         "type": "scatter",
         "x": [
          0.10495000000000002,
          0.3148500000000001,
          0.52475,
          0.7346500000000001,
          0.9445500000000001,
          1.1544500000000002,
          1.3643500000000004,
          1.5742500000000004,
          1.7841500000000003,
          1.9940500000000003
         ],
         "y": [
          143.56048532605507,
          119.34763972801574,
          87.27402406127578,
          70.48350611994431,
          59.99709124943331,
          49.99781843707498,
          39.99854562471666,
          29.999272812358328,
          22.502159811297908,
          17.502693282839974
         ]
        },
        {
         "mode": "lines",
         "name": "180 seconds",
         "type": "scatter",
         "x": [
          0.10495000000000002,
          0.3148500000000001,
          0.52475,
          0.7346500000000001,
          0.9445500000000001,
          1.1544500000000002,
          1.3643500000000004,
          1.5742500000000004,
          1.7841500000000003,
          1.9940500000000003
         ],
         "y": [
          194.3157809707676,
          154.70651824938489,
          102.9742114352141,
          73.63497550996424,
          60.23930484040447,
          49.996727715103404,
          39.9978184767356,
          31.250486645377965,
          23.75138867294016,
          20.00359682500948
         ]
        },
        {
         "mode": "lines",
         "name": "240 seconds",
         "type": "scatter",
         "x": [
          0.10495000000000002,
          0.3148500000000001,
          0.52475,
          0.7346500000000001,
          0.9445500000000001,
          1.1544500000000002,
          1.3643500000000004,
          1.5742500000000004,
          1.7841500000000003,
          1.9940500000000003
         ],
         "y": [
          286.79664688072,
          222.36802666400632,
          137.5205910519713,
          81.60797800727957,
          61.81501543539072,
          50.117519424443756,
          40.62312890829695,
          31.874442691463074,
          25.62765120212785,
          21.878237663988067
         ]
        },
        {
         "mode": "lines",
         "name": "300 seconds",
         "type": "scatter",
         "x": [
          0.10495000000000002,
          0.3148500000000001,
          0.52475,
          0.7346500000000001,
          0.9445500000000001,
          1.1544500000000002,
          1.3643500000000004,
          1.5742500000000004,
          1.7841500000000003,
          1.9940500000000003
         ],
         "y": [
          456.9231956394252,
          358.74658677894337,
          202.0087831860742,
          99.67274480067277,
          65.86283793176827,
          51.21841513829806,
          40.995379467566934,
          33.12545574861915,
          26.87663210667509,
          23.753557373189015
         ]
        },
        {
         "mode": "lines",
         "name": "360 seconds",
         "type": "scatter",
         "x": [
          0.10495000000000002,
          0.3148500000000001,
          0.52475,
          0.7346500000000001,
          0.9445500000000001,
          1.1544500000000002,
          1.3643500000000004,
          1.5742500000000004,
          1.7841500000000003,
          1.9940500000000003
         ],
         "y": [
          789.4810462952571,
          631.1669428399028,
          321.8108470745701,
          118.22851942832524,
          75.44772304437367,
          53.428852695716984,
          42.17163991691447,
          33.935850866320834,
          28.439878015079504,
          25.315450800657928
         ]
        },
        {
         "mode": "lines",
         "name": "420 seconds",
         "type": "scatter",
         "x": [
          0.10495000000000002,
          0.3148500000000001,
          0.52475,
          0.7346500000000001,
          0.9445500000000001,
          1.1544500000000002,
          1.3643500000000004,
          1.5742500000000004,
          1.7841500000000003,
          1.9940500000000003
         ],
         "y": [
          1445.880510083449,
          1168.8683294563089,
          558.293620499551,
          132.31652161405356,
          85.830798048667,
          58.810605733272126,
          43.682146365203565,
          35.30579701214758,
          29.625815490666273,
          26.877910511424133
         ]
        },
        {
         "mode": "lines",
         "name": "480 seconds",
         "type": "scatter",
         "x": [
          0.10495000000000002,
          0.3148500000000001,
          0.52475,
          0.7346500000000001,
          0.9445500000000001,
          1.1544500000000002,
          1.3643500000000004,
          1.5742500000000004,
          1.7841500000000003,
          1.9940500000000003
         ],
         "y": [
          2741.475412623885,
          2230.1795555810163,
          1025.0932933368338,
          144.59502980171604,
          95.56504037067154,
          64.7574254702898,
          47.05868280258593,
          36.653960523999004,
          31.09208674789622,
          28.251923975100866
         ]
        },
        {
         "mode": "lines",
         "name": "540 seconds",
         "type": "scatter",
         "x": [
          0.10495000000000002,
          0.3148500000000001,
          0.52475,
          0.7346500000000001,
          0.9445500000000001,
          1.1544500000000002,
          1.3643500000000004,
          1.5742500000000004,
          1.7841500000000003,
          1.9940500000000003
         ],
         "y": [
          5298.708080044419,
          4324.988216909738,
          1946.5185532019518,
          155.690824620963,
          104.67710322021793,
          71.31284062567002,
          50.706159403383964,
          39.07574213413644,
          32.45308009525256,
          29.671987712056936
         ]
        },
        {
         "mode": "lines",
         "name": "600 seconds",
         "type": "scatter",
         "x": [
          0.10495000000000002,
          0.3148500000000001,
          0.52475,
          0.7346500000000001,
          0.9445500000000001,
          1.1544500000000002,
          1.3643500000000004,
          1.5742500000000004,
          1.7841500000000003,
          1.9940500000000003
         ],
         "y": [
          10346.149146100524,
          8459.706885051422,
          3765.3357605439614,
          165.97495527792393,
          113.50226298040387,
          77.69230214893439,
          55.194959642157414,
          41.57992184033199,
          34.37417594314254,
          31.06240429245518
         ]
        }
       ],
       "layout": {
        "legend": {
         "title": {
          "text": "Time Passed"
         }
        },
        "shapes": [
         {
          "line": {
           "color": "grey",
           "dash": "dot",
           "width": 1
          },
          "type": "line",
          "x0": 0.20990000000000003,
          "x1": 0.20990000000000003,
          "xref": "x",
          "y0": 0,
          "y1": 1,
          "yref": "paper"
         },
         {
          "line": {
           "color": "grey",
           "dash": "dot",
           "width": 1
          },
          "type": "line",
          "x0": 0.41980000000000006,
          "x1": 0.41980000000000006,
          "xref": "x",
          "y0": 0,
          "y1": 1,
          "yref": "paper"
         },
         {
          "line": {
           "color": "grey",
           "dash": "dot",
           "width": 1
          },
          "type": "line",
          "x0": 0.6297000000000001,
          "x1": 0.6297000000000001,
          "xref": "x",
          "y0": 0,
          "y1": 1,
          "yref": "paper"
         },
         {
          "line": {
           "color": "grey",
           "dash": "dot",
           "width": 1
          },
          "type": "line",
          "x0": 0.8396000000000001,
          "x1": 0.8396000000000001,
          "xref": "x",
          "y0": 0,
          "y1": 1,
          "yref": "paper"
         },
         {
          "line": {
           "color": "grey",
           "dash": "dot",
           "width": 1
          },
          "type": "line",
          "x0": 1.0495,
          "x1": 1.0495,
          "xref": "x",
          "y0": 0,
          "y1": 1,
          "yref": "paper"
         },
         {
          "line": {
           "color": "grey",
           "dash": "dot",
           "width": 1
          },
          "type": "line",
          "x0": 1.2594,
          "x1": 1.2594,
          "xref": "x",
          "y0": 0,
          "y1": 1,
          "yref": "paper"
         },
         {
          "line": {
           "color": "grey",
           "dash": "dot",
           "width": 1
          },
          "type": "line",
          "x0": 1.4693000000000003,
          "x1": 1.4693000000000003,
          "xref": "x",
          "y0": 0,
          "y1": 1,
          "yref": "paper"
         },
         {
          "line": {
           "color": "grey",
           "dash": "dot",
           "width": 1
          },
          "type": "line",
          "x0": 1.6792000000000002,
          "x1": 1.6792000000000002,
          "xref": "x",
          "y0": 0,
          "y1": 1,
          "yref": "paper"
         },
         {
          "line": {
           "color": "grey",
           "dash": "dot",
           "width": 1
          },
          "type": "line",
          "x0": 1.8891000000000002,
          "x1": 1.8891000000000002,
          "xref": "x",
          "y0": 0,
          "y1": 1,
          "yref": "paper"
         }
        ],
        "template": {
         "data": {
          "bar": [
           {
            "error_x": {
             "color": "#2a3f5f"
            },
            "error_y": {
             "color": "#2a3f5f"
            },
            "marker": {
             "line": {
              "color": "#E5ECF6",
              "width": 0.5
             },
             "pattern": {
              "fillmode": "overlay",
              "size": 10,
              "solidity": 0.2
             }
            },
            "type": "bar"
           }
          ],
          "barpolar": [
           {
            "marker": {
             "line": {
              "color": "#E5ECF6",
              "width": 0.5
             },
             "pattern": {
              "fillmode": "overlay",
              "size": 10,
              "solidity": 0.2
             }
            },
            "type": "barpolar"
           }
          ],
          "carpet": [
           {
            "aaxis": {
             "endlinecolor": "#2a3f5f",
             "gridcolor": "white",
             "linecolor": "white",
             "minorgridcolor": "white",
             "startlinecolor": "#2a3f5f"
            },
            "baxis": {
             "endlinecolor": "#2a3f5f",
             "gridcolor": "white",
             "linecolor": "white",
             "minorgridcolor": "white",
             "startlinecolor": "#2a3f5f"
            },
            "type": "carpet"
           }
          ],
          "choropleth": [
           {
            "colorbar": {
             "outlinewidth": 0,
             "ticks": ""
            },
            "type": "choropleth"
           }
          ],
          "contour": [
           {
            "colorbar": {
             "outlinewidth": 0,
             "ticks": ""
            },
            "colorscale": [
             [
              0,
              "#0d0887"
             ],
             [
              0.1111111111111111,
              "#46039f"
             ],
             [
              0.2222222222222222,
              "#7201a8"
             ],
             [
              0.3333333333333333,
              "#9c179e"
             ],
             [
              0.4444444444444444,
              "#bd3786"
             ],
             [
              0.5555555555555556,
              "#d8576b"
             ],
             [
              0.6666666666666666,
              "#ed7953"
             ],
             [
              0.7777777777777778,
              "#fb9f3a"
             ],
             [
              0.8888888888888888,
              "#fdca26"
             ],
             [
              1,
              "#f0f921"
             ]
            ],
            "type": "contour"
           }
          ],
          "contourcarpet": [
           {
            "colorbar": {
             "outlinewidth": 0,
             "ticks": ""
            },
            "type": "contourcarpet"
           }
          ],
          "heatmap": [
           {
            "colorbar": {
             "outlinewidth": 0,
             "ticks": ""
            },
            "colorscale": [
             [
              0,
              "#0d0887"
             ],
             [
              0.1111111111111111,
              "#46039f"
             ],
             [
              0.2222222222222222,
              "#7201a8"
             ],
             [
              0.3333333333333333,
              "#9c179e"
             ],
             [
              0.4444444444444444,
              "#bd3786"
             ],
             [
              0.5555555555555556,
              "#d8576b"
             ],
             [
              0.6666666666666666,
              "#ed7953"
             ],
             [
              0.7777777777777778,
              "#fb9f3a"
             ],
             [
              0.8888888888888888,
              "#fdca26"
             ],
             [
              1,
              "#f0f921"
             ]
            ],
            "type": "heatmap"
           }
          ],
          "heatmapgl": [
           {
            "colorbar": {
             "outlinewidth": 0,
             "ticks": ""
            },
            "colorscale": [
             [
              0,
              "#0d0887"
             ],
             [
              0.1111111111111111,
              "#46039f"
             ],
             [
              0.2222222222222222,
              "#7201a8"
             ],
             [
              0.3333333333333333,
              "#9c179e"
             ],
             [
              0.4444444444444444,
              "#bd3786"
             ],
             [
              0.5555555555555556,
              "#d8576b"
             ],
             [
              0.6666666666666666,
              "#ed7953"
             ],
             [
              0.7777777777777778,
              "#fb9f3a"
             ],
             [
              0.8888888888888888,
              "#fdca26"
             ],
             [
              1,
              "#f0f921"
             ]
            ],
            "type": "heatmapgl"
           }
          ],
          "histogram": [
           {
            "marker": {
             "pattern": {
              "fillmode": "overlay",
              "size": 10,
              "solidity": 0.2
             }
            },
            "type": "histogram"
           }
          ],
          "histogram2d": [
           {
            "colorbar": {
             "outlinewidth": 0,
             "ticks": ""
            },
            "colorscale": [
             [
              0,
              "#0d0887"
             ],
             [
              0.1111111111111111,
              "#46039f"
             ],
             [
              0.2222222222222222,
              "#7201a8"
             ],
             [
              0.3333333333333333,
              "#9c179e"
             ],
             [
              0.4444444444444444,
              "#bd3786"
             ],
             [
              0.5555555555555556,
              "#d8576b"
             ],
             [
              0.6666666666666666,
              "#ed7953"
             ],
             [
              0.7777777777777778,
              "#fb9f3a"
             ],
             [
              0.8888888888888888,
              "#fdca26"
             ],
             [
              1,
              "#f0f921"
             ]
            ],
            "type": "histogram2d"
           }
          ],
          "histogram2dcontour": [
           {
            "colorbar": {
             "outlinewidth": 0,
             "ticks": ""
            },
            "colorscale": [
             [
              0,
              "#0d0887"
             ],
             [
              0.1111111111111111,
              "#46039f"
             ],
             [
              0.2222222222222222,
              "#7201a8"
             ],
             [
              0.3333333333333333,
              "#9c179e"
             ],
             [
              0.4444444444444444,
              "#bd3786"
             ],
             [
              0.5555555555555556,
              "#d8576b"
             ],
             [
              0.6666666666666666,
              "#ed7953"
             ],
             [
              0.7777777777777778,
              "#fb9f3a"
             ],
             [
              0.8888888888888888,
              "#fdca26"
             ],
             [
              1,
              "#f0f921"
             ]
            ],
            "type": "histogram2dcontour"
           }
          ],
          "mesh3d": [
           {
            "colorbar": {
             "outlinewidth": 0,
             "ticks": ""
            },
            "type": "mesh3d"
           }
          ],
          "parcoords": [
           {
            "line": {
             "colorbar": {
              "outlinewidth": 0,
              "ticks": ""
             }
            },
            "type": "parcoords"
           }
          ],
          "pie": [
           {
            "automargin": true,
            "type": "pie"
           }
          ],
          "scatter": [
           {
            "fillpattern": {
             "fillmode": "overlay",
             "size": 10,
             "solidity": 0.2
            },
            "type": "scatter"
           }
          ],
          "scatter3d": [
           {
            "line": {
             "colorbar": {
              "outlinewidth": 0,
              "ticks": ""
             }
            },
            "marker": {
             "colorbar": {
              "outlinewidth": 0,
              "ticks": ""
             }
            },
            "type": "scatter3d"
           }
          ],
          "scattercarpet": [
           {
            "marker": {
             "colorbar": {
              "outlinewidth": 0,
              "ticks": ""
             }
            },
            "type": "scattercarpet"
           }
          ],
          "scattergeo": [
           {
            "marker": {
             "colorbar": {
              "outlinewidth": 0,
              "ticks": ""
             }
            },
            "type": "scattergeo"
           }
          ],
          "scattergl": [
           {
            "marker": {
             "colorbar": {
              "outlinewidth": 0,
              "ticks": ""
             }
            },
            "type": "scattergl"
           }
          ],
          "scattermapbox": [
           {
            "marker": {
             "colorbar": {
              "outlinewidth": 0,
              "ticks": ""
             }
            },
            "type": "scattermapbox"
           }
          ],
          "scatterpolar": [
           {
            "marker": {
             "colorbar": {
              "outlinewidth": 0,
              "ticks": ""
             }
            },
            "type": "scatterpolar"
           }
          ],
          "scatterpolargl": [
           {
            "marker": {
             "colorbar": {
              "outlinewidth": 0,
              "ticks": ""
             }
            },
            "type": "scatterpolargl"
           }
          ],
          "scatterternary": [
           {
            "marker": {
             "colorbar": {
              "outlinewidth": 0,
              "ticks": ""
             }
            },
            "type": "scatterternary"
           }
          ],
          "surface": [
           {
            "colorbar": {
             "outlinewidth": 0,
             "ticks": ""
            },
            "colorscale": [
             [
              0,
              "#0d0887"
             ],
             [
              0.1111111111111111,
              "#46039f"
             ],
             [
              0.2222222222222222,
              "#7201a8"
             ],
             [
              0.3333333333333333,
              "#9c179e"
             ],
             [
              0.4444444444444444,
              "#bd3786"
             ],
             [
              0.5555555555555556,
              "#d8576b"
             ],
             [
              0.6666666666666666,
              "#ed7953"
             ],
             [
              0.7777777777777778,
              "#fb9f3a"
             ],
             [
              0.8888888888888888,
              "#fdca26"
             ],
             [
              1,
              "#f0f921"
             ]
            ],
            "type": "surface"
           }
          ],
          "table": [
           {
            "cells": {
             "fill": {
              "color": "#EBF0F8"
             },
             "line": {
              "color": "white"
             }
            },
            "header": {
             "fill": {
              "color": "#C8D4E3"
             },
             "line": {
              "color": "white"
             }
            },
            "type": "table"
           }
          ]
         },
         "layout": {
          "annotationdefaults": {
           "arrowcolor": "#2a3f5f",
           "arrowhead": 0,
           "arrowwidth": 1
          },
          "autotypenumbers": "strict",
          "coloraxis": {
           "colorbar": {
            "outlinewidth": 0,
            "ticks": ""
           }
          },
          "colorscale": {
           "diverging": [
            [
             0,
             "#8e0152"
            ],
            [
             0.1,
             "#c51b7d"
            ],
            [
             0.2,
             "#de77ae"
            ],
            [
             0.3,
             "#f1b6da"
            ],
            [
             0.4,
             "#fde0ef"
            ],
            [
             0.5,
             "#f7f7f7"
            ],
            [
             0.6,
             "#e6f5d0"
            ],
            [
             0.7,
             "#b8e186"
            ],
            [
             0.8,
             "#7fbc41"
            ],
            [
             0.9,
             "#4d9221"
            ],
            [
             1,
             "#276419"
            ]
           ],
           "sequential": [
            [
             0,
             "#0d0887"
            ],
            [
             0.1111111111111111,
             "#46039f"
            ],
            [
             0.2222222222222222,
             "#7201a8"
            ],
            [
             0.3333333333333333,
             "#9c179e"
            ],
            [
             0.4444444444444444,
             "#bd3786"
            ],
            [
             0.5555555555555556,
             "#d8576b"
            ],
            [
             0.6666666666666666,
             "#ed7953"
            ],
            [
             0.7777777777777778,
             "#fb9f3a"
            ],
            [
             0.8888888888888888,
             "#fdca26"
            ],
            [
             1,
             "#f0f921"
            ]
           ],
           "sequentialminus": [
            [
             0,
             "#0d0887"
            ],
            [
             0.1111111111111111,
             "#46039f"
            ],
            [
             0.2222222222222222,
             "#7201a8"
            ],
            [
             0.3333333333333333,
             "#9c179e"
            ],
            [
             0.4444444444444444,
             "#bd3786"
            ],
            [
             0.5555555555555556,
             "#d8576b"
            ],
            [
             0.6666666666666666,
             "#ed7953"
            ],
            [
             0.7777777777777778,
             "#fb9f3a"
            ],
            [
             0.8888888888888888,
             "#fdca26"
            ],
            [
             1,
             "#f0f921"
            ]
           ]
          },
          "colorway": [
           "#636efa",
           "#EF553B",
           "#00cc96",
           "#ab63fa",
           "#FFA15A",
           "#19d3f3",
           "#FF6692",
           "#B6E880",
           "#FF97FF",
           "#FECB52"
          ],
          "font": {
           "color": "#2a3f5f"
          },
          "geo": {
           "bgcolor": "white",
           "lakecolor": "white",
           "landcolor": "#E5ECF6",
           "showlakes": true,
           "showland": true,
           "subunitcolor": "white"
          },
          "hoverlabel": {
           "align": "left"
          },
          "hovermode": "closest",
          "mapbox": {
           "style": "light"
          },
          "paper_bgcolor": "white",
          "plot_bgcolor": "#E5ECF6",
          "polar": {
           "angularaxis": {
            "gridcolor": "white",
            "linecolor": "white",
            "ticks": ""
           },
           "bgcolor": "#E5ECF6",
           "radialaxis": {
            "gridcolor": "white",
            "linecolor": "white",
            "ticks": ""
           }
          },
          "scene": {
           "xaxis": {
            "backgroundcolor": "#E5ECF6",
            "gridcolor": "white",
            "gridwidth": 2,
            "linecolor": "white",
            "showbackground": true,
            "ticks": "",
            "zerolinecolor": "white"
           },
           "yaxis": {
            "backgroundcolor": "#E5ECF6",
            "gridcolor": "white",
            "gridwidth": 2,
            "linecolor": "white",
            "showbackground": true,
            "ticks": "",
            "zerolinecolor": "white"
           },
           "zaxis": {
            "backgroundcolor": "#E5ECF6",
            "gridcolor": "white",
            "gridwidth": 2,
            "linecolor": "white",
            "showbackground": true,
            "ticks": "",
            "zerolinecolor": "white"
           }
          },
          "shapedefaults": {
           "line": {
            "color": "#2a3f5f"
           }
          },
          "ternary": {
           "aaxis": {
            "gridcolor": "white",
            "linecolor": "white",
            "ticks": ""
           },
           "baxis": {
            "gridcolor": "white",
            "linecolor": "white",
            "ticks": ""
           },
           "bgcolor": "#E5ECF6",
           "caxis": {
            "gridcolor": "white",
            "linecolor": "white",
            "ticks": ""
           }
          },
          "title": {
           "x": 0.05
          },
          "xaxis": {
           "automargin": true,
           "gridcolor": "white",
           "linecolor": "white",
           "ticks": "",
           "title": {
            "standoff": 15
           },
           "zerolinecolor": "white",
           "zerolinewidth": 2
          },
          "yaxis": {
           "automargin": true,
           "gridcolor": "white",
           "linecolor": "white",
           "ticks": "",
           "title": {
            "standoff": 15
           },
           "zerolinecolor": "white",
           "zerolinewidth": 2
          }
         }
        },
        "title": {
         "text": "Layer temperatures over tank height. M5a: fast buoyancy (direct charging)"
        },
        "xaxis": {
         "range": [
          0,
          2.099
         ],
         "title": {
          "text": "Height"
         }
        },
        "yaxis": {
         "title": {
          "text": "Temperature"
         }
        }
       }
      }
     },
     "metadata": {},
     "output_type": "display_data"
    }
   ],
   "source": [
    "print(\"beta_i\", beta_i)\n",
    "print(\"beta_top\", beta_top)\n",
    "print(\"beta_bottom\", beta_bottom)\n",
    "\n",
    "qloss = 138.75\n",
    "Uwert = (qloss)/((P_i*z + 2*A_i)*(65-20))\n",
    "Uwert2 = (qloss)/((P_i*z + A_i)*(65-20))\n",
    "print(\"U-wert\", Uwert)\n",
    "print(\"U-wert2\", Uwert2)\n",
    "print(\"defined k_i\", k_i)\n",
    "\"\"\"\n",
    "# MODEL 0 - only dif (no inputs)\n",
    "tank_vector0 = HeatDistributionVector_model0(alpha, z, T_zero, dt)\n",
    "stability0 = tank_vector0.stability_check()\n",
    "if (stability0 == 0):\n",
    "    # Solve for the temperatures\n",
    "    final_temperature0, results0 = tank_vector0.vector_solve(num_steps)\n",
    "    # Plot the results\n",
    "    plot_results_height(results0, tank_vector0.heights, dt, z, dz, \"Tank layer temperatures over tank height. M0: only heat diffusion (no input)\")\n",
    "    plot_results_time(results0, dt, \"Temperature development of each layer over time. M0: only heat diffusion (no input)\")\n",
    "\"\"\"\n",
    "\"\"\"\n",
    "# MODEL 2 - heat losses (with inputs)\n",
    "tank_vector2 = HeatDistributionVector_model2(alpha, beta_i, beta_bottom, beta_top, lambda_i, phi_i, z, T_a, T_zero, dt, Qdot, mdot, Tm)\n",
    "stability2 = tank_vector2.stability_check()\n",
    "if (stability2 == 0):\n",
    "    # Solve for the temperatures\n",
    "    final_temperature2, results2 = tank_vector2.vector_solve(num_steps)\n",
    "    # Plot the results\n",
    "    plot_results_height(results2, tank_vector2.heights, dt, z, dz, \"M2: heat losses (with input), Layer temperatures over tank height. \")\n",
    "    #plot_results_time(results2, dt, \"Temperature development of each layer over time. M2: heat losses (with input)\")\n",
    "\n",
    "\n",
    "# MODEL 3 - slow buoy (no inputs)\n",
    "tank_vector3 = HeatDistributionVector_model3(alpha, beta_i, beta_bottom, beta_top, lambda_i, phi_i, z, T_a, T_zero, dt, Qdot, mdot, Tm)\n",
    "stability3 = tank_vector3.stability_check()\n",
    "if (stability3 == 0):\n",
    "    # Solve for the temperatures\n",
    "    final_temperature3, results3 = tank_vector3.vector_solve(num_steps)\n",
    "    # Plot the results\n",
    "    plot_results_height(results3, tank_vector3.heights, dt, z, dz, \"M3: slow buoyancy, Layer temperatures over tank height\")\n",
    "    #plot_results_time(results3, dt, \"Temperature development of each layer over time. M3: slow buoyancy\")\n",
    "\n",
    "\n",
    "# MODEL 4a - fast buoy (with indirect charging input)\n",
    "tank_vector4a = HeatDistributionVector_model4a(alpha, beta_i, beta_bottom, beta_top, lambda_i, phi_i, z, T_a, T_zero, dt, Qdot_char, mdot, Tm)\n",
    "stability4a = tank_vector4a.stability_check()\n",
    "if (stability4a == 0):\n",
    "    # Solve for the temperatures\n",
    "    final_temperature4, results4a = tank_vector4a.vector_solve(num_steps)\n",
    "    # Plot the results\n",
    "    plot_results_height(results4a, tank_vector4a.heights, dt, z, dz, \"M4a: fast buoyancy (only indirect charging), Layer temperatures over tank height. \")\n",
    "    #plot_results_time(results4a, dt, \"M4a: fast buoyancy (only indirect charging), Temperature development of each layer over time.)\")\n",
    "\n",
    "# MODEL 4b - fast buoy (with indirect discharging input)\n",
    "tank_vector4b = HeatDistributionVector_model4b(alpha, beta_i, beta_bottom, beta_top, lambda_i, phi_i, z, T_a, T_zero, dt, Qdot_dischar, mdot, Tm)\n",
    "stability4b = tank_vector4b.stability_check()\n",
    "if (stability4b == 0):\n",
    "    # Solve for the temperatures\n",
    "    final_temperature4b, results4b = tank_vector4b.vector_solve(num_steps)\n",
    "    # Plot the results\n",
    "    plot_results_height(results4b, tank_vector4b.heights, dt, z, dz, \"M4b: fast buoyancy (only indirect discharging), Layer temperatures over tank height. \")\n",
    "    #plot_results_time(results4b, dt, \"M4b: fast buoyancy (only indirect discharging), Temperature development of each layer over time.)\")\n",
    "\n",
    "# MODEL 4c - fast buoy (qdot separate - with indirect charging and discharging input)\n",
    "tank_vector4c = HeatDistributionVector_model4c(alpha, beta_i, beta_bottom, beta_top, lambda_i, phi_i, z, T_a, T_zero, dt, Qdot_char, Qdot_dischar, mdot, Tm)\n",
    "stability4c = tank_vector4c.stability_check()\n",
    "if (stability4c == 0):\n",
    "    # Solve for the temperatures\n",
    "    final_temperature4c, results4c = tank_vector4c.vector_solve(num_steps)\n",
    "    # Plot the results\n",
    "    plot_results_height(results4c, tank_vector4c.heights, dt, z, dz, \"Layer temperatures over tank height. M4c: separate qdot\")\n",
    "    #plot_results_time(results4c, dt, \"M4: fast buoyancy (only indirect charging), Temperature development of each layer over time.)\")\n",
    "    \n",
    "\n",
    "# MODEL 4 - fast buoy (with indirect charging and discharging input)\n",
    "tank_vector4 = HeatDistributionVector_model4(alpha, beta_i, beta_bottom, beta_top, lambda_i, phi_i, z, T_a, T_zero, dt, Qdot, mdot, Tm)\n",
    "stability4 = tank_vector4.stability_check()\n",
    "if (stability4 == 0):\n",
    "    # Solve for the temperatures\n",
    "    final_temperature4, results4 = tank_vector4.vector_solve(num_steps)\n",
    "    # Plot the results\n",
    "    plot_results_height(results4, tank_vector4.heights, dt, z, dz, \"Layer temperatures over tank height. M4: fast buoyancy (indirect)\")\n",
    "    #plot_results_time(results4, dt, \"M4: fast buoyancy (only indirect charging), Temperature development of each layer over time.)\")\n",
    "    \n",
    "\"\"\"\n",
    "# MODEL 5 - fast buoy (only direct charging)\n",
    "tank_vector5a = HeatDistributionVector_model5a(alpha, beta_i, beta_bottom, beta_top, lambda_i, phi_i, z, T_a, T_zero, dt, Qdot, mdot_char, Tm_char)\n",
    "stability5a = tank_vector5a.stability_check()\n",
    "if (stability5a == 0):\n",
    "    # Solve for the temperatures\n",
    "    final_temperature5a, results5a = tank_vector5a.vector_solve(num_steps)\n",
    "    # Plot the results\n",
    "    plot_results_height(results5a, tank_vector5a.heights, dt, z, dz, \"Layer temperatures over tank height. M5a: fast buoyancy (direct charging)\")\n",
    "    #plot_results_time(results4, dt, \"M4: fast buoyancy (only indirect charging), Temperature development of each layer over time.)\")\n",
    "    \n",
    "\n"
   ]
  }
 ],
 "metadata": {
  "kernelspec": {
   "display_name": "Python 3",
   "language": "python",
   "name": "python3"
  },
  "language_info": {
   "codemirror_mode": {
    "name": "ipython",
    "version": 3
   },
   "file_extension": ".py",
   "mimetype": "text/x-python",
   "name": "python",
   "nbconvert_exporter": "python",
   "pygments_lexer": "ipython3",
   "version": "3.11.9"
  }
 },
 "nbformat": 4,
 "nbformat_minor": 2
}

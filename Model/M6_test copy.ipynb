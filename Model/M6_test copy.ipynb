{
 "cells": [
  {
   "cell_type": "code",
   "execution_count": null,
   "metadata": {},
   "outputs": [],
   "source": [
    "import numpy as np\n",
    "import matplotlib.pyplot as plt\n",
    "import plotly.graph_objects as go\n",
    "import plotly.express as px\n",
    "from scipy.special import expit\n",
    "from functions import step, plot_results_time, plot_results_height, import_variables\n",
    "import os\n",
    "import importlib.util\n",
    "\n",
    "# Set the working directory\n",
    "working_directory = r\"C:\\Users\\sophi\\repos\\repos_thesis\\Model\"\n",
    "os.chdir(working_directory)\n",
    "\n",
    "# Call the import_variables function to import variables from variables.py\n",
    "\n",
    "\n",
    "def import_variables(file_name):\n",
    "    try:\n",
    "        # Get the absolute path of the current working directory\n",
    "        current_dir = os.getcwd()\n",
    "\n",
    "        # Construct the full path to the file\n",
    "        file_path = os.path.join(current_dir, f\"{file_name}.py\")\n",
    "\n",
    "        # Use importlib to create a module from the file\n",
    "        spec = importlib.util.spec_from_file_location(\"module.name\", file_path)\n",
    "        module = importlib.util.module_from_spec(spec)\n",
    "        spec.loader.exec_module(module)\n",
    "\n",
    "        # Import variables directly into the global namespace\n",
    "        for name in dir(module):\n",
    "            if not name.startswith('__'):\n",
    "                globals()[name] = getattr(module, name)\n",
    "\n",
    "    except FileNotFoundError:\n",
    "        print(f\"File '{file_name}.py' not found.\")\n",
    "    except Exception as e:\n",
    "        print(f\"Error occurred while importing '{file_name}.py': {e}\")\n",
    "\n",
    "# Call the function to import variables from the file\n",
    "file_name = \"variables_m6\"\n",
    "import_variables(file_name)\n",
    "# Print the value of alpha immediately after importing\n",
    "#print(\"Value of alpha:\", alpha)\n",
    "\n",
    "############### Definitons for the model 5 (integtrated -  direct)\n",
    "\n",
    "class HeatDistributionVector_model5:\n",
    "    def __init__(self, alpha, beta_i, beta_bottom, beta_top, lambda_i, phi_i, z, T_a, T_initial, dt, Qdot, mdot, Tm):\n",
    "        \n",
    "        self.alpha = alpha                           # heat diffusivity\n",
    "        \n",
    "        self.beta_i = beta_i                         # heat loss coefficient to the ambient in the inner layers\n",
    "        self.beta_bottom = beta_bottom               # heat loss coefficient to the ambient at the bottom layer (i=0)\n",
    "        self.beta_top = beta_top                     # heat loss coefficient to the ambient at the top layer (i=-1)\n",
    "        \n",
    "        self.lambda_i = lambda_i                     # coefficient of the input heat\n",
    "        self.Qdot = Qdot                              # vector conaining the Q_i of each layer    \n",
    "        \n",
    "        self.phi_i = phi_i                           # coefficient of the input flow/stream\n",
    "        self.mdot = mdot                             # vector conaining the streams flowing into /out of the tank mdot_i of each layer\n",
    "        self.Tm = Tm                                 # vector containing the temperatures of the streams flowing in/out of the tank (each mdot_i has a Tm_i)\n",
    "\n",
    "        self.z = z                                   # height of the tank\n",
    "        self.num_layers = len(T_initial)             # number of layers (steps in space)\n",
    "        self.dz = z / self.num_layers                # step size in space (delta z, height of a layer) is total height/number of layers, num_layers = how big the initial temperature vector is\n",
    "        self.heights = [i * self.dz + self.dz/2 for i in range(len(T_initial))]     # list representing the height of the tank for plotting the temperatures in the middle of each layer\n",
    "\n",
    "        self.dt = dt                                 # step size in time (time step)\n",
    "\n",
    "        self.T_initial = np.array(T_initial)         # initial state of the temperatures along the tank [list] !!! Same lenght as num_layers\n",
    "        self.T_a = T_a                               # ambient temperature outside of the tank\n",
    "\n",
    "     \n",
    " # definition of the solver for the temperature vector in the next time step       \n",
    "    def vector_solve(self, num_steps, \n",
    "                     incl_diffusivity=True, \n",
    "                     incl_heat_loss=True, \n",
    "                     incl_fast_buoyancy=True,\n",
    "                     incl_slow_buoyancy=True):\n",
    "        \n",
    "        # Check if the time step dt is a multiple of frequency\n",
    "        storage_frequency = 60\n",
    "        if self.dt % storage_frequency != 0:\n",
    "            raise ValueError(f\"The time step dt ({self.dt}s) must be a multiple of the data storage frequency ({freq}s).\")\n",
    "\n",
    "        freq = int(self.dt/storage_frequency)                         # frequency of the stored values to match the time step of the simulation dt\n",
    "\n",
    "        # Check if there is enough stored data to run the desired simulation step\n",
    "        num_data_available = int(len(self.Qdot) / freq)\n",
    "        if num_steps > num_data_available:\n",
    "            raise ValueError(f\"Number of steps for the simulation ({num_steps}) must be smaller or equal to number of available stored data ({num_data_available}).\")\n",
    "        \n",
    "\n",
    "        print(\"Heat diffusivity:\", incl_diffusivity) \n",
    "        print(\"Heat losses:\",incl_heat_loss)\n",
    "        print(\"Fast Buoyancy, direct charging qdot:\",incl_fast_buoyancy)\n",
    "        print(\"Slow Buoyancy:\",incl_slow_buoyancy)\n",
    "\n",
    "        # Mass balance:\n",
    "        # Calculate mdot balance\n",
    "        mdot_balance = np.sum(self.mdot, axis=1)      # Compute the sum of vector mdot containing ONE input or output per layer\n",
    "\n",
    "\n",
    "        # Check if mdot_balance is not equal to 0\n",
    "        non_zero_indices = np.where(mdot_balance != 0)[0]  # Get indices where mdot_balance is not zero\n",
    "\n",
    "        if non_zero_indices.size > 0:\n",
    "            error_message = f\"mdot_balance must be equal to 0 (mass conservation, stationary system for all time steps). Errors at time steps: {non_zero_indices}, values: {mdot_balance[non_zero_indices]}\"\n",
    "            raise ValueError(error_message)\n",
    "\n",
    "        T_old = np.copy(self.T_initial)\n",
    "        results = [T_old.copy()]                    # Store initial temperature array\n",
    "\n",
    "        for k in range(num_steps):\n",
    "\n",
    "            T_new = np.copy(T_old)\n",
    "\n",
    "            T_old_next = np.roll(T_old, -1)         # roll every i by -1 so that the \"next\" i is selected\n",
    "            T_old_prev = np.roll(T_old, 1)          # roll every i by 1 so that the \"previous\" i is selected\n",
    "            \n",
    "    \n",
    "            ####### Separate Qdot into charging and discharging vectors\n",
    "            Qdot_charging = np.where(self.Qdot[k*freq] > 0, self.Qdot[k*freq], 0)\n",
    "            Qdot_discharging = np.where(self.Qdot[k*freq] < 0, self.Qdot[k*freq], 0)\n",
    "\n",
    "            # Initiate vectors fo the buoyancy qdots\n",
    "            Qdot_prime_char = np.zeros(self.num_layers)  # initiate vector with length like number of layers\n",
    "            Qdot_prime_dischar = np.zeros(self.num_layers)  # initiate vector with length like number of layers\n",
    "\n",
    "            # INDIRECT CHARGING\n",
    "            # Create boolean masks for efficient calculations\n",
    "            mask_charging = np.triu(np.ones((self.num_layers, self.num_layers)), k=1)\n",
    "            mask_discharging = np.tril(np.ones((self.num_layers, self.num_layers)), k=-1)\n",
    "\n",
    "            # Calculate nominators for charging and discharging efficiently\n",
    "            nom_charging = step(T_old[:, np.newaxis], T_old) * mask_charging\n",
    "            nom_discharging = step(T_old, T_old[:, np.newaxis]) * mask_discharging\n",
    "\n",
    "            # Calculate denominators for charging and discharging efficiently with avoiding division by zero\n",
    "            den_charging = np.where(mask_charging, np.maximum(np.sum(step(T_old[:, np.newaxis], T_old), axis=1), 1), 1)\n",
    "            den_discharging = np.where(mask_discharging, np.maximum(np.sum(step(T_old, T_old[:, np.newaxis]), axis=1), 1), 1)\n",
    "\n",
    "            # Calculate Qdot_prime_dischar using vectorized operations\n",
    "            Qdot_prime_dischar = np.sum(Qdot_discharging * nom_discharging / den_discharging, axis=1)\n",
    "            \n",
    "            for i in range(self.num_layers):                    # iterate over all layers to calculate the actual heat of each layer Qdot_prime_char[0, 1, 2...]\n",
    "\n",
    "                # INDIRECT DISCHARGING: Calculate Qdot_prime_dischar, the actual amount of heat transferred to the layer i thorugh heat exchange in layers in and above i (due to buoyancy)\n",
    "                Qdot_sum_dischar = 0                                    # initiale the sum factor for calculating Qdot_prime_charge i\n",
    "\n",
    "                for l in range(i, self.num_layers):                            # iterate l from bottom layer (o) until current layer i (incl) to evaluate how heat inserted below in l affects layer i if buoyancy is present\n",
    "                    nom=0                                           # initialize nominator for inspection of heat in layer l in relationship to layer i\n",
    "                    den=0                                       # initialize denominator for inspection of heat in layer l in relationship to layer i\n",
    "\n",
    "                    nom= step(T_old[i], T_old[l])                # evaluate if heat transfer is available (1) or not (0) with Step ----- Tl>=Ti -> 1, layer below is hoter than i\n",
    "\n",
    "                    for j in range(l+1):       # iterate over layers starting from l and above until top of tank to evaluate the share of heat in layer l (homogenous distribution)\n",
    "                        den += step(T_old[j], T_old[l])          # sum up to calculate the denominator and thus the share\n",
    "                    den = np.where(den == 0, 1, den)                  # prevent divisions by 0     \n",
    "                    Qdot_sum_dischar += Qdot_discharging[l] * nom / den    # amount of heat transfered to layer i is the sum of all heat below layer i and its share that have buoyancy effects    \n",
    "                    \n",
    "                Qdot_prime_dischar[i] = Qdot_sum_dischar\n",
    "            \n",
    "    \n",
    "\n",
    "            ####### Separate mdot, Tm into charging and discharging elements\n",
    "            mdot_in = np.where(self.mdot[k*freq] > 0, self.mdot[k*freq], 0)         # vector with only positive mdots\n",
    "            mdot_out = np.where(self.mdot[k*freq] < 0, self.mdot[k*freq], 0)        # vector with only negative mdots\n",
    "            Tm_in = np.where(self.Tm[k*freq] > 0, self.Tm[k*freq], 0)             # vector with the temperature of the inflowing (+) streams mdot\n",
    "\n",
    "\n",
    "\n",
    "        \n",
    "            #\n",
    "            mdot_prime_char = np.zeros(self.num_layers)  # initiate vector: the amount of mdot prime (temperature change) per i will be saved here\n",
    "            mdot_in_char_tot = np.zeros(self.num_layers)    # initiate vector: the total amount of mass streaming into i through charging mdots in l will be saved here\n",
    "            mdot_prime_dischar = np.zeros(self.num_layers)  # initiate vector with length like number of layers\n",
    "            mdot_in_dischar_tot = np.zeros(self.num_layers)    # initiate vector: the total amount of mass streaming into i through discharging mdots in l will be saved here\n",
    "\n",
    "            #\n",
    "            mdot_in_tot = np.zeros(self.num_layers)            # initiate vector: total amount of mdot flowing into layer i (charge+discharge incl buoyancy)\n",
    "\n",
    "            # Initialize arrays\n",
    "            mdot_in_char_tot = np.zeros(self.num_layers)\n",
    "            mdot_prime_char = np.zeros(self.num_layers)\n",
    "\n",
    "            # Precompute step matrices for efficiency\n",
    "            step_matrix_in_old = step(Tm_in[:, None], T_old[None, :])  # Matrix of step(Tm_in[l], T_old[i])\n",
    "            step_matrix_in_in = step(Tm_in[:, None], T_old[None, :])   # Matrix of step(Tm_in[l], T_old[j])\n",
    "\n",
    "            # Iterate over all layers to calculate the actual heat of each layer\n",
    "            for i in range(self.num_layers):\n",
    "                # DIRECT CHARGING OF LAYER i: entering hot stream\n",
    "                mdot_sum_char = 0\n",
    "                mdot_in_char_sum = 0\n",
    "\n",
    "                # Compute `nom` and `den` arrays\n",
    "                nom = step_matrix_in_old[:i+1, i]  # step(Tm_in[:i+1], T_old[i])\n",
    "                \n",
    "                # Denominator calculation involves a sum over the second axis of step_matrix_in_in\n",
    "                den = np.sum(step_matrix_in_in[:i+1, i:], axis=1)\n",
    "                den = np.where(den == 0, 1, den)  # Prevent divisions by 0\n",
    "\n",
    "                # Compute `mdot_in_char` for each layer l up to i\n",
    "                mdot_in_char = mdot_in[:i+1] * (nom / den)\n",
    "                mdot_in_char_sum = np.sum(mdot_in_char)\n",
    "                mdot_sum_char = np.sum(mdot_in_char * (Tm_in[:i+1] - T_old[i]))\n",
    "\n",
    "                # Store the results\n",
    "                mdot_in_char_tot[i] = mdot_in_char_sum\n",
    "                mdot_prime_char[i] = mdot_sum_char\n",
    "\n",
    "\n",
    "\n",
    "\n",
    "\n",
    "\n",
    "\n",
    "                # DIRECT DISCHARGING OF LAYER i: entering hot stream\n",
    "                mdot_sum_dischar = 0                                    # initiale the sum factor for calculating Qdot_prime_charge i\n",
    "                mdot_in_dischar = 0\n",
    "                mdot_in_dischar_sum = 0\n",
    "\n",
    "                for l in range(i, self.num_layers):                            # iterate l from bottom layer (o) until current layer i (incl) to evaluate how heat inserted below in l affects layer i if buoyancy is present\n",
    "                    nom=0                                           # initialize nominator for inspection of heat in layer l in relationship to layer i\n",
    "                    den=0                                       # initialize denominator for inspection of heat in layer l in relationship to layer i\n",
    "\n",
    "                    nom= step(T_old[i], Tm_in[l])# * (Tm_in[l] - T_old[i])                # evaluate if heat transfer is available (1) or not (0) with Step ----- Tl>=Ti -> 1, layer below is hoter than i\n",
    "\n",
    "                    for j in range(l+1):       # iterate over layers starting from l and above until top of tank to evaluate the share of heat in layer l (homogenous distribution)\n",
    "                        den += step(T_old[j], Tm_in[l])          # sum up to calculate the denominator and thus the share\n",
    "                    den = np.where(den == 0, 1, den)                  # prevent divisions by 0    \n",
    "                    mdot_in_dischar = mdot_in[l] * nom / den\n",
    "                    mdot_in_dischar_sum += mdot_in_dischar\n",
    "                    mdot_sum_dischar += mdot_in_dischar * (Tm_in[l] - T_old[i])    # amount of heat transfered to layer i is the sum of all heat below layer i and its share that have buoyancy effects    \n",
    "                \n",
    "                mdot_in_dischar_tot[i] = mdot_in_dischar_sum  \n",
    "                mdot_prime_dischar[i] = mdot_sum_dischar\n",
    "                \n",
    "                mdot_in_tot[i] = mdot_in_char_tot[i] + mdot_in_dischar_tot[i] # total amount of mdot flowing into layer i inlcuding buoyancy effects\n",
    "\n",
    "\n",
    "            # Calculate mdot mix_in for layer i. Positive means from below to above (i-1 -> i). i=0 is 0 (outside of tank) and i=N+1= 0 (outside of tank)\n",
    "            mdot_mix_in = np.zeros(self.num_layers+1)\n",
    "\n",
    "\n",
    "            \"\"\"\n",
    "            \n",
    "            for i in range(num_layers-1):          # calculate mdot_mix_next between layers, flowing from layer i to i+1. There are num_layers-1 mixing streams\n",
    "                mdot_mix_sum = 0 \n",
    "                for j in range(0, i+1):                 #inlcude current layer i\n",
    "                    mdot_mix = 0\n",
    "                    mdot_mix = mdot_in[j] - mdot_out[j]\n",
    "                    mdot_mix_sum += mdot_mix\n",
    "                    \n",
    "                mdot_mix_in[i+1] = mdot_mix_sum\n",
    "\n",
    "            print(mdot_mix_in)\n",
    "            \"\"\"\n",
    "\n",
    "            # Calculate cumulative sum of the differences of the incoming - outgoing streams in each layer\n",
    "            mdot_diff = mdot_in_tot + mdot_out                              # difference of incoming streams (distributed by buoyancy) and outgoing streams (negative in their value)\n",
    "            cumulative_mdot_diff = np.cumsum(mdot_diff)                     # vector containing the cummulation of the sums of the net streams flowing out of the layers below\n",
    "\n",
    "            # Assign cumulative sums to mdot_mix_in (shifted by one position)\n",
    "            mdot_mix_in[1:self.num_layers] = cumulative_mdot_diff[:-1]      # create vector that contains mdot flowing from layer below to layer i. Begins with 0 (since no stream below i=0) and ends with 0\n",
    "\n",
    "            # Initiate vector for resulting mdot_prime\n",
    "            mdot_prime_mix = np.zeros(self.num_layers)\n",
    "\n",
    "            # take only the inflowing streams for each layer into account\n",
    "            for i in range(self.num_layers):\n",
    "                mdot_prime_mix_in_above = 0\n",
    "                mdot_prime_mix_below = 0\n",
    "                \n",
    "                if (-mdot_mix_in[i + 1]) > 0:                               # check if the value for -mdot_mix_in (above) is positive -> stream entering i. negative mdot since the defined direction in the general system is from l to l+1.\n",
    "                    mdot_prime_mix_in_above = (-mdot_mix_in[i + 1]) * (T_old[i + 1] - T_old[i])\n",
    "                    \n",
    "                if (mdot_mix_in[i]) > 0:                                    # check if the value for mdot_mix_in (below) is positive -> stream entering i\n",
    "                    mdot_prime_mix_below = (mdot_mix_in[i]) * (T_old[i - 1] - T_old[i])\n",
    "                    \n",
    "                mdot_prime_mix[i] += mdot_prime_mix_in_above + mdot_prime_mix_below    # total amount of heat portion that will affect each layer by incoming and outflowing mass flows from forced streaming (direct charging/discharging)                        \n",
    "\n",
    "                \n",
    "            #print(f\"mdot_prime_mix{mdot_prime_mix}\")       \n",
    "\n",
    "            ################ Calculate new temperatures after dt\n",
    "            # separate the effects of the model to allow modularity\n",
    "            # initiate arrays\n",
    "            \"\"\"\n",
    "            diffusivity = np.zeros_like(T_old)\n",
    "            heat_loss = np.zeros_like(T_old)\n",
    "            fast_buoyancy_qdot_charge = np.zeros_like(T_old)\n",
    "            fast_buoyancy_qdot_discharge = np.zeros_like(T_old)\n",
    "            fast_buoyancy_mdot_charge = np.zeros_like(T_old)\n",
    "            fast_buoyancy_mdot_discharge = np.zeros_like(T_old)\n",
    "            slow_buoyancy  = np.zeros_like(T_old)\"\"\"\n",
    "\n",
    "            # assing values\n",
    "            diffusivity = ((self.alpha) * (T_old_next - (2*T_old) + T_old_prev) / (self.dz**2))     if incl_diffusivity else 0\n",
    "            heat_loss = (self.beta_i * (self.T_a - T_old))                                          if incl_heat_loss else 0\n",
    "            fast_buoyancy_qdot_charge = ((self.lambda_i/self.dz) * Qdot_prime_char)                 if incl_fast_buoyancy else ((self.lambda_i/self.dz) * self.Qdot[k*freq])\n",
    "            fast_buoyancy_qdot_discharge = ((self.lambda_i/self.dz) * Qdot_prime_dischar)           if incl_fast_buoyancy else 0\n",
    "            fast_buoyancy_mdot_charge = ((self.phi_i/self.dz) * mdot_prime_char)                    if incl_fast_buoyancy else ((self.phi_i/self.dz) * mdot_in * (Tm_in - T_old))\n",
    "            fast_buoyancy_mdot_discharge = ((self.phi_i/self.dz) * mdot_prime_dischar)              if incl_fast_buoyancy else 0 \n",
    "            slow_buoyancy = ((0.5 * np.maximum(0,(T_old_prev - T_old)))                \n",
    "                            - (0.5 * np.maximum(0,(T_old - T_old_next))))                                if incl_slow_buoyancy else 0\n",
    "            mix_mdot_internal = ((self.phi_i/self.dz) * mdot_prime_mix)\n",
    "            \n",
    "            \n",
    "\n",
    "            T_new = (T_old\n",
    "                     + (diffusivity\n",
    "                        + heat_loss\n",
    "                        + fast_buoyancy_qdot_charge\n",
    "                        + fast_buoyancy_qdot_discharge\n",
    "                        + fast_buoyancy_mdot_charge\n",
    "                        + fast_buoyancy_mdot_discharge\n",
    "                        + mix_mdot_internal\n",
    "                     )* self.dt\n",
    "                     + slow_buoyancy\n",
    "                    ) \n",
    "            \n",
    "            #### Boundary conditions\n",
    "            ### bottom of the tank (i=0)\n",
    "\n",
    "            # separate the effects of the model to allow modularity\n",
    "            diffusivity_bottom = ((self.alpha) * (T_old[1] - (2*T_old[0]) + T_old[0]) / (self.dz**2))   if incl_diffusivity else 0\n",
    "            heat_loss_bottom = ((self.beta_i + self.beta_bottom) * (self.T_a - T_old[0]))               if incl_heat_loss else 0\n",
    "            fast_buoyancy_qdot_charge_bottom = ((self.lambda_i/self.dz) * Qdot_prime_char[0])           if incl_fast_buoyancy else ((self.lambda_i/self.dz) * self.Qdot[k*freq][0])\n",
    "            fast_buoyancy_qdot_discharge_bottom = ((self.lambda_i/self.dz) * Qdot_prime_dischar[0])     if incl_fast_buoyancy else 0 \n",
    "            fast_buoyancy_mdot_charge_bottom = ((self.phi_i/self.dz) * mdot_prime_char[0])              if incl_fast_buoyancy else ((self.phi_i/self.dz) * mdot_in[0] * (Tm_in[0] - T_old[0]))\n",
    "            fast_buoyancy_mdot_discharge_bottom = ((self.phi_i/self.dz) * mdot_prime_dischar[0])        if incl_fast_buoyancy else 0\n",
    "            mix_mdot_internal_bottom = ((self.phi_i/self.dz) * mdot_prime_mix[0])\n",
    "            slow_buoyancy_bottom = (- 0.5 * np.maximum(0,(T_old[0] - T_old[1])))     if incl_slow_buoyancy else 0\n",
    "            \n",
    "            T_new[0] = (T_old[0]\n",
    "                     + (diffusivity_bottom\n",
    "                        + heat_loss_bottom\n",
    "                        + fast_buoyancy_qdot_charge_bottom\n",
    "                        + fast_buoyancy_qdot_discharge_bottom\n",
    "                        + fast_buoyancy_mdot_charge_bottom\n",
    "                        + fast_buoyancy_mdot_discharge_bottom\n",
    "                        + mix_mdot_internal_bottom\n",
    "                     )* self.dt\n",
    "                     + slow_buoyancy_bottom\n",
    "                    ) \n",
    "           \n",
    "            ### top of the tank (i=-1)\n",
    "\n",
    "            # separate the effects of the model to allow modularity\n",
    "            diffusivity_top = ((self.alpha) * (T_old[-1] - (2*T_old[-1]) + T_old[-2]) / (self.dz**2))       if incl_diffusivity else 0\n",
    "            heat_loss_top = ((self.beta_i + self.beta_top)* (self.T_a - T_old[-1]))                         if incl_heat_loss else 0\n",
    "            fast_buoyancy_qdot_charge_top = ((self.lambda_i/self.dz) * Qdot_prime_char[-1])                 if incl_fast_buoyancy else ((self.lambda_i/self.dz) * self.Qdot[k*freq][-1])\n",
    "            fast_buoyancy_qdot_discharge_top = ((self.lambda_i/self.dz) * Qdot_prime_dischar[-1])           if incl_fast_buoyancy else 0 \n",
    "            fast_buoyancy_mdot_charge_top = ((self.phi_i/self.dz) * mdot_prime_char[-1])                    if incl_fast_buoyancy else ((self.phi_i/self.dz) * mdot_in[-1] * (Tm_in[-1] - T_old[1]))\n",
    "            fast_buoyancy_mdot_discharge_top = ((self.phi_i/self.dz) * mdot_prime_dischar[-1])              if incl_fast_buoyancy else 0\n",
    "            mix_mdot_internal_top = ((self.phi_i/self.dz) * mdot_prime_mix[-1])\n",
    "            slow_buoyancy_top = (0.5 * np.maximum(0,((T_old[-2] - T_old[-1]))))            if incl_slow_buoyancy else 0\n",
    "            \n",
    "            T_new[-1] = (T_old[-1]\n",
    "                     + (diffusivity_top\n",
    "                        + heat_loss_top\n",
    "                        + fast_buoyancy_qdot_charge_top\n",
    "                        + fast_buoyancy_qdot_discharge_top\n",
    "                        + fast_buoyancy_mdot_charge_top\n",
    "                        + fast_buoyancy_mdot_discharge_top\n",
    "                        + mix_mdot_internal_top\n",
    "                     )* self.dt\n",
    "                     + slow_buoyancy_top\n",
    "                    ) \n",
    "\n",
    "\n",
    "            T_old = np.copy(T_new) # return the new temperature as old temperature for the next iteration\n",
    "\n",
    "            results.append(T_old.copy())            # Store the updated temperature array fo later plot\n",
    "\n",
    "        return T_old, results\n",
    "     \n",
    " # check the stability of the model with the selected dt\n",
    "    def stability_check(self):\n",
    "        # check if the time step dt is small enough with CFL condition: dt <= (dz^2) / (2 * alpha)\n",
    "        cfl_dt_max = (self.dz ** 2) / (2 * self.alpha)\n",
    "        if self.dt > cfl_dt_max:\n",
    "            print(f\"Warning: Time step size dt {self.dt} exceeds CFL stability limit ({cfl_dt_max}).\")\n",
    "            sc = 1\n",
    "        else:\n",
    "            sc = 0\n",
    "        return sc\n",
    "\n",
    "\n",
    "# MODEL 5 - fast buoy (mdot - integrated)\n",
    "\"\"\"tank_vector5o = HeatDistributionVector_model5(alpha, beta_i, beta_bottom, beta_top, lambda_i, phi_i, z, T_a, T_zero, dt, Qdot, mdot, Tm)\n",
    "stability5o = tank_vector5o.stability_check()\n",
    "if (stability5o == 0):\n",
    "    # Solve for the temperatures\n",
    "    final_temperature5o, results5o = tank_vector5o.vector_solve(num_steps, \n",
    "                                                                incl_diffusivity=False,\n",
    "                                                                incl_heat_loss=False,\n",
    "                                                                incl_fast_buoyancy=False,\n",
    "                                                                incl_slow_buoyancy=False)\n",
    "    # Plot the results\n",
    "    plot_results_height(results5o, tank_vector5o.heights, dt, z, dz, \"Layer temperatures over tank height. M5o: integrated direct charging\")\"\"\"\n",
    "\n",
    "\n",
    "\n",
    "\n",
    "tank_vector5 = HeatDistributionVector_model5(alpha, beta_i, beta_bottom, beta_top, lambda_i, phi_i, z, T_a, T_zero, dt, Qdot, mdot, Tm)\n",
    "stability5 = tank_vector5.stability_check()\n",
    "if (stability5 == 0):\n",
    "    # Solve for the temperatures\n",
    "    final_temperature5, results5 = tank_vector5.vector_solve(num_steps, \n",
    "                                                             incl_diffusivity=True,\n",
    "                                                             incl_heat_loss=True,\n",
    "                                                             incl_fast_buoyancy=True,\n",
    "                                                             incl_slow_buoyancy=True)\n",
    "    # Plot the results\n",
    "    plot_results_height(results5, tank_vector5.heights, dt, z, dz, \"Layer temperatures over tank height. M5: integrated direct charging\")\n",
    "    plot_results_time(results5, dt, \"M4: fast buoyancy (only indirect charging), Temperature development of each layer over time.)\")\n",
    "\n",
    "\n"
   ]
  },
  {
   "cell_type": "code",
   "execution_count": 6,
   "metadata": {},
   "outputs": [
    {
     "name": "stdout",
     "output_type": "stream",
     "text": [
      "Heat diffusivity: True\n",
      "Heat losses: True\n",
      "Fast Buoyancy, direct charging qdot: True\n",
      "Slow Buoyancy: True\n"
     ]
    },
    {
     "data": {
      "application/vnd.plotly.v1+json": {
       "config": {
        "plotlyServerURL": "https://plot.ly"
       },
       "data": [
        {
         "mode": "lines",
         "name": "0 seconds",
         "type": "scatter",
         "x": [
          0.10495000000000002,
          0.3148500000000001,
          0.52475,
          0.7346500000000001,
          0.9445500000000001,
          1.1544500000000002,
          1.3643500000000004,
          1.5742500000000004,
          1.7841500000000003,
          1.9940500000000003
         ],
         "y": [
          100,
          90,
          80,
          70,
          60,
          50,
          40,
          30,
          20,
          10
         ]
        },
        {
         "mode": "lines",
         "name": "60 seconds",
         "type": "scatter",
         "x": [
          0.10495000000000002,
          0.3148500000000001,
          0.52475,
          0.7346500000000001,
          0.9445500000000001,
          1.1544500000000002,
          1.3643500000000004,
          1.5742500000000004,
          1.7841500000000003,
          1.9940500000000003
         ],
         "y": [
          91.09677858960907,
          88.0496611192196,
          79.99781839741341,
          64.1548009645564,
          54.1551645649875,
          44.1555281654186,
          34.1558917658497,
          33.8952237550943,
          25.843381033288104,
          28.637249752947113
         ]
        },
        {
         "mode": "lines",
         "name": "120 seconds",
         "type": "scatter",
         "x": [
          0.10495000000000002,
          0.3148500000000001,
          0.52475,
          0.7346500000000001,
          0.9445500000000001,
          1.1544500000000002,
          1.3643500000000004,
          1.5742500000000004,
          1.7841500000000003,
          1.9940500000000003
         ],
         "y": [
          86.32546127452136,
          83.19196726610403,
          76.09850040892877,
          61.23287927530391,
          48.31075411402967,
          38.31148130167134,
          38.87447938753803,
          34.27284272302535,
          42.05240231991786,
          38.64048872307181
         ]
        },
        {
         "mode": "lines",
         "name": "180 seconds",
         "type": "scatter",
         "x": [
          0.10495000000000002,
          0.3148500000000001,
          0.52475,
          0.7346500000000001,
          0.9445500000000001,
          1.1544500000000002,
          1.3643500000000004,
          1.5742500000000004,
          1.7841500000000003,
          1.9940500000000003
         ],
         "y": [
          82.90530649324998,
          80.27630177345321,
          72.20883819892454,
          54.652624347411205,
          43.928775945548374,
          43.64153321862028,
          33.88303625966552,
          50.028203716343285,
          45.741116473182046,
          48.40178786790267
         ]
        },
        {
         "mode": "lines",
         "name": "240 seconds",
         "type": "scatter",
         "x": [
          0.10495000000000002,
          0.3148500000000001,
          0.52475,
          0.7346500000000001,
          0.9445500000000001,
          1.1544500000000002,
          1.3643500000000004,
          1.5742500000000004,
          1.7841500000000003,
          1.9940500000000003
         ],
         "y": [
          80.73700140973284,
          77.47307254794069,
          67.46067810826459,
          51.802552336619414,
          48.980436958926894,
          33.20090173326148,
          48.201166874678435,
          51.212284850657326,
          56.11276091141892,
          54.553934258316204
         ]
        },
        {
         "mode": "lines",
         "name": "300 seconds",
         "type": "scatter",
         "x": [
          0.10495000000000002,
          0.3148500000000001,
          0.52475,
          0.7346500000000001,
          0.9445500000000001,
          1.1544500000000002,
          1.3643500000000004,
          1.5742500000000004,
          1.7841500000000003,
          1.9940500000000003
         ],
         "y": [
          78.66944367286442,
          74.09540824648332,
          64.63496423615344,
          56.572883812422575,
          33.277513311958515,
          49.86153575279481,
          49.9572686586165,
          59.68231347264737,
          59.0726097458031,
          60.28758757867719
         ]
        },
        {
         "mode": "lines",
         "name": "360 seconds",
         "type": "scatter",
         "x": [
          0.10495000000000002,
          0.3148500000000001,
          0.52475,
          0.7346500000000001,
          0.9445500000000001,
          1.1544500000000002,
          1.3643500000000004,
          1.5742500000000004,
          1.7841500000000003,
          1.9940500000000003
         ],
         "y": [
          76.37737608460621,
          71.64926548451757,
          65.33280113514306,
          35.33950755149,
          54.62332118057877,
          49.91311202433026,
          55.640808236711536,
          62.97515693037873,
          64.16258541201117,
          64.1240740556658
         ]
        },
        {
         "mode": "lines",
         "name": "420 seconds",
         "type": "scatter",
         "x": [
          0.10495000000000002,
          0.3148500000000001,
          0.52475,
          0.7346500000000001,
          0.9445500000000001,
          1.1544500000000002,
          1.3643500000000004,
          1.5742500000000004,
          1.7841500000000003,
          1.9940500000000003
         ],
         "y": [
          74.00840203091548,
          70.85289482993045,
          53.48803058053219,
          61.613661385815455,
          49.50983231028743,
          55.616115457499,
          59.925571188936175,
          66.98232004361299,
          67.20377817595289,
          67.23252628120593
         ]
        },
        {
         "mode": "lines",
         "name": "480 seconds",
         "type": "scatter",
         "x": [
          0.10495000000000002,
          0.3148500000000001,
          0.52475,
          0.7346500000000001,
          0.9445500000000001,
          1.1544500000000002,
          1.3643500000000004,
          1.5742500000000004,
          1.7841500000000003,
          1.9940500000000003
         ],
         "y": [
          72.42620953902701,
          63.74354206327078,
          62.17431332281063,
          48.483483049864525,
          59.13242847614763,
          58.13264238150548,
          64.04819297577261,
          69.64423460881123,
          69.7112621383562,
          69.7160277262355
         ]
        },
        {
         "mode": "lines",
         "name": "540 seconds",
         "type": "scatter",
         "x": [
          0.10495000000000002,
          0.3148500000000001,
          0.52475,
          0.7346500000000001,
          0.9445500000000001,
          1.1544500000000002,
          1.3643500000000004,
          1.5742500000000004,
          1.7841500000000003,
          1.9940500000000003
         ],
         "y": [
          68.07944960989597,
          67.30008527012801,
          56.10956897357663,
          61.555286546211434,
          58.04458335878542,
          62.08920550660322,
          67.31650820800172,
          71.69758639043953,
          71.71626082574582,
          71.71562383245923
         ]
        },
        {
         "mode": "lines",
         "name": "600 seconds",
         "type": "scatter",
         "x": [
          0.10495000000000002,
          0.3148500000000001,
          0.52475,
          0.7346500000000001,
          0.9445500000000001,
          1.1544500000000002,
          1.3643500000000004,
          1.5742500000000004,
          1.7841500000000003,
          1.9940500000000003
         ],
         "y": [
          67.68621941274212,
          62.09071942204403,
          61.70682193830921,
          57.74520556446109,
          62.16348070039913,
          65.14242243825876,
          69.87465043960295,
          73.32289035058707,
          73.32718734369763,
          73.32591832846154
         ]
        },
        {
         "mode": "lines",
         "name": "660 seconds",
         "type": "scatter",
         "x": [
          0.10495000000000002,
          0.3148500000000001,
          0.52475,
          0.7346500000000001,
          0.9445500000000001,
          1.1544500000000002,
          1.3643500000000004,
          1.5742500000000004,
          1.7841500000000003,
          1.9940500000000003
         ],
         "y": [
          64.8839915548653,
          64.6960264716766,
          59.91573467795746,
          62.30807401053613,
          63.90237061855991,
          67.9063507964115,
          71.8875196707955,
          74.62334086594566,
          74.62359744709416,
          74.62276317539069
         ]
        },
        {
         "mode": "lines",
         "name": "720 seconds",
         "type": "scatter",
         "x": [
          0.10495000000000002,
          0.3148500000000001,
          0.52475,
          0.7346500000000001,
          0.9445500000000001,
          1.1544500000000002,
          1.3643500000000004,
          1.5742500000000004,
          1.7841500000000003,
          1.9940500000000003
         ],
         "y": [
          64.7868040833402,
          62.39732488028416,
          62.30585536241815,
          63.23798526936291,
          66.24093162378726,
          70.2309530529771,
          73.48402999561515,
          75.66822304698687,
          75.66791877141236,
          75.66670042367477
         ]
        },
        {
         "mode": "lines",
         "name": "780 seconds",
         "type": "scatter",
         "x": [
          0.10495000000000002,
          0.3148500000000001,
          0.52475,
          0.7346500000000001,
          0.9445500000000001,
          1.1544500000000002,
          1.3643500000000004,
          1.5742500000000004,
          1.7841500000000003,
          1.9940500000000003
         ],
         "y": [
          63.58842868625661,
          63.54524506476123,
          62.35025539964245,
          64.99156084938713,
          68.5709681146185,
          72.12987693823557,
          74.75818001405042,
          76.50917544573367,
          76.50852558151418,
          76.5074186762896
         ]
        },
        {
         "mode": "lines",
         "name": "840 seconds",
         "type": "scatter",
         "x": [
          0.10495000000000002,
          0.3148500000000001,
          0.52475,
          0.7346500000000001,
          0.9445500000000001,
          1.1544500000000002,
          1.3643500000000004,
          1.5742500000000004,
          1.7841500000000003,
          1.9940500000000003
         ],
         "y": [
          63.563752162876895,
          62.96752972378117,
          62.94697314093433,
          67.08169552833317,
          70.64880402835657,
          73.66361409676018,
          75.77918791975064,
          77.18600841935888,
          77.18566269065272,
          77.184267284524
         ]
        },
        {
         "mode": "lines",
         "name": "900 seconds",
         "type": "scatter",
         "x": [
          0.10495000000000002,
          0.3148500000000001,
          0.52475,
          0.7346500000000001,
          0.9445500000000001,
          1.1544500000000002,
          1.3643500000000004,
          1.5742500000000004,
          1.7841500000000003,
          1.9940500000000003
         ],
         "y": [
          63.26244801214216,
          63.25391480960748,
          62.956516067575514,
          69.16426819315394,
          72.40852102010757,
          74.89769448657862,
          76.59907768798588,
          77.73138196269062,
          77.73041782292788,
          77.72937628996011
         ]
        },
        {
         "mode": "lines",
         "name": "960 seconds",
         "type": "scatter",
         "x": [
          0.10495000000000002,
          0.3148500000000001,
          0.52475,
          0.7346500000000001,
          0.9445500000000001,
          1.1544500000000002,
          1.3643500000000004,
          1.5742500000000004,
          1.7841500000000003,
          1.9940500000000003
         ],
         "y": [
          63.255126592880295,
          63.10785189087136,
          63.10494694897041,
          71.0576318929395,
          73.86098421477647,
          75.88972480161573,
          77.25855512608939,
          78.16989205433839,
          78.16973920462405,
          78.16809383152614
         ]
        },
        {
         "mode": "lines",
         "name": "1020 seconds",
         "type": "scatter",
         "x": [
          0.10495000000000002,
          0.3148500000000001,
          0.52475,
          0.7346500000000001,
          0.9445500000000001,
          1.1544500000000002,
          1.3643500000000004,
          1.5742500000000004,
          1.7841500000000003,
          1.9940500000000003
         ],
         "y": [
          63.17840735476727,
          63.17849807243425,
          63.106413922354584,
          72.69285717846846,
          75.0443422386287,
          76.68742115524772,
          77.78891113185321,
          78.52389729201182,
          78.52241317834421,
          78.52162932662587
         ]
        },
        {
         "mode": "lines",
         "name": "1080 seconds",
         "type": "scatter",
         "x": [
          0.10495000000000002,
          0.3148500000000001,
          0.52475,
          0.7346500000000001,
          0.9445500000000001,
          1.1544500000000002,
          1.3643500000000004,
          1.5742500000000004,
          1.7841500000000003,
          1.9940500000000003
         ],
         "y": [
          63.17536018238099,
          63.1408716749028,
          63.1428090394639,
          74.06356506612047,
          76.00231359020546,
          77.32889487847251,
          78.21621747184965,
          78.80752800033889,
          78.8079809636153,
          78.80584751978
         ]
        },
        {
         "mode": "lines",
         "name": "1140 seconds",
         "type": "scatter",
         "x": [
          0.10495000000000002,
          0.3148500000000001,
          0.52475,
          0.7346500000000001,
          0.9445500000000001,
          1.1544500000000002,
          1.3643500000000004,
          1.5742500000000004,
          1.7841500000000003,
          1.9940500000000003
         ],
         "y": [
          63.15506209595608,
          63.15655456719938,
          63.14341134036741,
          75.19269806644263,
          76.77532762110711,
          77.84521946137144,
          78.55956714465324,
          79.03780590248853,
          79.03570952848247,
          79.03536087948555
         ]
        },
        {
         "mode": "lines",
         "name": "1200 seconds",
         "type": "scatter",
         "x": [
          0.10495000000000002,
          0.3148500000000001,
          0.52475,
          0.7346500000000001,
          0.9445500000000001,
          1.1544500000000002,
          1.3643500000000004,
          1.5742500000000004,
          1.7841500000000003,
          1.9940500000000003
         ],
         "y": [
          63.152016849802436,
          63.14841086960099,
          63.15081261561516,
          76.11340093721996,
          77.39833988944443,
          78.26046608465641,
          78.8368440997116,
          79.2207061606544,
          79.22205735704284,
          79.21926082256635
         ]
        },
        {
         "mode": "lines",
         "name": "1260 seconds",
         "type": "scatter",
         "x": [
          0.10495000000000002,
          0.3148500000000001,
          0.52475,
          0.7346500000000001,
          0.9445500000000001,
          1.1544500000000002,
          1.3643500000000004,
          1.5742500000000004,
          1.7841500000000003,
          1.9940500000000003
         ],
         "y": [
          63.14716781473861,
          63.148646176131194,
          63.15182050818257,
          76.85987758910167,
          77.89994200173085,
          78.59509055275615,
          79.05897174044425,
          79.37105675593466,
          79.36839800306731,
          79.36855230224641
         ]
        },
        {
         "mode": "lines",
         "name": "1320 seconds",
         "type": "scatter",
         "x": [
          0.10495000000000002,
          0.3148500000000001,
          0.52475,
          0.7346500000000001,
          0.9445500000000001,
          1.1544500000000002,
          1.3643500000000004,
          1.5742500000000004,
          1.7841500000000003,
          1.9940500000000003
         ],
         "y": [
          63.14412312289544,
          63.147077626703854,
          63.15297643112818,
          77.4630406662981,
          78.30396996398449,
          78.86397750351547,
          79.23915733826833,
          79.48845762203956,
          79.49068250184435,
          79.48735549213949
         ]
        },
        {
         "mode": "lines",
         "name": "1380 seconds",
         "type": "scatter",
         "x": [
          0.10495000000000002,
          0.3148500000000001,
          0.52475,
          0.7346500000000001,
          0.9445500000000001,
          1.1544500000000002,
          1.3643500000000004,
          1.5742500000000004,
          1.7841500000000003,
          1.9940500000000003
         ],
         "y": [
          63.141078939422115,
          63.145509382512955,
          63.15425146668377,
          77.94966028695407,
          78.62902791729444,
          79.08103233073706,
          79.38265402645546,
          79.58718347647202,
          79.58411525108359,
          79.58467408466285
         ]
        },
        {
         "mode": "lines",
         "name": "1440 seconds",
         "type": "scatter",
         "x": [
          0.10495000000000002,
          0.3148500000000001,
          0.52475,
          0.7346500000000001,
          0.9445500000000001,
          1.1544500000000002,
          1.3643500000000004,
          1.5742500000000004,
          1.7841500000000003,
          1.9940500000000003
         ],
         "y": [
          63.138035264242376,
          63.143941467210105,
          63.15562239102076,
          78.34172695225665,
          78.8909743586101,
          79.25510329104243,
          79.49998991676071,
          79.66205675528336,
          79.6648159201578,
          79.66136587781534
         ]
        },
        {
         "mode": "lines",
         "name": "1500 seconds",
         "type": "scatter",
         "x": [
          0.10495000000000002,
          0.3148500000000001,
          0.52475,
          0.7346500000000001,
          0.9445500000000001,
          1.1544500000000002,
          1.3643500000000004,
          1.5742500000000004,
          1.7841500000000003,
          1.9940500000000003
         ],
         "y": [
          63.13499209728467,
          63.14237389981908,
          63.1570703627392,
          78.65764160391068,
          79.10157068310954,
          79.39602165053375,
          79.59251185664058,
          79.72729242209836,
          79.72419120110007,
          79.72484009793499
         ]
        },
        {
         "mode": "lines",
         "name": "1560 seconds",
         "type": "scatter",
         "x": [
          0.10495000000000002,
          0.3148500000000001,
          0.52475,
          0.7346500000000001,
          0.9445500000000001,
          1.1544500000000002,
          1.3643500000000004,
          1.5742500000000004,
          1.7841500000000003,
          1.9940500000000003
         ],
         "y": [
          63.13194943848127,
          63.14080669560915,
          63.158580207257,
          78.91191979202186,
          79.27145094673031,
          79.50865924556732,
          79.6690902206736,
          79.77484835782104,
          79.77767202168639,
          79.77422053392303
         ]
        },
        {
         "mode": "lines",
         "name": "1620 seconds",
         "type": "scatter",
         "x": [
          0.10495000000000002,
          0.3148500000000001,
          0.52475,
          0.7346500000000001,
          0.9445500000000001,
          1.1544500000000002,
          1.3643500000000004,
          1.5742500000000004,
          1.7841500000000003,
          1.9940500000000003
         ],
         "y": [
          63.12890728776748,
          63.13923986682583,
          63.1601396426902,
          79.11680477309069,
          79.40788136035182,
          79.60022617431957,
          79.72870828871997,
          79.81815934432792,
          79.81505957863389,
          79.81570575408438
         ]
        },
        {
         "mode": "lines",
         "name": "1680 seconds",
         "type": "scatter",
         "x": [
          0.10495000000000002,
          0.3148500000000001,
          0.52475,
          0.7346500000000001,
          0.9445500000000001,
          1.1544500000000002,
          1.3643500000000004,
          1.5742500000000004,
          1.7841500000000003,
          1.9940500000000003
         ],
         "y": [
          63.12586564508107,
          63.1376734232673,
          63.161738826799414,
          79.28162765472044,
          79.51809606028635,
          79.67312340482482,
          79.77879844998894,
          79.84802356560371,
          79.85083549142401,
          79.84738102297695
         ]
        },
        {
         "mode": "lines",
         "name": "1740 seconds",
         "type": "scatter",
         "x": [
          0.10495000000000002,
          0.3148500000000001,
          0.52475,
          0.7346500000000001,
          0.9445500000000001,
          1.1544500000000002,
          1.3643500000000004,
          1.5742500000000004,
          1.7841500000000003,
          1.9940500000000003
         ],
         "y": [
          63.122824510361774,
          63.13610737277056,
          63.163369776911615,
          79.41449159082016,
          79.60650417139338,
          79.73269383028865,
          79.81706851576658,
          79.87707927324303,
          79.87396642343708,
          79.87461241718009
         ]
        },
        {
         "mode": "lines",
         "name": "1800 seconds",
         "type": "scatter",
         "x": [
          0.10495000000000002,
          0.3148500000000001,
          0.52475,
          0.7346500000000001,
          0.9445500000000001,
          1.1544500000000002,
          1.3643500000000004,
          1.5742500000000004,
          1.7841500000000003,
          1.9940500000000003
         ],
         "y": [
          63.11978388355089,
          63.134541721581996,
          63.16502612496007,
          79.52133853153285,
          79.67806121478,
          79.77981697662726,
          79.84995529252988,
          79.89545662905986,
          79.89827279482604,
          79.8948097263469
         ]
        },
        {
         "mode": "lines",
         "name": "1860 seconds",
         "type": "scatter",
         "x": [
          0.10495000000000002,
          0.3148500000000001,
          0.52475,
          0.7346500000000001,
          0.9445500000000001,
          1.1544500000000002,
          1.3643500000000004,
          1.5742500000000004,
          1.7841500000000003,
          1.9940500000000003
         ],
         "y": [
          63.11674376459098,
          63.13297647467914,
          63.1667026870738,
          79.60753242405275,
          79.73534015777668,
          79.81862158393217,
          79.87436241172183,
          79.91527882529407,
          79.91215286615565,
          79.91280394227648
         ]
        },
        {
         "mode": "lines",
         "name": "1920 seconds",
         "type": "scatter",
         "x": [
          0.10495000000000002,
          0.3148500000000001,
          0.52475,
          0.7346500000000001,
          0.9445500000000001,
          1.1544500000000002,
          1.3643500000000004,
          1.5742500000000004,
          1.7841500000000003,
          1.9940500000000003
         ],
         "y": [
          63.113704153425616,
          63.13141163600663,
          63.168395348139725,
          79.6768045221959,
          79.78182383572454,
          79.84901258999786,
          79.89609144930512,
          79.92620388652543,
          79.92902944602383,
          79.92555963406436
         ]
        },
        {
         "mode": "lines",
         "name": "1980 seconds",
         "type": "scatter",
         "x": [
          0.10495000000000002,
          0.3148500000000001,
          0.52475,
          0.7346500000000001,
          0.9445500000000001,
          1.1544500000000002,
          1.3643500000000004,
          1.5742500000000004,
          1.7841500000000003,
          1.9940500000000003
         ],
         "y": [
          63.11066504999917,
          63.12984720868919,
          63.17010073671219,
          79.73273999163776,
          79.81890359346616,
          79.87434245024878,
          79.91150609587697,
          79.94004458415739,
          79.93691032254384,
          79.93756560540527
         ]
        },
        {
         "mode": "lines",
         "name": "2040 seconds",
         "type": "scatter",
         "x": [
          0.10495000000000002,
          0.3148500000000001,
          0.52475,
          0.7346500000000001,
          0.9445500000000001,
          1.1544500000000002,
          1.3643500000000004,
          1.5742500000000004,
          1.7841500000000003,
          1.9940500000000003
         ],
         "y": [
          63.10762645425664,
          63.12828319517984,
          63.17181619564354,
          79.77764078489335,
          79.84911750301248,
          79.89387791713749,
          79.92600212211676,
          79.94613834279757,
          79.9489703724104,
          79.9454964877851
         ]
        },
        {
         "mode": "lines",
         "name": "2100 seconds",
         "type": "scatter",
         "x": [
          0.10495000000000002,
          0.3148500000000001,
          0.52475,
          0.7346500000000001,
          0.9445500000000001,
          1.1544500000000002,
          1.3643500000000004,
          1.5742500000000004,
          1.7841500000000003,
          1.9940500000000003
         ],
         "y": [
          63.10458836614353,
          63.126719597402186,
          63.173539526634215,
          79.81394633312168,
          79.8730912900441,
          79.91046905772099,
          79.93558718754083,
          79.95610126040191,
          79.95296202460007,
          79.9536198015201
         ]
        },
        {
         "mode": "lines",
         "name": "2160 seconds",
         "type": "scatter",
         "x": [
          0.10495000000000002,
          0.3148500000000001,
          0.52475,
          0.7346500000000001,
          0.9445500000000001,
          1.1544500000000002,
          1.3643500000000004,
          1.5742500000000004,
          1.7841500000000003,
          1.9940500000000003
         ],
         "y": [
          63.10155078560575,
          63.12515641684192,
          63.17526901736826,
          79.84303531548161,
          79.89275122779115,
          79.92296575325267,
          79.94539416601508,
          79.95906312676689,
          79.96189889640033,
          79.95842252425649
         ]
        },
        {
         "mode": "lines",
         "name": "2220 seconds",
         "type": "scatter",
         "x": [
          0.10495000000000002,
          0.3148500000000001,
          0.52475,
          0.7346500000000001,
          0.9445500000000001,
          1.1544500000000002,
          1.3643500000000004,
          1.5742500000000004,
          1.7841500000000003,
          1.9940500000000003
         ],
         "y": [
          63.098513712589515,
          63.12359365464362,
          63.17700323039426,
          79.86660617550014,
          79.90822514583891,
          79.93389117970564,
          79.95120010186807,
          79.96651156523285,
          79.96336917022991,
          79.9640284448162
         ]
        },
        {
         "mode": "lines",
         "name": "2280 seconds",
         "type": "scatter",
         "x": [
          0.10495000000000002,
          0.3148500000000001,
          0.52475,
          0.7346500000000001,
          0.9445500000000001,
          1.1544500000000002,
          1.3643500000000004,
          1.5742500000000004,
          1.7841500000000003,
          1.9940500000000003
         ],
         "y": [
          63.09547714704128,
          63.122031311665545,
          63.178741066584365,
          79.8854388751085,
          79.92104134983687,
          79.94182458195141,
          79.95796694795736,
          79.96744294864357,
          79.97028102204968,
          79.96680304373447
         ]
        },
        {
         "mode": "lines",
         "name": "2340 seconds",
         "type": "scatter",
         "x": [
          0.10495000000000002,
          0.3148500000000001,
          0.52475,
          0.7346500000000001,
          0.9445500000000001,
          1.1544500000000002,
          1.3643500000000004,
          1.5742500000000004,
          1.7841500000000003,
          1.9940500000000003
         ],
         "y": [
          63.09244108890768,
          63.120469388547036,
          63.180481582366795,
          79.9007506271223,
          79.93100410613324,
          79.94907677142297,
          79.96132273649724,
          79.97326104633294,
          79.97011658355999,
          79.97077682398289
         ]
        },
        {
         "mode": "lines",
         "name": "2400 seconds",
         "type": "scatter",
         "x": [
          0.10495000000000002,
          0.3148500000000001,
          0.52475,
          0.7346500000000001,
          0.9445500000000001,
          1.1544500000000002,
          1.3643500000000004,
          1.5742500000000004,
          1.7841500000000003,
          1.9940500000000003
         ],
         "y": [
          63.089405538135495,
          63.11890788573953,
          63.18222407659635,
          79.91293243850143,
          79.93938313730159,
          79.95405164589644,
          79.96611848837324,
          79.97287595277776,
          79.97571553200427,
          79.97223650143431
         ]
        },
        {
         "mode": "lines",
         "name": "2460 seconds",
         "type": "scatter",
         "x": [
          0.10495000000000002,
          0.3148500000000001,
          0.52475,
          0.7346500000000001,
          0.9445500000000001,
          1.1544500000000002,
          1.3643500000000004,
          1.5742500000000004,
          1.7841500000000003,
          1.9940500000000003
         ],
         "y": [
          63.08637049467162,
          63.11734680355487,
          63.18396792617567,
          79.9228888658349,
          79.94577276459931,
          79.95892231255397,
          79.9678857059962,
          79.97763703654334,
          79.9744912239939,
          79.97515209911325
         ]
        },
        {
         "mode": "lines",
         "name": "2520 seconds",
         "type": "scatter",
         "x": [
          0.10495000000000002,
          0.3148500000000001,
          0.52475,
          0.7346500000000001,
          0.9445500000000001,
          1.1544500000000002,
          1.3643500000000004,
          1.5742500000000004,
          1.7841500000000003,
          1.9940500000000003
         ],
         "y": [
          63.08333595846301,
          63.11578614218083,
          63.18571268812977,
          79.9307583719052,
          79.95127498015978,
          79.96197902354932,
          79.97140350174813,
          79.97639840222234,
          79.97923896983824,
          79.97575925434242
         ]
        },
        {
         "mode": "lines",
         "name": "2580 seconds",
         "type": "scatter",
         "x": [
          0.10495000000000002,
          0.3148500000000001,
          0.52475,
          0.7346500000000001,
          0.9445500000000001,
          1.1544500000000002,
          1.3643500000000004,
          1.5742500000000004,
          1.7841500000000003,
          1.9940500000000003
         ],
         "y": [
          63.08030192945669,
          63.11422590171704,
          63.18745794720634,
          79.93724260533256,
          79.95534797860898,
          79.96530563070824,
          79.97214076887336,
          79.9804741856342,
          79.9773274976979,
          79.97798878642816
         ]
        },
        {
         "mode": "lines",
         "name": "2640 seconds",
         "type": "scatter",
         "x": [
          0.10495000000000002,
          0.3148500000000001,
          0.52475,
          0.7346500000000001,
          0.9445500000000001,
          1.1544500000000002,
          1.3643500000000004,
          1.5742500000000004,
          1.7841500000000003,
          1.9940500000000003
         ],
         "y": [
          63.077268407599696,
          63.11266608218051,
          63.18920342784125,
          79.94231620485176,
          79.95898501511171,
          79.9671187004362,
          79.97483001009478,
          79.97868216258082,
          79.98152337245463,
          79.97804321322236
         ]
        },
        {
         "mode": "lines",
         "name": "2700 seconds",
         "type": "scatter",
         "x": [
          0.10495000000000002,
          0.3148500000000001,
          0.52475,
          0.7346500000000001,
          0.9445500000000001,
          1.1544500000000002,
          1.3643500000000004,
          1.5742500000000004,
          1.7841500000000003,
          1.9940500000000003
         ],
         "y": [
          63.0742353928391,
          63.111106683533436,
          63.190948849547425,
          79.94654923403046,
          79.96155602905891,
          79.96944422149471,
          79.97489951485605,
          79.98231363619092,
          79.97916638137968,
          79.97982793801415
         ]
        },
        {
         "mode": "lines",
         "name": "2760 seconds",
         "type": "scatter",
         "x": [
          0.10495000000000002,
          0.3148500000000001,
          0.52475,
          0.7346500000000001,
          0.9445500000000001,
          1.1544500000000002,
          1.3643500000000004,
          1.5742500000000004,
          1.7841500000000003,
          1.9940500000000003
         ],
         "y": [
          63.07120288512198,
          63.10954770568225,
          63.192694045304556,
          79.94981010540357,
          79.96398378032038,
          79.97045098196307,
          79.97705156799421,
          79.98016282722412,
          79.98300445282366,
          79.97952400617916
         ]
        },
        {
         "mode": "lines",
         "name": "2820 seconds",
         "type": "scatter",
         "x": [
          0.10495000000000002,
          0.3148500000000001,
          0.52475,
          0.7346500000000001,
          0.9445500000000001,
          1.1544500000000002,
          1.3643500000000004,
          1.5742500000000004,
          1.7841500000000003,
          1.9940500000000003
         ],
         "y": [
          63.06817088439539,
          63.10798914850022,
          63.19443882200144,
          79.9525835673772,
          79.96558098735821,
          79.972127454223,
          79.9766881333524,
          79.98350623439202,
          79.98035861220683,
          79.98102034231562
         ]
        },
        {
         "mode": "lines",
         "name": "2880 seconds",
         "type": "scatter",
         "x": [
          0.10495000000000002,
          0.3148500000000001,
          0.52475,
          0.7346500000000001,
          0.9445500000000001,
          1.1544500000000002,
          1.3643500000000004,
          1.5742500000000004,
          1.7841500000000003,
          1.9940500000000003
         ],
         "y": [
          63.065139390606404,
          63.10643101182224,
          63.196183082992576,
          79.95466915952387,
          79.96722470364459,
          79.97261144884399,
          79.9784919034565,
          79.98112280861403,
          79.98396470349667,
          79.9804840705397
         ]
        },
        {
         "mode": "lines",
         "name": "2940 seconds",
         "type": "scatter",
         "x": [
          0.10495000000000002,
          0.3148500000000001,
          0.52475,
          0.7346500000000001,
          0.9445500000000001,
          1.1544500000000002,
          1.3643500000000004,
          1.5742500000000004,
          1.7841500000000003,
          1.9940500000000003
         ],
         "y": [
          63.06210840370205,
          63.10487329546406,
          63.197926691817095,
          79.95649631521212,
          79.96819054787863,
          79.97386711396491,
          79.97784777493109,
          79.98427944922288,
          79.98113158882978,
          79.9817934313865
         ]
        },
        {
         "mode": "lines",
         "name": "3000 seconds",
         "type": "scatter",
         "x": [
          0.10495000000000002,
          0.3148500000000001,
          0.52475,
          0.7346500000000001,
          0.9445500000000001,
          1.1544500000000002,
          1.3643500000000004,
          1.5742500000000004,
          1.7841500000000003,
          1.9940500000000003
         ],
         "y": [
          63.059077923629346,
          63.103315999214374,
          63.19966959745701,
          79.95781991949836,
          79.96932593926012,
          79.97401217625543,
          79.97942573748922,
          79.98174520752235,
          79.9845872769975,
          79.98110652322926
         ]
        },
        {
         "mode": "lines",
         "name": "3060 seconds",
         "type": "scatter",
         "x": [
          0.10495000000000002,
          0.3148500000000001,
          0.52475,
          0.7346500000000001,
          0.9445500000000001,
          1.1544500000000002,
          1.3643500000000004,
          1.5742500000000004,
          1.7841500000000003,
          1.9940500000000003
         ],
         "y": [
          63.056047950335284,
          63.1017591228518,
          63.20141170018054,
          79.95903354163354,
          79.96988244285225,
          79.97499501330383,
          79.97859962250924,
          79.98478075901292,
          79.98163274416191,
          79.98229465963661
         ]
        },
        {
         "mode": "lines",
         "name": "3120 seconds",
         "type": "scatter",
         "x": [
          0.10495000000000002,
          0.3148500000000001,
          0.52475,
          0.7346500000000001,
          0.9445500000000001,
          1.1544500000000002,
          1.3643500000000004,
          1.5742500000000004,
          1.7841500000000003,
          1.9940500000000003
         ],
         "y": [
          63.05301848376682,
          63.10020266613523,
          63.20315297855204,
          79.95986311466135,
          79.97068826451454,
          79.97492033057988,
          79.98003118391003,
          79.98214873657959,
          79.98499091927178,
          79.98151008717046
         ]
        },
        {
         "mode": "lines",
         "name": "3180 seconds",
         "type": "scatter",
         "x": [
          0.10495000000000002,
          0.3148500000000001,
          0.52475,
          0.7346500000000001,
          0.9445500000000001,
          1.1544500000000002,
          1.3643500000000004,
          1.5742500000000004,
          1.7841500000000003,
          1.9940500000000003
         ],
         "y": [
          63.049989523870885,
          63.09864662881937,
          63.20489335665271,
          79.96067895524875,
          79.97097937426695,
          79.97572628096067,
          79.97908707894679,
          79.9851057805897,
          79.98195766559513,
          79.98261962835025
         ]
        },
        {
         "mode": "lines",
         "name": "3240 seconds",
         "type": "scatter",
         "x": [
          0.10495000000000002,
          0.3148500000000001,
          0.52475,
          0.7346500000000001,
          0.9445500000000001,
          1.1544500000000002,
          1.3643500000000004,
          1.5742500000000004,
          1.7841500000000003,
          1.9940500000000003
         ],
         "y": [
          63.046961070594364,
          63.09709101064393,
          63.20663283222627,
          79.96118822544435,
          79.97157152112761,
          79.97550912769013,
          79.98042372192515,
          79.98241036252867,
          79.98525261862835,
          79.9817717357404
         ]
        },
        {
         "mode": "lines",
         "name": "3300 seconds",
         "type": "scatter",
         "x": [
          0.10495000000000002,
          0.3148500000000001,
          0.52475,
          0.7346500000000001,
          0.9445500000000001,
          1.1544500000000002,
          1.3643500000000004,
          1.5742500000000004,
          1.7841500000000003,
          1.9940500000000003
         ],
         "y": [
          63.04393312388411,
          63.095535811348284,
          63.20837134479276,
          79.96174616619463,
          79.97169056416368,
          79.97620039451989,
          79.9794031187737,
          79.98531650662757,
          79.9821683267065,
          79.98283032011548
         ]
        },
        {
         "mode": "lines",
         "name": "3360 seconds",
         "type": "scatter",
         "x": [
          0.10495000000000002,
          0.3148500000000001,
          0.52475,
          0.7346500000000001,
          0.9445500000000001,
          1.1544500000000002,
          1.3643500000000004,
          1.5742500000000004,
          1.7841500000000003,
          1.9940500000000003
         ],
         "y": [
          63.04090568368694,
          63.093981030659876,
          63.21010890453053,
          79.96204776946642,
          79.97214417607768,
          79.97589087121364,
          79.98067822189128,
          79.98257998634432,
          79.98542229003644,
          79.98194137422175
         ]
        },
        {
         "mode": "lines",
         "name": "3420 seconds",
         "type": "scatter",
         "x": [
          0.10495000000000002,
          0.3148500000000001,
          0.52475,
          0.7346500000000001,
          0.9445500000000001,
          1.1544500000000002,
          1.3643500000000004,
          1.5742500000000004,
          1.7841500000000003,
          1.9940500000000003
         ],
         "y": [
          63.03787874994963,
          63.092426668308285,
          63.21184546096909,
          79.96243850194674,
          79.9721516605542,
          79.9765077835632,
          79.97960802154127,
          79.98545312975148,
          79.98230490773602,
          79.98296692101886
         ]
        },
        {
         "mode": "lines",
         "name": "3480 seconds",
         "type": "scatter",
         "x": [
          0.10495000000000002,
          0.3148500000000001,
          0.52475,
          0.7346500000000001,
          0.9445500000000001,
          1.1544500000000002,
          1.3643500000000004,
          1.5742500000000004,
          1.7841500000000003,
          1.9940500000000003
         ],
         "y": [
          63.03485232261892,
          63.09087272401315,
          63.213581032348515,
          79.96260546519616,
          79.97251545405857,
          79.9761383726285,
          79.98084322561238,
          79.98268996105794,
          79.98553229560586,
          79.98205135844337
         ]
        },
        {
         "mode": "lines",
         "name": "3540 seconds",
         "type": "scatter",
         "x": [
          0.10495000000000002,
          0.3148500000000001,
          0.52475,
          0.7346500000000001,
          0.9445500000000001,
          1.1544500000000002,
          1.3643500000000004,
          1.5742500000000004,
          1.7841500000000003,
          1.9940500000000003
         ],
         "y": [
          63.0318264016415,
          63.08931919749787,
          63.21531557468771,
          79.9628877888126,
          79.97245061012646,
          79.97670707764043,
          79.97974086917854,
          79.98554170863893,
          79.98239345933176,
          79.98305548549965
         ]
        },
        {
         "mode": "lines",
         "name": "3600 seconds",
         "type": "scatter",
         "x": [
          0.10495000000000002,
          0.3148500000000001,
          0.52475,
          0.7346500000000001,
          0.9445500000000001,
          1.1544500000000002,
          1.3643500000000004,
          1.5742500000000004,
          1.7841500000000003,
          1.9940500000000003
         ],
         "y": [
          63.028800986964036,
          63.08776608847719,
          63.21704911145331,
          79.96296745865284,
          79.97275617033505,
          79.9762988388756,
          79.98095020491155,
          79.982761262588,
          79.98560361714111,
          79.98212266613784
         ]
        },
        {
         "mode": "lines",
         "name": "3660 seconds",
         "type": "scatter",
         "x": [
          0.10495000000000002,
          0.3148500000000001,
          0.52475,
          0.7346500000000001,
          0.9445500000000001,
          1.1544500000000002,
          1.3643500000000004,
          1.5742500000000004,
          1.7841500000000003,
          1.9940500000000003
         ],
         "y": [
          63.02577607853313,
          63.08621339667064,
          63.218781602871374,
          79.96317949569551,
          79.9726444326579,
          79.97683628891255,
          79.97982700024897,
          79.98559913829705,
          79.9824508712954,
          79.98311290581728
         ]
        },
        {
         "mode": "lines",
         "name": "3720 seconds",
         "type": "scatter",
         "x": [
          0.10495000000000002,
          0.3148500000000001,
          0.52475,
          0.7346500000000001,
          0.9445500000000001,
          1.1544500000000002,
          1.3643500000000004,
          1.5742500000000004,
          1.7841500000000003,
          1.9940500000000003
         ],
         "y": [
          63.02275167629535,
          63.08466112178995,
          63.22051307579695,
          79.96320256905717,
          79.97291223761403,
          79.97640287632726,
          79.98101956438033,
          79.98280749056183,
          79.98564985808524,
          79.98216889810837
         ]
        },
        {
         "mode": "lines",
         "name": "3780 seconds",
         "type": "scatter",
         "x": [
          0.10495000000000002,
          0.3148500000000001,
          0.52475,
          0.7346500000000001,
          0.9445500000000001,
          1.1544500000000002,
          1.3643500000000004,
          1.5742500000000004,
          1.7841500000000003,
          1.9940500000000003
         ],
         "y": [
          63.01972778019723,
          63.08310926355231,
          63.22224349318357,
          79.96336903591428,
          79.97277009662267,
          79.9769200623647,
          79.97988284287773,
          79.98563637251534,
          79.98248809404157,
          79.9831501339797
         ]
        },
        {
         "mode": "lines",
         "name": "3840 seconds",
         "type": "scatter",
         "x": [
          0.10495000000000002,
          0.3148500000000001,
          0.52475,
          0.7346500000000001,
          0.9445500000000001,
          1.1544500000000002,
          1.3643500000000004,
          1.5742500000000004,
          1.7841500000000003,
          1.9940500000000003
         ],
         "y": [
          63.016704390185254,
          63.08155782166765,
          63.22397288408294,
          79.96335541499205,
          79.97301342315835,
          79.97647032846461,
          79.98106453322895,
          79.98283746222671,
          79.98567983815937,
          79.9821988723645
         ]
        },
        {
         "mode": "lines",
         "name": "3900 seconds",
         "type": "scatter",
         "x": [
          0.10495000000000002,
          0.3148500000000001,
          0.52475,
          0.7346500000000001,
          0.9445500000000001,
          1.1544500000000002,
          1.3643500000000004,
          1.5742500000000004,
          1.7841500000000003,
          1.9940500000000003
         ],
         "y": [
          63.01368150620587,
          63.0800067958518,
          63.22570121321674,
          79.96349233640474,
          79.97285157033724,
          79.97697437644403,
          79.97991904815383,
          79.98566051312591,
          79.98251222721423,
          79.98317427066401
         ]
        },
        {
         "mode": "lines",
         "name": "3960 seconds",
         "type": "scatter",
         "x": [
          0.10495000000000002,
          0.3148500000000001,
          0.52475,
          0.7346500000000001,
          0.9445500000000001,
          1.1544500000000002,
          1.3643500000000004,
          1.5742500000000004,
          1.7841500000000003,
          1.9940500000000003
         ],
         "y": [
          63.010659128205475,
          63.078456185813685,
          63.22742851106065,
          79.96345492468258,
          79.97307902641704,
          79.97651406070491,
          79.9810936885466,
          79.98285689419879,
          79.98569927558356,
          79.98221830601663
         ]
        },
        {
         "mode": "lines",
         "name": "4020 seconds",
         "type": "scatter",
         "x": [
          0.10495000000000002,
          0.3148500000000001,
          0.52475,
          0.7346500000000001,
          0.9445500000000001,
          1.1544500000000002,
          1.3643500000000004,
          1.5742500000000004,
          1.7841500000000003,
          1.9940500000000003
         ],
         "y": [
          63.00763725613042,
          63.0769059912684,
          63.22915474348251,
          79.96357269020812,
          79.97290439353418,
          79.97700959069317,
          79.97994252165512,
          79.98567616456444,
          79.98252787383046,
          79.98318991955696
         ]
        },
        {
         "mode": "lines",
         "name": "4080 seconds",
         "type": "scatter",
         "x": [
          0.10495000000000002,
          0.3148500000000001,
          0.52475,
          0.7346500000000001,
          0.9445500000000001,
          1.1544500000000002,
          1.3643500000000004,
          1.5742500000000004,
          1.7841500000000003,
          1.9940500000000003
         ],
         "y": [
          63.00461588992703,
          63.07535621192436,
          63.23087994188104,
          79.9635198535926,
          79.97312156008688,
          79.9765424142741,
          79.98111259124421,
          79.98286949281622,
          79.98571187773578,
          79.98223090572328
         ]
        },
        {
         "mode": "lines",
         "name": "4140 seconds",
         "type": "scatter",
         "x": [
          0.10495000000000002,
          0.3148500000000001,
          0.52475,
          0.7346500000000001,
          0.9445500000000001,
          1.1544500000000002,
          1.3643500000000004,
          1.5742500000000004,
          1.7841500000000003,
          1.9940500000000003
         ],
         "y": [
          63.001595029541576,
          63.07380684749636,
          63.23260407286696,
          79.96362519924635,
          79.97293864131778,
          79.97703242166736,
          79.97995774057685,
          79.9856863120927,
          79.98253801823219,
          79.9832000654348
         ]
        },
        {
         "mode": "lines",
         "name": "4200 seconds",
         "type": "scatter",
         "x": [
          0.10495000000000002,
          0.3148500000000001,
          0.52475,
          0.7346500000000001,
          0.9445500000000001,
          1.1544500000000002,
          1.3643500000000004,
          1.5742500000000004,
          1.7841500000000003,
          1.9940500000000003
         ],
         "y": [
          62.998574674920285,
          63.07225789769265,
          63.23432716843724,
          79.96356236172946,
          79.97314913670934,
          79.97656079716235,
          79.98112484670929,
          79.98287766106388,
          79.98572004827523,
          79.98223907467714
         ]
        },
        {
         "mode": "lines",
         "name": "4260 seconds",
         "type": "scatter",
         "x": [
          0.10495000000000002,
          0.3148500000000001,
          0.52475,
          0.7346500000000001,
          0.9445500000000001,
          1.1544500000000002,
          1.3643500000000004,
          1.5742500000000004,
          1.7841500000000003,
          1.9940500000000003
         ],
         "y": [
          62.99555482600934,
          63.07070936222798,
          63.23604919568404,
          79.96365965477197,
          79.97296084582916,
          79.97704722401005,
          79.9799676076851,
          79.98569289118953,
          79.98254459530196,
          79.98320664346159
         ]
        },
        {
         "mode": "lines",
         "name": "4320 seconds",
         "type": "scatter",
         "x": [
          0.10495000000000002,
          0.3148500000000001,
          0.52475,
          0.7346500000000001,
          0.9445500000000001,
          1.1544500000000002,
          1.3643500000000004,
          1.5742500000000004,
          1.7841500000000003,
          1.9940500000000003
         ],
         "y": [
          62.99253548275489,
          63.069161240810644,
          63.23777018699199,
          79.96359033297078,
          79.97316701600825,
          79.9765727156118,
          79.98113279247593,
          79.9828829569045,
          79.98572534560171,
          79.98224437097561
         ]
        },
        {
         "mode": "lines",
         "name": "4380 seconds",
         "type": "scatter",
         "x": [
          0.10495000000000002,
          0.3148500000000001,
          0.52475,
          0.7346500000000001,
          0.9445500000000001,
          1.1544500000000002,
          1.3643500000000004,
          1.5742500000000004,
          1.7841500000000003,
          1.9940500000000003
         ],
         "y": [
          62.98951664510302,
          63.06761353315551,
          63.23949010976519,
          79.96368240489286,
          79.9729752421479,
          79.97705682103151,
          79.97997400497309,
          79.98569715671253,
          79.98254885951073,
          79.98321090829083
         ]
        },
        {
         "mode": "lines",
         "name": "4440 seconds",
         "type": "scatter",
         "x": [
          0.10495000000000002,
          0.3148500000000001,
          0.52475,
          0.7346500000000001,
          0.9445500000000001,
          1.1544500000000002,
          1.3643500000000004,
          1.5742500000000004,
          1.7841500000000003,
          1.9940500000000003
         ],
         "y": [
          62.986498312999814,
          63.06606623897106,
          63.2412089966394,
          79.96360887878794,
          79.973178608098,
          79.97658044287616,
          79.98113794407216,
          79.98288639043506,
          79.98572878009563,
          79.98224780480301
         ]
        },
        {
         "mode": "lines",
         "name": "4500 seconds",
         "type": "scatter",
         "x": [
          0.10495000000000002,
          0.3148500000000001,
          0.52475,
          0.7346500000000001,
          0.9445500000000001,
          1.1544500000000002,
          1.3643500000000004,
          1.5742500000000004,
          1.7841500000000003,
          1.9940500000000003
         ],
         "y": [
          62.983480486391265,
          63.0645193579724,
          63.24292681522077,
          79.96369756537206,
          79.97298457606558,
          79.9770630432102,
          79.97997815262127,
          79.98569992224205,
          79.98255162418815,
          79.98321367337056
         ]
        },
        {
         "mode": "lines",
         "name": "4560 seconds",
         "type": "scatter",
         "x": [
          0.10495000000000002,
          0.3148500000000001,
          0.52475,
          0.7346500000000001,
          0.9445500000000001,
          1.1544500000000002,
          1.3643500000000004,
          1.5742500000000004,
          1.7841500000000003,
          1.9940500000000003
         ],
         "y": [
          62.980463165223355,
          63.0629728898683,
          63.24464359830766,
          79.9636213131771,
          79.97318612390842,
          79.97658545280761,
          79.9811412840826,
          79.9828886165466,
          79.98573100683177,
          79.98225003110704
         ]
        },
        {
         "mode": "lines",
         "name": "4620 seconds",
         "type": "scatter",
         "x": [
          0.10495000000000002,
          0.3148500000000001,
          0.52475,
          0.7346500000000001,
          0.9445500000000001,
          1.1544500000000002,
          1.3643500000000004,
          1.5742500000000004,
          1.7841500000000003,
          1.9940500000000003
         ],
         "y": [
          62.97744634944201,
          63.06142683437416,
          63.24635931363702,
          79.9637078046435,
          79.97299062780188,
          79.97706707732722,
          79.97998084172725,
          79.98570171525863,
          79.98255341665231,
          79.98321546609554
         ]
        },
        {
         "mode": "lines",
         "name": "4680 seconds",
         "type": "scatter",
         "x": [
          0.10495000000000002,
          0.3148500000000001,
          0.52475,
          0.7346500000000001,
          0.9445500000000001,
          1.1544500000000002,
          1.3643500000000004,
          1.5742500000000004,
          1.7841500000000003,
          1.9940500000000003
         ],
         "y": [
          62.97443003899313,
          63.059881191199096,
          63.24807399411243,
          79.96362978475086,
          79.9731909968843,
          79.9765887009705,
          79.98114344956089,
          79.9828900598344,
          79.9857324505245,
          79.98225147451961
         ]
        },
        {
         "mode": "lines",
         "name": "4740 seconds",
         "type": "scatter",
         "x": [
          0.10495000000000002,
          0.3148500000000001,
          0.52475,
          0.7346500000000001,
          0.9445500000000001,
          1.1544500000000002,
          1.3643500000000004,
          1.5742500000000004,
          1.7841500000000003,
          1.9940500000000003
         ],
         "y": [
          62.971414233822536,
          63.05833596005886,
          63.24978760755543,
          79.96371485277285,
          79.97299455155289,
          79.97706969282594,
          79.97998258519507,
          79.98570287775155,
          79.98255457878707,
          79.98321662839939
         ]
        },
        {
         "mode": "lines",
         "name": "4800 seconds",
         "type": "scatter",
         "x": [
          0.10495000000000002,
          0.3148500000000001,
          0.52475,
          0.7346500000000001,
          0.9445500000000001,
          1.1544500000000002,
          1.3643500000000004,
          1.5742500000000004,
          1.7841500000000003,
          1.9940500000000003
         ],
         "y": [
          62.968398933876045,
          63.05679114066294,
          63.251500186937626,
          79.96363568655151,
          79.97319415639208,
          79.97659080689996,
          79.98114485353742,
          79.9828909955825,
          79.98573338653513,
          79.9822524103486
         ]
        },
        {
         "mode": "lines",
         "name": "4860 seconds",
         "type": "scatter",
         "x": [
          0.10495000000000002,
          0.3148500000000001,
          0.52475,
          0.7346500000000001,
          0.9445500000000001,
          1.1544500000000002,
          1.3643500000000004,
          1.5742500000000004,
          1.7841500000000003,
          1.9940500000000003
         ],
         "y": [
          62.96538413909941,
          63.05524673272747,
          63.25321170013518,
          79.96371983143972,
          79.97299709563559,
          79.97707138857089,
          79.9799837155633,
          79.98570363144776,
          79.98255533225105,
          79.98321738197302
         ]
        },
        {
         "mode": "lines",
         "name": "4920 seconds",
         "type": "scatter",
         "x": [
          0.10495000000000002,
          0.3148500000000001,
          0.52475,
          0.7346500000000001,
          0.9445500000000001,
          1.1544500000000002,
          1.3643500000000004,
          1.5742500000000004,
          1.7841500000000003,
          1.9940500000000003
         ],
         "y": [
          62.96236984943836,
          63.053702735962325,
          63.254922180163604,
          79.96363992175122,
          79.9731962049816,
          79.97659217226835,
          79.98114576379825,
          79.98289160226986,
          79.98573399339273,
          79.98225301708842
         ]
        },
        {
         "mode": "lines",
         "name": "4980 seconds",
         "type": "scatter",
         "x": [
          0.10495000000000002,
          0.3148500000000001,
          0.52475,
          0.7346500000000001,
          0.9445500000000001,
          1.1544500000000002,
          1.3643500000000004,
          1.5742500000000004,
          1.7841500000000003,
          1.9940500000000003
         ],
         "y": [
          62.95935606483855,
          63.052159150084066,
          63.25663159493429,
          79.96372346787966,
          79.97299874521741,
          79.9770724879983,
          79.97998444843162,
          79.98570412010275,
          79.9825558207555,
          79.98321787054853
         ]
        },
        {
         "mode": "lines",
         "name": "5040 seconds",
         "type": "scatter",
         "x": [
          0.10495000000000002,
          0.3148500000000001,
          0.52475,
          0.7346500000000001,
          0.9445500000000001,
          1.1544500000000002,
          1.3643500000000004,
          1.5742500000000004,
          1.7841500000000003,
          1.9940500000000003
         ],
         "y": [
          62.956342785245624,
          63.05061597480297,
          63.25833997749099,
          79.96364307591745,
          79.97319753331291,
          79.97659305749785,
          79.9811463539611,
          79.98289199561246,
          79.98573438684566,
          79.982253410465
         ]
        },
        {
         "mode": "lines",
         "name": "5100 seconds",
         "type": "scatter",
         "x": [
          0.10495000000000002,
          0.3148500000000001,
          0.52475,
          0.7346500000000001,
          0.9445500000000001,
          1.1544500000000002,
          1.3643500000000004,
          1.5742500000000004,
          1.7841500000000003,
          1.9940500000000003
         ],
         "y": [
          62.95333001060517,
          63.04907320983601,
          63.26004729576774,
          79.96372623359257,
          79.97299981485408,
          79.97707320080636,
          79.97998492358298,
          79.98570443691966,
          79.98255613747477,
          79.9832181873139
         ]
        },
        {
         "mode": "lines",
         "name": "5160 seconds",
         "type": "scatter",
         "x": [
          0.10495000000000002,
          0.3148500000000001,
          0.52475,
          0.7346500000000001,
          0.9445500000000001,
          1.1544500000000002,
          1.3643500000000004,
          1.5742500000000004,
          1.7841500000000003,
          1.9940500000000003
         ],
         "y": [
          62.95031774086274,
          63.04753085489389,
          63.26175358282641,
          79.96364552870028,
          79.97319839466842,
          79.97659363143181,
          79.98114673659009,
          79.98289225063405,
          79.98573464193882,
          79.98225366550865
         ]
        },
        {
         "mode": "lines",
         "name": "5220 seconds",
         "type": "scatter",
         "x": [
          0.10495000000000002,
          0.3148500000000001,
          0.52475,
          0.7346500000000001,
          0.9445500000000001,
          1.1544500000000002,
          1.3643500000000004,
          1.5742500000000004,
          1.7841500000000003,
          1.9940500000000003
         ],
         "y": [
          62.94730597596382,
          63.04598890969401,
          63.26345880661549,
          79.96372843427343,
          79.97300050848617,
          79.97707366295178,
          79.97998523164486,
          79.98570464232624,
          79.98255634281807,
          79.98321839268706
         ]
        },
        {
         "mode": "lines",
         "name": "5280 seconds",
         "type": "scatter",
         "x": [
          0.10495000000000002,
          0.3148500000000001,
          0.52475,
          0.7346500000000001,
          0.9445500000000001,
          1.1544500000000002,
          1.3643500000000004,
          1.5742500000000004,
          1.7841500000000003,
          1.9940500000000003
         ],
         "y": [
          62.9442947158539,
          63.0444473739475,
          63.2651630002084,
          79.96364752624442,
          79.97319895326243,
          79.97659400353895,
          79.9811469846656,
          79.98289241597598,
          79.98573480732713,
          79.98225383086488
         ]
        },
        {
         "mode": "lines",
         "name": "5340 seconds",
         "type": "scatter",
         "x": [
          0.10495000000000002,
          0.3148500000000001,
          0.52475,
          0.7346500000000001,
          0.9445500000000001,
          1.1544500000000002,
          1.3643500000000004,
          1.5742500000000004,
          1.7841500000000003,
          1.9940500000000003
         ],
         "y": [
          62.94128396047838,
          63.04290624737218,
          63.26686613156283,
          79.96373026811855,
          79.97300095833751,
          79.9770739625814,
          79.97998543137517,
          79.98570477550052,
          79.98255647595133,
          79.9832185258397
         ]
        },
        {
         "mode": "lines",
         "name": "5400 seconds",
         "type": "scatter",
         "x": [
          0.10495000000000002,
          0.3148500000000001,
          0.52475,
          0.7346500000000001,
          0.9445500000000001,
          1.1544500000000002,
          1.3643500000000004,
          1.5742500000000004,
          1.7841500000000003,
          1.9940500000000003
         ],
         "y": [
          62.93827370978265,
          63.04136552967962,
          63.26856823375945,
          79.96364922813699,
          79.97319931556244,
          79.9765942447927,
          79.98114714550405,
          79.98289252317456,
          79.98573491455579,
          79.98225393807272
         ]
        },
        {
         "mode": "lines",
         "name": "5460 seconds",
         "type": "scatter",
         "x": [
          0.10495000000000002,
          0.3148500000000001,
          0.52475,
          0.7346500000000001,
          0.9445500000000001,
          1.1544500000000002,
          1.3643500000000004,
          1.5742500000000004,
          1.7841500000000003,
          1.9940500000000003
         ],
         "y": [
          62.93526396371204,
          63.03982522058807,
          63.27026927476171,
          79.96373186362793,
          79.97300125013469,
          79.97707415684474,
          79.97998556086928,
          79.98570486184337,
          79.98255656226756,
          79.98321861216851
         ]
        },
        {
         "mode": "lines",
         "name": "5520 seconds",
         "type": "scatter",
         "x": [
          0.10495000000000002,
          0.3148500000000001,
          0.52475,
          0.7346500000000001,
          0.9445500000000001,
          1.1544500000000002,
          1.3643500000000004,
          1.5742500000000004,
          1.7841500000000003,
          1.9940500000000003
         ],
         "y": [
          62.93225472221185,
          63.03828531980954,
          63.271969287654805,
          79.96365073784597,
          79.97319955059609,
          79.97659440120836,
          79.98114724978282,
          79.98289259267617,
          79.98573498407691,
          79.98225400758037
         ]
        },
        {
         "mode": "lines",
         "name": "5580 seconds",
         "type": "scatter",
         "x": [
          0.10495000000000002,
          0.3148500000000001,
          0.52475,
          0.7346500000000001,
          0.9445500000000001,
          1.1544500000000002,
          1.3643500000000004,
          1.5742500000000004,
          1.7841500000000003,
          1.9940500000000003
         ],
         "y": [
          62.92924598522733,
          63.03674582706271,
          63.273668240405684,
          79.96373330411441,
          79.97300143945812,
          79.9770742827944,
          79.97998564482609,
          79.9857049178233,
          79.98255661823026,
          79.98321866813933
         ]
        },
        {
         "mode": "lines",
         "name": "5640 seconds",
         "type": "scatter",
         "x": [
          0.10495000000000002,
          0.3148500000000001,
          0.52475,
          0.7346500000000001,
          0.9445500000000001,
          1.1544500000000002,
          1.3643500000000004,
          1.5742500000000004,
          1.7841500000000003,
          1.9940500000000003
         ],
         "y": [
          62.92623775270369,
          63.03520674206001,
          63.275366166102295,
          79.96365212245482,
          79.9731997031171,
          79.97659450261968,
          79.9811473173914,
          79.9828926377372,
          79.98573502915056,
          79.98225405264527
         ]
        },
        {
         "mode": "lines",
         "name": "5700 seconds",
         "type": "scatter",
         "x": [
          0.10495000000000002,
          0.3148500000000001,
          0.52475,
          0.7346500000000001,
          0.9445500000000001,
          1.1544500000000002,
          1.3643500000000004,
          1.5742500000000004,
          1.7841500000000003,
          1.9940500000000003
         ],
         "y": [
          62.923230024586104,
          63.033668064520576,
          63.27706303271366,
          79.96373464359394,
          79.97300156234306,
          79.97707436445324,
          79.97998569925906,
          79.9857049541176,
          79.98255665451336,
          79.98321870442771
         ]
        },
        {
         "mode": "lines",
         "name": "5760 seconds",
         "type": "scatter",
         "x": [
          0.10495000000000002,
          0.3148500000000001,
          0.52475,
          0.7346500000000001,
          0.9445500000000001,
          1.1544500000000002,
          1.3643500000000004,
          1.5742500000000004,
          1.7841500000000003,
          1.9940500000000003
         ],
         "y": [
          62.920222800819694,
          63.03212979415727,
          63.27875887332929,
          79.96365342545724,
          79.9731998021413,
          79.97659456836921,
          79.98114736122508,
          79.98289266695227,
          79.98573505837385,
          79.98225408186286
         ]
        },
        {
         "mode": "lines",
         "name": "5820 seconds",
         "type": "scatter",
         "x": [
          0.10495000000000002,
          0.3148500000000001,
          0.52475,
          0.7346500000000001,
          0.9445500000000001,
          1.1544500000000002,
          1.3643500000000004,
          1.5742500000000004,
          1.7841500000000003,
          1.9940500000000003
         ],
         "y": [
          62.91721608134955,
          63.03059193068965,
          63.28045365591936,
          79.96373591708797,
          79.97300164215277,
          79.97707441739638,
          79.97998573455038,
          79.98570497764882,
          79.98255667803733,
          79.98321872795512
         ]
        },
        {
         "mode": "lines",
         "name": "5880 seconds",
         "type": "scatter",
         "x": [
          0.10495000000000002,
          0.3148500000000001,
          0.52475,
          0.7346500000000001,
          0.9445500000000001,
          1.1544500000000002,
          1.3643500000000004,
          1.5742500000000004,
          1.7841500000000003,
          1.9940500000000003
         ],
         "y": [
          62.91420986612072,
          63.02905447383103,
          63.28214741357419,
          79.96365467505262,
          79.97319986648093,
          79.97659461099764,
          79.98114738964442,
          79.9828926858937,
          79.98573507732061,
          79.98225410080596
         ]
        },
        {
         "mode": "lines",
         "name": "5940 seconds",
         "type": "scatter",
         "x": [
          0.10495000000000002,
          0.3148500000000001,
          0.52475,
          0.7346500000000001,
          0.9445500000000001,
          1.1544500000000002,
          1.3643500000000004,
          1.5742500000000004,
          1.7841500000000003,
          1.9940500000000003
         ],
         "y": [
          62.9112041550782,
          63.0275174233014,
          63.28384011426449,
          79.96373714730301,
          79.97300169403472,
          79.97707445172183,
          79.97998575743132,
          79.98570499290517,
          79.98255669328898,
          79.98321874320898
         ]
        },
        {
         "mode": "lines",
         "name": "6000 seconds",
         "type": "scatter",
         "x": [
          0.10495000000000002,
          0.3148500000000001,
          0.52475,
          0.7346500000000001,
          0.9445500000000001,
          1.1544500000000002,
          1.3643500000000004,
          1.5742500000000004,
          1.7841500000000003,
          1.9940500000000003
         ],
         "y": [
          62.908198948166955,
          63.025980778814485,
          63.28553179108092,
          79.96365588952447,
          79.97319990833286,
          79.97659463863559,
          79.98114740806996,
          79.98289269817431,
          79.98573508960465,
          79.9822541130876
         ]
        }
       ],
       "layout": {
        "legend": {
         "title": {
          "text": "Time Passed"
         }
        },
        "shapes": [
         {
          "line": {
           "color": "grey",
           "dash": "dot",
           "width": 1
          },
          "type": "line",
          "x0": 0.20990000000000003,
          "x1": 0.20990000000000003,
          "xref": "x",
          "y0": 0,
          "y1": 1,
          "yref": "paper"
         },
         {
          "line": {
           "color": "grey",
           "dash": "dot",
           "width": 1
          },
          "type": "line",
          "x0": 0.41980000000000006,
          "x1": 0.41980000000000006,
          "xref": "x",
          "y0": 0,
          "y1": 1,
          "yref": "paper"
         },
         {
          "line": {
           "color": "grey",
           "dash": "dot",
           "width": 1
          },
          "type": "line",
          "x0": 0.6297000000000001,
          "x1": 0.6297000000000001,
          "xref": "x",
          "y0": 0,
          "y1": 1,
          "yref": "paper"
         },
         {
          "line": {
           "color": "grey",
           "dash": "dot",
           "width": 1
          },
          "type": "line",
          "x0": 0.8396000000000001,
          "x1": 0.8396000000000001,
          "xref": "x",
          "y0": 0,
          "y1": 1,
          "yref": "paper"
         },
         {
          "line": {
           "color": "grey",
           "dash": "dot",
           "width": 1
          },
          "type": "line",
          "x0": 1.0495,
          "x1": 1.0495,
          "xref": "x",
          "y0": 0,
          "y1": 1,
          "yref": "paper"
         },
         {
          "line": {
           "color": "grey",
           "dash": "dot",
           "width": 1
          },
          "type": "line",
          "x0": 1.2594,
          "x1": 1.2594,
          "xref": "x",
          "y0": 0,
          "y1": 1,
          "yref": "paper"
         },
         {
          "line": {
           "color": "grey",
           "dash": "dot",
           "width": 1
          },
          "type": "line",
          "x0": 1.4693000000000003,
          "x1": 1.4693000000000003,
          "xref": "x",
          "y0": 0,
          "y1": 1,
          "yref": "paper"
         },
         {
          "line": {
           "color": "grey",
           "dash": "dot",
           "width": 1
          },
          "type": "line",
          "x0": 1.6792000000000002,
          "x1": 1.6792000000000002,
          "xref": "x",
          "y0": 0,
          "y1": 1,
          "yref": "paper"
         },
         {
          "line": {
           "color": "grey",
           "dash": "dot",
           "width": 1
          },
          "type": "line",
          "x0": 1.8891000000000002,
          "x1": 1.8891000000000002,
          "xref": "x",
          "y0": 0,
          "y1": 1,
          "yref": "paper"
         }
        ],
        "template": {
         "data": {
          "bar": [
           {
            "error_x": {
             "color": "#2a3f5f"
            },
            "error_y": {
             "color": "#2a3f5f"
            },
            "marker": {
             "line": {
              "color": "#E5ECF6",
              "width": 0.5
             },
             "pattern": {
              "fillmode": "overlay",
              "size": 10,
              "solidity": 0.2
             }
            },
            "type": "bar"
           }
          ],
          "barpolar": [
           {
            "marker": {
             "line": {
              "color": "#E5ECF6",
              "width": 0.5
             },
             "pattern": {
              "fillmode": "overlay",
              "size": 10,
              "solidity": 0.2
             }
            },
            "type": "barpolar"
           }
          ],
          "carpet": [
           {
            "aaxis": {
             "endlinecolor": "#2a3f5f",
             "gridcolor": "white",
             "linecolor": "white",
             "minorgridcolor": "white",
             "startlinecolor": "#2a3f5f"
            },
            "baxis": {
             "endlinecolor": "#2a3f5f",
             "gridcolor": "white",
             "linecolor": "white",
             "minorgridcolor": "white",
             "startlinecolor": "#2a3f5f"
            },
            "type": "carpet"
           }
          ],
          "choropleth": [
           {
            "colorbar": {
             "outlinewidth": 0,
             "ticks": ""
            },
            "type": "choropleth"
           }
          ],
          "contour": [
           {
            "colorbar": {
             "outlinewidth": 0,
             "ticks": ""
            },
            "colorscale": [
             [
              0,
              "#0d0887"
             ],
             [
              0.1111111111111111,
              "#46039f"
             ],
             [
              0.2222222222222222,
              "#7201a8"
             ],
             [
              0.3333333333333333,
              "#9c179e"
             ],
             [
              0.4444444444444444,
              "#bd3786"
             ],
             [
              0.5555555555555556,
              "#d8576b"
             ],
             [
              0.6666666666666666,
              "#ed7953"
             ],
             [
              0.7777777777777778,
              "#fb9f3a"
             ],
             [
              0.8888888888888888,
              "#fdca26"
             ],
             [
              1,
              "#f0f921"
             ]
            ],
            "type": "contour"
           }
          ],
          "contourcarpet": [
           {
            "colorbar": {
             "outlinewidth": 0,
             "ticks": ""
            },
            "type": "contourcarpet"
           }
          ],
          "heatmap": [
           {
            "colorbar": {
             "outlinewidth": 0,
             "ticks": ""
            },
            "colorscale": [
             [
              0,
              "#0d0887"
             ],
             [
              0.1111111111111111,
              "#46039f"
             ],
             [
              0.2222222222222222,
              "#7201a8"
             ],
             [
              0.3333333333333333,
              "#9c179e"
             ],
             [
              0.4444444444444444,
              "#bd3786"
             ],
             [
              0.5555555555555556,
              "#d8576b"
             ],
             [
              0.6666666666666666,
              "#ed7953"
             ],
             [
              0.7777777777777778,
              "#fb9f3a"
             ],
             [
              0.8888888888888888,
              "#fdca26"
             ],
             [
              1,
              "#f0f921"
             ]
            ],
            "type": "heatmap"
           }
          ],
          "heatmapgl": [
           {
            "colorbar": {
             "outlinewidth": 0,
             "ticks": ""
            },
            "colorscale": [
             [
              0,
              "#0d0887"
             ],
             [
              0.1111111111111111,
              "#46039f"
             ],
             [
              0.2222222222222222,
              "#7201a8"
             ],
             [
              0.3333333333333333,
              "#9c179e"
             ],
             [
              0.4444444444444444,
              "#bd3786"
             ],
             [
              0.5555555555555556,
              "#d8576b"
             ],
             [
              0.6666666666666666,
              "#ed7953"
             ],
             [
              0.7777777777777778,
              "#fb9f3a"
             ],
             [
              0.8888888888888888,
              "#fdca26"
             ],
             [
              1,
              "#f0f921"
             ]
            ],
            "type": "heatmapgl"
           }
          ],
          "histogram": [
           {
            "marker": {
             "pattern": {
              "fillmode": "overlay",
              "size": 10,
              "solidity": 0.2
             }
            },
            "type": "histogram"
           }
          ],
          "histogram2d": [
           {
            "colorbar": {
             "outlinewidth": 0,
             "ticks": ""
            },
            "colorscale": [
             [
              0,
              "#0d0887"
             ],
             [
              0.1111111111111111,
              "#46039f"
             ],
             [
              0.2222222222222222,
              "#7201a8"
             ],
             [
              0.3333333333333333,
              "#9c179e"
             ],
             [
              0.4444444444444444,
              "#bd3786"
             ],
             [
              0.5555555555555556,
              "#d8576b"
             ],
             [
              0.6666666666666666,
              "#ed7953"
             ],
             [
              0.7777777777777778,
              "#fb9f3a"
             ],
             [
              0.8888888888888888,
              "#fdca26"
             ],
             [
              1,
              "#f0f921"
             ]
            ],
            "type": "histogram2d"
           }
          ],
          "histogram2dcontour": [
           {
            "colorbar": {
             "outlinewidth": 0,
             "ticks": ""
            },
            "colorscale": [
             [
              0,
              "#0d0887"
             ],
             [
              0.1111111111111111,
              "#46039f"
             ],
             [
              0.2222222222222222,
              "#7201a8"
             ],
             [
              0.3333333333333333,
              "#9c179e"
             ],
             [
              0.4444444444444444,
              "#bd3786"
             ],
             [
              0.5555555555555556,
              "#d8576b"
             ],
             [
              0.6666666666666666,
              "#ed7953"
             ],
             [
              0.7777777777777778,
              "#fb9f3a"
             ],
             [
              0.8888888888888888,
              "#fdca26"
             ],
             [
              1,
              "#f0f921"
             ]
            ],
            "type": "histogram2dcontour"
           }
          ],
          "mesh3d": [
           {
            "colorbar": {
             "outlinewidth": 0,
             "ticks": ""
            },
            "type": "mesh3d"
           }
          ],
          "parcoords": [
           {
            "line": {
             "colorbar": {
              "outlinewidth": 0,
              "ticks": ""
             }
            },
            "type": "parcoords"
           }
          ],
          "pie": [
           {
            "automargin": true,
            "type": "pie"
           }
          ],
          "scatter": [
           {
            "fillpattern": {
             "fillmode": "overlay",
             "size": 10,
             "solidity": 0.2
            },
            "type": "scatter"
           }
          ],
          "scatter3d": [
           {
            "line": {
             "colorbar": {
              "outlinewidth": 0,
              "ticks": ""
             }
            },
            "marker": {
             "colorbar": {
              "outlinewidth": 0,
              "ticks": ""
             }
            },
            "type": "scatter3d"
           }
          ],
          "scattercarpet": [
           {
            "marker": {
             "colorbar": {
              "outlinewidth": 0,
              "ticks": ""
             }
            },
            "type": "scattercarpet"
           }
          ],
          "scattergeo": [
           {
            "marker": {
             "colorbar": {
              "outlinewidth": 0,
              "ticks": ""
             }
            },
            "type": "scattergeo"
           }
          ],
          "scattergl": [
           {
            "marker": {
             "colorbar": {
              "outlinewidth": 0,
              "ticks": ""
             }
            },
            "type": "scattergl"
           }
          ],
          "scattermapbox": [
           {
            "marker": {
             "colorbar": {
              "outlinewidth": 0,
              "ticks": ""
             }
            },
            "type": "scattermapbox"
           }
          ],
          "scatterpolar": [
           {
            "marker": {
             "colorbar": {
              "outlinewidth": 0,
              "ticks": ""
             }
            },
            "type": "scatterpolar"
           }
          ],
          "scatterpolargl": [
           {
            "marker": {
             "colorbar": {
              "outlinewidth": 0,
              "ticks": ""
             }
            },
            "type": "scatterpolargl"
           }
          ],
          "scatterternary": [
           {
            "marker": {
             "colorbar": {
              "outlinewidth": 0,
              "ticks": ""
             }
            },
            "type": "scatterternary"
           }
          ],
          "surface": [
           {
            "colorbar": {
             "outlinewidth": 0,
             "ticks": ""
            },
            "colorscale": [
             [
              0,
              "#0d0887"
             ],
             [
              0.1111111111111111,
              "#46039f"
             ],
             [
              0.2222222222222222,
              "#7201a8"
             ],
             [
              0.3333333333333333,
              "#9c179e"
             ],
             [
              0.4444444444444444,
              "#bd3786"
             ],
             [
              0.5555555555555556,
              "#d8576b"
             ],
             [
              0.6666666666666666,
              "#ed7953"
             ],
             [
              0.7777777777777778,
              "#fb9f3a"
             ],
             [
              0.8888888888888888,
              "#fdca26"
             ],
             [
              1,
              "#f0f921"
             ]
            ],
            "type": "surface"
           }
          ],
          "table": [
           {
            "cells": {
             "fill": {
              "color": "#EBF0F8"
             },
             "line": {
              "color": "white"
             }
            },
            "header": {
             "fill": {
              "color": "#C8D4E3"
             },
             "line": {
              "color": "white"
             }
            },
            "type": "table"
           }
          ]
         },
         "layout": {
          "annotationdefaults": {
           "arrowcolor": "#2a3f5f",
           "arrowhead": 0,
           "arrowwidth": 1
          },
          "autotypenumbers": "strict",
          "coloraxis": {
           "colorbar": {
            "outlinewidth": 0,
            "ticks": ""
           }
          },
          "colorscale": {
           "diverging": [
            [
             0,
             "#8e0152"
            ],
            [
             0.1,
             "#c51b7d"
            ],
            [
             0.2,
             "#de77ae"
            ],
            [
             0.3,
             "#f1b6da"
            ],
            [
             0.4,
             "#fde0ef"
            ],
            [
             0.5,
             "#f7f7f7"
            ],
            [
             0.6,
             "#e6f5d0"
            ],
            [
             0.7,
             "#b8e186"
            ],
            [
             0.8,
             "#7fbc41"
            ],
            [
             0.9,
             "#4d9221"
            ],
            [
             1,
             "#276419"
            ]
           ],
           "sequential": [
            [
             0,
             "#0d0887"
            ],
            [
             0.1111111111111111,
             "#46039f"
            ],
            [
             0.2222222222222222,
             "#7201a8"
            ],
            [
             0.3333333333333333,
             "#9c179e"
            ],
            [
             0.4444444444444444,
             "#bd3786"
            ],
            [
             0.5555555555555556,
             "#d8576b"
            ],
            [
             0.6666666666666666,
             "#ed7953"
            ],
            [
             0.7777777777777778,
             "#fb9f3a"
            ],
            [
             0.8888888888888888,
             "#fdca26"
            ],
            [
             1,
             "#f0f921"
            ]
           ],
           "sequentialminus": [
            [
             0,
             "#0d0887"
            ],
            [
             0.1111111111111111,
             "#46039f"
            ],
            [
             0.2222222222222222,
             "#7201a8"
            ],
            [
             0.3333333333333333,
             "#9c179e"
            ],
            [
             0.4444444444444444,
             "#bd3786"
            ],
            [
             0.5555555555555556,
             "#d8576b"
            ],
            [
             0.6666666666666666,
             "#ed7953"
            ],
            [
             0.7777777777777778,
             "#fb9f3a"
            ],
            [
             0.8888888888888888,
             "#fdca26"
            ],
            [
             1,
             "#f0f921"
            ]
           ]
          },
          "colorway": [
           "#636efa",
           "#EF553B",
           "#00cc96",
           "#ab63fa",
           "#FFA15A",
           "#19d3f3",
           "#FF6692",
           "#B6E880",
           "#FF97FF",
           "#FECB52"
          ],
          "font": {
           "color": "#2a3f5f"
          },
          "geo": {
           "bgcolor": "white",
           "lakecolor": "white",
           "landcolor": "#E5ECF6",
           "showlakes": true,
           "showland": true,
           "subunitcolor": "white"
          },
          "hoverlabel": {
           "align": "left"
          },
          "hovermode": "closest",
          "mapbox": {
           "style": "light"
          },
          "paper_bgcolor": "white",
          "plot_bgcolor": "#E5ECF6",
          "polar": {
           "angularaxis": {
            "gridcolor": "white",
            "linecolor": "white",
            "ticks": ""
           },
           "bgcolor": "#E5ECF6",
           "radialaxis": {
            "gridcolor": "white",
            "linecolor": "white",
            "ticks": ""
           }
          },
          "scene": {
           "xaxis": {
            "backgroundcolor": "#E5ECF6",
            "gridcolor": "white",
            "gridwidth": 2,
            "linecolor": "white",
            "showbackground": true,
            "ticks": "",
            "zerolinecolor": "white"
           },
           "yaxis": {
            "backgroundcolor": "#E5ECF6",
            "gridcolor": "white",
            "gridwidth": 2,
            "linecolor": "white",
            "showbackground": true,
            "ticks": "",
            "zerolinecolor": "white"
           },
           "zaxis": {
            "backgroundcolor": "#E5ECF6",
            "gridcolor": "white",
            "gridwidth": 2,
            "linecolor": "white",
            "showbackground": true,
            "ticks": "",
            "zerolinecolor": "white"
           }
          },
          "shapedefaults": {
           "line": {
            "color": "#2a3f5f"
           }
          },
          "ternary": {
           "aaxis": {
            "gridcolor": "white",
            "linecolor": "white",
            "ticks": ""
           },
           "baxis": {
            "gridcolor": "white",
            "linecolor": "white",
            "ticks": ""
           },
           "bgcolor": "#E5ECF6",
           "caxis": {
            "gridcolor": "white",
            "linecolor": "white",
            "ticks": ""
           }
          },
          "title": {
           "x": 0.05
          },
          "xaxis": {
           "automargin": true,
           "gridcolor": "white",
           "linecolor": "white",
           "ticks": "",
           "title": {
            "standoff": 15
           },
           "zerolinecolor": "white",
           "zerolinewidth": 2
          },
          "yaxis": {
           "automargin": true,
           "gridcolor": "white",
           "linecolor": "white",
           "ticks": "",
           "title": {
            "standoff": 15
           },
           "zerolinecolor": "white",
           "zerolinewidth": 2
          }
         }
        },
        "title": {
         "text": "Layer temperatures over tank height. M5: integrated direct charging"
        },
        "xaxis": {
         "range": [
          0,
          2.099
         ],
         "title": {
          "text": "Height"
         }
        },
        "yaxis": {
         "title": {
          "text": "Temperature"
         }
        }
       }
      }
     },
     "metadata": {},
     "output_type": "display_data"
    },
    {
     "data": {
      "application/vnd.plotly.v1+json": {
       "config": {
        "plotlyServerURL": "https://plot.ly"
       },
       "data": [
        {
         "mode": "lines",
         "name": "Layer 0",
         "type": "scatter",
         "x": [
          0,
          60,
          120,
          180,
          240,
          300,
          360,
          420,
          480,
          540,
          600,
          660,
          720,
          780,
          840,
          900,
          960,
          1020,
          1080,
          1140,
          1200,
          1260,
          1320,
          1380,
          1440,
          1500,
          1560,
          1620,
          1680,
          1740,
          1800,
          1860,
          1920,
          1980,
          2040,
          2100,
          2160,
          2220,
          2280,
          2340,
          2400,
          2460,
          2520,
          2580,
          2640,
          2700,
          2760,
          2820,
          2880,
          2940,
          3000,
          3060,
          3120,
          3180,
          3240,
          3300,
          3360,
          3420,
          3480,
          3540,
          3600,
          3660,
          3720,
          3780,
          3840,
          3900,
          3960,
          4020,
          4080,
          4140,
          4200,
          4260,
          4320,
          4380,
          4440,
          4500,
          4560,
          4620,
          4680,
          4740,
          4800,
          4860,
          4920,
          4980,
          5040,
          5100,
          5160,
          5220,
          5280,
          5340,
          5400,
          5460,
          5520,
          5580,
          5640,
          5700,
          5760,
          5820,
          5880,
          5940,
          6000
         ],
         "y": [
          100,
          91.09677858960907,
          86.32546127452136,
          82.90530649324998,
          80.73700140973284,
          78.66944367286442,
          76.37737608460621,
          74.00840203091548,
          72.42620953902701,
          68.07944960989597,
          67.68621941274212,
          64.8839915548653,
          64.7868040833402,
          63.58842868625661,
          63.563752162876895,
          63.26244801214216,
          63.255126592880295,
          63.17840735476727,
          63.17536018238099,
          63.15506209595608,
          63.152016849802436,
          63.14716781473861,
          63.14412312289544,
          63.141078939422115,
          63.138035264242376,
          63.13499209728467,
          63.13194943848127,
          63.12890728776748,
          63.12586564508107,
          63.122824510361774,
          63.11978388355089,
          63.11674376459098,
          63.113704153425616,
          63.11066504999917,
          63.10762645425664,
          63.10458836614353,
          63.10155078560575,
          63.098513712589515,
          63.09547714704128,
          63.09244108890768,
          63.089405538135495,
          63.08637049467162,
          63.08333595846301,
          63.08030192945669,
          63.077268407599696,
          63.0742353928391,
          63.07120288512198,
          63.06817088439539,
          63.065139390606404,
          63.06210840370205,
          63.059077923629346,
          63.056047950335284,
          63.05301848376682,
          63.049989523870885,
          63.046961070594364,
          63.04393312388411,
          63.04090568368694,
          63.03787874994963,
          63.03485232261892,
          63.0318264016415,
          63.028800986964036,
          63.02577607853313,
          63.02275167629535,
          63.01972778019723,
          63.016704390185254,
          63.01368150620587,
          63.010659128205475,
          63.00763725613042,
          63.00461588992703,
          63.001595029541576,
          62.998574674920285,
          62.99555482600934,
          62.99253548275489,
          62.98951664510302,
          62.986498312999814,
          62.983480486391265,
          62.980463165223355,
          62.97744634944201,
          62.97443003899313,
          62.971414233822536,
          62.968398933876045,
          62.96538413909941,
          62.96236984943836,
          62.95935606483855,
          62.956342785245624,
          62.95333001060517,
          62.95031774086274,
          62.94730597596382,
          62.9442947158539,
          62.94128396047838,
          62.93827370978265,
          62.93526396371204,
          62.93225472221185,
          62.92924598522733,
          62.92623775270369,
          62.923230024586104,
          62.920222800819694,
          62.91721608134955,
          62.91420986612072,
          62.9112041550782,
          62.908198948166955
         ]
        },
        {
         "mode": "lines",
         "name": "Layer 1",
         "type": "scatter",
         "x": [
          0,
          60,
          120,
          180,
          240,
          300,
          360,
          420,
          480,
          540,
          600,
          660,
          720,
          780,
          840,
          900,
          960,
          1020,
          1080,
          1140,
          1200,
          1260,
          1320,
          1380,
          1440,
          1500,
          1560,
          1620,
          1680,
          1740,
          1800,
          1860,
          1920,
          1980,
          2040,
          2100,
          2160,
          2220,
          2280,
          2340,
          2400,
          2460,
          2520,
          2580,
          2640,
          2700,
          2760,
          2820,
          2880,
          2940,
          3000,
          3060,
          3120,
          3180,
          3240,
          3300,
          3360,
          3420,
          3480,
          3540,
          3600,
          3660,
          3720,
          3780,
          3840,
          3900,
          3960,
          4020,
          4080,
          4140,
          4200,
          4260,
          4320,
          4380,
          4440,
          4500,
          4560,
          4620,
          4680,
          4740,
          4800,
          4860,
          4920,
          4980,
          5040,
          5100,
          5160,
          5220,
          5280,
          5340,
          5400,
          5460,
          5520,
          5580,
          5640,
          5700,
          5760,
          5820,
          5880,
          5940,
          6000
         ],
         "y": [
          90,
          88.0496611192196,
          83.19196726610403,
          80.27630177345321,
          77.47307254794069,
          74.09540824648332,
          71.64926548451757,
          70.85289482993045,
          63.74354206327078,
          67.30008527012801,
          62.09071942204403,
          64.6960264716766,
          62.39732488028416,
          63.54524506476123,
          62.96752972378117,
          63.25391480960748,
          63.10785189087136,
          63.17849807243425,
          63.1408716749028,
          63.15655456719938,
          63.14841086960099,
          63.148646176131194,
          63.147077626703854,
          63.145509382512955,
          63.143941467210105,
          63.14237389981908,
          63.14080669560915,
          63.13923986682583,
          63.1376734232673,
          63.13610737277056,
          63.134541721581996,
          63.13297647467914,
          63.13141163600663,
          63.12984720868919,
          63.12828319517984,
          63.126719597402186,
          63.12515641684192,
          63.12359365464362,
          63.122031311665545,
          63.120469388547036,
          63.11890788573953,
          63.11734680355487,
          63.11578614218083,
          63.11422590171704,
          63.11266608218051,
          63.111106683533436,
          63.10954770568225,
          63.10798914850022,
          63.10643101182224,
          63.10487329546406,
          63.103315999214374,
          63.1017591228518,
          63.10020266613523,
          63.09864662881937,
          63.09709101064393,
          63.095535811348284,
          63.093981030659876,
          63.092426668308285,
          63.09087272401315,
          63.08931919749787,
          63.08776608847719,
          63.08621339667064,
          63.08466112178995,
          63.08310926355231,
          63.08155782166765,
          63.0800067958518,
          63.078456185813685,
          63.0769059912684,
          63.07535621192436,
          63.07380684749636,
          63.07225789769265,
          63.07070936222798,
          63.069161240810644,
          63.06761353315551,
          63.06606623897106,
          63.0645193579724,
          63.0629728898683,
          63.06142683437416,
          63.059881191199096,
          63.05833596005886,
          63.05679114066294,
          63.05524673272747,
          63.053702735962325,
          63.052159150084066,
          63.05061597480297,
          63.04907320983601,
          63.04753085489389,
          63.04598890969401,
          63.0444473739475,
          63.04290624737218,
          63.04136552967962,
          63.03982522058807,
          63.03828531980954,
          63.03674582706271,
          63.03520674206001,
          63.033668064520576,
          63.03212979415727,
          63.03059193068965,
          63.02905447383103,
          63.0275174233014,
          63.025980778814485
         ]
        },
        {
         "mode": "lines",
         "name": "Layer 2",
         "type": "scatter",
         "x": [
          0,
          60,
          120,
          180,
          240,
          300,
          360,
          420,
          480,
          540,
          600,
          660,
          720,
          780,
          840,
          900,
          960,
          1020,
          1080,
          1140,
          1200,
          1260,
          1320,
          1380,
          1440,
          1500,
          1560,
          1620,
          1680,
          1740,
          1800,
          1860,
          1920,
          1980,
          2040,
          2100,
          2160,
          2220,
          2280,
          2340,
          2400,
          2460,
          2520,
          2580,
          2640,
          2700,
          2760,
          2820,
          2880,
          2940,
          3000,
          3060,
          3120,
          3180,
          3240,
          3300,
          3360,
          3420,
          3480,
          3540,
          3600,
          3660,
          3720,
          3780,
          3840,
          3900,
          3960,
          4020,
          4080,
          4140,
          4200,
          4260,
          4320,
          4380,
          4440,
          4500,
          4560,
          4620,
          4680,
          4740,
          4800,
          4860,
          4920,
          4980,
          5040,
          5100,
          5160,
          5220,
          5280,
          5340,
          5400,
          5460,
          5520,
          5580,
          5640,
          5700,
          5760,
          5820,
          5880,
          5940,
          6000
         ],
         "y": [
          80,
          79.99781839741341,
          76.09850040892877,
          72.20883819892454,
          67.46067810826459,
          64.63496423615344,
          65.33280113514306,
          53.48803058053219,
          62.17431332281063,
          56.10956897357663,
          61.70682193830921,
          59.91573467795746,
          62.30585536241815,
          62.35025539964245,
          62.94697314093433,
          62.956516067575514,
          63.10494694897041,
          63.106413922354584,
          63.1428090394639,
          63.14341134036741,
          63.15081261561516,
          63.15182050818257,
          63.15297643112818,
          63.15425146668377,
          63.15562239102076,
          63.1570703627392,
          63.158580207257,
          63.1601396426902,
          63.161738826799414,
          63.163369776911615,
          63.16502612496007,
          63.1667026870738,
          63.168395348139725,
          63.17010073671219,
          63.17181619564354,
          63.173539526634215,
          63.17526901736826,
          63.17700323039426,
          63.178741066584365,
          63.180481582366795,
          63.18222407659635,
          63.18396792617567,
          63.18571268812977,
          63.18745794720634,
          63.18920342784125,
          63.190948849547425,
          63.192694045304556,
          63.19443882200144,
          63.196183082992576,
          63.197926691817095,
          63.19966959745701,
          63.20141170018054,
          63.20315297855204,
          63.20489335665271,
          63.20663283222627,
          63.20837134479276,
          63.21010890453053,
          63.21184546096909,
          63.213581032348515,
          63.21531557468771,
          63.21704911145331,
          63.218781602871374,
          63.22051307579695,
          63.22224349318357,
          63.22397288408294,
          63.22570121321674,
          63.22742851106065,
          63.22915474348251,
          63.23087994188104,
          63.23260407286696,
          63.23432716843724,
          63.23604919568404,
          63.23777018699199,
          63.23949010976519,
          63.2412089966394,
          63.24292681522077,
          63.24464359830766,
          63.24635931363702,
          63.24807399411243,
          63.24978760755543,
          63.251500186937626,
          63.25321170013518,
          63.254922180163604,
          63.25663159493429,
          63.25833997749099,
          63.26004729576774,
          63.26175358282641,
          63.26345880661549,
          63.2651630002084,
          63.26686613156283,
          63.26856823375945,
          63.27026927476171,
          63.271969287654805,
          63.273668240405684,
          63.275366166102295,
          63.27706303271366,
          63.27875887332929,
          63.28045365591936,
          63.28214741357419,
          63.28384011426449,
          63.28553179108092
         ]
        },
        {
         "mode": "lines",
         "name": "Layer 3",
         "type": "scatter",
         "x": [
          0,
          60,
          120,
          180,
          240,
          300,
          360,
          420,
          480,
          540,
          600,
          660,
          720,
          780,
          840,
          900,
          960,
          1020,
          1080,
          1140,
          1200,
          1260,
          1320,
          1380,
          1440,
          1500,
          1560,
          1620,
          1680,
          1740,
          1800,
          1860,
          1920,
          1980,
          2040,
          2100,
          2160,
          2220,
          2280,
          2340,
          2400,
          2460,
          2520,
          2580,
          2640,
          2700,
          2760,
          2820,
          2880,
          2940,
          3000,
          3060,
          3120,
          3180,
          3240,
          3300,
          3360,
          3420,
          3480,
          3540,
          3600,
          3660,
          3720,
          3780,
          3840,
          3900,
          3960,
          4020,
          4080,
          4140,
          4200,
          4260,
          4320,
          4380,
          4440,
          4500,
          4560,
          4620,
          4680,
          4740,
          4800,
          4860,
          4920,
          4980,
          5040,
          5100,
          5160,
          5220,
          5280,
          5340,
          5400,
          5460,
          5520,
          5580,
          5640,
          5700,
          5760,
          5820,
          5880,
          5940,
          6000
         ],
         "y": [
          70,
          64.1548009645564,
          61.23287927530391,
          54.652624347411205,
          51.802552336619414,
          56.572883812422575,
          35.33950755149,
          61.613661385815455,
          48.483483049864525,
          61.555286546211434,
          57.74520556446109,
          62.30807401053613,
          63.23798526936291,
          64.99156084938713,
          67.08169552833317,
          69.16426819315394,
          71.0576318929395,
          72.69285717846846,
          74.06356506612047,
          75.19269806644263,
          76.11340093721996,
          76.85987758910167,
          77.4630406662981,
          77.94966028695407,
          78.34172695225665,
          78.65764160391068,
          78.91191979202186,
          79.11680477309069,
          79.28162765472044,
          79.41449159082016,
          79.52133853153285,
          79.60753242405275,
          79.6768045221959,
          79.73273999163776,
          79.77764078489335,
          79.81394633312168,
          79.84303531548161,
          79.86660617550014,
          79.8854388751085,
          79.9007506271223,
          79.91293243850143,
          79.9228888658349,
          79.9307583719052,
          79.93724260533256,
          79.94231620485176,
          79.94654923403046,
          79.94981010540357,
          79.9525835673772,
          79.95466915952387,
          79.95649631521212,
          79.95781991949836,
          79.95903354163354,
          79.95986311466135,
          79.96067895524875,
          79.96118822544435,
          79.96174616619463,
          79.96204776946642,
          79.96243850194674,
          79.96260546519616,
          79.9628877888126,
          79.96296745865284,
          79.96317949569551,
          79.96320256905717,
          79.96336903591428,
          79.96335541499205,
          79.96349233640474,
          79.96345492468258,
          79.96357269020812,
          79.9635198535926,
          79.96362519924635,
          79.96356236172946,
          79.96365965477197,
          79.96359033297078,
          79.96368240489286,
          79.96360887878794,
          79.96369756537206,
          79.9636213131771,
          79.9637078046435,
          79.96362978475086,
          79.96371485277285,
          79.96363568655151,
          79.96371983143972,
          79.96363992175122,
          79.96372346787966,
          79.96364307591745,
          79.96372623359257,
          79.96364552870028,
          79.96372843427343,
          79.96364752624442,
          79.96373026811855,
          79.96364922813699,
          79.96373186362793,
          79.96365073784597,
          79.96373330411441,
          79.96365212245482,
          79.96373464359394,
          79.96365342545724,
          79.96373591708797,
          79.96365467505262,
          79.96373714730301,
          79.96365588952447
         ]
        },
        {
         "mode": "lines",
         "name": "Layer 4",
         "type": "scatter",
         "x": [
          0,
          60,
          120,
          180,
          240,
          300,
          360,
          420,
          480,
          540,
          600,
          660,
          720,
          780,
          840,
          900,
          960,
          1020,
          1080,
          1140,
          1200,
          1260,
          1320,
          1380,
          1440,
          1500,
          1560,
          1620,
          1680,
          1740,
          1800,
          1860,
          1920,
          1980,
          2040,
          2100,
          2160,
          2220,
          2280,
          2340,
          2400,
          2460,
          2520,
          2580,
          2640,
          2700,
          2760,
          2820,
          2880,
          2940,
          3000,
          3060,
          3120,
          3180,
          3240,
          3300,
          3360,
          3420,
          3480,
          3540,
          3600,
          3660,
          3720,
          3780,
          3840,
          3900,
          3960,
          4020,
          4080,
          4140,
          4200,
          4260,
          4320,
          4380,
          4440,
          4500,
          4560,
          4620,
          4680,
          4740,
          4800,
          4860,
          4920,
          4980,
          5040,
          5100,
          5160,
          5220,
          5280,
          5340,
          5400,
          5460,
          5520,
          5580,
          5640,
          5700,
          5760,
          5820,
          5880,
          5940,
          6000
         ],
         "y": [
          60,
          54.1551645649875,
          48.31075411402967,
          43.928775945548374,
          48.980436958926894,
          33.277513311958515,
          54.62332118057877,
          49.50983231028743,
          59.13242847614763,
          58.04458335878542,
          62.16348070039913,
          63.90237061855991,
          66.24093162378726,
          68.5709681146185,
          70.64880402835657,
          72.40852102010757,
          73.86098421477647,
          75.0443422386287,
          76.00231359020546,
          76.77532762110711,
          77.39833988944443,
          77.89994200173085,
          78.30396996398449,
          78.62902791729444,
          78.8909743586101,
          79.10157068310954,
          79.27145094673031,
          79.40788136035182,
          79.51809606028635,
          79.60650417139338,
          79.67806121478,
          79.73534015777668,
          79.78182383572454,
          79.81890359346616,
          79.84911750301248,
          79.8730912900441,
          79.89275122779115,
          79.90822514583891,
          79.92104134983687,
          79.93100410613324,
          79.93938313730159,
          79.94577276459931,
          79.95127498015978,
          79.95534797860898,
          79.95898501511171,
          79.96155602905891,
          79.96398378032038,
          79.96558098735821,
          79.96722470364459,
          79.96819054787863,
          79.96932593926012,
          79.96988244285225,
          79.97068826451454,
          79.97097937426695,
          79.97157152112761,
          79.97169056416368,
          79.97214417607768,
          79.9721516605542,
          79.97251545405857,
          79.97245061012646,
          79.97275617033505,
          79.9726444326579,
          79.97291223761403,
          79.97277009662267,
          79.97301342315835,
          79.97285157033724,
          79.97307902641704,
          79.97290439353418,
          79.97312156008688,
          79.97293864131778,
          79.97314913670934,
          79.97296084582916,
          79.97316701600825,
          79.9729752421479,
          79.973178608098,
          79.97298457606558,
          79.97318612390842,
          79.97299062780188,
          79.9731909968843,
          79.97299455155289,
          79.97319415639208,
          79.97299709563559,
          79.9731962049816,
          79.97299874521741,
          79.97319753331291,
          79.97299981485408,
          79.97319839466842,
          79.97300050848617,
          79.97319895326243,
          79.97300095833751,
          79.97319931556244,
          79.97300125013469,
          79.97319955059609,
          79.97300143945812,
          79.9731997031171,
          79.97300156234306,
          79.9731998021413,
          79.97300164215277,
          79.97319986648093,
          79.97300169403472,
          79.97319990833286
         ]
        },
        {
         "mode": "lines",
         "name": "Layer 5",
         "type": "scatter",
         "x": [
          0,
          60,
          120,
          180,
          240,
          300,
          360,
          420,
          480,
          540,
          600,
          660,
          720,
          780,
          840,
          900,
          960,
          1020,
          1080,
          1140,
          1200,
          1260,
          1320,
          1380,
          1440,
          1500,
          1560,
          1620,
          1680,
          1740,
          1800,
          1860,
          1920,
          1980,
          2040,
          2100,
          2160,
          2220,
          2280,
          2340,
          2400,
          2460,
          2520,
          2580,
          2640,
          2700,
          2760,
          2820,
          2880,
          2940,
          3000,
          3060,
          3120,
          3180,
          3240,
          3300,
          3360,
          3420,
          3480,
          3540,
          3600,
          3660,
          3720,
          3780,
          3840,
          3900,
          3960,
          4020,
          4080,
          4140,
          4200,
          4260,
          4320,
          4380,
          4440,
          4500,
          4560,
          4620,
          4680,
          4740,
          4800,
          4860,
          4920,
          4980,
          5040,
          5100,
          5160,
          5220,
          5280,
          5340,
          5400,
          5460,
          5520,
          5580,
          5640,
          5700,
          5760,
          5820,
          5880,
          5940,
          6000
         ],
         "y": [
          50,
          44.1555281654186,
          38.31148130167134,
          43.64153321862028,
          33.20090173326148,
          49.86153575279481,
          49.91311202433026,
          55.616115457499,
          58.13264238150548,
          62.08920550660322,
          65.14242243825876,
          67.9063507964115,
          70.2309530529771,
          72.12987693823557,
          73.66361409676018,
          74.89769448657862,
          75.88972480161573,
          76.68742115524772,
          77.32889487847251,
          77.84521946137144,
          78.26046608465641,
          78.59509055275615,
          78.86397750351547,
          79.08103233073706,
          79.25510329104243,
          79.39602165053375,
          79.50865924556732,
          79.60022617431957,
          79.67312340482482,
          79.73269383028865,
          79.77981697662726,
          79.81862158393217,
          79.84901258999786,
          79.87434245024878,
          79.89387791713749,
          79.91046905772099,
          79.92296575325267,
          79.93389117970564,
          79.94182458195141,
          79.94907677142297,
          79.95405164589644,
          79.95892231255397,
          79.96197902354932,
          79.96530563070824,
          79.9671187004362,
          79.96944422149471,
          79.97045098196307,
          79.972127454223,
          79.97261144884399,
          79.97386711396491,
          79.97401217625543,
          79.97499501330383,
          79.97492033057988,
          79.97572628096067,
          79.97550912769013,
          79.97620039451989,
          79.97589087121364,
          79.9765077835632,
          79.9761383726285,
          79.97670707764043,
          79.9762988388756,
          79.97683628891255,
          79.97640287632726,
          79.9769200623647,
          79.97647032846461,
          79.97697437644403,
          79.97651406070491,
          79.97700959069317,
          79.9765424142741,
          79.97703242166736,
          79.97656079716235,
          79.97704722401005,
          79.9765727156118,
          79.97705682103151,
          79.97658044287616,
          79.9770630432102,
          79.97658545280761,
          79.97706707732722,
          79.9765887009705,
          79.97706969282594,
          79.97659080689996,
          79.97707138857089,
          79.97659217226835,
          79.9770724879983,
          79.97659305749785,
          79.97707320080636,
          79.97659363143181,
          79.97707366295178,
          79.97659400353895,
          79.9770739625814,
          79.9765942447927,
          79.97707415684474,
          79.97659440120836,
          79.9770742827944,
          79.97659450261968,
          79.97707436445324,
          79.97659456836921,
          79.97707441739638,
          79.97659461099764,
          79.97707445172183,
          79.97659463863559
         ]
        },
        {
         "mode": "lines",
         "name": "Layer 6",
         "type": "scatter",
         "x": [
          0,
          60,
          120,
          180,
          240,
          300,
          360,
          420,
          480,
          540,
          600,
          660,
          720,
          780,
          840,
          900,
          960,
          1020,
          1080,
          1140,
          1200,
          1260,
          1320,
          1380,
          1440,
          1500,
          1560,
          1620,
          1680,
          1740,
          1800,
          1860,
          1920,
          1980,
          2040,
          2100,
          2160,
          2220,
          2280,
          2340,
          2400,
          2460,
          2520,
          2580,
          2640,
          2700,
          2760,
          2820,
          2880,
          2940,
          3000,
          3060,
          3120,
          3180,
          3240,
          3300,
          3360,
          3420,
          3480,
          3540,
          3600,
          3660,
          3720,
          3780,
          3840,
          3900,
          3960,
          4020,
          4080,
          4140,
          4200,
          4260,
          4320,
          4380,
          4440,
          4500,
          4560,
          4620,
          4680,
          4740,
          4800,
          4860,
          4920,
          4980,
          5040,
          5100,
          5160,
          5220,
          5280,
          5340,
          5400,
          5460,
          5520,
          5580,
          5640,
          5700,
          5760,
          5820,
          5880,
          5940,
          6000
         ],
         "y": [
          40,
          34.1558917658497,
          38.87447938753803,
          33.88303625966552,
          48.201166874678435,
          49.9572686586165,
          55.640808236711536,
          59.925571188936175,
          64.04819297577261,
          67.31650820800172,
          69.87465043960295,
          71.8875196707955,
          73.48402999561515,
          74.75818001405042,
          75.77918791975064,
          76.59907768798588,
          77.25855512608939,
          77.78891113185321,
          78.21621747184965,
          78.55956714465324,
          78.8368440997116,
          79.05897174044425,
          79.23915733826833,
          79.38265402645546,
          79.49998991676071,
          79.59251185664058,
          79.6690902206736,
          79.72870828871997,
          79.77879844998894,
          79.81706851576658,
          79.84995529252988,
          79.87436241172183,
          79.89609144930512,
          79.91150609587697,
          79.92600212211676,
          79.93558718754083,
          79.94539416601508,
          79.95120010186807,
          79.95796694795736,
          79.96132273649724,
          79.96611848837324,
          79.9678857059962,
          79.97140350174813,
          79.97214076887336,
          79.97483001009478,
          79.97489951485605,
          79.97705156799421,
          79.9766881333524,
          79.9784919034565,
          79.97784777493109,
          79.97942573748922,
          79.97859962250924,
          79.98003118391003,
          79.97908707894679,
          79.98042372192515,
          79.9794031187737,
          79.98067822189128,
          79.97960802154127,
          79.98084322561238,
          79.97974086917854,
          79.98095020491155,
          79.97982700024897,
          79.98101956438033,
          79.97988284287773,
          79.98106453322895,
          79.97991904815383,
          79.9810936885466,
          79.97994252165512,
          79.98111259124421,
          79.97995774057685,
          79.98112484670929,
          79.9799676076851,
          79.98113279247593,
          79.97997400497309,
          79.98113794407216,
          79.97997815262127,
          79.9811412840826,
          79.97998084172725,
          79.98114344956089,
          79.97998258519507,
          79.98114485353742,
          79.9799837155633,
          79.98114576379825,
          79.97998444843162,
          79.9811463539611,
          79.97998492358298,
          79.98114673659009,
          79.97998523164486,
          79.9811469846656,
          79.97998543137517,
          79.98114714550405,
          79.97998556086928,
          79.98114724978282,
          79.97998564482609,
          79.9811473173914,
          79.97998569925906,
          79.98114736122508,
          79.97998573455038,
          79.98114738964442,
          79.97998575743132,
          79.98114740806996
         ]
        },
        {
         "mode": "lines",
         "name": "Layer 7",
         "type": "scatter",
         "x": [
          0,
          60,
          120,
          180,
          240,
          300,
          360,
          420,
          480,
          540,
          600,
          660,
          720,
          780,
          840,
          900,
          960,
          1020,
          1080,
          1140,
          1200,
          1260,
          1320,
          1380,
          1440,
          1500,
          1560,
          1620,
          1680,
          1740,
          1800,
          1860,
          1920,
          1980,
          2040,
          2100,
          2160,
          2220,
          2280,
          2340,
          2400,
          2460,
          2520,
          2580,
          2640,
          2700,
          2760,
          2820,
          2880,
          2940,
          3000,
          3060,
          3120,
          3180,
          3240,
          3300,
          3360,
          3420,
          3480,
          3540,
          3600,
          3660,
          3720,
          3780,
          3840,
          3900,
          3960,
          4020,
          4080,
          4140,
          4200,
          4260,
          4320,
          4380,
          4440,
          4500,
          4560,
          4620,
          4680,
          4740,
          4800,
          4860,
          4920,
          4980,
          5040,
          5100,
          5160,
          5220,
          5280,
          5340,
          5400,
          5460,
          5520,
          5580,
          5640,
          5700,
          5760,
          5820,
          5880,
          5940,
          6000
         ],
         "y": [
          30,
          33.8952237550943,
          34.27284272302535,
          50.028203716343285,
          51.212284850657326,
          59.68231347264737,
          62.97515693037873,
          66.98232004361299,
          69.64423460881123,
          71.69758639043953,
          73.32289035058707,
          74.62334086594566,
          75.66822304698687,
          76.50917544573367,
          77.18600841935888,
          77.73138196269062,
          78.16989205433839,
          78.52389729201182,
          78.80752800033889,
          79.03780590248853,
          79.2207061606544,
          79.37105675593466,
          79.48845762203956,
          79.58718347647202,
          79.66205675528336,
          79.72729242209836,
          79.77484835782104,
          79.81815934432792,
          79.84802356560371,
          79.87707927324303,
          79.89545662905986,
          79.91527882529407,
          79.92620388652543,
          79.94004458415739,
          79.94613834279757,
          79.95610126040191,
          79.95906312676689,
          79.96651156523285,
          79.96744294864357,
          79.97326104633294,
          79.97287595277776,
          79.97763703654334,
          79.97639840222234,
          79.9804741856342,
          79.97868216258082,
          79.98231363619092,
          79.98016282722412,
          79.98350623439202,
          79.98112280861403,
          79.98427944922288,
          79.98174520752235,
          79.98478075901292,
          79.98214873657959,
          79.9851057805897,
          79.98241036252867,
          79.98531650662757,
          79.98257998634432,
          79.98545312975148,
          79.98268996105794,
          79.98554170863893,
          79.982761262588,
          79.98559913829705,
          79.98280749056183,
          79.98563637251534,
          79.98283746222671,
          79.98566051312591,
          79.98285689419879,
          79.98567616456444,
          79.98286949281622,
          79.9856863120927,
          79.98287766106388,
          79.98569289118953,
          79.9828829569045,
          79.98569715671253,
          79.98288639043506,
          79.98569992224205,
          79.9828886165466,
          79.98570171525863,
          79.9828900598344,
          79.98570287775155,
          79.9828909955825,
          79.98570363144776,
          79.98289160226986,
          79.98570412010275,
          79.98289199561246,
          79.98570443691966,
          79.98289225063405,
          79.98570464232624,
          79.98289241597598,
          79.98570477550052,
          79.98289252317456,
          79.98570486184337,
          79.98289259267617,
          79.9857049178233,
          79.9828926377372,
          79.9857049541176,
          79.98289266695227,
          79.98570497764882,
          79.9828926858937,
          79.98570499290517,
          79.98289269817431
         ]
        },
        {
         "mode": "lines",
         "name": "Layer 8",
         "type": "scatter",
         "x": [
          0,
          60,
          120,
          180,
          240,
          300,
          360,
          420,
          480,
          540,
          600,
          660,
          720,
          780,
          840,
          900,
          960,
          1020,
          1080,
          1140,
          1200,
          1260,
          1320,
          1380,
          1440,
          1500,
          1560,
          1620,
          1680,
          1740,
          1800,
          1860,
          1920,
          1980,
          2040,
          2100,
          2160,
          2220,
          2280,
          2340,
          2400,
          2460,
          2520,
          2580,
          2640,
          2700,
          2760,
          2820,
          2880,
          2940,
          3000,
          3060,
          3120,
          3180,
          3240,
          3300,
          3360,
          3420,
          3480,
          3540,
          3600,
          3660,
          3720,
          3780,
          3840,
          3900,
          3960,
          4020,
          4080,
          4140,
          4200,
          4260,
          4320,
          4380,
          4440,
          4500,
          4560,
          4620,
          4680,
          4740,
          4800,
          4860,
          4920,
          4980,
          5040,
          5100,
          5160,
          5220,
          5280,
          5340,
          5400,
          5460,
          5520,
          5580,
          5640,
          5700,
          5760,
          5820,
          5880,
          5940,
          6000
         ],
         "y": [
          20,
          25.843381033288104,
          42.05240231991786,
          45.741116473182046,
          56.11276091141892,
          59.0726097458031,
          64.16258541201117,
          67.20377817595289,
          69.7112621383562,
          71.71626082574582,
          73.32718734369763,
          74.62359744709416,
          75.66791877141236,
          76.50852558151418,
          77.18566269065272,
          77.73041782292788,
          78.16973920462405,
          78.52241317834421,
          78.8079809636153,
          79.03570952848247,
          79.22205735704284,
          79.36839800306731,
          79.49068250184435,
          79.58411525108359,
          79.6648159201578,
          79.72419120110007,
          79.77767202168639,
          79.81505957863389,
          79.85083549142401,
          79.87396642343708,
          79.89827279482604,
          79.91215286615565,
          79.92902944602383,
          79.93691032254384,
          79.9489703724104,
          79.95296202460007,
          79.96189889640033,
          79.96336917022991,
          79.97028102204968,
          79.97011658355999,
          79.97571553200427,
          79.9744912239939,
          79.97923896983824,
          79.9773274976979,
          79.98152337245463,
          79.97916638137968,
          79.98300445282366,
          79.98035861220683,
          79.98396470349667,
          79.98113158882978,
          79.9845872769975,
          79.98163274416191,
          79.98499091927178,
          79.98195766559513,
          79.98525261862835,
          79.9821683267065,
          79.98542229003644,
          79.98230490773602,
          79.98553229560586,
          79.98239345933176,
          79.98560361714111,
          79.9824508712954,
          79.98564985808524,
          79.98248809404157,
          79.98567983815937,
          79.98251222721423,
          79.98569927558356,
          79.98252787383046,
          79.98571187773578,
          79.98253801823219,
          79.98572004827523,
          79.98254459530196,
          79.98572534560171,
          79.98254885951073,
          79.98572878009563,
          79.98255162418815,
          79.98573100683177,
          79.98255341665231,
          79.9857324505245,
          79.98255457878707,
          79.98573338653513,
          79.98255533225105,
          79.98573399339273,
          79.9825558207555,
          79.98573438684566,
          79.98255613747477,
          79.98573464193882,
          79.98255634281807,
          79.98573480732713,
          79.98255647595133,
          79.98573491455579,
          79.98255656226756,
          79.98573498407691,
          79.98255661823026,
          79.98573502915056,
          79.98255665451336,
          79.98573505837385,
          79.98255667803733,
          79.98573507732061,
          79.98255669328898,
          79.98573508960465
         ]
        },
        {
         "mode": "lines",
         "name": "Layer 9",
         "type": "scatter",
         "x": [
          0,
          60,
          120,
          180,
          240,
          300,
          360,
          420,
          480,
          540,
          600,
          660,
          720,
          780,
          840,
          900,
          960,
          1020,
          1080,
          1140,
          1200,
          1260,
          1320,
          1380,
          1440,
          1500,
          1560,
          1620,
          1680,
          1740,
          1800,
          1860,
          1920,
          1980,
          2040,
          2100,
          2160,
          2220,
          2280,
          2340,
          2400,
          2460,
          2520,
          2580,
          2640,
          2700,
          2760,
          2820,
          2880,
          2940,
          3000,
          3060,
          3120,
          3180,
          3240,
          3300,
          3360,
          3420,
          3480,
          3540,
          3600,
          3660,
          3720,
          3780,
          3840,
          3900,
          3960,
          4020,
          4080,
          4140,
          4200,
          4260,
          4320,
          4380,
          4440,
          4500,
          4560,
          4620,
          4680,
          4740,
          4800,
          4860,
          4920,
          4980,
          5040,
          5100,
          5160,
          5220,
          5280,
          5340,
          5400,
          5460,
          5520,
          5580,
          5640,
          5700,
          5760,
          5820,
          5880,
          5940,
          6000
         ],
         "y": [
          10,
          28.637249752947113,
          38.64048872307181,
          48.40178786790267,
          54.553934258316204,
          60.28758757867719,
          64.1240740556658,
          67.23252628120593,
          69.7160277262355,
          71.71562383245923,
          73.32591832846154,
          74.62276317539069,
          75.66670042367477,
          76.5074186762896,
          77.184267284524,
          77.72937628996011,
          78.16809383152614,
          78.52162932662587,
          78.80584751978,
          79.03536087948555,
          79.21926082256635,
          79.36855230224641,
          79.48735549213949,
          79.58467408466285,
          79.66136587781534,
          79.72484009793499,
          79.77422053392303,
          79.81570575408438,
          79.84738102297695,
          79.87461241718009,
          79.8948097263469,
          79.91280394227648,
          79.92555963406436,
          79.93756560540527,
          79.9454964877851,
          79.9536198015201,
          79.95842252425649,
          79.9640284448162,
          79.96680304373447,
          79.97077682398289,
          79.97223650143431,
          79.97515209911325,
          79.97575925434242,
          79.97798878642816,
          79.97804321322236,
          79.97982793801415,
          79.97952400617916,
          79.98102034231562,
          79.9804840705397,
          79.9817934313865,
          79.98110652322926,
          79.98229465963661,
          79.98151008717046,
          79.98261962835025,
          79.9817717357404,
          79.98283032011548,
          79.98194137422175,
          79.98296692101886,
          79.98205135844337,
          79.98305548549965,
          79.98212266613784,
          79.98311290581728,
          79.98216889810837,
          79.9831501339797,
          79.9821988723645,
          79.98317427066401,
          79.98221830601663,
          79.98318991955696,
          79.98223090572328,
          79.9832000654348,
          79.98223907467714,
          79.98320664346159,
          79.98224437097561,
          79.98321090829083,
          79.98224780480301,
          79.98321367337056,
          79.98225003110704,
          79.98321546609554,
          79.98225147451961,
          79.98321662839939,
          79.9822524103486,
          79.98321738197302,
          79.98225301708842,
          79.98321787054853,
          79.982253410465,
          79.9832181873139,
          79.98225366550865,
          79.98321839268706,
          79.98225383086488,
          79.9832185258397,
          79.98225393807272,
          79.98321861216851,
          79.98225400758037,
          79.98321866813933,
          79.98225405264527,
          79.98321870442771,
          79.98225408186286,
          79.98321872795512,
          79.98225410080596,
          79.98321874320898,
          79.9822541130876
         ]
        }
       ],
       "layout": {
        "template": {
         "data": {
          "bar": [
           {
            "error_x": {
             "color": "#2a3f5f"
            },
            "error_y": {
             "color": "#2a3f5f"
            },
            "marker": {
             "line": {
              "color": "#E5ECF6",
              "width": 0.5
             },
             "pattern": {
              "fillmode": "overlay",
              "size": 10,
              "solidity": 0.2
             }
            },
            "type": "bar"
           }
          ],
          "barpolar": [
           {
            "marker": {
             "line": {
              "color": "#E5ECF6",
              "width": 0.5
             },
             "pattern": {
              "fillmode": "overlay",
              "size": 10,
              "solidity": 0.2
             }
            },
            "type": "barpolar"
           }
          ],
          "carpet": [
           {
            "aaxis": {
             "endlinecolor": "#2a3f5f",
             "gridcolor": "white",
             "linecolor": "white",
             "minorgridcolor": "white",
             "startlinecolor": "#2a3f5f"
            },
            "baxis": {
             "endlinecolor": "#2a3f5f",
             "gridcolor": "white",
             "linecolor": "white",
             "minorgridcolor": "white",
             "startlinecolor": "#2a3f5f"
            },
            "type": "carpet"
           }
          ],
          "choropleth": [
           {
            "colorbar": {
             "outlinewidth": 0,
             "ticks": ""
            },
            "type": "choropleth"
           }
          ],
          "contour": [
           {
            "colorbar": {
             "outlinewidth": 0,
             "ticks": ""
            },
            "colorscale": [
             [
              0,
              "#0d0887"
             ],
             [
              0.1111111111111111,
              "#46039f"
             ],
             [
              0.2222222222222222,
              "#7201a8"
             ],
             [
              0.3333333333333333,
              "#9c179e"
             ],
             [
              0.4444444444444444,
              "#bd3786"
             ],
             [
              0.5555555555555556,
              "#d8576b"
             ],
             [
              0.6666666666666666,
              "#ed7953"
             ],
             [
              0.7777777777777778,
              "#fb9f3a"
             ],
             [
              0.8888888888888888,
              "#fdca26"
             ],
             [
              1,
              "#f0f921"
             ]
            ],
            "type": "contour"
           }
          ],
          "contourcarpet": [
           {
            "colorbar": {
             "outlinewidth": 0,
             "ticks": ""
            },
            "type": "contourcarpet"
           }
          ],
          "heatmap": [
           {
            "colorbar": {
             "outlinewidth": 0,
             "ticks": ""
            },
            "colorscale": [
             [
              0,
              "#0d0887"
             ],
             [
              0.1111111111111111,
              "#46039f"
             ],
             [
              0.2222222222222222,
              "#7201a8"
             ],
             [
              0.3333333333333333,
              "#9c179e"
             ],
             [
              0.4444444444444444,
              "#bd3786"
             ],
             [
              0.5555555555555556,
              "#d8576b"
             ],
             [
              0.6666666666666666,
              "#ed7953"
             ],
             [
              0.7777777777777778,
              "#fb9f3a"
             ],
             [
              0.8888888888888888,
              "#fdca26"
             ],
             [
              1,
              "#f0f921"
             ]
            ],
            "type": "heatmap"
           }
          ],
          "heatmapgl": [
           {
            "colorbar": {
             "outlinewidth": 0,
             "ticks": ""
            },
            "colorscale": [
             [
              0,
              "#0d0887"
             ],
             [
              0.1111111111111111,
              "#46039f"
             ],
             [
              0.2222222222222222,
              "#7201a8"
             ],
             [
              0.3333333333333333,
              "#9c179e"
             ],
             [
              0.4444444444444444,
              "#bd3786"
             ],
             [
              0.5555555555555556,
              "#d8576b"
             ],
             [
              0.6666666666666666,
              "#ed7953"
             ],
             [
              0.7777777777777778,
              "#fb9f3a"
             ],
             [
              0.8888888888888888,
              "#fdca26"
             ],
             [
              1,
              "#f0f921"
             ]
            ],
            "type": "heatmapgl"
           }
          ],
          "histogram": [
           {
            "marker": {
             "pattern": {
              "fillmode": "overlay",
              "size": 10,
              "solidity": 0.2
             }
            },
            "type": "histogram"
           }
          ],
          "histogram2d": [
           {
            "colorbar": {
             "outlinewidth": 0,
             "ticks": ""
            },
            "colorscale": [
             [
              0,
              "#0d0887"
             ],
             [
              0.1111111111111111,
              "#46039f"
             ],
             [
              0.2222222222222222,
              "#7201a8"
             ],
             [
              0.3333333333333333,
              "#9c179e"
             ],
             [
              0.4444444444444444,
              "#bd3786"
             ],
             [
              0.5555555555555556,
              "#d8576b"
             ],
             [
              0.6666666666666666,
              "#ed7953"
             ],
             [
              0.7777777777777778,
              "#fb9f3a"
             ],
             [
              0.8888888888888888,
              "#fdca26"
             ],
             [
              1,
              "#f0f921"
             ]
            ],
            "type": "histogram2d"
           }
          ],
          "histogram2dcontour": [
           {
            "colorbar": {
             "outlinewidth": 0,
             "ticks": ""
            },
            "colorscale": [
             [
              0,
              "#0d0887"
             ],
             [
              0.1111111111111111,
              "#46039f"
             ],
             [
              0.2222222222222222,
              "#7201a8"
             ],
             [
              0.3333333333333333,
              "#9c179e"
             ],
             [
              0.4444444444444444,
              "#bd3786"
             ],
             [
              0.5555555555555556,
              "#d8576b"
             ],
             [
              0.6666666666666666,
              "#ed7953"
             ],
             [
              0.7777777777777778,
              "#fb9f3a"
             ],
             [
              0.8888888888888888,
              "#fdca26"
             ],
             [
              1,
              "#f0f921"
             ]
            ],
            "type": "histogram2dcontour"
           }
          ],
          "mesh3d": [
           {
            "colorbar": {
             "outlinewidth": 0,
             "ticks": ""
            },
            "type": "mesh3d"
           }
          ],
          "parcoords": [
           {
            "line": {
             "colorbar": {
              "outlinewidth": 0,
              "ticks": ""
             }
            },
            "type": "parcoords"
           }
          ],
          "pie": [
           {
            "automargin": true,
            "type": "pie"
           }
          ],
          "scatter": [
           {
            "fillpattern": {
             "fillmode": "overlay",
             "size": 10,
             "solidity": 0.2
            },
            "type": "scatter"
           }
          ],
          "scatter3d": [
           {
            "line": {
             "colorbar": {
              "outlinewidth": 0,
              "ticks": ""
             }
            },
            "marker": {
             "colorbar": {
              "outlinewidth": 0,
              "ticks": ""
             }
            },
            "type": "scatter3d"
           }
          ],
          "scattercarpet": [
           {
            "marker": {
             "colorbar": {
              "outlinewidth": 0,
              "ticks": ""
             }
            },
            "type": "scattercarpet"
           }
          ],
          "scattergeo": [
           {
            "marker": {
             "colorbar": {
              "outlinewidth": 0,
              "ticks": ""
             }
            },
            "type": "scattergeo"
           }
          ],
          "scattergl": [
           {
            "marker": {
             "colorbar": {
              "outlinewidth": 0,
              "ticks": ""
             }
            },
            "type": "scattergl"
           }
          ],
          "scattermapbox": [
           {
            "marker": {
             "colorbar": {
              "outlinewidth": 0,
              "ticks": ""
             }
            },
            "type": "scattermapbox"
           }
          ],
          "scatterpolar": [
           {
            "marker": {
             "colorbar": {
              "outlinewidth": 0,
              "ticks": ""
             }
            },
            "type": "scatterpolar"
           }
          ],
          "scatterpolargl": [
           {
            "marker": {
             "colorbar": {
              "outlinewidth": 0,
              "ticks": ""
             }
            },
            "type": "scatterpolargl"
           }
          ],
          "scatterternary": [
           {
            "marker": {
             "colorbar": {
              "outlinewidth": 0,
              "ticks": ""
             }
            },
            "type": "scatterternary"
           }
          ],
          "surface": [
           {
            "colorbar": {
             "outlinewidth": 0,
             "ticks": ""
            },
            "colorscale": [
             [
              0,
              "#0d0887"
             ],
             [
              0.1111111111111111,
              "#46039f"
             ],
             [
              0.2222222222222222,
              "#7201a8"
             ],
             [
              0.3333333333333333,
              "#9c179e"
             ],
             [
              0.4444444444444444,
              "#bd3786"
             ],
             [
              0.5555555555555556,
              "#d8576b"
             ],
             [
              0.6666666666666666,
              "#ed7953"
             ],
             [
              0.7777777777777778,
              "#fb9f3a"
             ],
             [
              0.8888888888888888,
              "#fdca26"
             ],
             [
              1,
              "#f0f921"
             ]
            ],
            "type": "surface"
           }
          ],
          "table": [
           {
            "cells": {
             "fill": {
              "color": "#EBF0F8"
             },
             "line": {
              "color": "white"
             }
            },
            "header": {
             "fill": {
              "color": "#C8D4E3"
             },
             "line": {
              "color": "white"
             }
            },
            "type": "table"
           }
          ]
         },
         "layout": {
          "annotationdefaults": {
           "arrowcolor": "#2a3f5f",
           "arrowhead": 0,
           "arrowwidth": 1
          },
          "autotypenumbers": "strict",
          "coloraxis": {
           "colorbar": {
            "outlinewidth": 0,
            "ticks": ""
           }
          },
          "colorscale": {
           "diverging": [
            [
             0,
             "#8e0152"
            ],
            [
             0.1,
             "#c51b7d"
            ],
            [
             0.2,
             "#de77ae"
            ],
            [
             0.3,
             "#f1b6da"
            ],
            [
             0.4,
             "#fde0ef"
            ],
            [
             0.5,
             "#f7f7f7"
            ],
            [
             0.6,
             "#e6f5d0"
            ],
            [
             0.7,
             "#b8e186"
            ],
            [
             0.8,
             "#7fbc41"
            ],
            [
             0.9,
             "#4d9221"
            ],
            [
             1,
             "#276419"
            ]
           ],
           "sequential": [
            [
             0,
             "#0d0887"
            ],
            [
             0.1111111111111111,
             "#46039f"
            ],
            [
             0.2222222222222222,
             "#7201a8"
            ],
            [
             0.3333333333333333,
             "#9c179e"
            ],
            [
             0.4444444444444444,
             "#bd3786"
            ],
            [
             0.5555555555555556,
             "#d8576b"
            ],
            [
             0.6666666666666666,
             "#ed7953"
            ],
            [
             0.7777777777777778,
             "#fb9f3a"
            ],
            [
             0.8888888888888888,
             "#fdca26"
            ],
            [
             1,
             "#f0f921"
            ]
           ],
           "sequentialminus": [
            [
             0,
             "#0d0887"
            ],
            [
             0.1111111111111111,
             "#46039f"
            ],
            [
             0.2222222222222222,
             "#7201a8"
            ],
            [
             0.3333333333333333,
             "#9c179e"
            ],
            [
             0.4444444444444444,
             "#bd3786"
            ],
            [
             0.5555555555555556,
             "#d8576b"
            ],
            [
             0.6666666666666666,
             "#ed7953"
            ],
            [
             0.7777777777777778,
             "#fb9f3a"
            ],
            [
             0.8888888888888888,
             "#fdca26"
            ],
            [
             1,
             "#f0f921"
            ]
           ]
          },
          "colorway": [
           "#636efa",
           "#EF553B",
           "#00cc96",
           "#ab63fa",
           "#FFA15A",
           "#19d3f3",
           "#FF6692",
           "#B6E880",
           "#FF97FF",
           "#FECB52"
          ],
          "font": {
           "color": "#2a3f5f"
          },
          "geo": {
           "bgcolor": "white",
           "lakecolor": "white",
           "landcolor": "#E5ECF6",
           "showlakes": true,
           "showland": true,
           "subunitcolor": "white"
          },
          "hoverlabel": {
           "align": "left"
          },
          "hovermode": "closest",
          "mapbox": {
           "style": "light"
          },
          "paper_bgcolor": "white",
          "plot_bgcolor": "#E5ECF6",
          "polar": {
           "angularaxis": {
            "gridcolor": "white",
            "linecolor": "white",
            "ticks": ""
           },
           "bgcolor": "#E5ECF6",
           "radialaxis": {
            "gridcolor": "white",
            "linecolor": "white",
            "ticks": ""
           }
          },
          "scene": {
           "xaxis": {
            "backgroundcolor": "#E5ECF6",
            "gridcolor": "white",
            "gridwidth": 2,
            "linecolor": "white",
            "showbackground": true,
            "ticks": "",
            "zerolinecolor": "white"
           },
           "yaxis": {
            "backgroundcolor": "#E5ECF6",
            "gridcolor": "white",
            "gridwidth": 2,
            "linecolor": "white",
            "showbackground": true,
            "ticks": "",
            "zerolinecolor": "white"
           },
           "zaxis": {
            "backgroundcolor": "#E5ECF6",
            "gridcolor": "white",
            "gridwidth": 2,
            "linecolor": "white",
            "showbackground": true,
            "ticks": "",
            "zerolinecolor": "white"
           }
          },
          "shapedefaults": {
           "line": {
            "color": "#2a3f5f"
           }
          },
          "ternary": {
           "aaxis": {
            "gridcolor": "white",
            "linecolor": "white",
            "ticks": ""
           },
           "baxis": {
            "gridcolor": "white",
            "linecolor": "white",
            "ticks": ""
           },
           "bgcolor": "#E5ECF6",
           "caxis": {
            "gridcolor": "white",
            "linecolor": "white",
            "ticks": ""
           }
          },
          "title": {
           "x": 0.05
          },
          "xaxis": {
           "automargin": true,
           "gridcolor": "white",
           "linecolor": "white",
           "ticks": "",
           "title": {
            "standoff": 15
           },
           "zerolinecolor": "white",
           "zerolinewidth": 2
          },
          "yaxis": {
           "automargin": true,
           "gridcolor": "white",
           "linecolor": "white",
           "ticks": "",
           "title": {
            "standoff": 15
           },
           "zerolinecolor": "white",
           "zerolinewidth": 2
          }
         }
        },
        "title": {
         "text": "M4: fast buoyancy (only indirect charging), Temperature development of each layer over time.)"
        },
        "xaxis": {
         "title": {
          "text": "Time Passed (s)"
         }
        },
        "yaxis": {
         "title": {
          "text": "Temperature"
         }
        }
       }
      }
     },
     "metadata": {},
     "output_type": "display_data"
    }
   ],
   "source": [
    "import numpy as np\n",
    "import matplotlib.pyplot as plt\n",
    "import plotly.graph_objects as go\n",
    "import plotly.express as px\n",
    "from scipy.special import expit\n",
    "from functions import step, plot_results_time, plot_results_height, import_variables\n",
    "import os\n",
    "import importlib.util\n",
    "\n",
    "# Set the working directory\n",
    "working_directory = r\"C:\\Users\\sophi\\repos\\repos_thesis\\Model\"\n",
    "os.chdir(working_directory)\n",
    "\n",
    "# Call the import_variables function to import variables from variables.py\n",
    "\n",
    "\n",
    "\n",
    "def import_variables(file_name):\n",
    "    try:\n",
    "        # Get the absolute path of the current working directory\n",
    "        current_dir = os.getcwd()\n",
    "\n",
    "        # Construct the full path to the file\n",
    "        file_path = os.path.join(current_dir, f\"{file_name}.py\")\n",
    "\n",
    "        # Use importlib to create a module from the file\n",
    "        spec = importlib.util.spec_from_file_location(\"module.name\", file_path)\n",
    "        module = importlib.util.module_from_spec(spec)\n",
    "        spec.loader.exec_module(module)\n",
    "\n",
    "        # Import variables directly into the global namespace\n",
    "        for name in dir(module):\n",
    "            if not name.startswith('__'):\n",
    "                globals()[name] = getattr(module, name)\n",
    "\n",
    "    except FileNotFoundError:\n",
    "        print(f\"File '{file_name}.py' not found.\")\n",
    "    except Exception as e:\n",
    "        print(f\"Error occurred while importing '{file_name}.py': {e}\")\n",
    "\n",
    "# Call the function to import variables from the file\n",
    "file_name = \"variables_m6\"\n",
    "import_variables(file_name)\n",
    "# Print the value of alpha immediately after importing\n",
    "#print(\"Value of alpha:\", alpha)\n",
    "\n",
    "############### Definitons for the model 5 (integtrated -  direct)\n",
    "\n",
    "class HeatDistributionVector_model5:\n",
    "    def __init__(self, alpha, beta_i, beta_bottom, beta_top, lambda_i, phi_i, z, T_a, T_initial, dt, Qdot, mdot, Tm):\n",
    "        \n",
    "        self.alpha = alpha                           # heat diffusivity\n",
    "        \n",
    "        self.beta_i = beta_i                         # heat loss coefficient to the ambient in the inner layers\n",
    "        self.beta_bottom = beta_bottom               # heat loss coefficient to the ambient at the bottom layer (i=0)\n",
    "        self.beta_top = beta_top                     # heat loss coefficient to the ambient at the top layer (i=-1)\n",
    "        \n",
    "        self.lambda_i = lambda_i                     # coefficient of the input heat\n",
    "        self.Qdot = Qdot                              # vector conaining the Q_i of each layer    \n",
    "        \n",
    "        self.phi_i = phi_i                           # coefficient of the input flow/stream\n",
    "        self.mdot = mdot                             # vector conaining the streams flowing into /out of the tank mdot_i of each layer\n",
    "        self.Tm = Tm                                 # vector containing the temperatures of the streams flowing in/out of the tank (each mdot_i has a Tm_i)\n",
    "\n",
    "        self.z = z                                   # height of the tank\n",
    "        self.num_layers = len(T_initial)             # number of layers (steps in space)\n",
    "        self.dz = z / self.num_layers                # step size in space (delta z, height of a layer) is total height/number of layers, num_layers = how big the initial temperature vector is\n",
    "        self.heights = [i * self.dz + self.dz/2 for i in range(len(T_initial))]     # list representing the height of the tank for plotting the temperatures in the middle of each layer\n",
    "\n",
    "        self.dt = dt                                 # step size in time (time step)\n",
    "\n",
    "        self.T_initial = np.array(T_initial)         # initial state of the temperatures along the tank [list] !!! Same lenght as num_layers\n",
    "        self.T_a = T_a                               # ambient temperature outside of the tank\n",
    "\n",
    "     \n",
    " # definition of the solver for the temperature vector in the next time step       \n",
    "    def vector_solve(self, num_steps, \n",
    "                     incl_diffusivity=True, \n",
    "                     incl_heat_loss=True, \n",
    "                     incl_fast_buoyancy=True,\n",
    "                     incl_slow_buoyancy=True):\n",
    "        \n",
    "        # Check if the time step dt is a multiple of frequency\n",
    "        storage_frequency = 60\n",
    "        if self.dt % storage_frequency != 0:\n",
    "            raise ValueError(f\"The time step dt ({self.dt}s) must be a multiple of the data storage frequency ({freq}s).\")\n",
    "\n",
    "        freq = int(self.dt/storage_frequency)                         # frequency of the stored values to match the time step of the simulation dt\n",
    "\n",
    "        # Check if there is enough stored data to run the desired simulation step\n",
    "        num_data_available = int(len(self.Qdot) / freq)\n",
    "        if num_steps > num_data_available:\n",
    "            raise ValueError(f\"Number of steps for the simulation ({num_steps}) must be smaller or equal to number of available stored data ({num_data_available}).\")\n",
    "        \n",
    "\n",
    "        print(\"Heat diffusivity:\", incl_diffusivity) \n",
    "        print(\"Heat losses:\",incl_heat_loss)\n",
    "        print(\"Fast Buoyancy, direct charging qdot:\",incl_fast_buoyancy)\n",
    "        print(\"Slow Buoyancy:\",incl_slow_buoyancy)\n",
    "\n",
    "        # Mass balance:\n",
    "        # Calculate mdot balance\n",
    "        mdot_balance = np.sum(self.mdot, axis=1)      # Compute the sum of vector mdot containing ONE input or output per layer\n",
    "\n",
    "\n",
    "        # Check if mdot_balance is not equal to 0\n",
    "        non_zero_indices = np.where(mdot_balance != 0)[0]  # Get indices where mdot_balance is not zero\n",
    "\n",
    "        if non_zero_indices.size > 0:\n",
    "            error_message = f\"mdot_balance must be equal to 0 (mass conservation, stationary system for all time steps). Errors at time steps: {non_zero_indices}, values: {mdot_balance[non_zero_indices]}\"\n",
    "            raise ValueError(error_message)\n",
    "\n",
    "        T_old = np.copy(self.T_initial)\n",
    "        results = [T_old.copy()]                    # Store initial temperature array\n",
    "\n",
    "\n",
    "        for k in range(num_steps):\n",
    "            \n",
    "\n",
    "            T_new = np.copy(T_old)\n",
    "\n",
    "            T_old_next = np.roll(T_old, -1)         # roll every i by -1 so that the \"next\" i is selected\n",
    "            T_old_prev = np.roll(T_old, 1)          # roll every i by 1 so that the \"previous\" i is selected\n",
    "\n",
    "            \n",
    "            ####### Separate Qdot into charging and discharging vectors\n",
    "            Qdot_charging = np.where(self.Qdot[k*freq] > 0, self.Qdot[k*freq], 0)\n",
    "            Qdot_discharging = np.where(self.Qdot[k*freq] < 0, self.Qdot[k*freq], 0)\n",
    "\n",
    "            ####### Separate mdot into incoming and outgoing vectors, only incoming can charge/discharge\n",
    "            mdot_in = np.where(self.mdot[k*freq] > 0, self.mdot[k*freq], 0)         # vector with only positive mdots\n",
    "            mdot_out = np.where(self.mdot[k*freq] < 0, self.mdot[k*freq], 0)        # vector with only negative mdots\n",
    "            Tm_in = np.where(self.mdot[k*freq] > 0, self.Tm[k*freq], 0)             # vector with the temperature of the inflowing (+) streams mdot\n",
    "\n",
    "        \n",
    "            # Initiate matrices with layer infos\n",
    "            matrix_l = np.tile(T_old, (len(T_old), 1))      # create matrix with T as columns for len(T) rows (T_i const as row)\n",
    "            matrix_i = matrix_l.T                           # create matrix with T as row for len(T) columns (T_l const as column)\n",
    "            matrix_Tm = np.tile(Tm_in, (len(Tm_in), 1))      # create matrix with Tm as columns for len(T) rows (Tm_l const as row)\n",
    "\n",
    "            ######## INDIRECT (Qdot)\n",
    "            ##########################\n",
    "            # Initiate vectors fo the buoyancy qdots\n",
    "            Qdot_prime_char = np.zeros(self.num_layers)  # initiate vector with length like number of layers\n",
    "            Qdot_prime_dischar = np.zeros(self.num_layers)  # initiate vector with length like number of layers\n",
    "\n",
    "            ####\n",
    "            # Indir CHARGING\n",
    "            matrix_bool_qchar = np.where(matrix_l >= matrix_i, 1, 0) # check availability of heat exchange to the layer i from layer l\n",
    "\n",
    "            # Selecting the bottom left half (diagonal) of the result_matrix (only layers below i matter)\n",
    "            matrix_nom_qchar = np.tril(matrix_bool_qchar)\n",
    "            # Sum the values in each column, this is the denominator for the factor by which Ql will be multiplied\n",
    "            den_sums_qchar = np.sum(matrix_nom_qchar, axis=0)  # axis 0 are columns\n",
    "            # calculate the facor (distirbution of Ql)\n",
    "            factor_qchar = np.where(den_sums_qchar != 0, 1 / den_sums_qchar, 0)   # calculate 1/sum, prevent division by 0\n",
    "            # Nom * Den for each matrix element\n",
    "            matrix_factor_qchar = matrix_nom_qchar * factor_qchar\n",
    "            # Multiply the factor matrix with the Qdot vector\n",
    "            matrix_qchar = matrix_factor_qchar * Qdot_charging\n",
    "            # The total amount of Qdot_prime for each layer is the sum of the rows of matrix_char\n",
    "            Qdot_prime_char = np.sum(matrix_qchar, axis=1)   # axis 1 are rows\n",
    "            \n",
    "            ####\n",
    "            # Indir DISCHARGING\n",
    "            matrix_bool_qdischar = np.where(matrix_i >= matrix_l, 1, 0) # check availability of heat exchange to the layer i from layer l\n",
    "            # Selecting the top right half (diagonal) of the result_matrix (only layers above i matter)\n",
    "            matrix_nom_qdischar = np.triu(matrix_bool_qdischar)\n",
    "\n",
    "            # Sum the values in each column, this is the denominator for the factor by which Ql will be multiplied\n",
    "            den_sums_qdischar = np.sum(matrix_nom_qdischar, axis=0)  # axis 0 are columns\n",
    "            # calculate the facor (distirbution of Ql)\n",
    "            factor_qdischar = np.where(den_sums_qdischar != 0, 1 / den_sums_qdischar, 0)   # calculate 1/sum, prevent division by 0\n",
    "\n",
    "            # Nom * Den for each matrix element\n",
    "            matrix_factor_qdischar = matrix_nom_qdischar * factor_qdischar\n",
    "            # Multiply the factor matrix with the Qdot vector\n",
    "            matrix_qdischar = matrix_factor_qdischar * Qdot_discharging\n",
    "            # The total amount of Qdot_prime for each layer is the sum of the rows of matrix_char\n",
    "            Qdot_prime_dischar = np.sum(matrix_qdischar, axis=1)   # axis 1 are rows\n",
    "            \n",
    "            ######## DIRECT (mdot)\n",
    "            #############################\n",
    "            # Initiate vectors for charging and discharging\n",
    "            mdot_prime_char = np.zeros(self.num_layers)  # initiate vector with length like number of layers\n",
    "            mdot_prime_dischar = np.zeros(self.num_layers)  # initiate vector with length like number of layers\n",
    "            mdot_in_char_tot = np.zeros(self.num_layers)    # initiate vector: the total amount of mass streaming into i through charging mdots in l will be saved here\n",
    "            mdot_in_dischar_tot = np.zeros(self.num_layers)    # initiate vector: the total amount of mass streaming into i through discharging mdots in l will be saved here\n",
    "            mdot_in_tot = np.zeros(self.num_layers)            # initiate vector: total amount of mdot flowing into layer i (charge+discharge incl buoyancy)\n",
    "\n",
    "            ####\n",
    "            # dir CHARGING\n",
    "            matrix_diff_mchar = matrix_Tm - matrix_i\n",
    "            matrix_bool_mchar = np.tril(np.where(matrix_diff_mchar > 0, 1, 0)) # check availability of heat exchange to the layer i from layer l\n",
    "            # Selecting the bottom left half (diagonal) of the result_matrix (only layers below i matter)\n",
    "            matrix_nom_mchar = matrix_diff_mchar * matrix_bool_mchar # np.tril(np.where(matrix_diff_mchar > 0, matrix_diff_mchar, 0)) # check availability of heat exchange to the layer i from layer l\n",
    "            # Distribution of mdot_l: Sum the values in each column, this is the denominator for the factor by which mdotl will be multiplied\n",
    "            den_sums_mchar = np.sum(matrix_bool_mchar, axis=0)  # axis 0 are columns\n",
    "            # calculate the factor (distirbution of mdot_l)\n",
    "\n",
    "            factor_mchar = np.where(den_sums_mchar != 0, (1 / den_sums_mchar), 0)   # calculate 1/sum, prevent division by 0\n",
    "            # Nom * Den for each matrix element\n",
    "            matrix_bool_factor_mchar = matrix_bool_mchar * factor_mchar\n",
    "            mdot_in_char_tot = np.sum(matrix_bool_factor_mchar*mdot_in, axis=1)\n",
    "            matrix_factor_mchar = matrix_nom_mchar * factor_mchar\n",
    "            # Multiply the factor matrix with the mdot vector\n",
    "            matrix_mchar = matrix_factor_mchar * mdot_in\n",
    "            # The total amount of mdot_prime for each layer is the sum of the rows of matrix_char\n",
    "\n",
    "            mdot_prime_char = np.sum(matrix_mchar, axis=1)   # axis 1 are rows\n",
    "\n",
    "            \"\"\"\n",
    "            ####\n",
    "            # dir DISCHARGING\n",
    "            matrix_diff_mdischar = matrix_i - matrix_Tm\n",
    "            matrix_bool_mdischar = np.triu(np.where(matrix_diff_mdischar > 0, 1, 0)) # check availability of heat exchange to the layer i from layer Tm l\n",
    "            # Selecting the top right half (diagonal) of the result_matrix (only layers above i matter)\n",
    "            matrix_nom_mdischar = matrix_diff_mdischar * matrix_bool_mdischar # check availability of heat exchange to the layer i from layer l\n",
    "            # Distribution of mdot_l: Sum the values in each column, this is the denominator for the factor by which mdotl will be multiplied\n",
    "            den_sums_mdischar = np.sum(matrix_bool_mdischar, axis=0)  # axis 0 are columns\n",
    "            # calculate the factor (distirbution of mdot_l)\n",
    "\n",
    "            factor_mdischar = np.where(den_sums_mdischar != 0, (1 / den_sums_mdischar), 0)   # calculate 1/sum, prevent division by 0\n",
    "            # Nom * Den for each matrix element\n",
    "            matrix_bool_factor_mdischar = matrix_bool_mdischar * factor_mdischar\n",
    "            mdot_in_dischar_tot = np.sum(matrix_bool_factor_mdischar*mdot_in, axis=1)\n",
    "            matrix_factor_mdischar = matrix_nom_mdischar * factor_mdischar\n",
    "            # Multiply the factor matrix with the mdot vector\n",
    "            matrix_mdischar = matrix_factor_mdischar * mdot_in\n",
    "            # The total amount of mdot_prime for each layer is the sum of the rows of matrix_char\n",
    "\n",
    "            mdot_prime_dischar = np.sum(matrix_mdischar, axis=1)   # axis 1 are rows\"\"\"\n",
    "            \n",
    "            for i in range(self.num_layers):                    # iterate over all layers to calculate the actual heat of each layer Qdot_prime_char[0, 1, 2...]\n",
    "                # DIRECT DISCHARGING OF LAYER i: entering hot stream\n",
    "                mdot_sum_dischar = 0                                    # initiale the sum factor for calculating Qdot_prime_charge i\n",
    "                mdot_in_dischar = 0\n",
    "                mdot_in_dischar_sum = 0\n",
    "            \n",
    "            \n",
    "                for l in range(i, self.num_layers):                            # iterate l from bottom layer (o) until current layer i (incl) to evaluate how heat inserted below in l affects layer i if buoyancy is present\n",
    "                    nom=0                                           # initialize nominator for inspection of heat in layer l in relationship to layer i\n",
    "                    den=0                                       # initialize denominator for inspection of heat in layer l in relationship to layer i\n",
    "\n",
    "                    nom= step(T_old[i], Tm_in[l])# * (Tm_in[l] - T_old[i])                # evaluate if heat transfer is available (1) or not (0) with Step ----- Tl>=Ti -> 1, layer below is hoter than i\n",
    "\n",
    "                    for j in range(l+1):       # iterate over layers starting from l and above until top of tank to evaluate the share of heat in layer l (homogenous distribution)\n",
    "                        den += step(T_old[j], Tm_in[l])          # sum up to calculate the denominator and thus the share\n",
    "                    den = np.where(den == 0, 1, den)                  # prevent divisions by 0    \n",
    "                    mdot_in_dischar = mdot_in[l] * nom / den\n",
    "                    mdot_in_dischar_sum += mdot_in_dischar\n",
    "                    mdot_sum_dischar += mdot_in_dischar * (Tm_in[l] - T_old[i])    # amount of heat transfered to layer i is the sum of all heat below layer i and its share that have buoyancy effects    \n",
    "                \n",
    "                mdot_in_dischar_tot[i] = mdot_in_dischar_sum  \n",
    "                mdot_prime_dischar[i] = mdot_sum_dischar\n",
    "                \n",
    "                mdot_in_tot[i] = mdot_in_char_tot[i] + mdot_in_dischar_tot[i] # total amount of mdot flowing into layer i inlcuding buoyancy effects\n",
    "        \n",
    "            ##### FORCED MIXING\n",
    "            # Calculate mdot mix_in for layer i. Positive means from below to above (i-1 -> i). i=0 is 0 (outside of tank) and i=N+1= 0 (outside of tank)\n",
    "            mdot_mix_in = np.zeros(self.num_layers+1)\n",
    "            \n",
    "\n",
    "            # Calculate cumulative sum of the differences of the incoming - outgoing streams in each layer\n",
    "            mdot_diff = mdot_in_tot + mdot_out                              # difference of incoming streams (distributed by buoyancy) and outgoing streams (negative in their value)\n",
    "            cumulative_mdot_diff = np.cumsum(mdot_diff)                     # vector containing the cummulation of the sums of the net streams flowing out of the layers below\n",
    "\n",
    "            # Assign cumulative sums to mdot_mix_in (shifted by one position)\n",
    "            mdot_mix_in[1:self.num_layers] = cumulative_mdot_diff[:-1]      # create vector that contains mdot flowing from layer below to layer i. Begins with 0 (since no stream below i=0) and ends with 0\n",
    "\n",
    "            # Initiate vector for resulting mdot_prime\n",
    "            mdot_prime_mix = np.zeros(self.num_layers)\n",
    "\n",
    "            # take only the inflowing streams for each layer into account\n",
    "            for i in range(self.num_layers):\n",
    "                mdot_prime_mix_in_above = 0\n",
    "                mdot_prime_mix_below = 0\n",
    "                \n",
    "                if (-mdot_mix_in[i + 1]) > 0:                               # check if the value for -mdot_mix_in (above) is positive -> stream entering i. negative mdot since the defined direction in the general system is from l to l+1.\n",
    "                    mdot_prime_mix_in_above = (-mdot_mix_in[i + 1]) * (T_old[i + 1] - T_old[i])\n",
    "                    \n",
    "                if (mdot_mix_in[i]) > 0:                                    # check if the value for mdot_mix_in (below) is positive -> stream entering i\n",
    "                    mdot_prime_mix_below = (mdot_mix_in[i]) * (T_old[i - 1] - T_old[i])\n",
    "                    \n",
    "                mdot_prime_mix[i] += mdot_prime_mix_in_above + mdot_prime_mix_below    # total amount of heat portion that will affect each layer by incoming and outflowing mass flows from forced streaming (direct charging/discharging)                        \n",
    "\n",
    "                \n",
    "            #print(f\"mdot_prime_mix{mdot_prime_mix}\")       \n",
    "\n",
    "            ################ Calculate new temperatures after dt\n",
    "            # separate the effects of the model to allow modularity\n",
    "            # initiate arrays\n",
    "            \n",
    "            diffusivity = np.zeros_like(T_old)\n",
    "            heat_loss = np.zeros_like(T_old)\n",
    "            fast_buoyancy_qdot_charge = np.zeros_like(T_old)\n",
    "            fast_buoyancy_qdot_discharge = np.zeros_like(T_old)\n",
    "            fast_buoyancy_mdot_charge = np.zeros_like(T_old)\n",
    "            fast_buoyancy_mdot_discharge = np.zeros_like(T_old)\n",
    "            slow_buoyancy  = np.zeros_like(T_old)\n",
    "\n",
    "            # assing values\n",
    "            diffusivity = ((self.alpha) * (T_old_next - (2*T_old) + T_old_prev) / (self.dz**2))     if incl_diffusivity else 0\n",
    "            heat_loss = (self.beta_i * (self.T_a - T_old))                                          if incl_heat_loss else 0\n",
    "            fast_buoyancy_qdot_charge = ((self.lambda_i/self.dz) * Qdot_prime_char)                 if incl_fast_buoyancy else ((self.lambda_i/self.dz) * self.Qdot[k*freq])\n",
    "            fast_buoyancy_qdot_discharge = ((self.lambda_i/self.dz) * Qdot_prime_dischar)           if incl_fast_buoyancy else 0\n",
    "            fast_buoyancy_mdot_charge = ((self.phi_i/self.dz) * mdot_prime_char)                    if incl_fast_buoyancy else ((self.phi_i/self.dz) * mdot_in * (Tm_in - T_old))\n",
    "            fast_buoyancy_mdot_discharge = ((self.phi_i/self.dz) * mdot_prime_dischar)              if incl_fast_buoyancy else 0 \n",
    "            slow_buoyancy = ((0.5 * np.maximum(0,(T_old_prev - T_old)))                \n",
    "                            - (0.5 * np.maximum(0,(T_old - T_old_next))))                                if incl_slow_buoyancy else 0\n",
    "            mix_mdot_internal = ((self.phi_i/self.dz) * mdot_prime_mix)\n",
    "            \n",
    "            \n",
    "\n",
    "            T_new = (T_old\n",
    "                     + (diffusivity\n",
    "                        + heat_loss\n",
    "                        + fast_buoyancy_qdot_charge\n",
    "                        + fast_buoyancy_qdot_discharge\n",
    "                        + fast_buoyancy_mdot_charge\n",
    "                        + fast_buoyancy_mdot_discharge\n",
    "                        + mix_mdot_internal\n",
    "                     )* self.dt\n",
    "                     + slow_buoyancy\n",
    "                    ) \n",
    "            \n",
    "            #### Boundary conditions\n",
    "            ### bottom of the tank (i=0)\n",
    "\n",
    "            # separate the effects of the model to allow modularity\n",
    "            diffusivity_bottom = ((self.alpha) * (T_old[1] - (2*T_old[0]) + T_old[0]) / (self.dz**2))   if incl_diffusivity else 0\n",
    "            heat_loss_bottom = ((self.beta_i + self.beta_bottom) * (self.T_a - T_old[0]))               if incl_heat_loss else 0\n",
    "            fast_buoyancy_qdot_charge_bottom = ((self.lambda_i/self.dz) * Qdot_prime_char[0])           if incl_fast_buoyancy else ((self.lambda_i/self.dz) * self.Qdot[k*freq][0])\n",
    "            fast_buoyancy_qdot_discharge_bottom = ((self.lambda_i/self.dz) * Qdot_prime_dischar[0])     if incl_fast_buoyancy else 0 \n",
    "            fast_buoyancy_mdot_charge_bottom = ((self.phi_i/self.dz) * mdot_prime_char[0])              if incl_fast_buoyancy else ((self.phi_i/self.dz) * mdot_in[0] * (Tm_in[0] - T_old[0]))\n",
    "            fast_buoyancy_mdot_discharge_bottom = ((self.phi_i/self.dz) * mdot_prime_dischar[0])        if incl_fast_buoyancy else 0\n",
    "            mix_mdot_internal_bottom = ((self.phi_i/self.dz) * mdot_prime_mix[0])\n",
    "            slow_buoyancy_bottom = (- 0.5 * np.maximum(0,(T_old[0] - T_old[1])))     if incl_slow_buoyancy else 0\n",
    "            \n",
    "            T_new[0] = (T_old[0]\n",
    "                     + (diffusivity_bottom\n",
    "                        + heat_loss_bottom\n",
    "                        + fast_buoyancy_qdot_charge_bottom\n",
    "                        + fast_buoyancy_qdot_discharge_bottom\n",
    "                        + fast_buoyancy_mdot_charge_bottom\n",
    "                        + fast_buoyancy_mdot_discharge_bottom\n",
    "                        + mix_mdot_internal_bottom\n",
    "                     )* self.dt\n",
    "                     + slow_buoyancy_bottom\n",
    "                    ) \n",
    "           \n",
    "            ### top of the tank (i=-1)\n",
    "\n",
    "            # separate the effects of the model to allow modularity\n",
    "            diffusivity_top = ((self.alpha) * (T_old[-1] - (2*T_old[-1]) + T_old[-2]) / (self.dz**2))       if incl_diffusivity else 0\n",
    "            heat_loss_top = ((self.beta_i + self.beta_top)* (self.T_a - T_old[-1]))                         if incl_heat_loss else 0\n",
    "            fast_buoyancy_qdot_charge_top = ((self.lambda_i/self.dz) * Qdot_prime_char[-1])                 if incl_fast_buoyancy else ((self.lambda_i/self.dz) * self.Qdot[k*freq][-1])\n",
    "            fast_buoyancy_qdot_discharge_top = ((self.lambda_i/self.dz) * Qdot_prime_dischar[-1])           if incl_fast_buoyancy else 0 \n",
    "            fast_buoyancy_mdot_charge_top = ((self.phi_i/self.dz) * mdot_prime_char[-1])                    if incl_fast_buoyancy else ((self.phi_i/self.dz) * mdot_in[-1] * (Tm_in[-1] - T_old[1]))\n",
    "            fast_buoyancy_mdot_discharge_top = ((self.phi_i/self.dz) * mdot_prime_dischar[-1])              if incl_fast_buoyancy else 0\n",
    "            mix_mdot_internal_top = ((self.phi_i/self.dz) * mdot_prime_mix[-1])\n",
    "            slow_buoyancy_top = (0.5 * np.maximum(0,((T_old[-2] - T_old[-1]))))            if incl_slow_buoyancy else 0\n",
    "            \n",
    "            T_new[-1] = (T_old[-1]\n",
    "                     + (diffusivity_top\n",
    "                        + heat_loss_top\n",
    "                        + fast_buoyancy_qdot_charge_top\n",
    "                        + fast_buoyancy_qdot_discharge_top\n",
    "                        + fast_buoyancy_mdot_charge_top\n",
    "                        + fast_buoyancy_mdot_discharge_top\n",
    "                        + mix_mdot_internal_top\n",
    "                     )* self.dt\n",
    "                     + slow_buoyancy_top\n",
    "                    ) \n",
    "\n",
    "\n",
    "            T_old = np.copy(T_new) # return the new temperature as old temperature for the next iteration\n",
    "\n",
    "            results.append(T_old.copy())            # Store the updated temperature array fo later plot\n",
    "\n",
    "        return T_old, results\n",
    "     \n",
    " # check the stability of the model with the selected dt\n",
    "    def stability_check(self):\n",
    "        # check if the time step dt is small enough with CFL condition: dt <= (dz^2) / (2 * alpha)\n",
    "        cfl_dt_max = (self.dz ** 2) / (2 * self.alpha)\n",
    "        if self.dt > cfl_dt_max:\n",
    "            print(f\"Warning: Time step size dt {self.dt} exceeds CFL stability limit ({cfl_dt_max}).\")\n",
    "            sc = 1\n",
    "        else:\n",
    "            sc = 0\n",
    "        return sc\n",
    "\n",
    "\n",
    "# MODEL 5 - fast buoy (mdot - integrated)\n",
    "\"\"\"tank_vector5o = HeatDistributionVector_model5(alpha, beta_i, beta_bottom, beta_top, lambda_i, phi_i, z, T_a, T_zero, dt, Qdot, mdot, Tm)\n",
    "stability5o = tank_vector5o.stability_check()\n",
    "if (stability5o == 0):\n",
    "    # Solve for the temperatures\n",
    "    final_temperature5o, results5o = tank_vector5o.vector_solve(num_steps, \n",
    "                                                                incl_diffusivity=False,\n",
    "                                                                incl_heat_loss=False,\n",
    "                                                                incl_fast_buoyancy=False,\n",
    "                                                                incl_slow_buoyancy=False)\n",
    "    # Plot the results\n",
    "    plot_results_height(results5o, tank_vector5o.heights, dt, z, dz, \"Layer temperatures over tank height. M5o: integrated direct charging\")\"\"\"\n",
    "\n",
    "\n",
    "\n",
    "\n",
    "tank_vector5 = HeatDistributionVector_model5(alpha, beta_i, beta_bottom, beta_top, lambda_i, phi_i, z, T_a, T_zero, dt, Qdot, mdot, Tm)\n",
    "stability5 = tank_vector5.stability_check()\n",
    "if (stability5 == 0):\n",
    "    # Solve for the temperatures\n",
    "    final_temperature5, results5 = tank_vector5.vector_solve(num_steps, \n",
    "                                                             incl_diffusivity=True,\n",
    "                                                             incl_heat_loss=True,\n",
    "                                                             incl_fast_buoyancy=True,\n",
    "                                                             incl_slow_buoyancy=True)\n",
    "    # Plot the results\n",
    "    plot_results_height(results5, tank_vector5.heights, dt, z, dz, \"Layer temperatures over tank height. M5: integrated direct charging\")\n",
    "    plot_results_time(results5, dt, \"M4: fast buoyancy (only indirect charging), Temperature development of each layer over time.)\")\n",
    "\n",
    "\n"
   ]
  }
 ],
 "metadata": {
  "kernelspec": {
   "display_name": "Python 3",
   "language": "python",
   "name": "python3"
  },
  "language_info": {
   "codemirror_mode": {
    "name": "ipython",
    "version": 3
   },
   "file_extension": ".py",
   "mimetype": "text/x-python",
   "name": "python",
   "nbconvert_exporter": "python",
   "pygments_lexer": "ipython3",
   "version": "3.11.9"
  }
 },
 "nbformat": 4,
 "nbformat_minor": 2
}
